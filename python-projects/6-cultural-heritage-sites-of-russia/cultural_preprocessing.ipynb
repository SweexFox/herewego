{
  "cells": [
    {
      "cell_type": "markdown",
      "metadata": {
        "id": "57542de9-f51f-4e10-8c57-3be683bd4b48"
      },
      "source": [
        "# Объекты культурного наследия народов Российской Федерации"
      ],
      "id": "57542de9-f51f-4e10-8c57-3be683bd4b48"
    },
    {
      "cell_type": "markdown",
      "metadata": {
        "id": "dc1d3ef4-b95a-4258-8a1b-f2ddbf777335"
      },
      "source": [
        "## Введение"
      ],
      "id": "dc1d3ef4-b95a-4258-8a1b-f2ddbf777335"
    },
    {
      "cell_type": "markdown",
      "metadata": {
        "id": "6bc02928-55cd-4e73-aa12-3489426a1b5d"
      },
      "source": [
        "Используя [портал открытых данных](https://opendata.mkrf.ru/opendata/7705851331-egrkn) министерства культуры Российской Федерации, был получен датасет `data-51-structure-6.csv` со списком объектов культурного наследия.\\\n",
        "Это последняя, актуальная редакция, версия $51$.\\\n",
        "Предоставлены данные за декабрь $2023$ года."
      ],
      "id": "6bc02928-55cd-4e73-aa12-3489426a1b5d"
    },
    {
      "cell_type": "markdown",
      "source": [
        "**Цель:** провести предобработку датасета, чтобы он был пригодным для анализа.\n",
        "\n",
        "**Задачи и план действий:**\n",
        "\n",
        "- Обзор данных\n",
        "- Предобработка данных\n",
        "    - Работа с колонками\n",
        "        - Удаление колонок с пропусками 90% и выше\n",
        "        - Преобразование JSON данных\n",
        "        - Удаление колонок, появившихся после преобразования JSON\n",
        "- Обзор колонок\n",
        "- Предобработка данных\n",
        "    - Работа с колонками\n",
        "        - Удаление ненужных колонок\n",
        "        - Переименование колонок\n",
        "        - Изменение типов данных\n",
        "    - Пропущенные значения\n",
        "    - Дублирующие значения\n",
        "- Рефлексия\n",
        "- Резюме по предобработке данных"
      ],
      "metadata": {
        "id": "UBphjy9Tq4MB"
      },
      "id": "UBphjy9Tq4MB"
    },
    {
      "cell_type": "markdown",
      "metadata": {
        "id": "efae3794-0118-437a-8bb1-72e6ec856ffd"
      },
      "source": [
        "<br>"
      ],
      "id": "efae3794-0118-437a-8bb1-72e6ec856ffd"
    },
    {
      "cell_type": "markdown",
      "metadata": {
        "id": "cbbd2c26-25ae-4462-8b53-2274a4c52876"
      },
      "source": [
        "## Обзор данных"
      ],
      "id": "cbbd2c26-25ae-4462-8b53-2274a4c52876"
    },
    {
      "cell_type": "markdown",
      "metadata": {
        "id": "083b5f16-0e95-402a-9df0-e5b8060ebe5a"
      },
      "source": [
        "Импортируем нужные библиотеки и зададим опции."
      ],
      "id": "083b5f16-0e95-402a-9df0-e5b8060ebe5a"
    },
    {
      "cell_type": "code",
      "execution_count": 1,
      "metadata": {
        "id": "bb4ab3ad-8532-4eb8-b139-415424e272f5",
        "colab": {
          "base_uri": "https://localhost:8080/"
        },
        "outputId": "de67f2dd-4a5f-472e-e4f0-27577119f100"
      },
      "outputs": [
        {
          "output_type": "stream",
          "name": "stdout",
          "text": [
            "Drive already mounted at /content/drive; to attempt to forcibly remount, call drive.mount(\"/content/drive\", force_remount=True).\n"
          ]
        }
      ],
      "source": [
        "# импорт библиотек и модулей\n",
        "\n",
        "# базовые\n",
        "import pandas as pd\n",
        "import numpy as np\n",
        "\n",
        "# дополнительные\n",
        "import json\n",
        "import re\n",
        "\n",
        "# подключение к google drive\n",
        "from google.colab import drive\n",
        "drive.mount('/content/drive')\n",
        "\n",
        "# неограниченное количество колонок в выводе\n",
        "pd.set_option('display.max_columns', None)"
      ],
      "id": "bb4ab3ad-8532-4eb8-b139-415424e272f5"
    },
    {
      "cell_type": "markdown",
      "metadata": {
        "id": "4ddf3797-af67-4c58-9712-3c7c109dce51"
      },
      "source": [
        "Прочитаем файл из облачного хранилища Google Drive.\\\n",
        "К сожалению, из-за очень большого размера csv-файла ($522$ Мб) возникают трудности с чтением файла при ином способе импорта."
      ],
      "id": "4ddf3797-af67-4c58-9712-3c7c109dce51"
    },
    {
      "cell_type": "code",
      "execution_count": 2,
      "metadata": {
        "id": "bda01bdb-810f-4f2a-94fc-e5ee874687f3"
      },
      "outputs": [],
      "source": [
        "# чтение файла из google drive\n",
        "path = '/content/drive/MyDrive/Colab Datasets/data-51-structure-6.csv'\n",
        "df = pd.read_csv(path, low_memory=False)"
      ],
      "id": "bda01bdb-810f-4f2a-94fc-e5ee874687f3"
    },
    {
      "cell_type": "markdown",
      "source": [
        "Посмотрим общий объём памяти в мегабайтах, который занимает датафрейм."
      ],
      "metadata": {
        "id": "huffGccHmBmM"
      },
      "id": "huffGccHmBmM"
    },
    {
      "cell_type": "code",
      "source": [
        "# метод находит общий объём в байтах, который занимает датафрейм;\n",
        "# произведение в скобках высчитывает кол-во байт в одном мегабайте\n",
        "mem_us_before = df.memory_usage(deep=True).sum() / (1024 * 1024)\n",
        "mem_us_before"
      ],
      "metadata": {
        "colab": {
          "base_uri": "https://localhost:8080/"
        },
        "id": "ggTP9JO9mAwC",
        "outputId": "6beb9201-d6fc-4669-ca43-22cc6714d9fe"
      },
      "id": "ggTP9JO9mAwC",
      "execution_count": 3,
      "outputs": [
        {
          "output_type": "execute_result",
          "data": {
            "text/plain": [
              "830.1200323104858"
            ]
          },
          "metadata": {},
          "execution_count": 3
        }
      ]
    },
    {
      "cell_type": "markdown",
      "source": [
        "Результат: $830$ Мегабайтов."
      ],
      "metadata": {
        "id": "yEaUmhKqMQ-1"
      },
      "id": "yEaUmhKqMQ-1"
    },
    {
      "cell_type": "markdown",
      "metadata": {
        "id": "44e70ec5-6552-41cc-98c2-e9396d7423b3"
      },
      "source": [
        "Взглянем на таблицу."
      ],
      "id": "44e70ec5-6552-41cc-98c2-e9396d7423b3"
    },
    {
      "cell_type": "code",
      "execution_count": 4,
      "metadata": {
        "colab": {
          "base_uri": "https://localhost:8080/",
          "height": 660
        },
        "id": "c60cf4a4-8a33-4c6e-b515-d0fe6c451477",
        "outputId": "adce5026-66d6-45d2-86e7-0676c4560dc9"
      },
      "outputs": [
        {
          "output_type": "execute_result",
          "data": {
            "text/plain": [
              "                                              Объект  Номер в реестре  \\\n",
              "0  Дом, в котором в 1917 г. находился Совет рабоч...  671510201120006   \n",
              "1                                 Дом Ф.Д. Маштакова  571410013830005   \n",
              "2                                          Дом жилой  671510200540005   \n",
              "3                       Памятник Александру Невскому  761310302740006   \n",
              "4  Здание городского торгового корпуса, где 14 де...  541510302250006   \n",
              "\n",
              "   название улицы  Комментарий  Идентификатор дома в ФИАС  FiasAuxSubobjId  \\\n",
              "0             NaN          NaN                        NaN              NaN   \n",
              "1             NaN          NaN                        NaN              NaN   \n",
              "2             NaN          NaN                        NaN              NaN   \n",
              "3             NaN          NaN                        NaN              NaN   \n",
              "4             NaN          NaN                        NaN              NaN   \n",
              "\n",
              "   FiasAuxObjId  Идентификатор улицы в ФИАС  \\\n",
              "0           NaN                         NaN   \n",
              "1           NaN                         NaN   \n",
              "2           NaN                         NaN   \n",
              "3           NaN                         NaN   \n",
              "4           NaN                         NaN   \n",
              "\n",
              "   Идентификатор населенного пункта в ФИАС  \\\n",
              "0                                      NaN   \n",
              "1                                      NaN   \n",
              "2                                      NaN   \n",
              "3                                      NaN   \n",
              "4                                      NaN   \n",
              "\n",
              "   Идентификатор внутрегородской территории в ФИАС  \\\n",
              "0                                              NaN   \n",
              "1                                              NaN   \n",
              "2                                              NaN   \n",
              "3                                              NaN   \n",
              "4                                              NaN   \n",
              "\n",
              "   Идентификатор города в ФИАС  \\\n",
              "0                          NaN   \n",
              "1                          NaN   \n",
              "2                          NaN   \n",
              "3                          NaN   \n",
              "4                          NaN   \n",
              "\n",
              "   Идентификатор городских и сельских поселений в ФИАС  \\\n",
              "0                                                NaN     \n",
              "1                                                NaN     \n",
              "2                                                NaN     \n",
              "3                                                NaN     \n",
              "4                                                NaN     \n",
              "\n",
              "   Идентификатор района в ФИАС  Идентификатор автономного округа в ФИАС  \\\n",
              "0                          NaN                                      NaN   \n",
              "1                          NaN                                      NaN   \n",
              "2                          NaN                                      NaN   \n",
              "3                          NaN                                      NaN   \n",
              "4                          NaN                                      NaN   \n",
              "\n",
              "   Идентификатор региона в ФИАС  Идентификатор страны в ФИАС  \\\n",
              "0                           NaN                          NaN   \n",
              "1                           NaN                          NaN   \n",
              "2                           NaN                          NaN   \n",
              "3                           NaN                          NaN   \n",
              "4                           NaN                          NaN   \n",
              "\n",
              "                                        Полный адрес  \\\n",
              "0  Смоленская область. г. Смоленск, ул. Октябрьск...   \n",
              "1  Новосибирская область, г. Новосибирск, Централ...   \n",
              "2  Смоленская область, г. Смоленск, ул. Коммунист...   \n",
              "3  Ярославская область, г. Переславль-Залесский, ...   \n",
              "4  Новосибирская область, г. Новосибирск, Красный...   \n",
              "\n",
              "                                            На карте  Id-Регион  \\\n",
              "0  {\"coordinates\":[32.04383481349142,54.780875011...         67   \n",
              "1  {\"coordinates\":[82.921885,55.022711],\"type\":\"P...         54   \n",
              "2  {\"coordinates\":[32.0563380846552,54.7802279058...         67   \n",
              "3                                                NaN         76   \n",
              "4  {\"coordinates\":[82.920241,55.028734],\"type\":\"P...         54   \n",
              "\n",
              "                  Регион учетный номер  \\\n",
              "0     Смоленская область        67-292   \n",
              "1  Новосибирская область        54-797   \n",
              "2     Смоленская область        67-939   \n",
              "3    Ярославская область        76-554   \n",
              "4  Новосибирская область          54-2   \n",
              "\n",
              "   Id-Категория историко-культурного значения  \\\n",
              "0                                           1   \n",
              "1                                           2   \n",
              "2                                           2   \n",
              "3                                           1   \n",
              "4                                           1   \n",
              "\n",
              "  Категория историко-культурного значения  \\\n",
              "0                   Федерального значения   \n",
              "1                  Регионального значения   \n",
              "2                  Регионального значения   \n",
              "3                   Федерального значения   \n",
              "4                   Федерального значения   \n",
              "\n",
              "   Id-Тип объекта культурного наследия  Тип объекта культурного наследия  \\\n",
              "0                                  NaN                               NaN   \n",
              "1                                  NaN                               NaN   \n",
              "2                                  NaN                               NaN   \n",
              "3                                  NaN                               NaN   \n",
              "4                                  NaN                               NaN   \n",
              "\n",
              "   Id-Вид объекта Вид объекта  \\\n",
              "0               1    Памятник   \n",
              "1               1    Памятник   \n",
              "2               1    Памятник   \n",
              "3               1    Памятник   \n",
              "4               1    Памятник   \n",
              "\n",
              "                            описание предмета охраны  \\\n",
              "0  Предметом охраны объекта культурного наследия ...   \n",
              "1  1. Объемно-планировочное решение и габариты зд...   \n",
              "2  Предметом охраны объекта культурного наследия ...   \n",
              "3  Предметом охраны объекта культурного наследия ...   \n",
              "4  1. Объемно-планировочное решение, форма и габа...   \n",
              "\n",
              "                           текстовое описание границ  \\\n",
              "0                                                NaN   \n",
              "1  Граница территории объекта культурного наследи...   \n",
              "2  Граница территории идет:  - от исходной поворо...   \n",
              "3  Граница территории объекта культурного наследи...   \n",
              "4  Граница территории объекта культурного наследи...   \n",
              "\n",
              "                     Id-общая видовая принадлежность  \\\n",
              "0            [{\"id\":\"2\",\"value\":\"Памятник истории\"}]   \n",
              "1  [{\"id\":\"3\",\"value\":\"Памятник градостроительств...   \n",
              "2  [{\"id\":\"3\",\"value\":\"Памятник градостроительств...   \n",
              "3          [{\"id\":\"4\",\"value\":\"Памятник искусства\"}]   \n",
              "4            [{\"id\":\"2\",\"value\":\"Памятник истории\"}]   \n",
              "\n",
              "   Id-Принадлежность к Юнеско Принадлежность к Юнеско  Id-Особо ценный объект  \\\n",
              "0                           2                     нет                       2   \n",
              "1                           2                     нет                       2   \n",
              "2                           2                     нет                       2   \n",
              "3                           2                     нет                       2   \n",
              "4                           2                     нет                       2   \n",
              "\n",
              "  Особо ценный объект  идентификатор ансамбля дата создания  GeoId   X   Y  \\\n",
              "0                 нет                     NaN           NaN    NaN NaN NaN   \n",
              "1                 нет                     NaN       1903 г.    NaN NaN NaN   \n",
              "2                 нет                     NaN    нач. XX в.    NaN NaN NaN   \n",
              "3                 нет                     NaN       1958 г.    NaN NaN NaN   \n",
              "4                 нет                     NaN       1917 г.    NaN NaN NaN   \n",
              "\n",
              "                              наименование документа  \\\n",
              "0  [{\"name\":\"Постановление Совета Министров РСФСР...   \n",
              "1  [{\"name\":\"Постановление Главы Администрации Но...   \n",
              "2  [{\"name\":\"Решение Смоленской областной Думы\",\"...   \n",
              "3  [{\"name\":\"Постановление Совета Министров РСФСР...   \n",
              "4  [{\"name\":\"Постановление Совета Министров РСФСР...   \n",
              "\n",
              "                                         Изображение  \\\n",
              "0  {\"url\":\"https://okn-mk.mkrf.ru/maps/show/id/12...   \n",
              "1  {\"url\":\"https://okn-mk.mkrf.ru/maps/show/id/35...   \n",
              "2                                                NaN   \n",
              "3  {\"url\":\"https://okn-mk.mkrf.ru/maps/show/id/41...   \n",
              "4  {\"url\":\"https://okn-mk.mkrf.ru/maps/show/id/12...   \n",
              "\n",
              "           зоны охраны и режимы использования земель  \\\n",
              "0                                                NaN   \n",
              "1  Объект культурного наследия расположен в охран...   \n",
              "2                                                NaN   \n",
              "3                                                NaN   \n",
              "4                                                NaN   \n",
              "\n",
              "                                               Items  Id - идентификатор  \\\n",
              "0                                                NaN              147449   \n",
              "1  [{\"coordinates\":[[55.022675,82.92171667000001]...              147450   \n",
              "2                                                NaN              147454   \n",
              "3                                                NaN              147455   \n",
              "4  [{\"coordinates\":[[55.02934722,82.92030833],[55...              147457   \n",
              "\n",
              "  признак актуальности признак публичности  год постановки ОКН на Госохрану  \\\n",
              "0                  NaN                 NaN                              NaN   \n",
              "1                 true                 NaN                           2001.0   \n",
              "2                 true                 NaN                              NaN   \n",
              "3                 true                 NaN                              NaN   \n",
              "4                 true                 NaN                              NaN   \n",
              "\n",
              "   год проведения реставрации параметры, идентифицирующие ФЦП  \\\n",
              "0                         NaN                             NaN   \n",
              "1                         NaN                             NaN   \n",
              "2                         NaN                             NaN   \n",
              "3                         NaN                             NaN   \n",
              "4                         NaN                             NaN   \n",
              "\n",
              "    относительный URL объекта категория объекта дата создания объекта  \\\n",
              "0  /cdm/v2/heritages/1/147449          heritage  2015-10-02T06:46:44Z   \n",
              "1  /cdm/v2/heritages/1/147450          heritage                   NaN   \n",
              "2  /cdm/v2/heritages/1/147454          heritage                   NaN   \n",
              "3  /cdm/v2/heritages/1/147455          heritage                   NaN   \n",
              "4  /cdm/v2/heritages/1/147457          heritage  2015-12-30T11:42:05Z   \n",
              "\n",
              "  дата обновления объекта  \n",
              "0                     NaN  \n",
              "1    2022-01-31T10:47:19Z  \n",
              "2    2023-09-29T09:24:33Z  \n",
              "3    2021-12-23T17:14:05Z  \n",
              "4                     NaN  "
            ],
            "text/html": [
              "\n",
              "  <div id=\"df-cf3de3c4-8444-4860-ab8f-9201dac7e086\" class=\"colab-df-container\">\n",
              "    <div>\n",
              "<style scoped>\n",
              "    .dataframe tbody tr th:only-of-type {\n",
              "        vertical-align: middle;\n",
              "    }\n",
              "\n",
              "    .dataframe tbody tr th {\n",
              "        vertical-align: top;\n",
              "    }\n",
              "\n",
              "    .dataframe thead th {\n",
              "        text-align: right;\n",
              "    }\n",
              "</style>\n",
              "<table border=\"1\" class=\"dataframe\">\n",
              "  <thead>\n",
              "    <tr style=\"text-align: right;\">\n",
              "      <th></th>\n",
              "      <th>Объект</th>\n",
              "      <th>Номер в реестре</th>\n",
              "      <th>название улицы</th>\n",
              "      <th>Комментарий</th>\n",
              "      <th>Идентификатор дома в ФИАС</th>\n",
              "      <th>FiasAuxSubobjId</th>\n",
              "      <th>FiasAuxObjId</th>\n",
              "      <th>Идентификатор улицы в ФИАС</th>\n",
              "      <th>Идентификатор населенного пункта в ФИАС</th>\n",
              "      <th>Идентификатор внутрегородской территории в ФИАС</th>\n",
              "      <th>Идентификатор города в ФИАС</th>\n",
              "      <th>Идентификатор городских и сельских поселений в ФИАС</th>\n",
              "      <th>Идентификатор района в ФИАС</th>\n",
              "      <th>Идентификатор автономного округа в ФИАС</th>\n",
              "      <th>Идентификатор региона в ФИАС</th>\n",
              "      <th>Идентификатор страны в ФИАС</th>\n",
              "      <th>Полный адрес</th>\n",
              "      <th>На карте</th>\n",
              "      <th>Id-Регион</th>\n",
              "      <th>Регион</th>\n",
              "      <th>учетный номер</th>\n",
              "      <th>Id-Категория историко-культурного значения</th>\n",
              "      <th>Категория историко-культурного значения</th>\n",
              "      <th>Id-Тип объекта культурного наследия</th>\n",
              "      <th>Тип объекта культурного наследия</th>\n",
              "      <th>Id-Вид объекта</th>\n",
              "      <th>Вид объекта</th>\n",
              "      <th>описание предмета охраны</th>\n",
              "      <th>текстовое описание границ</th>\n",
              "      <th>Id-общая видовая принадлежность</th>\n",
              "      <th>Id-Принадлежность к Юнеско</th>\n",
              "      <th>Принадлежность к Юнеско</th>\n",
              "      <th>Id-Особо ценный объект</th>\n",
              "      <th>Особо ценный объект</th>\n",
              "      <th>идентификатор ансамбля</th>\n",
              "      <th>дата создания</th>\n",
              "      <th>GeoId</th>\n",
              "      <th>X</th>\n",
              "      <th>Y</th>\n",
              "      <th>наименование документа</th>\n",
              "      <th>Изображение</th>\n",
              "      <th>зоны охраны и режимы использования земель</th>\n",
              "      <th>Items</th>\n",
              "      <th>Id - идентификатор</th>\n",
              "      <th>признак актуальности</th>\n",
              "      <th>признак публичности</th>\n",
              "      <th>год постановки ОКН на Госохрану</th>\n",
              "      <th>год проведения реставрации</th>\n",
              "      <th>параметры, идентифицирующие ФЦП</th>\n",
              "      <th>относительный URL объекта</th>\n",
              "      <th>категория объекта</th>\n",
              "      <th>дата создания объекта</th>\n",
              "      <th>дата обновления объекта</th>\n",
              "    </tr>\n",
              "  </thead>\n",
              "  <tbody>\n",
              "    <tr>\n",
              "      <th>0</th>\n",
              "      <td>Дом, в котором в 1917 г. находился Совет рабоч...</td>\n",
              "      <td>671510201120006</td>\n",
              "      <td>NaN</td>\n",
              "      <td>NaN</td>\n",
              "      <td>NaN</td>\n",
              "      <td>NaN</td>\n",
              "      <td>NaN</td>\n",
              "      <td>NaN</td>\n",
              "      <td>NaN</td>\n",
              "      <td>NaN</td>\n",
              "      <td>NaN</td>\n",
              "      <td>NaN</td>\n",
              "      <td>NaN</td>\n",
              "      <td>NaN</td>\n",
              "      <td>NaN</td>\n",
              "      <td>NaN</td>\n",
              "      <td>Смоленская область. г. Смоленск, ул. Октябрьск...</td>\n",
              "      <td>{\"coordinates\":[32.04383481349142,54.780875011...</td>\n",
              "      <td>67</td>\n",
              "      <td>Смоленская область</td>\n",
              "      <td>67-292</td>\n",
              "      <td>1</td>\n",
              "      <td>Федерального значения</td>\n",
              "      <td>NaN</td>\n",
              "      <td>NaN</td>\n",
              "      <td>1</td>\n",
              "      <td>Памятник</td>\n",
              "      <td>Предметом охраны объекта культурного наследия ...</td>\n",
              "      <td>NaN</td>\n",
              "      <td>[{\"id\":\"2\",\"value\":\"Памятник истории\"}]</td>\n",
              "      <td>2</td>\n",
              "      <td>нет</td>\n",
              "      <td>2</td>\n",
              "      <td>нет</td>\n",
              "      <td>NaN</td>\n",
              "      <td>NaN</td>\n",
              "      <td>NaN</td>\n",
              "      <td>NaN</td>\n",
              "      <td>NaN</td>\n",
              "      <td>[{\"name\":\"Постановление Совета Министров РСФСР...</td>\n",
              "      <td>{\"url\":\"https://okn-mk.mkrf.ru/maps/show/id/12...</td>\n",
              "      <td>NaN</td>\n",
              "      <td>NaN</td>\n",
              "      <td>147449</td>\n",
              "      <td>NaN</td>\n",
              "      <td>NaN</td>\n",
              "      <td>NaN</td>\n",
              "      <td>NaN</td>\n",
              "      <td>NaN</td>\n",
              "      <td>/cdm/v2/heritages/1/147449</td>\n",
              "      <td>heritage</td>\n",
              "      <td>2015-10-02T06:46:44Z</td>\n",
              "      <td>NaN</td>\n",
              "    </tr>\n",
              "    <tr>\n",
              "      <th>1</th>\n",
              "      <td>Дом Ф.Д. Маштакова</td>\n",
              "      <td>571410013830005</td>\n",
              "      <td>NaN</td>\n",
              "      <td>NaN</td>\n",
              "      <td>NaN</td>\n",
              "      <td>NaN</td>\n",
              "      <td>NaN</td>\n",
              "      <td>NaN</td>\n",
              "      <td>NaN</td>\n",
              "      <td>NaN</td>\n",
              "      <td>NaN</td>\n",
              "      <td>NaN</td>\n",
              "      <td>NaN</td>\n",
              "      <td>NaN</td>\n",
              "      <td>NaN</td>\n",
              "      <td>NaN</td>\n",
              "      <td>Новосибирская область, г. Новосибирск, Централ...</td>\n",
              "      <td>{\"coordinates\":[82.921885,55.022711],\"type\":\"P...</td>\n",
              "      <td>54</td>\n",
              "      <td>Новосибирская область</td>\n",
              "      <td>54-797</td>\n",
              "      <td>2</td>\n",
              "      <td>Регионального значения</td>\n",
              "      <td>NaN</td>\n",
              "      <td>NaN</td>\n",
              "      <td>1</td>\n",
              "      <td>Памятник</td>\n",
              "      <td>1. Объемно-планировочное решение и габариты зд...</td>\n",
              "      <td>Граница территории объекта культурного наследи...</td>\n",
              "      <td>[{\"id\":\"3\",\"value\":\"Памятник градостроительств...</td>\n",
              "      <td>2</td>\n",
              "      <td>нет</td>\n",
              "      <td>2</td>\n",
              "      <td>нет</td>\n",
              "      <td>NaN</td>\n",
              "      <td>1903 г.</td>\n",
              "      <td>NaN</td>\n",
              "      <td>NaN</td>\n",
              "      <td>NaN</td>\n",
              "      <td>[{\"name\":\"Постановление Главы Администрации Но...</td>\n",
              "      <td>{\"url\":\"https://okn-mk.mkrf.ru/maps/show/id/35...</td>\n",
              "      <td>Объект культурного наследия расположен в охран...</td>\n",
              "      <td>[{\"coordinates\":[[55.022675,82.92171667000001]...</td>\n",
              "      <td>147450</td>\n",
              "      <td>true</td>\n",
              "      <td>NaN</td>\n",
              "      <td>2001.0</td>\n",
              "      <td>NaN</td>\n",
              "      <td>NaN</td>\n",
              "      <td>/cdm/v2/heritages/1/147450</td>\n",
              "      <td>heritage</td>\n",
              "      <td>NaN</td>\n",
              "      <td>2022-01-31T10:47:19Z</td>\n",
              "    </tr>\n",
              "    <tr>\n",
              "      <th>2</th>\n",
              "      <td>Дом жилой</td>\n",
              "      <td>671510200540005</td>\n",
              "      <td>NaN</td>\n",
              "      <td>NaN</td>\n",
              "      <td>NaN</td>\n",
              "      <td>NaN</td>\n",
              "      <td>NaN</td>\n",
              "      <td>NaN</td>\n",
              "      <td>NaN</td>\n",
              "      <td>NaN</td>\n",
              "      <td>NaN</td>\n",
              "      <td>NaN</td>\n",
              "      <td>NaN</td>\n",
              "      <td>NaN</td>\n",
              "      <td>NaN</td>\n",
              "      <td>NaN</td>\n",
              "      <td>Смоленская область, г. Смоленск, ул. Коммунист...</td>\n",
              "      <td>{\"coordinates\":[32.0563380846552,54.7802279058...</td>\n",
              "      <td>67</td>\n",
              "      <td>Смоленская область</td>\n",
              "      <td>67-939</td>\n",
              "      <td>2</td>\n",
              "      <td>Регионального значения</td>\n",
              "      <td>NaN</td>\n",
              "      <td>NaN</td>\n",
              "      <td>1</td>\n",
              "      <td>Памятник</td>\n",
              "      <td>Предметом охраны объекта культурного наследия ...</td>\n",
              "      <td>Граница территории идет:  - от исходной поворо...</td>\n",
              "      <td>[{\"id\":\"3\",\"value\":\"Памятник градостроительств...</td>\n",
              "      <td>2</td>\n",
              "      <td>нет</td>\n",
              "      <td>2</td>\n",
              "      <td>нет</td>\n",
              "      <td>NaN</td>\n",
              "      <td>нач. XX в.</td>\n",
              "      <td>NaN</td>\n",
              "      <td>NaN</td>\n",
              "      <td>NaN</td>\n",
              "      <td>[{\"name\":\"Решение Смоленской областной Думы\",\"...</td>\n",
              "      <td>NaN</td>\n",
              "      <td>NaN</td>\n",
              "      <td>NaN</td>\n",
              "      <td>147454</td>\n",
              "      <td>true</td>\n",
              "      <td>NaN</td>\n",
              "      <td>NaN</td>\n",
              "      <td>NaN</td>\n",
              "      <td>NaN</td>\n",
              "      <td>/cdm/v2/heritages/1/147454</td>\n",
              "      <td>heritage</td>\n",
              "      <td>NaN</td>\n",
              "      <td>2023-09-29T09:24:33Z</td>\n",
              "    </tr>\n",
              "    <tr>\n",
              "      <th>3</th>\n",
              "      <td>Памятник Александру Невскому</td>\n",
              "      <td>761310302740006</td>\n",
              "      <td>NaN</td>\n",
              "      <td>NaN</td>\n",
              "      <td>NaN</td>\n",
              "      <td>NaN</td>\n",
              "      <td>NaN</td>\n",
              "      <td>NaN</td>\n",
              "      <td>NaN</td>\n",
              "      <td>NaN</td>\n",
              "      <td>NaN</td>\n",
              "      <td>NaN</td>\n",
              "      <td>NaN</td>\n",
              "      <td>NaN</td>\n",
              "      <td>NaN</td>\n",
              "      <td>NaN</td>\n",
              "      <td>Ярославская область, г. Переславль-Залесский, ...</td>\n",
              "      <td>NaN</td>\n",
              "      <td>76</td>\n",
              "      <td>Ярославская область</td>\n",
              "      <td>76-554</td>\n",
              "      <td>1</td>\n",
              "      <td>Федерального значения</td>\n",
              "      <td>NaN</td>\n",
              "      <td>NaN</td>\n",
              "      <td>1</td>\n",
              "      <td>Памятник</td>\n",
              "      <td>Предметом охраны объекта культурного наследия ...</td>\n",
              "      <td>Граница территории объекта культурного наследи...</td>\n",
              "      <td>[{\"id\":\"4\",\"value\":\"Памятник искусства\"}]</td>\n",
              "      <td>2</td>\n",
              "      <td>нет</td>\n",
              "      <td>2</td>\n",
              "      <td>нет</td>\n",
              "      <td>NaN</td>\n",
              "      <td>1958 г.</td>\n",
              "      <td>NaN</td>\n",
              "      <td>NaN</td>\n",
              "      <td>NaN</td>\n",
              "      <td>[{\"name\":\"Постановление Совета Министров РСФСР...</td>\n",
              "      <td>{\"url\":\"https://okn-mk.mkrf.ru/maps/show/id/41...</td>\n",
              "      <td>NaN</td>\n",
              "      <td>NaN</td>\n",
              "      <td>147455</td>\n",
              "      <td>true</td>\n",
              "      <td>NaN</td>\n",
              "      <td>NaN</td>\n",
              "      <td>NaN</td>\n",
              "      <td>NaN</td>\n",
              "      <td>/cdm/v2/heritages/1/147455</td>\n",
              "      <td>heritage</td>\n",
              "      <td>NaN</td>\n",
              "      <td>2021-12-23T17:14:05Z</td>\n",
              "    </tr>\n",
              "    <tr>\n",
              "      <th>4</th>\n",
              "      <td>Здание городского торгового корпуса, где 14 де...</td>\n",
              "      <td>541510302250006</td>\n",
              "      <td>NaN</td>\n",
              "      <td>NaN</td>\n",
              "      <td>NaN</td>\n",
              "      <td>NaN</td>\n",
              "      <td>NaN</td>\n",
              "      <td>NaN</td>\n",
              "      <td>NaN</td>\n",
              "      <td>NaN</td>\n",
              "      <td>NaN</td>\n",
              "      <td>NaN</td>\n",
              "      <td>NaN</td>\n",
              "      <td>NaN</td>\n",
              "      <td>NaN</td>\n",
              "      <td>NaN</td>\n",
              "      <td>Новосибирская область, г. Новосибирск, Красный...</td>\n",
              "      <td>{\"coordinates\":[82.920241,55.028734],\"type\":\"P...</td>\n",
              "      <td>54</td>\n",
              "      <td>Новосибирская область</td>\n",
              "      <td>54-2</td>\n",
              "      <td>1</td>\n",
              "      <td>Федерального значения</td>\n",
              "      <td>NaN</td>\n",
              "      <td>NaN</td>\n",
              "      <td>1</td>\n",
              "      <td>Памятник</td>\n",
              "      <td>1. Объемно-планировочное решение, форма и габа...</td>\n",
              "      <td>Граница территории объекта культурного наследи...</td>\n",
              "      <td>[{\"id\":\"2\",\"value\":\"Памятник истории\"}]</td>\n",
              "      <td>2</td>\n",
              "      <td>нет</td>\n",
              "      <td>2</td>\n",
              "      <td>нет</td>\n",
              "      <td>NaN</td>\n",
              "      <td>1917 г.</td>\n",
              "      <td>NaN</td>\n",
              "      <td>NaN</td>\n",
              "      <td>NaN</td>\n",
              "      <td>[{\"name\":\"Постановление Совета Министров РСФСР...</td>\n",
              "      <td>{\"url\":\"https://okn-mk.mkrf.ru/maps/show/id/12...</td>\n",
              "      <td>NaN</td>\n",
              "      <td>[{\"coordinates\":[[55.02934722,82.92030833],[55...</td>\n",
              "      <td>147457</td>\n",
              "      <td>true</td>\n",
              "      <td>NaN</td>\n",
              "      <td>NaN</td>\n",
              "      <td>NaN</td>\n",
              "      <td>NaN</td>\n",
              "      <td>/cdm/v2/heritages/1/147457</td>\n",
              "      <td>heritage</td>\n",
              "      <td>2015-12-30T11:42:05Z</td>\n",
              "      <td>NaN</td>\n",
              "    </tr>\n",
              "  </tbody>\n",
              "</table>\n",
              "</div>\n",
              "    <div class=\"colab-df-buttons\">\n",
              "\n",
              "  <div class=\"colab-df-container\">\n",
              "    <button class=\"colab-df-convert\" onclick=\"convertToInteractive('df-cf3de3c4-8444-4860-ab8f-9201dac7e086')\"\n",
              "            title=\"Convert this dataframe to an interactive table.\"\n",
              "            style=\"display:none;\">\n",
              "\n",
              "  <svg xmlns=\"http://www.w3.org/2000/svg\" height=\"24px\" viewBox=\"0 -960 960 960\">\n",
              "    <path d=\"M120-120v-720h720v720H120Zm60-500h600v-160H180v160Zm220 220h160v-160H400v160Zm0 220h160v-160H400v160ZM180-400h160v-160H180v160Zm440 0h160v-160H620v160ZM180-180h160v-160H180v160Zm440 0h160v-160H620v160Z\"/>\n",
              "  </svg>\n",
              "    </button>\n",
              "\n",
              "  <style>\n",
              "    .colab-df-container {\n",
              "      display:flex;\n",
              "      gap: 12px;\n",
              "    }\n",
              "\n",
              "    .colab-df-convert {\n",
              "      background-color: #E8F0FE;\n",
              "      border: none;\n",
              "      border-radius: 50%;\n",
              "      cursor: pointer;\n",
              "      display: none;\n",
              "      fill: #1967D2;\n",
              "      height: 32px;\n",
              "      padding: 0 0 0 0;\n",
              "      width: 32px;\n",
              "    }\n",
              "\n",
              "    .colab-df-convert:hover {\n",
              "      background-color: #E2EBFA;\n",
              "      box-shadow: 0px 1px 2px rgba(60, 64, 67, 0.3), 0px 1px 3px 1px rgba(60, 64, 67, 0.15);\n",
              "      fill: #174EA6;\n",
              "    }\n",
              "\n",
              "    .colab-df-buttons div {\n",
              "      margin-bottom: 4px;\n",
              "    }\n",
              "\n",
              "    [theme=dark] .colab-df-convert {\n",
              "      background-color: #3B4455;\n",
              "      fill: #D2E3FC;\n",
              "    }\n",
              "\n",
              "    [theme=dark] .colab-df-convert:hover {\n",
              "      background-color: #434B5C;\n",
              "      box-shadow: 0px 1px 3px 1px rgba(0, 0, 0, 0.15);\n",
              "      filter: drop-shadow(0px 1px 2px rgba(0, 0, 0, 0.3));\n",
              "      fill: #FFFFFF;\n",
              "    }\n",
              "  </style>\n",
              "\n",
              "    <script>\n",
              "      const buttonEl =\n",
              "        document.querySelector('#df-cf3de3c4-8444-4860-ab8f-9201dac7e086 button.colab-df-convert');\n",
              "      buttonEl.style.display =\n",
              "        google.colab.kernel.accessAllowed ? 'block' : 'none';\n",
              "\n",
              "      async function convertToInteractive(key) {\n",
              "        const element = document.querySelector('#df-cf3de3c4-8444-4860-ab8f-9201dac7e086');\n",
              "        const dataTable =\n",
              "          await google.colab.kernel.invokeFunction('convertToInteractive',\n",
              "                                                    [key], {});\n",
              "        if (!dataTable) return;\n",
              "\n",
              "        const docLinkHtml = 'Like what you see? Visit the ' +\n",
              "          '<a target=\"_blank\" href=https://colab.research.google.com/notebooks/data_table.ipynb>data table notebook</a>'\n",
              "          + ' to learn more about interactive tables.';\n",
              "        element.innerHTML = '';\n",
              "        dataTable['output_type'] = 'display_data';\n",
              "        await google.colab.output.renderOutput(dataTable, element);\n",
              "        const docLink = document.createElement('div');\n",
              "        docLink.innerHTML = docLinkHtml;\n",
              "        element.appendChild(docLink);\n",
              "      }\n",
              "    </script>\n",
              "  </div>\n",
              "\n",
              "\n",
              "<div id=\"df-c9ff3173-6960-410d-b596-4c2e033803d5\">\n",
              "  <button class=\"colab-df-quickchart\" onclick=\"quickchart('df-c9ff3173-6960-410d-b596-4c2e033803d5')\"\n",
              "            title=\"Suggest charts\"\n",
              "            style=\"display:none;\">\n",
              "\n",
              "<svg xmlns=\"http://www.w3.org/2000/svg\" height=\"24px\"viewBox=\"0 0 24 24\"\n",
              "     width=\"24px\">\n",
              "    <g>\n",
              "        <path d=\"M19 3H5c-1.1 0-2 .9-2 2v14c0 1.1.9 2 2 2h14c1.1 0 2-.9 2-2V5c0-1.1-.9-2-2-2zM9 17H7v-7h2v7zm4 0h-2V7h2v10zm4 0h-2v-4h2v4z\"/>\n",
              "    </g>\n",
              "</svg>\n",
              "  </button>\n",
              "\n",
              "<style>\n",
              "  .colab-df-quickchart {\n",
              "      --bg-color: #E8F0FE;\n",
              "      --fill-color: #1967D2;\n",
              "      --hover-bg-color: #E2EBFA;\n",
              "      --hover-fill-color: #174EA6;\n",
              "      --disabled-fill-color: #AAA;\n",
              "      --disabled-bg-color: #DDD;\n",
              "  }\n",
              "\n",
              "  [theme=dark] .colab-df-quickchart {\n",
              "      --bg-color: #3B4455;\n",
              "      --fill-color: #D2E3FC;\n",
              "      --hover-bg-color: #434B5C;\n",
              "      --hover-fill-color: #FFFFFF;\n",
              "      --disabled-bg-color: #3B4455;\n",
              "      --disabled-fill-color: #666;\n",
              "  }\n",
              "\n",
              "  .colab-df-quickchart {\n",
              "    background-color: var(--bg-color);\n",
              "    border: none;\n",
              "    border-radius: 50%;\n",
              "    cursor: pointer;\n",
              "    display: none;\n",
              "    fill: var(--fill-color);\n",
              "    height: 32px;\n",
              "    padding: 0;\n",
              "    width: 32px;\n",
              "  }\n",
              "\n",
              "  .colab-df-quickchart:hover {\n",
              "    background-color: var(--hover-bg-color);\n",
              "    box-shadow: 0 1px 2px rgba(60, 64, 67, 0.3), 0 1px 3px 1px rgba(60, 64, 67, 0.15);\n",
              "    fill: var(--button-hover-fill-color);\n",
              "  }\n",
              "\n",
              "  .colab-df-quickchart-complete:disabled,\n",
              "  .colab-df-quickchart-complete:disabled:hover {\n",
              "    background-color: var(--disabled-bg-color);\n",
              "    fill: var(--disabled-fill-color);\n",
              "    box-shadow: none;\n",
              "  }\n",
              "\n",
              "  .colab-df-spinner {\n",
              "    border: 2px solid var(--fill-color);\n",
              "    border-color: transparent;\n",
              "    border-bottom-color: var(--fill-color);\n",
              "    animation:\n",
              "      spin 1s steps(1) infinite;\n",
              "  }\n",
              "\n",
              "  @keyframes spin {\n",
              "    0% {\n",
              "      border-color: transparent;\n",
              "      border-bottom-color: var(--fill-color);\n",
              "      border-left-color: var(--fill-color);\n",
              "    }\n",
              "    20% {\n",
              "      border-color: transparent;\n",
              "      border-left-color: var(--fill-color);\n",
              "      border-top-color: var(--fill-color);\n",
              "    }\n",
              "    30% {\n",
              "      border-color: transparent;\n",
              "      border-left-color: var(--fill-color);\n",
              "      border-top-color: var(--fill-color);\n",
              "      border-right-color: var(--fill-color);\n",
              "    }\n",
              "    40% {\n",
              "      border-color: transparent;\n",
              "      border-right-color: var(--fill-color);\n",
              "      border-top-color: var(--fill-color);\n",
              "    }\n",
              "    60% {\n",
              "      border-color: transparent;\n",
              "      border-right-color: var(--fill-color);\n",
              "    }\n",
              "    80% {\n",
              "      border-color: transparent;\n",
              "      border-right-color: var(--fill-color);\n",
              "      border-bottom-color: var(--fill-color);\n",
              "    }\n",
              "    90% {\n",
              "      border-color: transparent;\n",
              "      border-bottom-color: var(--fill-color);\n",
              "    }\n",
              "  }\n",
              "</style>\n",
              "\n",
              "  <script>\n",
              "    async function quickchart(key) {\n",
              "      const quickchartButtonEl =\n",
              "        document.querySelector('#' + key + ' button');\n",
              "      quickchartButtonEl.disabled = true;  // To prevent multiple clicks.\n",
              "      quickchartButtonEl.classList.add('colab-df-spinner');\n",
              "      try {\n",
              "        const charts = await google.colab.kernel.invokeFunction(\n",
              "            'suggestCharts', [key], {});\n",
              "      } catch (error) {\n",
              "        console.error('Error during call to suggestCharts:', error);\n",
              "      }\n",
              "      quickchartButtonEl.classList.remove('colab-df-spinner');\n",
              "      quickchartButtonEl.classList.add('colab-df-quickchart-complete');\n",
              "    }\n",
              "    (() => {\n",
              "      let quickchartButtonEl =\n",
              "        document.querySelector('#df-c9ff3173-6960-410d-b596-4c2e033803d5 button');\n",
              "      quickchartButtonEl.style.display =\n",
              "        google.colab.kernel.accessAllowed ? 'block' : 'none';\n",
              "    })();\n",
              "  </script>\n",
              "</div>\n",
              "    </div>\n",
              "  </div>\n"
            ]
          },
          "metadata": {},
          "execution_count": 4
        }
      ],
      "source": [
        "df.head()"
      ],
      "id": "c60cf4a4-8a33-4c6e-b515-d0fe6c451477"
    },
    {
      "cell_type": "markdown",
      "metadata": {
        "id": "fb5761b9-5058-4a56-b332-85f91472be8e"
      },
      "source": [
        "Видно очень много пропусков. И ничего непонятно.\n",
        "\n",
        "Известно, что одна строка означает один объект культурного наследия."
      ],
      "id": "fb5761b9-5058-4a56-b332-85f91472be8e"
    },
    {
      "cell_type": "markdown",
      "metadata": {
        "id": "3157cd84-1656-4069-9cd1-9ead3880a446"
      },
      "source": [
        "Посмотрим размер таблицы."
      ],
      "id": "3157cd84-1656-4069-9cd1-9ead3880a446"
    },
    {
      "cell_type": "code",
      "execution_count": 5,
      "metadata": {
        "colab": {
          "base_uri": "https://localhost:8080/"
        },
        "id": "4d43c5ea-9fb0-4447-9e09-4badaa80d19f",
        "outputId": "801a95a0-0b01-4e49-c10a-5daf21637be9"
      },
      "outputs": [
        {
          "output_type": "stream",
          "name": "stdout",
          "text": [
            "Размер таблицы — 154493 строк и 53 колонки.\n"
          ]
        }
      ],
      "source": [
        "# сохраним в переменную, чтобы сравнить с конечным обработанным результатом\n",
        "raw_shape = df.shape\n",
        "\n",
        "# размер таблицы\n",
        "print(f'Размер таблицы — {df.shape[0]} строк и {df.shape[1]} колонки.')"
      ],
      "id": "4d43c5ea-9fb0-4447-9e09-4badaa80d19f"
    },
    {
      "cell_type": "markdown",
      "metadata": {
        "id": "c435eba8-58a3-433b-814f-5cdd7fda04bf"
      },
      "source": [
        "Посмотрим названия колонок и их типы данных."
      ],
      "id": "c435eba8-58a3-433b-814f-5cdd7fda04bf"
    },
    {
      "cell_type": "code",
      "execution_count": 6,
      "metadata": {
        "colab": {
          "base_uri": "https://localhost:8080/"
        },
        "id": "a28784c4-a89d-4cf5-af07-d5036d66a0b0",
        "outputId": "b1597a05-488e-4469-f140-3c9d0a4ef55d"
      },
      "outputs": [
        {
          "output_type": "execute_result",
          "data": {
            "text/plain": [
              "Объект                                                  object\n",
              "Номер в реестре                                         object\n",
              "название улицы                                         float64\n",
              "Комментарий                                            float64\n",
              "Идентификатор дома в ФИАС                              float64\n",
              "FiasAuxSubobjId                                        float64\n",
              "FiasAuxObjId                                           float64\n",
              "Идентификатор улицы в ФИАС                             float64\n",
              "Идентификатор населенного пункта в ФИАС                float64\n",
              "Идентификатор внутрегородской территории в ФИАС        float64\n",
              "Идентификатор города в ФИАС                            float64\n",
              "Идентификатор городских и сельских поселений в ФИАС    float64\n",
              "Идентификатор района в ФИАС                            float64\n",
              "Идентификатор автономного округа в ФИАС                float64\n",
              "Идентификатор региона в ФИАС                           float64\n",
              "Идентификатор страны в ФИАС                            float64\n",
              "Полный адрес                                            object\n",
              "На карте                                                object\n",
              "Id-Регион                                                int64\n",
              "Регион                                                  object\n",
              "учетный номер                                           object\n",
              "Id-Категория историко-культурного значения               int64\n",
              "Категория историко-культурного значения                 object\n",
              "Id-Тип объекта культурного наследия                    float64\n",
              "Тип объекта культурного наследия                       float64\n",
              "Id-Вид объекта                                           int64\n",
              "Вид объекта                                             object\n",
              "описание предмета охраны                                object\n",
              "текстовое описание границ                               object\n",
              "Id-общая видовая принадлежность                         object\n",
              "Id-Принадлежность к Юнеско                               int64\n",
              "Принадлежность к Юнеско                                 object\n",
              "Id-Особо ценный объект                                   int64\n",
              "Особо ценный объект                                     object\n",
              "идентификатор ансамбля                                 float64\n",
              "дата создания                                           object\n",
              "GeoId                                                  float64\n",
              "X                                                      float64\n",
              "Y                                                      float64\n",
              "наименование документа                                  object\n",
              "Изображение                                             object\n",
              "зоны охраны и режимы использования земель               object\n",
              "Items                                                   object\n",
              "Id - идентификатор                                       int64\n",
              "признак актуальности                                    object\n",
              "признак публичности                                     object\n",
              "год постановки ОКН на Госохрану                        float64\n",
              "год проведения реставрации                             float64\n",
              "параметры, идентифицирующие ФЦП                         object\n",
              "относительный URL объекта                               object\n",
              "категория объекта                                       object\n",
              "дата создания объекта                                   object\n",
              "дата обновления объекта                                 object\n",
              "dtype: object"
            ]
          },
          "metadata": {},
          "execution_count": 6
        }
      ],
      "source": [
        "df.dtypes"
      ],
      "id": "a28784c4-a89d-4cf5-af07-d5036d66a0b0"
    },
    {
      "cell_type": "markdown",
      "metadata": {
        "id": "efd5101e-9bbc-4003-82e5-f79f9197cb36"
      },
      "source": [
        "Полный хаос.\\\n",
        "Чтобы сделать адекватный обзор данных, нужно сначала провести их предобработку."
      ],
      "id": "efd5101e-9bbc-4003-82e5-f79f9197cb36"
    },
    {
      "cell_type": "markdown",
      "metadata": {
        "id": "ea8057e3-1908-43a9-9346-8c3053849138"
      },
      "source": [
        "<br>"
      ],
      "id": "ea8057e3-1908-43a9-9346-8c3053849138"
    },
    {
      "cell_type": "markdown",
      "metadata": {
        "id": "1f758a44-2bcd-4d7f-84c2-937ef3826672"
      },
      "source": [
        "## Предобработка данных"
      ],
      "id": "1f758a44-2bcd-4d7f-84c2-937ef3826672"
    },
    {
      "cell_type": "markdown",
      "source": [
        "### Работа с колонками"
      ],
      "metadata": {
        "id": "JC07jcKr4X9_"
      },
      "id": "JC07jcKr4X9_"
    },
    {
      "cell_type": "markdown",
      "metadata": {
        "id": "0608e91d-5273-4535-9414-0fe36dfef47d"
      },
      "source": [
        "#### Удаление колонок с пропусками 90% и выше"
      ],
      "id": "0608e91d-5273-4535-9414-0fe36dfef47d"
    },
    {
      "cell_type": "markdown",
      "metadata": {
        "id": "b40e8597-6d05-4104-b92a-6883c3644c7a"
      },
      "source": [
        "Посмотрим, есть ли колонки, значения которых состоят полностью из пропусков."
      ],
      "id": "b40e8597-6d05-4104-b92a-6883c3644c7a"
    },
    {
      "cell_type": "code",
      "execution_count": 7,
      "metadata": {
        "colab": {
          "base_uri": "https://localhost:8080/"
        },
        "id": "bc1588f4-1b9c-43c4-a1b8-2ebfbc8deb1f",
        "outputId": "faca8860-4a03-45ea-9029-b1b3a268b69a"
      },
      "outputs": [
        {
          "output_type": "execute_result",
          "data": {
            "text/plain": [
              "19"
            ]
          },
          "metadata": {},
          "execution_count": 7
        }
      ],
      "source": [
        "len(df.columns[df.isna().all()])"
      ],
      "id": "bc1588f4-1b9c-43c4-a1b8-2ebfbc8deb1f"
    },
    {
      "cell_type": "markdown",
      "metadata": {
        "id": "28bb9c0c-61cf-4521-ad6e-90b44add40c2"
      },
      "source": [
        "19 таких колонок."
      ],
      "id": "28bb9c0c-61cf-4521-ad6e-90b44add40c2"
    },
    {
      "cell_type": "markdown",
      "metadata": {
        "id": "0d507073-a045-4fd5-87ad-1c88613f3dcd"
      },
      "source": [
        "Их названия."
      ],
      "id": "0d507073-a045-4fd5-87ad-1c88613f3dcd"
    },
    {
      "cell_type": "code",
      "execution_count": 8,
      "metadata": {
        "colab": {
          "base_uri": "https://localhost:8080/"
        },
        "id": "360987b9-fb5c-4ff9-9112-aa293e07aac9",
        "outputId": "8e549093-183e-4c0a-8c6b-18d100d68ce9"
      },
      "outputs": [
        {
          "output_type": "execute_result",
          "data": {
            "text/plain": [
              "Index(['название улицы', 'Комментарий', 'Идентификатор дома в ФИАС',\n",
              "       'FiasAuxSubobjId', 'FiasAuxObjId', 'Идентификатор улицы в ФИАС',\n",
              "       'Идентификатор населенного пункта в ФИАС',\n",
              "       'Идентификатор внутрегородской территории в ФИАС',\n",
              "       'Идентификатор города в ФИАС',\n",
              "       'Идентификатор городских и сельских поселений в ФИАС',\n",
              "       'Идентификатор района в ФИАС',\n",
              "       'Идентификатор автономного округа в ФИАС',\n",
              "       'Идентификатор региона в ФИАС', 'Идентификатор страны в ФИАС',\n",
              "       'Id-Тип объекта культурного наследия',\n",
              "       'Тип объекта культурного наследия', 'GeoId', 'X', 'Y'],\n",
              "      dtype='object')"
            ]
          },
          "metadata": {},
          "execution_count": 8
        }
      ],
      "source": [
        "null_columns = df.columns[df.isna().all()]\n",
        "null_columns"
      ],
      "id": "360987b9-fb5c-4ff9-9112-aa293e07aac9"
    },
    {
      "cell_type": "markdown",
      "metadata": {
        "id": "0c95a956-5e41-4466-95c4-d689707f7237"
      },
      "source": [
        "Удалим колонки с пропусками во всех строках."
      ],
      "id": "0c95a956-5e41-4466-95c4-d689707f7237"
    },
    {
      "cell_type": "code",
      "execution_count": 9,
      "metadata": {
        "id": "ded81196-101c-4ecc-9baa-fa531728fcf4"
      },
      "outputs": [],
      "source": [
        "# удаление\n",
        "df = df.drop(columns=null_columns)"
      ],
      "id": "ded81196-101c-4ecc-9baa-fa531728fcf4"
    },
    {
      "cell_type": "markdown",
      "source": [
        "Посмотрим, сколько колонок осталось в таблице."
      ],
      "metadata": {
        "id": "eHUpuTdh-OhO"
      },
      "id": "eHUpuTdh-OhO"
    },
    {
      "cell_type": "code",
      "source": [
        "print(f'Количество колонок: {len(df.columns)}')"
      ],
      "metadata": {
        "colab": {
          "base_uri": "https://localhost:8080/"
        },
        "id": "nPyqsBNLVMv8",
        "outputId": "e925abd8-336f-47f9-db89-5f3498ccf26c"
      },
      "id": "nPyqsBNLVMv8",
      "execution_count": 10,
      "outputs": [
        {
          "output_type": "stream",
          "name": "stdout",
          "text": [
            "Количество колонок: 34\n"
          ]
        }
      ]
    },
    {
      "cell_type": "markdown",
      "metadata": {
        "id": "8CpX4hcFVbEA"
      },
      "source": [
        "<br>"
      ],
      "id": "8CpX4hcFVbEA"
    },
    {
      "cell_type": "markdown",
      "metadata": {
        "id": "1b36f265-ea1f-4e51-8a03-250792373e56"
      },
      "source": [
        "Высветим колонки и процент пропусков в них."
      ],
      "id": "1b36f265-ea1f-4e51-8a03-250792373e56"
    },
    {
      "cell_type": "code",
      "execution_count": 11,
      "metadata": {
        "colab": {
          "base_uri": "https://localhost:8080/"
        },
        "id": "7b60cb9a-6b12-4134-83b2-b35b23660e27",
        "outputId": "593b744d-ffdf-4a7b-c472-f194543aedaf"
      },
      "outputs": [
        {
          "output_type": "execute_result",
          "data": {
            "text/plain": [
              "признак публичности                           99.998705\n",
              "параметры, идентифицирующие ФЦП               99.985113\n",
              "год проведения реставрации                    99.858246\n",
              "Items                                         94.979061\n",
              "идентификатор ансамбля                        85.477659\n",
              "зоны охраны и режимы использования земель     83.186293\n",
              "год постановки ОКН на Госохрану               78.408730\n",
              "На карте                                      74.141223\n",
              "текстовое описание границ                     72.662192\n",
              "описание предмета охраны                      69.882778\n",
              "дата создания объекта                         62.023522\n",
              "Изображение                                   39.187536\n",
              "дата обновления объекта                       37.976478\n",
              "Полный адрес                                  36.309736\n",
              "Id-общая видовая принадлежность                2.292661\n",
              "признак актуальности                           1.519810\n",
              "дата создания                                  1.209116\n",
              "наименование документа                         0.016829\n",
              "Особо ценный объект                            0.007120\n",
              "Принадлежность к Юнеско                        0.007120\n",
              "Номер в реестре                                0.000000\n",
              "Id-Особо ценный объект                         0.000000\n",
              "Id-Принадлежность к Юнеско                     0.000000\n",
              "Вид объекта                                    0.000000\n",
              "Id - идентификатор                             0.000000\n",
              "Id-Вид объекта                                 0.000000\n",
              "Категория историко-культурного значения        0.000000\n",
              "Id-Категория историко-культурного значения     0.000000\n",
              "учетный номер                                  0.000000\n",
              "Регион                                         0.000000\n",
              "относительный URL объекта                      0.000000\n",
              "категория объекта                              0.000000\n",
              "Id-Регион                                      0.000000\n",
              "Объект                                         0.000000\n",
              "dtype: float64"
            ]
          },
          "metadata": {},
          "execution_count": 11
        }
      ],
      "source": [
        "null_percent = df.isna().mean() * 100\n",
        "null_percent.sort_values(ascending=False)"
      ],
      "id": "7b60cb9a-6b12-4134-83b2-b35b23660e27"
    },
    {
      "cell_type": "markdown",
      "metadata": {
        "id": "ae684650-6c9c-4dd3-92d3-1ea7b5962517"
      },
      "source": [
        "<br>"
      ],
      "id": "ae684650-6c9c-4dd3-92d3-1ea7b5962517"
    },
    {
      "cell_type": "markdown",
      "metadata": {
        "id": "84acb6f9-cf1a-4ee4-92e0-c76956079515"
      },
      "source": [
        "Снесём колонки, где процент пропусков $90$% и выше."
      ],
      "id": "84acb6f9-cf1a-4ee4-92e0-c76956079515"
    },
    {
      "cell_type": "code",
      "execution_count": 12,
      "metadata": {
        "id": "da7de0ba-7012-4064-9384-4a3096eb96e1"
      },
      "outputs": [],
      "source": [
        "# удаление\n",
        "df = df.drop(columns = null_percent[null_percent >= 90].index)"
      ],
      "id": "da7de0ba-7012-4064-9384-4a3096eb96e1"
    },
    {
      "cell_type": "code",
      "source": [
        "print(f'Теперь колонок стало {len(df.columns)}.')"
      ],
      "metadata": {
        "colab": {
          "base_uri": "https://localhost:8080/"
        },
        "id": "60bBOWTyVmBh",
        "outputId": "af9ddfea-e47e-4ecb-ec28-8d924fb85d18"
      },
      "id": "60bBOWTyVmBh",
      "execution_count": 13,
      "outputs": [
        {
          "output_type": "stream",
          "name": "stdout",
          "text": [
            "Теперь колонок стало 30.\n"
          ]
        }
      ]
    },
    {
      "cell_type": "markdown",
      "metadata": {
        "id": "CY9hADAVVjWY"
      },
      "source": [
        "<br>"
      ],
      "id": "CY9hADAVVjWY"
    },
    {
      "cell_type": "markdown",
      "metadata": {
        "id": "8faa9e7c-c1d3-48e1-8c5b-bec6f33c3046"
      },
      "source": [
        "Взглянем ещё раз на данные одного объекта культурного наследия по вертикали."
      ],
      "id": "8faa9e7c-c1d3-48e1-8c5b-bec6f33c3046"
    },
    {
      "cell_type": "code",
      "execution_count": 14,
      "metadata": {
        "colab": {
          "base_uri": "https://localhost:8080/",
          "height": 990
        },
        "id": "a4481001-075a-4609-a759-4da57863510c",
        "outputId": "2b9c0bf5-5f2c-44fa-81c8-ff04ddcb813d"
      },
      "outputs": [
        {
          "output_type": "display_data",
          "data": {
            "text/plain": [
              "                                                                                                                                                                                                             13505\n",
              "Объект                                                                                                                                                                                Дом казака Евстафия Коренева\n",
              "Номер в реестре                                                                                                                                                                                    251410132170005\n",
              "Полный адрес                                                                                                                            Приморский край, Пограничный район, поселок Пограничный, Советская ул., 25\n",
              "На карте                                                                                                                                      {\"coordinates\":[131.37387504662703,44.4118772191358],\"type\":\"Point\"}\n",
              "Id-Регион                                                                                                                                                                                                       25\n",
              "Регион                                                                                                                                                                                             Приморский край\n",
              "учетный номер                                                                                                                                                                                             25-38194\n",
              "Id-Категория историко-культурного значения                                                                                                                                                                       2\n",
              "Категория историко-культурного значения                                                                                                                                                     Регионального значения\n",
              "Id-Вид объекта                                                                                                                                                                                                   1\n",
              "Вид объекта                                                                                                                                                                                               Памятник\n",
              "описание предмета охраны                                                                                                                                                                                       NaN\n",
              "текстовое описание границ                                                                                                                                                                                      NaN\n",
              "Id-общая видовая принадлежность                                                                             [{\"id\":\"2\",\"value\":\"Памятник истории\"},{\"id\":\"3\",\"value\":\"Памятник градостроительства и архитектуры\"}]\n",
              "Id-Принадлежность к Юнеско                                                                                                                                                                                       2\n",
              "Принадлежность к Юнеско                                                                                                                                                                                        нет\n",
              "Id-Особо ценный объект                                                                                                                                                                                           2\n",
              "Особо ценный объект                                                                                                                                                                                            нет\n",
              "идентификатор ансамбля                                                                                                                                                                                         NaN\n",
              "дата создания                                                                                                                                                                                       начало 1900 г.\n",
              "наименование документа                      [{\"name\":\"Постановление губернатора Приморского края \",\"number\":\"653\",\"date\":\"2000-09-29\",\"archive\":{\"id\":394444,\"url\":\"https://okn-mk.mkrf.ru/maps/show/id/394444\"}}]\n",
              "Изображение                                                                          {\"url\":\"https://okn-mk.mkrf.ru/maps/show/id/394443\",\"preview\":\"https://okn-mk.mkrf.ru/maps/show/id/1174609\",\"title\":\"394443\"}\n",
              "зоны охраны и режимы использования земель                                                                                                                                                                      NaN\n",
              "Id - идентификатор                                                                                                                                                                                          171374\n",
              "признак актуальности                                                                                                                                                                                          true\n",
              "год постановки ОКН на Госохрану                                                                                                                                                                                NaN\n",
              "относительный URL объекта                                                                                                                                                               /cdm/v2/heritages/1/171374\n",
              "категория объекта                                                                                                                                                                                         heritage\n",
              "дата создания объекта                                                                                                                                                                         2015-11-16T08:56:12Z\n",
              "дата обновления объекта                                                                                                                                                                                        NaN"
            ],
            "text/html": [
              "\n",
              "  <div id=\"df-8951fc27-a23d-4bd7-9882-5036b5b02342\" class=\"colab-df-container\">\n",
              "    <div>\n",
              "<style scoped>\n",
              "    .dataframe tbody tr th:only-of-type {\n",
              "        vertical-align: middle;\n",
              "    }\n",
              "\n",
              "    .dataframe tbody tr th {\n",
              "        vertical-align: top;\n",
              "    }\n",
              "\n",
              "    .dataframe thead th {\n",
              "        text-align: right;\n",
              "    }\n",
              "</style>\n",
              "<table border=\"1\" class=\"dataframe\">\n",
              "  <thead>\n",
              "    <tr style=\"text-align: right;\">\n",
              "      <th></th>\n",
              "      <th>13505</th>\n",
              "    </tr>\n",
              "  </thead>\n",
              "  <tbody>\n",
              "    <tr>\n",
              "      <th>Объект</th>\n",
              "      <td>Дом казака Евстафия Коренева</td>\n",
              "    </tr>\n",
              "    <tr>\n",
              "      <th>Номер в реестре</th>\n",
              "      <td>251410132170005</td>\n",
              "    </tr>\n",
              "    <tr>\n",
              "      <th>Полный адрес</th>\n",
              "      <td>Приморский край, Пограничный район, поселок Пограничный, Советская ул., 25</td>\n",
              "    </tr>\n",
              "    <tr>\n",
              "      <th>На карте</th>\n",
              "      <td>{\"coordinates\":[131.37387504662703,44.4118772191358],\"type\":\"Point\"}</td>\n",
              "    </tr>\n",
              "    <tr>\n",
              "      <th>Id-Регион</th>\n",
              "      <td>25</td>\n",
              "    </tr>\n",
              "    <tr>\n",
              "      <th>Регион</th>\n",
              "      <td>Приморский край</td>\n",
              "    </tr>\n",
              "    <tr>\n",
              "      <th>учетный номер</th>\n",
              "      <td>25-38194</td>\n",
              "    </tr>\n",
              "    <tr>\n",
              "      <th>Id-Категория историко-культурного значения</th>\n",
              "      <td>2</td>\n",
              "    </tr>\n",
              "    <tr>\n",
              "      <th>Категория историко-культурного значения</th>\n",
              "      <td>Регионального значения</td>\n",
              "    </tr>\n",
              "    <tr>\n",
              "      <th>Id-Вид объекта</th>\n",
              "      <td>1</td>\n",
              "    </tr>\n",
              "    <tr>\n",
              "      <th>Вид объекта</th>\n",
              "      <td>Памятник</td>\n",
              "    </tr>\n",
              "    <tr>\n",
              "      <th>описание предмета охраны</th>\n",
              "      <td>NaN</td>\n",
              "    </tr>\n",
              "    <tr>\n",
              "      <th>текстовое описание границ</th>\n",
              "      <td>NaN</td>\n",
              "    </tr>\n",
              "    <tr>\n",
              "      <th>Id-общая видовая принадлежность</th>\n",
              "      <td>[{\"id\":\"2\",\"value\":\"Памятник истории\"},{\"id\":\"3\",\"value\":\"Памятник градостроительства и архитектуры\"}]</td>\n",
              "    </tr>\n",
              "    <tr>\n",
              "      <th>Id-Принадлежность к Юнеско</th>\n",
              "      <td>2</td>\n",
              "    </tr>\n",
              "    <tr>\n",
              "      <th>Принадлежность к Юнеско</th>\n",
              "      <td>нет</td>\n",
              "    </tr>\n",
              "    <tr>\n",
              "      <th>Id-Особо ценный объект</th>\n",
              "      <td>2</td>\n",
              "    </tr>\n",
              "    <tr>\n",
              "      <th>Особо ценный объект</th>\n",
              "      <td>нет</td>\n",
              "    </tr>\n",
              "    <tr>\n",
              "      <th>идентификатор ансамбля</th>\n",
              "      <td>NaN</td>\n",
              "    </tr>\n",
              "    <tr>\n",
              "      <th>дата создания</th>\n",
              "      <td>начало 1900 г.</td>\n",
              "    </tr>\n",
              "    <tr>\n",
              "      <th>наименование документа</th>\n",
              "      <td>[{\"name\":\"Постановление губернатора Приморского края \",\"number\":\"653\",\"date\":\"2000-09-29\",\"archive\":{\"id\":394444,\"url\":\"https://okn-mk.mkrf.ru/maps/show/id/394444\"}}]</td>\n",
              "    </tr>\n",
              "    <tr>\n",
              "      <th>Изображение</th>\n",
              "      <td>{\"url\":\"https://okn-mk.mkrf.ru/maps/show/id/394443\",\"preview\":\"https://okn-mk.mkrf.ru/maps/show/id/1174609\",\"title\":\"394443\"}</td>\n",
              "    </tr>\n",
              "    <tr>\n",
              "      <th>зоны охраны и режимы использования земель</th>\n",
              "      <td>NaN</td>\n",
              "    </tr>\n",
              "    <tr>\n",
              "      <th>Id - идентификатор</th>\n",
              "      <td>171374</td>\n",
              "    </tr>\n",
              "    <tr>\n",
              "      <th>признак актуальности</th>\n",
              "      <td>true</td>\n",
              "    </tr>\n",
              "    <tr>\n",
              "      <th>год постановки ОКН на Госохрану</th>\n",
              "      <td>NaN</td>\n",
              "    </tr>\n",
              "    <tr>\n",
              "      <th>относительный URL объекта</th>\n",
              "      <td>/cdm/v2/heritages/1/171374</td>\n",
              "    </tr>\n",
              "    <tr>\n",
              "      <th>категория объекта</th>\n",
              "      <td>heritage</td>\n",
              "    </tr>\n",
              "    <tr>\n",
              "      <th>дата создания объекта</th>\n",
              "      <td>2015-11-16T08:56:12Z</td>\n",
              "    </tr>\n",
              "    <tr>\n",
              "      <th>дата обновления объекта</th>\n",
              "      <td>NaN</td>\n",
              "    </tr>\n",
              "  </tbody>\n",
              "</table>\n",
              "</div>\n",
              "    <div class=\"colab-df-buttons\">\n",
              "\n",
              "  <div class=\"colab-df-container\">\n",
              "    <button class=\"colab-df-convert\" onclick=\"convertToInteractive('df-8951fc27-a23d-4bd7-9882-5036b5b02342')\"\n",
              "            title=\"Convert this dataframe to an interactive table.\"\n",
              "            style=\"display:none;\">\n",
              "\n",
              "  <svg xmlns=\"http://www.w3.org/2000/svg\" height=\"24px\" viewBox=\"0 -960 960 960\">\n",
              "    <path d=\"M120-120v-720h720v720H120Zm60-500h600v-160H180v160Zm220 220h160v-160H400v160Zm0 220h160v-160H400v160ZM180-400h160v-160H180v160Zm440 0h160v-160H620v160ZM180-180h160v-160H180v160Zm440 0h160v-160H620v160Z\"/>\n",
              "  </svg>\n",
              "    </button>\n",
              "\n",
              "  <style>\n",
              "    .colab-df-container {\n",
              "      display:flex;\n",
              "      gap: 12px;\n",
              "    }\n",
              "\n",
              "    .colab-df-convert {\n",
              "      background-color: #E8F0FE;\n",
              "      border: none;\n",
              "      border-radius: 50%;\n",
              "      cursor: pointer;\n",
              "      display: none;\n",
              "      fill: #1967D2;\n",
              "      height: 32px;\n",
              "      padding: 0 0 0 0;\n",
              "      width: 32px;\n",
              "    }\n",
              "\n",
              "    .colab-df-convert:hover {\n",
              "      background-color: #E2EBFA;\n",
              "      box-shadow: 0px 1px 2px rgba(60, 64, 67, 0.3), 0px 1px 3px 1px rgba(60, 64, 67, 0.15);\n",
              "      fill: #174EA6;\n",
              "    }\n",
              "\n",
              "    .colab-df-buttons div {\n",
              "      margin-bottom: 4px;\n",
              "    }\n",
              "\n",
              "    [theme=dark] .colab-df-convert {\n",
              "      background-color: #3B4455;\n",
              "      fill: #D2E3FC;\n",
              "    }\n",
              "\n",
              "    [theme=dark] .colab-df-convert:hover {\n",
              "      background-color: #434B5C;\n",
              "      box-shadow: 0px 1px 3px 1px rgba(0, 0, 0, 0.15);\n",
              "      filter: drop-shadow(0px 1px 2px rgba(0, 0, 0, 0.3));\n",
              "      fill: #FFFFFF;\n",
              "    }\n",
              "  </style>\n",
              "\n",
              "    <script>\n",
              "      const buttonEl =\n",
              "        document.querySelector('#df-8951fc27-a23d-4bd7-9882-5036b5b02342 button.colab-df-convert');\n",
              "      buttonEl.style.display =\n",
              "        google.colab.kernel.accessAllowed ? 'block' : 'none';\n",
              "\n",
              "      async function convertToInteractive(key) {\n",
              "        const element = document.querySelector('#df-8951fc27-a23d-4bd7-9882-5036b5b02342');\n",
              "        const dataTable =\n",
              "          await google.colab.kernel.invokeFunction('convertToInteractive',\n",
              "                                                    [key], {});\n",
              "        if (!dataTable) return;\n",
              "\n",
              "        const docLinkHtml = 'Like what you see? Visit the ' +\n",
              "          '<a target=\"_blank\" href=https://colab.research.google.com/notebooks/data_table.ipynb>data table notebook</a>'\n",
              "          + ' to learn more about interactive tables.';\n",
              "        element.innerHTML = '';\n",
              "        dataTable['output_type'] = 'display_data';\n",
              "        await google.colab.output.renderOutput(dataTable, element);\n",
              "        const docLink = document.createElement('div');\n",
              "        docLink.innerHTML = docLinkHtml;\n",
              "        element.appendChild(docLink);\n",
              "      }\n",
              "    </script>\n",
              "  </div>\n",
              "\n",
              "\n",
              "<div id=\"df-fb73354d-e292-49d1-a569-b3b267f37c1b\">\n",
              "  <button class=\"colab-df-quickchart\" onclick=\"quickchart('df-fb73354d-e292-49d1-a569-b3b267f37c1b')\"\n",
              "            title=\"Suggest charts\"\n",
              "            style=\"display:none;\">\n",
              "\n",
              "<svg xmlns=\"http://www.w3.org/2000/svg\" height=\"24px\"viewBox=\"0 0 24 24\"\n",
              "     width=\"24px\">\n",
              "    <g>\n",
              "        <path d=\"M19 3H5c-1.1 0-2 .9-2 2v14c0 1.1.9 2 2 2h14c1.1 0 2-.9 2-2V5c0-1.1-.9-2-2-2zM9 17H7v-7h2v7zm4 0h-2V7h2v10zm4 0h-2v-4h2v4z\"/>\n",
              "    </g>\n",
              "</svg>\n",
              "  </button>\n",
              "\n",
              "<style>\n",
              "  .colab-df-quickchart {\n",
              "      --bg-color: #E8F0FE;\n",
              "      --fill-color: #1967D2;\n",
              "      --hover-bg-color: #E2EBFA;\n",
              "      --hover-fill-color: #174EA6;\n",
              "      --disabled-fill-color: #AAA;\n",
              "      --disabled-bg-color: #DDD;\n",
              "  }\n",
              "\n",
              "  [theme=dark] .colab-df-quickchart {\n",
              "      --bg-color: #3B4455;\n",
              "      --fill-color: #D2E3FC;\n",
              "      --hover-bg-color: #434B5C;\n",
              "      --hover-fill-color: #FFFFFF;\n",
              "      --disabled-bg-color: #3B4455;\n",
              "      --disabled-fill-color: #666;\n",
              "  }\n",
              "\n",
              "  .colab-df-quickchart {\n",
              "    background-color: var(--bg-color);\n",
              "    border: none;\n",
              "    border-radius: 50%;\n",
              "    cursor: pointer;\n",
              "    display: none;\n",
              "    fill: var(--fill-color);\n",
              "    height: 32px;\n",
              "    padding: 0;\n",
              "    width: 32px;\n",
              "  }\n",
              "\n",
              "  .colab-df-quickchart:hover {\n",
              "    background-color: var(--hover-bg-color);\n",
              "    box-shadow: 0 1px 2px rgba(60, 64, 67, 0.3), 0 1px 3px 1px rgba(60, 64, 67, 0.15);\n",
              "    fill: var(--button-hover-fill-color);\n",
              "  }\n",
              "\n",
              "  .colab-df-quickchart-complete:disabled,\n",
              "  .colab-df-quickchart-complete:disabled:hover {\n",
              "    background-color: var(--disabled-bg-color);\n",
              "    fill: var(--disabled-fill-color);\n",
              "    box-shadow: none;\n",
              "  }\n",
              "\n",
              "  .colab-df-spinner {\n",
              "    border: 2px solid var(--fill-color);\n",
              "    border-color: transparent;\n",
              "    border-bottom-color: var(--fill-color);\n",
              "    animation:\n",
              "      spin 1s steps(1) infinite;\n",
              "  }\n",
              "\n",
              "  @keyframes spin {\n",
              "    0% {\n",
              "      border-color: transparent;\n",
              "      border-bottom-color: var(--fill-color);\n",
              "      border-left-color: var(--fill-color);\n",
              "    }\n",
              "    20% {\n",
              "      border-color: transparent;\n",
              "      border-left-color: var(--fill-color);\n",
              "      border-top-color: var(--fill-color);\n",
              "    }\n",
              "    30% {\n",
              "      border-color: transparent;\n",
              "      border-left-color: var(--fill-color);\n",
              "      border-top-color: var(--fill-color);\n",
              "      border-right-color: var(--fill-color);\n",
              "    }\n",
              "    40% {\n",
              "      border-color: transparent;\n",
              "      border-right-color: var(--fill-color);\n",
              "      border-top-color: var(--fill-color);\n",
              "    }\n",
              "    60% {\n",
              "      border-color: transparent;\n",
              "      border-right-color: var(--fill-color);\n",
              "    }\n",
              "    80% {\n",
              "      border-color: transparent;\n",
              "      border-right-color: var(--fill-color);\n",
              "      border-bottom-color: var(--fill-color);\n",
              "    }\n",
              "    90% {\n",
              "      border-color: transparent;\n",
              "      border-bottom-color: var(--fill-color);\n",
              "    }\n",
              "  }\n",
              "</style>\n",
              "\n",
              "  <script>\n",
              "    async function quickchart(key) {\n",
              "      const quickchartButtonEl =\n",
              "        document.querySelector('#' + key + ' button');\n",
              "      quickchartButtonEl.disabled = true;  // To prevent multiple clicks.\n",
              "      quickchartButtonEl.classList.add('colab-df-spinner');\n",
              "      try {\n",
              "        const charts = await google.colab.kernel.invokeFunction(\n",
              "            'suggestCharts', [key], {});\n",
              "      } catch (error) {\n",
              "        console.error('Error during call to suggestCharts:', error);\n",
              "      }\n",
              "      quickchartButtonEl.classList.remove('colab-df-spinner');\n",
              "      quickchartButtonEl.classList.add('colab-df-quickchart-complete');\n",
              "    }\n",
              "    (() => {\n",
              "      let quickchartButtonEl =\n",
              "        document.querySelector('#df-fb73354d-e292-49d1-a569-b3b267f37c1b button');\n",
              "      quickchartButtonEl.style.display =\n",
              "        google.colab.kernel.accessAllowed ? 'block' : 'none';\n",
              "    })();\n",
              "  </script>\n",
              "</div>\n",
              "    </div>\n",
              "  </div>\n"
            ]
          },
          "metadata": {}
        }
      ],
      "source": [
        "# опция для просмотра всего содержимого колонок\n",
        "pd.set_option('display.max_colwidth', None)\n",
        "\n",
        "display(df[df['Номер в реестре'] == '251410132170005'].transpose())\n",
        "\n",
        "# вернуть ширину колонок по умолчанию\n",
        "pd.reset_option('display.max_colwidth')"
      ],
      "id": "a4481001-075a-4609-a759-4da57863510c"
    },
    {
      "cell_type": "markdown",
      "metadata": {
        "id": "c30464f8-346d-4241-9cc2-351d8895c47e"
      },
      "source": [
        "<br>"
      ],
      "id": "c30464f8-346d-4241-9cc2-351d8895c47e"
    },
    {
      "cell_type": "markdown",
      "metadata": {
        "id": "0c4c9c7f-5745-4d14-91f0-7cacd8ceb1b6"
      },
      "source": [
        "Если обратиться к порталу открытых данных министерства культуры РФ и посмотреть этот объект на сайте, станет ясно, что в этом датафрейме некоторые колонки слиплись в одну.\n",
        "\n",
        "Мы столкнулись с JSON-данными, которые содержат вложенные структуры. Мы видим словари с ключами и их значениями, где ключи — это название колонки, а значение — это значение колонки.\n",
        "\n",
        "Из среза по номеру в реестре выше известно, что колонка `наименование документа` содержит в себе значения пяти колонок сразу.\\\n",
        "Это заметно по английским словам, ограниченным двойными кавычками, после которых стоит двоеточие.\\\n",
        "Так, в этой колонке видим $5$ отдельных колонок: `name`, `number`, `date`, `archive_id`, `archive_url`.\\\n",
        "Это выражено сложной структурой: список, внутри которого словарь, а значением одного из ключей словаря является ещё один словарь.\n",
        "\n",
        "Аналогичную проблему видим в колонке `Id-общая видовая принадлежность`.\\\n",
        "Разделители подсказывают нам, что эту колонку нужно поделить на 2 отдельные: `id` и `value`.\n",
        "\n",
        "Такая же проблема в колонке `Изображение`.\\\n",
        "Там деление на 3 колонки: `url`, `preview` и `title`.\n",
        "\n",
        "С колонкой `На карте` всё тоже самое.\\\n",
        "Она делится на 2 колонки: `coordinates` и `type`, причём ключи `coordinates` содержат списки.\n",
        "\n",
        "Всё это нужно исправить должным образом.\n",
        "\n",
        "Конечно же мне будет помогать в этом ChatGPT.\\\n",
        "Потому что я не гений, а всего лишь человек, которому нравится то, что он сейчас делает."
      ],
      "id": "0c4c9c7f-5745-4d14-91f0-7cacd8ceb1b6"
    },
    {
      "cell_type": "markdown",
      "metadata": {
        "id": "77cf60bb-87f8-4e31-b2ed-e08f97423a95"
      },
      "source": [
        "<br>"
      ],
      "id": "77cf60bb-87f8-4e31-b2ed-e08f97423a95"
    },
    {
      "cell_type": "markdown",
      "metadata": {
        "id": "9ae714f5-0b92-466e-9a2c-3386865bbfd5"
      },
      "source": [
        "#### Преобразование JSON-данных"
      ],
      "id": "9ae714f5-0b92-466e-9a2c-3386865bbfd5"
    },
    {
      "cell_type": "markdown",
      "metadata": {
        "id": "9d5e6a6c-7246-4f68-83d0-a7a617eac0fd"
      },
      "source": [
        "##### Преобразование колонки `На карте`"
      ],
      "id": "9d5e6a6c-7246-4f68-83d0-a7a617eac0fd"
    },
    {
      "cell_type": "markdown",
      "metadata": {
        "id": "b86a975a-93bf-4041-8ea5-b2aca78f0ec4"
      },
      "source": [
        "Сначала напишем функцию."
      ],
      "id": "b86a975a-93bf-4041-8ea5-b2aca78f0ec4"
    },
    {
      "cell_type": "code",
      "execution_count": 15,
      "metadata": {
        "id": "7f67b06b-5bac-41c8-8a82-2b9e5bb4115b"
      },
      "outputs": [],
      "source": [
        "# Функция для разбора значений в колонке 'На карте'\n",
        "def parse_coordinates(row):\n",
        "    try:\n",
        "        # Шаг 1: Проверка, не является ли `row` NaN\n",
        "        if pd.notnull(row):\n",
        "            # Шаг 2: Преобразование строки в формате JSON в объект Python\n",
        "            json_data = json.loads(row)\n",
        "            # Шаг 3: Возвращение объекта типа pd.Series с данными из JSON\n",
        "            return pd.Series(json_data, dtype='object')\n",
        "    # Шаг 4: Обработка определённых ошибок, если они сработают\n",
        "    except (json.JSONDecodeError, TypeError):\n",
        "        # пропуск, если ошибки сработали\n",
        "        pass\n",
        "    # Шаг 5: Возвращение пустого объекта pd.Series с dtype='object', если `row` оказался Nan или сработали ошибки\n",
        "    return pd.Series(dtype='object')"
      ],
      "id": "7f67b06b-5bac-41c8-8a82-2b9e5bb4115b"
    },
    {
      "cell_type": "markdown",
      "metadata": {
        "id": "0f891bdf-de67-4c12-be30-a627ad2bd3d8"
      },
      "source": [
        "Затем применим её. Получившиеся новые колонки объединим с датафреймом."
      ],
      "id": "0f891bdf-de67-4c12-be30-a627ad2bd3d8"
    },
    {
      "cell_type": "code",
      "execution_count": 16,
      "metadata": {
        "id": "ac0d0fd1-cc27-477d-b449-fc745110ec63"
      },
      "outputs": [],
      "source": [
        "# применение функции parse_coordinates к каждому элементу колонки 'На карте' и создание новых колонок\n",
        "parsed_coordinates = df['На карте'].apply(parse_coordinates)\n",
        "\n",
        "# объединение датафрейма с новыми колонками, по горизонтали вдоль колонок\n",
        "df = pd.concat([df, parsed_coordinates], axis=1)\n",
        "\n",
        "# удаление исходной колонки\n",
        "df.drop('На карте', axis=1, inplace=True)"
      ],
      "id": "ac0d0fd1-cc27-477d-b449-fc745110ec63"
    },
    {
      "cell_type": "markdown",
      "metadata": {
        "id": "8bd241ba-4da0-49b5-b1d2-b39d438eedbe"
      },
      "source": [
        "<br>"
      ],
      "id": "8bd241ba-4da0-49b5-b1d2-b39d438eedbe"
    },
    {
      "cell_type": "markdown",
      "metadata": {
        "id": "c04638be-f6c8-4955-bf1b-790c21954f8e"
      },
      "source": [
        "##### Преобразование колонки `Id-общая видовая принадлежность`"
      ],
      "id": "c04638be-f6c8-4955-bf1b-790c21954f8e"
    },
    {
      "cell_type": "code",
      "source": [
        "# преобразование JSON-строки в столбце \"Id-общая видовая принадлежность\" в две новые колонки\n",
        "\n",
        "# x - это JSON-строка, которая представляет собой список словарей\n",
        "# 0 - это первый элемент списка в виде словаря, который содержит ключи \"id\" и \"value\"\n",
        "\n",
        "# применяем функцию lambda к колонке \"Id-общая видовая принадлежность\":\n",
        "# - если значение не является NaN, то используем json.loads() для преобразования JSON-строки в список словарей,\n",
        "#   затем извлекаем значение ключа 'id' из первого элемента в списке и присваиваем его новой колонке\n",
        "# - если значение является NaN, присваиваем None новой колонке\n",
        "df['id-общая видовая принадлежность'] = df['Id-общая видовая принадлежность'].apply(lambda x: json.loads(x)[0]['id'] if pd.notnull(x) else None)\n",
        "\n",
        "# применяем аналогичную функцию lambda\n",
        "# извлекаем значение ключа 'value' из первого элемента в списке и присваиваем новой колонке\n",
        "df['общая видовая принадлежность'] = df['Id-общая видовая принадлежность'].apply(lambda x: json.loads(x)[0]['value'] if pd.notnull(x) else None)\n",
        "\n",
        "# удаление исходной колонки\n",
        "df.drop('Id-общая видовая принадлежность', axis=1, inplace=True)"
      ],
      "metadata": {
        "id": "b80U_AeJgcuF"
      },
      "id": "b80U_AeJgcuF",
      "execution_count": 17,
      "outputs": []
    },
    {
      "cell_type": "markdown",
      "metadata": {
        "id": "08bb410a-5991-4346-9ee4-701c61d988f0"
      },
      "source": [
        "<br>"
      ],
      "id": "08bb410a-5991-4346-9ee4-701c61d988f0"
    },
    {
      "cell_type": "markdown",
      "metadata": {
        "id": "9eb03e59-6f07-4443-867a-4f6d11e2a85c"
      },
      "source": [
        "##### Преобразование колонки `наименование документа`"
      ],
      "id": "9eb03e59-6f07-4443-867a-4f6d11e2a85c"
    },
    {
      "cell_type": "markdown",
      "metadata": {
        "id": "f5dLKGb3fP3K"
      },
      "source": [
        "Сначала напишем функцию."
      ],
      "id": "f5dLKGb3fP3K"
    },
    {
      "cell_type": "code",
      "source": [
        "# Функция для разбора значений в колонке 'наименование документа'\n",
        "def extract_info(row):\n",
        "    try:\n",
        "        # Шаг 1: Проверка, не является ли `row` NaN\n",
        "        if pd.notnull(row):\n",
        "            # Шаг 2: Преобразование строки в формате JSON в объект Python\n",
        "            json_data = json.loads(row)\n",
        "            # Шаг 3: Проверка, являются ли данные списком и имеет ли он хотя бы один элемент\n",
        "            # ф-я isinstance в Python используется для проверки принадлежности объекта (json_data) к определенному типу данных (list)\n",
        "            if isinstance(json_data, list) and len(json_data) > 0:\n",
        "                # пустой словарь result, для хранения преобразованных данных\n",
        "                result = {}\n",
        "                # Шаг 4: Перебор элементов списка, элементы которого — словари\n",
        "                # enumerate перебирает элементы списка json_data, возвращая кортежи (индекс, элемент) на каждой итерации, где:\n",
        "                # i - переменная, которая будет содержать текущий индекс элемента в списке,\n",
        "                # item - переменная, которая будет содержать текущий элемент списка\n",
        "                for i, item in enumerate(json_data):\n",
        "                    # Шаг 5: Перебор пар ключ-значение в словаре методом для словарей items()\n",
        "                    for key, value in item.items():\n",
        "                        # Шаг 6: Формирование нового ключа для каждого элемента\n",
        "                        # путем объединения оригинального ключа key и индекса i + 1.\n",
        "                        # индекс i + 1 используется, чтобы ключи были уникальными для каждого элемента списка\n",
        "                        new_key = f\"{key}_{i + 1}\"\n",
        "                        # Шаг 7: Если значение словарь, то разбор вложенных значений:\n",
        "                        if isinstance(value, dict):\n",
        "                            # перебирает его пары ключ-значение с помощью value.items()\n",
        "                            # для каждой пары создается новый ключ sub_new_key, который объединяет исходный ключ new_key и ключ из вложенного словаря sub_key.\n",
        "                            # этот новый ключ используется для сохранения соответствующего значения в результирующем словаре result.\n",
        "                            for sub_key, sub_value in value.items():\n",
        "                                sub_new_key = f\"{new_key}_{sub_key}\"\n",
        "                                result[sub_new_key] = sub_value\n",
        "                        # если значение не является словарем (то есть оно не имеет вложенных данных), оно сохраняется в результирующем словаре result с ключом new_key.\n",
        "                        else:\n",
        "                            result[new_key] = value\n",
        "                # Шаг 8: возврат результатов в виде объекта Series\n",
        "                # явно указываем dtype='object', поскольку JSON может содержать данные различных типов (строки, числа  и т. д.)\n",
        "                return pd.Series(result, dtype='object')\n",
        "    # Шаг 9: Обработка исключений, если произошла ошибка при разборе JSON строки или типа данных\n",
        "    except (json.JSONDecodeError, TypeError):\n",
        "    # пропуск, если сработали определенные ошибки\n",
        "        pass\n",
        "    # Шаг 10: Возвращение пустого объекта pd.Series с dtype='object', если `row` оказался Nan или сработали ошибки\n",
        "    return pd.Series(dtype='object')"
      ],
      "metadata": {
        "id": "AxNBqJiEp8Q2"
      },
      "id": "AxNBqJiEp8Q2",
      "execution_count": 18,
      "outputs": []
    },
    {
      "cell_type": "markdown",
      "metadata": {
        "id": "eYiFBRBFe0vy"
      },
      "source": [
        "Затем применим её. Получившиеся новые колонки объединим с датафреймом."
      ],
      "id": "eYiFBRBFe0vy"
    },
    {
      "cell_type": "code",
      "source": [
        "# применение функции extract_info к каждому элементу колонки 'наименование документа' и создание новых колонок\n",
        "doc_info = df['наименование документа'].apply(extract_info)\n",
        "\n",
        "# объединение doc_info с основным DataFrame\n",
        "df = pd.concat([df, doc_info], axis=1)\n",
        "\n",
        "# удаление исходной колонки\n",
        "df.drop('наименование документа', axis=1, inplace=True)"
      ],
      "metadata": {
        "id": "VAy1iaD8e3XN"
      },
      "id": "VAy1iaD8e3XN",
      "execution_count": 19,
      "outputs": []
    },
    {
      "cell_type": "markdown",
      "metadata": {
        "id": "tEH2W7aEe8YT"
      },
      "source": [
        "<br>"
      ],
      "id": "tEH2W7aEe8YT"
    },
    {
      "cell_type": "markdown",
      "metadata": {
        "id": "8228a846-9ef8-4d2f-874e-ad2a681b1972"
      },
      "source": [
        "##### Преобразование колонки `Изображение`"
      ],
      "id": "8228a846-9ef8-4d2f-874e-ad2a681b1972"
    },
    {
      "cell_type": "markdown",
      "metadata": {
        "id": "M7quEveBfRFB"
      },
      "source": [
        "Сначала напишем функцию."
      ],
      "id": "M7quEveBfRFB"
    },
    {
      "cell_type": "code",
      "execution_count": 20,
      "metadata": {
        "id": "57e1c735-23d7-4b6c-99a1-3c42146b2c4f"
      },
      "outputs": [],
      "source": [
        "# преобразование колонки в str тип\n",
        "df['Изображение'] = df['Изображение'].astype(str)\n",
        "\n",
        "# Функция для разбора значений в колонке 'Изображение'\n",
        "def parse_images(row):\n",
        "    try:\n",
        "        # преобразование строки формата JSON в объект Python\n",
        "        return json.loads(row)\n",
        "    # обработка ошибки, если она сработает:\n",
        "    except json.JSONDecodeError:\n",
        "        # вернуть пустой словарь\n",
        "        return {}"
      ],
      "id": "57e1c735-23d7-4b6c-99a1-3c42146b2c4f"
    },
    {
      "cell_type": "markdown",
      "metadata": {
        "id": "3EgA2FrtfWXa"
      },
      "source": [
        "Затем применим её и получим новые колонки."
      ],
      "id": "3EgA2FrtfWXa"
    },
    {
      "cell_type": "code",
      "source": [
        "# преобразование значений в колонке \"Изображение\" из JSON в словари\n",
        "df['Изображение'] = df['Изображение'].apply(parse_images)\n",
        "\n",
        "# создание двух новых колонок: 'URL' и 'Title' путём извлечения соответствующих значений из словарей в колонке 'Изображение'\n",
        "# используется метод get() для безопасного извлечения значений, чтобы избежать ошибок, если ключи 'url' или 'title' отсутствуют в словаре\n",
        "df['URL'] = df['Изображение'].apply(lambda x: x.get('url', ''))\n",
        "df['Title'] = df['Изображение'].apply(lambda x: x.get('title', ''))\n",
        "\n",
        "# удаление исходной колонки\n",
        "df.drop('Изображение', axis=1, inplace=True)"
      ],
      "metadata": {
        "id": "HcSzym45g88O"
      },
      "id": "HcSzym45g88O",
      "execution_count": 21,
      "outputs": []
    },
    {
      "cell_type": "markdown",
      "source": [
        "Наконец, спустя где-то часов $20$ совместного разбора с ChatGPT, колонки преобразованы.\\\n",
        "Настоящее безумие."
      ],
      "metadata": {
        "id": "zUUXZHFjo2ci"
      },
      "id": "zUUXZHFjo2ci"
    },
    {
      "cell_type": "markdown",
      "metadata": {
        "id": "601043e6-4a01-4777-aa48-9c531d11a5c9"
      },
      "source": [
        "<br>"
      ],
      "id": "601043e6-4a01-4777-aa48-9c531d11a5c9"
    },
    {
      "cell_type": "markdown",
      "metadata": {
        "id": "c30915cb-8b8e-41e9-9411-ff607c5735d0"
      },
      "source": [
        "Сделаем срез по городу Ухта."
      ],
      "id": "c30915cb-8b8e-41e9-9411-ff607c5735d0"
    },
    {
      "cell_type": "code",
      "execution_count": 22,
      "metadata": {
        "id": "c497c5e0-e8d9-405e-b91d-879ca6361d33",
        "colab": {
          "base_uri": "https://localhost:8080/",
          "height": 643
        },
        "outputId": "1cccd675-8af5-4411-ba9a-e8f8dab6e0f1"
      },
      "outputs": [
        {
          "output_type": "execute_result",
          "data": {
            "text/plain": [
              "                                                   Объект  Номер в реестре  \\\n",
              "147528  Ансамбль улиц Мира, Первомайская, Кремса, архи...  112021333140005   \n",
              "147483  Ансамбль улиц Октябрьская и Первомайская, архи...  112021333120005   \n",
              "149208                            Больница поселка Водный  112111343810005   \n",
              "71930    Братская могила 12 красных партизан в с. Изваиле  111610537090005   \n",
              "93197   Братская могила 7 красных партизан в с. Усть-Ухте  111710819530005   \n",
              "\n",
              "                                             Полный адрес  Id-Регион  \\\n",
              "147528  Республика Коми, г. Ухта, ул. Мира, дома №№ 1,...         11   \n",
              "147483  Республика Коми, г. Ухта, ул. Октябрьская, дом...         11   \n",
              "149208  Республика Коми, г. Ухта, пгт. Водный, ул. Гаг...         11   \n",
              "71930   Республика Коми, г. Ухта, д. Изваиль (ориентир...         11   \n",
              "93197   Республика Коми, г. Сосногорск, с. Усть-Ухта, ...         11   \n",
              "\n",
              "                 Регион учетный номер  \\\n",
              "147528  Республика Коми     11-168149   \n",
              "147483  Республика Коми     11-171869   \n",
              "149208  Республика Коми     11-179117   \n",
              "71930   Республика Коми      11-82351   \n",
              "93197   Республика Коми     11-115538   \n",
              "\n",
              "        Id-Категория историко-культурного значения  \\\n",
              "147528                                           2   \n",
              "147483                                           2   \n",
              "149208                                           2   \n",
              "71930                                            2   \n",
              "93197                                            2   \n",
              "\n",
              "       Категория историко-культурного значения  Id-Вид объекта Вид объекта  \\\n",
              "147528                  Регионального значения               2    Ансамбль   \n",
              "147483                  Регионального значения               2    Ансамбль   \n",
              "149208                  Регионального значения               1    Памятник   \n",
              "71930                   Регионального значения               1    Памятник   \n",
              "93197                   Регионального значения               1    Памятник   \n",
              "\n",
              "                                 описание предмета охраны  \\\n",
              "147528                                                NaN   \n",
              "147483   Предметом охраны объекта культурного наследия...   \n",
              "149208  1 Объемно-пространственная композиция здания  ...   \n",
              "71930   К особенностям, составляющим предмет охраны об...   \n",
              "93197   К особенностям, составляющим предмет охраны об...   \n",
              "\n",
              "                                текстовое описание границ  \\\n",
              "147528  Граница территории объекта культурного наследи...   \n",
              "147483                                                NaN   \n",
              "149208  Граница территории объекта культурного наследи...   \n",
              "71930                                                 NaN   \n",
              "93197                                                 NaN   \n",
              "\n",
              "        Id-Принадлежность к Юнеско Принадлежность к Юнеско  \\\n",
              "147528                           2                     нет   \n",
              "147483                           2                     нет   \n",
              "149208                           2                     нет   \n",
              "71930                            2                     нет   \n",
              "93197                            2                     нет   \n",
              "\n",
              "        Id-Особо ценный объект Особо ценный объект  идентификатор ансамбля  \\\n",
              "147528                       2                 нет                     NaN   \n",
              "147483                       2                 нет                     NaN   \n",
              "149208                       2                 нет                     NaN   \n",
              "71930                        2                 нет                     NaN   \n",
              "93197                        2                 нет                     NaN   \n",
              "\n",
              "                         дата создания  \\\n",
              "147528                 1949 - 1968 гг.   \n",
              "147483                 1950 - 1959 гг.   \n",
              "149208                         1956 г.   \n",
              "71930   ноябрь 1919 г., ноябрь 1957 г.   \n",
              "93197                 1919 г., 1957 г.   \n",
              "\n",
              "       зоны охраны и режимы использования земель  Id - идентификатор  \\\n",
              "147528                                       NaN              324258   \n",
              "147483                                       NaN              324108   \n",
              "149208                                       NaN              328787   \n",
              "71930                                        NaN              233259   \n",
              "93197                                        NaN              254773   \n",
              "\n",
              "       признак актуальности  год постановки ОКН на Госохрану  \\\n",
              "147528                 true                              NaN   \n",
              "147483                 true                              NaN   \n",
              "149208                 true                           2021.0   \n",
              "71930                  true                           1959.0   \n",
              "93197                  true                           1959.0   \n",
              "\n",
              "         относительный URL объекта категория объекта дата создания объекта  \\\n",
              "147528  /cdm/v2/heritages/2/324258          heritage                   NaN   \n",
              "147483  /cdm/v2/heritages/2/324108          heritage                   NaN   \n",
              "149208  /cdm/v2/heritages/1/328787          heritage  2022-07-05T14:33:03Z   \n",
              "71930   /cdm/v2/heritages/1/233259          heritage                   NaN   \n",
              "93197   /cdm/v2/heritages/1/254773          heritage                   NaN   \n",
              "\n",
              "       дата обновления объекта coordinates type  \\\n",
              "147528    2023-07-20T07:34:53Z         NaN  NaN   \n",
              "147483    2023-07-20T07:41:01Z         NaN  NaN   \n",
              "149208                     NaN         NaN  NaN   \n",
              "71930     2021-12-23T18:39:51Z         NaN  NaN   \n",
              "93197     2021-01-22T08:14:19Z         NaN  NaN   \n",
              "\n",
              "       id-общая видовая принадлежность  \\\n",
              "147528                               3   \n",
              "147483                               3   \n",
              "149208                               3   \n",
              "71930                                2   \n",
              "93197                                2   \n",
              "\n",
              "                     общая видовая принадлежность  \\\n",
              "147528  Памятник градостроительства и архитектуры   \n",
              "147483  Памятник градостроительства и архитектуры   \n",
              "149208  Памятник градостроительства и архитектуры   \n",
              "71930                            Памятник истории   \n",
              "93197                            Памятник истории   \n",
              "\n",
              "                                                   name_1 number_1  \\\n",
              "147528  Приказ Управления Республики Коми по охране об...    93-ОД   \n",
              "147483  Приказ Управления Республики Коми по охране об...   167-ОД   \n",
              "149208  Приказ Управления Республики коми по охране об...    20-ОД   \n",
              "71930   Постановление Совета Министров Коми АССР \"О па...      406   \n",
              "93197   Постановление Совета Министров Коми АССР \"О па...      406   \n",
              "\n",
              "            date_1 archive_1_id archive_1_url  \\\n",
              "147528  2019-06-17          NaN           NaN   \n",
              "147483  2019-08-05          NaN           NaN   \n",
              "149208  2021-03-05          NaN           NaN   \n",
              "71930   1959-11-30          NaN           NaN   \n",
              "93197   1959-11-30          NaN           NaN   \n",
              "\n",
              "                                                   name_2 number_2  \\\n",
              "147528  Приказ Управления Республики Коми по охране об...   116-ОД   \n",
              "147483  Приказ Управления Республики Коми по охране об...   142-ОД   \n",
              "149208  Приказ Управления Республики Коми по охране об...    36-ОД   \n",
              "71930                                                 NaN      NaN   \n",
              "93197                                                 NaN      NaN   \n",
              "\n",
              "            date_2 archive_2_id archive_2_url name_3 number_3 date_3  \\\n",
              "147528  2020-07-23          NaN           NaN    NaN      NaN    NaN   \n",
              "147483  2020-09-08          NaN           NaN    NaN      NaN    NaN   \n",
              "149208  2021-04-23          NaN           NaN    NaN      NaN    NaN   \n",
              "71930          NaN          NaN           NaN    NaN      NaN    NaN   \n",
              "93197          NaN          NaN           NaN    NaN      NaN    NaN   \n",
              "\n",
              "        archive_3_id archive_3_url name_4 number_4 date_4  archive_4_id  \\\n",
              "147528           NaN           NaN    NaN      NaN    NaN           NaN   \n",
              "147483           NaN           NaN    NaN      NaN    NaN           NaN   \n",
              "149208           NaN           NaN    NaN      NaN    NaN           NaN   \n",
              "71930            NaN           NaN    NaN      NaN    NaN           NaN   \n",
              "93197            NaN           NaN    NaN      NaN    NaN           NaN   \n",
              "\n",
              "       archive_4_url name_5 number_5 date_5  archive_5_id archive_5_url  \\\n",
              "147528           NaN    NaN      NaN    NaN           NaN           NaN   \n",
              "147483           NaN    NaN      NaN    NaN           NaN           NaN   \n",
              "149208           NaN    NaN      NaN    NaN           NaN           NaN   \n",
              "71930            NaN    NaN      NaN    NaN           NaN           NaN   \n",
              "93197            NaN    NaN      NaN    NaN           NaN           NaN   \n",
              "\n",
              "       name_6 number_6 date_6  archive_6_id archive_6_url name_7 number_7  \\\n",
              "147528    NaN      NaN    NaN           NaN           NaN    NaN      NaN   \n",
              "147483    NaN      NaN    NaN           NaN           NaN    NaN      NaN   \n",
              "149208    NaN      NaN    NaN           NaN           NaN    NaN      NaN   \n",
              "71930     NaN      NaN    NaN           NaN           NaN    NaN      NaN   \n",
              "93197     NaN      NaN    NaN           NaN           NaN    NaN      NaN   \n",
              "\n",
              "       date_7  archive_7_id archive_7_url name_8 number_8 date_8  \\\n",
              "147528    NaN           NaN           NaN    NaN      NaN    NaN   \n",
              "147483    NaN           NaN           NaN    NaN      NaN    NaN   \n",
              "149208    NaN           NaN           NaN    NaN      NaN    NaN   \n",
              "71930     NaN           NaN           NaN    NaN      NaN    NaN   \n",
              "93197     NaN           NaN           NaN    NaN      NaN    NaN   \n",
              "\n",
              "        archive_8_id archive_8_url name_9 number_9 date_9  archive_9_id  \\\n",
              "147528           NaN           NaN    NaN      NaN    NaN           NaN   \n",
              "147483           NaN           NaN    NaN      NaN    NaN           NaN   \n",
              "149208           NaN           NaN    NaN      NaN    NaN           NaN   \n",
              "71930            NaN           NaN    NaN      NaN    NaN           NaN   \n",
              "93197            NaN           NaN    NaN      NaN    NaN           NaN   \n",
              "\n",
              "       archive_9_url name_10 number_10 date_10  archive_10_id archive_10_url  \\\n",
              "147528           NaN     NaN       NaN     NaN            NaN            NaN   \n",
              "147483           NaN     NaN       NaN     NaN            NaN            NaN   \n",
              "149208           NaN     NaN       NaN     NaN            NaN            NaN   \n",
              "71930            NaN     NaN       NaN     NaN            NaN            NaN   \n",
              "93197            NaN     NaN       NaN     NaN            NaN            NaN   \n",
              "\n",
              "       name_11 number_11 date_11  archive_11_id archive_11_url  \\\n",
              "147528     NaN       NaN     NaN            NaN            NaN   \n",
              "147483     NaN       NaN     NaN            NaN            NaN   \n",
              "149208     NaN       NaN     NaN            NaN            NaN   \n",
              "71930      NaN       NaN     NaN            NaN            NaN   \n",
              "93197      NaN       NaN     NaN            NaN            NaN   \n",
              "\n",
              "                                                URL    Title  \n",
              "147528  https://okn-mk.mkrf.ru/maps/show/id/4034367  4034367  \n",
              "147483  https://okn-mk.mkrf.ru/maps/show/id/4028963  4028963  \n",
              "149208  https://okn-mk.mkrf.ru/maps/show/id/4396147  4396147  \n",
              "71930   https://okn-mk.mkrf.ru/maps/show/id/1962138  1962138  \n",
              "93197   https://okn-mk.mkrf.ru/maps/show/id/2455551  2455551  "
            ],
            "text/html": [
              "\n",
              "  <div id=\"df-12424e39-d73e-4458-85ad-b1971a262a5d\" class=\"colab-df-container\">\n",
              "    <div>\n",
              "<style scoped>\n",
              "    .dataframe tbody tr th:only-of-type {\n",
              "        vertical-align: middle;\n",
              "    }\n",
              "\n",
              "    .dataframe tbody tr th {\n",
              "        vertical-align: top;\n",
              "    }\n",
              "\n",
              "    .dataframe thead th {\n",
              "        text-align: right;\n",
              "    }\n",
              "</style>\n",
              "<table border=\"1\" class=\"dataframe\">\n",
              "  <thead>\n",
              "    <tr style=\"text-align: right;\">\n",
              "      <th></th>\n",
              "      <th>Объект</th>\n",
              "      <th>Номер в реестре</th>\n",
              "      <th>Полный адрес</th>\n",
              "      <th>Id-Регион</th>\n",
              "      <th>Регион</th>\n",
              "      <th>учетный номер</th>\n",
              "      <th>Id-Категория историко-культурного значения</th>\n",
              "      <th>Категория историко-культурного значения</th>\n",
              "      <th>Id-Вид объекта</th>\n",
              "      <th>Вид объекта</th>\n",
              "      <th>описание предмета охраны</th>\n",
              "      <th>текстовое описание границ</th>\n",
              "      <th>Id-Принадлежность к Юнеско</th>\n",
              "      <th>Принадлежность к Юнеско</th>\n",
              "      <th>Id-Особо ценный объект</th>\n",
              "      <th>Особо ценный объект</th>\n",
              "      <th>идентификатор ансамбля</th>\n",
              "      <th>дата создания</th>\n",
              "      <th>зоны охраны и режимы использования земель</th>\n",
              "      <th>Id - идентификатор</th>\n",
              "      <th>признак актуальности</th>\n",
              "      <th>год постановки ОКН на Госохрану</th>\n",
              "      <th>относительный URL объекта</th>\n",
              "      <th>категория объекта</th>\n",
              "      <th>дата создания объекта</th>\n",
              "      <th>дата обновления объекта</th>\n",
              "      <th>coordinates</th>\n",
              "      <th>type</th>\n",
              "      <th>id-общая видовая принадлежность</th>\n",
              "      <th>общая видовая принадлежность</th>\n",
              "      <th>name_1</th>\n",
              "      <th>number_1</th>\n",
              "      <th>date_1</th>\n",
              "      <th>archive_1_id</th>\n",
              "      <th>archive_1_url</th>\n",
              "      <th>name_2</th>\n",
              "      <th>number_2</th>\n",
              "      <th>date_2</th>\n",
              "      <th>archive_2_id</th>\n",
              "      <th>archive_2_url</th>\n",
              "      <th>name_3</th>\n",
              "      <th>number_3</th>\n",
              "      <th>date_3</th>\n",
              "      <th>archive_3_id</th>\n",
              "      <th>archive_3_url</th>\n",
              "      <th>name_4</th>\n",
              "      <th>number_4</th>\n",
              "      <th>date_4</th>\n",
              "      <th>archive_4_id</th>\n",
              "      <th>archive_4_url</th>\n",
              "      <th>name_5</th>\n",
              "      <th>number_5</th>\n",
              "      <th>date_5</th>\n",
              "      <th>archive_5_id</th>\n",
              "      <th>archive_5_url</th>\n",
              "      <th>name_6</th>\n",
              "      <th>number_6</th>\n",
              "      <th>date_6</th>\n",
              "      <th>archive_6_id</th>\n",
              "      <th>archive_6_url</th>\n",
              "      <th>name_7</th>\n",
              "      <th>number_7</th>\n",
              "      <th>date_7</th>\n",
              "      <th>archive_7_id</th>\n",
              "      <th>archive_7_url</th>\n",
              "      <th>name_8</th>\n",
              "      <th>number_8</th>\n",
              "      <th>date_8</th>\n",
              "      <th>archive_8_id</th>\n",
              "      <th>archive_8_url</th>\n",
              "      <th>name_9</th>\n",
              "      <th>number_9</th>\n",
              "      <th>date_9</th>\n",
              "      <th>archive_9_id</th>\n",
              "      <th>archive_9_url</th>\n",
              "      <th>name_10</th>\n",
              "      <th>number_10</th>\n",
              "      <th>date_10</th>\n",
              "      <th>archive_10_id</th>\n",
              "      <th>archive_10_url</th>\n",
              "      <th>name_11</th>\n",
              "      <th>number_11</th>\n",
              "      <th>date_11</th>\n",
              "      <th>archive_11_id</th>\n",
              "      <th>archive_11_url</th>\n",
              "      <th>URL</th>\n",
              "      <th>Title</th>\n",
              "    </tr>\n",
              "  </thead>\n",
              "  <tbody>\n",
              "    <tr>\n",
              "      <th>147528</th>\n",
              "      <td>Ансамбль улиц Мира, Первомайская, Кремса, архи...</td>\n",
              "      <td>112021333140005</td>\n",
              "      <td>Республика Коми, г. Ухта, ул. Мира, дома №№ 1,...</td>\n",
              "      <td>11</td>\n",
              "      <td>Республика Коми</td>\n",
              "      <td>11-168149</td>\n",
              "      <td>2</td>\n",
              "      <td>Регионального значения</td>\n",
              "      <td>2</td>\n",
              "      <td>Ансамбль</td>\n",
              "      <td>NaN</td>\n",
              "      <td>Граница территории объекта культурного наследи...</td>\n",
              "      <td>2</td>\n",
              "      <td>нет</td>\n",
              "      <td>2</td>\n",
              "      <td>нет</td>\n",
              "      <td>NaN</td>\n",
              "      <td>1949 - 1968 гг.</td>\n",
              "      <td>NaN</td>\n",
              "      <td>324258</td>\n",
              "      <td>true</td>\n",
              "      <td>NaN</td>\n",
              "      <td>/cdm/v2/heritages/2/324258</td>\n",
              "      <td>heritage</td>\n",
              "      <td>NaN</td>\n",
              "      <td>2023-07-20T07:34:53Z</td>\n",
              "      <td>NaN</td>\n",
              "      <td>NaN</td>\n",
              "      <td>3</td>\n",
              "      <td>Памятник градостроительства и архитектуры</td>\n",
              "      <td>Приказ Управления Республики Коми по охране об...</td>\n",
              "      <td>93-ОД</td>\n",
              "      <td>2019-06-17</td>\n",
              "      <td>NaN</td>\n",
              "      <td>NaN</td>\n",
              "      <td>Приказ Управления Республики Коми по охране об...</td>\n",
              "      <td>116-ОД</td>\n",
              "      <td>2020-07-23</td>\n",
              "      <td>NaN</td>\n",
              "      <td>NaN</td>\n",
              "      <td>NaN</td>\n",
              "      <td>NaN</td>\n",
              "      <td>NaN</td>\n",
              "      <td>NaN</td>\n",
              "      <td>NaN</td>\n",
              "      <td>NaN</td>\n",
              "      <td>NaN</td>\n",
              "      <td>NaN</td>\n",
              "      <td>NaN</td>\n",
              "      <td>NaN</td>\n",
              "      <td>NaN</td>\n",
              "      <td>NaN</td>\n",
              "      <td>NaN</td>\n",
              "      <td>NaN</td>\n",
              "      <td>NaN</td>\n",
              "      <td>NaN</td>\n",
              "      <td>NaN</td>\n",
              "      <td>NaN</td>\n",
              "      <td>NaN</td>\n",
              "      <td>NaN</td>\n",
              "      <td>NaN</td>\n",
              "      <td>NaN</td>\n",
              "      <td>NaN</td>\n",
              "      <td>NaN</td>\n",
              "      <td>NaN</td>\n",
              "      <td>NaN</td>\n",
              "      <td>NaN</td>\n",
              "      <td>NaN</td>\n",
              "      <td>NaN</td>\n",
              "      <td>NaN</td>\n",
              "      <td>NaN</td>\n",
              "      <td>NaN</td>\n",
              "      <td>NaN</td>\n",
              "      <td>NaN</td>\n",
              "      <td>NaN</td>\n",
              "      <td>NaN</td>\n",
              "      <td>NaN</td>\n",
              "      <td>NaN</td>\n",
              "      <td>NaN</td>\n",
              "      <td>NaN</td>\n",
              "      <td>NaN</td>\n",
              "      <td>NaN</td>\n",
              "      <td>NaN</td>\n",
              "      <td>NaN</td>\n",
              "      <td>NaN</td>\n",
              "      <td>https://okn-mk.mkrf.ru/maps/show/id/4034367</td>\n",
              "      <td>4034367</td>\n",
              "    </tr>\n",
              "    <tr>\n",
              "      <th>147483</th>\n",
              "      <td>Ансамбль улиц Октябрьская и Первомайская, архи...</td>\n",
              "      <td>112021333120005</td>\n",
              "      <td>Республика Коми, г. Ухта, ул. Октябрьская, дом...</td>\n",
              "      <td>11</td>\n",
              "      <td>Республика Коми</td>\n",
              "      <td>11-171869</td>\n",
              "      <td>2</td>\n",
              "      <td>Регионального значения</td>\n",
              "      <td>2</td>\n",
              "      <td>Ансамбль</td>\n",
              "      <td>Предметом охраны объекта культурного наследия...</td>\n",
              "      <td>NaN</td>\n",
              "      <td>2</td>\n",
              "      <td>нет</td>\n",
              "      <td>2</td>\n",
              "      <td>нет</td>\n",
              "      <td>NaN</td>\n",
              "      <td>1950 - 1959 гг.</td>\n",
              "      <td>NaN</td>\n",
              "      <td>324108</td>\n",
              "      <td>true</td>\n",
              "      <td>NaN</td>\n",
              "      <td>/cdm/v2/heritages/2/324108</td>\n",
              "      <td>heritage</td>\n",
              "      <td>NaN</td>\n",
              "      <td>2023-07-20T07:41:01Z</td>\n",
              "      <td>NaN</td>\n",
              "      <td>NaN</td>\n",
              "      <td>3</td>\n",
              "      <td>Памятник градостроительства и архитектуры</td>\n",
              "      <td>Приказ Управления Республики Коми по охране об...</td>\n",
              "      <td>167-ОД</td>\n",
              "      <td>2019-08-05</td>\n",
              "      <td>NaN</td>\n",
              "      <td>NaN</td>\n",
              "      <td>Приказ Управления Республики Коми по охране об...</td>\n",
              "      <td>142-ОД</td>\n",
              "      <td>2020-09-08</td>\n",
              "      <td>NaN</td>\n",
              "      <td>NaN</td>\n",
              "      <td>NaN</td>\n",
              "      <td>NaN</td>\n",
              "      <td>NaN</td>\n",
              "      <td>NaN</td>\n",
              "      <td>NaN</td>\n",
              "      <td>NaN</td>\n",
              "      <td>NaN</td>\n",
              "      <td>NaN</td>\n",
              "      <td>NaN</td>\n",
              "      <td>NaN</td>\n",
              "      <td>NaN</td>\n",
              "      <td>NaN</td>\n",
              "      <td>NaN</td>\n",
              "      <td>NaN</td>\n",
              "      <td>NaN</td>\n",
              "      <td>NaN</td>\n",
              "      <td>NaN</td>\n",
              "      <td>NaN</td>\n",
              "      <td>NaN</td>\n",
              "      <td>NaN</td>\n",
              "      <td>NaN</td>\n",
              "      <td>NaN</td>\n",
              "      <td>NaN</td>\n",
              "      <td>NaN</td>\n",
              "      <td>NaN</td>\n",
              "      <td>NaN</td>\n",
              "      <td>NaN</td>\n",
              "      <td>NaN</td>\n",
              "      <td>NaN</td>\n",
              "      <td>NaN</td>\n",
              "      <td>NaN</td>\n",
              "      <td>NaN</td>\n",
              "      <td>NaN</td>\n",
              "      <td>NaN</td>\n",
              "      <td>NaN</td>\n",
              "      <td>NaN</td>\n",
              "      <td>NaN</td>\n",
              "      <td>NaN</td>\n",
              "      <td>NaN</td>\n",
              "      <td>NaN</td>\n",
              "      <td>NaN</td>\n",
              "      <td>NaN</td>\n",
              "      <td>NaN</td>\n",
              "      <td>NaN</td>\n",
              "      <td>NaN</td>\n",
              "      <td>https://okn-mk.mkrf.ru/maps/show/id/4028963</td>\n",
              "      <td>4028963</td>\n",
              "    </tr>\n",
              "    <tr>\n",
              "      <th>149208</th>\n",
              "      <td>Больница поселка Водный</td>\n",
              "      <td>112111343810005</td>\n",
              "      <td>Республика Коми, г. Ухта, пгт. Водный, ул. Гаг...</td>\n",
              "      <td>11</td>\n",
              "      <td>Республика Коми</td>\n",
              "      <td>11-179117</td>\n",
              "      <td>2</td>\n",
              "      <td>Регионального значения</td>\n",
              "      <td>1</td>\n",
              "      <td>Памятник</td>\n",
              "      <td>1 Объемно-пространственная композиция здания  ...</td>\n",
              "      <td>Граница территории объекта культурного наследи...</td>\n",
              "      <td>2</td>\n",
              "      <td>нет</td>\n",
              "      <td>2</td>\n",
              "      <td>нет</td>\n",
              "      <td>NaN</td>\n",
              "      <td>1956 г.</td>\n",
              "      <td>NaN</td>\n",
              "      <td>328787</td>\n",
              "      <td>true</td>\n",
              "      <td>2021.0</td>\n",
              "      <td>/cdm/v2/heritages/1/328787</td>\n",
              "      <td>heritage</td>\n",
              "      <td>2022-07-05T14:33:03Z</td>\n",
              "      <td>NaN</td>\n",
              "      <td>NaN</td>\n",
              "      <td>NaN</td>\n",
              "      <td>3</td>\n",
              "      <td>Памятник градостроительства и архитектуры</td>\n",
              "      <td>Приказ Управления Республики коми по охране об...</td>\n",
              "      <td>20-ОД</td>\n",
              "      <td>2021-03-05</td>\n",
              "      <td>NaN</td>\n",
              "      <td>NaN</td>\n",
              "      <td>Приказ Управления Республики Коми по охране об...</td>\n",
              "      <td>36-ОД</td>\n",
              "      <td>2021-04-23</td>\n",
              "      <td>NaN</td>\n",
              "      <td>NaN</td>\n",
              "      <td>NaN</td>\n",
              "      <td>NaN</td>\n",
              "      <td>NaN</td>\n",
              "      <td>NaN</td>\n",
              "      <td>NaN</td>\n",
              "      <td>NaN</td>\n",
              "      <td>NaN</td>\n",
              "      <td>NaN</td>\n",
              "      <td>NaN</td>\n",
              "      <td>NaN</td>\n",
              "      <td>NaN</td>\n",
              "      <td>NaN</td>\n",
              "      <td>NaN</td>\n",
              "      <td>NaN</td>\n",
              "      <td>NaN</td>\n",
              "      <td>NaN</td>\n",
              "      <td>NaN</td>\n",
              "      <td>NaN</td>\n",
              "      <td>NaN</td>\n",
              "      <td>NaN</td>\n",
              "      <td>NaN</td>\n",
              "      <td>NaN</td>\n",
              "      <td>NaN</td>\n",
              "      <td>NaN</td>\n",
              "      <td>NaN</td>\n",
              "      <td>NaN</td>\n",
              "      <td>NaN</td>\n",
              "      <td>NaN</td>\n",
              "      <td>NaN</td>\n",
              "      <td>NaN</td>\n",
              "      <td>NaN</td>\n",
              "      <td>NaN</td>\n",
              "      <td>NaN</td>\n",
              "      <td>NaN</td>\n",
              "      <td>NaN</td>\n",
              "      <td>NaN</td>\n",
              "      <td>NaN</td>\n",
              "      <td>NaN</td>\n",
              "      <td>NaN</td>\n",
              "      <td>NaN</td>\n",
              "      <td>NaN</td>\n",
              "      <td>NaN</td>\n",
              "      <td>NaN</td>\n",
              "      <td>NaN</td>\n",
              "      <td>NaN</td>\n",
              "      <td>https://okn-mk.mkrf.ru/maps/show/id/4396147</td>\n",
              "      <td>4396147</td>\n",
              "    </tr>\n",
              "    <tr>\n",
              "      <th>71930</th>\n",
              "      <td>Братская могила 12 красных партизан в с. Изваиле</td>\n",
              "      <td>111610537090005</td>\n",
              "      <td>Республика Коми, г. Ухта, д. Изваиль (ориентир...</td>\n",
              "      <td>11</td>\n",
              "      <td>Республика Коми</td>\n",
              "      <td>11-82351</td>\n",
              "      <td>2</td>\n",
              "      <td>Регионального значения</td>\n",
              "      <td>1</td>\n",
              "      <td>Памятник</td>\n",
              "      <td>К особенностям, составляющим предмет охраны об...</td>\n",
              "      <td>NaN</td>\n",
              "      <td>2</td>\n",
              "      <td>нет</td>\n",
              "      <td>2</td>\n",
              "      <td>нет</td>\n",
              "      <td>NaN</td>\n",
              "      <td>ноябрь 1919 г., ноябрь 1957 г.</td>\n",
              "      <td>NaN</td>\n",
              "      <td>233259</td>\n",
              "      <td>true</td>\n",
              "      <td>1959.0</td>\n",
              "      <td>/cdm/v2/heritages/1/233259</td>\n",
              "      <td>heritage</td>\n",
              "      <td>NaN</td>\n",
              "      <td>2021-12-23T18:39:51Z</td>\n",
              "      <td>NaN</td>\n",
              "      <td>NaN</td>\n",
              "      <td>2</td>\n",
              "      <td>Памятник истории</td>\n",
              "      <td>Постановление Совета Министров Коми АССР \"О па...</td>\n",
              "      <td>406</td>\n",
              "      <td>1959-11-30</td>\n",
              "      <td>NaN</td>\n",
              "      <td>NaN</td>\n",
              "      <td>NaN</td>\n",
              "      <td>NaN</td>\n",
              "      <td>NaN</td>\n",
              "      <td>NaN</td>\n",
              "      <td>NaN</td>\n",
              "      <td>NaN</td>\n",
              "      <td>NaN</td>\n",
              "      <td>NaN</td>\n",
              "      <td>NaN</td>\n",
              "      <td>NaN</td>\n",
              "      <td>NaN</td>\n",
              "      <td>NaN</td>\n",
              "      <td>NaN</td>\n",
              "      <td>NaN</td>\n",
              "      <td>NaN</td>\n",
              "      <td>NaN</td>\n",
              "      <td>NaN</td>\n",
              "      <td>NaN</td>\n",
              "      <td>NaN</td>\n",
              "      <td>NaN</td>\n",
              "      <td>NaN</td>\n",
              "      <td>NaN</td>\n",
              "      <td>NaN</td>\n",
              "      <td>NaN</td>\n",
              "      <td>NaN</td>\n",
              "      <td>NaN</td>\n",
              "      <td>NaN</td>\n",
              "      <td>NaN</td>\n",
              "      <td>NaN</td>\n",
              "      <td>NaN</td>\n",
              "      <td>NaN</td>\n",
              "      <td>NaN</td>\n",
              "      <td>NaN</td>\n",
              "      <td>NaN</td>\n",
              "      <td>NaN</td>\n",
              "      <td>NaN</td>\n",
              "      <td>NaN</td>\n",
              "      <td>NaN</td>\n",
              "      <td>NaN</td>\n",
              "      <td>NaN</td>\n",
              "      <td>NaN</td>\n",
              "      <td>NaN</td>\n",
              "      <td>NaN</td>\n",
              "      <td>NaN</td>\n",
              "      <td>NaN</td>\n",
              "      <td>NaN</td>\n",
              "      <td>NaN</td>\n",
              "      <td>NaN</td>\n",
              "      <td>NaN</td>\n",
              "      <td>NaN</td>\n",
              "      <td>https://okn-mk.mkrf.ru/maps/show/id/1962138</td>\n",
              "      <td>1962138</td>\n",
              "    </tr>\n",
              "    <tr>\n",
              "      <th>93197</th>\n",
              "      <td>Братская могила 7 красных партизан в с. Усть-Ухте</td>\n",
              "      <td>111710819530005</td>\n",
              "      <td>Республика Коми, г. Сосногорск, с. Усть-Ухта, ...</td>\n",
              "      <td>11</td>\n",
              "      <td>Республика Коми</td>\n",
              "      <td>11-115538</td>\n",
              "      <td>2</td>\n",
              "      <td>Регионального значения</td>\n",
              "      <td>1</td>\n",
              "      <td>Памятник</td>\n",
              "      <td>К особенностям, составляющим предмет охраны об...</td>\n",
              "      <td>NaN</td>\n",
              "      <td>2</td>\n",
              "      <td>нет</td>\n",
              "      <td>2</td>\n",
              "      <td>нет</td>\n",
              "      <td>NaN</td>\n",
              "      <td>1919 г., 1957 г.</td>\n",
              "      <td>NaN</td>\n",
              "      <td>254773</td>\n",
              "      <td>true</td>\n",
              "      <td>1959.0</td>\n",
              "      <td>/cdm/v2/heritages/1/254773</td>\n",
              "      <td>heritage</td>\n",
              "      <td>NaN</td>\n",
              "      <td>2021-01-22T08:14:19Z</td>\n",
              "      <td>NaN</td>\n",
              "      <td>NaN</td>\n",
              "      <td>2</td>\n",
              "      <td>Памятник истории</td>\n",
              "      <td>Постановление Совета Министров Коми АССР \"О па...</td>\n",
              "      <td>406</td>\n",
              "      <td>1959-11-30</td>\n",
              "      <td>NaN</td>\n",
              "      <td>NaN</td>\n",
              "      <td>NaN</td>\n",
              "      <td>NaN</td>\n",
              "      <td>NaN</td>\n",
              "      <td>NaN</td>\n",
              "      <td>NaN</td>\n",
              "      <td>NaN</td>\n",
              "      <td>NaN</td>\n",
              "      <td>NaN</td>\n",
              "      <td>NaN</td>\n",
              "      <td>NaN</td>\n",
              "      <td>NaN</td>\n",
              "      <td>NaN</td>\n",
              "      <td>NaN</td>\n",
              "      <td>NaN</td>\n",
              "      <td>NaN</td>\n",
              "      <td>NaN</td>\n",
              "      <td>NaN</td>\n",
              "      <td>NaN</td>\n",
              "      <td>NaN</td>\n",
              "      <td>NaN</td>\n",
              "      <td>NaN</td>\n",
              "      <td>NaN</td>\n",
              "      <td>NaN</td>\n",
              "      <td>NaN</td>\n",
              "      <td>NaN</td>\n",
              "      <td>NaN</td>\n",
              "      <td>NaN</td>\n",
              "      <td>NaN</td>\n",
              "      <td>NaN</td>\n",
              "      <td>NaN</td>\n",
              "      <td>NaN</td>\n",
              "      <td>NaN</td>\n",
              "      <td>NaN</td>\n",
              "      <td>NaN</td>\n",
              "      <td>NaN</td>\n",
              "      <td>NaN</td>\n",
              "      <td>NaN</td>\n",
              "      <td>NaN</td>\n",
              "      <td>NaN</td>\n",
              "      <td>NaN</td>\n",
              "      <td>NaN</td>\n",
              "      <td>NaN</td>\n",
              "      <td>NaN</td>\n",
              "      <td>NaN</td>\n",
              "      <td>NaN</td>\n",
              "      <td>NaN</td>\n",
              "      <td>NaN</td>\n",
              "      <td>NaN</td>\n",
              "      <td>NaN</td>\n",
              "      <td>NaN</td>\n",
              "      <td>https://okn-mk.mkrf.ru/maps/show/id/2455551</td>\n",
              "      <td>2455551</td>\n",
              "    </tr>\n",
              "  </tbody>\n",
              "</table>\n",
              "</div>\n",
              "    <div class=\"colab-df-buttons\">\n",
              "\n",
              "  <div class=\"colab-df-container\">\n",
              "    <button class=\"colab-df-convert\" onclick=\"convertToInteractive('df-12424e39-d73e-4458-85ad-b1971a262a5d')\"\n",
              "            title=\"Convert this dataframe to an interactive table.\"\n",
              "            style=\"display:none;\">\n",
              "\n",
              "  <svg xmlns=\"http://www.w3.org/2000/svg\" height=\"24px\" viewBox=\"0 -960 960 960\">\n",
              "    <path d=\"M120-120v-720h720v720H120Zm60-500h600v-160H180v160Zm220 220h160v-160H400v160Zm0 220h160v-160H400v160ZM180-400h160v-160H180v160Zm440 0h160v-160H620v160ZM180-180h160v-160H180v160Zm440 0h160v-160H620v160Z\"/>\n",
              "  </svg>\n",
              "    </button>\n",
              "\n",
              "  <style>\n",
              "    .colab-df-container {\n",
              "      display:flex;\n",
              "      gap: 12px;\n",
              "    }\n",
              "\n",
              "    .colab-df-convert {\n",
              "      background-color: #E8F0FE;\n",
              "      border: none;\n",
              "      border-radius: 50%;\n",
              "      cursor: pointer;\n",
              "      display: none;\n",
              "      fill: #1967D2;\n",
              "      height: 32px;\n",
              "      padding: 0 0 0 0;\n",
              "      width: 32px;\n",
              "    }\n",
              "\n",
              "    .colab-df-convert:hover {\n",
              "      background-color: #E2EBFA;\n",
              "      box-shadow: 0px 1px 2px rgba(60, 64, 67, 0.3), 0px 1px 3px 1px rgba(60, 64, 67, 0.15);\n",
              "      fill: #174EA6;\n",
              "    }\n",
              "\n",
              "    .colab-df-buttons div {\n",
              "      margin-bottom: 4px;\n",
              "    }\n",
              "\n",
              "    [theme=dark] .colab-df-convert {\n",
              "      background-color: #3B4455;\n",
              "      fill: #D2E3FC;\n",
              "    }\n",
              "\n",
              "    [theme=dark] .colab-df-convert:hover {\n",
              "      background-color: #434B5C;\n",
              "      box-shadow: 0px 1px 3px 1px rgba(0, 0, 0, 0.15);\n",
              "      filter: drop-shadow(0px 1px 2px rgba(0, 0, 0, 0.3));\n",
              "      fill: #FFFFFF;\n",
              "    }\n",
              "  </style>\n",
              "\n",
              "    <script>\n",
              "      const buttonEl =\n",
              "        document.querySelector('#df-12424e39-d73e-4458-85ad-b1971a262a5d button.colab-df-convert');\n",
              "      buttonEl.style.display =\n",
              "        google.colab.kernel.accessAllowed ? 'block' : 'none';\n",
              "\n",
              "      async function convertToInteractive(key) {\n",
              "        const element = document.querySelector('#df-12424e39-d73e-4458-85ad-b1971a262a5d');\n",
              "        const dataTable =\n",
              "          await google.colab.kernel.invokeFunction('convertToInteractive',\n",
              "                                                    [key], {});\n",
              "        if (!dataTable) return;\n",
              "\n",
              "        const docLinkHtml = 'Like what you see? Visit the ' +\n",
              "          '<a target=\"_blank\" href=https://colab.research.google.com/notebooks/data_table.ipynb>data table notebook</a>'\n",
              "          + ' to learn more about interactive tables.';\n",
              "        element.innerHTML = '';\n",
              "        dataTable['output_type'] = 'display_data';\n",
              "        await google.colab.output.renderOutput(dataTable, element);\n",
              "        const docLink = document.createElement('div');\n",
              "        docLink.innerHTML = docLinkHtml;\n",
              "        element.appendChild(docLink);\n",
              "      }\n",
              "    </script>\n",
              "  </div>\n",
              "\n",
              "\n",
              "<div id=\"df-b8ba54fc-c86d-4479-8886-a70a074ffb98\">\n",
              "  <button class=\"colab-df-quickchart\" onclick=\"quickchart('df-b8ba54fc-c86d-4479-8886-a70a074ffb98')\"\n",
              "            title=\"Suggest charts\"\n",
              "            style=\"display:none;\">\n",
              "\n",
              "<svg xmlns=\"http://www.w3.org/2000/svg\" height=\"24px\"viewBox=\"0 0 24 24\"\n",
              "     width=\"24px\">\n",
              "    <g>\n",
              "        <path d=\"M19 3H5c-1.1 0-2 .9-2 2v14c0 1.1.9 2 2 2h14c1.1 0 2-.9 2-2V5c0-1.1-.9-2-2-2zM9 17H7v-7h2v7zm4 0h-2V7h2v10zm4 0h-2v-4h2v4z\"/>\n",
              "    </g>\n",
              "</svg>\n",
              "  </button>\n",
              "\n",
              "<style>\n",
              "  .colab-df-quickchart {\n",
              "      --bg-color: #E8F0FE;\n",
              "      --fill-color: #1967D2;\n",
              "      --hover-bg-color: #E2EBFA;\n",
              "      --hover-fill-color: #174EA6;\n",
              "      --disabled-fill-color: #AAA;\n",
              "      --disabled-bg-color: #DDD;\n",
              "  }\n",
              "\n",
              "  [theme=dark] .colab-df-quickchart {\n",
              "      --bg-color: #3B4455;\n",
              "      --fill-color: #D2E3FC;\n",
              "      --hover-bg-color: #434B5C;\n",
              "      --hover-fill-color: #FFFFFF;\n",
              "      --disabled-bg-color: #3B4455;\n",
              "      --disabled-fill-color: #666;\n",
              "  }\n",
              "\n",
              "  .colab-df-quickchart {\n",
              "    background-color: var(--bg-color);\n",
              "    border: none;\n",
              "    border-radius: 50%;\n",
              "    cursor: pointer;\n",
              "    display: none;\n",
              "    fill: var(--fill-color);\n",
              "    height: 32px;\n",
              "    padding: 0;\n",
              "    width: 32px;\n",
              "  }\n",
              "\n",
              "  .colab-df-quickchart:hover {\n",
              "    background-color: var(--hover-bg-color);\n",
              "    box-shadow: 0 1px 2px rgba(60, 64, 67, 0.3), 0 1px 3px 1px rgba(60, 64, 67, 0.15);\n",
              "    fill: var(--button-hover-fill-color);\n",
              "  }\n",
              "\n",
              "  .colab-df-quickchart-complete:disabled,\n",
              "  .colab-df-quickchart-complete:disabled:hover {\n",
              "    background-color: var(--disabled-bg-color);\n",
              "    fill: var(--disabled-fill-color);\n",
              "    box-shadow: none;\n",
              "  }\n",
              "\n",
              "  .colab-df-spinner {\n",
              "    border: 2px solid var(--fill-color);\n",
              "    border-color: transparent;\n",
              "    border-bottom-color: var(--fill-color);\n",
              "    animation:\n",
              "      spin 1s steps(1) infinite;\n",
              "  }\n",
              "\n",
              "  @keyframes spin {\n",
              "    0% {\n",
              "      border-color: transparent;\n",
              "      border-bottom-color: var(--fill-color);\n",
              "      border-left-color: var(--fill-color);\n",
              "    }\n",
              "    20% {\n",
              "      border-color: transparent;\n",
              "      border-left-color: var(--fill-color);\n",
              "      border-top-color: var(--fill-color);\n",
              "    }\n",
              "    30% {\n",
              "      border-color: transparent;\n",
              "      border-left-color: var(--fill-color);\n",
              "      border-top-color: var(--fill-color);\n",
              "      border-right-color: var(--fill-color);\n",
              "    }\n",
              "    40% {\n",
              "      border-color: transparent;\n",
              "      border-right-color: var(--fill-color);\n",
              "      border-top-color: var(--fill-color);\n",
              "    }\n",
              "    60% {\n",
              "      border-color: transparent;\n",
              "      border-right-color: var(--fill-color);\n",
              "    }\n",
              "    80% {\n",
              "      border-color: transparent;\n",
              "      border-right-color: var(--fill-color);\n",
              "      border-bottom-color: var(--fill-color);\n",
              "    }\n",
              "    90% {\n",
              "      border-color: transparent;\n",
              "      border-bottom-color: var(--fill-color);\n",
              "    }\n",
              "  }\n",
              "</style>\n",
              "\n",
              "  <script>\n",
              "    async function quickchart(key) {\n",
              "      const quickchartButtonEl =\n",
              "        document.querySelector('#' + key + ' button');\n",
              "      quickchartButtonEl.disabled = true;  // To prevent multiple clicks.\n",
              "      quickchartButtonEl.classList.add('colab-df-spinner');\n",
              "      try {\n",
              "        const charts = await google.colab.kernel.invokeFunction(\n",
              "            'suggestCharts', [key], {});\n",
              "      } catch (error) {\n",
              "        console.error('Error during call to suggestCharts:', error);\n",
              "      }\n",
              "      quickchartButtonEl.classList.remove('colab-df-spinner');\n",
              "      quickchartButtonEl.classList.add('colab-df-quickchart-complete');\n",
              "    }\n",
              "    (() => {\n",
              "      let quickchartButtonEl =\n",
              "        document.querySelector('#df-b8ba54fc-c86d-4479-8886-a70a074ffb98 button');\n",
              "      quickchartButtonEl.style.display =\n",
              "        google.colab.kernel.accessAllowed ? 'block' : 'none';\n",
              "    })();\n",
              "  </script>\n",
              "</div>\n",
              "    </div>\n",
              "  </div>\n"
            ]
          },
          "metadata": {},
          "execution_count": 22
        }
      ],
      "source": [
        "df[df['Полный адрес'].str\\\n",
        "                     .contains('Ухта', na = False)]\\\n",
        "                     .sort_values(by='Объект')\\\n",
        "                     .head()"
      ],
      "id": "c497c5e0-e8d9-405e-b91d-879ca6361d33"
    },
    {
      "cell_type": "markdown",
      "metadata": {
        "id": "3ee08e04-447a-4831-a31f-1b0d6709c308"
      },
      "source": [
        "Колонки `Изображение`, `наименование документа`, `Id-общая видовая принадлежность` и `На карте` исчезли, а вместо них появились другие.\n",
        "\n",
        "Если вглядеться, то образовалось много колонок-паразитов, в названиях которых присутствуют числовые суффиксы от 1 до 11.\\\n",
        "Если обратиться к сайту минкульта, то станет ясно, что это поправки в документах."
      ],
      "id": "3ee08e04-447a-4831-a31f-1b0d6709c308"
    },
    {
      "cell_type": "markdown",
      "metadata": {
        "id": "dbca3760-23f9-4fc4-863a-fb70c036e668"
      },
      "source": [
        "<br>"
      ],
      "id": "dbca3760-23f9-4fc4-863a-fb70c036e668"
    },
    {
      "cell_type": "markdown",
      "metadata": {
        "id": "85c66b5d-0a83-46f6-93ab-817a2cb4e99f"
      },
      "source": [
        "#### Удаление колонок-паразитов"
      ],
      "id": "85c66b5d-0a83-46f6-93ab-817a2cb4e99f"
    },
    {
      "cell_type": "markdown",
      "metadata": {
        "id": "69da9737-9946-4c78-a07d-e4b13106d1fe"
      },
      "source": [
        "Посмотрим, каков процент пропусков в этих новых колонках."
      ],
      "id": "69da9737-9946-4c78-a07d-e4b13106d1fe"
    },
    {
      "cell_type": "code",
      "execution_count": 23,
      "metadata": {
        "id": "5e852554-0d49-4d2a-87a8-92347bdea17b",
        "colab": {
          "base_uri": "https://localhost:8080/"
        },
        "outputId": "50c6ff08-734b-4bc0-9ac3-7f0f63bc7016"
      },
      "outputs": [
        {
          "output_type": "execute_result",
          "data": {
            "text/plain": [
              "number_9          99.958574\n",
              "archive_10_url    99.958574\n",
              "number_10         99.958574\n",
              "name_10           99.958574\n",
              "archive_9_url     99.958574\n",
              "date_9            99.958574\n",
              "date_10           99.958574\n",
              "archive_10_id     99.958574\n",
              "archive_9_id      99.958574\n",
              "name_11           99.958574\n",
              "number_11         99.958574\n",
              "date_11           99.958574\n",
              "archive_11_id     99.958574\n",
              "archive_11_url    99.958574\n",
              "name_9            99.958574\n",
              "date_8            99.957927\n",
              "number_8          99.957927\n",
              "name_8            99.957927\n",
              "archive_8_url     99.957927\n",
              "archive_8_id      99.957927\n",
              "dtype: float64"
            ]
          },
          "metadata": {},
          "execution_count": 23
        }
      ],
      "source": [
        "null_percent = df.isna().mean() * 100\n",
        "null_percent.sort_values(ascending=False).head(20)"
      ],
      "id": "5e852554-0d49-4d2a-87a8-92347bdea17b"
    },
    {
      "cell_type": "code",
      "source": [
        "print(f'Количество колонок: {df.shape[1]}')"
      ],
      "metadata": {
        "colab": {
          "base_uri": "https://localhost:8080/"
        },
        "id": "PAh0abRmY2RJ",
        "outputId": "63b0a29a-4e7c-4ac1-b8f0-681981a91761"
      },
      "id": "PAh0abRmY2RJ",
      "execution_count": 24,
      "outputs": [
        {
          "output_type": "stream",
          "name": "stdout",
          "text": [
            "Количество колонок: 87\n"
          ]
        }
      ]
    },
    {
      "cell_type": "markdown",
      "metadata": {
        "id": "9f200c9f-3488-4a52-9140-cf12e3e87ec1"
      },
      "source": [
        "<br>"
      ],
      "id": "9f200c9f-3488-4a52-9140-cf12e3e87ec1"
    },
    {
      "cell_type": "markdown",
      "metadata": {
        "id": "d20c3edb-892c-417a-bf18-38b0153de80c"
      },
      "source": [
        "Видим много колонок с $99$% пропусков. Нужно их снести."
      ],
      "id": "d20c3edb-892c-417a-bf18-38b0153de80c"
    },
    {
      "cell_type": "code",
      "execution_count": 25,
      "metadata": {
        "id": "23fa38eb-65f4-46c9-9785-38447a83fea7"
      },
      "outputs": [],
      "source": [
        "# удаление\n",
        "df = df.drop(columns = null_percent[null_percent >= 90].index)"
      ],
      "id": "23fa38eb-65f4-46c9-9785-38447a83fea7"
    },
    {
      "cell_type": "markdown",
      "metadata": {
        "id": "a60f185c-bd51-4744-91dd-0e3bc406bd33"
      },
      "source": [
        "<br>"
      ],
      "id": "a60f185c-bd51-4744-91dd-0e3bc406bd33"
    },
    {
      "cell_type": "markdown",
      "metadata": {
        "id": "T2h6PmhkZDI8"
      },
      "source": [
        "Проверим, уменьшилось ли их количество."
      ],
      "id": "T2h6PmhkZDI8"
    },
    {
      "cell_type": "code",
      "source": [
        "print(f'Количество колонок: {df.shape[1]}')"
      ],
      "metadata": {
        "colab": {
          "base_uri": "https://localhost:8080/"
        },
        "id": "Jqy6olyWZH9U",
        "outputId": "07c6c512-04a1-437f-adb8-98a4339fa4af"
      },
      "id": "Jqy6olyWZH9U",
      "execution_count": 26,
      "outputs": [
        {
          "output_type": "stream",
          "name": "stdout",
          "text": [
            "Количество колонок: 42\n"
          ]
        }
      ]
    },
    {
      "cell_type": "markdown",
      "metadata": {
        "id": "9a47c27b-193c-4533-8884-4bfe1201007d"
      },
      "source": [
        "Колонки удалены."
      ],
      "id": "9a47c27b-193c-4533-8884-4bfe1201007d"
    },
    {
      "cell_type": "markdown",
      "metadata": {
        "id": "6f4aa267-237c-4472-9c9a-e3e7605e9b49"
      },
      "source": [
        "<br>"
      ],
      "id": "6f4aa267-237c-4472-9c9a-e3e7605e9b49"
    },
    {
      "cell_type": "markdown",
      "metadata": {
        "id": "82be2095-cd2c-445b-b19c-cc09c68ab0ea"
      },
      "source": [
        "## Обзор колонок"
      ],
      "id": "82be2095-cd2c-445b-b19c-cc09c68ab0ea"
    },
    {
      "cell_type": "markdown",
      "metadata": {
        "id": "be7770a3-56f5-43c2-b706-30ca68ad45e1"
      },
      "source": [
        "Разберёмся, что вообще значит каждая колонка в датафрейме.\n",
        "\n",
        "Выведем названия всех колонок."
      ],
      "id": "be7770a3-56f5-43c2-b706-30ca68ad45e1"
    },
    {
      "cell_type": "code",
      "execution_count": 27,
      "metadata": {
        "id": "04b19d67-152a-42e0-987e-cebe774f3e2f",
        "colab": {
          "base_uri": "https://localhost:8080/"
        },
        "outputId": "6788d7c4-ea26-4f08-bc1d-cd9434738aff"
      },
      "outputs": [
        {
          "output_type": "execute_result",
          "data": {
            "text/plain": [
              "['Объект',\n",
              " 'Номер в реестре',\n",
              " 'Полный адрес',\n",
              " 'Id-Регион',\n",
              " 'Регион',\n",
              " 'учетный номер',\n",
              " 'Id-Категория историко-культурного значения',\n",
              " 'Категория историко-культурного значения',\n",
              " 'Id-Вид объекта',\n",
              " 'Вид объекта',\n",
              " 'описание предмета охраны',\n",
              " 'текстовое описание границ',\n",
              " 'Id-Принадлежность к Юнеско',\n",
              " 'Принадлежность к Юнеско',\n",
              " 'Id-Особо ценный объект',\n",
              " 'Особо ценный объект',\n",
              " 'идентификатор ансамбля',\n",
              " 'дата создания',\n",
              " 'зоны охраны и режимы использования земель',\n",
              " 'Id - идентификатор',\n",
              " 'признак актуальности',\n",
              " 'год постановки ОКН на Госохрану',\n",
              " 'относительный URL объекта',\n",
              " 'категория объекта',\n",
              " 'дата создания объекта',\n",
              " 'дата обновления объекта',\n",
              " 'coordinates',\n",
              " 'type',\n",
              " 'id-общая видовая принадлежность',\n",
              " 'общая видовая принадлежность',\n",
              " 'name_1',\n",
              " 'number_1',\n",
              " 'date_1',\n",
              " 'archive_1_id',\n",
              " 'archive_1_url',\n",
              " 'name_2',\n",
              " 'number_2',\n",
              " 'date_2',\n",
              " 'archive_2_id',\n",
              " 'archive_2_url',\n",
              " 'URL',\n",
              " 'Title']"
            ]
          },
          "metadata": {},
          "execution_count": 27
        }
      ],
      "source": [
        "df.columns.to_list()"
      ],
      "id": "04b19d67-152a-42e0-987e-cebe774f3e2f"
    },
    {
      "cell_type": "markdown",
      "metadata": {
        "id": "5e3c589c-c1c7-4bd2-944d-011b1bdfded9"
      },
      "source": [
        "Имея под рукой отдельный объект культурного наследия, открытый на сайте минкульта РФ, получили информацию.\\\n",
        "Одна строка в датафрейме — это один объект культурного наследия. Эта строка содержит сведения об объекте.\\\n",
        "Чтобы описать колонку более точно, будем использовать метод `value_counts`."
      ],
      "id": "5e3c589c-c1c7-4bd2-944d-011b1bdfded9"
    },
    {
      "cell_type": "markdown",
      "metadata": {
        "id": "70a9656a-1bbb-46a8-82f9-2deab6c3e9f0"
      },
      "source": [
        "<br>"
      ],
      "id": "70a9656a-1bbb-46a8-82f9-2deab6c3e9f0"
    },
    {
      "cell_type": "markdown",
      "metadata": {
        "id": "ecc135b9-ff99-42ec-9422-d6d93adb2ad8"
      },
      "source": [
        "Итак,\\\n",
        "`Объект` — это сам объект культурного наследия Российской федерации, его наименование."
      ],
      "id": "ecc135b9-ff99-42ec-9422-d6d93adb2ad8"
    },
    {
      "cell_type": "code",
      "execution_count": 28,
      "metadata": {
        "id": "eac6f18a-cd55-4624-a6f5-f77fbbd3d8f6",
        "colab": {
          "base_uri": "https://localhost:8080/"
        },
        "outputId": "1b922fbd-a577-4741-f5dd-df8508a2c86e"
      },
      "outputs": [
        {
          "output_type": "execute_result",
          "data": {
            "text/plain": [
              "Дом жилой           4021\n",
              "Жилой дом           2113\n",
              "Курган              1381\n",
              "Курганная группа     887\n",
              "Селище               755\n",
              "Name: Объект, dtype: int64"
            ]
          },
          "metadata": {},
          "execution_count": 28
        }
      ],
      "source": [
        "df['Объект'].value_counts(dropna=False).head()"
      ],
      "id": "eac6f18a-cd55-4624-a6f5-f77fbbd3d8f6"
    },
    {
      "cell_type": "markdown",
      "metadata": {
        "id": "ef5ac6fc-002d-411a-860c-523305da8645"
      },
      "source": [
        "<br>"
      ],
      "id": "ef5ac6fc-002d-411a-860c-523305da8645"
    },
    {
      "cell_type": "markdown",
      "metadata": {
        "id": "5f61ff0f-86e3-42d2-9b81-416a52d6f914"
      },
      "source": [
        "`Номер в реестре` — это номер объекта, по которому его можно идентифицировать на сайте открытых данных минкульта. У каждого объекта свой уникальный номер в реестре."
      ],
      "id": "5f61ff0f-86e3-42d2-9b81-416a52d6f914"
    },
    {
      "cell_type": "code",
      "execution_count": 29,
      "metadata": {
        "id": "29e4fb14-55a2-4e50-94d3-be7107fa6cd8",
        "colab": {
          "base_uri": "https://localhost:8080/"
        },
        "outputId": "b5546f03-6351-44c8-e352-a4ff174ad298"
      },
      "outputs": [
        {
          "output_type": "execute_result",
          "data": {
            "text/plain": [
              "671510201120006    1\n",
              "131710904690005    1\n",
              "131710904710005    1\n",
              "581710920830005    1\n",
              "131710904720005    1\n",
              "Name: Номер в реестре, dtype: int64"
            ]
          },
          "metadata": {},
          "execution_count": 29
        }
      ],
      "source": [
        "df['Номер в реестре'].value_counts(dropna=False).head()"
      ],
      "id": "29e4fb14-55a2-4e50-94d3-be7107fa6cd8"
    },
    {
      "cell_type": "markdown",
      "metadata": {
        "id": "7ae01796-cafe-45e5-baa2-b2bf6ec68a48"
      },
      "source": [
        "<br>"
      ],
      "id": "7ae01796-cafe-45e5-baa2-b2bf6ec68a48"
    },
    {
      "cell_type": "markdown",
      "metadata": {
        "id": "27f5a2a5-d0b1-4da3-b321-12d1d85d6d62"
      },
      "source": [
        "`Id-Регион` — это код субъекта РФ."
      ],
      "id": "27f5a2a5-d0b1-4da3-b321-12d1d85d6d62"
    },
    {
      "cell_type": "code",
      "execution_count": 30,
      "metadata": {
        "id": "712173a1-3e53-4583-bfd1-6c3e51580466",
        "colab": {
          "base_uri": "https://localhost:8080/"
        },
        "outputId": "dee3353b-3cac-4424-f3df-32a893d7e969"
      },
      "outputs": [
        {
          "output_type": "execute_result",
          "data": {
            "text/plain": [
              "61    9658\n",
              "23    9264\n",
              "69    7398\n",
              "5     6369\n",
              "77    6228\n",
              "Name: Id-Регион, dtype: int64"
            ]
          },
          "metadata": {},
          "execution_count": 30
        }
      ],
      "source": [
        "df['Id-Регион'].value_counts(dropna=False).head()"
      ],
      "id": "712173a1-3e53-4583-bfd1-6c3e51580466"
    },
    {
      "cell_type": "markdown",
      "metadata": {
        "id": "97fb5b93-2a95-4e27-b41f-172abda45536"
      },
      "source": [
        "<br>"
      ],
      "id": "97fb5b93-2a95-4e27-b41f-172abda45536"
    },
    {
      "cell_type": "markdown",
      "metadata": {
        "id": "d3e178a5-27ce-4d88-88b3-8d3d7f88c233"
      },
      "source": [
        "`Регион` — это субъект РФ."
      ],
      "id": "d3e178a5-27ce-4d88-88b3-8d3d7f88c233"
    },
    {
      "cell_type": "code",
      "execution_count": 31,
      "metadata": {
        "id": "bf5a7b1a-9c84-4083-b2d8-07d7b672705d",
        "colab": {
          "base_uri": "https://localhost:8080/"
        },
        "outputId": "767f54a4-fffd-4ead-d559-479f977669f0"
      },
      "outputs": [
        {
          "output_type": "execute_result",
          "data": {
            "text/plain": [
              "Ростовская область     9658\n",
              "Краснодарский край     9264\n",
              "Тверская область       7398\n",
              "Республика Дагестан    6369\n",
              "г. Москва              6228\n",
              "Name: Регион, dtype: int64"
            ]
          },
          "metadata": {},
          "execution_count": 31
        }
      ],
      "source": [
        "df['Регион'].value_counts(dropna=False).head()"
      ],
      "id": "bf5a7b1a-9c84-4083-b2d8-07d7b672705d"
    },
    {
      "cell_type": "markdown",
      "metadata": {
        "id": "ca33e9cb-fed6-4534-9a83-14ce74c7f8dc"
      },
      "source": [
        "<br>"
      ],
      "id": "ca33e9cb-fed6-4534-9a83-14ce74c7f8dc"
    },
    {
      "cell_type": "markdown",
      "metadata": {
        "id": "7e8c2daf-ba8f-4e72-96b9-c755ae4f5520"
      },
      "source": [
        "`учетный номер` — некий учётный номер. Возможно, служебная информация. У каждого объекта свой учётный номер."
      ],
      "id": "7e8c2daf-ba8f-4e72-96b9-c755ae4f5520"
    },
    {
      "cell_type": "code",
      "execution_count": 32,
      "metadata": {
        "id": "a3abe91c-2233-4abf-80d7-d7c98da93d30",
        "colab": {
          "base_uri": "https://localhost:8080/"
        },
        "outputId": "5426eaa1-ac95-4cf8-b6ab-31af17a74920"
      },
      "outputs": [
        {
          "output_type": "execute_result",
          "data": {
            "text/plain": [
              "67-292       1\n",
              "13-77250     1\n",
              "13-77258     1\n",
              "58-124112    1\n",
              "13-77260     1\n",
              "Name: учетный номер, dtype: int64"
            ]
          },
          "metadata": {},
          "execution_count": 32
        }
      ],
      "source": [
        "df['учетный номер'].value_counts(dropna=False).head()"
      ],
      "id": "a3abe91c-2233-4abf-80d7-d7c98da93d30"
    },
    {
      "cell_type": "markdown",
      "metadata": {
        "id": "dfd59c60-3fe7-4f74-93a7-0c114aa9ddeb"
      },
      "source": [
        "<br>"
      ],
      "id": "dfd59c60-3fe7-4f74-93a7-0c114aa9ddeb"
    },
    {
      "cell_type": "markdown",
      "metadata": {
        "id": "e87505d9-0ff2-4ba1-a51b-42b4a0a98ac2"
      },
      "source": [
        "`Id-Категория историко-культурного значения` — идентификатор категории историко-культурного значения. Идентификаторов всего три."
      ],
      "id": "e87505d9-0ff2-4ba1-a51b-42b4a0a98ac2"
    },
    {
      "cell_type": "code",
      "execution_count": 33,
      "metadata": {
        "id": "ae5f37c4-8caf-4c32-9b7b-5ae14232db3c",
        "colab": {
          "base_uri": "https://localhost:8080/"
        },
        "outputId": "ccf8394c-4479-4495-cb13-fd5d2d7dc8ba"
      },
      "outputs": [
        {
          "output_type": "execute_result",
          "data": {
            "text/plain": [
              "2    78696\n",
              "1    71746\n",
              "4     4051\n",
              "Name: Id-Категория историко-культурного значения, dtype: int64"
            ]
          },
          "metadata": {},
          "execution_count": 33
        }
      ],
      "source": [
        "df['Id-Категория историко-культурного значения'].value_counts(dropna=False).head()"
      ],
      "id": "ae5f37c4-8caf-4c32-9b7b-5ae14232db3c"
    },
    {
      "cell_type": "markdown",
      "metadata": {
        "id": "5a332c3a-2725-440c-8150-d02a8468be28"
      },
      "source": [
        "<br>"
      ],
      "id": "5a332c3a-2725-440c-8150-d02a8468be28"
    },
    {
      "cell_type": "markdown",
      "metadata": {
        "id": "07de05a7-bc9c-4ca1-9570-1aabefb33207"
      },
      "source": [
        "`Категория историко-культурного значения` — название категории. Их также три:\n",
        "* объект муниципального значения\n",
        "* объект регионального значения\n",
        "* объект федерального значения"
      ],
      "id": "07de05a7-bc9c-4ca1-9570-1aabefb33207"
    },
    {
      "cell_type": "code",
      "execution_count": 34,
      "metadata": {
        "id": "025bf4f7-c564-45f5-a665-215f2d7a0eae",
        "colab": {
          "base_uri": "https://localhost:8080/"
        },
        "outputId": "5bb3317b-a5e7-4b89-a8c8-19266c8570bb"
      },
      "outputs": [
        {
          "output_type": "execute_result",
          "data": {
            "text/plain": [
              "Регионального значения                78696\n",
              "Федерального значения                 71746\n",
              "Местного (муниципального) значения     4051\n",
              "Name: Категория историко-культурного значения, dtype: int64"
            ]
          },
          "metadata": {},
          "execution_count": 34
        }
      ],
      "source": [
        "df['Категория историко-культурного значения'].value_counts(dropna=False).head()"
      ],
      "id": "025bf4f7-c564-45f5-a665-215f2d7a0eae"
    },
    {
      "cell_type": "markdown",
      "metadata": {
        "id": "627c5376-2a51-4564-8aea-15c9bfdb3b52"
      },
      "source": [
        "<br>"
      ],
      "id": "627c5376-2a51-4564-8aea-15c9bfdb3b52"
    },
    {
      "cell_type": "markdown",
      "metadata": {
        "id": "6ec07fc1-edf7-4731-8006-83bbba6e7b2c"
      },
      "source": [
        "`Id-Вид объекта` —  идентификатор вида объекта. Их всего три."
      ],
      "id": "6ec07fc1-edf7-4731-8006-83bbba6e7b2c"
    },
    {
      "cell_type": "code",
      "execution_count": 35,
      "metadata": {
        "id": "c9fe6eb5-6ed7-4ae9-be5b-3af6a5eeacb2",
        "colab": {
          "base_uri": "https://localhost:8080/"
        },
        "outputId": "78eb6f9b-b466-41b1-cb21-6320208d12f0"
      },
      "outputs": [
        {
          "output_type": "execute_result",
          "data": {
            "text/plain": [
              "1    129762\n",
              "2     22382\n",
              "3      2349\n",
              "Name: Id-Вид объекта, dtype: int64"
            ]
          },
          "metadata": {},
          "execution_count": 35
        }
      ],
      "source": [
        "df['Id-Вид объекта'].value_counts(dropna=False).head()"
      ],
      "id": "c9fe6eb5-6ed7-4ae9-be5b-3af6a5eeacb2"
    },
    {
      "cell_type": "markdown",
      "metadata": {
        "id": "1bfddd1d-8c63-4c6b-902e-ba8329636c3c"
      },
      "source": [
        "<br>"
      ],
      "id": "1bfddd1d-8c63-4c6b-902e-ba8329636c3c"
    },
    {
      "cell_type": "markdown",
      "metadata": {
        "id": "0daa6eba-748b-4a7d-a9dd-cf131a0a9702"
      },
      "source": [
        "`Вид объекта` — название вида объекта. Их 3:\n",
        "* Памятник\n",
        "* Ансамбль\n",
        "* Достопримечательное место"
      ],
      "id": "0daa6eba-748b-4a7d-a9dd-cf131a0a9702"
    },
    {
      "cell_type": "code",
      "execution_count": 36,
      "metadata": {
        "id": "4b4cb3fc-7b2d-4780-b12f-10a8cceac5cd",
        "colab": {
          "base_uri": "https://localhost:8080/"
        },
        "outputId": "e3055d48-d2a8-485a-8ba2-719bc2ba6727"
      },
      "outputs": [
        {
          "output_type": "execute_result",
          "data": {
            "text/plain": [
              "Памятник                     129762\n",
              "Ансамбль                      22382\n",
              "Достопримечательное место      2349\n",
              "Name: Вид объекта, dtype: int64"
            ]
          },
          "metadata": {},
          "execution_count": 36
        }
      ],
      "source": [
        "df['Вид объекта'].value_counts(dropna=False).head()"
      ],
      "id": "4b4cb3fc-7b2d-4780-b12f-10a8cceac5cd"
    },
    {
      "cell_type": "markdown",
      "metadata": {
        "id": "8654e856-3423-4900-ac92-014dfb8a1719"
      },
      "source": [
        "<br>"
      ],
      "id": "8654e856-3423-4900-ac92-014dfb8a1719"
    },
    {
      "cell_type": "markdown",
      "metadata": {
        "id": "030f4662-038f-42a7-9d2e-c0f4aecaeb4d"
      },
      "source": [
        "`описание предмета охраны` — описание объекта культурного наследия. Видно очень много пропусков и много неявных дубликатов."
      ],
      "id": "030f4662-038f-42a7-9d2e-c0f4aecaeb4d"
    },
    {
      "cell_type": "code",
      "execution_count": 37,
      "metadata": {
        "id": "b7750b71-ad55-4907-9d89-fd2779d4c38e",
        "colab": {
          "base_uri": "https://localhost:8080/"
        },
        "outputId": "707cffdd-0b01-44d8-e61d-5267cb1356ce"
      },
      "outputs": [
        {
          "output_type": "execute_result",
          "data": {
            "text/plain": [
              "NaN                             107964\n",
              "не утвержден                      1272\n",
              "Не утвержден.                     1212\n",
              "Не утвержден                       792\n",
              "Предмет охраны не утвержден.       658\n",
              "Name: описание предмета охраны, dtype: int64"
            ]
          },
          "metadata": {},
          "execution_count": 37
        }
      ],
      "source": [
        "df['описание предмета охраны'].value_counts(dropna=False).head()"
      ],
      "id": "b7750b71-ad55-4907-9d89-fd2779d4c38e"
    },
    {
      "cell_type": "markdown",
      "metadata": {
        "id": "1d18c378-a659-45d5-9bde-38a490d9f2b7"
      },
      "source": [
        "<br>"
      ],
      "id": "1d18c378-a659-45d5-9bde-38a490d9f2b7"
    },
    {
      "cell_type": "markdown",
      "metadata": {
        "id": "ed3bde86-3e0e-4bc0-8d84-0d6ee415b9e1"
      },
      "source": [
        "`текстовое описание границ` — обозначение границ объекта текстом. Очень много пропусков и много неявных дубликатов."
      ],
      "id": "ed3bde86-3e0e-4bc0-8d84-0d6ee415b9e1"
    },
    {
      "cell_type": "code",
      "execution_count": 38,
      "metadata": {
        "id": "f0879cb7-aea0-4421-8cc0-2fac59acafb5",
        "colab": {
          "base_uri": "https://localhost:8080/"
        },
        "outputId": "d0739609-bccc-4f4c-85da-e5793da8a60c"
      },
      "outputs": [
        {
          "output_type": "execute_result",
          "data": {
            "text/plain": [
              "NaN                                  112258\n",
              "Не утверждены.                         1203\n",
              "не утверждены                           588\n",
              "Границы территории не утверждены        452\n",
              "Границы территории не утверждены.       432\n",
              "Name: текстовое описание границ, dtype: int64"
            ]
          },
          "metadata": {},
          "execution_count": 38
        }
      ],
      "source": [
        "df['текстовое описание границ'].value_counts(dropna=False).head()"
      ],
      "id": "f0879cb7-aea0-4421-8cc0-2fac59acafb5"
    },
    {
      "cell_type": "markdown",
      "metadata": {
        "id": "2f136545-47bc-48a6-93f3-218819b243a6"
      },
      "source": [
        "<br>"
      ],
      "id": "2f136545-47bc-48a6-93f3-218819b243a6"
    },
    {
      "cell_type": "markdown",
      "metadata": {
        "id": "a0f284f1-2c9a-4eb0-a38e-4e3d7c6cbf1b"
      },
      "source": [
        "`Id-Принадлежность к Юнеско` — идентификатор, принадлежит ли объект к объектам всемирного наследия Юнеско. Вероятно, представляет собой корявое булево значение."
      ],
      "id": "a0f284f1-2c9a-4eb0-a38e-4e3d7c6cbf1b"
    },
    {
      "cell_type": "code",
      "execution_count": 39,
      "metadata": {
        "id": "a4c95a3d-004a-4a18-b5c7-ff670f2b174d",
        "colab": {
          "base_uri": "https://localhost:8080/"
        },
        "outputId": "5a82477a-7203-45be-e97c-9cd764bd1bed"
      },
      "outputs": [
        {
          "output_type": "execute_result",
          "data": {
            "text/plain": [
              "2    153534\n",
              "1       948\n",
              "0        11\n",
              "Name: Id-Принадлежность к Юнеско, dtype: int64"
            ]
          },
          "metadata": {},
          "execution_count": 39
        }
      ],
      "source": [
        "df['Id-Принадлежность к Юнеско'].value_counts(dropna=False).head()"
      ],
      "id": "a4c95a3d-004a-4a18-b5c7-ff670f2b174d"
    },
    {
      "cell_type": "markdown",
      "metadata": {
        "id": "8c95b4b1-7fd4-45d2-b7f4-7a79c79d9949"
      },
      "source": [
        "<br>"
      ],
      "id": "8c95b4b1-7fd4-45d2-b7f4-7a79c79d9949"
    },
    {
      "cell_type": "markdown",
      "metadata": {
        "id": "f4885fa6-7143-4e8f-9687-2de4bdd403e8"
      },
      "source": [
        "`Принадлежность к Юнеско` — текстовое указание принадлежности к Юнеско."
      ],
      "id": "f4885fa6-7143-4e8f-9687-2de4bdd403e8"
    },
    {
      "cell_type": "code",
      "execution_count": 40,
      "metadata": {
        "id": "5e216cca-3b51-4265-8ed0-75e4daa236a9",
        "colab": {
          "base_uri": "https://localhost:8080/"
        },
        "outputId": "7efb2bc3-77fe-4e67-d21e-334bebdba739"
      },
      "outputs": [
        {
          "output_type": "execute_result",
          "data": {
            "text/plain": [
              "нет    153534\n",
              "да        948\n",
              "NaN        11\n",
              "Name: Принадлежность к Юнеско, dtype: int64"
            ]
          },
          "metadata": {},
          "execution_count": 40
        }
      ],
      "source": [
        "df['Принадлежность к Юнеско'].value_counts(dropna=False).head()"
      ],
      "id": "5e216cca-3b51-4265-8ed0-75e4daa236a9"
    },
    {
      "cell_type": "markdown",
      "metadata": {
        "id": "e2405be6-638c-44cb-8da3-d65f88d23d96"
      },
      "source": [
        "<br>"
      ],
      "id": "e2405be6-638c-44cb-8da3-d65f88d23d96"
    },
    {
      "cell_type": "markdown",
      "metadata": {
        "id": "10188165-68cc-45da-a4be-bb65effbbf02"
      },
      "source": [
        "`Id-Особо ценный объект` — идентификатор, является ли объект особо ценным."
      ],
      "id": "10188165-68cc-45da-a4be-bb65effbbf02"
    },
    {
      "cell_type": "code",
      "execution_count": 41,
      "metadata": {
        "id": "984ac0c5-770f-46de-86c5-0c632c92ea86",
        "colab": {
          "base_uri": "https://localhost:8080/"
        },
        "outputId": "bd22abbb-794a-4a28-9835-ffa6c4d27ec8"
      },
      "outputs": [
        {
          "output_type": "execute_result",
          "data": {
            "text/plain": [
              "2    154217\n",
              "1       265\n",
              "0        11\n",
              "Name: Id-Особо ценный объект, dtype: int64"
            ]
          },
          "metadata": {},
          "execution_count": 41
        }
      ],
      "source": [
        "df['Id-Особо ценный объект'].value_counts(dropna=False).head()"
      ],
      "id": "984ac0c5-770f-46de-86c5-0c632c92ea86"
    },
    {
      "cell_type": "markdown",
      "metadata": {
        "id": "d97c2aea-1bbd-4ff6-9dde-a593882bf91f"
      },
      "source": [
        "<br>"
      ],
      "id": "d97c2aea-1bbd-4ff6-9dde-a593882bf91f"
    },
    {
      "cell_type": "markdown",
      "metadata": {
        "id": "b8e07a43-7e9e-4385-8276-b2a82425ecca"
      },
      "source": [
        "`Особо ценный объект` — является ли объект особо ценным."
      ],
      "id": "b8e07a43-7e9e-4385-8276-b2a82425ecca"
    },
    {
      "cell_type": "code",
      "execution_count": 42,
      "metadata": {
        "id": "a1217053-7af8-4307-b5fc-0f0935f53656",
        "colab": {
          "base_uri": "https://localhost:8080/"
        },
        "outputId": "e3500a69-a2c7-437e-d354-30689efb373a"
      },
      "outputs": [
        {
          "output_type": "execute_result",
          "data": {
            "text/plain": [
              "нет    154217\n",
              "да        265\n",
              "NaN        11\n",
              "Name: Особо ценный объект, dtype: int64"
            ]
          },
          "metadata": {},
          "execution_count": 42
        }
      ],
      "source": [
        "df['Особо ценный объект'].value_counts(dropna=False).head()"
      ],
      "id": "a1217053-7af8-4307-b5fc-0f0935f53656"
    },
    {
      "cell_type": "markdown",
      "metadata": {
        "id": "a10e300e-0a6e-4022-963f-bad4d101947c"
      },
      "source": [
        "<br>"
      ],
      "id": "a10e300e-0a6e-4022-963f-bad4d101947c"
    },
    {
      "cell_type": "markdown",
      "metadata": {
        "id": "0c854ad3-0caf-4976-81ad-09fdde032775"
      },
      "source": [
        "`идентификатор ансамбля` — идентификатор принадлежности объекта к определённому ансамблю. Очень много пропусков."
      ],
      "id": "0c854ad3-0caf-4976-81ad-09fdde032775"
    },
    {
      "cell_type": "code",
      "execution_count": 43,
      "metadata": {
        "id": "a1d94f03-4c9b-4c3d-8882-2b36530a345d",
        "colab": {
          "base_uri": "https://localhost:8080/"
        },
        "outputId": "2137ea1a-5335-4283-8055-eb0fae44e1a5"
      },
      "outputs": [
        {
          "output_type": "execute_result",
          "data": {
            "text/plain": [
              "NaN         132057\n",
              "151344.0       219\n",
              "164457.0       147\n",
              "214508.0       121\n",
              "194299.0       107\n",
              "Name: идентификатор ансамбля, dtype: int64"
            ]
          },
          "metadata": {},
          "execution_count": 43
        }
      ],
      "source": [
        "df['идентификатор ансамбля'].value_counts(dropna=False).head()"
      ],
      "id": "a1d94f03-4c9b-4c3d-8882-2b36530a345d"
    },
    {
      "cell_type": "markdown",
      "metadata": {
        "id": "b381c251-94c0-4fbe-9f70-861a9e1a6ebc"
      },
      "source": [
        "<br>"
      ],
      "id": "b381c251-94c0-4fbe-9f70-861a9e1a6ebc"
    },
    {
      "cell_type": "markdown",
      "metadata": {
        "id": "d1cd53ca-002f-4490-8879-a69ce55bd550"
      },
      "source": [
        "`дата создания` — дата создания объекта культурного наследия."
      ],
      "id": "d1cd53ca-002f-4490-8879-a69ce55bd550"
    },
    {
      "cell_type": "code",
      "execution_count": 44,
      "metadata": {
        "id": "452234a4-6026-4ee5-93ba-cce81540b61d",
        "colab": {
          "base_uri": "https://localhost:8080/"
        },
        "outputId": "006df94d-b2ed-43e7-f895-1584ddd0d2ad"
      },
      "outputs": [
        {
          "output_type": "execute_result",
          "data": {
            "text/plain": [
              "дата создания (возникновения) не определена    8114\n",
              "XIX в.                                         4027\n",
              "III тыс. до н.э. - XIV в. н.э.                 3096\n",
              "Дата создания (возникновения) не определена    2236\n",
              "1941-1945 гг.                                  2149\n",
              "Name: дата создания, dtype: int64"
            ]
          },
          "metadata": {},
          "execution_count": 44
        }
      ],
      "source": [
        "df['дата создания'].value_counts(dropna=False).head()"
      ],
      "id": "452234a4-6026-4ee5-93ba-cce81540b61d"
    },
    {
      "cell_type": "markdown",
      "metadata": {
        "id": "06b016b7-72c2-4211-b7c9-7da5acae1f81"
      },
      "source": [
        "<br>"
      ],
      "id": "06b016b7-72c2-4211-b7c9-7da5acae1f81"
    },
    {
      "cell_type": "markdown",
      "metadata": {
        "id": "2899d9cc-b57f-4848-9151-48416b585862"
      },
      "source": [
        "`зоны охраны и режимы использования земель` — определение зоны охраны объекта. Очень много пропусков и много неявных дублей."
      ],
      "id": "2899d9cc-b57f-4848-9151-48416b585862"
    },
    {
      "cell_type": "code",
      "execution_count": 45,
      "metadata": {
        "id": "ed58affb-1792-4004-a024-e9999cfffa87",
        "colab": {
          "base_uri": "https://localhost:8080/"
        },
        "outputId": "1eaa3ecd-dfb1-4ba1-b249-57423194ee89"
      },
      "outputs": [
        {
          "output_type": "execute_result",
          "data": {
            "text/plain": [
              "NaN                        128517\n",
              "Не утверждены.               2488\n",
              "не утверждены                1316\n",
              "Не утверждены                 744\n",
              "зоны охраны установлены       655\n",
              "Name: зоны охраны и режимы использования земель, dtype: int64"
            ]
          },
          "metadata": {},
          "execution_count": 45
        }
      ],
      "source": [
        "df['зоны охраны и режимы использования земель'].value_counts(dropna=False).head()"
      ],
      "id": "ed58affb-1792-4004-a024-e9999cfffa87"
    },
    {
      "cell_type": "markdown",
      "metadata": {
        "id": "c107b2f4-76d4-47d6-b674-863801b405f5"
      },
      "source": [
        "<br>"
      ],
      "id": "c107b2f4-76d4-47d6-b674-863801b405f5"
    },
    {
      "cell_type": "markdown",
      "metadata": {
        "id": "2f297c55-cb28-471f-a9d1-b8c4ffb67a3f"
      },
      "source": [
        "`Id - идентификатор` — уникальный ID объекта."
      ],
      "id": "2f297c55-cb28-471f-a9d1-b8c4ffb67a3f"
    },
    {
      "cell_type": "code",
      "execution_count": 46,
      "metadata": {
        "id": "53a13cfa-69ce-4338-92dc-e69c9f1a6f93",
        "colab": {
          "base_uri": "https://localhost:8080/"
        },
        "outputId": "06c102c4-27d6-48de-ce69-9dad032e06d2"
      },
      "outputs": [
        {
          "output_type": "execute_result",
          "data": {
            "text/plain": [
              "147449    1\n",
              "264705    1\n",
              "264707    1\n",
              "264708    1\n",
              "264709    1\n",
              "Name: Id - идентификатор, dtype: int64"
            ]
          },
          "metadata": {},
          "execution_count": 46
        }
      ],
      "source": [
        "df['Id - идентификатор'].value_counts(dropna=False).head()"
      ],
      "id": "53a13cfa-69ce-4338-92dc-e69c9f1a6f93"
    },
    {
      "cell_type": "markdown",
      "metadata": {
        "id": "f5ecb187-52e9-4ca4-b7b3-845287c74732"
      },
      "source": [
        "<br>"
      ],
      "id": "f5ecb187-52e9-4ca4-b7b3-845287c74732"
    },
    {
      "cell_type": "markdown",
      "metadata": {
        "id": "b25838b8-021c-4683-934b-992bede22fb9"
      },
      "source": [
        "`признак актуальности` — что-то непонятное и странное. Актуален ли объект или нет?"
      ],
      "id": "b25838b8-021c-4683-934b-992bede22fb9"
    },
    {
      "cell_type": "code",
      "execution_count": 47,
      "metadata": {
        "id": "fe88dda1-fe69-4b63-b29f-cf162a408998",
        "colab": {
          "base_uri": "https://localhost:8080/"
        },
        "outputId": "beefbb6a-f795-44ea-8a1a-46bb76588f71"
      },
      "outputs": [
        {
          "output_type": "execute_result",
          "data": {
            "text/plain": [
              "true    152143\n",
              "NaN       2348\n",
              "on           2\n",
              "Name: признак актуальности, dtype: int64"
            ]
          },
          "metadata": {},
          "execution_count": 47
        }
      ],
      "source": [
        "df['признак актуальности'].value_counts(dropna=False).head()"
      ],
      "id": "fe88dda1-fe69-4b63-b29f-cf162a408998"
    },
    {
      "cell_type": "markdown",
      "metadata": {
        "id": "d8cf4b71-46a4-468a-b272-4d4b68e97ee4"
      },
      "source": [
        "<br>"
      ],
      "id": "d8cf4b71-46a4-468a-b272-4d4b68e97ee4"
    },
    {
      "cell_type": "markdown",
      "metadata": {
        "id": "ea73460e-cce0-41d0-811d-32f460cf0de9"
      },
      "source": [
        "`год постановки ОКН на Госохрану` — поле говорит само за себя. Очень много пропусков."
      ],
      "id": "ea73460e-cce0-41d0-811d-32f460cf0de9"
    },
    {
      "cell_type": "code",
      "execution_count": 48,
      "metadata": {
        "id": "a8901d82-b7ac-4a46-9704-ba6c34a1f098",
        "colab": {
          "base_uri": "https://localhost:8080/"
        },
        "outputId": "ae497a8f-cdeb-4fd8-f11f-1fd469290a1c"
      },
      "outputs": [
        {
          "output_type": "execute_result",
          "data": {
            "text/plain": [
              "NaN       121136\n",
              "1997.0      2738\n",
              "1993.0      2314\n",
              "1974.0      2301\n",
              "2000.0      1670\n",
              "Name: год постановки ОКН на Госохрану, dtype: int64"
            ]
          },
          "metadata": {},
          "execution_count": 48
        }
      ],
      "source": [
        "df['год постановки ОКН на Госохрану'].value_counts(dropna=False).head()"
      ],
      "id": "a8901d82-b7ac-4a46-9704-ba6c34a1f098"
    },
    {
      "cell_type": "markdown",
      "metadata": {
        "id": "c874fd33-e6f3-4d9d-81e1-8635b23f224a"
      },
      "source": [
        "<br>"
      ],
      "id": "c874fd33-e6f3-4d9d-81e1-8635b23f224a"
    },
    {
      "cell_type": "markdown",
      "metadata": {
        "id": "fd20244d-fead-44de-889e-84fe5be38685"
      },
      "source": [
        "`относительный URL объекта` — относительный адрес объекта на сервере открытых данных. У каждого объекта свой URL."
      ],
      "id": "fd20244d-fead-44de-889e-84fe5be38685"
    },
    {
      "cell_type": "code",
      "execution_count": 49,
      "metadata": {
        "id": "d687b770-7441-4929-b796-473e0cf41ecc",
        "colab": {
          "base_uri": "https://localhost:8080/"
        },
        "outputId": "4d0d60fa-0af1-4067-c316-bf85a1f735c2"
      },
      "outputs": [
        {
          "output_type": "execute_result",
          "data": {
            "text/plain": [
              "/cdm/v2/heritages/1/147449    1\n",
              "/cdm/v2/heritages/1/264705    1\n",
              "/cdm/v2/heritages/1/264707    1\n",
              "/cdm/v2/heritages/1/264708    1\n",
              "/cdm/v2/heritages/1/264709    1\n",
              "Name: относительный URL объекта, dtype: int64"
            ]
          },
          "metadata": {},
          "execution_count": 49
        }
      ],
      "source": [
        "df['относительный URL объекта'].value_counts(dropna=False).head()"
      ],
      "id": "d687b770-7441-4929-b796-473e0cf41ecc"
    },
    {
      "cell_type": "markdown",
      "metadata": {
        "id": "15519701-efeb-4411-9de7-c885b5a734a3"
      },
      "source": [
        "<br>"
      ],
      "id": "15519701-efeb-4411-9de7-c885b5a734a3"
    },
    {
      "cell_type": "markdown",
      "metadata": {
        "id": "f9ab9f7a-c7b7-4f8f-9992-33b11babbdc6"
      },
      "source": [
        "`категория объекта` — видимо, служебная информация. Одно и то же значение повторяется всё время."
      ],
      "id": "f9ab9f7a-c7b7-4f8f-9992-33b11babbdc6"
    },
    {
      "cell_type": "code",
      "execution_count": 50,
      "metadata": {
        "id": "f32f24b8-2a5d-4d74-9b41-fcc523cd7d67",
        "colab": {
          "base_uri": "https://localhost:8080/"
        },
        "outputId": "c534ef79-d67c-4c92-c7b6-309a4f9a3056"
      },
      "outputs": [
        {
          "output_type": "execute_result",
          "data": {
            "text/plain": [
              "heritage    154493\n",
              "Name: категория объекта, dtype: int64"
            ]
          },
          "metadata": {},
          "execution_count": 50
        }
      ],
      "source": [
        "df['категория объекта'].value_counts(dropna=False).head()"
      ],
      "id": "f32f24b8-2a5d-4d74-9b41-fcc523cd7d67"
    },
    {
      "cell_type": "markdown",
      "metadata": {
        "id": "2a1dd4b1-2865-4492-944b-6f2646f3bd3d"
      },
      "source": [
        "<br>"
      ],
      "id": "2a1dd4b1-2865-4492-944b-6f2646f3bd3d"
    },
    {
      "cell_type": "markdown",
      "metadata": {
        "id": "d586fdf6-0bfa-457e-b242-f2d00de70139"
      },
      "source": [
        "`дата создания объекта` — что-то непонятное. Возможно, это дата внесения в реестр объекта культурного наследия. Диапазон этих дат от 2015 до конца 2023 года. Очень много пропусков."
      ],
      "id": "d586fdf6-0bfa-457e-b242-f2d00de70139"
    },
    {
      "cell_type": "code",
      "execution_count": 51,
      "metadata": {
        "id": "ef38fb63-2587-479e-9e9a-4d05e07ae20d",
        "colab": {
          "base_uri": "https://localhost:8080/"
        },
        "outputId": "a7188050-b592-40fe-c0f3-cac61b328171"
      },
      "outputs": [
        {
          "output_type": "execute_result",
          "data": {
            "text/plain": [
              "NaN                     95822\n",
              "2018-02-26T16:04:39Z        3\n",
              "2023-10-11T11:58:51Z        2\n",
              "2018-09-11T08:14:26Z        2\n",
              "2023-11-10T12:57:42Z        2\n",
              "Name: дата создания объекта, dtype: int64"
            ]
          },
          "metadata": {},
          "execution_count": 51
        }
      ],
      "source": [
        "df['дата создания объекта'].value_counts(dropna=False).head()"
      ],
      "id": "ef38fb63-2587-479e-9e9a-4d05e07ae20d"
    },
    {
      "cell_type": "code",
      "execution_count": 52,
      "metadata": {
        "id": "bc86ac14-7bf3-418a-8971-b9c8a272efb1",
        "colab": {
          "base_uri": "https://localhost:8080/"
        },
        "outputId": "633aa64a-6fe7-44e7-fa67-b50456264412"
      },
      "outputs": [
        {
          "output_type": "execute_result",
          "data": {
            "text/plain": [
              "257     2015-05-07T16:10:26Z\n",
              "2042    2015-05-19T12:29:24Z\n",
              "2364    2015-05-19T12:36:08Z\n",
              "652     2015-05-19T12:36:10Z\n",
              "281     2015-05-19T12:36:27Z\n",
              "Name: дата создания объекта, dtype: object"
            ]
          },
          "metadata": {},
          "execution_count": 52
        }
      ],
      "source": [
        "df['дата создания объекта'].sort_values().head()"
      ],
      "id": "bc86ac14-7bf3-418a-8971-b9c8a272efb1"
    },
    {
      "cell_type": "code",
      "execution_count": 53,
      "metadata": {
        "id": "a429c682-7fc2-4d54-bab5-e2bd69860f01",
        "colab": {
          "base_uri": "https://localhost:8080/"
        },
        "outputId": "058803c2-41b0-470b-d9e1-92713f0cf6e4"
      },
      "outputs": [
        {
          "output_type": "execute_result",
          "data": {
            "text/plain": [
              "154492    2023-12-19T14:52:08Z\n",
              "154491    2023-12-19T14:52:05Z\n",
              "154490    2023-12-19T14:52:02Z\n",
              "154489    2023-12-19T14:51:59Z\n",
              "154488    2023-12-19T14:51:56Z\n",
              "Name: дата создания объекта, dtype: object"
            ]
          },
          "metadata": {},
          "execution_count": 53
        }
      ],
      "source": [
        "df['дата создания объекта'].sort_values(ascending=False).head()"
      ],
      "id": "a429c682-7fc2-4d54-bab5-e2bd69860f01"
    },
    {
      "cell_type": "markdown",
      "metadata": {
        "id": "ef33968f-7da3-41c8-9cc2-38ccb038981a"
      },
      "source": [
        "<br>"
      ],
      "id": "ef33968f-7da3-41c8-9cc2-38ccb038981a"
    },
    {
      "cell_type": "markdown",
      "metadata": {
        "id": "37a196de-5755-48f4-81f8-3a06392f942f"
      },
      "source": [
        "`дата обновления объекта` — возможно, это дата обновления объекта в реестре. Диапазон дат от 2018 до конца 2023. Очень много пропусков."
      ],
      "id": "37a196de-5755-48f4-81f8-3a06392f942f"
    },
    {
      "cell_type": "code",
      "execution_count": 54,
      "metadata": {
        "id": "e55ecdb8-3981-4bce-b784-ca165d50e39c",
        "colab": {
          "base_uri": "https://localhost:8080/"
        },
        "outputId": "57eb8efb-f198-4353-9a0f-f59a1fe77b27"
      },
      "outputs": [
        {
          "output_type": "execute_result",
          "data": {
            "text/plain": [
              "NaN                     58671\n",
              "2023-10-09T14:55:20Z        4\n",
              "2023-10-12T14:22:53Z        4\n",
              "2021-12-23T18:53:34Z        3\n",
              "2023-12-01T11:46:53Z        3\n",
              "Name: дата обновления объекта, dtype: int64"
            ]
          },
          "metadata": {},
          "execution_count": 54
        }
      ],
      "source": [
        "df['дата обновления объекта'].value_counts(dropna=False).head()"
      ],
      "id": "e55ecdb8-3981-4bce-b784-ca165d50e39c"
    },
    {
      "cell_type": "code",
      "execution_count": 55,
      "metadata": {
        "id": "539fffe6-f4e0-46f1-bfdf-4f34b760e1d9",
        "colab": {
          "base_uri": "https://localhost:8080/"
        },
        "outputId": "dd77007c-1335-4365-d4f4-8e7e6ebd198c"
      },
      "outputs": [
        {
          "output_type": "execute_result",
          "data": {
            "text/plain": [
              "37061     2018-06-26T09:02:46Z\n",
              "132737    2018-06-26T09:10:35Z\n",
              "13333     2018-06-26T13:13:20Z\n",
              "11439     2018-06-26T13:14:13Z\n",
              "13320     2018-06-26T13:14:22Z\n",
              "Name: дата обновления объекта, dtype: object"
            ]
          },
          "metadata": {},
          "execution_count": 55
        }
      ],
      "source": [
        "df['дата обновления объекта'].sort_values().head()"
      ],
      "id": "539fffe6-f4e0-46f1-bfdf-4f34b760e1d9"
    },
    {
      "cell_type": "code",
      "execution_count": 56,
      "metadata": {
        "id": "408acc75-af49-4397-b8c8-8de4e7f2ebc6",
        "colab": {
          "base_uri": "https://localhost:8080/"
        },
        "outputId": "da7e2c9c-68ea-490b-aabc-e7df368bbac4"
      },
      "outputs": [
        {
          "output_type": "execute_result",
          "data": {
            "text/plain": [
              "148521    2023-12-21T11:50:32Z\n",
              "29029     2023-12-21T11:50:31Z\n",
              "28924     2023-12-21T11:50:30Z\n",
              "28849     2023-12-21T11:50:29Z\n",
              "28833     2023-12-21T11:50:28Z\n",
              "Name: дата обновления объекта, dtype: object"
            ]
          },
          "metadata": {},
          "execution_count": 56
        }
      ],
      "source": [
        "df['дата обновления объекта'].sort_values(ascending=False).head()"
      ],
      "id": "408acc75-af49-4397-b8c8-8de4e7f2ebc6"
    },
    {
      "cell_type": "markdown",
      "metadata": {
        "id": "85ad34b8-8765-49ed-af01-d1528a5628fa"
      },
      "source": [
        "<br>"
      ],
      "id": "85ad34b8-8765-49ed-af01-d1528a5628fa"
    },
    {
      "cell_type": "markdown",
      "metadata": {
        "id": "5b04681a-2e52-4c8a-9d9c-a161b9d2b26c"
      },
      "source": [
        "`coordinates` — координаты объекта (ширина, долгота), отмеченные в реестре. Очень много пропусков."
      ],
      "id": "5b04681a-2e52-4c8a-9d9c-a161b9d2b26c"
    },
    {
      "cell_type": "code",
      "execution_count": 57,
      "metadata": {
        "id": "2585c47f-4465-4a4f-9fd6-d623c347ee04",
        "colab": {
          "base_uri": "https://localhost:8080/"
        },
        "outputId": "bd617cbe-5ec8-4c98-f168-7b60689ad50e"
      },
      "outputs": [
        {
          "output_type": "execute_result",
          "data": {
            "text/plain": [
              "nan                                     114543\n",
              "[45.450136, 42.707692]                      69\n",
              "[49.1068469365817, 55.7999436090671]        47\n",
              "[34.9578965608516, 44.8417174338509]        45\n",
              "[37.788144, 55.693409]                      39\n",
              "Name: coordinates, dtype: int64"
            ]
          },
          "metadata": {},
          "execution_count": 57
        }
      ],
      "source": [
        "df['coordinates'].astype(str)\\\n",
        "                 .value_counts(dropna=False)\\\n",
        "                 .head()"
      ],
      "id": "2585c47f-4465-4a4f-9fd6-d623c347ee04"
    },
    {
      "cell_type": "markdown",
      "metadata": {
        "id": "30cfaf25-f981-48f5-a5f6-e0a05a6e9484"
      },
      "source": [
        "<br>"
      ],
      "id": "30cfaf25-f981-48f5-a5f6-e0a05a6e9484"
    },
    {
      "cell_type": "markdown",
      "metadata": {
        "id": "1d1d7aee-f50e-4577-87a1-fba21e25f658"
      },
      "source": [
        "`type` — отметка объекта на карте. Очень много пропусков — столько же, сколько пропущенных координат."
      ],
      "id": "1d1d7aee-f50e-4577-87a1-fba21e25f658"
    },
    {
      "cell_type": "code",
      "execution_count": 58,
      "metadata": {
        "id": "d3965a48-e572-4f74-ab8c-2e8d17b279ab",
        "colab": {
          "base_uri": "https://localhost:8080/"
        },
        "outputId": "c90fe93c-06b0-478e-9ccb-ffa8c4602d0f"
      },
      "outputs": [
        {
          "output_type": "execute_result",
          "data": {
            "text/plain": [
              "NaN      114543\n",
              "Point     39950\n",
              "Name: type, dtype: int64"
            ]
          },
          "metadata": {},
          "execution_count": 58
        }
      ],
      "source": [
        "df['type'].value_counts(dropna=False).head()"
      ],
      "id": "d3965a48-e572-4f74-ab8c-2e8d17b279ab"
    },
    {
      "cell_type": "markdown",
      "metadata": {
        "id": "4488c753-faa6-47fb-b87c-30913a7922b6"
      },
      "source": [
        "<br>"
      ],
      "id": "4488c753-faa6-47fb-b87c-30913a7922b6"
    },
    {
      "cell_type": "markdown",
      "metadata": {
        "id": "4bbc69d6-c205-42cb-b592-4966b5c665c7"
      },
      "source": [
        "`id-общая видовая принадлежность` — идентификатор видовой принадлежности."
      ],
      "id": "4bbc69d6-c205-42cb-b592-4966b5c665c7"
    },
    {
      "cell_type": "code",
      "execution_count": 59,
      "metadata": {
        "id": "9b97e837-164a-4c38-a071-a02b834af64e",
        "colab": {
          "base_uri": "https://localhost:8080/"
        },
        "outputId": "a7f3b062-97fa-4ad3-e33c-d8d8398aa083"
      },
      "outputs": [
        {
          "output_type": "execute_result",
          "data": {
            "text/plain": [
              "3       56310\n",
              "1       56096\n",
              "2       35002\n",
              "None     3542\n",
              "4        3442\n",
              "Name: id-общая видовая принадлежность, dtype: int64"
            ]
          },
          "metadata": {},
          "execution_count": 59
        }
      ],
      "source": [
        "df['id-общая видовая принадлежность'].value_counts(dropna=False).head()"
      ],
      "id": "9b97e837-164a-4c38-a071-a02b834af64e"
    },
    {
      "cell_type": "markdown",
      "metadata": {
        "id": "16aa4147-d87c-4bbc-9172-9a5ab3baf9d0"
      },
      "source": [
        "<br>"
      ],
      "id": "16aa4147-d87c-4bbc-9172-9a5ab3baf9d0"
    },
    {
      "cell_type": "markdown",
      "metadata": {
        "id": "e67de879-8c76-4e99-9675-0f51389ce1aa"
      },
      "source": [
        "`общая видовая принадлежность` — видовая принадлежность, к которой относится объект культурного наследия:\n",
        "* Памятник градостроительства и архитектуры\n",
        "* Памятник археологии\n",
        "* Памятник истории\n",
        "* Памятник искусства"
      ],
      "id": "e67de879-8c76-4e99-9675-0f51389ce1aa"
    },
    {
      "cell_type": "code",
      "execution_count": 60,
      "metadata": {
        "id": "4684d445-bd8d-4c25-902e-959794150cff",
        "colab": {
          "base_uri": "https://localhost:8080/"
        },
        "outputId": "1440e34e-25b1-4402-ffa4-1f83a9f2238a"
      },
      "outputs": [
        {
          "output_type": "execute_result",
          "data": {
            "text/plain": [
              "Памятник градостроительства и архитектуры    56310\n",
              "Памятник археологии                          56096\n",
              "Памятник истории                             35002\n",
              "None                                          3542\n",
              "Памятник искусства                            3442\n",
              "Name: общая видовая принадлежность, dtype: int64"
            ]
          },
          "metadata": {},
          "execution_count": 60
        }
      ],
      "source": [
        "df['общая видовая принадлежность'].value_counts(dropna=False).head()"
      ],
      "id": "4684d445-bd8d-4c25-902e-959794150cff"
    },
    {
      "cell_type": "markdown",
      "metadata": {
        "id": "1df2a423-bf90-4123-8cf4-6f0a27a9071f"
      },
      "source": [
        "<br>"
      ],
      "id": "1df2a423-bf90-4123-8cf4-6f0a27a9071f"
    },
    {
      "cell_type": "markdown",
      "metadata": {
        "id": "57bc9ed2-7967-4884-a3f8-045aefc97643"
      },
      "source": [
        "`name_1` — наименования документов, которые являются основанием для возведения объекта в объект культурного наследия."
      ],
      "id": "57bc9ed2-7967-4884-a3f8-045aefc97643"
    },
    {
      "cell_type": "code",
      "execution_count": 61,
      "metadata": {
        "id": "34c287ea-154c-4550-9d10-ba97d320ea4c",
        "colab": {
          "base_uri": "https://localhost:8080/"
        },
        "outputId": "872331a6-39b0-4811-ac0f-43a6919b87ba"
      },
      "outputs": [
        {
          "output_type": "execute_result",
          "data": {
            "text/plain": [
              "Закон Краснодарского края «О перечне объектов культурного наследия (памятников истории и культуры), расположенных на территории Краснодарского края»                                           8182\n",
              "Постановление                                                                                                                                                                                  3503\n",
              "Постановление Главы Администрации Ростовской области «О принятии на государственную охрану памятников истории и культуры области и мерах по их охране»                                         3485\n",
              "Постановление Законодательного собрания Тверской области                                                                                                                                       3415\n",
              "Постановление Псковского областного Собрания депутатов «Об утверждении государственного списка недвижимых памятников истории и культуры, подлежащих охране как памятники местного значения»    3010\n",
              "Name: name_1, dtype: int64"
            ]
          },
          "metadata": {},
          "execution_count": 61
        }
      ],
      "source": [
        "df['name_1'].value_counts(dropna=False).head()"
      ],
      "id": "34c287ea-154c-4550-9d10-ba97d320ea4c"
    },
    {
      "cell_type": "markdown",
      "metadata": {
        "id": "4c1cc31b-1bbe-48fb-bb6a-a6d05726b7bb"
      },
      "source": [
        "<br>"
      ],
      "id": "4c1cc31b-1bbe-48fb-bb6a-a6d05726b7bb"
    },
    {
      "cell_type": "markdown",
      "metadata": {
        "id": "d908bbc5-6d90-4c54-8c89-500bd30bf270"
      },
      "source": [
        "`number_1` — номера документов."
      ],
      "id": "d908bbc5-6d90-4c54-8c89-500bd30bf270"
    },
    {
      "cell_type": "code",
      "execution_count": 62,
      "metadata": {
        "id": "500f728b-2a85-4bdb-ba71-f28c8bd016b5",
        "colab": {
          "base_uri": "https://localhost:8080/"
        },
        "outputId": "73be8ddf-1162-4722-993d-a0121b01bbb5"
      },
      "outputs": [
        {
          "output_type": "execute_result",
          "data": {
            "text/plain": [
              "313-КЗ    8539\n",
              "1327      5995\n",
              "647       4901\n",
              "51        4679\n",
              "624       3744\n",
              "Name: number_1, dtype: int64"
            ]
          },
          "metadata": {},
          "execution_count": 62
        }
      ],
      "source": [
        "df['number_1'].value_counts(dropna=False).head()"
      ],
      "id": "500f728b-2a85-4bdb-ba71-f28c8bd016b5"
    },
    {
      "cell_type": "markdown",
      "metadata": {
        "id": "2cadd8fb-7f24-4eb4-9409-59483d4da8c4"
      },
      "source": [
        "<br>"
      ],
      "id": "2cadd8fb-7f24-4eb4-9409-59483d4da8c4"
    },
    {
      "cell_type": "markdown",
      "metadata": {
        "id": "c4e32a4f-95dc-4320-b204-bda9a8f550f2"
      },
      "source": [
        "`date_1` — дата создания документа."
      ],
      "id": "c4e32a4f-95dc-4320-b204-bda9a8f550f2"
    },
    {
      "cell_type": "code",
      "execution_count": 63,
      "metadata": {
        "id": "a460461c-0bd7-4e15-935b-53e1bc46ca7e",
        "colab": {
          "base_uri": "https://localhost:8080/"
        },
        "outputId": "f923c17a-f93a-467b-c083-9e4bb42c9ada"
      },
      "outputs": [
        {
          "output_type": "execute_result",
          "data": {
            "text/plain": [
              "2000-08-17    8542\n",
              "1960-08-30    6006\n",
              "1997-11-27    4883\n",
              "1997-02-21    4556\n",
              "1974-12-04    3748\n",
              "Name: date_1, dtype: int64"
            ]
          },
          "metadata": {},
          "execution_count": 63
        }
      ],
      "source": [
        "df['date_1'].value_counts(dropna=False).head()"
      ],
      "id": "a460461c-0bd7-4e15-935b-53e1bc46ca7e"
    },
    {
      "cell_type": "markdown",
      "metadata": {
        "id": "1fd42a0d-0901-426f-a535-b05df060dfe8"
      },
      "source": [
        "<br>"
      ],
      "id": "1fd42a0d-0901-426f-a535-b05df060dfe8"
    },
    {
      "cell_type": "markdown",
      "metadata": {
        "id": "4dd87be6-4384-4653-bbfa-bf466e493457"
      },
      "source": [
        "`archive_1_id` — по-видимому, это идентификатор документа, являющегося основанием для установки объекта культурного наследия."
      ],
      "id": "4dd87be6-4384-4653-bbfa-bf466e493457"
    },
    {
      "cell_type": "code",
      "execution_count": 64,
      "metadata": {
        "id": "15f38e28-f092-4c12-a2a0-77615ca460ee",
        "colab": {
          "base_uri": "https://localhost:8080/"
        },
        "outputId": "38ecb0b9-4729-4cd9-8e61-d90fc9708732"
      },
      "outputs": [
        {
          "output_type": "execute_result",
          "data": {
            "text/plain": [
              "NaN          58478\n",
              "748077.0       371\n",
              "459615.0       299\n",
              "2137890.0      283\n",
              "2113631.0      271\n",
              "             ...  \n",
              "473320.0         1\n",
              "1370748.0        1\n",
              "471288.0         1\n",
              "470990.0         1\n",
              "5199868.0        1\n",
              "Name: archive_1_id, Length: 89641, dtype: int64"
            ]
          },
          "metadata": {},
          "execution_count": 64
        }
      ],
      "source": [
        "df['archive_1_id'].value_counts(dropna=False)"
      ],
      "id": "15f38e28-f092-4c12-a2a0-77615ca460ee"
    },
    {
      "cell_type": "markdown",
      "metadata": {
        "id": "a1dfb5d8-f508-4921-9b20-b2576ca71225"
      },
      "source": [
        "<br>"
      ],
      "id": "a1dfb5d8-f508-4921-9b20-b2576ca71225"
    },
    {
      "cell_type": "markdown",
      "metadata": {
        "id": "7e938885-1dbf-456d-b886-b1802c0df7d7"
      },
      "source": [
        "`archive_1_url` — это ссылка на документ, являющегося основанием для установки объекта культурного наследия."
      ],
      "id": "7e938885-1dbf-456d-b886-b1802c0df7d7"
    },
    {
      "cell_type": "code",
      "execution_count": 65,
      "metadata": {
        "id": "55795c4f-5789-46d7-aee8-453add9eb7eb",
        "colab": {
          "base_uri": "https://localhost:8080/"
        },
        "outputId": "4588fd1e-fb23-4fea-b00a-70e30d042ee6"
      },
      "outputs": [
        {
          "output_type": "execute_result",
          "data": {
            "text/plain": [
              "NaN                                            58475\n",
              "None                                           56096\n",
              "https://okn-mk.mkrf.ru/maps/show/id/2137890      283\n",
              "https://okn-mk.mkrf.ru/maps/show/id/2113631      269\n",
              "https://okn-mk.mkrf.ru/maps/show/id/748077       164\n",
              "                                               ...  \n",
              "https://okn-mk.mkrf.ru/maps/show/id/3725370        1\n",
              "https://okn-mk.mkrf.ru/maps/show/id/3725298        1\n",
              "https://okn-mk.mkrf.ru/maps/show/id/3725455        1\n",
              "https://okn-mk.mkrf.ru/maps/show/id/3722925        1\n",
              "https://okn-mk.mkrf.ru/maps/show/id/5131480        1\n",
              "Name: archive_1_url, Length: 37495, dtype: int64"
            ]
          },
          "metadata": {},
          "execution_count": 65
        }
      ],
      "source": [
        "df['archive_1_url'].value_counts(dropna=False)"
      ],
      "id": "55795c4f-5789-46d7-aee8-453add9eb7eb"
    },
    {
      "cell_type": "markdown",
      "metadata": {
        "id": "9d9ab5d2-ffea-4e02-83db-ee18bb3baf9b"
      },
      "source": [
        "<br>"
      ],
      "id": "9d9ab5d2-ffea-4e02-83db-ee18bb3baf9b"
    },
    {
      "cell_type": "markdown",
      "metadata": {
        "id": "c827958d-dd79-47d9-a39b-c7892f3c36e0"
      },
      "source": [
        "Колонки `name_2`, `number_2`, `date_2`, `archive_2_id`, `archive_2_url` носят ту же функцию, что и предыдущие колонки с суффиксами-цифрой $1$.\\\n",
        "Это документы, вносящие правки."
      ],
      "id": "c827958d-dd79-47d9-a39b-c7892f3c36e0"
    },
    {
      "cell_type": "markdown",
      "metadata": {
        "id": "8643bd11-9f0b-4dc6-ad8e-514cbded8124"
      },
      "source": [
        "<br>"
      ],
      "id": "8643bd11-9f0b-4dc6-ad8e-514cbded8124"
    },
    {
      "cell_type": "markdown",
      "metadata": {
        "id": "027598c5-3f2e-43dc-aa91-abb75b73c5d9"
      },
      "source": [
        "`URL` — ссылка на изображение объекта культурного наследия. Первое значение встречается свыше шестидесяти тысяч раз. Это завуалированный пропуск."
      ],
      "id": "027598c5-3f2e-43dc-aa91-abb75b73c5d9"
    },
    {
      "cell_type": "code",
      "execution_count": 66,
      "metadata": {
        "id": "30a55d0b-fb50-49c7-a73b-3323ea3025ed",
        "colab": {
          "base_uri": "https://localhost:8080/"
        },
        "outputId": "12c9ac3a-4245-4df4-bef4-92ae66b6a1fc"
      },
      "outputs": [
        {
          "output_type": "execute_result",
          "data": {
            "text/plain": [
              "                                               60542\n",
              "https://okn-mk.mkrf.ru/maps/show/id/1836648        6\n",
              "https://okn-mk.mkrf.ru/maps/show/id/1780885        3\n",
              "https://okn-mk.mkrf.ru/maps/show/id/1793099        3\n",
              "https://okn-mk.mkrf.ru/maps/show/id/4546450        2\n",
              "                                               ...  \n",
              "https://okn-mk.mkrf.ru/maps/show/id/905079         1\n",
              "https://okn-mk.mkrf.ru/maps/show/id/904752         1\n",
              "https://okn-mk.mkrf.ru/maps/show/id/904479         1\n",
              "https://okn-mk.mkrf.ru/maps/show/id/904675         1\n",
              "https://okn-mk.mkrf.ru/maps/show/id/5215584        1\n",
              "Name: URL, Length: 93935, dtype: int64"
            ]
          },
          "metadata": {},
          "execution_count": 66
        }
      ],
      "source": [
        "df['URL'].value_counts(dropna=False)"
      ],
      "id": "30a55d0b-fb50-49c7-a73b-3323ea3025ed"
    },
    {
      "cell_type": "markdown",
      "metadata": {
        "id": "a53b42ef-cfb5-4954-9d10-e4a35a7fb982"
      },
      "source": [
        "<br>"
      ],
      "id": "a53b42ef-cfb5-4954-9d10-e4a35a7fb982"
    },
    {
      "cell_type": "markdown",
      "metadata": {
        "id": "c18eeb87-e4cf-4443-a3db-26fe6bb3f491"
      },
      "source": [
        "`Title` — символическое название изображения в виде чисел. Первое значение также показно в виде скрытого пропуска."
      ],
      "id": "c18eeb87-e4cf-4443-a3db-26fe6bb3f491"
    },
    {
      "cell_type": "code",
      "execution_count": 67,
      "metadata": {
        "id": "f4751bc3-53bc-448d-b9ba-5f6616ade29a",
        "colab": {
          "base_uri": "https://localhost:8080/"
        },
        "outputId": "35e7a678-431e-494d-a80e-4703a952a9be"
      },
      "outputs": [
        {
          "output_type": "execute_result",
          "data": {
            "text/plain": [
              "           60542\n",
              "1836648        6\n",
              "1780885        3\n",
              "1793099        3\n",
              "4546450        2\n",
              "           ...  \n",
              "905079         1\n",
              "904752         1\n",
              "904479         1\n",
              "904675         1\n",
              "5215584        1\n",
              "Name: Title, Length: 93935, dtype: int64"
            ]
          },
          "metadata": {},
          "execution_count": 67
        }
      ],
      "source": [
        "df['Title'].value_counts(dropna=False)"
      ],
      "id": "f4751bc3-53bc-448d-b9ba-5f6616ade29a"
    },
    {
      "cell_type": "markdown",
      "metadata": {
        "id": "a50d9e6d-5d67-439a-a48b-f418feec8e56"
      },
      "source": [
        "<br>"
      ],
      "id": "a50d9e6d-5d67-439a-a48b-f418feec8e56"
    },
    {
      "cell_type": "markdown",
      "metadata": {
        "id": "e4831379-c4ba-4e2e-a381-80a4fa6f7910"
      },
      "source": [
        "Вот мы и узнали, что внутри колонок.\n",
        "\n",
        "Нужно принять решение, какие из них нужно оставить, а какие убрать."
      ],
      "id": "e4831379-c4ba-4e2e-a381-80a4fa6f7910"
    },
    {
      "cell_type": "markdown",
      "metadata": {
        "id": "20ab10e2-d68f-4577-8864-22ca8f652c18"
      },
      "source": [
        "<br>"
      ],
      "id": "20ab10e2-d68f-4577-8864-22ca8f652c18"
    },
    {
      "cell_type": "markdown",
      "source": [
        "## Предобработка данных"
      ],
      "metadata": {
        "id": "GDAdvlWY47cH"
      },
      "id": "GDAdvlWY47cH"
    },
    {
      "cell_type": "markdown",
      "source": [
        "### Работа с колонками"
      ],
      "metadata": {
        "id": "NyrWFGiI5Ipr"
      },
      "id": "NyrWFGiI5Ipr"
    },
    {
      "cell_type": "markdown",
      "metadata": {
        "id": "3ea91a85-eda0-4b4d-b497-2fb7bdd8e7ba"
      },
      "source": [
        "#### Удаление ненужных колонок"
      ],
      "id": "3ea91a85-eda0-4b4d-b497-2fb7bdd8e7ba"
    },
    {
      "cell_type": "markdown",
      "metadata": {
        "id": "2e49bd4a-692e-45bf-a4d3-a04cb7766e81"
      },
      "source": [
        "Итак, подумав, принял решение, что следующие колонки нужно убрать, эта информация шумна и точно не понадобится в рамках проекта."
      ],
      "id": "2e49bd4a-692e-45bf-a4d3-a04cb7766e81"
    },
    {
      "cell_type": "code",
      "execution_count": 68,
      "metadata": {
        "id": "0357829f-cdb8-415e-a28b-d4885f3510c6",
        "colab": {
          "base_uri": "https://localhost:8080/"
        },
        "outputId": "9d8d3213-4a8a-419f-80fe-891d6ac43015"
      },
      "outputs": [
        {
          "output_type": "execute_result",
          "data": {
            "text/plain": [
              "Index(['Id-Регион', 'учетный номер',\n",
              "       'Id-Категория историко-культурного значения', 'Id-Вид объекта',\n",
              "       'Id-Принадлежность к Юнеско', 'Id-Особо ценный объект',\n",
              "       'зоны охраны и режимы использования земель', 'Id - идентификатор',\n",
              "       'признак актуальности', 'год постановки ОКН на Госохрану',\n",
              "       'относительный URL объекта', 'категория объекта',\n",
              "       'дата создания объекта', 'дата обновления объекта', 'type',\n",
              "       'id-общая видовая принадлежность', 'archive_1_id', 'name_2', 'number_2',\n",
              "       'date_2', 'archive_2_id', 'archive_2_url', 'Title'],\n",
              "      dtype='object')"
            ]
          },
          "metadata": {},
          "execution_count": 68
        }
      ],
      "source": [
        "# шумные колонки\n",
        "garbage_columns = df[['Id-Регион',\n",
        "                      'учетный номер',\n",
        "                      'Id-Категория историко-культурного значения',\n",
        "                      'Id-Вид объекта',\n",
        "                      'Id-Принадлежность к Юнеско',\n",
        "                      'Id-Особо ценный объект',\n",
        "                      'зоны охраны и режимы использования земель',\n",
        "                      'Id - идентификатор',\n",
        "                      'признак актуальности',\n",
        "                      'год постановки ОКН на Госохрану',\n",
        "                      'относительный URL объекта',\n",
        "                      'категория объекта',\n",
        "                      'дата создания объекта',\n",
        "                      'дата обновления объекта',\n",
        "                      'type',\n",
        "                      'id-общая видовая принадлежность',\n",
        "                      'archive_1_id',\n",
        "                      'name_2',\n",
        "                      'number_2',\n",
        "                      'date_2',\n",
        "                      'archive_2_id',\n",
        "                      'archive_2_url',\n",
        "                      'Title']].columns\n",
        "garbage_columns"
      ],
      "id": "0357829f-cdb8-415e-a28b-d4885f3510c6"
    },
    {
      "cell_type": "markdown",
      "metadata": {
        "id": "b895b840-7d17-49a6-af14-f5d5a8b57ffc"
      },
      "source": [
        "<br>"
      ],
      "id": "b895b840-7d17-49a6-af14-f5d5a8b57ffc"
    },
    {
      "cell_type": "markdown",
      "metadata": {
        "id": "fb95cd1b-fca3-4bd4-b4c6-24bfd3aac845"
      },
      "source": [
        "Избавимся от них."
      ],
      "id": "fb95cd1b-fca3-4bd4-b4c6-24bfd3aac845"
    },
    {
      "cell_type": "code",
      "execution_count": 69,
      "metadata": {
        "id": "38dd44a1-ebd9-419b-bbfe-b2ec57168161"
      },
      "outputs": [],
      "source": [
        "df = df.drop(columns = garbage_columns)"
      ],
      "id": "38dd44a1-ebd9-419b-bbfe-b2ec57168161"
    },
    {
      "cell_type": "markdown",
      "metadata": {
        "id": "bf60a8cd-601b-4d8a-bb32-9a2a8bc3d0f9"
      },
      "source": [
        "<br>"
      ],
      "id": "bf60a8cd-601b-4d8a-bb32-9a2a8bc3d0f9"
    },
    {
      "cell_type": "markdown",
      "metadata": {
        "id": "abccca1f-c34c-4b9d-80d1-fec126ff5af4"
      },
      "source": [
        "#### Переименование колонок"
      ],
      "id": "abccca1f-c34c-4b9d-80d1-fec126ff5af4"
    },
    {
      "cell_type": "markdown",
      "metadata": {
        "id": "b2b14816-6d94-451d-a25d-258523a2a9d9"
      },
      "source": [
        "Теперь нужно упорядочить колонки и переименовать их, чтобы соответствовать хорошему стилю."
      ],
      "id": "b2b14816-6d94-451d-a25d-258523a2a9d9"
    },
    {
      "cell_type": "markdown",
      "metadata": {
        "id": "945dbc76-423b-4daf-8287-a4f8630496a3"
      },
      "source": [
        "Вот их список."
      ],
      "id": "945dbc76-423b-4daf-8287-a4f8630496a3"
    },
    {
      "cell_type": "code",
      "execution_count": 70,
      "metadata": {
        "id": "7b3be551-ee9e-40ce-8613-6d348ec43d49",
        "colab": {
          "base_uri": "https://localhost:8080/"
        },
        "outputId": "99f1e985-2428-42a2-bbfd-02acb285922f"
      },
      "outputs": [
        {
          "output_type": "execute_result",
          "data": {
            "text/plain": [
              "Index(['Объект', 'Номер в реестре', 'Полный адрес', 'Регион',\n",
              "       'Категория историко-культурного значения', 'Вид объекта',\n",
              "       'описание предмета охраны', 'текстовое описание границ',\n",
              "       'Принадлежность к Юнеско', 'Особо ценный объект',\n",
              "       'идентификатор ансамбля', 'дата создания', 'coordinates',\n",
              "       'общая видовая принадлежность', 'name_1', 'number_1', 'date_1',\n",
              "       'archive_1_url', 'URL'],\n",
              "      dtype='object')"
            ]
          },
          "metadata": {},
          "execution_count": 70
        }
      ],
      "source": [
        "df.columns"
      ],
      "id": "7b3be551-ee9e-40ce-8613-6d348ec43d49"
    },
    {
      "cell_type": "markdown",
      "metadata": {
        "id": "83f4f254-9c8f-447a-b4d8-67693aecbd95"
      },
      "source": [
        "<br>"
      ],
      "id": "83f4f254-9c8f-447a-b4d8-67693aecbd95"
    },
    {
      "cell_type": "markdown",
      "metadata": {
        "id": "ea0a8139-8653-470c-b316-06cc8ccbc3e4"
      },
      "source": [
        "Переименуем их и выведем датафрейм."
      ],
      "id": "ea0a8139-8653-470c-b316-06cc8ccbc3e4"
    },
    {
      "cell_type": "code",
      "execution_count": 71,
      "metadata": {
        "id": "fce85f22-b26b-40f6-a167-ca0cc3ed21c6",
        "colab": {
          "base_uri": "https://localhost:8080/",
          "height": 539
        },
        "outputId": "e8e33f7c-ba3b-4d07-9b88-c1bd89deef85"
      },
      "outputs": [
        {
          "output_type": "execute_result",
          "data": {
            "text/plain": [
              "                                              object  registry_number  \\\n",
              "0  Дом, в котором в 1917 г. находился Совет рабоч...  671510201120006   \n",
              "1                                 Дом Ф.Д. Маштакова  571410013830005   \n",
              "2                                          Дом жилой  671510200540005   \n",
              "3                       Памятник Александру Невскому  761310302740006   \n",
              "4  Здание городского торгового корпуса, где 14 де...  541510302250006   \n",
              "\n",
              "                                        full_address                 region  \\\n",
              "0  Смоленская область. г. Смоленск, ул. Октябрьск...     Смоленская область   \n",
              "1  Новосибирская область, г. Новосибирск, Централ...  Новосибирская область   \n",
              "2  Смоленская область, г. Смоленск, ул. Коммунист...     Смоленская область   \n",
              "3  Ярославская область, г. Переславль-Залесский, ...    Ярославская область   \n",
              "4  Новосибирская область, г. Новосибирск, Красный...  Новосибирская область   \n",
              "\n",
              "    significance_category object_type  \\\n",
              "0   Федерального значения    Памятник   \n",
              "1  Регионального значения    Памятник   \n",
              "2  Регионального значения    Памятник   \n",
              "3   Федерального значения    Памятник   \n",
              "4   Федерального значения    Памятник   \n",
              "\n",
              "                                  object_description  \\\n",
              "0  Предметом охраны объекта культурного наследия ...   \n",
              "1  1. Объемно-планировочное решение и габариты зд...   \n",
              "2  Предметом охраны объекта культурного наследия ...   \n",
              "3  Предметом охраны объекта культурного наследия ...   \n",
              "4  1. Объемно-планировочное решение, форма и габа...   \n",
              "\n",
              "                           object_border_description unesco_affiliation  \\\n",
              "0                                                NaN                нет   \n",
              "1  Граница территории объекта культурного наследи...                нет   \n",
              "2  Граница территории идет:  - от исходной поворо...                нет   \n",
              "3  Граница территории объекта культурного наследи...                нет   \n",
              "4  Граница территории объекта культурного наследи...                нет   \n",
              "\n",
              "  particularly_valuable_object  ensemble_id construction_date  \\\n",
              "0                          нет          NaN               NaN   \n",
              "1                          нет          NaN           1903 г.   \n",
              "2                          нет          NaN        нач. XX в.   \n",
              "3                          нет          NaN           1958 г.   \n",
              "4                          нет          NaN           1917 г.   \n",
              "\n",
              "                              coordinates  \\\n",
              "0  [32.04383481349142, 54.78087501154608]   \n",
              "1                  [82.921885, 55.022711]   \n",
              "2    [32.0563380846552, 54.7802279058219]   \n",
              "3                                     NaN   \n",
              "4                  [82.920241, 55.028734]   \n",
              "\n",
              "                              object_subtype  \\\n",
              "0                           Памятник истории   \n",
              "1  Памятник градостроительства и архитектуры   \n",
              "2  Памятник градостроительства и архитектуры   \n",
              "3                         Памятник искусства   \n",
              "4                           Памятник истории   \n",
              "\n",
              "                                       document_name document_code  \\\n",
              "0               Постановление Совета Министров РСФСР           624   \n",
              "1  Постановление Главы Администрации Новосибирско...          1303   \n",
              "2                  Решение Смоленской областной Думы            24   \n",
              "3               Постановление Совета Министров РСФСР          1327   \n",
              "4  Постановление Совета Министров РСФСР «О дополн...           624   \n",
              "\n",
              "  document_date                                document_url  \\\n",
              "0    1974-12-04  https://okn-mk.mkrf.ru/maps/show/id/122158   \n",
              "1    2001-12-29  https://okn-mk.mkrf.ru/maps/show/id/122120   \n",
              "2    1995-02-28  https://okn-mk.mkrf.ru/maps/show/id/122245   \n",
              "3    1980-08-30                                         NaN   \n",
              "4    1974-12-04  https://okn-mk.mkrf.ru/maps/show/id/122292   \n",
              "\n",
              "                                     image_url  \n",
              "0   https://okn-mk.mkrf.ru/maps/show/id/122155  \n",
              "1  https://okn-mk.mkrf.ru/maps/show/id/3599850  \n",
              "2                                               \n",
              "3  https://okn-mk.mkrf.ru/maps/show/id/4187985  \n",
              "4   https://okn-mk.mkrf.ru/maps/show/id/122297  "
            ],
            "text/html": [
              "\n",
              "  <div id=\"df-6c92e631-0cdc-4497-9240-848ce45ad032\" class=\"colab-df-container\">\n",
              "    <div>\n",
              "<style scoped>\n",
              "    .dataframe tbody tr th:only-of-type {\n",
              "        vertical-align: middle;\n",
              "    }\n",
              "\n",
              "    .dataframe tbody tr th {\n",
              "        vertical-align: top;\n",
              "    }\n",
              "\n",
              "    .dataframe thead th {\n",
              "        text-align: right;\n",
              "    }\n",
              "</style>\n",
              "<table border=\"1\" class=\"dataframe\">\n",
              "  <thead>\n",
              "    <tr style=\"text-align: right;\">\n",
              "      <th></th>\n",
              "      <th>object</th>\n",
              "      <th>registry_number</th>\n",
              "      <th>full_address</th>\n",
              "      <th>region</th>\n",
              "      <th>significance_category</th>\n",
              "      <th>object_type</th>\n",
              "      <th>object_description</th>\n",
              "      <th>object_border_description</th>\n",
              "      <th>unesco_affiliation</th>\n",
              "      <th>particularly_valuable_object</th>\n",
              "      <th>ensemble_id</th>\n",
              "      <th>construction_date</th>\n",
              "      <th>coordinates</th>\n",
              "      <th>object_subtype</th>\n",
              "      <th>document_name</th>\n",
              "      <th>document_code</th>\n",
              "      <th>document_date</th>\n",
              "      <th>document_url</th>\n",
              "      <th>image_url</th>\n",
              "    </tr>\n",
              "  </thead>\n",
              "  <tbody>\n",
              "    <tr>\n",
              "      <th>0</th>\n",
              "      <td>Дом, в котором в 1917 г. находился Совет рабоч...</td>\n",
              "      <td>671510201120006</td>\n",
              "      <td>Смоленская область. г. Смоленск, ул. Октябрьск...</td>\n",
              "      <td>Смоленская область</td>\n",
              "      <td>Федерального значения</td>\n",
              "      <td>Памятник</td>\n",
              "      <td>Предметом охраны объекта культурного наследия ...</td>\n",
              "      <td>NaN</td>\n",
              "      <td>нет</td>\n",
              "      <td>нет</td>\n",
              "      <td>NaN</td>\n",
              "      <td>NaN</td>\n",
              "      <td>[32.04383481349142, 54.78087501154608]</td>\n",
              "      <td>Памятник истории</td>\n",
              "      <td>Постановление Совета Министров РСФСР</td>\n",
              "      <td>624</td>\n",
              "      <td>1974-12-04</td>\n",
              "      <td>https://okn-mk.mkrf.ru/maps/show/id/122158</td>\n",
              "      <td>https://okn-mk.mkrf.ru/maps/show/id/122155</td>\n",
              "    </tr>\n",
              "    <tr>\n",
              "      <th>1</th>\n",
              "      <td>Дом Ф.Д. Маштакова</td>\n",
              "      <td>571410013830005</td>\n",
              "      <td>Новосибирская область, г. Новосибирск, Централ...</td>\n",
              "      <td>Новосибирская область</td>\n",
              "      <td>Регионального значения</td>\n",
              "      <td>Памятник</td>\n",
              "      <td>1. Объемно-планировочное решение и габариты зд...</td>\n",
              "      <td>Граница территории объекта культурного наследи...</td>\n",
              "      <td>нет</td>\n",
              "      <td>нет</td>\n",
              "      <td>NaN</td>\n",
              "      <td>1903 г.</td>\n",
              "      <td>[82.921885, 55.022711]</td>\n",
              "      <td>Памятник градостроительства и архитектуры</td>\n",
              "      <td>Постановление Главы Администрации Новосибирско...</td>\n",
              "      <td>1303</td>\n",
              "      <td>2001-12-29</td>\n",
              "      <td>https://okn-mk.mkrf.ru/maps/show/id/122120</td>\n",
              "      <td>https://okn-mk.mkrf.ru/maps/show/id/3599850</td>\n",
              "    </tr>\n",
              "    <tr>\n",
              "      <th>2</th>\n",
              "      <td>Дом жилой</td>\n",
              "      <td>671510200540005</td>\n",
              "      <td>Смоленская область, г. Смоленск, ул. Коммунист...</td>\n",
              "      <td>Смоленская область</td>\n",
              "      <td>Регионального значения</td>\n",
              "      <td>Памятник</td>\n",
              "      <td>Предметом охраны объекта культурного наследия ...</td>\n",
              "      <td>Граница территории идет:  - от исходной поворо...</td>\n",
              "      <td>нет</td>\n",
              "      <td>нет</td>\n",
              "      <td>NaN</td>\n",
              "      <td>нач. XX в.</td>\n",
              "      <td>[32.0563380846552, 54.7802279058219]</td>\n",
              "      <td>Памятник градостроительства и архитектуры</td>\n",
              "      <td>Решение Смоленской областной Думы</td>\n",
              "      <td>24</td>\n",
              "      <td>1995-02-28</td>\n",
              "      <td>https://okn-mk.mkrf.ru/maps/show/id/122245</td>\n",
              "      <td></td>\n",
              "    </tr>\n",
              "    <tr>\n",
              "      <th>3</th>\n",
              "      <td>Памятник Александру Невскому</td>\n",
              "      <td>761310302740006</td>\n",
              "      <td>Ярославская область, г. Переславль-Залесский, ...</td>\n",
              "      <td>Ярославская область</td>\n",
              "      <td>Федерального значения</td>\n",
              "      <td>Памятник</td>\n",
              "      <td>Предметом охраны объекта культурного наследия ...</td>\n",
              "      <td>Граница территории объекта культурного наследи...</td>\n",
              "      <td>нет</td>\n",
              "      <td>нет</td>\n",
              "      <td>NaN</td>\n",
              "      <td>1958 г.</td>\n",
              "      <td>NaN</td>\n",
              "      <td>Памятник искусства</td>\n",
              "      <td>Постановление Совета Министров РСФСР</td>\n",
              "      <td>1327</td>\n",
              "      <td>1980-08-30</td>\n",
              "      <td>NaN</td>\n",
              "      <td>https://okn-mk.mkrf.ru/maps/show/id/4187985</td>\n",
              "    </tr>\n",
              "    <tr>\n",
              "      <th>4</th>\n",
              "      <td>Здание городского торгового корпуса, где 14 де...</td>\n",
              "      <td>541510302250006</td>\n",
              "      <td>Новосибирская область, г. Новосибирск, Красный...</td>\n",
              "      <td>Новосибирская область</td>\n",
              "      <td>Федерального значения</td>\n",
              "      <td>Памятник</td>\n",
              "      <td>1. Объемно-планировочное решение, форма и габа...</td>\n",
              "      <td>Граница территории объекта культурного наследи...</td>\n",
              "      <td>нет</td>\n",
              "      <td>нет</td>\n",
              "      <td>NaN</td>\n",
              "      <td>1917 г.</td>\n",
              "      <td>[82.920241, 55.028734]</td>\n",
              "      <td>Памятник истории</td>\n",
              "      <td>Постановление Совета Министров РСФСР «О дополн...</td>\n",
              "      <td>624</td>\n",
              "      <td>1974-12-04</td>\n",
              "      <td>https://okn-mk.mkrf.ru/maps/show/id/122292</td>\n",
              "      <td>https://okn-mk.mkrf.ru/maps/show/id/122297</td>\n",
              "    </tr>\n",
              "  </tbody>\n",
              "</table>\n",
              "</div>\n",
              "    <div class=\"colab-df-buttons\">\n",
              "\n",
              "  <div class=\"colab-df-container\">\n",
              "    <button class=\"colab-df-convert\" onclick=\"convertToInteractive('df-6c92e631-0cdc-4497-9240-848ce45ad032')\"\n",
              "            title=\"Convert this dataframe to an interactive table.\"\n",
              "            style=\"display:none;\">\n",
              "\n",
              "  <svg xmlns=\"http://www.w3.org/2000/svg\" height=\"24px\" viewBox=\"0 -960 960 960\">\n",
              "    <path d=\"M120-120v-720h720v720H120Zm60-500h600v-160H180v160Zm220 220h160v-160H400v160Zm0 220h160v-160H400v160ZM180-400h160v-160H180v160Zm440 0h160v-160H620v160ZM180-180h160v-160H180v160Zm440 0h160v-160H620v160Z\"/>\n",
              "  </svg>\n",
              "    </button>\n",
              "\n",
              "  <style>\n",
              "    .colab-df-container {\n",
              "      display:flex;\n",
              "      gap: 12px;\n",
              "    }\n",
              "\n",
              "    .colab-df-convert {\n",
              "      background-color: #E8F0FE;\n",
              "      border: none;\n",
              "      border-radius: 50%;\n",
              "      cursor: pointer;\n",
              "      display: none;\n",
              "      fill: #1967D2;\n",
              "      height: 32px;\n",
              "      padding: 0 0 0 0;\n",
              "      width: 32px;\n",
              "    }\n",
              "\n",
              "    .colab-df-convert:hover {\n",
              "      background-color: #E2EBFA;\n",
              "      box-shadow: 0px 1px 2px rgba(60, 64, 67, 0.3), 0px 1px 3px 1px rgba(60, 64, 67, 0.15);\n",
              "      fill: #174EA6;\n",
              "    }\n",
              "\n",
              "    .colab-df-buttons div {\n",
              "      margin-bottom: 4px;\n",
              "    }\n",
              "\n",
              "    [theme=dark] .colab-df-convert {\n",
              "      background-color: #3B4455;\n",
              "      fill: #D2E3FC;\n",
              "    }\n",
              "\n",
              "    [theme=dark] .colab-df-convert:hover {\n",
              "      background-color: #434B5C;\n",
              "      box-shadow: 0px 1px 3px 1px rgba(0, 0, 0, 0.15);\n",
              "      filter: drop-shadow(0px 1px 2px rgba(0, 0, 0, 0.3));\n",
              "      fill: #FFFFFF;\n",
              "    }\n",
              "  </style>\n",
              "\n",
              "    <script>\n",
              "      const buttonEl =\n",
              "        document.querySelector('#df-6c92e631-0cdc-4497-9240-848ce45ad032 button.colab-df-convert');\n",
              "      buttonEl.style.display =\n",
              "        google.colab.kernel.accessAllowed ? 'block' : 'none';\n",
              "\n",
              "      async function convertToInteractive(key) {\n",
              "        const element = document.querySelector('#df-6c92e631-0cdc-4497-9240-848ce45ad032');\n",
              "        const dataTable =\n",
              "          await google.colab.kernel.invokeFunction('convertToInteractive',\n",
              "                                                    [key], {});\n",
              "        if (!dataTable) return;\n",
              "\n",
              "        const docLinkHtml = 'Like what you see? Visit the ' +\n",
              "          '<a target=\"_blank\" href=https://colab.research.google.com/notebooks/data_table.ipynb>data table notebook</a>'\n",
              "          + ' to learn more about interactive tables.';\n",
              "        element.innerHTML = '';\n",
              "        dataTable['output_type'] = 'display_data';\n",
              "        await google.colab.output.renderOutput(dataTable, element);\n",
              "        const docLink = document.createElement('div');\n",
              "        docLink.innerHTML = docLinkHtml;\n",
              "        element.appendChild(docLink);\n",
              "      }\n",
              "    </script>\n",
              "  </div>\n",
              "\n",
              "\n",
              "<div id=\"df-dbe6184c-a076-4526-9659-c6dd23b426ab\">\n",
              "  <button class=\"colab-df-quickchart\" onclick=\"quickchart('df-dbe6184c-a076-4526-9659-c6dd23b426ab')\"\n",
              "            title=\"Suggest charts\"\n",
              "            style=\"display:none;\">\n",
              "\n",
              "<svg xmlns=\"http://www.w3.org/2000/svg\" height=\"24px\"viewBox=\"0 0 24 24\"\n",
              "     width=\"24px\">\n",
              "    <g>\n",
              "        <path d=\"M19 3H5c-1.1 0-2 .9-2 2v14c0 1.1.9 2 2 2h14c1.1 0 2-.9 2-2V5c0-1.1-.9-2-2-2zM9 17H7v-7h2v7zm4 0h-2V7h2v10zm4 0h-2v-4h2v4z\"/>\n",
              "    </g>\n",
              "</svg>\n",
              "  </button>\n",
              "\n",
              "<style>\n",
              "  .colab-df-quickchart {\n",
              "      --bg-color: #E8F0FE;\n",
              "      --fill-color: #1967D2;\n",
              "      --hover-bg-color: #E2EBFA;\n",
              "      --hover-fill-color: #174EA6;\n",
              "      --disabled-fill-color: #AAA;\n",
              "      --disabled-bg-color: #DDD;\n",
              "  }\n",
              "\n",
              "  [theme=dark] .colab-df-quickchart {\n",
              "      --bg-color: #3B4455;\n",
              "      --fill-color: #D2E3FC;\n",
              "      --hover-bg-color: #434B5C;\n",
              "      --hover-fill-color: #FFFFFF;\n",
              "      --disabled-bg-color: #3B4455;\n",
              "      --disabled-fill-color: #666;\n",
              "  }\n",
              "\n",
              "  .colab-df-quickchart {\n",
              "    background-color: var(--bg-color);\n",
              "    border: none;\n",
              "    border-radius: 50%;\n",
              "    cursor: pointer;\n",
              "    display: none;\n",
              "    fill: var(--fill-color);\n",
              "    height: 32px;\n",
              "    padding: 0;\n",
              "    width: 32px;\n",
              "  }\n",
              "\n",
              "  .colab-df-quickchart:hover {\n",
              "    background-color: var(--hover-bg-color);\n",
              "    box-shadow: 0 1px 2px rgba(60, 64, 67, 0.3), 0 1px 3px 1px rgba(60, 64, 67, 0.15);\n",
              "    fill: var(--button-hover-fill-color);\n",
              "  }\n",
              "\n",
              "  .colab-df-quickchart-complete:disabled,\n",
              "  .colab-df-quickchart-complete:disabled:hover {\n",
              "    background-color: var(--disabled-bg-color);\n",
              "    fill: var(--disabled-fill-color);\n",
              "    box-shadow: none;\n",
              "  }\n",
              "\n",
              "  .colab-df-spinner {\n",
              "    border: 2px solid var(--fill-color);\n",
              "    border-color: transparent;\n",
              "    border-bottom-color: var(--fill-color);\n",
              "    animation:\n",
              "      spin 1s steps(1) infinite;\n",
              "  }\n",
              "\n",
              "  @keyframes spin {\n",
              "    0% {\n",
              "      border-color: transparent;\n",
              "      border-bottom-color: var(--fill-color);\n",
              "      border-left-color: var(--fill-color);\n",
              "    }\n",
              "    20% {\n",
              "      border-color: transparent;\n",
              "      border-left-color: var(--fill-color);\n",
              "      border-top-color: var(--fill-color);\n",
              "    }\n",
              "    30% {\n",
              "      border-color: transparent;\n",
              "      border-left-color: var(--fill-color);\n",
              "      border-top-color: var(--fill-color);\n",
              "      border-right-color: var(--fill-color);\n",
              "    }\n",
              "    40% {\n",
              "      border-color: transparent;\n",
              "      border-right-color: var(--fill-color);\n",
              "      border-top-color: var(--fill-color);\n",
              "    }\n",
              "    60% {\n",
              "      border-color: transparent;\n",
              "      border-right-color: var(--fill-color);\n",
              "    }\n",
              "    80% {\n",
              "      border-color: transparent;\n",
              "      border-right-color: var(--fill-color);\n",
              "      border-bottom-color: var(--fill-color);\n",
              "    }\n",
              "    90% {\n",
              "      border-color: transparent;\n",
              "      border-bottom-color: var(--fill-color);\n",
              "    }\n",
              "  }\n",
              "</style>\n",
              "\n",
              "  <script>\n",
              "    async function quickchart(key) {\n",
              "      const quickchartButtonEl =\n",
              "        document.querySelector('#' + key + ' button');\n",
              "      quickchartButtonEl.disabled = true;  // To prevent multiple clicks.\n",
              "      quickchartButtonEl.classList.add('colab-df-spinner');\n",
              "      try {\n",
              "        const charts = await google.colab.kernel.invokeFunction(\n",
              "            'suggestCharts', [key], {});\n",
              "      } catch (error) {\n",
              "        console.error('Error during call to suggestCharts:', error);\n",
              "      }\n",
              "      quickchartButtonEl.classList.remove('colab-df-spinner');\n",
              "      quickchartButtonEl.classList.add('colab-df-quickchart-complete');\n",
              "    }\n",
              "    (() => {\n",
              "      let quickchartButtonEl =\n",
              "        document.querySelector('#df-dbe6184c-a076-4526-9659-c6dd23b426ab button');\n",
              "      quickchartButtonEl.style.display =\n",
              "        google.colab.kernel.accessAllowed ? 'block' : 'none';\n",
              "    })();\n",
              "  </script>\n",
              "</div>\n",
              "    </div>\n",
              "  </div>\n"
            ]
          },
          "metadata": {},
          "execution_count": 71
        }
      ],
      "source": [
        "df = df.rename(columns={'Объект': 'object',\n",
        "                        'Номер в реестре': 'registry_number',\n",
        "                        'Полный адрес': 'full_address',\n",
        "                        'Регион': 'region',\n",
        "                        'Категория историко-культурного значения': 'significance_category',\n",
        "                        'Вид объекта': 'object_type',\n",
        "                        'описание предмета охраны': 'object_description',\n",
        "                        'текстовое описание границ': 'object_border_description',\n",
        "                        'Принадлежность к Юнеско': 'unesco_affiliation',\n",
        "                        'Особо ценный объект': 'particularly_valuable_object',\n",
        "                        'идентификатор ансамбля': 'ensemble_id',\n",
        "                        'дата создания': 'construction_date',\n",
        "                        'общая видовая принадлежность': 'object_subtype',\n",
        "                        'name_1': 'document_name',\n",
        "                        'number_1': 'document_code',\n",
        "                        'date_1': 'document_date',\n",
        "                        'archive_1_url': 'document_url',\n",
        "                        'URL': 'image_url'})\n",
        "df.head()"
      ],
      "id": "fce85f22-b26b-40f6-a167-ca0cc3ed21c6"
    },
    {
      "cell_type": "markdown",
      "metadata": {
        "id": "29f21143-53b7-426c-ac33-61aacc86ea2a"
      },
      "source": [
        "<br>"
      ],
      "id": "29f21143-53b7-426c-ac33-61aacc86ea2a"
    },
    {
      "cell_type": "markdown",
      "metadata": {
        "id": "128528db-7fe5-428b-9e09-57489b1b838c"
      },
      "source": [
        "Зададим в каком порядке они будут отображены."
      ],
      "id": "128528db-7fe5-428b-9e09-57489b1b838c"
    },
    {
      "cell_type": "code",
      "execution_count": 72,
      "metadata": {
        "id": "75813ec4-9b39-469e-a277-3e1c00e666ab"
      },
      "outputs": [],
      "source": [
        "df = df[['object',\n",
        "         'registry_number',\n",
        "         'region',\n",
        "         'full_address',\n",
        "         'construction_date',\n",
        "         'significance_category',\n",
        "         'object_type',\n",
        "         'object_subtype',\n",
        "         'unesco_affiliation',\n",
        "         'particularly_valuable_object',\n",
        "         'object_description',\n",
        "         'object_border_description',\n",
        "         'ensemble_id',\n",
        "         'coordinates',\n",
        "         'image_url',\n",
        "         'document_name',\n",
        "         'document_code',\n",
        "         'document_date',\n",
        "         'document_url']]"
      ],
      "id": "75813ec4-9b39-469e-a277-3e1c00e666ab"
    },
    {
      "cell_type": "markdown",
      "metadata": {
        "id": "98a872e1-c27e-4e33-89ee-97a9c0b8000d"
      },
      "source": [
        "<br>"
      ],
      "id": "98a872e1-c27e-4e33-89ee-97a9c0b8000d"
    },
    {
      "cell_type": "markdown",
      "metadata": {
        "id": "b0eae838-a501-4286-9420-de663cbf6948"
      },
      "source": [
        "Срез по г. Ухте."
      ],
      "id": "b0eae838-a501-4286-9420-de663cbf6948"
    },
    {
      "cell_type": "code",
      "execution_count": 73,
      "metadata": {
        "id": "876fe11b-cd46-47a1-abf8-dab1b14789b7",
        "colab": {
          "base_uri": "https://localhost:8080/",
          "height": 573
        },
        "outputId": "013331cb-3e9a-4fb9-fe89-8fce859d8186"
      },
      "outputs": [
        {
          "output_type": "execute_result",
          "data": {
            "text/plain": [
              "                                                   object  registry_number  \\\n",
              "147528  Ансамбль улиц Мира, Первомайская, Кремса, архи...  112021333140005   \n",
              "147483  Ансамбль улиц Октябрьская и Первомайская, архи...  112021333120005   \n",
              "149208                            Больница поселка Водный  112111343810005   \n",
              "71930    Братская могила 12 красных партизан в с. Изваиле  111610537090005   \n",
              "93197   Братская могила 7 красных партизан в с. Усть-Ухте  111710819530005   \n",
              "\n",
              "                 region                                       full_address  \\\n",
              "147528  Республика Коми  Республика Коми, г. Ухта, ул. Мира, дома №№ 1,...   \n",
              "147483  Республика Коми  Республика Коми, г. Ухта, ул. Октябрьская, дом...   \n",
              "149208  Республика Коми  Республика Коми, г. Ухта, пгт. Водный, ул. Гаг...   \n",
              "71930   Республика Коми  Республика Коми, г. Ухта, д. Изваиль (ориентир...   \n",
              "93197   Республика Коми  Республика Коми, г. Сосногорск, с. Усть-Ухта, ...   \n",
              "\n",
              "                     construction_date   significance_category object_type  \\\n",
              "147528                 1949 - 1968 гг.  Регионального значения    Ансамбль   \n",
              "147483                 1950 - 1959 гг.  Регионального значения    Ансамбль   \n",
              "149208                         1956 г.  Регионального значения    Памятник   \n",
              "71930   ноябрь 1919 г., ноябрь 1957 г.  Регионального значения    Памятник   \n",
              "93197                 1919 г., 1957 г.  Регионального значения    Памятник   \n",
              "\n",
              "                                   object_subtype unesco_affiliation  \\\n",
              "147528  Памятник градостроительства и архитектуры                нет   \n",
              "147483  Памятник градостроительства и архитектуры                нет   \n",
              "149208  Памятник градостроительства и архитектуры                нет   \n",
              "71930                            Памятник истории                нет   \n",
              "93197                            Памятник истории                нет   \n",
              "\n",
              "       particularly_valuable_object  \\\n",
              "147528                          нет   \n",
              "147483                          нет   \n",
              "149208                          нет   \n",
              "71930                           нет   \n",
              "93197                           нет   \n",
              "\n",
              "                                       object_description  \\\n",
              "147528                                                NaN   \n",
              "147483   Предметом охраны объекта культурного наследия...   \n",
              "149208  1 Объемно-пространственная композиция здания  ...   \n",
              "71930   К особенностям, составляющим предмет охраны об...   \n",
              "93197   К особенностям, составляющим предмет охраны об...   \n",
              "\n",
              "                                object_border_description  ensemble_id  \\\n",
              "147528  Граница территории объекта культурного наследи...          NaN   \n",
              "147483                                                NaN          NaN   \n",
              "149208  Граница территории объекта культурного наследи...          NaN   \n",
              "71930                                                 NaN          NaN   \n",
              "93197                                                 NaN          NaN   \n",
              "\n",
              "       coordinates                                    image_url  \\\n",
              "147528         NaN  https://okn-mk.mkrf.ru/maps/show/id/4034367   \n",
              "147483         NaN  https://okn-mk.mkrf.ru/maps/show/id/4028963   \n",
              "149208         NaN  https://okn-mk.mkrf.ru/maps/show/id/4396147   \n",
              "71930          NaN  https://okn-mk.mkrf.ru/maps/show/id/1962138   \n",
              "93197          NaN  https://okn-mk.mkrf.ru/maps/show/id/2455551   \n",
              "\n",
              "                                            document_name document_code  \\\n",
              "147528  Приказ Управления Республики Коми по охране об...         93-ОД   \n",
              "147483  Приказ Управления Республики Коми по охране об...        167-ОД   \n",
              "149208  Приказ Управления Республики коми по охране об...         20-ОД   \n",
              "71930   Постановление Совета Министров Коми АССР \"О па...           406   \n",
              "93197   Постановление Совета Министров Коми АССР \"О па...           406   \n",
              "\n",
              "       document_date document_url  \n",
              "147528    2019-06-17          NaN  \n",
              "147483    2019-08-05          NaN  \n",
              "149208    2021-03-05          NaN  \n",
              "71930     1959-11-30          NaN  \n",
              "93197     1959-11-30          NaN  "
            ],
            "text/html": [
              "\n",
              "  <div id=\"df-96a7ccae-d46b-4447-9aa2-fa71e89c4e68\" class=\"colab-df-container\">\n",
              "    <div>\n",
              "<style scoped>\n",
              "    .dataframe tbody tr th:only-of-type {\n",
              "        vertical-align: middle;\n",
              "    }\n",
              "\n",
              "    .dataframe tbody tr th {\n",
              "        vertical-align: top;\n",
              "    }\n",
              "\n",
              "    .dataframe thead th {\n",
              "        text-align: right;\n",
              "    }\n",
              "</style>\n",
              "<table border=\"1\" class=\"dataframe\">\n",
              "  <thead>\n",
              "    <tr style=\"text-align: right;\">\n",
              "      <th></th>\n",
              "      <th>object</th>\n",
              "      <th>registry_number</th>\n",
              "      <th>region</th>\n",
              "      <th>full_address</th>\n",
              "      <th>construction_date</th>\n",
              "      <th>significance_category</th>\n",
              "      <th>object_type</th>\n",
              "      <th>object_subtype</th>\n",
              "      <th>unesco_affiliation</th>\n",
              "      <th>particularly_valuable_object</th>\n",
              "      <th>object_description</th>\n",
              "      <th>object_border_description</th>\n",
              "      <th>ensemble_id</th>\n",
              "      <th>coordinates</th>\n",
              "      <th>image_url</th>\n",
              "      <th>document_name</th>\n",
              "      <th>document_code</th>\n",
              "      <th>document_date</th>\n",
              "      <th>document_url</th>\n",
              "    </tr>\n",
              "  </thead>\n",
              "  <tbody>\n",
              "    <tr>\n",
              "      <th>147528</th>\n",
              "      <td>Ансамбль улиц Мира, Первомайская, Кремса, архи...</td>\n",
              "      <td>112021333140005</td>\n",
              "      <td>Республика Коми</td>\n",
              "      <td>Республика Коми, г. Ухта, ул. Мира, дома №№ 1,...</td>\n",
              "      <td>1949 - 1968 гг.</td>\n",
              "      <td>Регионального значения</td>\n",
              "      <td>Ансамбль</td>\n",
              "      <td>Памятник градостроительства и архитектуры</td>\n",
              "      <td>нет</td>\n",
              "      <td>нет</td>\n",
              "      <td>NaN</td>\n",
              "      <td>Граница территории объекта культурного наследи...</td>\n",
              "      <td>NaN</td>\n",
              "      <td>NaN</td>\n",
              "      <td>https://okn-mk.mkrf.ru/maps/show/id/4034367</td>\n",
              "      <td>Приказ Управления Республики Коми по охране об...</td>\n",
              "      <td>93-ОД</td>\n",
              "      <td>2019-06-17</td>\n",
              "      <td>NaN</td>\n",
              "    </tr>\n",
              "    <tr>\n",
              "      <th>147483</th>\n",
              "      <td>Ансамбль улиц Октябрьская и Первомайская, архи...</td>\n",
              "      <td>112021333120005</td>\n",
              "      <td>Республика Коми</td>\n",
              "      <td>Республика Коми, г. Ухта, ул. Октябрьская, дом...</td>\n",
              "      <td>1950 - 1959 гг.</td>\n",
              "      <td>Регионального значения</td>\n",
              "      <td>Ансамбль</td>\n",
              "      <td>Памятник градостроительства и архитектуры</td>\n",
              "      <td>нет</td>\n",
              "      <td>нет</td>\n",
              "      <td>Предметом охраны объекта культурного наследия...</td>\n",
              "      <td>NaN</td>\n",
              "      <td>NaN</td>\n",
              "      <td>NaN</td>\n",
              "      <td>https://okn-mk.mkrf.ru/maps/show/id/4028963</td>\n",
              "      <td>Приказ Управления Республики Коми по охране об...</td>\n",
              "      <td>167-ОД</td>\n",
              "      <td>2019-08-05</td>\n",
              "      <td>NaN</td>\n",
              "    </tr>\n",
              "    <tr>\n",
              "      <th>149208</th>\n",
              "      <td>Больница поселка Водный</td>\n",
              "      <td>112111343810005</td>\n",
              "      <td>Республика Коми</td>\n",
              "      <td>Республика Коми, г. Ухта, пгт. Водный, ул. Гаг...</td>\n",
              "      <td>1956 г.</td>\n",
              "      <td>Регионального значения</td>\n",
              "      <td>Памятник</td>\n",
              "      <td>Памятник градостроительства и архитектуры</td>\n",
              "      <td>нет</td>\n",
              "      <td>нет</td>\n",
              "      <td>1 Объемно-пространственная композиция здания  ...</td>\n",
              "      <td>Граница территории объекта культурного наследи...</td>\n",
              "      <td>NaN</td>\n",
              "      <td>NaN</td>\n",
              "      <td>https://okn-mk.mkrf.ru/maps/show/id/4396147</td>\n",
              "      <td>Приказ Управления Республики коми по охране об...</td>\n",
              "      <td>20-ОД</td>\n",
              "      <td>2021-03-05</td>\n",
              "      <td>NaN</td>\n",
              "    </tr>\n",
              "    <tr>\n",
              "      <th>71930</th>\n",
              "      <td>Братская могила 12 красных партизан в с. Изваиле</td>\n",
              "      <td>111610537090005</td>\n",
              "      <td>Республика Коми</td>\n",
              "      <td>Республика Коми, г. Ухта, д. Изваиль (ориентир...</td>\n",
              "      <td>ноябрь 1919 г., ноябрь 1957 г.</td>\n",
              "      <td>Регионального значения</td>\n",
              "      <td>Памятник</td>\n",
              "      <td>Памятник истории</td>\n",
              "      <td>нет</td>\n",
              "      <td>нет</td>\n",
              "      <td>К особенностям, составляющим предмет охраны об...</td>\n",
              "      <td>NaN</td>\n",
              "      <td>NaN</td>\n",
              "      <td>NaN</td>\n",
              "      <td>https://okn-mk.mkrf.ru/maps/show/id/1962138</td>\n",
              "      <td>Постановление Совета Министров Коми АССР \"О па...</td>\n",
              "      <td>406</td>\n",
              "      <td>1959-11-30</td>\n",
              "      <td>NaN</td>\n",
              "    </tr>\n",
              "    <tr>\n",
              "      <th>93197</th>\n",
              "      <td>Братская могила 7 красных партизан в с. Усть-Ухте</td>\n",
              "      <td>111710819530005</td>\n",
              "      <td>Республика Коми</td>\n",
              "      <td>Республика Коми, г. Сосногорск, с. Усть-Ухта, ...</td>\n",
              "      <td>1919 г., 1957 г.</td>\n",
              "      <td>Регионального значения</td>\n",
              "      <td>Памятник</td>\n",
              "      <td>Памятник истории</td>\n",
              "      <td>нет</td>\n",
              "      <td>нет</td>\n",
              "      <td>К особенностям, составляющим предмет охраны об...</td>\n",
              "      <td>NaN</td>\n",
              "      <td>NaN</td>\n",
              "      <td>NaN</td>\n",
              "      <td>https://okn-mk.mkrf.ru/maps/show/id/2455551</td>\n",
              "      <td>Постановление Совета Министров Коми АССР \"О па...</td>\n",
              "      <td>406</td>\n",
              "      <td>1959-11-30</td>\n",
              "      <td>NaN</td>\n",
              "    </tr>\n",
              "  </tbody>\n",
              "</table>\n",
              "</div>\n",
              "    <div class=\"colab-df-buttons\">\n",
              "\n",
              "  <div class=\"colab-df-container\">\n",
              "    <button class=\"colab-df-convert\" onclick=\"convertToInteractive('df-96a7ccae-d46b-4447-9aa2-fa71e89c4e68')\"\n",
              "            title=\"Convert this dataframe to an interactive table.\"\n",
              "            style=\"display:none;\">\n",
              "\n",
              "  <svg xmlns=\"http://www.w3.org/2000/svg\" height=\"24px\" viewBox=\"0 -960 960 960\">\n",
              "    <path d=\"M120-120v-720h720v720H120Zm60-500h600v-160H180v160Zm220 220h160v-160H400v160Zm0 220h160v-160H400v160ZM180-400h160v-160H180v160Zm440 0h160v-160H620v160ZM180-180h160v-160H180v160Zm440 0h160v-160H620v160Z\"/>\n",
              "  </svg>\n",
              "    </button>\n",
              "\n",
              "  <style>\n",
              "    .colab-df-container {\n",
              "      display:flex;\n",
              "      gap: 12px;\n",
              "    }\n",
              "\n",
              "    .colab-df-convert {\n",
              "      background-color: #E8F0FE;\n",
              "      border: none;\n",
              "      border-radius: 50%;\n",
              "      cursor: pointer;\n",
              "      display: none;\n",
              "      fill: #1967D2;\n",
              "      height: 32px;\n",
              "      padding: 0 0 0 0;\n",
              "      width: 32px;\n",
              "    }\n",
              "\n",
              "    .colab-df-convert:hover {\n",
              "      background-color: #E2EBFA;\n",
              "      box-shadow: 0px 1px 2px rgba(60, 64, 67, 0.3), 0px 1px 3px 1px rgba(60, 64, 67, 0.15);\n",
              "      fill: #174EA6;\n",
              "    }\n",
              "\n",
              "    .colab-df-buttons div {\n",
              "      margin-bottom: 4px;\n",
              "    }\n",
              "\n",
              "    [theme=dark] .colab-df-convert {\n",
              "      background-color: #3B4455;\n",
              "      fill: #D2E3FC;\n",
              "    }\n",
              "\n",
              "    [theme=dark] .colab-df-convert:hover {\n",
              "      background-color: #434B5C;\n",
              "      box-shadow: 0px 1px 3px 1px rgba(0, 0, 0, 0.15);\n",
              "      filter: drop-shadow(0px 1px 2px rgba(0, 0, 0, 0.3));\n",
              "      fill: #FFFFFF;\n",
              "    }\n",
              "  </style>\n",
              "\n",
              "    <script>\n",
              "      const buttonEl =\n",
              "        document.querySelector('#df-96a7ccae-d46b-4447-9aa2-fa71e89c4e68 button.colab-df-convert');\n",
              "      buttonEl.style.display =\n",
              "        google.colab.kernel.accessAllowed ? 'block' : 'none';\n",
              "\n",
              "      async function convertToInteractive(key) {\n",
              "        const element = document.querySelector('#df-96a7ccae-d46b-4447-9aa2-fa71e89c4e68');\n",
              "        const dataTable =\n",
              "          await google.colab.kernel.invokeFunction('convertToInteractive',\n",
              "                                                    [key], {});\n",
              "        if (!dataTable) return;\n",
              "\n",
              "        const docLinkHtml = 'Like what you see? Visit the ' +\n",
              "          '<a target=\"_blank\" href=https://colab.research.google.com/notebooks/data_table.ipynb>data table notebook</a>'\n",
              "          + ' to learn more about interactive tables.';\n",
              "        element.innerHTML = '';\n",
              "        dataTable['output_type'] = 'display_data';\n",
              "        await google.colab.output.renderOutput(dataTable, element);\n",
              "        const docLink = document.createElement('div');\n",
              "        docLink.innerHTML = docLinkHtml;\n",
              "        element.appendChild(docLink);\n",
              "      }\n",
              "    </script>\n",
              "  </div>\n",
              "\n",
              "\n",
              "<div id=\"df-4bb5251f-0c4e-434d-a22f-3debb78f6d60\">\n",
              "  <button class=\"colab-df-quickchart\" onclick=\"quickchart('df-4bb5251f-0c4e-434d-a22f-3debb78f6d60')\"\n",
              "            title=\"Suggest charts\"\n",
              "            style=\"display:none;\">\n",
              "\n",
              "<svg xmlns=\"http://www.w3.org/2000/svg\" height=\"24px\"viewBox=\"0 0 24 24\"\n",
              "     width=\"24px\">\n",
              "    <g>\n",
              "        <path d=\"M19 3H5c-1.1 0-2 .9-2 2v14c0 1.1.9 2 2 2h14c1.1 0 2-.9 2-2V5c0-1.1-.9-2-2-2zM9 17H7v-7h2v7zm4 0h-2V7h2v10zm4 0h-2v-4h2v4z\"/>\n",
              "    </g>\n",
              "</svg>\n",
              "  </button>\n",
              "\n",
              "<style>\n",
              "  .colab-df-quickchart {\n",
              "      --bg-color: #E8F0FE;\n",
              "      --fill-color: #1967D2;\n",
              "      --hover-bg-color: #E2EBFA;\n",
              "      --hover-fill-color: #174EA6;\n",
              "      --disabled-fill-color: #AAA;\n",
              "      --disabled-bg-color: #DDD;\n",
              "  }\n",
              "\n",
              "  [theme=dark] .colab-df-quickchart {\n",
              "      --bg-color: #3B4455;\n",
              "      --fill-color: #D2E3FC;\n",
              "      --hover-bg-color: #434B5C;\n",
              "      --hover-fill-color: #FFFFFF;\n",
              "      --disabled-bg-color: #3B4455;\n",
              "      --disabled-fill-color: #666;\n",
              "  }\n",
              "\n",
              "  .colab-df-quickchart {\n",
              "    background-color: var(--bg-color);\n",
              "    border: none;\n",
              "    border-radius: 50%;\n",
              "    cursor: pointer;\n",
              "    display: none;\n",
              "    fill: var(--fill-color);\n",
              "    height: 32px;\n",
              "    padding: 0;\n",
              "    width: 32px;\n",
              "  }\n",
              "\n",
              "  .colab-df-quickchart:hover {\n",
              "    background-color: var(--hover-bg-color);\n",
              "    box-shadow: 0 1px 2px rgba(60, 64, 67, 0.3), 0 1px 3px 1px rgba(60, 64, 67, 0.15);\n",
              "    fill: var(--button-hover-fill-color);\n",
              "  }\n",
              "\n",
              "  .colab-df-quickchart-complete:disabled,\n",
              "  .colab-df-quickchart-complete:disabled:hover {\n",
              "    background-color: var(--disabled-bg-color);\n",
              "    fill: var(--disabled-fill-color);\n",
              "    box-shadow: none;\n",
              "  }\n",
              "\n",
              "  .colab-df-spinner {\n",
              "    border: 2px solid var(--fill-color);\n",
              "    border-color: transparent;\n",
              "    border-bottom-color: var(--fill-color);\n",
              "    animation:\n",
              "      spin 1s steps(1) infinite;\n",
              "  }\n",
              "\n",
              "  @keyframes spin {\n",
              "    0% {\n",
              "      border-color: transparent;\n",
              "      border-bottom-color: var(--fill-color);\n",
              "      border-left-color: var(--fill-color);\n",
              "    }\n",
              "    20% {\n",
              "      border-color: transparent;\n",
              "      border-left-color: var(--fill-color);\n",
              "      border-top-color: var(--fill-color);\n",
              "    }\n",
              "    30% {\n",
              "      border-color: transparent;\n",
              "      border-left-color: var(--fill-color);\n",
              "      border-top-color: var(--fill-color);\n",
              "      border-right-color: var(--fill-color);\n",
              "    }\n",
              "    40% {\n",
              "      border-color: transparent;\n",
              "      border-right-color: var(--fill-color);\n",
              "      border-top-color: var(--fill-color);\n",
              "    }\n",
              "    60% {\n",
              "      border-color: transparent;\n",
              "      border-right-color: var(--fill-color);\n",
              "    }\n",
              "    80% {\n",
              "      border-color: transparent;\n",
              "      border-right-color: var(--fill-color);\n",
              "      border-bottom-color: var(--fill-color);\n",
              "    }\n",
              "    90% {\n",
              "      border-color: transparent;\n",
              "      border-bottom-color: var(--fill-color);\n",
              "    }\n",
              "  }\n",
              "</style>\n",
              "\n",
              "  <script>\n",
              "    async function quickchart(key) {\n",
              "      const quickchartButtonEl =\n",
              "        document.querySelector('#' + key + ' button');\n",
              "      quickchartButtonEl.disabled = true;  // To prevent multiple clicks.\n",
              "      quickchartButtonEl.classList.add('colab-df-spinner');\n",
              "      try {\n",
              "        const charts = await google.colab.kernel.invokeFunction(\n",
              "            'suggestCharts', [key], {});\n",
              "      } catch (error) {\n",
              "        console.error('Error during call to suggestCharts:', error);\n",
              "      }\n",
              "      quickchartButtonEl.classList.remove('colab-df-spinner');\n",
              "      quickchartButtonEl.classList.add('colab-df-quickchart-complete');\n",
              "    }\n",
              "    (() => {\n",
              "      let quickchartButtonEl =\n",
              "        document.querySelector('#df-4bb5251f-0c4e-434d-a22f-3debb78f6d60 button');\n",
              "      quickchartButtonEl.style.display =\n",
              "        google.colab.kernel.accessAllowed ? 'block' : 'none';\n",
              "    })();\n",
              "  </script>\n",
              "</div>\n",
              "    </div>\n",
              "  </div>\n"
            ]
          },
          "metadata": {},
          "execution_count": 73
        }
      ],
      "source": [
        "df[df['full_address'].str\\\n",
        "                     .contains('Ухта', na = False)]\\\n",
        "                     .sort_values(by='object')\\\n",
        "                     .head()"
      ],
      "id": "876fe11b-cd46-47a1-abf8-dab1b14789b7"
    },
    {
      "cell_type": "markdown",
      "metadata": {
        "id": "ecf7c05f-7417-4555-8dd9-e827f175928a"
      },
      "source": [
        "<br>"
      ],
      "id": "ecf7c05f-7417-4555-8dd9-e827f175928a"
    },
    {
      "cell_type": "markdown",
      "metadata": {
        "id": "6d0e2aa7-84ec-4ffb-8928-bf86d6576c68"
      },
      "source": [
        "#### Изменение типов данных"
      ],
      "id": "6d0e2aa7-84ec-4ffb-8928-bf86d6576c68"
    },
    {
      "cell_type": "markdown",
      "metadata": {
        "id": "e114a3c7-5628-42f7-9e1a-6d4da253cc95"
      },
      "source": [
        "Нужно проверить типы данных и поменять их там, где нужно."
      ],
      "id": "e114a3c7-5628-42f7-9e1a-6d4da253cc95"
    },
    {
      "cell_type": "code",
      "execution_count": 74,
      "metadata": {
        "id": "da222afb-c513-4c7f-b79f-7d5f687becff",
        "colab": {
          "base_uri": "https://localhost:8080/"
        },
        "outputId": "63e496ac-877c-4a5e-e7ad-27ff63ce9ed0"
      },
      "outputs": [
        {
          "output_type": "execute_result",
          "data": {
            "text/plain": [
              "object                           object\n",
              "registry_number                  object\n",
              "region                           object\n",
              "full_address                     object\n",
              "construction_date                object\n",
              "significance_category            object\n",
              "object_type                      object\n",
              "object_subtype                   object\n",
              "unesco_affiliation               object\n",
              "particularly_valuable_object     object\n",
              "object_description               object\n",
              "object_border_description        object\n",
              "ensemble_id                     float64\n",
              "coordinates                      object\n",
              "image_url                        object\n",
              "document_name                    object\n",
              "document_code                    object\n",
              "document_date                    object\n",
              "document_url                     object\n",
              "dtype: object"
            ]
          },
          "metadata": {},
          "execution_count": 74
        }
      ],
      "source": [
        "# типы данных\n",
        "df.dtypes"
      ],
      "id": "da222afb-c513-4c7f-b79f-7d5f687becff"
    },
    {
      "cell_type": "markdown",
      "metadata": {
        "id": "e6da2119-3213-4fa0-bfab-4e59dcc36522"
      },
      "source": [
        "Кажется, неправильный тип данных есть в колонке `registry_number`, но в некоторых её значениях присутствуют посторонние знаки, а не только цифры.\\\n",
        "Да и математические операции не нужны этой колонке, ведь это номер в реестре."
      ],
      "id": "e6da2119-3213-4fa0-bfab-4e59dcc36522"
    },
    {
      "cell_type": "markdown",
      "metadata": {
        "id": "38abecc6-8a19-4757-a6d6-5277d6317a8d"
      },
      "source": [
        "Неправильные типы данных есть в колонках:\n",
        "* `ensemble_id`;\n",
        "* `coordinates`;\n",
        "* `document_date`."
      ],
      "id": "38abecc6-8a19-4757-a6d6-5277d6317a8d"
    },
    {
      "cell_type": "markdown",
      "metadata": {
        "id": "52c49fe8-5d8e-42ff-8c9b-ee7cab106ffb"
      },
      "source": [
        "<br>"
      ],
      "id": "52c49fe8-5d8e-42ff-8c9b-ee7cab106ffb"
    },
    {
      "cell_type": "markdown",
      "metadata": {
        "id": "84a92d03-e55d-4f6a-a7c6-3df2ec941f50"
      },
      "source": [
        "**Преобразуем типы.**"
      ],
      "id": "84a92d03-e55d-4f6a-a7c6-3df2ec941f50"
    },
    {
      "cell_type": "markdown",
      "metadata": {
        "id": "9acd545f-a0e6-402b-a159-7b160f60049b"
      },
      "source": [
        "Идентификатор ансамбля."
      ],
      "id": "9acd545f-a0e6-402b-a159-7b160f60049b"
    },
    {
      "cell_type": "code",
      "execution_count": 75,
      "metadata": {
        "id": "d8ae95d0-013c-426b-9d2b-13b29494237b"
      },
      "outputs": [],
      "source": [
        "df['ensemble_id'] = df['ensemble_id'].astype('Int64')"
      ],
      "id": "d8ae95d0-013c-426b-9d2b-13b29494237b"
    },
    {
      "cell_type": "markdown",
      "metadata": {
        "id": "84aa854c-6800-47cc-899f-6850c9fa0d61"
      },
      "source": [
        "<br>"
      ],
      "id": "84aa854c-6800-47cc-899f-6850c9fa0d61"
    },
    {
      "cell_type": "markdown",
      "source": [
        "Координаты предоставлены в виде списка, преобразуем в строку."
      ],
      "metadata": {
        "id": "xr33oAiMcq5D"
      },
      "id": "xr33oAiMcq5D"
    },
    {
      "cell_type": "code",
      "source": [
        "df['coordinates'] = df['coordinates'].astype('str')"
      ],
      "metadata": {
        "id": "QlOIDV2zcam_"
      },
      "id": "QlOIDV2zcam_",
      "execution_count": 76,
      "outputs": []
    },
    {
      "cell_type": "markdown",
      "source": [
        "<br>"
      ],
      "metadata": {
        "id": "C4fLnk_UcbJ1"
      },
      "id": "C4fLnk_UcbJ1"
    },
    {
      "cell_type": "markdown",
      "metadata": {
        "id": "0efbe144-f564-455d-b040-fcf962586caf"
      },
      "source": [
        "Даты документов. Без значения **coerce** параметра **errors** не получится преобразовать тип, потому что есть аномальные значения.\\\n",
        "В таком случае эти аномальные значения заменятся на пропуски."
      ],
      "id": "0efbe144-f564-455d-b040-fcf962586caf"
    },
    {
      "cell_type": "markdown",
      "metadata": {
        "id": "694ec680-a205-41c3-a78e-a87fd56963e9"
      },
      "source": [
        "Количество пропусков до преобразования."
      ],
      "id": "694ec680-a205-41c3-a78e-a87fd56963e9"
    },
    {
      "cell_type": "code",
      "execution_count": 77,
      "metadata": {
        "id": "0e830e08-0b21-4522-b8c8-1c8d89e39964",
        "colab": {
          "base_uri": "https://localhost:8080/"
        },
        "outputId": "9c0fecde-d6ae-439a-858a-fb38dce28b7b"
      },
      "outputs": [
        {
          "output_type": "execute_result",
          "data": {
            "text/plain": [
              "1580"
            ]
          },
          "metadata": {},
          "execution_count": 77
        }
      ],
      "source": [
        "df['document_date'].isna().sum()"
      ],
      "id": "0e830e08-0b21-4522-b8c8-1c8d89e39964"
    },
    {
      "cell_type": "markdown",
      "metadata": {
        "id": "47e14f8e-2075-4253-9f2e-b059812c701a"
      },
      "source": [
        "Посмотрим уникальные значения дат."
      ],
      "id": "47e14f8e-2075-4253-9f2e-b059812c701a"
    },
    {
      "cell_type": "code",
      "execution_count": 78,
      "metadata": {
        "id": "ed87cd10-69a9-4c5c-bd61-950d3ce1d41e",
        "colab": {
          "base_uri": "https://localhost:8080/"
        },
        "outputId": "155f768c-75a3-4bba-ac82-1baa310c2a57"
      },
      "outputs": [
        {
          "output_type": "execute_result",
          "data": {
            "text/plain": [
              "['0198-04-06',\n",
              " '0198-11-01',\n",
              " '0201-07-05',\n",
              " '0213-10-15',\n",
              " '0998-02-11',\n",
              " '1005-08-14',\n",
              " '1007-01-28',\n",
              " '1007-11-27',\n",
              " '1019-03-13',\n",
              " '1067-08-21',\n",
              " '1071-08-27',\n",
              " '1080-04-28',\n",
              " '1191-10-25',\n",
              " '1193-04-15',\n",
              " '1196-03-12',\n",
              " '1327-08-30',\n",
              " '1597-11-14',\n",
              " '1669-01-30',\n",
              " '1690-08-30',\n",
              " '1791-09-29',\n",
              " '1852-06-18',\n",
              " '1860-08-30',\n",
              " '1873-08-20',\n",
              " '1886-07-24',\n",
              " '1893-04-21',\n",
              " '1900-11-05',\n",
              " '1935-01-01',\n",
              " '1940-10-07',\n",
              " '1946-04-25',\n",
              " '1947-08-27']"
            ]
          },
          "metadata": {},
          "execution_count": 78
        }
      ],
      "source": [
        "udates = df['document_date'].sort_values().unique().tolist()\n",
        "udates[:30]"
      ],
      "id": "ed87cd10-69a9-4c5c-bd61-950d3ce1d41e"
    },
    {
      "cell_type": "markdown",
      "metadata": {
        "id": "c70df0dd-482f-48e2-bc48-7b1761181a60"
      },
      "source": [
        "Ну вот, видны неправдоподобные даты. Неизвестно, с какого года существует такая программа у России по сохранению объектов.\\\n",
        "Тут видны очевидные опечатки.\\\n",
        "Также здесь есть такие даты, которые метод `pd.to_datetime` не может преобразовать, так как они находятся за пределами допустимого диапазона для временных меток в Pandas (с $1677$ года до $2262$ года)."
      ],
      "id": "c70df0dd-482f-48e2-bc48-7b1761181a60"
    },
    {
      "cell_type": "code",
      "execution_count": 79,
      "metadata": {
        "id": "901fe9a4-6ff3-4f86-9bf7-985265252cc3"
      },
      "outputs": [],
      "source": [
        "df['document_date'] = pd.to_datetime(df['document_date'], format='%Y-%m-%d', errors='coerce')"
      ],
      "id": "901fe9a4-6ff3-4f86-9bf7-985265252cc3"
    },
    {
      "cell_type": "markdown",
      "metadata": {
        "id": "011dd49b-cf6e-4845-93e7-892452685e56"
      },
      "source": [
        "Количество пропусков после преобразования."
      ],
      "id": "011dd49b-cf6e-4845-93e7-892452685e56"
    },
    {
      "cell_type": "code",
      "execution_count": 80,
      "metadata": {
        "id": "85158568-99e8-46e9-a6f2-97a2e5bce853",
        "colab": {
          "base_uri": "https://localhost:8080/"
        },
        "outputId": "ea2e4c6e-7601-4ca4-a1a3-1d1a239c5db8"
      },
      "outputs": [
        {
          "output_type": "execute_result",
          "data": {
            "text/plain": [
              "1609"
            ]
          },
          "metadata": {},
          "execution_count": 80
        }
      ],
      "source": [
        "df['document_date'].isna().sum()"
      ],
      "id": "85158568-99e8-46e9-a6f2-97a2e5bce853"
    },
    {
      "cell_type": "markdown",
      "metadata": {
        "id": "17d8ae3a-00bd-4f92-a185-57ec9045071b"
      },
      "source": [
        "Добавилось $29$ новых пропусков. Совсем ничего страшного. Капля в море."
      ],
      "id": "17d8ae3a-00bd-4f92-a185-57ec9045071b"
    },
    {
      "cell_type": "markdown",
      "metadata": {
        "id": "d205635b-9b1d-44e9-ab98-e48bd2f7af33"
      },
      "source": [
        "С типами данных разобрались."
      ],
      "id": "d205635b-9b1d-44e9-ab98-e48bd2f7af33"
    },
    {
      "cell_type": "markdown",
      "metadata": {
        "id": "88e2d1a1-b5a1-423a-8ea9-c8aacfc9d38d"
      },
      "source": [
        "<br>"
      ],
      "id": "88e2d1a1-b5a1-423a-8ea9-c8aacfc9d38d"
    },
    {
      "cell_type": "markdown",
      "metadata": {
        "id": "9e352cd9-fb3c-442f-8559-45bfe1831018"
      },
      "source": [
        "### Пропущенные значения"
      ],
      "id": "9e352cd9-fb3c-442f-8559-45bfe1831018"
    },
    {
      "cell_type": "markdown",
      "metadata": {
        "id": "e78831f0-b117-4e3a-b94b-a6f193f16983"
      },
      "source": [
        "Наконец-то можно спокойно проанализировать пропущенные значения.\\\n",
        "Отобразим сводную таблицу с количеством пропусков и их процентом от общего числа наблюдений в колонке."
      ],
      "id": "e78831f0-b117-4e3a-b94b-a6f193f16983"
    },
    {
      "cell_type": "code",
      "execution_count": 81,
      "metadata": {
        "id": "f4d5124c-a984-4725-9895-e04b52112b12",
        "colab": {
          "base_uri": "https://localhost:8080/",
          "height": 645
        },
        "outputId": "a323a592-129f-4dd4-dd9d-579650ee096a"
      },
      "outputs": [
        {
          "output_type": "execute_result",
          "data": {
            "text/plain": [
              "                              missing_values    percent\n",
              "object                                     0   0.000000\n",
              "registry_number                            0   0.000000\n",
              "region                                     0   0.000000\n",
              "full_address                           56096  36.309736\n",
              "construction_date                       1868   1.209116\n",
              "significance_category                      0   0.000000\n",
              "object_type                                0   0.000000\n",
              "object_subtype                          3542   2.292661\n",
              "unesco_affiliation                        11   0.007120\n",
              "particularly_valuable_object              11   0.007120\n",
              "object_description                    107964  69.882778\n",
              "object_border_description             112258  72.662192\n",
              "ensemble_id                           132057  85.477659\n",
              "coordinates                                0   0.000000\n",
              "image_url                                  0   0.000000\n",
              "document_name                             29   0.018771\n",
              "document_code                            859   0.556012\n",
              "document_date                           1609   1.041471\n",
              "document_url                          114571  74.159347"
            ],
            "text/html": [
              "\n",
              "  <div id=\"df-75db57d5-3d22-4efe-ae59-93a36123af86\" class=\"colab-df-container\">\n",
              "    <div>\n",
              "<style scoped>\n",
              "    .dataframe tbody tr th:only-of-type {\n",
              "        vertical-align: middle;\n",
              "    }\n",
              "\n",
              "    .dataframe tbody tr th {\n",
              "        vertical-align: top;\n",
              "    }\n",
              "\n",
              "    .dataframe thead th {\n",
              "        text-align: right;\n",
              "    }\n",
              "</style>\n",
              "<table border=\"1\" class=\"dataframe\">\n",
              "  <thead>\n",
              "    <tr style=\"text-align: right;\">\n",
              "      <th></th>\n",
              "      <th>missing_values</th>\n",
              "      <th>percent</th>\n",
              "    </tr>\n",
              "  </thead>\n",
              "  <tbody>\n",
              "    <tr>\n",
              "      <th>object</th>\n",
              "      <td>0</td>\n",
              "      <td>0.000000</td>\n",
              "    </tr>\n",
              "    <tr>\n",
              "      <th>registry_number</th>\n",
              "      <td>0</td>\n",
              "      <td>0.000000</td>\n",
              "    </tr>\n",
              "    <tr>\n",
              "      <th>region</th>\n",
              "      <td>0</td>\n",
              "      <td>0.000000</td>\n",
              "    </tr>\n",
              "    <tr>\n",
              "      <th>full_address</th>\n",
              "      <td>56096</td>\n",
              "      <td>36.309736</td>\n",
              "    </tr>\n",
              "    <tr>\n",
              "      <th>construction_date</th>\n",
              "      <td>1868</td>\n",
              "      <td>1.209116</td>\n",
              "    </tr>\n",
              "    <tr>\n",
              "      <th>significance_category</th>\n",
              "      <td>0</td>\n",
              "      <td>0.000000</td>\n",
              "    </tr>\n",
              "    <tr>\n",
              "      <th>object_type</th>\n",
              "      <td>0</td>\n",
              "      <td>0.000000</td>\n",
              "    </tr>\n",
              "    <tr>\n",
              "      <th>object_subtype</th>\n",
              "      <td>3542</td>\n",
              "      <td>2.292661</td>\n",
              "    </tr>\n",
              "    <tr>\n",
              "      <th>unesco_affiliation</th>\n",
              "      <td>11</td>\n",
              "      <td>0.007120</td>\n",
              "    </tr>\n",
              "    <tr>\n",
              "      <th>particularly_valuable_object</th>\n",
              "      <td>11</td>\n",
              "      <td>0.007120</td>\n",
              "    </tr>\n",
              "    <tr>\n",
              "      <th>object_description</th>\n",
              "      <td>107964</td>\n",
              "      <td>69.882778</td>\n",
              "    </tr>\n",
              "    <tr>\n",
              "      <th>object_border_description</th>\n",
              "      <td>112258</td>\n",
              "      <td>72.662192</td>\n",
              "    </tr>\n",
              "    <tr>\n",
              "      <th>ensemble_id</th>\n",
              "      <td>132057</td>\n",
              "      <td>85.477659</td>\n",
              "    </tr>\n",
              "    <tr>\n",
              "      <th>coordinates</th>\n",
              "      <td>0</td>\n",
              "      <td>0.000000</td>\n",
              "    </tr>\n",
              "    <tr>\n",
              "      <th>image_url</th>\n",
              "      <td>0</td>\n",
              "      <td>0.000000</td>\n",
              "    </tr>\n",
              "    <tr>\n",
              "      <th>document_name</th>\n",
              "      <td>29</td>\n",
              "      <td>0.018771</td>\n",
              "    </tr>\n",
              "    <tr>\n",
              "      <th>document_code</th>\n",
              "      <td>859</td>\n",
              "      <td>0.556012</td>\n",
              "    </tr>\n",
              "    <tr>\n",
              "      <th>document_date</th>\n",
              "      <td>1609</td>\n",
              "      <td>1.041471</td>\n",
              "    </tr>\n",
              "    <tr>\n",
              "      <th>document_url</th>\n",
              "      <td>114571</td>\n",
              "      <td>74.159347</td>\n",
              "    </tr>\n",
              "  </tbody>\n",
              "</table>\n",
              "</div>\n",
              "    <div class=\"colab-df-buttons\">\n",
              "\n",
              "  <div class=\"colab-df-container\">\n",
              "    <button class=\"colab-df-convert\" onclick=\"convertToInteractive('df-75db57d5-3d22-4efe-ae59-93a36123af86')\"\n",
              "            title=\"Convert this dataframe to an interactive table.\"\n",
              "            style=\"display:none;\">\n",
              "\n",
              "  <svg xmlns=\"http://www.w3.org/2000/svg\" height=\"24px\" viewBox=\"0 -960 960 960\">\n",
              "    <path d=\"M120-120v-720h720v720H120Zm60-500h600v-160H180v160Zm220 220h160v-160H400v160Zm0 220h160v-160H400v160ZM180-400h160v-160H180v160Zm440 0h160v-160H620v160ZM180-180h160v-160H180v160Zm440 0h160v-160H620v160Z\"/>\n",
              "  </svg>\n",
              "    </button>\n",
              "\n",
              "  <style>\n",
              "    .colab-df-container {\n",
              "      display:flex;\n",
              "      gap: 12px;\n",
              "    }\n",
              "\n",
              "    .colab-df-convert {\n",
              "      background-color: #E8F0FE;\n",
              "      border: none;\n",
              "      border-radius: 50%;\n",
              "      cursor: pointer;\n",
              "      display: none;\n",
              "      fill: #1967D2;\n",
              "      height: 32px;\n",
              "      padding: 0 0 0 0;\n",
              "      width: 32px;\n",
              "    }\n",
              "\n",
              "    .colab-df-convert:hover {\n",
              "      background-color: #E2EBFA;\n",
              "      box-shadow: 0px 1px 2px rgba(60, 64, 67, 0.3), 0px 1px 3px 1px rgba(60, 64, 67, 0.15);\n",
              "      fill: #174EA6;\n",
              "    }\n",
              "\n",
              "    .colab-df-buttons div {\n",
              "      margin-bottom: 4px;\n",
              "    }\n",
              "\n",
              "    [theme=dark] .colab-df-convert {\n",
              "      background-color: #3B4455;\n",
              "      fill: #D2E3FC;\n",
              "    }\n",
              "\n",
              "    [theme=dark] .colab-df-convert:hover {\n",
              "      background-color: #434B5C;\n",
              "      box-shadow: 0px 1px 3px 1px rgba(0, 0, 0, 0.15);\n",
              "      filter: drop-shadow(0px 1px 2px rgba(0, 0, 0, 0.3));\n",
              "      fill: #FFFFFF;\n",
              "    }\n",
              "  </style>\n",
              "\n",
              "    <script>\n",
              "      const buttonEl =\n",
              "        document.querySelector('#df-75db57d5-3d22-4efe-ae59-93a36123af86 button.colab-df-convert');\n",
              "      buttonEl.style.display =\n",
              "        google.colab.kernel.accessAllowed ? 'block' : 'none';\n",
              "\n",
              "      async function convertToInteractive(key) {\n",
              "        const element = document.querySelector('#df-75db57d5-3d22-4efe-ae59-93a36123af86');\n",
              "        const dataTable =\n",
              "          await google.colab.kernel.invokeFunction('convertToInteractive',\n",
              "                                                    [key], {});\n",
              "        if (!dataTable) return;\n",
              "\n",
              "        const docLinkHtml = 'Like what you see? Visit the ' +\n",
              "          '<a target=\"_blank\" href=https://colab.research.google.com/notebooks/data_table.ipynb>data table notebook</a>'\n",
              "          + ' to learn more about interactive tables.';\n",
              "        element.innerHTML = '';\n",
              "        dataTable['output_type'] = 'display_data';\n",
              "        await google.colab.output.renderOutput(dataTable, element);\n",
              "        const docLink = document.createElement('div');\n",
              "        docLink.innerHTML = docLinkHtml;\n",
              "        element.appendChild(docLink);\n",
              "      }\n",
              "    </script>\n",
              "  </div>\n",
              "\n",
              "\n",
              "<div id=\"df-adbb4aba-5aaa-444a-913e-5d384563d124\">\n",
              "  <button class=\"colab-df-quickchart\" onclick=\"quickchart('df-adbb4aba-5aaa-444a-913e-5d384563d124')\"\n",
              "            title=\"Suggest charts\"\n",
              "            style=\"display:none;\">\n",
              "\n",
              "<svg xmlns=\"http://www.w3.org/2000/svg\" height=\"24px\"viewBox=\"0 0 24 24\"\n",
              "     width=\"24px\">\n",
              "    <g>\n",
              "        <path d=\"M19 3H5c-1.1 0-2 .9-2 2v14c0 1.1.9 2 2 2h14c1.1 0 2-.9 2-2V5c0-1.1-.9-2-2-2zM9 17H7v-7h2v7zm4 0h-2V7h2v10zm4 0h-2v-4h2v4z\"/>\n",
              "    </g>\n",
              "</svg>\n",
              "  </button>\n",
              "\n",
              "<style>\n",
              "  .colab-df-quickchart {\n",
              "      --bg-color: #E8F0FE;\n",
              "      --fill-color: #1967D2;\n",
              "      --hover-bg-color: #E2EBFA;\n",
              "      --hover-fill-color: #174EA6;\n",
              "      --disabled-fill-color: #AAA;\n",
              "      --disabled-bg-color: #DDD;\n",
              "  }\n",
              "\n",
              "  [theme=dark] .colab-df-quickchart {\n",
              "      --bg-color: #3B4455;\n",
              "      --fill-color: #D2E3FC;\n",
              "      --hover-bg-color: #434B5C;\n",
              "      --hover-fill-color: #FFFFFF;\n",
              "      --disabled-bg-color: #3B4455;\n",
              "      --disabled-fill-color: #666;\n",
              "  }\n",
              "\n",
              "  .colab-df-quickchart {\n",
              "    background-color: var(--bg-color);\n",
              "    border: none;\n",
              "    border-radius: 50%;\n",
              "    cursor: pointer;\n",
              "    display: none;\n",
              "    fill: var(--fill-color);\n",
              "    height: 32px;\n",
              "    padding: 0;\n",
              "    width: 32px;\n",
              "  }\n",
              "\n",
              "  .colab-df-quickchart:hover {\n",
              "    background-color: var(--hover-bg-color);\n",
              "    box-shadow: 0 1px 2px rgba(60, 64, 67, 0.3), 0 1px 3px 1px rgba(60, 64, 67, 0.15);\n",
              "    fill: var(--button-hover-fill-color);\n",
              "  }\n",
              "\n",
              "  .colab-df-quickchart-complete:disabled,\n",
              "  .colab-df-quickchart-complete:disabled:hover {\n",
              "    background-color: var(--disabled-bg-color);\n",
              "    fill: var(--disabled-fill-color);\n",
              "    box-shadow: none;\n",
              "  }\n",
              "\n",
              "  .colab-df-spinner {\n",
              "    border: 2px solid var(--fill-color);\n",
              "    border-color: transparent;\n",
              "    border-bottom-color: var(--fill-color);\n",
              "    animation:\n",
              "      spin 1s steps(1) infinite;\n",
              "  }\n",
              "\n",
              "  @keyframes spin {\n",
              "    0% {\n",
              "      border-color: transparent;\n",
              "      border-bottom-color: var(--fill-color);\n",
              "      border-left-color: var(--fill-color);\n",
              "    }\n",
              "    20% {\n",
              "      border-color: transparent;\n",
              "      border-left-color: var(--fill-color);\n",
              "      border-top-color: var(--fill-color);\n",
              "    }\n",
              "    30% {\n",
              "      border-color: transparent;\n",
              "      border-left-color: var(--fill-color);\n",
              "      border-top-color: var(--fill-color);\n",
              "      border-right-color: var(--fill-color);\n",
              "    }\n",
              "    40% {\n",
              "      border-color: transparent;\n",
              "      border-right-color: var(--fill-color);\n",
              "      border-top-color: var(--fill-color);\n",
              "    }\n",
              "    60% {\n",
              "      border-color: transparent;\n",
              "      border-right-color: var(--fill-color);\n",
              "    }\n",
              "    80% {\n",
              "      border-color: transparent;\n",
              "      border-right-color: var(--fill-color);\n",
              "      border-bottom-color: var(--fill-color);\n",
              "    }\n",
              "    90% {\n",
              "      border-color: transparent;\n",
              "      border-bottom-color: var(--fill-color);\n",
              "    }\n",
              "  }\n",
              "</style>\n",
              "\n",
              "  <script>\n",
              "    async function quickchart(key) {\n",
              "      const quickchartButtonEl =\n",
              "        document.querySelector('#' + key + ' button');\n",
              "      quickchartButtonEl.disabled = true;  // To prevent multiple clicks.\n",
              "      quickchartButtonEl.classList.add('colab-df-spinner');\n",
              "      try {\n",
              "        const charts = await google.colab.kernel.invokeFunction(\n",
              "            'suggestCharts', [key], {});\n",
              "      } catch (error) {\n",
              "        console.error('Error during call to suggestCharts:', error);\n",
              "      }\n",
              "      quickchartButtonEl.classList.remove('colab-df-spinner');\n",
              "      quickchartButtonEl.classList.add('colab-df-quickchart-complete');\n",
              "    }\n",
              "    (() => {\n",
              "      let quickchartButtonEl =\n",
              "        document.querySelector('#df-adbb4aba-5aaa-444a-913e-5d384563d124 button');\n",
              "      quickchartButtonEl.style.display =\n",
              "        google.colab.kernel.accessAllowed ? 'block' : 'none';\n",
              "    })();\n",
              "  </script>\n",
              "</div>\n",
              "    </div>\n",
              "  </div>\n"
            ]
          },
          "metadata": {},
          "execution_count": 81
        }
      ],
      "source": [
        "null_values = pd.concat([df.isna().sum(), df.isna().mean() * 100], axis=1)\n",
        "null_values.columns=['missing_values', 'percent']\n",
        "null_values"
      ],
      "id": "f4d5124c-a984-4725-9895-e04b52112b12"
    },
    {
      "cell_type": "markdown",
      "metadata": {
        "id": "cca492eb-0503-42fc-9a39-28ee736c04f5"
      },
      "source": [
        "Видим большой процент пропусков в `описании объектов`, `описании границ объектов`, `идентификаторе ансамбля`, `ссылке на документ`.\n",
        "\n",
        "Пока что понятно точно, почему есть пропуски в `ensemble_id`, ведь далеко не каждый объект является объектом какого-то архитектурного ансамбля.\n",
        "\n",
        "Но по остальным упомянутым колонкам есть вопросы. Тут несколько причин может быть:\n",
        "1. Единый государственный реестр по какой-то причине не занёс эту информацию.\n",
        "2. Работники-бюджетники не удосужились как-то описать объекты (саркастично: зачем, ведь и так сойдёт)\n",
        "\n",
        "Одно мы знаем точно, государство испытывает трудности, раз данные единого реестра не полны."
      ],
      "id": "cca492eb-0503-42fc-9a39-28ee736c04f5"
    },
    {
      "cell_type": "markdown",
      "metadata": {
        "id": "3ca79466-2974-4788-baf9-91a23c5929cb"
      },
      "source": [
        "Посмотрим, почему есть пропуски в `полном адресе`.\\\n",
        "Есть подозрение, что это из-за того, что общая видовая принадлежность таких объектов (`object_subtype`) — это памятник археологии. Это значит, что такие места расположены вне населённых пунктов."
      ],
      "id": "3ca79466-2974-4788-baf9-91a23c5929cb"
    },
    {
      "cell_type": "code",
      "execution_count": 82,
      "metadata": {
        "id": "23705a97-2079-429f-bdf6-97d4b0ad24d9",
        "colab": {
          "base_uri": "https://localhost:8080/"
        },
        "outputId": "21bbe26a-9447-4d60-8e9d-4f0b474ba9da"
      },
      "outputs": [
        {
          "output_type": "execute_result",
          "data": {
            "text/plain": [
              "object                              0\n",
              "registry_number                     0\n",
              "region                              0\n",
              "full_address                    56096\n",
              "construction_date                 256\n",
              "significance_category               0\n",
              "object_type                         0\n",
              "object_subtype                      0\n",
              "unesco_affiliation                  0\n",
              "particularly_valuable_object        0\n",
              "object_description              56096\n",
              "object_border_description       56096\n",
              "ensemble_id                     54244\n",
              "coordinates                         0\n",
              "image_url                           0\n",
              "document_name                       3\n",
              "document_code                     165\n",
              "document_date                     241\n",
              "document_url                    56096\n",
              "dtype: int64"
            ]
          },
          "metadata": {},
          "execution_count": 82
        }
      ],
      "source": [
        "df[df['object_subtype'] == 'Памятник археологии'].isna().sum()"
      ],
      "id": "23705a97-2079-429f-bdf6-97d4b0ad24d9"
    },
    {
      "cell_type": "markdown",
      "metadata": {
        "id": "a83da6a3-bac3-471a-a90f-27fc0dcc3df5"
      },
      "source": [
        "И действительно, это так. Да, в таком случае `полный адрес` никак не указать. Пропуски здесь органично вписываются."
      ],
      "id": "a83da6a3-bac3-471a-a90f-27fc0dcc3df5"
    },
    {
      "cell_type": "markdown",
      "metadata": {
        "id": "8793fcf3-9b3b-478c-9a59-b45c8d4598ab"
      },
      "source": [
        "Пропуски в `годе постройки` могут быть из-за того, что доподлинно неизвестно, когда было построено то или иное сооружение."
      ],
      "id": "8793fcf3-9b3b-478c-9a59-b45c8d4598ab"
    },
    {
      "cell_type": "markdown",
      "metadata": {
        "id": "60a11c36-9208-400f-ad15-2e4a806be559"
      },
      "source": [
        "В общем, с пропусками ничего не поделать. Оставить как есть."
      ],
      "id": "60a11c36-9208-400f-ad15-2e4a806be559"
    },
    {
      "cell_type": "markdown",
      "metadata": {
        "id": "a46f0d70-5552-4cc0-87f4-19e8649b1947"
      },
      "source": [
        "<br>"
      ],
      "id": "a46f0d70-5552-4cc0-87f4-19e8649b1947"
    },
    {
      "cell_type": "markdown",
      "metadata": {
        "id": "98240f9f-eb0b-4591-b557-53f19ff975bf"
      },
      "source": [
        "### Дублирующие значения"
      ],
      "id": "98240f9f-eb0b-4591-b557-53f19ff975bf"
    },
    {
      "cell_type": "markdown",
      "metadata": {
        "id": "81076dfc-79a2-4a49-b510-9b24e88cdb5d"
      },
      "source": [
        "Посмотрим, есть ли клоны среди записей."
      ],
      "id": "81076dfc-79a2-4a49-b510-9b24e88cdb5d"
    },
    {
      "cell_type": "code",
      "execution_count": 83,
      "metadata": {
        "id": "12ed6d15-0d4b-4867-be1f-106c0274520e",
        "colab": {
          "base_uri": "https://localhost:8080/"
        },
        "outputId": "cb61c97a-6a86-4022-8a03-f71cf0e9bbb6"
      },
      "outputs": [
        {
          "output_type": "execute_result",
          "data": {
            "text/plain": [
              "0"
            ]
          },
          "metadata": {},
          "execution_count": 83
        }
      ],
      "source": [
        "df.duplicated().sum()"
      ],
      "id": "12ed6d15-0d4b-4867-be1f-106c0274520e"
    },
    {
      "cell_type": "markdown",
      "metadata": {
        "id": "0fb2283a-323c-43cc-bc9b-5d347692cf9f"
      },
      "source": [
        "Нет, полных дублей нет. Все записи оригинальны, т.е. исключаем вероятность, что какой-то объект по ошибке повторяется в датасете."
      ],
      "id": "0fb2283a-323c-43cc-bc9b-5d347692cf9f"
    },
    {
      "cell_type": "markdown",
      "metadata": {
        "id": "fa69e5c5-9a59-4abe-a1c3-7df5e637036e"
      },
      "source": [
        "<br>"
      ],
      "id": "fa69e5c5-9a59-4abe-a1c3-7df5e637036e"
    },
    {
      "cell_type": "markdown",
      "metadata": {
        "id": "5614f42b-8109-4d1f-a815-b3d92df932ad"
      },
      "source": [
        "Посмотрим, попадутся ли на глаза неявные дубли.\n",
        "\n",
        "Создадим функцию для поиска."
      ],
      "id": "5614f42b-8109-4d1f-a815-b3d92df932ad"
    },
    {
      "cell_type": "code",
      "execution_count": 84,
      "metadata": {
        "id": "11842873-6bec-4875-94bc-3a5af514b59e"
      },
      "outputs": [],
      "source": [
        "def duplicates(column):\n",
        "    print(df[column].value_counts(dropna=False).head(10))\n",
        "    print('')\n",
        "    print(f'Всего значений: {df[column].count()}')\n",
        "    print(f'Количество уникальных значений: {df[column].nunique()}')"
      ],
      "id": "11842873-6bec-4875-94bc-3a5af514b59e"
    },
    {
      "cell_type": "markdown",
      "metadata": {
        "id": "6825998f-def8-45ff-adce-cfe053e0867f"
      },
      "source": [
        "<br>"
      ],
      "id": "6825998f-def8-45ff-adce-cfe053e0867f"
    },
    {
      "cell_type": "markdown",
      "metadata": {
        "id": "85c6d7ae-b39b-4504-8ea4-c086baae4cd5"
      },
      "source": [
        "**Посмотрим колонку `object`.**"
      ],
      "id": "85c6d7ae-b39b-4504-8ea4-c086baae4cd5"
    },
    {
      "cell_type": "code",
      "execution_count": 85,
      "metadata": {
        "id": "478990b8-6b14-41c6-93a1-ffc907ece52c",
        "colab": {
          "base_uri": "https://localhost:8080/"
        },
        "outputId": "9a83e707-bf2a-4ff9-b6b5-213123a2faf1"
      },
      "outputs": [
        {
          "output_type": "stream",
          "name": "stdout",
          "text": [
            "Дом жилой                           4021\n",
            "Жилой дом                           2113\n",
            "Курган                              1381\n",
            "Курганная группа                     887\n",
            "Селище                               755\n",
            "Городище                             713\n",
            "Памятник В.И. Ленину                 668\n",
            "Братская могила советских воинов     577\n",
            "Флигель                              543\n",
            "Главный дом                          533\n",
            "Name: object, dtype: int64\n",
            "\n",
            "Всего значений: 154493\n",
            "Количество уникальных значений: 104510\n"
          ]
        }
      ],
      "source": [
        "duplicates('object')"
      ],
      "id": "478990b8-6b14-41c6-93a1-ffc907ece52c"
    },
    {
      "cell_type": "markdown",
      "metadata": {
        "id": "4ee18750-9fab-41b3-92bc-bfd05ebaaeb9"
      },
      "source": [
        "Дом жилой и Жилой дом, очевидно, одно и то же. Это можно объединить.\\\n",
        "А вот Курган и Курганная группа — вещи немного разные, как подсказывает гугл.\\\n",
        "Уникальных значений много. Дополнительно выискивать дубли среди них кажется неразумным."
      ],
      "id": "4ee18750-9fab-41b3-92bc-bfd05ebaaeb9"
    },
    {
      "cell_type": "markdown",
      "metadata": {
        "id": "281ffee0-d391-4194-9a24-e78a80f19e20"
      },
      "source": [
        "Заменим **Дом жилой** на **Жилой дом**."
      ],
      "id": "281ffee0-d391-4194-9a24-e78a80f19e20"
    },
    {
      "cell_type": "code",
      "execution_count": 86,
      "metadata": {
        "id": "b3cf2b8d-9b69-4b16-8c0a-20e6de54b627"
      },
      "outputs": [],
      "source": [
        "df['object'] = df['object'].replace('Дом жилой', 'Жилой дом')"
      ],
      "id": "b3cf2b8d-9b69-4b16-8c0a-20e6de54b627"
    },
    {
      "cell_type": "markdown",
      "metadata": {
        "id": "c3f8deff-1252-4f5c-a6bc-7d85bebd542f"
      },
      "source": [
        "И проверим снова."
      ],
      "id": "c3f8deff-1252-4f5c-a6bc-7d85bebd542f"
    },
    {
      "cell_type": "code",
      "execution_count": 87,
      "metadata": {
        "id": "c844c520-6ac1-43ac-90ba-3a7b16815339",
        "colab": {
          "base_uri": "https://localhost:8080/"
        },
        "outputId": "6cdbc6ce-e982-476b-8954-d9ec39b2a4b9"
      },
      "outputs": [
        {
          "output_type": "stream",
          "name": "stdout",
          "text": [
            "Жилой дом                           6134\n",
            "Курган                              1381\n",
            "Курганная группа                     887\n",
            "Селище                               755\n",
            "Городище                             713\n",
            "Памятник В.И. Ленину                 668\n",
            "Братская могила советских воинов     577\n",
            "Флигель                              543\n",
            "Главный дом                          533\n",
            "Братская могила                      527\n",
            "Name: object, dtype: int64\n",
            "\n",
            "Всего значений: 154493\n",
            "Количество уникальных значений: 104509\n"
          ]
        }
      ],
      "source": [
        "duplicates('object')"
      ],
      "id": "c844c520-6ac1-43ac-90ba-3a7b16815339"
    },
    {
      "cell_type": "markdown",
      "metadata": {
        "id": "a8f61c59-6800-492f-87a8-072554ca0114"
      },
      "source": [
        "<br>"
      ],
      "id": "a8f61c59-6800-492f-87a8-072554ca0114"
    },
    {
      "cell_type": "markdown",
      "metadata": {
        "id": "03cdffa4-c011-412e-bcca-6cd5428e207e"
      },
      "source": [
        "**Посмотрим колонку `registry_number`.**"
      ],
      "id": "03cdffa4-c011-412e-bcca-6cd5428e207e"
    },
    {
      "cell_type": "code",
      "execution_count": 88,
      "metadata": {
        "id": "c5f77bc8-62c1-4561-a671-e6619a17c128",
        "colab": {
          "base_uri": "https://localhost:8080/"
        },
        "outputId": "e3edeacd-b71a-4f35-dd0f-c31baf462103"
      },
      "outputs": [
        {
          "output_type": "stream",
          "name": "stdout",
          "text": [
            "671510201120006    1\n",
            "131710904690005    1\n",
            "131710904710005    1\n",
            "581710920830005    1\n",
            "131710904720005    1\n",
            "581710902210005    1\n",
            "581710902830005    1\n",
            "131710904780005    1\n",
            "601740900280006    1\n",
            "781720971980006    1\n",
            "Name: registry_number, dtype: int64\n",
            "\n",
            "Всего значений: 154493\n",
            "Количество уникальных значений: 154493\n"
          ]
        }
      ],
      "source": [
        "duplicates('registry_number')"
      ],
      "id": "c5f77bc8-62c1-4561-a671-e6619a17c128"
    },
    {
      "cell_type": "markdown",
      "metadata": {
        "id": "40f5aeb9-f831-4e30-8b94-20431f61e20f"
      },
      "source": [
        "Дублей нет. Каждое значение этой колонки уникально."
      ],
      "id": "40f5aeb9-f831-4e30-8b94-20431f61e20f"
    },
    {
      "cell_type": "markdown",
      "metadata": {
        "id": "b9e5a663-194b-41ec-b77b-ea25b79c0b98"
      },
      "source": [
        "<br>"
      ],
      "id": "b9e5a663-194b-41ec-b77b-ea25b79c0b98"
    },
    {
      "cell_type": "markdown",
      "metadata": {
        "id": "3c592f74-7b45-4de7-8a28-450c9fd01a76"
      },
      "source": [
        "**Посмотрим колонку `region`.**"
      ],
      "id": "3c592f74-7b45-4de7-8a28-450c9fd01a76"
    },
    {
      "cell_type": "code",
      "execution_count": 89,
      "metadata": {
        "id": "ccc48238-49c3-43e6-a411-ac4239839656",
        "colab": {
          "base_uri": "https://localhost:8080/"
        },
        "outputId": "1f5a3c10-bbe4-4a4e-98d9-d149604475c0"
      },
      "outputs": [
        {
          "output_type": "stream",
          "name": "stdout",
          "text": [
            "Ростовская область      9658\n",
            "Краснодарский край      9264\n",
            "Тверская область        7398\n",
            "Республика Дагестан     6369\n",
            "г. Москва               6228\n",
            "г. Санкт-Петербург      6027\n",
            "Алтайский край          4512\n",
            "Псковская область       4322\n",
            "Московская область      3900\n",
            "Новгородская область    3889\n",
            "Name: region, dtype: int64\n",
            "\n",
            "Всего значений: 154493\n",
            "Количество уникальных значений: 86\n"
          ]
        }
      ],
      "source": [
        "duplicates('region')"
      ],
      "id": "ccc48238-49c3-43e6-a411-ac4239839656"
    },
    {
      "cell_type": "markdown",
      "metadata": {
        "id": "d1cc6bae-58b6-4891-8e7b-6886513face9"
      },
      "source": [
        "Кажется, все 86 регионов есть."
      ],
      "id": "d1cc6bae-58b6-4891-8e7b-6886513face9"
    },
    {
      "cell_type": "markdown",
      "metadata": {
        "id": "ef93a3d9-e9ed-4fc5-a4f3-1cc6b5179f36"
      },
      "source": [
        "<br>"
      ],
      "id": "ef93a3d9-e9ed-4fc5-a4f3-1cc6b5179f36"
    },
    {
      "cell_type": "markdown",
      "metadata": {
        "id": "20d71030-0e0c-464c-86e6-0c727cbed061"
      },
      "source": [
        "**Посмотрим колонку `full_address`.**"
      ],
      "id": "20d71030-0e0c-464c-86e6-0c727cbed061"
    },
    {
      "cell_type": "code",
      "execution_count": 90,
      "metadata": {
        "id": "cfa037b8-077b-4b64-82ed-4073b8dd3288",
        "colab": {
          "base_uri": "https://localhost:8080/"
        },
        "outputId": "158293a9-ae0a-4f99-dfe3-702aa764c02d"
      },
      "outputs": [
        {
          "output_type": "stream",
          "name": "stdout",
          "text": [
            "NaN                                                                                                                                                                                                                             56096\n",
            "г. Москва, Новодевичье кладбище                                                                                                                                                                                                   286\n",
            "г. Севастополь, Братское кладбище защитников Севастополя 1854-1855 гг. Северная сторона                                                                                                                                           151\n",
            "г. Санкт-Петербург, Александра Невского пл., 1                                                                                                                                                                                    126\n",
            "Республика Ингушетия, Джейрахский муниципальный район, с. п. Гули, с. Мусийкъонгийкоте                                                                                                                                            123\n",
            "Кунцевское кладбище, участок 9                                                                                                                                                                                                    120\n",
            "г. Москва, Красная площадь, Кремлевская стена                                                                                                                                                                                      99\n",
            "г. Санкт-Петербург, Московский просп., 100                                                                                                                                                                                         90\n",
            "Челябинская область, Каслинский муниципальный район, город Касли, улица Р. Люксембург, 129                                                                                                                                         83\n",
            "Республика Северная Осетия-Алания, Пригородный район, с. Даргавс на территории могильника, расположенного в северо-восточной окраине с. Даргавс, в 60 м от слияния рек Гизельдон и Лаккадон на склоне отрога горы Рамины-раг       70\n",
            "Name: full_address, dtype: int64\n",
            "\n",
            "Всего значений: 98397\n",
            "Количество уникальных значений: 82647\n"
          ]
        }
      ],
      "source": [
        "duplicates('full_address')"
      ],
      "id": "cfa037b8-077b-4b64-82ed-4073b8dd3288"
    },
    {
      "cell_type": "markdown",
      "metadata": {
        "id": "038f98e2-ab19-4e67-bdb8-fe87757e2166"
      },
      "source": [
        "Многие объекты находятся в определённых местах. В будущем нужно подумать, как их все разместить на карте."
      ],
      "id": "038f98e2-ab19-4e67-bdb8-fe87757e2166"
    },
    {
      "cell_type": "markdown",
      "metadata": {
        "id": "e962802b-39d1-458f-b2a1-65f7ecf55e45"
      },
      "source": [
        "<br>"
      ],
      "id": "e962802b-39d1-458f-b2a1-65f7ecf55e45"
    },
    {
      "cell_type": "markdown",
      "metadata": {
        "id": "6503ebde-499a-4f85-9c88-17459908c826"
      },
      "source": [
        "**Посмотрим колонку `construction_date`.**"
      ],
      "id": "6503ebde-499a-4f85-9c88-17459908c826"
    },
    {
      "cell_type": "code",
      "execution_count": 91,
      "metadata": {
        "id": "52d67759-0031-4473-8020-1e60e1a11b29",
        "colab": {
          "base_uri": "https://localhost:8080/"
        },
        "outputId": "694cae34-2d24-47c0-d9e5-aa8876e20285"
      },
      "outputs": [
        {
          "output_type": "stream",
          "name": "stdout",
          "text": [
            "дата создания (возникновения) не определена    8114\n",
            "XIX в.                                         4027\n",
            "III тыс. до н.э. - XIV в. н.э.                 3096\n",
            "Дата создания (возникновения) не определена    2236\n",
            "1941-1945 гг.                                  2149\n",
            "NaN                                            1868\n",
            "1943 г.                                        1827\n",
            "кон. XIX в.                                    1798\n",
            "эпоха бронзы - позднее средневековье           1411\n",
            "нач. XX в.                                     1346\n",
            "Name: construction_date, dtype: int64\n",
            "\n",
            "Всего значений: 152625\n",
            "Количество уникальных значений: 26598\n"
          ]
        }
      ],
      "source": [
        "duplicates('construction_date')"
      ],
      "id": "52d67759-0031-4473-8020-1e60e1a11b29"
    },
    {
      "cell_type": "markdown",
      "source": [
        "Запишем кол-во уникальных значений до обработки."
      ],
      "metadata": {
        "id": "PgZEvZDJAEFD"
      },
      "id": "PgZEvZDJAEFD"
    },
    {
      "cell_type": "code",
      "source": [
        "const_date_before = df[\"construction_date\"].nunique()"
      ],
      "metadata": {
        "id": "UyAbHCMD_a_R"
      },
      "id": "UyAbHCMD_a_R",
      "execution_count": 92,
      "outputs": []
    },
    {
      "cell_type": "markdown",
      "metadata": {
        "id": "2f344259-bc2a-4f49-a552-29b6eee8c52c"
      },
      "source": [
        "Эта колонка — чемпион среди колонок с дублями.\\\n",
        "Приведём все символы, за исключением римских цифр, к нижнему регистру."
      ],
      "id": "2f344259-bc2a-4f49-a552-29b6eee8c52c"
    },
    {
      "cell_type": "code",
      "execution_count": 93,
      "metadata": {
        "id": "a1be9190-d061-42b2-bdca-b0ea6f7d324b"
      },
      "outputs": [],
      "source": [
        "# преобразование 'construction_date' в тип 'str', чтобы избежать казусов\n",
        "df['construction_date'] = df['construction_date'].astype('str')\n",
        "\n",
        "# функция для приведения строки к нижнему регистру, исключая символы 'I', 'X', 'V', 'Х'\n",
        "def custom_lowercase(text):\n",
        "    # компиляция регулярного выражения для поиска всех символов, кроме 'I', 'X', 'V', 'Х', игнорируя регистр\n",
        "    pattern = re.compile('[^IXVХ]+', re.IGNORECASE)\n",
        "    # применение регулярного выражения для замены найденных символов на их нижний регистр\n",
        "    # метод sub() выполняет замену; лямбда ф-я принимает x и возвращает его группу (подстроку) в нижнем регистре; text — строка, в которой идёт замена\n",
        "    result = pattern.sub(lambda x: x.group(0).lower(), text)\n",
        "    return result\n",
        "\n",
        "# применение функции к колонке 'construction_date'\n",
        "df['construction_date'] = df['construction_date'].apply(lambda x: custom_lowercase(x))"
      ],
      "id": "a1be9190-d061-42b2-bdca-b0ea6f7d324b"
    },
    {
      "cell_type": "code",
      "source": [
        "df['construction_date'].isna().sum()"
      ],
      "metadata": {
        "colab": {
          "base_uri": "https://localhost:8080/"
        },
        "id": "xeUta9mweudL",
        "outputId": "6b2eabd9-8f66-4f51-979d-38cb93248eba"
      },
      "id": "xeUta9mweudL",
      "execution_count": 94,
      "outputs": [
        {
          "output_type": "execute_result",
          "data": {
            "text/plain": [
              "0"
            ]
          },
          "metadata": {},
          "execution_count": 94
        }
      ]
    },
    {
      "cell_type": "markdown",
      "metadata": {
        "id": "7cd92ab0-e158-43ea-a148-d5499c788b99"
      },
      "source": [
        "При этом пропущенные значения стали строками. Нужно исправить это."
      ],
      "id": "7cd92ab0-e158-43ea-a148-d5499c788b99"
    },
    {
      "cell_type": "code",
      "execution_count": 95,
      "metadata": {
        "id": "024b6fc1-3f0f-468b-905e-e4e8359872cd"
      },
      "outputs": [],
      "source": [
        "df['construction_date'] = df['construction_date'].replace('nan', np.nan)"
      ],
      "id": "024b6fc1-3f0f-468b-905e-e4e8359872cd"
    },
    {
      "cell_type": "code",
      "execution_count": 96,
      "metadata": {
        "id": "e786738e-c2c6-4b13-b837-74d61d3f8ea0",
        "colab": {
          "base_uri": "https://localhost:8080/"
        },
        "outputId": "9ded464c-9551-46ab-b918-4d84a5467a91"
      },
      "outputs": [
        {
          "output_type": "execute_result",
          "data": {
            "text/plain": [
              "1868"
            ]
          },
          "metadata": {},
          "execution_count": 96
        }
      ],
      "source": [
        "df['construction_date'].isna().sum()"
      ],
      "id": "e786738e-c2c6-4b13-b837-74d61d3f8ea0"
    },
    {
      "cell_type": "markdown",
      "metadata": {
        "id": "5a589ab6-846a-4922-a110-987e5ac6a5ff"
      },
      "source": [
        "Пропуски вернулись."
      ],
      "id": "5a589ab6-846a-4922-a110-987e5ac6a5ff"
    },
    {
      "cell_type": "markdown",
      "metadata": {
        "id": "e2d5fbd9-fa79-4bb0-b35a-66ee84b1ece4"
      },
      "source": [
        "Отобразим подробное распределение значений в `construction_date`."
      ],
      "id": "e2d5fbd9-fa79-4bb0-b35a-66ee84b1ece4"
    },
    {
      "cell_type": "code",
      "execution_count": 97,
      "metadata": {
        "id": "87e6ed03-097d-4616-9577-40e7734b65c8",
        "colab": {
          "base_uri": "https://localhost:8080/"
        },
        "outputId": "9784d254-c76f-4a0e-e525-3df293964bed"
      },
      "outputs": [
        {
          "output_type": "execute_result",
          "data": {
            "text/plain": [
              "дата создания (возникновения) не определена    10350\n",
              "XIX в.                                          4027\n",
              "III тыс. до н.э. - XIV в. н.э.                  3096\n",
              "1941-1945 гг.                                   2149\n",
              "кон. XIX в.                                     1922\n",
              "1943 г.                                         1827\n",
              "нач. XX в.                                      1430\n",
              "эпоха бронзы - позднее средневековье            1412\n",
              "конец XIX в.                                    1408\n",
              "III тыс. до н. э. -  XIV в. н. э.               1305\n",
              "начало XX в.                                    1252\n",
              "эпоха бронзы                                    1244\n",
              "XVIII в.                                        1092\n",
              "II пол. I тыс. н.э.                              995\n",
              "конец XIX века                                   949\n",
              "неолит                                           928\n",
              "III тыс. до н.э. - XIV в. н. э.                  894\n",
              "средние века                                     889\n",
              "III тыс. до н.э.                                 853\n",
              "ранний железный век                              805\n",
              "II тыс. до н.э.                                  803\n",
              "III тыс. до н. э. - XIV в. н. э.                 780\n",
              "1919 г.                                          750\n",
              "эпоха бронзы - средневековье                     736\n",
              "1942 г.                                          716\n",
              "сер. XIX в.                                      690\n",
              "1967 г.                                          687\n",
              "средневековье                                    676\n",
              "1918 г.                                          619\n",
              "VII-II вв. до н.э.                               599\n",
              "XVIII-XIX вв.                                    599\n",
              "2-я пол. XIX в.                                  599\n",
              "III тыс. до н.э.-XIV в. н.э.                     596\n",
              "1975 г.                                          581\n",
              "1941 г.                                          545\n",
              "середина XIX в.                                  536\n",
              "1944 г.                                          500\n",
              "вторая половина XIX в.                           495\n",
              "начало XX века                                   489\n",
              "XVII в.                                          459\n",
              "XIX век                                          445\n",
              "нач. XIX в.                                      422\n",
              "кон. XIX - нач. XX вв.                           399\n",
              "I тыс. н.э.                                      398\n",
              "нач. ХХ в.                                       396\n",
              "1910 г.                                          389\n",
              "бронзовый век                                    388\n",
              "1912 г.                                          362\n",
              "1905 г.                                          353\n",
              "начало XIX в.                                    347\n",
              "Name: construction_date, dtype: int64"
            ]
          },
          "metadata": {},
          "execution_count": 97
        }
      ],
      "source": [
        "df['construction_date'].value_counts().head(50)"
      ],
      "id": "87e6ed03-097d-4616-9577-40e7734b65c8"
    },
    {
      "cell_type": "markdown",
      "metadata": {
        "id": "e85aee05-3cc1-46a9-a0b6-651af6fa2415"
      },
      "source": [
        "**Устраним все неявные дубликаты, где содержится от 100 и больше значений.**"
      ],
      "id": "e85aee05-3cc1-46a9-a0b6-651af6fa2415"
    },
    {
      "cell_type": "code",
      "execution_count": 98,
      "metadata": {
        "id": "c5d778d2-22a4-48eb-a560-2901d64ab54c"
      },
      "outputs": [],
      "source": [
        "df['construction_date'] = df['construction_date'].replace({'III тыс. до н. э. - XIV в. н. э.':         'III тыс. до н.э. - XIV в. н.э.',\n",
        "                                                           'III тыс. до н. э. -  XIV в. н. э.':        'III тыс. до н.э. - XIV в. н.э.',\n",
        "                                                           'III тыс. до н.э.-XIV в. н.э.':             'III тыс. до н.э. - XIV в. н.э.',\n",
        "                                                           'III тыс. до н.э. - XIV в. н. э.':          'III тыс. до н.э. - XIV в. н.э.',\n",
        "                                                           'III тыс. до н.э. - XIV вв. н.э.':          'III тыс. до н.э. - XIV в. н.э.',\n",
        "                                                           'III тыс. до н.э. - XIV в.н.э.':            'III тыс. до н.э. - XIV в. н.э.',\n",
        "                                                           'III тыс. до н.э. – XIV в. н.э.':           'III тыс. до н.э. - XIV в. н.э.',\n",
        "                                                           'III тыс. до н.э. -  XIV в. н.э.':          'III тыс. до н.э. - XIV в. н.э.',\n",
        "                                                           'III тыс. до н.э. -  XIV в.н.э.':           'III тыс. до н.э. - XIV в. н.э.',\n",
        "                                                           'третье тысячелетие до н.э. - XIV в. н.э.': 'III тыс. до н.э. - XIV в. н.э.',\n",
        "                                                           'XVIII век':                                'XVIII в.',\n",
        "                                                           'конец XVIII-начало XIX вв.':               'кон. XVIII-нач. XIX вв.',\n",
        "                                                           'XVIII - XIX вв.':                          'XVIII-XIX вв.',\n",
        "                                                           'XIX век':                                  'XIX в.',\n",
        "                                                           'середина XVIII в.':                        'сер. XVIII в.',\n",
        "                                                           'вторая половина XVIII в.':                 '2-я пол. XVIII в.',\n",
        "                                                           'первая половина XIX в.':                   '1-я пол. XIX в.',\n",
        "                                                           'пер. пол. XIX в.':                         '1-я пол. XIX в.',\n",
        "                                                           'I пол. XIX в.':                            '1-я пол. XIX в.',\n",
        "                                                           'вторая половина XIX века':                 '2-я пол. XIX в.',\n",
        "                                                           '2-я половина XIX в.':                      '2-я пол. XIX в.',\n",
        "                                                           'II пол. XIX в.':                           '2-я пол. XIX в.',\n",
        "                                                           'вт. пол. XIX в.':                          '2-я пол. XIX в.',\n",
        "                                                           'вторая половина XIX в.':                   '2-я пол. XIX в.',\n",
        "                                                           'начало XIX века':                          'нач. XIX в.',\n",
        "                                                           'середина XIX века':                        'сер. XIX в.',\n",
        "                                                           'конец XIX века':                           'кон. XIX в.',\n",
        "                                                           'к. XIX в.':                                'кон. XIX в.',\n",
        "                                                           'кон. XIX-нач. XX вв.':                     'кон. XIX - нач. XX вв.',\n",
        "                                                           'конец XIX - начало ХХ вв.':                'кон. XIX - нач. XX вв.',\n",
        "                                                           'конец XIX-начало XX века':                 'кон. XIX - нач. XX вв.',\n",
        "                                                           'нач. ХХ в.':                               'нач. XX в.',\n",
        "                                                           'начало XX века':                           'нач. XX в.',\n",
        "                                                           'начало ХХ века':                           'нач. XX в.',\n",
        "                                                           'начало ХХ в.':                             'нач. XX в.',\n",
        "                                                           'н. XX в.':                                 'нач. XX в.',\n",
        "                                                           'средние века':                             'средневековье',\n",
        "                                                           'эпоха бронзы':                             'бронзовый век',\n",
        "                                                           '1942 - 1943 годы':                         '1942-1943 гг.',\n",
        "                                                           'III - II тыс. до н.э.':                    'III-II тыс. до н.э.',\n",
        "                                                           'XIV - XVI вв.':                            'XIV-XVI вв.',\n",
        "                                                           'эпоха железа':                             'железный век',\n",
        "                                                           'эпоха неолита':                            'неолит',\n",
        "                                                           'эпоха раннего железа':                     'ранний железный век',\n",
        "                                                           'эпоха средневековья':                      'средневековье',\n",
        "                                                           '1941-1943 гг.':                            '1941-1945 гг.',\n",
        "                                                           '1941-1944 гг.':                            '1941-1945 гг.',\n",
        "                                                           '1942-1943 гг.':                            '1941-1945 гг.',\n",
        "                                                           '1941 - 1943 гг.':                          '1941-1945 гг.',\n",
        "                                                           '1944 год':                                 '1944 г.',\n",
        "                                                           '-':                                        'дата создания (возникновения) не определена',\n",
        "                                                           'XII - XVI вв.':                            'XII-XVI вв.',\n",
        "                                                           'XVIII – XX вв.':                           'XVIII-XX вв.',\n",
        "                                                           'эпоха палеолита':                          'палеолит',\n",
        "                                                           'эпоха позднего средневековья':             'позднее средневековье',\n",
        "                                                           'эпоха поздней бронзы':                     'поздний бронзовый век'})\n",
        "\n",
        "df['construction_date'] = df['construction_date'].str.replace(' - ', '-')\\\n",
        "                                                 .str.replace(' – ', ' -')\\\n",
        "                                                 .str.replace('год', 'г.')\\\n",
        "                                                 .str.replace('Х', 'X')\\\n",
        "                                                 .str.replace('г.ы', 'гг.', regex=True)\\\n",
        "                                                 .str.replace('начало', 'нач.')\\\n",
        "                                                 .str.replace('середина', 'сер.')\\\n",
        "                                                 .str.replace('половина', 'пол.')\\\n",
        "                                                 .str.replace('2 -я', '2-я')\\\n",
        "                                                 .str.replace('2- я', '2-я')\\\n",
        "                                                 .str.replace('вторая', '2-я')\\\n",
        "                                                 .str.replace('2 пол.', '2-я пол', regex=True)\\\n",
        "                                                 .str.replace('II пол.', '2-я пол', regex=True)\\\n",
        "                                                 .str.replace('2-ая', '2-я')\\\n",
        "                                                 .str.replace('II-я пол.', '2-я пол', regex=True)\\\n",
        "                                                 .str.replace('1 -я', '1-я')\\\n",
        "                                                 .str.replace('1- я', '1-я')\\\n",
        "                                                 .str.replace('первая', '1-я')\\\n",
        "                                                 .str.replace('1 пол.', '1-я пол', regex=True)\\\n",
        "                                                 .str.replace('I пол.', '1-я пол', regex=True)\\\n",
        "                                                 .str.replace('I-я пол.', '1-я пол', regex=True)\\\n",
        "                                                 .str.replace('1-ая', '1-я')\\\n",
        "                                                 .str.replace('четверть', 'четв.')\\\n",
        "                                                 .str.replace('I1-я пол', '2-я пол.')\n",
        "\n",
        "# удалим пробелы первым и последним символом в значениях\n",
        "df['construction_date'] = df['construction_date'].str.strip(' ')"
      ],
      "id": "c5d778d2-22a4-48eb-a560-2901d64ab54c"
    },
    {
      "cell_type": "markdown",
      "metadata": {
        "id": "7b91ee62-7a2a-43ea-aa88-a53e9c456dc6"
      },
      "source": [
        "Код ниже помогал искать неявные дубликаты, в `head()` задавалось количество отображаемых строк, а `set_option` снимало ограничения.\\\n",
        "Отсортированная в алфавитном порядке таблица помогала выявить неявные дубликаты."
      ],
      "id": "7b91ee62-7a2a-43ea-aa88-a53e9c456dc6"
    },
    {
      "cell_type": "code",
      "execution_count": 99,
      "metadata": {
        "id": "7054e132-b3bb-4041-850c-2701fc07bfc2"
      },
      "outputs": [],
      "source": [
        "pd.set_option('display.max_rows', None)\n",
        "duplicates_search = df['construction_date'].value_counts(dropna=False).reset_index()\n",
        "duplicates_search = duplicates_search.sort_values(by='index')\n",
        "pd.reset_option('display.max_rows')"
      ],
      "id": "7054e132-b3bb-4041-850c-2701fc07bfc2"
    },
    {
      "cell_type": "markdown",
      "source": [
        "Вновь посмотрим распределение."
      ],
      "metadata": {
        "id": "npliDjVUdpk1"
      },
      "id": "npliDjVUdpk1"
    },
    {
      "cell_type": "code",
      "source": [
        "df['construction_date'].value_counts().head(50)"
      ],
      "metadata": {
        "colab": {
          "base_uri": "https://localhost:8080/"
        },
        "id": "8hoLGGfA2Zpb",
        "outputId": "05c2aa91-690d-4958-e41e-bd987b5cd590"
      },
      "id": "8hoLGGfA2Zpb",
      "execution_count": 100,
      "outputs": [
        {
          "output_type": "execute_result",
          "data": {
            "text/plain": [
              "дата создания (возникновения) не определена    10501\n",
              "III тыс. до н.э.-XIV в. н.э.                    7865\n",
              "XIX в.                                          4646\n",
              "нач. XX в.                                      4408\n",
              "1941-1945 гг.                                   3438\n",
              "кон. XIX в.                                     3287\n",
              "2-я пол. XIX в.                                 2064\n",
              "1943 г.                                         1900\n",
              "средневековье                                   1778\n",
              "бронзовый век                                   1632\n",
              "конец XIX в.                                    1464\n",
              "сер. XIX в.                                     1442\n",
              "эпоха бронзы-позднее средневековье              1412\n",
              "XVIII в.                                        1256\n",
              "неолит                                          1111\n",
              "2-я пол I тыс. н.э.                             1006\n",
              "ранний железный век                              995\n",
              "кон. XIX-нач. XX вв.                             900\n",
              "нач. XIX в.                                      893\n",
              "III тыс. до н.э.                                 864\n",
              "1919 г.                                          821\n",
              "XVIII-XIX вв.                                    813\n",
              "II тыс. до н.э.                                  813\n",
              "1942 г.                                          798\n",
              "эпоха бронзы-средневековье                       741\n",
              "1-я пол. XIX в.                                  738\n",
              "1967 г.                                          738\n",
              "1918 г.                                          665\n",
              "1944 г.                                          662\n",
              "1975 г.                                          624\n",
              "1941 г.                                          622\n",
              "VII-II вв. до н.э.                               602\n",
              "железный век                                     517\n",
              "XVII в.                                          481\n",
              "XIV-XVI вв.                                      473\n",
              "1910 г.                                          443\n",
              "III-II тыс. до н.э.                              442\n",
              "IV-III тыс. до н.э.                              419\n",
              "1905 г.                                          406\n",
              "I тыс. н.э.                                      402\n",
              "конец XIX-нач. XX вв.                            402\n",
              "1942-1943 гг.                                    401\n",
              "1912 г.                                          394\n",
              "XVII-XVIII вв.                                   376\n",
              "1965 г.                                          370\n",
              "1914 г.                                          354\n",
              "1970 г.                                          347\n",
              "VII в. до н.э.-III в. н.э.                       341\n",
              "1913 г.                                          339\n",
              "раннее средневековье                             331\n",
              "Name: construction_date, dtype: int64"
            ]
          },
          "metadata": {},
          "execution_count": 100
        }
      ]
    },
    {
      "cell_type": "markdown",
      "metadata": {
        "id": "89ac52fa-0878-4493-9123-7a5b6ded0815"
      },
      "source": [
        "Итоговая картина такая.\\\n",
        "Поиск неявных дубликатов в этой колонке может продолжаться долго.\\\n",
        "И лучшего способа я пока не знаю."
      ],
      "id": "89ac52fa-0878-4493-9123-7a5b6ded0815"
    },
    {
      "cell_type": "markdown",
      "source": [
        "Cколько дубликатов было удалено."
      ],
      "metadata": {
        "id": "GzI1MLwKAP6E"
      },
      "id": "GzI1MLwKAP6E"
    },
    {
      "cell_type": "code",
      "source": [
        "const_date_after = df[\"construction_date\"].nunique()\n",
        "print(f'Количество уникальных значений до обработки: {const_date_before}')\n",
        "print(f'Количество уникальных значений после обработки: {const_date_after}')\n",
        "print(f'Неявных дубликатов убрано: {const_date_before - const_date_after}')"
      ],
      "metadata": {
        "colab": {
          "base_uri": "https://localhost:8080/"
        },
        "id": "l1klV9uh_7nv",
        "outputId": "b07f5c26-2399-42f4-f776-ccfd8a227d39"
      },
      "id": "l1klV9uh_7nv",
      "execution_count": 101,
      "outputs": [
        {
          "output_type": "stream",
          "name": "stdout",
          "text": [
            "Количество уникальных значений до обработки: 26598\n",
            "Количество уникальных значений после обработки: 22631\n",
            "Неявных дубликатов убрано: 3967\n"
          ]
        }
      ]
    },
    {
      "cell_type": "markdown",
      "metadata": {
        "id": "890bc041-4a09-45df-83b1-2ea004629d7f"
      },
      "source": [
        "<br>"
      ],
      "id": "890bc041-4a09-45df-83b1-2ea004629d7f"
    },
    {
      "cell_type": "markdown",
      "metadata": {
        "id": "4c994293-80ed-45f7-9d4c-7e93e0995bc2"
      },
      "source": [
        "**Посмотрим колонку `significance_category`.**"
      ],
      "id": "4c994293-80ed-45f7-9d4c-7e93e0995bc2"
    },
    {
      "cell_type": "code",
      "execution_count": 102,
      "metadata": {
        "id": "4437d6b2-bf11-45a3-b77b-095926746afa",
        "colab": {
          "base_uri": "https://localhost:8080/"
        },
        "outputId": "de579659-fd95-4948-9917-99f4719f8e39"
      },
      "outputs": [
        {
          "output_type": "stream",
          "name": "stdout",
          "text": [
            "Регионального значения                78696\n",
            "Федерального значения                 71746\n",
            "Местного (муниципального) значения     4051\n",
            "Name: significance_category, dtype: int64\n",
            "\n",
            "Всего значений: 154493\n",
            "Количество уникальных значений: 3\n"
          ]
        }
      ],
      "source": [
        "duplicates('significance_category')"
      ],
      "id": "4437d6b2-bf11-45a3-b77b-095926746afa"
    },
    {
      "cell_type": "markdown",
      "metadata": {
        "id": "0df3127b-a321-4e0a-8a4e-d1d99b45c732"
      },
      "source": [
        "Дублей нет."
      ],
      "id": "0df3127b-a321-4e0a-8a4e-d1d99b45c732"
    },
    {
      "cell_type": "markdown",
      "metadata": {
        "id": "2b226fff-74a1-4227-8580-3e561af36167"
      },
      "source": [
        "<br>"
      ],
      "id": "2b226fff-74a1-4227-8580-3e561af36167"
    },
    {
      "cell_type": "markdown",
      "metadata": {
        "id": "bab35175-a1fc-4e14-937f-c9fe0e9b6b21"
      },
      "source": [
        "**Посмотрим колонку `object_type`.**"
      ],
      "id": "bab35175-a1fc-4e14-937f-c9fe0e9b6b21"
    },
    {
      "cell_type": "code",
      "execution_count": 103,
      "metadata": {
        "id": "abbbb2e0-8dde-4cc1-980d-a508c68c221b",
        "colab": {
          "base_uri": "https://localhost:8080/"
        },
        "outputId": "e167078e-14b5-49a3-b99f-42ac34f82f8b"
      },
      "outputs": [
        {
          "output_type": "stream",
          "name": "stdout",
          "text": [
            "Памятник                     129762\n",
            "Ансамбль                      22382\n",
            "Достопримечательное место      2349\n",
            "Name: object_type, dtype: int64\n",
            "\n",
            "Всего значений: 154493\n",
            "Количество уникальных значений: 3\n"
          ]
        }
      ],
      "source": [
        "duplicates('object_type')"
      ],
      "id": "abbbb2e0-8dde-4cc1-980d-a508c68c221b"
    },
    {
      "cell_type": "markdown",
      "metadata": {
        "id": "7d876b0a-005f-429e-9981-5ed7177f327d"
      },
      "source": [
        "Дублей нет."
      ],
      "id": "7d876b0a-005f-429e-9981-5ed7177f327d"
    },
    {
      "cell_type": "markdown",
      "metadata": {
        "id": "4b79c772-8ccf-47c6-bf88-ac6288b24a56"
      },
      "source": [
        "<br>"
      ],
      "id": "4b79c772-8ccf-47c6-bf88-ac6288b24a56"
    },
    {
      "cell_type": "markdown",
      "metadata": {
        "id": "4b5ca11f-f025-4f31-bc07-cf3bbb3b75b3"
      },
      "source": [
        "**Посмотрим колонку `object_subtype`.**"
      ],
      "id": "4b5ca11f-f025-4f31-bc07-cf3bbb3b75b3"
    },
    {
      "cell_type": "code",
      "execution_count": 104,
      "metadata": {
        "id": "f3f76f69-a516-455a-b52f-8d9ca76ebcad",
        "colab": {
          "base_uri": "https://localhost:8080/"
        },
        "outputId": "7fd105f7-94d8-4ea2-a0d0-87b7a545719d"
      },
      "outputs": [
        {
          "output_type": "stream",
          "name": "stdout",
          "text": [
            "Памятник градостроительства и архитектуры    56310\n",
            "Памятник археологии                          56096\n",
            "Памятник истории                             35002\n",
            "None                                          3542\n",
            "Памятник искусства                            3442\n",
            "Памятник религии                               101\n",
            "Name: object_subtype, dtype: int64\n",
            "\n",
            "Всего значений: 150951\n",
            "Количество уникальных значений: 5\n"
          ]
        }
      ],
      "source": [
        "duplicates('object_subtype')"
      ],
      "id": "f3f76f69-a516-455a-b52f-8d9ca76ebcad"
    },
    {
      "cell_type": "markdown",
      "metadata": {
        "id": "f69eb588-3d03-468d-8ef9-d379b2f5a8eb"
      },
      "source": [
        "Дублей нет."
      ],
      "id": "f69eb588-3d03-468d-8ef9-d379b2f5a8eb"
    },
    {
      "cell_type": "markdown",
      "metadata": {
        "id": "6590f14f-8262-4705-9661-216665b2363b"
      },
      "source": [
        "<br>"
      ],
      "id": "6590f14f-8262-4705-9661-216665b2363b"
    },
    {
      "cell_type": "markdown",
      "metadata": {
        "id": "de1f8f2f-6e5e-4586-9096-a1bcf66a02b7"
      },
      "source": [
        "**Посмотрим колонку `unesco_affiliation`.**"
      ],
      "id": "de1f8f2f-6e5e-4586-9096-a1bcf66a02b7"
    },
    {
      "cell_type": "code",
      "execution_count": 105,
      "metadata": {
        "id": "cc52cafa-56a9-45fe-abbd-40c0b61c8f34",
        "colab": {
          "base_uri": "https://localhost:8080/"
        },
        "outputId": "76a1445f-be87-4516-d47d-d7f6cd950b9c"
      },
      "outputs": [
        {
          "output_type": "stream",
          "name": "stdout",
          "text": [
            "нет    153534\n",
            "да        948\n",
            "NaN        11\n",
            "Name: unesco_affiliation, dtype: int64\n",
            "\n",
            "Всего значений: 154482\n",
            "Количество уникальных значений: 2\n"
          ]
        }
      ],
      "source": [
        "duplicates('unesco_affiliation')"
      ],
      "id": "cc52cafa-56a9-45fe-abbd-40c0b61c8f34"
    },
    {
      "cell_type": "markdown",
      "metadata": {
        "id": "b31dbbe4-9830-4203-bcfe-e0056be63210"
      },
      "source": [
        "Дублей нет."
      ],
      "id": "b31dbbe4-9830-4203-bcfe-e0056be63210"
    },
    {
      "cell_type": "markdown",
      "metadata": {
        "id": "7b3c2a9d-ab4e-4f75-8b76-5a64211fa8f2"
      },
      "source": [
        "<br>"
      ],
      "id": "7b3c2a9d-ab4e-4f75-8b76-5a64211fa8f2"
    },
    {
      "cell_type": "markdown",
      "metadata": {
        "id": "8102becb-93c8-48db-af04-1cbd7ae61de3"
      },
      "source": [
        "**Посмотрим колонку `particularly_valuable_object`.**"
      ],
      "id": "8102becb-93c8-48db-af04-1cbd7ae61de3"
    },
    {
      "cell_type": "code",
      "execution_count": 106,
      "metadata": {
        "id": "5b046b70-33f8-4e0a-a848-456ddbde9e4b",
        "colab": {
          "base_uri": "https://localhost:8080/"
        },
        "outputId": "76ecba63-f9b2-42bd-b644-a37391608bfa"
      },
      "outputs": [
        {
          "output_type": "stream",
          "name": "stdout",
          "text": [
            "нет    154217\n",
            "да        265\n",
            "NaN        11\n",
            "Name: particularly_valuable_object, dtype: int64\n",
            "\n",
            "Всего значений: 154482\n",
            "Количество уникальных значений: 2\n"
          ]
        }
      ],
      "source": [
        "duplicates('particularly_valuable_object')"
      ],
      "id": "5b046b70-33f8-4e0a-a848-456ddbde9e4b"
    },
    {
      "cell_type": "markdown",
      "metadata": {
        "id": "65978644-e9ba-4874-93aa-60d397ed1bde"
      },
      "source": [
        "Дублей нет."
      ],
      "id": "65978644-e9ba-4874-93aa-60d397ed1bde"
    },
    {
      "cell_type": "markdown",
      "metadata": {
        "id": "0e018dae-537d-47c5-967e-0984891304a9"
      },
      "source": [
        "<br>"
      ],
      "id": "0e018dae-537d-47c5-967e-0984891304a9"
    },
    {
      "cell_type": "markdown",
      "metadata": {
        "id": "92e74f61-0a19-4543-9cd6-9c93be43ae2d"
      },
      "source": [
        "**Посмотрим колонку `object_description`.**"
      ],
      "id": "92e74f61-0a19-4543-9cd6-9c93be43ae2d"
    },
    {
      "cell_type": "code",
      "execution_count": 107,
      "metadata": {
        "id": "1db71be5-d6f3-48d0-8892-5d128467acc1",
        "colab": {
          "base_uri": "https://localhost:8080/"
        },
        "outputId": "c2d908dc-1e49-4c72-d95b-99fcc1bc5be1"
      },
      "outputs": [
        {
          "output_type": "stream",
          "name": "stdout",
          "text": [
            "NaN                                                                                                                                                                                                                                                                                                                                                                                                                                                                                                                                                                                                                                                                                                                                                                                                                                                                                                                                                                                                                                                                                                                                                                                                                                                                                                                                                                                                                                                                                                                                                                                                                                                                                                                                                                                                                                                                                                                                                                                                                                                                                                                                                                                                                                                                                                                                                                                                                                                                                                                                                                                                                                                                                                                                                                                                                                                                                                                                                                                                                                                                                                                                                                                                107964\n",
            "не утвержден                                                                                                                                                                                                                                                                                                                                                                                                                                                                                                                                                                                                                                                                                                                                                                                                                                                                                                                                                                                                                                                                                                                                                                                                                                                                                                                                                                                                                                                                                                                                                                                                                                                                                                                                                                                                                                                                                                                                                                                                                                                                                                                                                                                                                                                                                                                                                                                                                                                                                                                                                                                                                                                                                                                                                                                                                                                                                                                                                                                                                                                                                                                                                                                         1272\n",
            "Не утвержден.                                                                                                                                                                                                                                                                                                                                                                                                                                                                                                                                                                                                                                                                                                                                                                                                                                                                                                                                                                                                                                                                                                                                                                                                                                                                                                                                                                                                                                                                                                                                                                                                                                                                                                                                                                                                                                                                                                                                                                                                                                                                                                                                                                                                                                                                                                                                                                                                                                                                                                                                                                                                                                                                                                                                                                                                                                                                                                                                                                                                                                                                                                                                                                                        1212\n",
            "Не утвержден                                                                                                                                                                                                                                                                                                                                                                                                                                                                                                                                                                                                                                                                                                                                                                                                                                                                                                                                                                                                                                                                                                                                                                                                                                                                                                                                                                                                                                                                                                                                                                                                                                                                                                                                                                                                                                                                                                                                                                                                                                                                                                                                                                                                                                                                                                                                                                                                                                                                                                                                                                                                                                                                                                                                                                                                                                                                                                                                                                                                                                                                                                                                                                                          792\n",
            "Предмет охраны не утвержден.                                                                                                                                                                                                                                                                                                                                                                                                                                                                                                                                                                                                                                                                                                                                                                                                                                                                                                                                                                                                                                                                                                                                                                                                                                                                                                                                                                                                                                                                                                                                                                                                                                                                                                                                                                                                                                                                                                                                                                                                                                                                                                                                                                                                                                                                                                                                                                                                                                                                                                                                                                                                                                                                                                                                                                                                                                                                                                                                                                                                                                                                                                                                                                          658\n",
            "существующее местоположение захоронения в общей структуре кладбища;  текст мемориальной надписи (надписей) (информация о фамилии, имени и отчестве захороненной личности (личностей); годы жизни; при наличии - сведения биографического характера: звания, должности, сведения о заслугах; посвятительские надписи; эпитафии и т.п.) на надгробном памятнике (обелиск, стела, бюст с постаментом, плита и др.), фиксирующем место захоронения, или на существующей мемориальной нише, определяющей место захоронения.                                                                                                                                                                                                                                                                                                                                                                                                                                                                                                                                                                                                                                                                                                                                                                                                                                                                                                                                                                                                                                                                                                                                                                                                                                                                                                                                                                                                                                                                                                                                                                                                                                                                                                                                                                                                                                                                                                                                                                                                                                                                                                                                                                                                                                                                                                                                                                                                                                                                                                                                                                                                                                                                                536\n",
            "Предмет охраны не утвержден                                                                                                                                                                                                                                                                                                                                                                                                                                                                                                                                                                                                                                                                                                                                                                                                                                                                                                                                                                                                                                                                                                                                                                                                                                                                                                                                                                                                                                                                                                                                                                                                                                                                                                                                                                                                                                                                                                                                                                                                                                                                                                                                                                                                                                                                                                                                                                                                                                                                                                                                                                                                                                                                                                                                                                                                                                                                                                                                                                                                                                                                                                                                                                           278\n",
            "Описание особенностей, послуживших основаниями для включения в единый государственный реестр объектов культурного наследия (памятников истории и культуры) народов Российской Федерации и подлежащих обязательному сохранению (предмет охраны) расположенных на территории Волгоградской области индивидуального, группового захоронения, братской могилы, отнесенным к объектам культурного наследия регионального значения и подлежащих государственной охране на основании постановления Волгоградской областной Думы от 5 июня 1997 г. № 62/706 «О постановке на государственную охрану памятников истории и культуры Волгоградской области»    Описанием особенностей, послуживших основаниями для включения в единый государственный реестр объектов культурного наследия (памятников истории и культуры) народов Российской Федерации и подлежащих обязательному сохранению (предмет охраны) расположенных на территории Волгоградской области индивидуального, группового захоронения, братской могилы, отнесенных к объектам культурного наследия регионального значения и подлежащих государственной охране на основании постановления Волгоградской областной Думы от 5 июня 1997 г. № 62/706 «О постановке на государственную охрану памятников истории и культуры Волгоградской области», является:  местоположение в градостроительной среде и внеселитебной зоны индивидуального, группового захоронения, братской могилы, относящихся к объектам культурного наследия регионального значения;    территория индивидуального, группового захоронения, братской могилы, относящихся к объектам культурного наследия регионального значения в границах погребения;      останки (учтенные и неучтенные) со всеми находящимися в погребении и в его засыпи материальными предметами (награды, оружие, элементы снаряжения и обмундирования, личные вещи, документы и иное - при наличии);    надмогильное сооружение над индивидуальным, групповым захоронением, братской могилой, относящихся к объектам культурного наследия регионального значения (планировочное, архитектурно-художественное, конструктивное решение, форма, габариты, материалы), текст мемориальных надписей;   мемориальные объекты, связанные с индивидуальным, групповым захоронением, братской могилой, относящихся к объектам культурного наследия регионального значения (планировочное, архитектурно-художественное, конструктивное решение, форма, габариты, материалы), текст мемориальных надписей – при  наличии;  малые архитектурные формы и элементы благоустройства, неразрывно связанные с надмогильным сооружением (архитектурно-художественное, конструктивное решение, форма, габариты, материалы) –при наличии;   ограждение территории (архитектурно-художественное, конструктивное решение, форма, габариты, материалы) – при наличии;   замощение (материалы) – при наличии;   система озеленения и зеленые насаждения – при наличии;   секторы и направления видовых раскрытий надмогильного сооружения над индивидуальным, групповым захоронением, братской могилой, относящихся к объектам культурного наследия регионального значения мемориального сооружения, визуальные связи.       269\n",
            "Описанием особенностей, послуживших основаниями для включения в единый государственный реестр объектов культурного наследия (памятников истории и культуры) народов Российской Федерации и подлежащих обязательному сохранению (предмет охраны) расположенных на территории Волгоградской области индивидуального, группового захоронения, братской могилы, отнесенных к объектам культурного наследия регионального значения и подлежащих государственной охране на основании постановления Волгоградской областной Думы от 5 июня 1997 г. N 62/706 \"О постановке на государственную охрану памятников истории и культуры Волгоградской области\", является:  местоположение в градостроительной среде и вне селитебной зоны индивидуального, группового захоронения, братской могилы, относящихся к объектам культурного наследия регионального значения;  территория индивидуального, группового захоронения, братской могилы, относящихся к объектам культурного наследия регионального значения, в границах погребения;  останки (учтенные и неучтенные) со всеми находящимися в погребении и в его засыпи материальными предметами (награды, оружие, элементы снаряжения и обмундирования, личные вещи, документы и иное - при наличии);  надмогильное сооружение над индивидуальным, групповым захоронением, братской могилой, относящимися к объектам культурного наследия регионального значения (планировочное, архитектурно-художественное, конструктивное решение, форма, габариты, материалы), текст мемориальных надписей;  мемориальные объекты, связанные с индивидуальным, групповым захоронением, братской могилой, относящимися к объектам культурного наследия регионального значения (планировочное, архитектурно-художественное, конструктивное решение, форма, габариты, материалы), текст мемориальных надписей - при наличии;  малые архитектурные формы и элементы благоустройства, неразрывно связанные с надмогильным сооружением (архитектурно-художественное, конструктивное решение, форма, габариты, материалы) - при наличии;  ограждение территории (архитектурно-художественное, конструктивное решение, форма, габариты, материалы) - при наличии;  замощение (материалы) - при наличии;  система озеленения и зеленые насаждения - при наличии;  секторы и направления видовых раскрытий надмогильного сооружения над индивидуальным, групповым захоронением, братской могилой, относящимися к объектам культурного наследия регионального значения, мемориального сооружения, визуальные связи.                                                                                                                                                                                                                                                                                                                                                                                                                                                                                                                                                                                                                                                                  265\n",
            "Предметом охраны объекта культурного наследия федерального значения - захоронения являются:  существующее местоположение в общей структуре кладбища;  текст мемориальной надписи на существующем надгробном памятнике, фиксирующем место захоронения, или на существующей мемориальной нише, определяющей место захоронения.                                                                                                                                                                                                                                                                                                                                                                                                                                                                                                                                                                                                                                                                                                                                                                                                                                                                                                                                                                                                                                                                                                                                                                                                                                                                                                                                                                                                                                                                                                                                                                                                                                                                                                                                                                                                                                                                                                                                                                                                                                                                                                                                                                                                                                                                                                                                                                                                                                                                                                                                                                                                                                                                                                                                                                                                                                                                          250\n",
            "Name: object_description, dtype: int64\n",
            "\n",
            "Всего значений: 46529\n",
            "Количество уникальных значений: 38361\n"
          ]
        }
      ],
      "source": [
        "duplicates('object_description')"
      ],
      "id": "1db71be5-d6f3-48d0-8892-5d128467acc1"
    },
    {
      "cell_type": "markdown",
      "metadata": {
        "id": "1ade67bd-2af0-417b-a0af-c525fdd96722"
      },
      "source": [
        "Вижу 5 дублей в разных вариантах: `не утверждён`. Исправим."
      ],
      "id": "1ade67bd-2af0-417b-a0af-c525fdd96722"
    },
    {
      "cell_type": "code",
      "execution_count": 108,
      "metadata": {
        "id": "92948711-d206-416c-9122-15322b3b3b93"
      },
      "outputs": [],
      "source": [
        "df['object_description'] = df['object_description'].replace('не утвержден',                 'Предмет охраны не утверждён')\\\n",
        "                                                   .replace('Не утвержден.',                'Предмет охраны не утверждён')\\\n",
        "                                                   .replace('Не утвержден' ,                'Предмет охраны не утверждён')\\\n",
        "                                                   .replace('Предмет охраны не утвержден.', 'Предмет охраны не утверждён')\\\n",
        "                                                   .replace('Предмет охраны не утвержден',  'Предмет охраны не утверждён')"
      ],
      "id": "92948711-d206-416c-9122-15322b3b3b93"
    },
    {
      "cell_type": "markdown",
      "metadata": {
        "id": "f15e4968-51b0-4316-a30a-4736a3d3806b"
      },
      "source": [
        "Устранённые дубли должны образоваться в самое частотное значение. Проверим."
      ],
      "id": "f15e4968-51b0-4316-a30a-4736a3d3806b"
    },
    {
      "cell_type": "code",
      "execution_count": 109,
      "metadata": {
        "id": "00f3574d-2b90-4abc-a9a7-e8ce7cf9b23f",
        "colab": {
          "base_uri": "https://localhost:8080/"
        },
        "outputId": "c1343623-90ee-40c9-b162-9175a5a8ce21"
      },
      "outputs": [
        {
          "output_type": "execute_result",
          "data": {
            "text/plain": [
              "Предмет охраны не утверждён    4212\n",
              "Name: object_description, dtype: int64"
            ]
          },
          "metadata": {},
          "execution_count": 109
        }
      ],
      "source": [
        "df['object_description'].value_counts().head(1)"
      ],
      "id": "00f3574d-2b90-4abc-a9a7-e8ce7cf9b23f"
    },
    {
      "cell_type": "markdown",
      "metadata": {
        "id": "2c96e269-bfe9-4ef4-86ec-4f773a842a09"
      },
      "source": [
        "<br>"
      ],
      "id": "2c96e269-bfe9-4ef4-86ec-4f773a842a09"
    },
    {
      "cell_type": "markdown",
      "metadata": {
        "id": "c8a2b9e9-290d-4081-a017-263483dd0356"
      },
      "source": [
        "**Посмотрим колонку `object_border_description`.**"
      ],
      "id": "c8a2b9e9-290d-4081-a017-263483dd0356"
    },
    {
      "cell_type": "code",
      "execution_count": 110,
      "metadata": {
        "id": "bcb84eff-dcd5-4539-9d14-94cdb377468c",
        "colab": {
          "base_uri": "https://localhost:8080/"
        },
        "outputId": "9fe612bb-df93-43b1-c847-984de56ca64b"
      },
      "outputs": [
        {
          "output_type": "stream",
          "name": "stdout",
          "text": [
            "NaN                                                                                                                                                                                                                                                                                                                                                                                                                                                                                                                                                                                                                                                                                                                                                                                                                                                                                                                        112258\n",
            "Не утверждены.                                                                                                                                                                                                                                                                                                                                                                                                                                                                                                                                                                                                                                                                                                                                                                                                                                                                                                               1203\n",
            "не утверждены                                                                                                                                                                                                                                                                                                                                                                                                                                                                                                                                                                                                                                                                                                                                                                                                                                                                                                                 588\n",
            "Границы территории не утверждены                                                                                                                                                                                                                                                                                                                                                                                                                                                                                                                                                                                                                                                                                                                                                                                                                                                                                              452\n",
            "Границы территории не утверждены.                                                                                                                                                                                                                                                                                                                                                                                                                                                                                                                                                                                                                                                                                                                                                                                                                                                                                             432\n",
            "Не утверждены                                                                                                                                                                                                                                                                                                                                                                                                                                                                                                                                                                                                                                                                                                                                                                                                                                                                                                                 208\n",
            "Сведения отсутствуют                                                                                                                                                                                                                                                                                                                                                                                                                                                                                                                                                                                                                                                                                                                                                                                                                                                                                                          135\n",
            "Граница территории архитектурного комплекса «Мусийкъонгийкоте», расположенного по адресу: Республика Ингушетия, Джейрахский муниципальный район, с. п. Гули, с. Мусийкъонгийкоте не совпадает с зарегистрированными границами земельных участков. Объекты культурного наследия, относящиеся к данному комплексу, как и сам комплекс расположены в пределах кадастрового квартала 06:07:0000002, внутри которого выделен земельный участок с кадастровым номером: 06:07:0000002:167, площадью 10 000 кв. м. с разрешенным использованием под историко-культурную деятельность.  Памятники истории, культуры и природы архитектурного комплекса «Мусийкъонгийкоте» связаны между собой исторически, ландшафтно и представляют собой особую историческую, научную и архитектурную ценность в сочетании с окружающими их уникальными природными комплексами.                                                                      124\n",
            "Граница территории  объекта  культурного наследия проходит от северного угла территории  землеотвода  Введенского  иноверческого кладбища  по  адресу:  Наличная  ул.,  д.1/2,  (Госпитальный пер., д.2/1), стр.1, по линии современной кирпичной ограды на юго-запад, далее по северному фасаду дома смотрителя у северных ворот кладбища,  по линии трассировки исторической ограды  до  западного  угла территории  землеотвода Введенского иноверческого кладбища,  далее на юго-восток по границе современного землеотвода Введенского иноверческого кладбища до его южного угла,  далее на северо-восток по линии трассировки исторической ограды кладбища,  включая  фрагмент кирпичной  стены  руинированного  дома смотрителя у южных ворот до восточного угла территории землеотвода кладбища,  далее  на  северо-запад  по  линии современной границы кладбища до северного угла территории его землеотвода.       108\n",
            "Граница территории объекта культурного наследия проходит на северо-восток по Кремлёвской набережной до точки Б;  далее на северо-запад вдоль пл. Васильевского Спуска до Спасской башни (точки Б - В);  далее на северо-запад по Красной площади, мимо Никольской башни вдоль Кремлёвского проезда до точки Г (точки В - Г);  далее на юго-запад до точки Д (точки Г - Д);  далее на юго-восток до точки Е (точки Д - Е);  далее на юго-запад вдоль Кремлёвской стены до Троицкой башни (точки Е - Ж);  далее на запад вдоль Троицкого моста до точки З, огибая Кутафью башню до точки И (точки Ж - З - И );  далее на восток вдоль Троицкого моста до Троицкой башни (точки И - К);  далее на юго-запад вдоль Кремлёвской стены до Боровицкой башни (точки К — Л);  далее на юго-восток вдоль Кремлёвской башни до Водовзводной башни (точки JI - А).                                                                        105\n",
            "Name: object_border_description, dtype: int64\n",
            "\n",
            "Всего значений: 42235\n",
            "Количество уникальных значений: 30789\n"
          ]
        }
      ],
      "source": [
        "duplicates('object_border_description')"
      ],
      "id": "bcb84eff-dcd5-4539-9d14-94cdb377468c"
    },
    {
      "cell_type": "markdown",
      "metadata": {
        "id": "7c73e0de-015b-4400-8127-2c53c2cb3f18"
      },
      "source": [
        "Видим похожую картину с `не утверждёнными` границами."
      ],
      "id": "7c73e0de-015b-4400-8127-2c53c2cb3f18"
    },
    {
      "cell_type": "code",
      "execution_count": 111,
      "metadata": {
        "id": "b556a69a-699a-4f8a-89bd-630ea1cd48c7"
      },
      "outputs": [],
      "source": [
        "df['object_border_description'] = df['object_border_description'].replace('Не утверждены.',                     'Границы территории не утверждены')\\\n",
        "                                                                 .replace('не утверждены',                      'Границы территории не утверждены')\\\n",
        "                                                                 .replace('Границы территории не утверждены.' , 'Границы территории не утверждены')\\\n",
        "                                                                 .replace('Не утверждены',                      'Границы территории не утверждены')"
      ],
      "id": "b556a69a-699a-4f8a-89bd-630ea1cd48c7"
    },
    {
      "cell_type": "markdown",
      "metadata": {
        "id": "b7cdd67f-abaf-4641-a0ed-31bae7885cbe"
      },
      "source": [
        "Устранённые дубли должны образоваться в самое частотное значение. Проверим."
      ],
      "id": "b7cdd67f-abaf-4641-a0ed-31bae7885cbe"
    },
    {
      "cell_type": "code",
      "execution_count": 112,
      "metadata": {
        "id": "b23dbef6-1cc4-4915-bbc3-c6940a468fe0",
        "colab": {
          "base_uri": "https://localhost:8080/"
        },
        "outputId": "817ceb85-cc5b-469d-f05e-a83bcff7e20b"
      },
      "outputs": [
        {
          "output_type": "execute_result",
          "data": {
            "text/plain": [
              "Границы территории не утверждены    2883\n",
              "Name: object_border_description, dtype: int64"
            ]
          },
          "metadata": {},
          "execution_count": 112
        }
      ],
      "source": [
        "df['object_border_description'].value_counts().head(1)"
      ],
      "id": "b23dbef6-1cc4-4915-bbc3-c6940a468fe0"
    },
    {
      "cell_type": "markdown",
      "metadata": {
        "id": "17af1d0d-14e9-416e-b59a-e18c42c07428"
      },
      "source": [
        "<br>"
      ],
      "id": "17af1d0d-14e9-416e-b59a-e18c42c07428"
    },
    {
      "cell_type": "markdown",
      "metadata": {
        "id": "72a67401-bf1f-4dd4-aa6f-369678865c8b"
      },
      "source": [
        "**Посмотрим колонку `ensemble_id`.**"
      ],
      "id": "72a67401-bf1f-4dd4-aa6f-369678865c8b"
    },
    {
      "cell_type": "code",
      "execution_count": 113,
      "metadata": {
        "id": "10ce8668-b19f-444a-95b0-6fd520a240b2",
        "colab": {
          "base_uri": "https://localhost:8080/"
        },
        "outputId": "e2969678-f708-4d78-e979-388d7348bbff"
      },
      "outputs": [
        {
          "output_type": "stream",
          "name": "stdout",
          "text": [
            "<NA>      132057\n",
            "151344       219\n",
            "164457       147\n",
            "214508       121\n",
            "194299       107\n",
            "215413       103\n",
            "169364        95\n",
            "212661        93\n",
            "220283        90\n",
            "216087        83\n",
            "Name: ensemble_id, dtype: Int64\n",
            "\n",
            "Всего значений: 22436\n",
            "Количество уникальных значений: 4953\n"
          ]
        }
      ],
      "source": [
        "duplicates('ensemble_id')"
      ],
      "id": "10ce8668-b19f-444a-95b0-6fd520a240b2"
    },
    {
      "cell_type": "markdown",
      "metadata": {
        "id": "2e16654d-32c5-4547-b4d0-965bc531abe9"
      },
      "source": [
        "Кажется, порядок. Если объект является частью ансамбля, то ему присуждается определённый номер.\\\n",
        "Так, видим, что есть $219$ объектов одного ансамбля."
      ],
      "id": "2e16654d-32c5-4547-b4d0-965bc531abe9"
    },
    {
      "cell_type": "markdown",
      "metadata": {
        "id": "fa9cca47-ca19-4da4-94dd-3fc3f3f69234"
      },
      "source": [
        "<br>"
      ],
      "id": "fa9cca47-ca19-4da4-94dd-3fc3f3f69234"
    },
    {
      "cell_type": "markdown",
      "metadata": {
        "id": "5cc907ef-be40-4ece-aea0-4e6e88057f96"
      },
      "source": [
        "**Посмотрим колонку `coordinates`.**"
      ],
      "id": "5cc907ef-be40-4ece-aea0-4e6e88057f96"
    },
    {
      "cell_type": "code",
      "execution_count": 114,
      "metadata": {
        "id": "e6bd139b-08ca-4a40-99a0-003af3a478b0",
        "colab": {
          "base_uri": "https://localhost:8080/"
        },
        "outputId": "e70c5e66-1886-4f07-b9d8-87a897273340"
      },
      "outputs": [
        {
          "output_type": "stream",
          "name": "stdout",
          "text": [
            "nan                                     114543\n",
            "[45.450136, 42.707692]                      69\n",
            "[49.1068469365817, 55.7999436090671]        47\n",
            "[34.9578965608516, 44.8417174338509]        45\n",
            "[37.788144, 55.693409]                      39\n",
            "[30.326244, 59.864272]                      33\n",
            "[43.2463865344229, 55.040424834587]         31\n",
            "[47.970126, 46.4657]                        28\n",
            "[43.3490221878354, 56.1642316596241]        27\n",
            "[34.250714, 61.816268]                      23\n",
            "Name: coordinates, dtype: int64\n",
            "\n",
            "Всего значений: 154493\n",
            "Количество уникальных значений: 36406\n"
          ]
        }
      ],
      "source": [
        "duplicates('coordinates')"
      ],
      "id": "e6bd139b-08ca-4a40-99a0-003af3a478b0"
    },
    {
      "cell_type": "markdown",
      "metadata": {
        "id": "829fc155-972e-4de6-8352-651141619050"
      },
      "source": [
        "Множество объектов имеют одни и те же координаты. Очень много пропусков. Даже если есть дубли, исправить их не представляется возможным."
      ],
      "id": "829fc155-972e-4de6-8352-651141619050"
    },
    {
      "cell_type": "markdown",
      "metadata": {
        "id": "e3247202-bf3e-4ae3-b9a0-c64afe6d44fa"
      },
      "source": [
        "<br>"
      ],
      "id": "e3247202-bf3e-4ae3-b9a0-c64afe6d44fa"
    },
    {
      "cell_type": "markdown",
      "metadata": {
        "id": "fc724a5d-8e20-4c71-aa26-2a9180cda603"
      },
      "source": [
        "**Посмотрим колонку `image_url`.**"
      ],
      "id": "fc724a5d-8e20-4c71-aa26-2a9180cda603"
    },
    {
      "cell_type": "code",
      "execution_count": 115,
      "metadata": {
        "id": "583c76ed-b375-4a16-b912-9b0b7c1e86c4",
        "colab": {
          "base_uri": "https://localhost:8080/"
        },
        "outputId": "05811f6a-5312-4fc0-bc3e-d070acad4b74"
      },
      "outputs": [
        {
          "output_type": "stream",
          "name": "stdout",
          "text": [
            "                                               60542\n",
            "https://okn-mk.mkrf.ru/maps/show/id/1836648        6\n",
            "https://okn-mk.mkrf.ru/maps/show/id/1780885        3\n",
            "https://okn-mk.mkrf.ru/maps/show/id/1793099        3\n",
            "https://okn-mk.mkrf.ru/maps/show/id/4546450        2\n",
            "https://okn-mk.mkrf.ru/maps/show/id/3818215        2\n",
            "https://okn-mk.mkrf.ru/maps/show/id/4401774        2\n",
            "https://okn-mk.mkrf.ru/maps/show/id/979207         2\n",
            "https://okn-mk.mkrf.ru/maps/show/id/4727699        2\n",
            "https://okn-mk.mkrf.ru/maps/show/id/409880         2\n",
            "Name: image_url, dtype: int64\n",
            "\n",
            "Всего значений: 154493\n",
            "Количество уникальных значений: 93935\n"
          ]
        }
      ],
      "source": [
        "duplicates('image_url')"
      ],
      "id": "583c76ed-b375-4a16-b912-9b0b7c1e86c4"
    },
    {
      "cell_type": "markdown",
      "metadata": {
        "id": "05ca5a17-e805-4939-b81c-442ae7f06480"
      },
      "source": [
        "Пустое значение повторяется $60542$ раза. Это пропуск, у этого объекта нет изображения. Нужно переименовать это пустое значение.\\\n",
        "Даже если дубли есть, исправить их не представляется возможным."
      ],
      "id": "05ca5a17-e805-4939-b81c-442ae7f06480"
    },
    {
      "cell_type": "code",
      "execution_count": 116,
      "metadata": {
        "id": "b8b3924e-05d6-430c-8a6d-c6c0cc384c11"
      },
      "outputs": [],
      "source": [
        "df['image_url'] = df['image_url'].replace('', 'Нет изображения')"
      ],
      "id": "b8b3924e-05d6-430c-8a6d-c6c0cc384c11"
    },
    {
      "cell_type": "markdown",
      "metadata": {
        "id": "6c160d79-78df-4d1b-a9fe-e8da7fbccc53"
      },
      "source": [
        "<br>"
      ],
      "id": "6c160d79-78df-4d1b-a9fe-e8da7fbccc53"
    },
    {
      "cell_type": "markdown",
      "metadata": {
        "id": "76d85a96-e6d4-4496-aa66-2e9080b6e982"
      },
      "source": [
        "**Посмотрим колонку `document_name`.**"
      ],
      "id": "76d85a96-e6d4-4496-aa66-2e9080b6e982"
    },
    {
      "cell_type": "code",
      "execution_count": 117,
      "metadata": {
        "id": "4bb0876a-f92b-4e9c-b72c-421d6e500bfc",
        "colab": {
          "base_uri": "https://localhost:8080/"
        },
        "outputId": "3d10591c-b878-4a76-b44a-6980c5f3e7b3"
      },
      "outputs": [
        {
          "output_type": "stream",
          "name": "stdout",
          "text": [
            "Закон Краснодарского края «О перечне объектов культурного наследия (памятников истории и культуры), расположенных на территории Краснодарского края»                                                                 8182\n",
            "Постановление                                                                                                                                                                                                        3503\n",
            "Постановление Главы Администрации Ростовской области «О принятии на государственную охрану памятников истории и культуры области и мерах по их охране»                                                               3485\n",
            "Постановление Законодательного собрания Тверской области                                                                                                                                                             3415\n",
            "Постановление Псковского областного Собрания депутатов «Об утверждении государственного списка недвижимых памятников истории и культуры, подлежащих охране как памятники местного значения»                          3010\n",
            "Постановление главы администрации Костромской области «Об объявлении находящихся на территории Костромской области объектов, имеющих историческую, культурную и научную ценность, памятниками истории и культуры»    2254\n",
            "Постановление администрации Воронежской области                                                                                                                                                                      2216\n",
            "Распоряжение Губернатора Пермской области \"О государственном учете недвижимых памятников истории и культуры Пермского края регионального значения\"                                                                   1921\n",
            "Постановление Волгоградской областной думы \"О постановке на государственную охрану памятников истории и культуры Волгоградской области\"                                                                              1792\n",
            "Приказ                                                                                                                                                                                                               1733\n",
            "Name: document_name, dtype: int64\n",
            "\n",
            "Всего значений: 154464\n",
            "Количество уникальных значений: 16764\n"
          ]
        }
      ],
      "source": [
        "duplicates('document_name')"
      ],
      "id": "4bb0876a-f92b-4e9c-b72c-421d6e500bfc"
    },
    {
      "cell_type": "markdown",
      "metadata": {
        "id": "b0d0f82f-b2eb-45fa-8efa-e78eacb091aa"
      },
      "source": [
        "Кажется, тут порядок. Видим, что один и тот же документ назначает очень много объектов."
      ],
      "id": "b0d0f82f-b2eb-45fa-8efa-e78eacb091aa"
    },
    {
      "cell_type": "markdown",
      "metadata": {
        "id": "34bd19c3-e528-4201-91ee-deb7a8672ac7"
      },
      "source": [
        "<br>"
      ],
      "id": "34bd19c3-e528-4201-91ee-deb7a8672ac7"
    },
    {
      "cell_type": "markdown",
      "metadata": {
        "id": "99671761-fd89-4036-a437-fc5895373362"
      },
      "source": [
        "**Посмотрим колонку `document_url`.**"
      ],
      "id": "99671761-fd89-4036-a437-fc5895373362"
    },
    {
      "cell_type": "code",
      "execution_count": 118,
      "metadata": {
        "id": "9d546e44-52d2-4832-81b3-b49f04c6b36e",
        "colab": {
          "base_uri": "https://localhost:8080/"
        },
        "outputId": "fc84a964-55cc-4e3b-9619-b3eb9efb9173"
      },
      "outputs": [
        {
          "output_type": "stream",
          "name": "stdout",
          "text": [
            "NaN                                            58475\n",
            "None                                           56096\n",
            "https://okn-mk.mkrf.ru/maps/show/id/2137890      283\n",
            "https://okn-mk.mkrf.ru/maps/show/id/2113631      269\n",
            "https://okn-mk.mkrf.ru/maps/show/id/748077       164\n",
            "https://okn-mk.mkrf.ru/maps/show/id/367586       112\n",
            "https://okn-mk.mkrf.ru/maps/show/id/3423155       97\n",
            "https://okn-mk.mkrf.ru/maps/show/id/598474        73\n",
            "https://okn-mk.mkrf.ru/maps/show/id/903822        53\n",
            "https://okn-mk.mkrf.ru/maps/show/id/459615        51\n",
            "Name: document_url, dtype: int64\n",
            "\n",
            "Всего значений: 39922\n",
            "Количество уникальных значений: 37493\n"
          ]
        }
      ],
      "source": [
        "duplicates('document_url')"
      ],
      "id": "9d546e44-52d2-4832-81b3-b49f04c6b36e"
    },
    {
      "cell_type": "markdown",
      "metadata": {
        "id": "327e3fb7-b880-44ff-9578-61b4e5c527c8"
      },
      "source": [
        "Тут тоже не наблюдаются дубли."
      ],
      "id": "327e3fb7-b880-44ff-9578-61b4e5c527c8"
    },
    {
      "cell_type": "markdown",
      "metadata": {
        "id": "JE1QgJJEPffa"
      },
      "source": [
        "<br>"
      ],
      "id": "JE1QgJJEPffa"
    },
    {
      "cell_type": "markdown",
      "source": [
        "## Рефлексия"
      ],
      "metadata": {
        "id": "6tsIqVvXPuQ-"
      },
      "id": "6tsIqVvXPuQ-"
    },
    {
      "cell_type": "markdown",
      "source": [
        "Это очень хорошо, что занялись предобработкой всех данных. Неплохая тренировка.\n",
        "\n",
        "Но напрашивается вопрос, все ли колонки по  большому счёту нужны?\n",
        "\n",
        "К тому же, некоторые из них очень громоздкие."
      ],
      "metadata": {
        "id": "KZZASNY_XOPm"
      },
      "id": "KZZASNY_XOPm"
    },
    {
      "cell_type": "markdown",
      "source": [
        "Давайте посмотрим, сколько памяти использует датафрейм и его колонки."
      ],
      "metadata": {
        "id": "3TSDNySjYDsk"
      },
      "id": "3TSDNySjYDsk"
    },
    {
      "cell_type": "code",
      "source": [
        "# общий размер памяти в мегабайтах, занимаемый df\n",
        "mem_us_after = df.memory_usage(deep=True).sum() / (1024 * 1024)\n",
        "\n",
        "# размер памяти в мегабайтах, занимаемый каждой колонкой\n",
        "col_mem = df.memory_usage(deep=True) / (1024 * 1024)\n",
        "\n",
        "# размер памяти в процентах, занимаемый каждой колонкой\n",
        "col_mem_perc = col_mem / mem_us_after * 100\n",
        "\n",
        "col_mem_perc"
      ],
      "metadata": {
        "colab": {
          "base_uri": "https://localhost:8080/"
        },
        "id": "mySM0n0qTkym",
        "outputId": "e1e9d4ee-9d42-4932-81aa-26699d50e645"
      },
      "id": "mySM0n0qTkym",
      "execution_count": 119,
      "outputs": [
        {
          "output_type": "execute_result",
          "data": {
            "text/plain": [
              "Index                            0.000020\n",
              "object                           5.242539\n",
              "registry_number                  1.703939\n",
              "region                           3.660096\n",
              "full_address                     3.557487\n",
              "construction_date                2.750086\n",
              "significance_category            4.007402\n",
              "object_type                      2.745849\n",
              "object_subtype                   3.134223\n",
              "unesco_affiliation               2.082337\n",
              "particularly_valuable_object     2.082546\n",
              "object_description              39.399015\n",
              "object_border_description       13.195174\n",
              "ensemble_id                      0.213006\n",
              "coordinates                      1.592116\n",
              "image_url                        2.475933\n",
              "document_name                    9.277044\n",
              "document_code                    1.590577\n",
              "document_date                    0.189338\n",
              "document_url                     1.101274\n",
              "dtype: float64"
            ]
          },
          "metadata": {},
          "execution_count": 119
        }
      ]
    },
    {
      "cell_type": "markdown",
      "source": [
        "Колонки `object_description` и `object_border_description` занимают больше половины всей таблицы.\n",
        "\n",
        "Информация о документах в колонках `document_name`, `document_code`, `document_date`, `document_url` поможет подробно ознакомиться с объектом.\n",
        "\n",
        "Ссылки на изображения объектов `image_url` и id ансамблей `ensemble_id` также выполняют схожую функцию: дополнительная информация об объектах.\n",
        "\n",
        "Но отпустим все эти колонки. Если заинтересует какой-то объект, о нём можно узнать подробнее в открытых данных минкульта РФ."
      ],
      "metadata": {
        "id": "A53QOR57aMk7"
      },
      "id": "A53QOR57aMk7"
    },
    {
      "cell_type": "code",
      "source": [
        "df.drop(columns=['object_description',\n",
        "                 'object_border_description',\n",
        "                 'document_name',\n",
        "                 'document_code',\n",
        "                 'document_date',\n",
        "                 'document_url',\n",
        "                 'image_url',\n",
        "                 'ensemble_id'], inplace=True)"
      ],
      "metadata": {
        "id": "Tj4T4zZIhgz0"
      },
      "id": "Tj4T4zZIhgz0",
      "execution_count": 120,
      "outputs": []
    },
    {
      "cell_type": "markdown",
      "metadata": {
        "id": "0d95f66c-50a0-4e5b-90f2-ed374b79f441"
      },
      "source": [
        "<br>"
      ],
      "id": "0d95f66c-50a0-4e5b-90f2-ed374b79f441"
    },
    {
      "cell_type": "markdown",
      "metadata": {
        "id": "45IXZ9jjP6Aq"
      },
      "source": [
        "Сравним объём датафрейма до обработки и после обработки."
      ],
      "id": "45IXZ9jjP6Aq"
    },
    {
      "cell_type": "code",
      "source": [
        "# перезапишем переменную после удаления колонок\n",
        "mem_us_after = df.memory_usage(deep=True).sum() / (1024 * 1024)\n",
        "\n",
        "print(f'{round(mem_us_before)} Мб — такой объём памяти занимала таблица до обработки.')\n",
        "print(f'{round(mem_us_after)} Мб — такой объём памяти занимает таблица сейчас, после обработки.')\n",
        "print(f'Таким образом, теперь таблица весит на {int((1 - round(mem_us_after / mem_us_before, 2)) * 100)} % меньше.')"
      ],
      "metadata": {
        "colab": {
          "base_uri": "https://localhost:8080/"
        },
        "id": "3GvLzQ_kPJI-",
        "outputId": "1400752c-1233-4271-c05a-b938729f120c"
      },
      "id": "3GvLzQ_kPJI-",
      "execution_count": 121,
      "outputs": [
        {
          "output_type": "stream",
          "name": "stdout",
          "text": [
            "830 Мб — такой объём памяти занимала таблица до обработки.\n",
            "203 Мб — такой объём памяти занимает таблица сейчас, после обработки.\n",
            "Таким образом, теперь таблица весит на 76 % меньше.\n"
          ]
        }
      ]
    },
    {
      "cell_type": "code",
      "source": [
        "print(f'Размер таблицы до предобработки: {raw_shape[0]} строк и {raw_shape[1]} колонок.')\n",
        "print(f'Размер таблицы после предобработки: {df.shape[0]} строк и {df.shape[1]} колонок.')"
      ],
      "metadata": {
        "colab": {
          "base_uri": "https://localhost:8080/"
        },
        "id": "DQBjgHnjPNML",
        "outputId": "4440ebec-65ed-49cb-9320-0ce10bd3ee4f"
      },
      "id": "DQBjgHnjPNML",
      "execution_count": 122,
      "outputs": [
        {
          "output_type": "stream",
          "name": "stdout",
          "text": [
            "Размер таблицы до предобработки: 154493 строк и 53 колонок.\n",
            "Размер таблицы после предобработки: 154493 строк и 11 колонок.\n"
          ]
        }
      ]
    },
    {
      "cell_type": "markdown",
      "source": [
        "Не потеряли ни одной строки, но удалили 42 колонки."
      ],
      "metadata": {
        "id": "lOAVyeVaSWVg"
      },
      "id": "lOAVyeVaSWVg"
    },
    {
      "cell_type": "markdown",
      "metadata": {
        "id": "1gRVxXAASQgp"
      },
      "source": [
        "<br>"
      ],
      "id": "1gRVxXAASQgp"
    },
    {
      "cell_type": "markdown",
      "metadata": {
        "id": "6cd991a8-b7ce-4bf3-af5c-035889ff9401"
      },
      "source": [
        "## Резюме по предобработке данных"
      ],
      "id": "6cd991a8-b7ce-4bf3-af5c-035889ff9401"
    },
    {
      "cell_type": "markdown",
      "metadata": {
        "id": "23144660-787a-4f66-a97a-98bb9845f831"
      },
      "source": [
        "**Что было сделано:**\n",
        "* снесли колонки, почти полностью состоящих из пропущенных значений;\n",
        "* преобразовали JSON-данные, отчего появились новые колонки;\n",
        "* после преобразования снова очистили датафрейм от ненужных колонок, где было очень много пропусков;\n",
        "* разобрались, какую информацию преподносят колонки;\n",
        "* углубившись в суть, дополнительно ещё убрали мусорные колонки;\n",
        "* переименовали колонки, упорядочили их;\n",
        "* в каких-то колонках изменили тип данных;\n",
        "* проанализировали пропущенные значения;\n",
        "* проанализированы неявные дубликаты и устранили их, где возможно;\n",
        "* сравнили исходный и обработанный датафреймы.\n",
        "\n",
        "Таким образом, данные готовы для анализа."
      ],
      "id": "23144660-787a-4f66-a97a-98bb9845f831"
    },
    {
      "cell_type": "markdown",
      "source": [
        "Экспортируем обработанный датафрейм для дальнейшего анализа."
      ],
      "metadata": {
        "id": "64loSVxN6hfa"
      },
      "id": "64loSVxN6hfa"
    },
    {
      "cell_type": "code",
      "source": [
        "# экспорт\n",
        "df.to_csv('/content/drive/MyDrive/Colab Datasets/clean_cultural.csv', index=False)"
      ],
      "metadata": {
        "id": "ZHPzbruOQK3D"
      },
      "id": "ZHPzbruOQK3D",
      "execution_count": 123,
      "outputs": []
    },
    {
      "cell_type": "markdown",
      "source": [
        "Увидимся во второй части!"
      ],
      "metadata": {
        "id": "f6BzVDzQPuOo"
      },
      "id": "f6BzVDzQPuOo"
    }
  ],
  "metadata": {
    "colab": {
      "provenance": [],
      "toc_visible": true
    },
    "kernelspec": {
      "display_name": "Python 3 (ipykernel)",
      "language": "python",
      "name": "python3"
    },
    "language_info": {
      "codemirror_mode": {
        "name": "ipython",
        "version": 3
      },
      "file_extension": ".py",
      "mimetype": "text/x-python",
      "name": "python",
      "nbconvert_exporter": "python",
      "pygments_lexer": "ipython3",
      "version": "3.9.5"
    }
  },
  "nbformat": 4,
  "nbformat_minor": 5
}