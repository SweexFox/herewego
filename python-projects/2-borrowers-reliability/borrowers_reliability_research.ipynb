{
 "cells": [
  {
   "cell_type": "markdown",
   "id": "ae9e6609",
   "metadata": {
    "id": "ae9e6609",
    "toc": true
   },
   "source": [
    "<h1>Table of Contents<span class=\"tocSkip\"></span></h1>\n",
    "<div class=\"toc\"><ul class=\"toc-item\"><li><span><a href=\"#Обзор-данных\" data-toc-modified-id=\"Обзор-данных-1\"><span class=\"toc-item-num\">1&nbsp;&nbsp;</span>Обзор данных</a></span></li><li><span><a href=\"#Предобработка-данных\" data-toc-modified-id=\"Предобработка-данных-2\"><span class=\"toc-item-num\">2&nbsp;&nbsp;</span>Предобработка данных</a></span><ul class=\"toc-item\"><li><span><a href=\"#Удаление-пропусков\" data-toc-modified-id=\"Удаление-пропусков-2.1\"><span class=\"toc-item-num\">2.1&nbsp;&nbsp;</span>Удаление пропусков</a></span></li><li><span><a href=\"#Обработка-аномальных-значений\" data-toc-modified-id=\"Обработка-аномальных-значений-2.2\"><span class=\"toc-item-num\">2.2&nbsp;&nbsp;</span>Обработка аномальных значений</a></span></li><li><span><a href=\"#Удаление-пропусков-(продолжение)\" data-toc-modified-id=\"Удаление-пропусков-(продолжение)-2.3\"><span class=\"toc-item-num\">2.3&nbsp;&nbsp;</span>Удаление пропусков (продолжение)</a></span></li><li><span><a href=\"#Изменение-типов-данных\" data-toc-modified-id=\"Изменение-типов-данных-2.4\"><span class=\"toc-item-num\">2.4&nbsp;&nbsp;</span>Изменение типов данных</a></span></li><li><span><a href=\"#Обработка-дубликатов\" data-toc-modified-id=\"Обработка-дубликатов-2.5\"><span class=\"toc-item-num\">2.5&nbsp;&nbsp;</span>Обработка дубликатов</a></span></li><li><span><a href=\"#Категоризация-данных\" data-toc-modified-id=\"Категоризация-данных-2.6\"><span class=\"toc-item-num\">2.6&nbsp;&nbsp;</span>Категоризация данных</a></span></li></ul></li><li><span><a href=\"#Исследовательский-анализ\" data-toc-modified-id=\"Исследовательский-анализ-3\"><span class=\"toc-item-num\">3&nbsp;&nbsp;</span>Исследовательский анализ</a></span><ul class=\"toc-item\"><li><span><a href=\"#Зависимость-между-количеством-детей-и-возвратом-кредита-в-срок\" data-toc-modified-id=\"Зависимость-между-количеством-детей-и-возвратом-кредита-в-срок-3.1\"><span class=\"toc-item-num\">3.1&nbsp;&nbsp;</span>Зависимость между количеством детей и возвратом кредита в срок</a></span></li><li><span><a href=\"#Зависимость-между-семейным-положением-и-возвратом-кредита-в-срок\" data-toc-modified-id=\"Зависимость-между-семейным-положением-и-возвратом-кредита-в-срок-3.2\"><span class=\"toc-item-num\">3.2&nbsp;&nbsp;</span>Зависимость между семейным положением и возвратом кредита в срок</a></span></li><li><span><a href=\"#Зависимость-между-уровнем-дохода-и-возвратом-кредита-в-срок\" data-toc-modified-id=\"Зависимость-между-уровнем-дохода-и-возвратом-кредита-в-срок-3.3\"><span class=\"toc-item-num\">3.3&nbsp;&nbsp;</span>Зависимость между уровнем дохода и возвратом кредита в срок</a></span></li><li><span><a href=\"#Выясним,-как-разные-цели-кредита-влияют-на-его-возврат-в-срок\" data-toc-modified-id=\"Выясним,-как-разные-цели-кредита-влияют-на-его-возврат-в-срок-3.4\"><span class=\"toc-item-num\">3.4&nbsp;&nbsp;</span>Выясним, как разные цели кредита влияют на его возврат в срок</a></span></li><li><span><a href=\"#Возможные-причины-появления-пропусков-в-исходных-данных\" data-toc-modified-id=\"Возможные-причины-появления-пропусков-в-исходных-данных-3.5\"><span class=\"toc-item-num\">3.5&nbsp;&nbsp;</span>Возможные причины появления пропусков в исходных данных</a></span></li><li><span><a href=\"#Почему-заполнить-пропуски-медианным-значением-—-лучшее-решение-для-количественных-переменных?\" data-toc-modified-id=\"Почему-заполнить-пропуски-медианным-значением-—-лучшее-решение-для-количественных-переменных?-3.6\"><span class=\"toc-item-num\">3.6&nbsp;&nbsp;</span>Почему заполнить пропуски медианным значением — лучшее решение для количественных переменных?</a></span></li></ul></li><li><span><a href=\"#Общий-вывод\" data-toc-modified-id=\"Общий-вывод-4\"><span class=\"toc-item-num\">4&nbsp;&nbsp;</span>Общий вывод</a></span></li></ul></div>"
   ]
  },
  {
   "cell_type": "markdown",
   "id": "9bded076",
   "metadata": {
    "id": "9bded076"
   },
   "source": [
    "# Исследование надёжности заёмщиков"
   ]
  },
  {
   "cell_type": "markdown",
   "id": "55171c05",
   "metadata": {
    "id": "55171c05"
   },
   "source": [
    "**Заказчик** — кредитный отдел банка."
   ]
  },
  {
   "cell_type": "markdown",
   "id": "53a6ef75",
   "metadata": {
    "id": "53a6ef75"
   },
   "source": [
    "**Цель исследования** — разобраться, влияет ли семейное положение и количество детей клиента на факт погашения кредита в срок."
   ]
  },
  {
   "cell_type": "markdown",
   "id": "54cc6f56-32fe-44b0-8b8b-87990d9d3ffd",
   "metadata": {},
   "source": [
    "**Задачи. Нужно установить:**\n",
    "* Есть ли зависимость между количеством детей и возвратом кредита в срок?\n",
    "* Есть ли зависимость между семейным положением и возвратом кредита в срок?\n",
    "* Есть ли зависимость между уровнем дохода и возвратом кредита в срок?\n",
    "* Как разные цели кредита влияют на его возврат в срок?"
   ]
  },
  {
   "cell_type": "markdown",
   "id": "4f07e9c5",
   "metadata": {
    "id": "4f07e9c5"
   },
   "source": [
    "**Входные данные от банка** — файл `data.csv` со статистикой о платёжеспособности клиентов."
   ]
  },
  {
   "cell_type": "markdown",
   "id": "5cab7ee4",
   "metadata": {
    "id": "5cab7ee4"
   },
   "source": [
    "**Результаты исследования** будут учтены при построении модели кредитного скоринга — специальной системы, которая оценивает способность потенциального заёмщика вернуть кредит банку."
   ]
  },
  {
   "cell_type": "markdown",
   "id": "aef8aee7-05ef-46af-8cd1-431cd6029d5a",
   "metadata": {},
   "source": [
    "<br>"
   ]
  },
  {
   "cell_type": "markdown",
   "id": "4ec55b82-076f-48bf-8b9c-90501433938d",
   "metadata": {},
   "source": [
    "<hr>"
   ]
  },
  {
   "cell_type": "markdown",
   "id": "f452ae84-5114-47a4-adf0-ed2503986505",
   "metadata": {},
   "source": [
    "<br>"
   ]
  },
  {
   "cell_type": "markdown",
   "id": "76682185",
   "metadata": {
    "id": "76682185"
   },
   "source": [
    "## Обзор данных"
   ]
  },
  {
   "cell_type": "markdown",
   "id": "7802dc05",
   "metadata": {
    "id": "7802dc05"
   },
   "source": [
    "Импортируем библиотеку и прочитаем данные из папки `github` репозитория."
   ]
  },
  {
   "cell_type": "code",
   "execution_count": 1,
   "id": "db76bacb",
   "metadata": {
    "id": "db76bacb"
   },
   "outputs": [],
   "source": [
    "# импортируем библиотеку pandas\n",
    "import pandas as pd"
   ]
  },
  {
   "cell_type": "code",
   "execution_count": 2,
   "id": "9c9e05bc",
   "metadata": {
    "id": "9c9e05bc"
   },
   "outputs": [],
   "source": [
    "# прочитаем csv-файл\n",
    "df = pd.read_csv('https://raw.githubusercontent.com/SweexFox/portfolio-projects/main/python-projects/2-borrowers-reliability/data.csv')"
   ]
  },
  {
   "cell_type": "markdown",
   "id": "9882e3b5-6671-4fca-9888-b6c109d865a9",
   "metadata": {},
   "source": [
    "<br>"
   ]
  },
  {
   "cell_type": "markdown",
   "id": "8961f11a",
   "metadata": {
    "id": "8961f11a"
   },
   "source": [
    "Выведем первые 20 строк датафрейма `df` на экран."
   ]
  },
  {
   "cell_type": "code",
   "execution_count": 3,
   "id": "10ed06d1",
   "metadata": {
    "colab": {
     "base_uri": "https://localhost:8080/",
     "height": 677
    },
    "id": "10ed06d1",
    "outputId": "25dae3f1-c75a-40a3-a54e-db277e409b9c"
   },
   "outputs": [
    {
     "data": {
      "text/html": [
       "<div>\n",
       "<style scoped>\n",
       "    .dataframe tbody tr th:only-of-type {\n",
       "        vertical-align: middle;\n",
       "    }\n",
       "\n",
       "    .dataframe tbody tr th {\n",
       "        vertical-align: top;\n",
       "    }\n",
       "\n",
       "    .dataframe thead th {\n",
       "        text-align: right;\n",
       "    }\n",
       "</style>\n",
       "<table border=\"1\" class=\"dataframe\">\n",
       "  <thead>\n",
       "    <tr style=\"text-align: right;\">\n",
       "      <th></th>\n",
       "      <th>children</th>\n",
       "      <th>days_employed</th>\n",
       "      <th>dob_years</th>\n",
       "      <th>education</th>\n",
       "      <th>education_id</th>\n",
       "      <th>family_status</th>\n",
       "      <th>family_status_id</th>\n",
       "      <th>gender</th>\n",
       "      <th>income_type</th>\n",
       "      <th>debt</th>\n",
       "      <th>total_income</th>\n",
       "      <th>purpose</th>\n",
       "    </tr>\n",
       "  </thead>\n",
       "  <tbody>\n",
       "    <tr>\n",
       "      <th>0</th>\n",
       "      <td>1</td>\n",
       "      <td>-8437.673028</td>\n",
       "      <td>42</td>\n",
       "      <td>высшее</td>\n",
       "      <td>0</td>\n",
       "      <td>женат / замужем</td>\n",
       "      <td>0</td>\n",
       "      <td>F</td>\n",
       "      <td>сотрудник</td>\n",
       "      <td>0</td>\n",
       "      <td>253875.639453</td>\n",
       "      <td>покупка жилья</td>\n",
       "    </tr>\n",
       "    <tr>\n",
       "      <th>1</th>\n",
       "      <td>1</td>\n",
       "      <td>-4024.803754</td>\n",
       "      <td>36</td>\n",
       "      <td>среднее</td>\n",
       "      <td>1</td>\n",
       "      <td>женат / замужем</td>\n",
       "      <td>0</td>\n",
       "      <td>F</td>\n",
       "      <td>сотрудник</td>\n",
       "      <td>0</td>\n",
       "      <td>112080.014102</td>\n",
       "      <td>приобретение автомобиля</td>\n",
       "    </tr>\n",
       "    <tr>\n",
       "      <th>2</th>\n",
       "      <td>0</td>\n",
       "      <td>-5623.422610</td>\n",
       "      <td>33</td>\n",
       "      <td>Среднее</td>\n",
       "      <td>1</td>\n",
       "      <td>женат / замужем</td>\n",
       "      <td>0</td>\n",
       "      <td>M</td>\n",
       "      <td>сотрудник</td>\n",
       "      <td>0</td>\n",
       "      <td>145885.952297</td>\n",
       "      <td>покупка жилья</td>\n",
       "    </tr>\n",
       "    <tr>\n",
       "      <th>3</th>\n",
       "      <td>3</td>\n",
       "      <td>-4124.747207</td>\n",
       "      <td>32</td>\n",
       "      <td>среднее</td>\n",
       "      <td>1</td>\n",
       "      <td>женат / замужем</td>\n",
       "      <td>0</td>\n",
       "      <td>M</td>\n",
       "      <td>сотрудник</td>\n",
       "      <td>0</td>\n",
       "      <td>267628.550329</td>\n",
       "      <td>дополнительное образование</td>\n",
       "    </tr>\n",
       "    <tr>\n",
       "      <th>4</th>\n",
       "      <td>0</td>\n",
       "      <td>340266.072047</td>\n",
       "      <td>53</td>\n",
       "      <td>среднее</td>\n",
       "      <td>1</td>\n",
       "      <td>гражданский брак</td>\n",
       "      <td>1</td>\n",
       "      <td>F</td>\n",
       "      <td>пенсионер</td>\n",
       "      <td>0</td>\n",
       "      <td>158616.077870</td>\n",
       "      <td>сыграть свадьбу</td>\n",
       "    </tr>\n",
       "    <tr>\n",
       "      <th>5</th>\n",
       "      <td>0</td>\n",
       "      <td>-926.185831</td>\n",
       "      <td>27</td>\n",
       "      <td>высшее</td>\n",
       "      <td>0</td>\n",
       "      <td>гражданский брак</td>\n",
       "      <td>1</td>\n",
       "      <td>M</td>\n",
       "      <td>компаньон</td>\n",
       "      <td>0</td>\n",
       "      <td>255763.565419</td>\n",
       "      <td>покупка жилья</td>\n",
       "    </tr>\n",
       "    <tr>\n",
       "      <th>6</th>\n",
       "      <td>0</td>\n",
       "      <td>-2879.202052</td>\n",
       "      <td>43</td>\n",
       "      <td>высшее</td>\n",
       "      <td>0</td>\n",
       "      <td>женат / замужем</td>\n",
       "      <td>0</td>\n",
       "      <td>F</td>\n",
       "      <td>компаньон</td>\n",
       "      <td>0</td>\n",
       "      <td>240525.971920</td>\n",
       "      <td>операции с жильем</td>\n",
       "    </tr>\n",
       "    <tr>\n",
       "      <th>7</th>\n",
       "      <td>0</td>\n",
       "      <td>-152.779569</td>\n",
       "      <td>50</td>\n",
       "      <td>СРЕДНЕЕ</td>\n",
       "      <td>1</td>\n",
       "      <td>женат / замужем</td>\n",
       "      <td>0</td>\n",
       "      <td>M</td>\n",
       "      <td>сотрудник</td>\n",
       "      <td>0</td>\n",
       "      <td>135823.934197</td>\n",
       "      <td>образование</td>\n",
       "    </tr>\n",
       "    <tr>\n",
       "      <th>8</th>\n",
       "      <td>2</td>\n",
       "      <td>-6929.865299</td>\n",
       "      <td>35</td>\n",
       "      <td>ВЫСШЕЕ</td>\n",
       "      <td>0</td>\n",
       "      <td>гражданский брак</td>\n",
       "      <td>1</td>\n",
       "      <td>F</td>\n",
       "      <td>сотрудник</td>\n",
       "      <td>0</td>\n",
       "      <td>95856.832424</td>\n",
       "      <td>на проведение свадьбы</td>\n",
       "    </tr>\n",
       "    <tr>\n",
       "      <th>9</th>\n",
       "      <td>0</td>\n",
       "      <td>-2188.756445</td>\n",
       "      <td>41</td>\n",
       "      <td>среднее</td>\n",
       "      <td>1</td>\n",
       "      <td>женат / замужем</td>\n",
       "      <td>0</td>\n",
       "      <td>M</td>\n",
       "      <td>сотрудник</td>\n",
       "      <td>0</td>\n",
       "      <td>144425.938277</td>\n",
       "      <td>покупка жилья для семьи</td>\n",
       "    </tr>\n",
       "    <tr>\n",
       "      <th>10</th>\n",
       "      <td>2</td>\n",
       "      <td>-4171.483647</td>\n",
       "      <td>36</td>\n",
       "      <td>высшее</td>\n",
       "      <td>0</td>\n",
       "      <td>женат / замужем</td>\n",
       "      <td>0</td>\n",
       "      <td>M</td>\n",
       "      <td>компаньон</td>\n",
       "      <td>0</td>\n",
       "      <td>113943.491460</td>\n",
       "      <td>покупка недвижимости</td>\n",
       "    </tr>\n",
       "    <tr>\n",
       "      <th>11</th>\n",
       "      <td>0</td>\n",
       "      <td>-792.701887</td>\n",
       "      <td>40</td>\n",
       "      <td>среднее</td>\n",
       "      <td>1</td>\n",
       "      <td>женат / замужем</td>\n",
       "      <td>0</td>\n",
       "      <td>F</td>\n",
       "      <td>сотрудник</td>\n",
       "      <td>0</td>\n",
       "      <td>77069.234271</td>\n",
       "      <td>покупка коммерческой недвижимости</td>\n",
       "    </tr>\n",
       "    <tr>\n",
       "      <th>12</th>\n",
       "      <td>0</td>\n",
       "      <td>NaN</td>\n",
       "      <td>65</td>\n",
       "      <td>среднее</td>\n",
       "      <td>1</td>\n",
       "      <td>гражданский брак</td>\n",
       "      <td>1</td>\n",
       "      <td>M</td>\n",
       "      <td>пенсионер</td>\n",
       "      <td>0</td>\n",
       "      <td>NaN</td>\n",
       "      <td>сыграть свадьбу</td>\n",
       "    </tr>\n",
       "    <tr>\n",
       "      <th>13</th>\n",
       "      <td>0</td>\n",
       "      <td>-1846.641941</td>\n",
       "      <td>54</td>\n",
       "      <td>неоконченное высшее</td>\n",
       "      <td>2</td>\n",
       "      <td>женат / замужем</td>\n",
       "      <td>0</td>\n",
       "      <td>F</td>\n",
       "      <td>сотрудник</td>\n",
       "      <td>0</td>\n",
       "      <td>130458.228857</td>\n",
       "      <td>приобретение автомобиля</td>\n",
       "    </tr>\n",
       "    <tr>\n",
       "      <th>14</th>\n",
       "      <td>0</td>\n",
       "      <td>-1844.956182</td>\n",
       "      <td>56</td>\n",
       "      <td>высшее</td>\n",
       "      <td>0</td>\n",
       "      <td>гражданский брак</td>\n",
       "      <td>1</td>\n",
       "      <td>F</td>\n",
       "      <td>компаньон</td>\n",
       "      <td>1</td>\n",
       "      <td>165127.911772</td>\n",
       "      <td>покупка жилой недвижимости</td>\n",
       "    </tr>\n",
       "    <tr>\n",
       "      <th>15</th>\n",
       "      <td>1</td>\n",
       "      <td>-972.364419</td>\n",
       "      <td>26</td>\n",
       "      <td>среднее</td>\n",
       "      <td>1</td>\n",
       "      <td>женат / замужем</td>\n",
       "      <td>0</td>\n",
       "      <td>F</td>\n",
       "      <td>сотрудник</td>\n",
       "      <td>0</td>\n",
       "      <td>116820.904450</td>\n",
       "      <td>строительство собственной недвижимости</td>\n",
       "    </tr>\n",
       "    <tr>\n",
       "      <th>16</th>\n",
       "      <td>0</td>\n",
       "      <td>-1719.934226</td>\n",
       "      <td>35</td>\n",
       "      <td>среднее</td>\n",
       "      <td>1</td>\n",
       "      <td>женат / замужем</td>\n",
       "      <td>0</td>\n",
       "      <td>F</td>\n",
       "      <td>сотрудник</td>\n",
       "      <td>0</td>\n",
       "      <td>289202.704229</td>\n",
       "      <td>недвижимость</td>\n",
       "    </tr>\n",
       "    <tr>\n",
       "      <th>17</th>\n",
       "      <td>0</td>\n",
       "      <td>-2369.999720</td>\n",
       "      <td>33</td>\n",
       "      <td>высшее</td>\n",
       "      <td>0</td>\n",
       "      <td>гражданский брак</td>\n",
       "      <td>1</td>\n",
       "      <td>M</td>\n",
       "      <td>сотрудник</td>\n",
       "      <td>0</td>\n",
       "      <td>90410.586745</td>\n",
       "      <td>строительство недвижимости</td>\n",
       "    </tr>\n",
       "    <tr>\n",
       "      <th>18</th>\n",
       "      <td>0</td>\n",
       "      <td>400281.136913</td>\n",
       "      <td>53</td>\n",
       "      <td>среднее</td>\n",
       "      <td>1</td>\n",
       "      <td>вдовец / вдова</td>\n",
       "      <td>2</td>\n",
       "      <td>F</td>\n",
       "      <td>пенсионер</td>\n",
       "      <td>0</td>\n",
       "      <td>56823.777243</td>\n",
       "      <td>на покупку подержанного автомобиля</td>\n",
       "    </tr>\n",
       "    <tr>\n",
       "      <th>19</th>\n",
       "      <td>0</td>\n",
       "      <td>-10038.818549</td>\n",
       "      <td>48</td>\n",
       "      <td>СРЕДНЕЕ</td>\n",
       "      <td>1</td>\n",
       "      <td>в разводе</td>\n",
       "      <td>3</td>\n",
       "      <td>F</td>\n",
       "      <td>сотрудник</td>\n",
       "      <td>0</td>\n",
       "      <td>242831.107982</td>\n",
       "      <td>на покупку своего автомобиля</td>\n",
       "    </tr>\n",
       "  </tbody>\n",
       "</table>\n",
       "</div>"
      ],
      "text/plain": [
       "    children  days_employed  dob_years            education  education_id  \\\n",
       "0          1   -8437.673028         42               высшее             0   \n",
       "1          1   -4024.803754         36              среднее             1   \n",
       "2          0   -5623.422610         33              Среднее             1   \n",
       "3          3   -4124.747207         32              среднее             1   \n",
       "4          0  340266.072047         53              среднее             1   \n",
       "5          0    -926.185831         27               высшее             0   \n",
       "6          0   -2879.202052         43               высшее             0   \n",
       "7          0    -152.779569         50              СРЕДНЕЕ             1   \n",
       "8          2   -6929.865299         35               ВЫСШЕЕ             0   \n",
       "9          0   -2188.756445         41              среднее             1   \n",
       "10         2   -4171.483647         36               высшее             0   \n",
       "11         0    -792.701887         40              среднее             1   \n",
       "12         0            NaN         65              среднее             1   \n",
       "13         0   -1846.641941         54  неоконченное высшее             2   \n",
       "14         0   -1844.956182         56               высшее             0   \n",
       "15         1    -972.364419         26              среднее             1   \n",
       "16         0   -1719.934226         35              среднее             1   \n",
       "17         0   -2369.999720         33               высшее             0   \n",
       "18         0  400281.136913         53              среднее             1   \n",
       "19         0  -10038.818549         48              СРЕДНЕЕ             1   \n",
       "\n",
       "       family_status  family_status_id gender income_type  debt  \\\n",
       "0    женат / замужем                 0      F   сотрудник     0   \n",
       "1    женат / замужем                 0      F   сотрудник     0   \n",
       "2    женат / замужем                 0      M   сотрудник     0   \n",
       "3    женат / замужем                 0      M   сотрудник     0   \n",
       "4   гражданский брак                 1      F   пенсионер     0   \n",
       "5   гражданский брак                 1      M   компаньон     0   \n",
       "6    женат / замужем                 0      F   компаньон     0   \n",
       "7    женат / замужем                 0      M   сотрудник     0   \n",
       "8   гражданский брак                 1      F   сотрудник     0   \n",
       "9    женат / замужем                 0      M   сотрудник     0   \n",
       "10   женат / замужем                 0      M   компаньон     0   \n",
       "11   женат / замужем                 0      F   сотрудник     0   \n",
       "12  гражданский брак                 1      M   пенсионер     0   \n",
       "13   женат / замужем                 0      F   сотрудник     0   \n",
       "14  гражданский брак                 1      F   компаньон     1   \n",
       "15   женат / замужем                 0      F   сотрудник     0   \n",
       "16   женат / замужем                 0      F   сотрудник     0   \n",
       "17  гражданский брак                 1      M   сотрудник     0   \n",
       "18    вдовец / вдова                 2      F   пенсионер     0   \n",
       "19         в разводе                 3      F   сотрудник     0   \n",
       "\n",
       "     total_income                                 purpose  \n",
       "0   253875.639453                           покупка жилья  \n",
       "1   112080.014102                 приобретение автомобиля  \n",
       "2   145885.952297                           покупка жилья  \n",
       "3   267628.550329              дополнительное образование  \n",
       "4   158616.077870                         сыграть свадьбу  \n",
       "5   255763.565419                           покупка жилья  \n",
       "6   240525.971920                       операции с жильем  \n",
       "7   135823.934197                             образование  \n",
       "8    95856.832424                   на проведение свадьбы  \n",
       "9   144425.938277                 покупка жилья для семьи  \n",
       "10  113943.491460                    покупка недвижимости  \n",
       "11   77069.234271       покупка коммерческой недвижимости  \n",
       "12            NaN                         сыграть свадьбу  \n",
       "13  130458.228857                 приобретение автомобиля  \n",
       "14  165127.911772              покупка жилой недвижимости  \n",
       "15  116820.904450  строительство собственной недвижимости  \n",
       "16  289202.704229                            недвижимость  \n",
       "17   90410.586745              строительство недвижимости  \n",
       "18   56823.777243      на покупку подержанного автомобиля  \n",
       "19  242831.107982            на покупку своего автомобиля  "
      ]
     },
     "execution_count": 3,
     "metadata": {},
     "output_type": "execute_result"
    }
   ],
   "source": [
    "# метод head()\n",
    "df.head(20)"
   ]
  },
  {
   "cell_type": "markdown",
   "id": "ee35103b",
   "metadata": {
    "id": "ee35103b"
   },
   "source": [
    "В глаза бросаются аномальные значения в колонке `days_employed`, выраженные отрицательными значениями. Нужно будет это устранить.\n",
    "\n",
    "Также видны неявные дубликаты в колонне `education`, значения приведены в разном регистре."
   ]
  },
  {
   "cell_type": "markdown",
   "id": "59a59fed-d4cd-4999-9d8d-bafa7c46fcc7",
   "metadata": {},
   "source": [
    "<br>"
   ]
  },
  {
   "cell_type": "markdown",
   "id": "79e4016c",
   "metadata": {
    "id": "79e4016c"
   },
   "source": [
    "Выведем основную информацию о датафрейме."
   ]
  },
  {
   "cell_type": "code",
   "execution_count": 4,
   "id": "e85f4e7e",
   "metadata": {
    "colab": {
     "base_uri": "https://localhost:8080/"
    },
    "id": "e85f4e7e",
    "outputId": "4d93c4d3-c267-4ac7-f383-0b9b83304a4c"
   },
   "outputs": [
    {
     "name": "stdout",
     "output_type": "stream",
     "text": [
      "<class 'pandas.core.frame.DataFrame'>\n",
      "RangeIndex: 21525 entries, 0 to 21524\n",
      "Data columns (total 12 columns):\n",
      " #   Column            Non-Null Count  Dtype  \n",
      "---  ------            --------------  -----  \n",
      " 0   children          21525 non-null  int64  \n",
      " 1   days_employed     19351 non-null  float64\n",
      " 2   dob_years         21525 non-null  int64  \n",
      " 3   education         21525 non-null  object \n",
      " 4   education_id      21525 non-null  int64  \n",
      " 5   family_status     21525 non-null  object \n",
      " 6   family_status_id  21525 non-null  int64  \n",
      " 7   gender            21525 non-null  object \n",
      " 8   income_type       21525 non-null  object \n",
      " 9   debt              21525 non-null  int64  \n",
      " 10  total_income      19351 non-null  float64\n",
      " 11  purpose           21525 non-null  object \n",
      "dtypes: float64(2), int64(5), object(5)\n",
      "memory usage: 2.0+ MB\n"
     ]
    }
   ],
   "source": [
    "# метод info()\n",
    "df.info()"
   ]
  },
  {
   "cell_type": "markdown",
   "id": "8b9c01ab",
   "metadata": {
    "id": "8b9c01ab"
   },
   "source": [
    "Имеем 12 колонок с разными типами данных и 21.525 строк.\n",
    "\n",
    "Видны пропуски в `days_employed` и `total_income`.\n",
    "\n",
    "Также в этих колонках видим неверный тип данных."
   ]
  },
  {
   "cell_type": "markdown",
   "id": "f4c3dcbd",
   "metadata": {
    "id": "f4c3dcbd"
   },
   "source": [
    "**Описание колонок:**\n",
    "\n",
    "* `children` — количество детей в семье;\n",
    "* `days_employed` — общий трудовой стаж в днях;\n",
    "* `dob_years` — возраст клиента в годах;\n",
    "* `education` — уровень образования клиента;\n",
    "* `education_id` — идентификатор уровня образования;\n",
    "* `family_status` — семейное положение;\n",
    "* `family_status_id` — идентификатор семейного положения;\n",
    "* `gender` — пол клиента;\n",
    "* `income_type` — тип занятости;\n",
    "* `debt` — имел ли задолженность по возврату кредитов. `0` — нет, `1` — да;\n",
    "* `total_income` — ежемесячный доход;\n",
    "* `purpose` — цель получения кредита"
   ]
  },
  {
   "cell_type": "markdown",
   "id": "3da7cbc7-2f8f-4553-973f-fa793a18e7ca",
   "metadata": {},
   "source": [
    "<br>"
   ]
  },
  {
   "cell_type": "markdown",
   "id": "90001680-9d5f-489c-9e35-babb915cbbf3",
   "metadata": {
    "tags": []
   },
   "source": [
    "<hr>"
   ]
  },
  {
   "cell_type": "markdown",
   "id": "7584f54c-88b0-4f56-bf16-04c69f660c79",
   "metadata": {},
   "source": [
    "<br>"
   ]
  },
  {
   "cell_type": "markdown",
   "id": "c02ee859",
   "metadata": {
    "id": "c02ee859"
   },
   "source": [
    "## Предобработка данных"
   ]
  },
  {
   "cell_type": "markdown",
   "id": "69c649df",
   "metadata": {
    "id": "69c649df"
   },
   "source": [
    "### Удаление пропусков"
   ]
  },
  {
   "cell_type": "markdown",
   "id": "98fae0f0",
   "metadata": {
    "id": "98fae0f0"
   },
   "source": [
    "Выведем количество пропущенных значений для каждой колонны."
   ]
  },
  {
   "cell_type": "code",
   "execution_count": 5,
   "id": "44f67f89",
   "metadata": {
    "colab": {
     "base_uri": "https://localhost:8080/"
    },
    "id": "44f67f89",
    "outputId": "86306fe3-c7a9-40e9-c1e1-29af634e9682"
   },
   "outputs": [
    {
     "data": {
      "text/plain": [
       "children               0\n",
       "days_employed       2174\n",
       "dob_years              0\n",
       "education              0\n",
       "education_id           0\n",
       "family_status          0\n",
       "family_status_id       0\n",
       "gender                 0\n",
       "income_type            0\n",
       "debt                   0\n",
       "total_income        2174\n",
       "purpose                0\n",
       "dtype: int64"
      ]
     },
     "execution_count": 5,
     "metadata": {},
     "output_type": "execute_result"
    }
   ],
   "source": [
    "df.isna().sum()"
   ]
  },
  {
   "cell_type": "markdown",
   "id": "a112c742",
   "metadata": {
    "id": "a112c742"
   },
   "source": [
    "В двух колоннах есть пропущенные значения: `days_employed` — общий трудовой стаж в днях, `total_income` — ежемесячный доход."
   ]
  },
  {
   "cell_type": "markdown",
   "id": "78a33ef5-ca18-4aec-ba09-af8dcad19eca",
   "metadata": {},
   "source": [
    "<br>"
   ]
  },
  {
   "cell_type": "markdown",
   "id": "f5b246b7",
   "metadata": {
    "id": "f5b246b7"
   },
   "source": [
    "На сумму дохода (`total_income`) сильнее всего влияет тип занятости (`income_type`), поэтому заполнить пропуски в этой колонке нужно медианным значением по каждому типу из колонки `income_type`. Например, у человека с типом занятости `сотрудник` пропуск в колонне `total_income` должен быть заполнен медианным доходом среди всех записей с тем же типом."
   ]
  },
  {
   "cell_type": "markdown",
   "id": "3b7408e5",
   "metadata": {
    "id": "3b7408e5"
   },
   "source": [
    "Заполним пропуски в колонке `total_income` в зависимости от значения в колонке `income_type`."
   ]
  },
  {
   "cell_type": "code",
   "execution_count": 6,
   "id": "3d4bf2c2-262d-4aa0-aca5-ccabc5bc7084",
   "metadata": {},
   "outputs": [],
   "source": [
    "for i in df['income_type'].unique():\n",
    "    df.loc[(df['income_type'] == i) & (df['total_income'].isna()), 'total_income'] = \\\n",
    "    df.loc[df['income_type'] == i, 'total_income'].median()"
   ]
  },
  {
   "cell_type": "markdown",
   "id": "efbf0b16-8abd-4328-b5ee-40192acf8cdf",
   "metadata": {},
   "source": [
    "<br>"
   ]
  },
  {
   "cell_type": "markdown",
   "id": "7dd85783-70e3-4b13-ac27-f18b08345ed8",
   "metadata": {},
   "source": [
    "<br>"
   ]
  },
  {
   "cell_type": "markdown",
   "id": "8227b94c",
   "metadata": {
    "id": "8227b94c"
   },
   "source": [
    "### Обработка аномальных значений"
   ]
  },
  {
   "cell_type": "markdown",
   "id": "c42372c8",
   "metadata": {
    "id": "c42372c8"
   },
   "source": [
    "Как мы помним, есть аномалии в виде отрицательных значений в количестве дней трудового стажа колонны `days_employed`.\n",
    "\n",
    "Обработаем значения в этой колонке."
   ]
  },
  {
   "cell_type": "code",
   "execution_count": 7,
   "id": "a721102c",
   "metadata": {
    "id": "a721102c"
   },
   "outputs": [],
   "source": [
    "# заменим все отрицательные значения положительными с помощью метода abs()\n",
    "df['days_employed'] = df['days_employed'].abs()"
   ]
  },
  {
   "cell_type": "markdown",
   "id": "c2aa991c-164a-4415-952d-8da4c1bcacf0",
   "metadata": {},
   "source": [
    "<br>"
   ]
  },
  {
   "cell_type": "markdown",
   "id": "TdPT3j-Ud8I9",
   "metadata": {
    "id": "TdPT3j-Ud8I9"
   },
   "source": [
    "Для каждого типа занятости выведем медианное значение трудового стажа `days_employed` в днях."
   ]
  },
  {
   "cell_type": "code",
   "execution_count": 8,
   "id": "PKNwXL9zeIId",
   "metadata": {
    "colab": {
     "base_uri": "https://localhost:8080/"
    },
    "id": "PKNwXL9zeIId",
    "outputId": "0420fcc2-fb93-4f77-f769-685212d5303e"
   },
   "outputs": [
    {
     "data": {
      "text/plain": [
       "income_type\n",
       "безработный        366413.652744\n",
       "в декрете            3296.759962\n",
       "госслужащий          2689.368353\n",
       "компаньон            1547.382223\n",
       "пенсионер          365213.306266\n",
       "предприниматель       520.848083\n",
       "сотрудник            1574.202821\n",
       "студент               578.751554\n",
       "Name: days_employed, dtype: float64"
      ]
     },
     "execution_count": 8,
     "metadata": {},
     "output_type": "execute_result"
    }
   ],
   "source": [
    "df.groupby('income_type')['days_employed'].median()"
   ]
  },
  {
   "cell_type": "markdown",
   "id": "vkADMnMqev1Q",
   "metadata": {
    "id": "vkADMnMqev1Q"
   },
   "source": [
    "У двух типов (безработные и пенсионеры) получаются аномально большие значения. Исправить такие значения сложно, поэтому оставим их как есть. Тем более эти колонны не понадобятся нам для исследования."
   ]
  },
  {
   "cell_type": "markdown",
   "id": "40b68591-052b-404e-b2a5-29117958d83e",
   "metadata": {},
   "source": [
    "<br>"
   ]
  },
  {
   "cell_type": "markdown",
   "id": "c64nv48ciUgn",
   "metadata": {
    "id": "c64nv48ciUgn"
   },
   "source": [
    "Выведем перечень уникальных значений колонны `children`."
   ]
  },
  {
   "cell_type": "code",
   "execution_count": 9,
   "id": "gjRfkMGUeZwO",
   "metadata": {
    "colab": {
     "base_uri": "https://localhost:8080/"
    },
    "id": "gjRfkMGUeZwO",
    "outputId": "a7328835-981c-4448-c092-9930d026ce2f"
   },
   "outputs": [
    {
     "data": {
      "text/plain": [
       "array([ 1,  0,  3,  2, -1,  4, 20,  5], dtype=int64)"
      ]
     },
     "execution_count": 9,
     "metadata": {},
     "output_type": "execute_result"
    }
   ],
   "source": [
    "df['children'].unique()"
   ]
  },
  {
   "cell_type": "markdown",
   "id": "7hFPNF0LjCLQ",
   "metadata": {
    "id": "7hFPNF0LjCLQ"
   },
   "source": [
    "В колонне `children` есть два аномальных значения (-1 и 20)."
   ]
  },
  {
   "cell_type": "markdown",
   "id": "7ecb4cc9-c200-4119-a87f-2cf6a15cac42",
   "metadata": {},
   "source": [
    "<br>"
   ]
  },
  {
   "cell_type": "markdown",
   "id": "BFIWKZU7jLth",
   "metadata": {
    "id": "BFIWKZU7jLth"
   },
   "source": [
    "Удалим из датафрейма строки, в которых встречаются такие аномальные значения."
   ]
  },
  {
   "cell_type": "code",
   "execution_count": 10,
   "id": "SdqQoQXviZsG",
   "metadata": {
    "id": "SdqQoQXviZsG",
    "tags": []
   },
   "outputs": [],
   "source": [
    "df = df[(df['children'] != -1) & (df['children'] != 20)]"
   ]
  },
  {
   "cell_type": "markdown",
   "id": "4b2c1fc9-da6d-406d-82f8-6136a4ca9cc5",
   "metadata": {},
   "source": [
    "<br>"
   ]
  },
  {
   "cell_type": "markdown",
   "id": "n9HptmuXpRBD",
   "metadata": {
    "id": "n9HptmuXpRBD"
   },
   "source": [
    "Убедимся, что артефакты удалены."
   ]
  },
  {
   "cell_type": "code",
   "execution_count": 11,
   "id": "7hsPzJedpVl-",
   "metadata": {
    "colab": {
     "base_uri": "https://localhost:8080/"
    },
    "id": "7hsPzJedpVl-",
    "outputId": "526137e0-fa86-42ef-f817-5b7c80b12b61"
   },
   "outputs": [
    {
     "data": {
      "text/plain": [
       "array([1, 0, 3, 2, 4, 5], dtype=int64)"
      ]
     },
     "execution_count": 11,
     "metadata": {},
     "output_type": "execute_result"
    }
   ],
   "source": [
    "df['children'].unique()"
   ]
  },
  {
   "cell_type": "markdown",
   "id": "42953534-b240-4fe1-8fe6-42b9b0502535",
   "metadata": {},
   "source": [
    "<br>"
   ]
  },
  {
   "cell_type": "markdown",
   "id": "df19313e-76dc-465d-bf59-75f78f024a72",
   "metadata": {},
   "source": [
    "<br>"
   ]
  },
  {
   "cell_type": "markdown",
   "id": "5v0XwcdTqZam",
   "metadata": {
    "id": "5v0XwcdTqZam"
   },
   "source": [
    "### Удаление пропусков (продолжение)"
   ]
  },
  {
   "cell_type": "markdown",
   "id": "aajM7IArrTva",
   "metadata": {
    "id": "aajM7IArrTva"
   },
   "source": [
    "Теперь заполним пропуски в столбце `days_employed` медианными значениями по каждому типу занятости `income_type`."
   ]
  },
  {
   "cell_type": "code",
   "execution_count": 12,
   "id": "jixyxQR__Ydo",
   "metadata": {
    "id": "jixyxQR__Ydo"
   },
   "outputs": [],
   "source": [
    "for i in df['income_type'].unique():\n",
    "    df.loc[(df['income_type'] == i) & (df['days_employed'].isna()), 'days_employed'] = \\\n",
    "    df.loc[df['income_type'] == i, 'days_employed'].median()"
   ]
  },
  {
   "cell_type": "markdown",
   "id": "50eb8ad8-8d4a-4fc7-9ded-90be016cc554",
   "metadata": {},
   "source": [
    "<br>"
   ]
  },
  {
   "cell_type": "markdown",
   "id": "UTJHX0FytTA1",
   "metadata": {
    "id": "UTJHX0FytTA1"
   },
   "source": [
    "Убедимся, что все пропуски заполнены. Ещё раз выведем количество пропущенных значений для каждой колонны."
   ]
  },
  {
   "cell_type": "code",
   "execution_count": 13,
   "id": "mDhRr0hLpaz_",
   "metadata": {
    "colab": {
     "base_uri": "https://localhost:8080/"
    },
    "id": "mDhRr0hLpaz_",
    "outputId": "c6c830a8-4936-4735-c137-9371ffb6a5df"
   },
   "outputs": [
    {
     "data": {
      "text/plain": [
       "children            0\n",
       "days_employed       0\n",
       "dob_years           0\n",
       "education           0\n",
       "education_id        0\n",
       "family_status       0\n",
       "family_status_id    0\n",
       "gender              0\n",
       "income_type         0\n",
       "debt                0\n",
       "total_income        0\n",
       "purpose             0\n",
       "dtype: int64"
      ]
     },
     "execution_count": 13,
     "metadata": {},
     "output_type": "execute_result"
    }
   ],
   "source": [
    "df.isna().sum()"
   ]
  },
  {
   "cell_type": "markdown",
   "id": "f8fc8425-bb4c-4136-8790-9950637ceb68",
   "metadata": {},
   "source": [
    "<br>"
   ]
  },
  {
   "cell_type": "markdown",
   "id": "f54b3306-f838-4b79-8155-02278717d442",
   "metadata": {},
   "source": [
    "<br>"
   ]
  },
  {
   "cell_type": "markdown",
   "id": "O-F6PaKivO8U",
   "metadata": {
    "id": "O-F6PaKivO8U"
   },
   "source": [
    "### Изменение типов данных"
   ]
  },
  {
   "cell_type": "markdown",
   "id": "LVqY-vsIvYw8",
   "metadata": {
    "id": "LVqY-vsIvYw8"
   },
   "source": [
    "Заменим вещественный тип данных в колоннах `total_income` и `days_employed` на целочисленный."
   ]
  },
  {
   "cell_type": "code",
   "execution_count": 14,
   "id": "opuMvKI7vmIO",
   "metadata": {
    "id": "opuMvKI7vmIO"
   },
   "outputs": [],
   "source": [
    "# применим метод astype()\n",
    "df[['total_income', 'days_employed']] = df[['total_income', 'days_employed']].astype(int)"
   ]
  },
  {
   "cell_type": "markdown",
   "id": "c02051bd-9acc-4889-b9af-3d16b3715784",
   "metadata": {},
   "source": [
    "<br>"
   ]
  },
  {
   "cell_type": "markdown",
   "id": "7de2701f-8818-460f-b697-18fbc15ca9be",
   "metadata": {},
   "source": [
    "<br>"
   ]
  },
  {
   "cell_type": "markdown",
   "id": "4SGzmkNn2e_o",
   "metadata": {
    "id": "4SGzmkNn2e_o"
   },
   "source": [
    "### Обработка дубликатов"
   ]
  },
  {
   "cell_type": "markdown",
   "id": "AAnlw46z2wL8",
   "metadata": {
    "id": "AAnlw46z2wL8"
   },
   "source": [
    "Обработаем неявные дубликаты в колонне `education`. В ней есть одни и те же значения, но записанные по-разному: с использованием заглавных и строчных букв. Приведём их к нижнему регистру."
   ]
  },
  {
   "cell_type": "code",
   "execution_count": 15,
   "id": "r5tbKEhp3Bil",
   "metadata": {
    "id": "r5tbKEhp3Bil"
   },
   "outputs": [],
   "source": [
    "df['education'] = df['education'].str.lower()"
   ]
  },
  {
   "cell_type": "markdown",
   "id": "ce678839-7923-43d2-81c2-c0ba831fdd3b",
   "metadata": {},
   "source": [
    "<br>"
   ]
  },
  {
   "cell_type": "markdown",
   "id": "vzKy9y4x7ga_",
   "metadata": {
    "id": "vzKy9y4x7ga_"
   },
   "source": [
    "Выведем количество строк-дубликатов в данных."
   ]
  },
  {
   "cell_type": "code",
   "execution_count": 16,
   "id": "XJXhxfqo7ng9",
   "metadata": {
    "colab": {
     "base_uri": "https://localhost:8080/"
    },
    "id": "XJXhxfqo7ng9",
    "outputId": "ef770a6d-32bc-4b0f-c883-6e819ebe5f98"
   },
   "outputs": [
    {
     "data": {
      "text/plain": [
       "71"
      ]
     },
     "execution_count": 16,
     "metadata": {},
     "output_type": "execute_result"
    }
   ],
   "source": [
    "df.duplicated().sum()"
   ]
  },
  {
   "cell_type": "markdown",
   "id": "eebb677f",
   "metadata": {
    "id": "eebb677f"
   },
   "source": [
    "71 дубль. Удалим их."
   ]
  },
  {
   "cell_type": "code",
   "execution_count": 17,
   "id": "82881bdb",
   "metadata": {
    "id": "82881bdb"
   },
   "outputs": [],
   "source": [
    "df = df.drop_duplicates().reset_index(drop=True)"
   ]
  },
  {
   "cell_type": "markdown",
   "id": "62e4ed05-1166-4e99-ba3d-1682e90d3e8b",
   "metadata": {},
   "source": [
    "<br>"
   ]
  },
  {
   "cell_type": "markdown",
   "id": "d39b9c22-ec74-4d85-af7e-6fcd0a1ea6fd",
   "metadata": {},
   "source": [
    "<br>"
   ]
  },
  {
   "cell_type": "markdown",
   "id": "a578142a",
   "metadata": {
    "id": "a578142a"
   },
   "source": [
    "### Категоризация данных"
   ]
  },
  {
   "cell_type": "markdown",
   "id": "0a3227d5",
   "metadata": {
    "id": "0a3227d5"
   },
   "source": [
    "На основании диапазонов, указанных ниже, создадим в датафрейме `df` колонну `total_income_category` с категориями:\n",
    "\n",
    "- 0–30.000 — `'E'`;\n",
    "- 30.001–50.000 — `'D'`;\n",
    "- 50.001–200.000 — `'C'`;\n",
    "- 200.001–1.000.000 — `'B'`;\n",
    "- 1.000.001 и выше — `'A'`.\n",
    "\n",
    "\n",
    "Например, кредитополучателю с доходом 25.000 нужно назначить категорию `'E'`, а клиенту, получающему 235.000, — `'B'`."
   ]
  },
  {
   "cell_type": "code",
   "execution_count": 18,
   "id": "d2194572",
   "metadata": {
    "id": "d2194572"
   },
   "outputs": [],
   "source": [
    "# используем собственную функцию с именем `categorize_income()`\n",
    "def categorize_income(income):\n",
    "    if income <= 30000:\n",
    "        return 'E'\n",
    "    elif income <= 50000:\n",
    "        return 'D'\n",
    "    elif income <= 200000:\n",
    "        return 'C'\n",
    "    elif income <= 1000000:\n",
    "        return 'B'\n",
    "    else:\n",
    "        return 'A'"
   ]
  },
  {
   "cell_type": "code",
   "execution_count": 19,
   "id": "030e6d40",
   "metadata": {
    "id": "030e6d40"
   },
   "outputs": [],
   "source": [
    "# методом apply() применим функцию categorize_income к каждому элементу колонки total_income\n",
    "df['total_income_category'] = df['total_income'].apply(categorize_income)"
   ]
  },
  {
   "cell_type": "markdown",
   "id": "c4d78c4c-40be-4582-b8f1-4b4b9d1bcbfc",
   "metadata": {},
   "source": [
    "<br>"
   ]
  },
  {
   "cell_type": "markdown",
   "id": "07da9994",
   "metadata": {
    "id": "07da9994"
   },
   "source": [
    "Выведем на экран перечень уникальных целей взятия кредита из колонны `purpose`."
   ]
  },
  {
   "cell_type": "code",
   "execution_count": 20,
   "id": "1545e79e",
   "metadata": {
    "colab": {
     "base_uri": "https://localhost:8080/"
    },
    "id": "1545e79e",
    "outputId": "06c1f254-5488-4b87-c296-32815c2f286d"
   },
   "outputs": [
    {
     "data": {
      "text/plain": [
       "array(['автомобили', 'автомобиль', 'высшее образование',\n",
       "       'дополнительное образование', 'жилье',\n",
       "       'заняться высшим образованием', 'заняться образованием',\n",
       "       'на покупку автомобиля', 'на покупку подержанного автомобиля',\n",
       "       'на покупку своего автомобиля', 'на проведение свадьбы',\n",
       "       'недвижимость', 'образование', 'операции с жильем',\n",
       "       'операции с коммерческой недвижимостью',\n",
       "       'операции с недвижимостью', 'операции со своей недвижимостью',\n",
       "       'покупка жилой недвижимости', 'покупка жилья',\n",
       "       'покупка жилья для сдачи', 'покупка жилья для семьи',\n",
       "       'покупка коммерческой недвижимости', 'покупка недвижимости',\n",
       "       'покупка своего жилья', 'получение высшего образования',\n",
       "       'получение дополнительного образования', 'получение образования',\n",
       "       'приобретение автомобиля', 'профильное образование',\n",
       "       'ремонт жилью', 'свадьба', 'свой автомобиль',\n",
       "       'сделка с автомобилем', 'сделка с подержанным автомобилем',\n",
       "       'строительство жилой недвижимости', 'строительство недвижимости',\n",
       "       'строительство собственной недвижимости', 'сыграть свадьбу'],\n",
       "      dtype=object)"
      ]
     },
     "execution_count": 20,
     "metadata": {},
     "output_type": "execute_result"
    }
   ],
   "source": [
    "df['purpose'].sort_values().unique()"
   ]
  },
  {
   "cell_type": "markdown",
   "id": "a7bfbf37-592d-4782-9494-0c50ff4fe3bb",
   "metadata": {},
   "source": [
    "<br>"
   ]
  },
  {
   "cell_type": "markdown",
   "id": "ac35d4c4",
   "metadata": {
    "id": "ac35d4c4"
   },
   "source": [
    "Создадим функцию, которая на основании данных из колонны `purpose` сформирует новую колонну `purpose_category`, в которую войдут следующие категории:\n",
    "\n",
    "- `'операции с автомобилем'`,\n",
    "- `'операции с недвижимостью'`,\n",
    "- `'проведение свадьбы'`,\n",
    "- `'получение образования'`.\n",
    "\n",
    "Например, если в колонне `purpose` находится подстрока `'на покупку автомобиля'`, то в колонне `purpose_category` должна появиться строка `'операции с автомобилем'`.\n",
    "\n",
    "Для этого нужно изучить данные в столбце `purpose` и определить, какие подстроки помогут правильно определить категорию."
   ]
  },
  {
   "cell_type": "code",
   "execution_count": 21,
   "id": "b5325b14",
   "metadata": {
    "id": "b5325b14"
   },
   "outputs": [],
   "source": [
    "# используем собственную функцию с именем `categorize_purpose()`\n",
    "def categorize_purpose(purpose):\n",
    "    if 'автомоб' in purpose:\n",
    "        return 'операции с автомобилем'\n",
    "    elif 'недвиж' in purpose or 'жил' in purpose:\n",
    "        return 'операции с недвижимостью'\n",
    "    elif 'свадьб' in purpose:\n",
    "        return 'проведение свадьбы'\n",
    "    elif 'образов' in purpose:\n",
    "        return 'получение образования'\n",
    "    else:\n",
    "        return 'другое'"
   ]
  },
  {
   "cell_type": "code",
   "execution_count": 22,
   "id": "c2532de9",
   "metadata": {
    "id": "c2532de9"
   },
   "outputs": [],
   "source": [
    "# методом apply() применим функцию categorize_purpose к каждому элементу колонки purpose \n",
    "df['purpose_category'] = df['purpose'].apply(categorize_purpose)"
   ]
  },
  {
   "cell_type": "markdown",
   "id": "d28a2d4b-a418-4f69-bd3e-89800c362a85",
   "metadata": {},
   "source": [
    "<br>"
   ]
  },
  {
   "cell_type": "markdown",
   "id": "e122350a-39f7-461a-8e10-dabc93c053b2",
   "metadata": {},
   "source": [
    "<hr>"
   ]
  },
  {
   "cell_type": "markdown",
   "id": "46da7a45-6b47-4e48-8a02-aeea7aa52986",
   "metadata": {},
   "source": [
    "<br>"
   ]
  },
  {
   "cell_type": "markdown",
   "id": "piZ7RRuZE1yN",
   "metadata": {
    "id": "piZ7RRuZE1yN"
   },
   "source": [
    "## Исследовательский анализ"
   ]
  },
  {
   "cell_type": "markdown",
   "id": "n1MZAGnRE_VR",
   "metadata": {
    "id": "n1MZAGnRE_VR"
   },
   "source": [
    "### Зависимость между количеством детей и возвратом кредита в срок"
   ]
  },
  {
   "cell_type": "markdown",
   "id": "8a84a34f",
   "metadata": {},
   "source": [
    "Для этого построим сводную таблицу."
   ]
  },
  {
   "cell_type": "code",
   "execution_count": 23,
   "id": "09ca19cb",
   "metadata": {
    "colab": {
     "base_uri": "https://localhost:8080/",
     "height": 269
    },
    "id": "09ca19cb",
    "outputId": "05e90817-c20d-4449-cd0c-eaec342abcf8"
   },
   "outputs": [
    {
     "data": {
      "text/html": [
       "<div>\n",
       "<style scoped>\n",
       "    .dataframe tbody tr th:only-of-type {\n",
       "        vertical-align: middle;\n",
       "    }\n",
       "\n",
       "    .dataframe tbody tr th {\n",
       "        vertical-align: top;\n",
       "    }\n",
       "\n",
       "    .dataframe thead th {\n",
       "        text-align: right;\n",
       "    }\n",
       "</style>\n",
       "<table border=\"1\" class=\"dataframe\">\n",
       "  <thead>\n",
       "    <tr style=\"text-align: right;\">\n",
       "      <th></th>\n",
       "      <th>free_people</th>\n",
       "      <th>debtors</th>\n",
       "      <th>debt_percent</th>\n",
       "    </tr>\n",
       "    <tr>\n",
       "      <th>children</th>\n",
       "      <th></th>\n",
       "      <th></th>\n",
       "      <th></th>\n",
       "    </tr>\n",
       "  </thead>\n",
       "  <tbody>\n",
       "    <tr>\n",
       "      <th>4</th>\n",
       "      <td>41</td>\n",
       "      <td>4</td>\n",
       "      <td>9.76</td>\n",
       "    </tr>\n",
       "    <tr>\n",
       "      <th>2</th>\n",
       "      <td>2052</td>\n",
       "      <td>194</td>\n",
       "      <td>9.45</td>\n",
       "    </tr>\n",
       "    <tr>\n",
       "      <th>1</th>\n",
       "      <td>4808</td>\n",
       "      <td>444</td>\n",
       "      <td>9.23</td>\n",
       "    </tr>\n",
       "    <tr>\n",
       "      <th>3</th>\n",
       "      <td>330</td>\n",
       "      <td>27</td>\n",
       "      <td>8.18</td>\n",
       "    </tr>\n",
       "    <tr>\n",
       "      <th>0</th>\n",
       "      <td>14091</td>\n",
       "      <td>1063</td>\n",
       "      <td>7.54</td>\n",
       "    </tr>\n",
       "    <tr>\n",
       "      <th>5</th>\n",
       "      <td>9</td>\n",
       "      <td>0</td>\n",
       "      <td>0.00</td>\n",
       "    </tr>\n",
       "  </tbody>\n",
       "</table>\n",
       "</div>"
      ],
      "text/plain": [
       "          free_people  debtors  debt_percent\n",
       "children                                    \n",
       "4                  41        4          9.76\n",
       "2                2052      194          9.45\n",
       "1                4808      444          9.23\n",
       "3                 330       27          8.18\n",
       "0               14091     1063          7.54\n",
       "5                   9        0          0.00"
      ]
     },
     "execution_count": 23,
     "metadata": {},
     "output_type": "execute_result"
    }
   ],
   "source": [
    "# построение сводной таблицы\n",
    "pt_1 = df.pivot_table(index='children', values='debt', aggfunc=('count', 'sum'))\n",
    "pt_1.columns = ['free_people', 'debtors']\n",
    "pt_1['debt_percent'] = round(pt_1['debtors'] / pt_1['free_people'] * 100, 2)\n",
    "pt_1.sort_values(by='debt_percent', ascending=False)"
   ]
  },
  {
   "cell_type": "markdown",
   "id": "JubFnDFwSRzf",
   "metadata": {
    "id": "JubFnDFwSRzf"
   },
   "source": [
    "**Описание колонн таблицы:**\n",
    "* `free_people` — заёмщики, выплатившие кредит в срок;\n",
    "* `debtors` — заёмщики-должники;\n",
    "* `debt_percent` — процент заёмщиков-должников. "
   ]
  },
  {
   "cell_type": "markdown",
   "id": "LHxQeyriRyqR",
   "metadata": {
    "id": "LHxQeyriRyqR"
   },
   "source": [
    "**Вывод:** \n",
    "Самыми \"добросовестными\" оказались те, у кого нет детей. Ну а те, у кого по 4 ребёнка, оказались самыми \"злостными должниками\", а семьи с одним и двумя детьми не сильно \"отстают\" от них.\n",
    "\n",
    "Однако те люди, у кого пятеро детей, не имеют задолженности. Но таких людей слишком мало, чтобы по ним делать выводы.\n",
    "\n",
    "Есть зависимость между количеством детей и возвратом кредита в срок. Кредит лучше давать людям без детей."
   ]
  },
  {
   "cell_type": "markdown",
   "id": "ab6fae52-d570-4b74-9f01-7c338177f470",
   "metadata": {},
   "source": [
    "<br>"
   ]
  },
  {
   "cell_type": "markdown",
   "id": "PITOoQe7TFr_",
   "metadata": {
    "id": "PITOoQe7TFr_"
   },
   "source": [
    "### Зависимость между семейным положением и возвратом кредита в срок"
   ]
  },
  {
   "cell_type": "markdown",
   "id": "00da1239",
   "metadata": {},
   "source": [
    "Для этого построим сводную таблицу."
   ]
  },
  {
   "cell_type": "code",
   "execution_count": 24,
   "id": "UuTat_9rXH78",
   "metadata": {
    "colab": {
     "base_uri": "https://localhost:8080/",
     "height": 238
    },
    "id": "UuTat_9rXH78",
    "outputId": "d1ad43c6-c758-465f-b1ac-e32b95e72940"
   },
   "outputs": [
    {
     "data": {
      "text/html": [
       "<div>\n",
       "<style scoped>\n",
       "    .dataframe tbody tr th:only-of-type {\n",
       "        vertical-align: middle;\n",
       "    }\n",
       "\n",
       "    .dataframe tbody tr th {\n",
       "        vertical-align: top;\n",
       "    }\n",
       "\n",
       "    .dataframe thead th {\n",
       "        text-align: right;\n",
       "    }\n",
       "</style>\n",
       "<table border=\"1\" class=\"dataframe\">\n",
       "  <thead>\n",
       "    <tr style=\"text-align: right;\">\n",
       "      <th></th>\n",
       "      <th>free_people</th>\n",
       "      <th>debtors</th>\n",
       "      <th>debt_percent</th>\n",
       "    </tr>\n",
       "    <tr>\n",
       "      <th>family_status</th>\n",
       "      <th></th>\n",
       "      <th></th>\n",
       "      <th></th>\n",
       "    </tr>\n",
       "  </thead>\n",
       "  <tbody>\n",
       "    <tr>\n",
       "      <th>Не женат / не замужем</th>\n",
       "      <td>2796</td>\n",
       "      <td>273</td>\n",
       "      <td>9.76</td>\n",
       "    </tr>\n",
       "    <tr>\n",
       "      <th>гражданский брак</th>\n",
       "      <td>4134</td>\n",
       "      <td>385</td>\n",
       "      <td>9.31</td>\n",
       "    </tr>\n",
       "    <tr>\n",
       "      <th>женат / замужем</th>\n",
       "      <td>12261</td>\n",
       "      <td>927</td>\n",
       "      <td>7.56</td>\n",
       "    </tr>\n",
       "    <tr>\n",
       "      <th>в разводе</th>\n",
       "      <td>1189</td>\n",
       "      <td>84</td>\n",
       "      <td>7.06</td>\n",
       "    </tr>\n",
       "    <tr>\n",
       "      <th>вдовец / вдова</th>\n",
       "      <td>951</td>\n",
       "      <td>63</td>\n",
       "      <td>6.62</td>\n",
       "    </tr>\n",
       "  </tbody>\n",
       "</table>\n",
       "</div>"
      ],
      "text/plain": [
       "                       free_people  debtors  debt_percent\n",
       "family_status                                            \n",
       "Не женат / не замужем         2796      273          9.76\n",
       "гражданский брак              4134      385          9.31\n",
       "женат / замужем              12261      927          7.56\n",
       "в разводе                     1189       84          7.06\n",
       "вдовец / вдова                 951       63          6.62"
      ]
     },
     "execution_count": 24,
     "metadata": {},
     "output_type": "execute_result"
    }
   ],
   "source": [
    "# построение сводной таблицы\n",
    "pt_2 = df.pivot_table(index='family_status', values='debt', aggfunc=('count', 'sum'))\n",
    "pt_2.columns = ['free_people', 'debtors']\n",
    "pt_2['debt_percent'] = round(pt_2['debtors'] / pt_2['free_people'] * 100, 2)\n",
    "pt_2.sort_values(by='debt_percent', ascending=False)"
   ]
  },
  {
   "cell_type": "markdown",
   "id": "wOLslCmjYZID",
   "metadata": {
    "id": "wOLslCmjYZID"
   },
   "source": [
    "**Описание колонн таблицы:**\n",
    "* `free_people` — заёмщики, выплатившие кредит в срок;\n",
    "* `debtors` — заёмщики-должники;\n",
    "* `debt_percent` — процент заёмщиков-должников. "
   ]
  },
  {
   "cell_type": "markdown",
   "id": "ZGy1IhOQYVOr",
   "metadata": {
    "id": "ZGy1IhOQYVOr"
   },
   "source": [
    "**Вывод:** Вдовец/вдова более ответственно относятся к выплачиванию кредитов. Страдание всегда ведёт к развитию.\n",
    "\n",
    "А вот те, кто в гражданском браке и те, кто не женат/не замужем, чаще остаются в должниках.\n",
    "\n",
    "Да, зависимость возврата кредита в срок от семейного положения также есть."
   ]
  },
  {
   "cell_type": "markdown",
   "id": "9f2094fd-ebb8-4e24-9d6c-5882d4241cc6",
   "metadata": {},
   "source": [
    "<br>"
   ]
  },
  {
   "cell_type": "markdown",
   "id": "Yqk81VP_ZaMP",
   "metadata": {
    "id": "Yqk81VP_ZaMP"
   },
   "source": [
    "### Зависимость между уровнем дохода и возвратом кредита в срок"
   ]
  },
  {
   "cell_type": "markdown",
   "id": "e824e919",
   "metadata": {},
   "source": [
    "Узнаем количество заёмщиков, выплативших долг вовремя, а также их медианных доход."
   ]
  },
  {
   "cell_type": "code",
   "execution_count": 25,
   "id": "H4ir9P24eRbn",
   "metadata": {
    "colab": {
     "base_uri": "https://localhost:8080/"
    },
    "id": "H4ir9P24eRbn",
    "outputId": "c903607c-f3bd-43d5-b9a2-a88ce2704430"
   },
   "outputs": [
    {
     "data": {
      "text/plain": [
       "19599"
      ]
     },
     "execution_count": 25,
     "metadata": {},
     "output_type": "execute_result"
    }
   ],
   "source": [
    "# кол-во заёмщиков, выплативших долг вовремя\n",
    "df[df['debt'] == 0]['debt'].count()"
   ]
  },
  {
   "cell_type": "code",
   "execution_count": 26,
   "id": "d40e92f5",
   "metadata": {},
   "outputs": [
    {
     "data": {
      "text/plain": [
       "142594.0"
      ]
     },
     "execution_count": 26,
     "metadata": {},
     "output_type": "execute_result"
    }
   ],
   "source": [
    "# их медианный доход\n",
    "df[df['debt'] == 0]['total_income'].median()"
   ]
  },
  {
   "cell_type": "markdown",
   "id": "fe55db9a",
   "metadata": {},
   "source": [
    "Количество заёмщиков, выплативших долг вовремя — `19.599 человек`.\\\n",
    "Их медианных доход — `142.594 ₽`."
   ]
  },
  {
   "cell_type": "markdown",
   "id": "020a02f0",
   "metadata": {},
   "source": [
    "Узнаем количество заёмщиков-должников, а также их медианный доход."
   ]
  },
  {
   "cell_type": "code",
   "execution_count": 27,
   "id": "83a9011f",
   "metadata": {},
   "outputs": [
    {
     "data": {
      "text/plain": [
       "1732"
      ]
     },
     "execution_count": 27,
     "metadata": {},
     "output_type": "execute_result"
    }
   ],
   "source": [
    "# кол-во заёмщиков-должников\n",
    "df[df['debt'] == 1]['debt'].count()"
   ]
  },
  {
   "cell_type": "code",
   "execution_count": 28,
   "id": "hwmEoxL3eb-L",
   "metadata": {
    "id": "hwmEoxL3eb-L"
   },
   "outputs": [
    {
     "data": {
      "text/plain": [
       "142594.0"
      ]
     },
     "execution_count": 28,
     "metadata": {},
     "output_type": "execute_result"
    }
   ],
   "source": [
    "# их медианный доход\n",
    "df[df['debt'] == 1]['total_income'].median()"
   ]
  },
  {
   "cell_type": "markdown",
   "id": "3664de4e",
   "metadata": {},
   "source": [
    "Количество заёмщиков-должников — `1.732 человека`.\\\n",
    "Их медианных доход также равен `142.594 ₽`."
   ]
  },
  {
   "cell_type": "markdown",
   "id": "7194a2d8",
   "metadata": {},
   "source": [
    "**Вывод:** очень странно, но у должников и выплативших вовремя абсолютно одинаковая медианная зарплата.\n",
    "\n",
    "Здесь зависимости между уровнем дохода и возвратом кредита в срок не видно."
   ]
  },
  {
   "cell_type": "markdown",
   "id": "9db1051f",
   "metadata": {},
   "source": [
    "Также построим сводную таблицу по категориям дохода."
   ]
  },
  {
   "cell_type": "code",
   "execution_count": 29,
   "id": "ede7522b",
   "metadata": {},
   "outputs": [
    {
     "data": {
      "text/html": [
       "<div>\n",
       "<style scoped>\n",
       "    .dataframe tbody tr th:only-of-type {\n",
       "        vertical-align: middle;\n",
       "    }\n",
       "\n",
       "    .dataframe tbody tr th {\n",
       "        vertical-align: top;\n",
       "    }\n",
       "\n",
       "    .dataframe thead th {\n",
       "        text-align: right;\n",
       "    }\n",
       "</style>\n",
       "<table border=\"1\" class=\"dataframe\">\n",
       "  <thead>\n",
       "    <tr style=\"text-align: right;\">\n",
       "      <th></th>\n",
       "      <th>free_people</th>\n",
       "      <th>debtors</th>\n",
       "      <th>debt_percent</th>\n",
       "    </tr>\n",
       "    <tr>\n",
       "      <th>total_income_category</th>\n",
       "      <th></th>\n",
       "      <th></th>\n",
       "      <th></th>\n",
       "    </tr>\n",
       "  </thead>\n",
       "  <tbody>\n",
       "    <tr>\n",
       "      <th>E</th>\n",
       "      <td>22</td>\n",
       "      <td>2</td>\n",
       "      <td>9.09</td>\n",
       "    </tr>\n",
       "    <tr>\n",
       "      <th>C</th>\n",
       "      <td>15921</td>\n",
       "      <td>1353</td>\n",
       "      <td>8.50</td>\n",
       "    </tr>\n",
       "    <tr>\n",
       "      <th>A</th>\n",
       "      <td>25</td>\n",
       "      <td>2</td>\n",
       "      <td>8.00</td>\n",
       "    </tr>\n",
       "    <tr>\n",
       "      <th>B</th>\n",
       "      <td>5014</td>\n",
       "      <td>354</td>\n",
       "      <td>7.06</td>\n",
       "    </tr>\n",
       "    <tr>\n",
       "      <th>D</th>\n",
       "      <td>349</td>\n",
       "      <td>21</td>\n",
       "      <td>6.02</td>\n",
       "    </tr>\n",
       "  </tbody>\n",
       "</table>\n",
       "</div>"
      ],
      "text/plain": [
       "                       free_people  debtors  debt_percent\n",
       "total_income_category                                    \n",
       "E                               22        2          9.09\n",
       "C                            15921     1353          8.50\n",
       "A                               25        2          8.00\n",
       "B                             5014      354          7.06\n",
       "D                              349       21          6.02"
      ]
     },
     "execution_count": 29,
     "metadata": {},
     "output_type": "execute_result"
    }
   ],
   "source": [
    "# построение сводной таблицы\n",
    "pt_3 = df.pivot_table(index='total_income_category', values='debt', aggfunc=('count', 'sum'))\n",
    "pt_3.columns=['free_people', 'debtors']\n",
    "pt_3['debt_percent'] = round(pt_3['debtors'] / pt_3['free_people'] * 100, 2)\n",
    "pt_3.sort_values(by='debt_percent', ascending=False)"
   ]
  },
  {
   "cell_type": "markdown",
   "id": "00b1d3a9",
   "metadata": {},
   "source": [
    "**Описание колонн таблицы:**\n",
    "* `free_people` — заёмщики, выплатившие кредит в срок;\n",
    "* `debtors` — заёмщики-должники;\n",
    "* `debt_percent` — процент заёмщиков-должников. "
   ]
  },
  {
   "cell_type": "markdown",
   "id": "4b4cae88",
   "metadata": {},
   "source": [
    "Мы вычислили процент должников, применив ранее созданные категории для всех людей (кто сколько зарабатывает). Это позволило нам выявить зависимость между доходом и возвратом долга в срок.\n",
    "\n",
    "**Сделаем вывод** по категориям B и C, так как они самые многочисленные. Богатые люди (B категория) меньше остаются в должниках, в то время как среди менее богатых (C категория) должники встречаются чаще. "
   ]
  },
  {
   "cell_type": "markdown",
   "id": "47d8f891-28aa-4ce7-bdf4-ccab93733e53",
   "metadata": {},
   "source": [
    "<br>"
   ]
  },
  {
   "cell_type": "markdown",
   "id": "fe3ef964",
   "metadata": {},
   "source": [
    "### Выясним, как разные цели кредита влияют на его возврат в срок"
   ]
  },
  {
   "cell_type": "markdown",
   "id": "c1bfdc99",
   "metadata": {},
   "source": [
    "Для этого построим сводную таблицу."
   ]
  },
  {
   "cell_type": "code",
   "execution_count": 30,
   "id": "b7d4dc21",
   "metadata": {},
   "outputs": [
    {
     "data": {
      "text/html": [
       "<div>\n",
       "<style scoped>\n",
       "    .dataframe tbody tr th:only-of-type {\n",
       "        vertical-align: middle;\n",
       "    }\n",
       "\n",
       "    .dataframe tbody tr th {\n",
       "        vertical-align: top;\n",
       "    }\n",
       "\n",
       "    .dataframe thead th {\n",
       "        text-align: right;\n",
       "    }\n",
       "</style>\n",
       "<table border=\"1\" class=\"dataframe\">\n",
       "  <thead>\n",
       "    <tr style=\"text-align: right;\">\n",
       "      <th></th>\n",
       "      <th>free_people</th>\n",
       "      <th>debtors</th>\n",
       "      <th>debt_percent</th>\n",
       "    </tr>\n",
       "    <tr>\n",
       "      <th>purpose_category</th>\n",
       "      <th></th>\n",
       "      <th></th>\n",
       "      <th></th>\n",
       "    </tr>\n",
       "  </thead>\n",
       "  <tbody>\n",
       "    <tr>\n",
       "      <th>операции с автомобилем</th>\n",
       "      <td>4279</td>\n",
       "      <td>400</td>\n",
       "      <td>9.35</td>\n",
       "    </tr>\n",
       "    <tr>\n",
       "      <th>получение образования</th>\n",
       "      <td>3988</td>\n",
       "      <td>369</td>\n",
       "      <td>9.25</td>\n",
       "    </tr>\n",
       "    <tr>\n",
       "      <th>проведение свадьбы</th>\n",
       "      <td>2313</td>\n",
       "      <td>183</td>\n",
       "      <td>7.91</td>\n",
       "    </tr>\n",
       "    <tr>\n",
       "      <th>операции с недвижимостью</th>\n",
       "      <td>10751</td>\n",
       "      <td>780</td>\n",
       "      <td>7.26</td>\n",
       "    </tr>\n",
       "  </tbody>\n",
       "</table>\n",
       "</div>"
      ],
      "text/plain": [
       "                          free_people  debtors  debt_percent\n",
       "purpose_category                                            \n",
       "операции с автомобилем           4279      400          9.35\n",
       "получение образования            3988      369          9.25\n",
       "проведение свадьбы               2313      183          7.91\n",
       "операции с недвижимостью        10751      780          7.26"
      ]
     },
     "execution_count": 30,
     "metadata": {},
     "output_type": "execute_result"
    }
   ],
   "source": [
    "# построение сводной таблицы\n",
    "pt_4 = df.pivot_table(index='purpose_category', values='debt', aggfunc=('count', 'sum'))\n",
    "pt_4.columns = ['free_people', 'debtors']\n",
    "pt_4['debt_percent'] = round(pt_4['debtors'] / pt_4['free_people'] * 100, 2)\n",
    "pt_4.sort_values(by='debt_percent', ascending=False)"
   ]
  },
  {
   "cell_type": "markdown",
   "id": "0d013b6d",
   "metadata": {},
   "source": [
    "**Описание колонн таблицы:**\n",
    "* `free_people` — заёмщики, выплатившие кредит в срок;\n",
    "* `debtors` — заёмщики-должники;\n",
    "* `debt_percent` — процент заёмщиков-должников. "
   ]
  },
  {
   "cell_type": "markdown",
   "id": "f0aed482",
   "metadata": {},
   "source": [
    "**Вывод:** более дурацкого кредита, чем кредита на свадьбу, не придумать. Тем не менее люди к нему относятся более ответственно, чем к кредиту на автомобиль. \n",
    "\n",
    "А вот к ипотеке люди ответственнее всего относятся, там меньше всего должников. Чего не скажешь про кредит на образование, там высокий процент должников (импульсивные покупки?)"
   ]
  },
  {
   "cell_type": "markdown",
   "id": "2d6a9907",
   "metadata": {},
   "source": [
    "### Возможные причины появления пропусков в исходных данных"
   ]
  },
  {
   "cell_type": "markdown",
   "id": "a95ba40c",
   "metadata": {},
   "source": [
    "Мы имеем пропуски в колоннах по ежемесячному доходу и общему трудовому стажу в днях.\\\n",
    "Вообще, по-хорошему, нужно точно знать, обязательно ли заполнять значения этих колонн.\\\n",
    "Значения по ежемесячному доходу могли быть пропущены, потому что человек не работал на тот момент.\\\n",
    "Вполне возможно, что и по этой причине пропущены значения по общему трудовому стажу."
   ]
  },
  {
   "cell_type": "markdown",
   "id": "9943114f",
   "metadata": {},
   "source": [
    "### Почему заполнить пропуски медианным значением — лучшее решение для количественных переменных?"
   ]
  },
  {
   "cell_type": "markdown",
   "id": "cdaa65c1",
   "metadata": {},
   "source": [
    "**Случайный список из работников Microsoft:**\n",
    "1. Советник по технологиям - Билл Гейтс. Доход — 100.000.000\\$\n",
    "2. C#-разработчик - Кейн Веласкес. Доход — 100.000\\$\n",
    "3. Продуктовый аналитик - Ду Ху Чой. Доход — 90.000\\$\n",
    "4. Системный администратор - Иржи Прохазка. Доход — 70.000\\$\n",
    "5. Гардеробщик - Хосеп Гвардиола. Доход — 30.000\\$\n",
    "6. Уборщик - Юрген Клопп. Доход — 30.000$\n",
    "\n",
    "В среднем они зарабатывают 16.720.000\\\\$. Уборщик и гардеробщик негодуют.\\\n",
    "Медианный же доход — 80.000\\\\$ — половина получает больше этой суммы, другая половина — меньше.\n",
    "\\\n",
    "Медианный показатель всегда объективнее выражает ситуацию, чем среднее значение."
   ]
  },
  {
   "cell_type": "markdown",
   "id": "62e369cb",
   "metadata": {},
   "source": [
    "## Общий вывод"
   ]
  },
  {
   "cell_type": "markdown",
   "id": "099e5183",
   "metadata": {},
   "source": [
    "Кредитный отдел банка попросил нас разобраться, влияет ли семейное положение и количество детей клиента на факт погашения кредита в срок. \n",
    "\n",
    "**Как семейное положение влияет на погашение:**\n",
    "1. Разведённые и вдовцы/вдовы быстрее всех гасят кредит.\n",
    "2. Не женатые/не замужние и состоящие в гражданском браке халатнее всего относятся к погашению кредита.  \n",
    "\n",
    "**Как количество детей влияет на погашение:**\n",
    "1. Семьи без детей чаще успевают гасить кредит в срок.\n",
    "2. Семьи с одним, двумя и четырьмя детьми хуже всех платят в срок.\n",
    "\n",
    "Рекомендую банку ценить больше семьи без детей, а также одиноких: разведённых, вдовцов и вдов. Эти категории вероятнее всего выплатят кредит в срок.\n",
    "\n",
    "Особо выделю, что, по моему мнению, датасет нереалистичен:\n",
    "1. у людей слишком высокая медианная зарплата для России;\n",
    "2. что у должников, что у вовремя выплативших людей абсолютно одинаковая медианная зарплата."
   ]
  }
 ],
 "metadata": {
  "colab": {
   "provenance": [],
   "toc_visible": true
  },
  "hide_input": false,
  "kernelspec": {
   "display_name": "Python 3 (ipykernel)",
   "language": "python",
   "name": "python3"
  },
  "language_info": {
   "codemirror_mode": {
    "name": "ipython",
    "version": 3
   },
   "file_extension": ".py",
   "mimetype": "text/x-python",
   "name": "python",
   "nbconvert_exporter": "python",
   "pygments_lexer": "ipython3",
   "version": "3.9.5"
  },
  "toc": {
   "base_numbering": 1,
   "nav_menu": {},
   "number_sections": true,
   "sideBar": true,
   "skip_h1_title": true,
   "title_cell": "Table of Contents",
   "title_sidebar": "Contents",
   "toc_cell": true,
   "toc_position": {
    "height": "900px",
    "left": "24px",
    "top": "-1.31px",
    "width": "384px"
   },
   "toc_section_display": true,
   "toc_window_display": true
  },
  "toc-autonumbering": false,
  "toc-showcode": false,
  "toc-showmarkdowntxt": false,
  "toc-showtags": false
 },
 "nbformat": 4,
 "nbformat_minor": 5
}
