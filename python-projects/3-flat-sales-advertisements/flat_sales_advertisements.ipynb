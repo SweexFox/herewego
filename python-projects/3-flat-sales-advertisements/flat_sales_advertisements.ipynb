{
 "cells": [
  {
   "cell_type": "markdown",
   "metadata": {},
   "source": [
    "# Исследование объявлений о продаже квартир"
   ]
  },
  {
   "cell_type": "markdown",
   "metadata": {},
   "source": [
    "**Дано**: данные сервиса Яндекс.Недвижимость — архив объявлений о продаже квартир в Санкт-Петербурге и соседних населённых пунктов за несколько лет. \n",
    "\n",
    "**Задача**: провести исследовательский анализ данных, который поможет установить параметры, влияющие на цену объектов. \n",
    "\n",
    "**Результаты исследования** позволят построить автоматизированную систему, которая отследит аномалии и мошенническую деятельность.\n",
    "\n",
    "По каждой квартире на продажу доступны два вида данных. Первые вписаны пользователем, вторые — получены автоматически на основе картографических данных.\\\n",
    "Например, расстояние до центра, аэропорта и других объектов, количество парков и водоёмов — эти данные автоматически получены из геосервисов."
   ]
  },
  {
   "cell_type": "markdown",
   "metadata": {},
   "source": [
    "<hr>"
   ]
  },
  {
   "cell_type": "markdown",
   "metadata": {},
   "source": [
    "### Обзор данных"
   ]
  },
  {
   "cell_type": "markdown",
   "metadata": {},
   "source": [
    "**Импортируем библиотеки и прочитаем данные из папки `github` репозитория.**"
   ]
  },
  {
   "cell_type": "code",
   "execution_count": 1,
   "metadata": {},
   "outputs": [],
   "source": [
    "# импорт библиотек\n",
    "import pandas as pd\n",
    "import matplotlib.pyplot as plt"
   ]
  },
  {
   "cell_type": "code",
   "execution_count": 2,
   "metadata": {
    "scrolled": true
   },
   "outputs": [],
   "source": [
    "# чтение файла\n",
    "df = pd.read_csv('https://raw.githubusercontent.com/SweexFox/portfolio-projects/main/python-projects/3-flat-sales-advertisements/real_estate_data.csv', sep='\\t')"
   ]
  },
  {
   "cell_type": "markdown",
   "metadata": {},
   "source": [
    "**Выведем первые 20 строк.**"
   ]
  },
  {
   "cell_type": "code",
   "execution_count": 3,
   "metadata": {},
   "outputs": [
    {
     "data": {
      "text/html": [
       "<div>\n",
       "<style scoped>\n",
       "    .dataframe tbody tr th:only-of-type {\n",
       "        vertical-align: middle;\n",
       "    }\n",
       "\n",
       "    .dataframe tbody tr th {\n",
       "        vertical-align: top;\n",
       "    }\n",
       "\n",
       "    .dataframe thead th {\n",
       "        text-align: right;\n",
       "    }\n",
       "</style>\n",
       "<table border=\"1\" class=\"dataframe\">\n",
       "  <thead>\n",
       "    <tr style=\"text-align: right;\">\n",
       "      <th></th>\n",
       "      <th>total_images</th>\n",
       "      <th>last_price</th>\n",
       "      <th>total_area</th>\n",
       "      <th>first_day_exposition</th>\n",
       "      <th>rooms</th>\n",
       "      <th>ceiling_height</th>\n",
       "      <th>floors_total</th>\n",
       "      <th>living_area</th>\n",
       "      <th>floor</th>\n",
       "      <th>is_apartment</th>\n",
       "      <th>...</th>\n",
       "      <th>kitchen_area</th>\n",
       "      <th>balcony</th>\n",
       "      <th>locality_name</th>\n",
       "      <th>airports_nearest</th>\n",
       "      <th>cityCenters_nearest</th>\n",
       "      <th>parks_around3000</th>\n",
       "      <th>parks_nearest</th>\n",
       "      <th>ponds_around3000</th>\n",
       "      <th>ponds_nearest</th>\n",
       "      <th>days_exposition</th>\n",
       "    </tr>\n",
       "  </thead>\n",
       "  <tbody>\n",
       "    <tr>\n",
       "      <th>0</th>\n",
       "      <td>20</td>\n",
       "      <td>13000000.0</td>\n",
       "      <td>108.00</td>\n",
       "      <td>2019-03-07T00:00:00</td>\n",
       "      <td>3</td>\n",
       "      <td>2.70</td>\n",
       "      <td>16.0</td>\n",
       "      <td>51.00</td>\n",
       "      <td>8</td>\n",
       "      <td>NaN</td>\n",
       "      <td>...</td>\n",
       "      <td>25.00</td>\n",
       "      <td>NaN</td>\n",
       "      <td>Санкт-Петербург</td>\n",
       "      <td>18863.0</td>\n",
       "      <td>16028.0</td>\n",
       "      <td>1.0</td>\n",
       "      <td>482.0</td>\n",
       "      <td>2.0</td>\n",
       "      <td>755.0</td>\n",
       "      <td>NaN</td>\n",
       "    </tr>\n",
       "    <tr>\n",
       "      <th>1</th>\n",
       "      <td>7</td>\n",
       "      <td>3350000.0</td>\n",
       "      <td>40.40</td>\n",
       "      <td>2018-12-04T00:00:00</td>\n",
       "      <td>1</td>\n",
       "      <td>NaN</td>\n",
       "      <td>11.0</td>\n",
       "      <td>18.60</td>\n",
       "      <td>1</td>\n",
       "      <td>NaN</td>\n",
       "      <td>...</td>\n",
       "      <td>11.00</td>\n",
       "      <td>2.0</td>\n",
       "      <td>посёлок Шушары</td>\n",
       "      <td>12817.0</td>\n",
       "      <td>18603.0</td>\n",
       "      <td>0.0</td>\n",
       "      <td>NaN</td>\n",
       "      <td>0.0</td>\n",
       "      <td>NaN</td>\n",
       "      <td>81.0</td>\n",
       "    </tr>\n",
       "    <tr>\n",
       "      <th>2</th>\n",
       "      <td>10</td>\n",
       "      <td>5196000.0</td>\n",
       "      <td>56.00</td>\n",
       "      <td>2015-08-20T00:00:00</td>\n",
       "      <td>2</td>\n",
       "      <td>NaN</td>\n",
       "      <td>5.0</td>\n",
       "      <td>34.30</td>\n",
       "      <td>4</td>\n",
       "      <td>NaN</td>\n",
       "      <td>...</td>\n",
       "      <td>8.30</td>\n",
       "      <td>0.0</td>\n",
       "      <td>Санкт-Петербург</td>\n",
       "      <td>21741.0</td>\n",
       "      <td>13933.0</td>\n",
       "      <td>1.0</td>\n",
       "      <td>90.0</td>\n",
       "      <td>2.0</td>\n",
       "      <td>574.0</td>\n",
       "      <td>558.0</td>\n",
       "    </tr>\n",
       "    <tr>\n",
       "      <th>3</th>\n",
       "      <td>0</td>\n",
       "      <td>64900000.0</td>\n",
       "      <td>159.00</td>\n",
       "      <td>2015-07-24T00:00:00</td>\n",
       "      <td>3</td>\n",
       "      <td>NaN</td>\n",
       "      <td>14.0</td>\n",
       "      <td>NaN</td>\n",
       "      <td>9</td>\n",
       "      <td>NaN</td>\n",
       "      <td>...</td>\n",
       "      <td>NaN</td>\n",
       "      <td>0.0</td>\n",
       "      <td>Санкт-Петербург</td>\n",
       "      <td>28098.0</td>\n",
       "      <td>6800.0</td>\n",
       "      <td>2.0</td>\n",
       "      <td>84.0</td>\n",
       "      <td>3.0</td>\n",
       "      <td>234.0</td>\n",
       "      <td>424.0</td>\n",
       "    </tr>\n",
       "    <tr>\n",
       "      <th>4</th>\n",
       "      <td>2</td>\n",
       "      <td>10000000.0</td>\n",
       "      <td>100.00</td>\n",
       "      <td>2018-06-19T00:00:00</td>\n",
       "      <td>2</td>\n",
       "      <td>3.03</td>\n",
       "      <td>14.0</td>\n",
       "      <td>32.00</td>\n",
       "      <td>13</td>\n",
       "      <td>NaN</td>\n",
       "      <td>...</td>\n",
       "      <td>41.00</td>\n",
       "      <td>NaN</td>\n",
       "      <td>Санкт-Петербург</td>\n",
       "      <td>31856.0</td>\n",
       "      <td>8098.0</td>\n",
       "      <td>2.0</td>\n",
       "      <td>112.0</td>\n",
       "      <td>1.0</td>\n",
       "      <td>48.0</td>\n",
       "      <td>121.0</td>\n",
       "    </tr>\n",
       "    <tr>\n",
       "      <th>5</th>\n",
       "      <td>10</td>\n",
       "      <td>2890000.0</td>\n",
       "      <td>30.40</td>\n",
       "      <td>2018-09-10T00:00:00</td>\n",
       "      <td>1</td>\n",
       "      <td>NaN</td>\n",
       "      <td>12.0</td>\n",
       "      <td>14.40</td>\n",
       "      <td>5</td>\n",
       "      <td>NaN</td>\n",
       "      <td>...</td>\n",
       "      <td>9.10</td>\n",
       "      <td>NaN</td>\n",
       "      <td>городской посёлок Янино-1</td>\n",
       "      <td>NaN</td>\n",
       "      <td>NaN</td>\n",
       "      <td>NaN</td>\n",
       "      <td>NaN</td>\n",
       "      <td>NaN</td>\n",
       "      <td>NaN</td>\n",
       "      <td>55.0</td>\n",
       "    </tr>\n",
       "    <tr>\n",
       "      <th>6</th>\n",
       "      <td>6</td>\n",
       "      <td>3700000.0</td>\n",
       "      <td>37.30</td>\n",
       "      <td>2017-11-02T00:00:00</td>\n",
       "      <td>1</td>\n",
       "      <td>NaN</td>\n",
       "      <td>26.0</td>\n",
       "      <td>10.60</td>\n",
       "      <td>6</td>\n",
       "      <td>NaN</td>\n",
       "      <td>...</td>\n",
       "      <td>14.40</td>\n",
       "      <td>1.0</td>\n",
       "      <td>посёлок Парголово</td>\n",
       "      <td>52996.0</td>\n",
       "      <td>19143.0</td>\n",
       "      <td>0.0</td>\n",
       "      <td>NaN</td>\n",
       "      <td>0.0</td>\n",
       "      <td>NaN</td>\n",
       "      <td>155.0</td>\n",
       "    </tr>\n",
       "    <tr>\n",
       "      <th>7</th>\n",
       "      <td>5</td>\n",
       "      <td>7915000.0</td>\n",
       "      <td>71.60</td>\n",
       "      <td>2019-04-18T00:00:00</td>\n",
       "      <td>2</td>\n",
       "      <td>NaN</td>\n",
       "      <td>24.0</td>\n",
       "      <td>NaN</td>\n",
       "      <td>22</td>\n",
       "      <td>NaN</td>\n",
       "      <td>...</td>\n",
       "      <td>18.90</td>\n",
       "      <td>2.0</td>\n",
       "      <td>Санкт-Петербург</td>\n",
       "      <td>23982.0</td>\n",
       "      <td>11634.0</td>\n",
       "      <td>0.0</td>\n",
       "      <td>NaN</td>\n",
       "      <td>0.0</td>\n",
       "      <td>NaN</td>\n",
       "      <td>NaN</td>\n",
       "    </tr>\n",
       "    <tr>\n",
       "      <th>8</th>\n",
       "      <td>20</td>\n",
       "      <td>2900000.0</td>\n",
       "      <td>33.16</td>\n",
       "      <td>2018-05-23T00:00:00</td>\n",
       "      <td>1</td>\n",
       "      <td>NaN</td>\n",
       "      <td>27.0</td>\n",
       "      <td>15.43</td>\n",
       "      <td>26</td>\n",
       "      <td>NaN</td>\n",
       "      <td>...</td>\n",
       "      <td>8.81</td>\n",
       "      <td>NaN</td>\n",
       "      <td>посёлок Мурино</td>\n",
       "      <td>NaN</td>\n",
       "      <td>NaN</td>\n",
       "      <td>NaN</td>\n",
       "      <td>NaN</td>\n",
       "      <td>NaN</td>\n",
       "      <td>NaN</td>\n",
       "      <td>189.0</td>\n",
       "    </tr>\n",
       "    <tr>\n",
       "      <th>9</th>\n",
       "      <td>18</td>\n",
       "      <td>5400000.0</td>\n",
       "      <td>61.00</td>\n",
       "      <td>2017-02-26T00:00:00</td>\n",
       "      <td>3</td>\n",
       "      <td>2.50</td>\n",
       "      <td>9.0</td>\n",
       "      <td>43.60</td>\n",
       "      <td>7</td>\n",
       "      <td>NaN</td>\n",
       "      <td>...</td>\n",
       "      <td>6.50</td>\n",
       "      <td>2.0</td>\n",
       "      <td>Санкт-Петербург</td>\n",
       "      <td>50898.0</td>\n",
       "      <td>15008.0</td>\n",
       "      <td>0.0</td>\n",
       "      <td>NaN</td>\n",
       "      <td>0.0</td>\n",
       "      <td>NaN</td>\n",
       "      <td>289.0</td>\n",
       "    </tr>\n",
       "    <tr>\n",
       "      <th>10</th>\n",
       "      <td>5</td>\n",
       "      <td>5050000.0</td>\n",
       "      <td>39.60</td>\n",
       "      <td>2017-11-16T00:00:00</td>\n",
       "      <td>1</td>\n",
       "      <td>2.67</td>\n",
       "      <td>12.0</td>\n",
       "      <td>20.30</td>\n",
       "      <td>3</td>\n",
       "      <td>NaN</td>\n",
       "      <td>...</td>\n",
       "      <td>8.50</td>\n",
       "      <td>NaN</td>\n",
       "      <td>Санкт-Петербург</td>\n",
       "      <td>38357.0</td>\n",
       "      <td>13878.0</td>\n",
       "      <td>1.0</td>\n",
       "      <td>310.0</td>\n",
       "      <td>2.0</td>\n",
       "      <td>553.0</td>\n",
       "      <td>137.0</td>\n",
       "    </tr>\n",
       "    <tr>\n",
       "      <th>11</th>\n",
       "      <td>9</td>\n",
       "      <td>3300000.0</td>\n",
       "      <td>44.00</td>\n",
       "      <td>2018-08-27T00:00:00</td>\n",
       "      <td>2</td>\n",
       "      <td>NaN</td>\n",
       "      <td>5.0</td>\n",
       "      <td>31.00</td>\n",
       "      <td>4</td>\n",
       "      <td>False</td>\n",
       "      <td>...</td>\n",
       "      <td>6.00</td>\n",
       "      <td>1.0</td>\n",
       "      <td>Ломоносов</td>\n",
       "      <td>48252.0</td>\n",
       "      <td>51677.0</td>\n",
       "      <td>0.0</td>\n",
       "      <td>NaN</td>\n",
       "      <td>0.0</td>\n",
       "      <td>NaN</td>\n",
       "      <td>7.0</td>\n",
       "    </tr>\n",
       "    <tr>\n",
       "      <th>12</th>\n",
       "      <td>10</td>\n",
       "      <td>3890000.0</td>\n",
       "      <td>54.00</td>\n",
       "      <td>2016-06-30T00:00:00</td>\n",
       "      <td>2</td>\n",
       "      <td>NaN</td>\n",
       "      <td>5.0</td>\n",
       "      <td>30.00</td>\n",
       "      <td>5</td>\n",
       "      <td>NaN</td>\n",
       "      <td>...</td>\n",
       "      <td>9.00</td>\n",
       "      <td>0.0</td>\n",
       "      <td>Сертолово</td>\n",
       "      <td>NaN</td>\n",
       "      <td>NaN</td>\n",
       "      <td>NaN</td>\n",
       "      <td>NaN</td>\n",
       "      <td>NaN</td>\n",
       "      <td>NaN</td>\n",
       "      <td>90.0</td>\n",
       "    </tr>\n",
       "    <tr>\n",
       "      <th>13</th>\n",
       "      <td>20</td>\n",
       "      <td>3550000.0</td>\n",
       "      <td>42.80</td>\n",
       "      <td>2017-07-01T00:00:00</td>\n",
       "      <td>2</td>\n",
       "      <td>2.56</td>\n",
       "      <td>5.0</td>\n",
       "      <td>27.00</td>\n",
       "      <td>5</td>\n",
       "      <td>NaN</td>\n",
       "      <td>...</td>\n",
       "      <td>5.20</td>\n",
       "      <td>1.0</td>\n",
       "      <td>Петергоф</td>\n",
       "      <td>37868.0</td>\n",
       "      <td>33058.0</td>\n",
       "      <td>1.0</td>\n",
       "      <td>294.0</td>\n",
       "      <td>3.0</td>\n",
       "      <td>298.0</td>\n",
       "      <td>366.0</td>\n",
       "    </tr>\n",
       "    <tr>\n",
       "      <th>14</th>\n",
       "      <td>1</td>\n",
       "      <td>4400000.0</td>\n",
       "      <td>36.00</td>\n",
       "      <td>2016-06-23T00:00:00</td>\n",
       "      <td>1</td>\n",
       "      <td>NaN</td>\n",
       "      <td>6.0</td>\n",
       "      <td>17.00</td>\n",
       "      <td>1</td>\n",
       "      <td>NaN</td>\n",
       "      <td>...</td>\n",
       "      <td>8.00</td>\n",
       "      <td>0.0</td>\n",
       "      <td>Пушкин</td>\n",
       "      <td>20782.0</td>\n",
       "      <td>30759.0</td>\n",
       "      <td>0.0</td>\n",
       "      <td>NaN</td>\n",
       "      <td>1.0</td>\n",
       "      <td>96.0</td>\n",
       "      <td>203.0</td>\n",
       "    </tr>\n",
       "    <tr>\n",
       "      <th>15</th>\n",
       "      <td>16</td>\n",
       "      <td>4650000.0</td>\n",
       "      <td>39.00</td>\n",
       "      <td>2017-11-18T00:00:00</td>\n",
       "      <td>1</td>\n",
       "      <td>NaN</td>\n",
       "      <td>14.0</td>\n",
       "      <td>20.50</td>\n",
       "      <td>5</td>\n",
       "      <td>NaN</td>\n",
       "      <td>...</td>\n",
       "      <td>7.60</td>\n",
       "      <td>1.0</td>\n",
       "      <td>Санкт-Петербург</td>\n",
       "      <td>12900.0</td>\n",
       "      <td>14259.0</td>\n",
       "      <td>1.0</td>\n",
       "      <td>590.0</td>\n",
       "      <td>1.0</td>\n",
       "      <td>296.0</td>\n",
       "      <td>19.0</td>\n",
       "    </tr>\n",
       "    <tr>\n",
       "      <th>16</th>\n",
       "      <td>11</td>\n",
       "      <td>6700000.0</td>\n",
       "      <td>82.00</td>\n",
       "      <td>2017-11-23T00:00:00</td>\n",
       "      <td>3</td>\n",
       "      <td>3.05</td>\n",
       "      <td>5.0</td>\n",
       "      <td>55.60</td>\n",
       "      <td>1</td>\n",
       "      <td>NaN</td>\n",
       "      <td>...</td>\n",
       "      <td>9.00</td>\n",
       "      <td>NaN</td>\n",
       "      <td>Санкт-Петербург</td>\n",
       "      <td>22108.0</td>\n",
       "      <td>10698.0</td>\n",
       "      <td>3.0</td>\n",
       "      <td>420.0</td>\n",
       "      <td>0.0</td>\n",
       "      <td>NaN</td>\n",
       "      <td>397.0</td>\n",
       "    </tr>\n",
       "    <tr>\n",
       "      <th>17</th>\n",
       "      <td>6</td>\n",
       "      <td>4180000.0</td>\n",
       "      <td>36.00</td>\n",
       "      <td>2016-09-09T00:00:00</td>\n",
       "      <td>1</td>\n",
       "      <td>NaN</td>\n",
       "      <td>17.0</td>\n",
       "      <td>16.50</td>\n",
       "      <td>7</td>\n",
       "      <td>NaN</td>\n",
       "      <td>...</td>\n",
       "      <td>11.00</td>\n",
       "      <td>1.0</td>\n",
       "      <td>Санкт-Петербург</td>\n",
       "      <td>33564.0</td>\n",
       "      <td>14616.0</td>\n",
       "      <td>0.0</td>\n",
       "      <td>NaN</td>\n",
       "      <td>1.0</td>\n",
       "      <td>859.0</td>\n",
       "      <td>571.0</td>\n",
       "    </tr>\n",
       "    <tr>\n",
       "      <th>18</th>\n",
       "      <td>8</td>\n",
       "      <td>3250000.0</td>\n",
       "      <td>31.00</td>\n",
       "      <td>2017-01-27T00:00:00</td>\n",
       "      <td>1</td>\n",
       "      <td>2.50</td>\n",
       "      <td>5.0</td>\n",
       "      <td>19.40</td>\n",
       "      <td>2</td>\n",
       "      <td>NaN</td>\n",
       "      <td>...</td>\n",
       "      <td>5.60</td>\n",
       "      <td>1.0</td>\n",
       "      <td>Санкт-Петербург</td>\n",
       "      <td>44060.0</td>\n",
       "      <td>10842.0</td>\n",
       "      <td>1.0</td>\n",
       "      <td>759.0</td>\n",
       "      <td>0.0</td>\n",
       "      <td>NaN</td>\n",
       "      <td>168.0</td>\n",
       "    </tr>\n",
       "    <tr>\n",
       "      <th>19</th>\n",
       "      <td>16</td>\n",
       "      <td>14200000.0</td>\n",
       "      <td>121.00</td>\n",
       "      <td>2019-01-09T00:00:00</td>\n",
       "      <td>3</td>\n",
       "      <td>2.75</td>\n",
       "      <td>16.0</td>\n",
       "      <td>76.00</td>\n",
       "      <td>8</td>\n",
       "      <td>NaN</td>\n",
       "      <td>...</td>\n",
       "      <td>12.00</td>\n",
       "      <td>NaN</td>\n",
       "      <td>Санкт-Петербург</td>\n",
       "      <td>38900.0</td>\n",
       "      <td>12843.0</td>\n",
       "      <td>0.0</td>\n",
       "      <td>NaN</td>\n",
       "      <td>0.0</td>\n",
       "      <td>NaN</td>\n",
       "      <td>97.0</td>\n",
       "    </tr>\n",
       "  </tbody>\n",
       "</table>\n",
       "<p>20 rows × 22 columns</p>\n",
       "</div>"
      ],
      "text/plain": [
       "    total_images  last_price  total_area first_day_exposition  rooms  \\\n",
       "0             20  13000000.0      108.00  2019-03-07T00:00:00      3   \n",
       "1              7   3350000.0       40.40  2018-12-04T00:00:00      1   \n",
       "2             10   5196000.0       56.00  2015-08-20T00:00:00      2   \n",
       "3              0  64900000.0      159.00  2015-07-24T00:00:00      3   \n",
       "4              2  10000000.0      100.00  2018-06-19T00:00:00      2   \n",
       "5             10   2890000.0       30.40  2018-09-10T00:00:00      1   \n",
       "6              6   3700000.0       37.30  2017-11-02T00:00:00      1   \n",
       "7              5   7915000.0       71.60  2019-04-18T00:00:00      2   \n",
       "8             20   2900000.0       33.16  2018-05-23T00:00:00      1   \n",
       "9             18   5400000.0       61.00  2017-02-26T00:00:00      3   \n",
       "10             5   5050000.0       39.60  2017-11-16T00:00:00      1   \n",
       "11             9   3300000.0       44.00  2018-08-27T00:00:00      2   \n",
       "12            10   3890000.0       54.00  2016-06-30T00:00:00      2   \n",
       "13            20   3550000.0       42.80  2017-07-01T00:00:00      2   \n",
       "14             1   4400000.0       36.00  2016-06-23T00:00:00      1   \n",
       "15            16   4650000.0       39.00  2017-11-18T00:00:00      1   \n",
       "16            11   6700000.0       82.00  2017-11-23T00:00:00      3   \n",
       "17             6   4180000.0       36.00  2016-09-09T00:00:00      1   \n",
       "18             8   3250000.0       31.00  2017-01-27T00:00:00      1   \n",
       "19            16  14200000.0      121.00  2019-01-09T00:00:00      3   \n",
       "\n",
       "    ceiling_height  floors_total  living_area  floor is_apartment  ...  \\\n",
       "0             2.70          16.0        51.00      8          NaN  ...   \n",
       "1              NaN          11.0        18.60      1          NaN  ...   \n",
       "2              NaN           5.0        34.30      4          NaN  ...   \n",
       "3              NaN          14.0          NaN      9          NaN  ...   \n",
       "4             3.03          14.0        32.00     13          NaN  ...   \n",
       "5              NaN          12.0        14.40      5          NaN  ...   \n",
       "6              NaN          26.0        10.60      6          NaN  ...   \n",
       "7              NaN          24.0          NaN     22          NaN  ...   \n",
       "8              NaN          27.0        15.43     26          NaN  ...   \n",
       "9             2.50           9.0        43.60      7          NaN  ...   \n",
       "10            2.67          12.0        20.30      3          NaN  ...   \n",
       "11             NaN           5.0        31.00      4        False  ...   \n",
       "12             NaN           5.0        30.00      5          NaN  ...   \n",
       "13            2.56           5.0        27.00      5          NaN  ...   \n",
       "14             NaN           6.0        17.00      1          NaN  ...   \n",
       "15             NaN          14.0        20.50      5          NaN  ...   \n",
       "16            3.05           5.0        55.60      1          NaN  ...   \n",
       "17             NaN          17.0        16.50      7          NaN  ...   \n",
       "18            2.50           5.0        19.40      2          NaN  ...   \n",
       "19            2.75          16.0        76.00      8          NaN  ...   \n",
       "\n",
       "    kitchen_area  balcony              locality_name  airports_nearest  \\\n",
       "0          25.00      NaN            Санкт-Петербург           18863.0   \n",
       "1          11.00      2.0             посёлок Шушары           12817.0   \n",
       "2           8.30      0.0            Санкт-Петербург           21741.0   \n",
       "3            NaN      0.0            Санкт-Петербург           28098.0   \n",
       "4          41.00      NaN            Санкт-Петербург           31856.0   \n",
       "5           9.10      NaN  городской посёлок Янино-1               NaN   \n",
       "6          14.40      1.0          посёлок Парголово           52996.0   \n",
       "7          18.90      2.0            Санкт-Петербург           23982.0   \n",
       "8           8.81      NaN             посёлок Мурино               NaN   \n",
       "9           6.50      2.0            Санкт-Петербург           50898.0   \n",
       "10          8.50      NaN            Санкт-Петербург           38357.0   \n",
       "11          6.00      1.0                  Ломоносов           48252.0   \n",
       "12          9.00      0.0                  Сертолово               NaN   \n",
       "13          5.20      1.0                   Петергоф           37868.0   \n",
       "14          8.00      0.0                     Пушкин           20782.0   \n",
       "15          7.60      1.0            Санкт-Петербург           12900.0   \n",
       "16          9.00      NaN            Санкт-Петербург           22108.0   \n",
       "17         11.00      1.0            Санкт-Петербург           33564.0   \n",
       "18          5.60      1.0            Санкт-Петербург           44060.0   \n",
       "19         12.00      NaN            Санкт-Петербург           38900.0   \n",
       "\n",
       "   cityCenters_nearest  parks_around3000  parks_nearest  ponds_around3000  \\\n",
       "0              16028.0               1.0          482.0               2.0   \n",
       "1              18603.0               0.0            NaN               0.0   \n",
       "2              13933.0               1.0           90.0               2.0   \n",
       "3               6800.0               2.0           84.0               3.0   \n",
       "4               8098.0               2.0          112.0               1.0   \n",
       "5                  NaN               NaN            NaN               NaN   \n",
       "6              19143.0               0.0            NaN               0.0   \n",
       "7              11634.0               0.0            NaN               0.0   \n",
       "8                  NaN               NaN            NaN               NaN   \n",
       "9              15008.0               0.0            NaN               0.0   \n",
       "10             13878.0               1.0          310.0               2.0   \n",
       "11             51677.0               0.0            NaN               0.0   \n",
       "12                 NaN               NaN            NaN               NaN   \n",
       "13             33058.0               1.0          294.0               3.0   \n",
       "14             30759.0               0.0            NaN               1.0   \n",
       "15             14259.0               1.0          590.0               1.0   \n",
       "16             10698.0               3.0          420.0               0.0   \n",
       "17             14616.0               0.0            NaN               1.0   \n",
       "18             10842.0               1.0          759.0               0.0   \n",
       "19             12843.0               0.0            NaN               0.0   \n",
       "\n",
       "    ponds_nearest  days_exposition  \n",
       "0           755.0              NaN  \n",
       "1             NaN             81.0  \n",
       "2           574.0            558.0  \n",
       "3           234.0            424.0  \n",
       "4            48.0            121.0  \n",
       "5             NaN             55.0  \n",
       "6             NaN            155.0  \n",
       "7             NaN              NaN  \n",
       "8             NaN            189.0  \n",
       "9             NaN            289.0  \n",
       "10          553.0            137.0  \n",
       "11            NaN              7.0  \n",
       "12            NaN             90.0  \n",
       "13          298.0            366.0  \n",
       "14           96.0            203.0  \n",
       "15          296.0             19.0  \n",
       "16            NaN            397.0  \n",
       "17          859.0            571.0  \n",
       "18            NaN            168.0  \n",
       "19            NaN             97.0  \n",
       "\n",
       "[20 rows x 22 columns]"
      ]
     },
     "execution_count": 3,
     "metadata": {},
     "output_type": "execute_result"
    }
   ],
   "source": [
    "df.head(20)"
   ]
  },
  {
   "cell_type": "markdown",
   "metadata": {},
   "source": [
    "Одна строка обозначает одно объявление о продаже квартиры."
   ]
  },
  {
   "cell_type": "markdown",
   "metadata": {},
   "source": [
    "<br>"
   ]
  },
  {
   "cell_type": "markdown",
   "metadata": {},
   "source": [
    "**Изучим сводную информацию о таблице.**"
   ]
  },
  {
   "cell_type": "code",
   "execution_count": 4,
   "metadata": {},
   "outputs": [
    {
     "name": "stdout",
     "output_type": "stream",
     "text": [
      "<class 'pandas.core.frame.DataFrame'>\n",
      "RangeIndex: 23699 entries, 0 to 23698\n",
      "Data columns (total 22 columns):\n",
      " #   Column                Non-Null Count  Dtype  \n",
      "---  ------                --------------  -----  \n",
      " 0   total_images          23699 non-null  int64  \n",
      " 1   last_price            23699 non-null  float64\n",
      " 2   total_area            23699 non-null  float64\n",
      " 3   first_day_exposition  23699 non-null  object \n",
      " 4   rooms                 23699 non-null  int64  \n",
      " 5   ceiling_height        14504 non-null  float64\n",
      " 6   floors_total          23613 non-null  float64\n",
      " 7   living_area           21796 non-null  float64\n",
      " 8   floor                 23699 non-null  int64  \n",
      " 9   is_apartment          2775 non-null   object \n",
      " 10  studio                23699 non-null  bool   \n",
      " 11  open_plan             23699 non-null  bool   \n",
      " 12  kitchen_area          21421 non-null  float64\n",
      " 13  balcony               12180 non-null  float64\n",
      " 14  locality_name         23650 non-null  object \n",
      " 15  airports_nearest      18157 non-null  float64\n",
      " 16  cityCenters_nearest   18180 non-null  float64\n",
      " 17  parks_around3000      18181 non-null  float64\n",
      " 18  parks_nearest         8079 non-null   float64\n",
      " 19  ponds_around3000      18181 non-null  float64\n",
      " 20  ponds_nearest         9110 non-null   float64\n",
      " 21  days_exposition       20518 non-null  float64\n",
      "dtypes: bool(2), float64(14), int64(3), object(3)\n",
      "memory usage: 3.7+ MB\n"
     ]
    }
   ],
   "source": [
    "df.info()"
   ]
  },
  {
   "cell_type": "markdown",
   "metadata": {},
   "source": [
    "**Имеем `22` колонки и `23.699` строк. В большинстве из них видны пропуски.**"
   ]
  },
  {
   "cell_type": "markdown",
   "metadata": {},
   "source": [
    "**Описание колонок:**\n",
    "\n",
    "* `total_images` — число фотографий квартиры в объявлении;\n",
    "* `last_price` — цена на момент снятия с публикации;\n",
    "* `total_area` — общая площадь квартиры в квадратных метрах (м²);\n",
    "* `first_day_exposition` — дата публикации;\n",
    "* `rooms` — число комнат;\n",
    "* `ceiling_height` — высота потолков (м);\n",
    "* `floors_total` — всего этажей в доме;\n",
    "* `living_area` — жилая площадь в квадратных метрах (м²);\n",
    "* `floor` — этаж;\n",
    "* `is_apartment` — апартаменты (булев тип);\n",
    "* `studio` — квартира-студия (булев тип);\n",
    "* `open_plan` — свободная планировка (булев тип);\n",
    "* `kitchen_area` — площадь кухни в квадратных метрах (м²);\n",
    "* `balcony` — число балконов;\n",
    "* `locality_name` — название населённого пункта; \n",
    "* `airports_nearest` — расстояние до ближайшего аэропорта в метрах (м);\n",
    "* `cityCenters_nearest`— расстояние до центра города (м);\n",
    "* `parks_around3000` — число парков в радиусе 3 км;\n",
    "* `parks_nearest` — расстояние до ближайшего парка (м);\n",
    "* `ponds_around3000` — число водоёмов в радиусе 3 км;\n",
    "* `ponds_nearest` — расстояние до ближайшего водоёма (м);\n",
    "* `days_exposition` — сколько дней было размещено объявление (от публикации до снятия)."
   ]
  },
  {
   "cell_type": "markdown",
   "metadata": {},
   "source": [
    "**В датафрейме есть неправильные типы данных:**\n",
    "1. Цена квартиры (`last_price`)\n",
    "2. Дата (`first_day_exposition`)\n",
    "3. Общее количество этажей (`floors_total`)\n",
    "4. Апартаменты ли? (`is_apartment`)\n",
    "5. Общее количество балконов (`balcony`)\n",
    "6. Парки в радиусе 3 км (`parks_around3000`)\n",
    "7. Пруды в радиусе 3 км (`ponds_around3000`)\n",
    "8. Сколько дней было размещено объявление (`days_exposition`)"
   ]
  },
  {
   "cell_type": "markdown",
   "metadata": {},
   "source": [
    "**Выведем статистическое описание числовых колонок.**"
   ]
  },
  {
   "cell_type": "code",
   "execution_count": 5,
   "metadata": {},
   "outputs": [
    {
     "data": {
      "text/html": [
       "<div>\n",
       "<style scoped>\n",
       "    .dataframe tbody tr th:only-of-type {\n",
       "        vertical-align: middle;\n",
       "    }\n",
       "\n",
       "    .dataframe tbody tr th {\n",
       "        vertical-align: top;\n",
       "    }\n",
       "\n",
       "    .dataframe thead th {\n",
       "        text-align: right;\n",
       "    }\n",
       "</style>\n",
       "<table border=\"1\" class=\"dataframe\">\n",
       "  <thead>\n",
       "    <tr style=\"text-align: right;\">\n",
       "      <th></th>\n",
       "      <th>total_images</th>\n",
       "      <th>last_price</th>\n",
       "      <th>total_area</th>\n",
       "      <th>rooms</th>\n",
       "      <th>ceiling_height</th>\n",
       "      <th>floors_total</th>\n",
       "      <th>living_area</th>\n",
       "      <th>floor</th>\n",
       "      <th>kitchen_area</th>\n",
       "      <th>balcony</th>\n",
       "      <th>airports_nearest</th>\n",
       "      <th>cityCenters_nearest</th>\n",
       "      <th>parks_around3000</th>\n",
       "      <th>parks_nearest</th>\n",
       "      <th>ponds_around3000</th>\n",
       "      <th>ponds_nearest</th>\n",
       "      <th>days_exposition</th>\n",
       "    </tr>\n",
       "  </thead>\n",
       "  <tbody>\n",
       "    <tr>\n",
       "      <th>count</th>\n",
       "      <td>23699.000000</td>\n",
       "      <td>2.369900e+04</td>\n",
       "      <td>23699.000000</td>\n",
       "      <td>23699.000000</td>\n",
       "      <td>14504.000000</td>\n",
       "      <td>23613.000000</td>\n",
       "      <td>21796.000000</td>\n",
       "      <td>23699.000000</td>\n",
       "      <td>21421.000000</td>\n",
       "      <td>12180.000000</td>\n",
       "      <td>18157.000000</td>\n",
       "      <td>18180.000000</td>\n",
       "      <td>18181.000000</td>\n",
       "      <td>8079.000000</td>\n",
       "      <td>18181.000000</td>\n",
       "      <td>9110.000000</td>\n",
       "      <td>20518.000000</td>\n",
       "    </tr>\n",
       "    <tr>\n",
       "      <th>mean</th>\n",
       "      <td>9.858475</td>\n",
       "      <td>6.541549e+06</td>\n",
       "      <td>60.348651</td>\n",
       "      <td>2.070636</td>\n",
       "      <td>2.771499</td>\n",
       "      <td>10.673824</td>\n",
       "      <td>34.457852</td>\n",
       "      <td>5.892358</td>\n",
       "      <td>10.569807</td>\n",
       "      <td>1.150082</td>\n",
       "      <td>28793.672193</td>\n",
       "      <td>14191.277833</td>\n",
       "      <td>0.611408</td>\n",
       "      <td>490.804555</td>\n",
       "      <td>0.770255</td>\n",
       "      <td>517.980900</td>\n",
       "      <td>180.888634</td>\n",
       "    </tr>\n",
       "    <tr>\n",
       "      <th>std</th>\n",
       "      <td>5.682529</td>\n",
       "      <td>1.088701e+07</td>\n",
       "      <td>35.654083</td>\n",
       "      <td>1.078405</td>\n",
       "      <td>1.261056</td>\n",
       "      <td>6.597173</td>\n",
       "      <td>22.030445</td>\n",
       "      <td>4.885249</td>\n",
       "      <td>5.905438</td>\n",
       "      <td>1.071300</td>\n",
       "      <td>12630.880622</td>\n",
       "      <td>8608.386210</td>\n",
       "      <td>0.802074</td>\n",
       "      <td>342.317995</td>\n",
       "      <td>0.938346</td>\n",
       "      <td>277.720643</td>\n",
       "      <td>219.727988</td>\n",
       "    </tr>\n",
       "    <tr>\n",
       "      <th>min</th>\n",
       "      <td>0.000000</td>\n",
       "      <td>1.219000e+04</td>\n",
       "      <td>12.000000</td>\n",
       "      <td>0.000000</td>\n",
       "      <td>1.000000</td>\n",
       "      <td>1.000000</td>\n",
       "      <td>2.000000</td>\n",
       "      <td>1.000000</td>\n",
       "      <td>1.300000</td>\n",
       "      <td>0.000000</td>\n",
       "      <td>0.000000</td>\n",
       "      <td>181.000000</td>\n",
       "      <td>0.000000</td>\n",
       "      <td>1.000000</td>\n",
       "      <td>0.000000</td>\n",
       "      <td>13.000000</td>\n",
       "      <td>1.000000</td>\n",
       "    </tr>\n",
       "    <tr>\n",
       "      <th>25%</th>\n",
       "      <td>6.000000</td>\n",
       "      <td>3.400000e+06</td>\n",
       "      <td>40.000000</td>\n",
       "      <td>1.000000</td>\n",
       "      <td>2.520000</td>\n",
       "      <td>5.000000</td>\n",
       "      <td>18.600000</td>\n",
       "      <td>2.000000</td>\n",
       "      <td>7.000000</td>\n",
       "      <td>0.000000</td>\n",
       "      <td>18585.000000</td>\n",
       "      <td>9238.000000</td>\n",
       "      <td>0.000000</td>\n",
       "      <td>288.000000</td>\n",
       "      <td>0.000000</td>\n",
       "      <td>294.000000</td>\n",
       "      <td>45.000000</td>\n",
       "    </tr>\n",
       "    <tr>\n",
       "      <th>50%</th>\n",
       "      <td>9.000000</td>\n",
       "      <td>4.650000e+06</td>\n",
       "      <td>52.000000</td>\n",
       "      <td>2.000000</td>\n",
       "      <td>2.650000</td>\n",
       "      <td>9.000000</td>\n",
       "      <td>30.000000</td>\n",
       "      <td>4.000000</td>\n",
       "      <td>9.100000</td>\n",
       "      <td>1.000000</td>\n",
       "      <td>26726.000000</td>\n",
       "      <td>13098.500000</td>\n",
       "      <td>0.000000</td>\n",
       "      <td>455.000000</td>\n",
       "      <td>1.000000</td>\n",
       "      <td>502.000000</td>\n",
       "      <td>95.000000</td>\n",
       "    </tr>\n",
       "    <tr>\n",
       "      <th>75%</th>\n",
       "      <td>14.000000</td>\n",
       "      <td>6.800000e+06</td>\n",
       "      <td>69.900000</td>\n",
       "      <td>3.000000</td>\n",
       "      <td>2.800000</td>\n",
       "      <td>16.000000</td>\n",
       "      <td>42.300000</td>\n",
       "      <td>8.000000</td>\n",
       "      <td>12.000000</td>\n",
       "      <td>2.000000</td>\n",
       "      <td>37273.000000</td>\n",
       "      <td>16293.000000</td>\n",
       "      <td>1.000000</td>\n",
       "      <td>612.000000</td>\n",
       "      <td>1.000000</td>\n",
       "      <td>729.000000</td>\n",
       "      <td>232.000000</td>\n",
       "    </tr>\n",
       "    <tr>\n",
       "      <th>max</th>\n",
       "      <td>50.000000</td>\n",
       "      <td>7.630000e+08</td>\n",
       "      <td>900.000000</td>\n",
       "      <td>19.000000</td>\n",
       "      <td>100.000000</td>\n",
       "      <td>60.000000</td>\n",
       "      <td>409.700000</td>\n",
       "      <td>33.000000</td>\n",
       "      <td>112.000000</td>\n",
       "      <td>5.000000</td>\n",
       "      <td>84869.000000</td>\n",
       "      <td>65968.000000</td>\n",
       "      <td>3.000000</td>\n",
       "      <td>3190.000000</td>\n",
       "      <td>3.000000</td>\n",
       "      <td>1344.000000</td>\n",
       "      <td>1580.000000</td>\n",
       "    </tr>\n",
       "  </tbody>\n",
       "</table>\n",
       "</div>"
      ],
      "text/plain": [
       "       total_images    last_price    total_area         rooms  ceiling_height  \\\n",
       "count  23699.000000  2.369900e+04  23699.000000  23699.000000    14504.000000   \n",
       "mean       9.858475  6.541549e+06     60.348651      2.070636        2.771499   \n",
       "std        5.682529  1.088701e+07     35.654083      1.078405        1.261056   \n",
       "min        0.000000  1.219000e+04     12.000000      0.000000        1.000000   \n",
       "25%        6.000000  3.400000e+06     40.000000      1.000000        2.520000   \n",
       "50%        9.000000  4.650000e+06     52.000000      2.000000        2.650000   \n",
       "75%       14.000000  6.800000e+06     69.900000      3.000000        2.800000   \n",
       "max       50.000000  7.630000e+08    900.000000     19.000000      100.000000   \n",
       "\n",
       "       floors_total   living_area         floor  kitchen_area       balcony  \\\n",
       "count  23613.000000  21796.000000  23699.000000  21421.000000  12180.000000   \n",
       "mean      10.673824     34.457852      5.892358     10.569807      1.150082   \n",
       "std        6.597173     22.030445      4.885249      5.905438      1.071300   \n",
       "min        1.000000      2.000000      1.000000      1.300000      0.000000   \n",
       "25%        5.000000     18.600000      2.000000      7.000000      0.000000   \n",
       "50%        9.000000     30.000000      4.000000      9.100000      1.000000   \n",
       "75%       16.000000     42.300000      8.000000     12.000000      2.000000   \n",
       "max       60.000000    409.700000     33.000000    112.000000      5.000000   \n",
       "\n",
       "       airports_nearest  cityCenters_nearest  parks_around3000  parks_nearest  \\\n",
       "count      18157.000000         18180.000000      18181.000000    8079.000000   \n",
       "mean       28793.672193         14191.277833          0.611408     490.804555   \n",
       "std        12630.880622          8608.386210          0.802074     342.317995   \n",
       "min            0.000000           181.000000          0.000000       1.000000   \n",
       "25%        18585.000000          9238.000000          0.000000     288.000000   \n",
       "50%        26726.000000         13098.500000          0.000000     455.000000   \n",
       "75%        37273.000000         16293.000000          1.000000     612.000000   \n",
       "max        84869.000000         65968.000000          3.000000    3190.000000   \n",
       "\n",
       "       ponds_around3000  ponds_nearest  days_exposition  \n",
       "count      18181.000000    9110.000000     20518.000000  \n",
       "mean           0.770255     517.980900       180.888634  \n",
       "std            0.938346     277.720643       219.727988  \n",
       "min            0.000000      13.000000         1.000000  \n",
       "25%            0.000000     294.000000        45.000000  \n",
       "50%            1.000000     502.000000        95.000000  \n",
       "75%            1.000000     729.000000       232.000000  \n",
       "max            3.000000    1344.000000      1580.000000  "
      ]
     },
     "execution_count": 5,
     "metadata": {},
     "output_type": "execute_result"
    }
   ],
   "source": [
    "df.describe()"
   ]
  },
  {
   "cell_type": "markdown",
   "metadata": {},
   "source": [
    "Максимальные значения показывают много фантастических данных, например, 19 комнатные квартиры... Допустим, они существуют.\n",
    "Но потолок высотой 100 метров? Нет, такого не может быть ни за какие деньги. Также высоты потолков в 1 метр не может быть."
   ]
  },
  {
   "cell_type": "markdown",
   "metadata": {},
   "source": [
    "**Построим общую гистограмму для всех числовых колонок таблицы.**"
   ]
  },
  {
   "cell_type": "code",
   "execution_count": 6,
   "metadata": {
    "scrolled": true,
    "tags": []
   },
   "outputs": [
    {
     "data": {
      "image/png": "[encoded data removed]",
      "text/plain": [
       "<Figure size 1080x1440 with 20 Axes>"
      ]
     },
     "metadata": {
      "needs_background": "light"
     },
     "output_type": "display_data"
    }
   ],
   "source": [
    "df.hist(bins=20, figsize=(15, 20))\n",
    "plt.show()"
   ]
  },
  {
   "cell_type": "markdown",
   "metadata": {},
   "source": [
    "Что означают оси на графиках:\\\n",
    "`ось X` — значение в рассматриваемой колонке\\\n",
    "`ось Y` — сколько раз это значение встречается в колонке\\\n",
    "Допустим, значение `20` в колонке `total_images` встречается `1694 раза`.\\\n",
    "Это значит, что 1694 объявлений имеют по 20 фотографий.\\\n",
    "Код снизу подтверждает этот факт."
   ]
  },
  {
   "cell_type": "code",
   "execution_count": 7,
   "metadata": {},
   "outputs": [
    {
     "data": {
      "text/plain": [
       "1694"
      ]
     },
     "execution_count": 7,
     "metadata": {},
     "output_type": "execute_result"
    }
   ],
   "source": [
    "df.query('total_images == 20')['total_images'].count()"
   ]
  },
  {
   "cell_type": "markdown",
   "metadata": {},
   "source": [
    "Предоставленные гистограммы дают лишь первый взгляд на данные, не более."
   ]
  },
  {
   "cell_type": "markdown",
   "metadata": {},
   "source": [
    "<hr>"
   ]
  },
  {
   "cell_type": "markdown",
   "metadata": {},
   "source": [
    "### Предобработка данных"
   ]
  },
  {
   "cell_type": "markdown",
   "metadata": {},
   "source": [
    "#### Пропущенные значения"
   ]
  },
  {
   "cell_type": "markdown",
   "metadata": {},
   "source": [
    "**Определим, в каких колонках есть пропуски**"
   ]
  },
  {
   "cell_type": "code",
   "execution_count": 8,
   "metadata": {},
   "outputs": [
    {
     "data": {
      "text/plain": [
       "total_images                0\n",
       "last_price                  0\n",
       "total_area                  0\n",
       "first_day_exposition        0\n",
       "rooms                       0\n",
       "ceiling_height           9195\n",
       "floors_total               86\n",
       "living_area              1903\n",
       "floor                       0\n",
       "is_apartment            20924\n",
       "studio                      0\n",
       "open_plan                   0\n",
       "kitchen_area             2278\n",
       "balcony                 11519\n",
       "locality_name              49\n",
       "airports_nearest         5542\n",
       "cityCenters_nearest      5519\n",
       "parks_around3000         5518\n",
       "parks_nearest           15620\n",
       "ponds_around3000         5518\n",
       "ponds_nearest           14589\n",
       "days_exposition          3181\n",
       "dtype: int64"
      ]
     },
     "execution_count": 8,
     "metadata": {},
     "output_type": "execute_result"
    }
   ],
   "source": [
    "df.isna().sum()"
   ]
  },
  {
   "cell_type": "markdown",
   "metadata": {},
   "source": [
    "Есть пропуски в:\n",
    "1. `ceiling_height` - 9195 - высота потолков (м) \n",
    "2. `floors_total` - 86 - всего этажей в доме\n",
    "3. `living_area` - 1903 - жилая площадь в квадратных метрах(м2)\n",
    "4. `is_apartment` - 20924 - апартаменты (булев тип)\n",
    "5. `kitchen_area` - 2278 - площадь кухни в квадратных метрах (м2)\n",
    "6. `balcony` - 11519 - число балконов\n",
    "7. `locality_name` - 49 - название населённого пункта\n",
    "8. `airports_nearest` - 5542 - расстояние до ближайшего аэропорта в метрах (м)\n",
    "9. `cityCenters_nearest` - 5519 - расстояние до центра города (м)\n",
    "10. `parks_around3000` - 5518 - число парков в радиусе 3 км\n",
    "11. `parks_nearest` - 15620 - расстояние до ближайшего парка (м)\n",
    "12. `ponds_around3000` - 5518 - число парков в радиусе 3 км\n",
    "13. `ponds_nearest` - 14589 - расстояние до ближайшего водоёма (м)\n",
    "14. `days_exposition` - 3181 - сколько дней было размещено объявление (от публикации до снятия)"
   ]
  },
  {
   "cell_type": "markdown",
   "metadata": {},
   "source": [
    "**Заполним пропущенные значения**"
   ]
  },
  {
   "cell_type": "markdown",
   "metadata": {},
   "source": [
    "Мы не будем трогать пропуски в количестве этажей, высоте потолков, кухонной и жилой площадях. Не будем заниматься гаданием.\\\n",
    "Иначе это не будет отражать действительность, а лишь будут заполнения пропусокв ради заполнений пропусков."
   ]
  },
  {
   "cell_type": "markdown",
   "metadata": {},
   "source": [
    "Но мы можем рассчитать нежилую площадь там, где это возможно.\\\n",
    "Добавим новую колонну с нежилой площадью.\\\n",
    "Нежилая площадь – пространство, включающее коридор, кухню, санузел (ванную и туалет), балкон, лоджию. Сюда относятся кладовые, прихожие, гардеробные."
   ]
  },
  {
   "cell_type": "code",
   "execution_count": 9,
   "metadata": {},
   "outputs": [],
   "source": [
    "df['non_residential_area'] = df['total_area'] - df['living_area']"
   ]
  },
  {
   "cell_type": "markdown",
   "metadata": {},
   "source": [
    "Выясним, сколько всего пропусков по площадям."
   ]
  },
  {
   "cell_type": "code",
   "execution_count": 10,
   "metadata": {},
   "outputs": [
    {
     "data": {
      "text/plain": [
       "total_area                 0\n",
       "kitchen_area            2278\n",
       "living_area             1903\n",
       "non_residential_area    1903\n",
       "dtype: int64"
      ]
     },
     "execution_count": 10,
     "metadata": {},
     "output_type": "execute_result"
    }
   ],
   "source": [
    "df[['total_area', 'kitchen_area', 'living_area', 'non_residential_area']].isna().sum()"
   ]
  },
  {
   "cell_type": "markdown",
   "metadata": {},
   "source": [
    "<br>"
   ]
  },
  {
   "cell_type": "markdown",
   "metadata": {},
   "source": [
    "Заполним пропуски в балконах.\\\n",
    "Будем использовать заглушку в виде нуля (0). Т.е. там, где стояли пропуски, будет отображён нуль."
   ]
  },
  {
   "cell_type": "code",
   "execution_count": 11,
   "metadata": {},
   "outputs": [],
   "source": [
    "df['balcony'] = df['balcony'].fillna(0)"
   ]
  },
  {
   "cell_type": "markdown",
   "metadata": {},
   "source": [
    "Заполним пропуски, является ли квартира аппартаментами."
   ]
  },
  {
   "cell_type": "code",
   "execution_count": 12,
   "metadata": {},
   "outputs": [],
   "source": [
    "df['is_apartment'] = df['is_apartment'].fillna(False)"
   ]
  },
  {
   "cell_type": "markdown",
   "metadata": {},
   "source": [
    "<br>"
   ]
  },
  {
   "cell_type": "markdown",
   "metadata": {},
   "source": [
    "Пропуски по различным объектам рядом с квартирами тоже оставим без изменений."
   ]
  },
  {
   "cell_type": "markdown",
   "metadata": {},
   "source": [
    "Удалим строки, где в названии населённого пункта есть пропуск. Где находится квартира-то?\\\n",
    "Благо, таких строк всего 49, они не повлияют на статистику."
   ]
  },
  {
   "cell_type": "code",
   "execution_count": 13,
   "metadata": {
    "scrolled": true
   },
   "outputs": [],
   "source": [
    "df = df.dropna(subset=['locality_name'])"
   ]
  },
  {
   "cell_type": "markdown",
   "metadata": {},
   "source": [
    "<br>"
   ]
  },
  {
   "cell_type": "markdown",
   "metadata": {},
   "source": [
    "#### Типы данных колонок"
   ]
  },
  {
   "cell_type": "markdown",
   "metadata": {},
   "source": [
    "Напомним колонки, в которых нужно изменить тип данных на правильный:\n",
    "1. Цена квартиры (`last_price`)\n",
    "2. Дата публикации (`first_day_exposition`)\n",
    "3. Общее количество этажей (`floors_total`)\n",
    "4. Общее количество балконов (`balcony`)\n",
    "5. Парки в радиусе 3 км (`parks_around3000`)\n",
    "6. Пруды в радиусе 3 км (`ponds_around3000`)\n",
    "7. Сколько дней было размещено объявление (`days_exposition`)"
   ]
  },
  {
   "cell_type": "markdown",
   "metadata": {},
   "source": [
    "Отобразим типы данных колонок."
   ]
  },
  {
   "cell_type": "code",
   "execution_count": 14,
   "metadata": {},
   "outputs": [
    {
     "data": {
      "text/plain": [
       "last_price              float64\n",
       "first_day_exposition     object\n",
       "floors_total            float64\n",
       "balcony                 float64\n",
       "parks_around3000        float64\n",
       "ponds_around3000        float64\n",
       "days_exposition         float64\n",
       "dtype: object"
      ]
     },
     "execution_count": 14,
     "metadata": {},
     "output_type": "execute_result"
    }
   ],
   "source": [
    "df[['last_price', 'first_day_exposition', 'floors_total', 'balcony', 'parks_around3000', 'ponds_around3000', 'days_exposition']].dtypes"
   ]
  },
  {
   "cell_type": "markdown",
   "metadata": {},
   "source": [
    "Преобразуем тип данных в выбранных колонках."
   ]
  },
  {
   "cell_type": "code",
   "execution_count": 15,
   "metadata": {},
   "outputs": [],
   "source": [
    "# цена квартиры\n",
    "df['last_price'] = df['last_price'].astype('int')"
   ]
  },
  {
   "cell_type": "code",
   "execution_count": 16,
   "metadata": {},
   "outputs": [
    {
     "data": {
      "text/plain": [
       "(23650, 23)"
      ]
     },
     "execution_count": 16,
     "metadata": {},
     "output_type": "execute_result"
    }
   ],
   "source": [
    "df.shape"
   ]
  },
  {
   "cell_type": "code",
   "execution_count": 17,
   "metadata": {},
   "outputs": [],
   "source": [
    "# дата публикации\n",
    "df['first_day_exposition'] = pd.to_datetime(df['first_day_exposition'], format='%Y-%m-%dT%H:%M:%S')"
   ]
  },
  {
   "cell_type": "code",
   "execution_count": 18,
   "metadata": {},
   "outputs": [
    {
     "data": {
      "text/plain": [
       "(23650, 23)"
      ]
     },
     "execution_count": 18,
     "metadata": {},
     "output_type": "execute_result"
    }
   ],
   "source": [
    "df.shape"
   ]
  },
  {
   "cell_type": "code",
   "execution_count": 19,
   "metadata": {},
   "outputs": [],
   "source": [
    "# общее количество этажей\n",
    "df['floors_total'] = df['floors_total'].astype('Int64')"
   ]
  },
  {
   "cell_type": "code",
   "execution_count": 20,
   "metadata": {},
   "outputs": [
    {
     "data": {
      "text/plain": [
       "(23650, 23)"
      ]
     },
     "execution_count": 20,
     "metadata": {},
     "output_type": "execute_result"
    }
   ],
   "source": [
    "df.shape"
   ]
  },
  {
   "cell_type": "code",
   "execution_count": 21,
   "metadata": {},
   "outputs": [],
   "source": [
    "# общее количество балконов\n",
    "df['balcony'] = df['balcony'].astype('Int64')"
   ]
  },
  {
   "cell_type": "code",
   "execution_count": 22,
   "metadata": {},
   "outputs": [
    {
     "data": {
      "text/plain": [
       "(23650, 23)"
      ]
     },
     "execution_count": 22,
     "metadata": {},
     "output_type": "execute_result"
    }
   ],
   "source": [
    "df.shape"
   ]
  },
  {
   "cell_type": "code",
   "execution_count": 23,
   "metadata": {},
   "outputs": [],
   "source": [
    "# парки в радиусе 3 км\n",
    "df['parks_around3000'] = df['parks_around3000'].astype('Int64')"
   ]
  },
  {
   "cell_type": "code",
   "execution_count": 24,
   "metadata": {},
   "outputs": [
    {
     "data": {
      "text/plain": [
       "(23650, 23)"
      ]
     },
     "execution_count": 24,
     "metadata": {},
     "output_type": "execute_result"
    }
   ],
   "source": [
    "df.shape"
   ]
  },
  {
   "cell_type": "code",
   "execution_count": 25,
   "metadata": {},
   "outputs": [],
   "source": [
    "# парки в радиусе 3 км\n",
    "df['ponds_around3000'] = df['ponds_around3000'].astype('Int64')"
   ]
  },
  {
   "cell_type": "code",
   "execution_count": 26,
   "metadata": {},
   "outputs": [
    {
     "data": {
      "text/plain": [
       "(23650, 23)"
      ]
     },
     "execution_count": 26,
     "metadata": {},
     "output_type": "execute_result"
    }
   ],
   "source": [
    "df.shape"
   ]
  },
  {
   "cell_type": "code",
   "execution_count": 27,
   "metadata": {},
   "outputs": [],
   "source": [
    "# сколько дней было размещено объявление\n",
    "df['days_exposition'] = df['days_exposition'].round().astype('Int64')"
   ]
  },
  {
   "cell_type": "code",
   "execution_count": 28,
   "metadata": {},
   "outputs": [
    {
     "data": {
      "text/plain": [
       "(23650, 23)"
      ]
     },
     "execution_count": 28,
     "metadata": {},
     "output_type": "execute_result"
    }
   ],
   "source": [
    "df.shape"
   ]
  },
  {
   "cell_type": "markdown",
   "metadata": {},
   "source": [
    "Проверим, поменялся ли тип данных."
   ]
  },
  {
   "cell_type": "code",
   "execution_count": 29,
   "metadata": {},
   "outputs": [
    {
     "data": {
      "text/plain": [
       "last_price                       int32\n",
       "first_day_exposition    datetime64[ns]\n",
       "floors_total                     Int64\n",
       "balcony                          Int64\n",
       "parks_around3000                 Int64\n",
       "ponds_around3000                 Int64\n",
       "days_exposition                  Int64\n",
       "dtype: object"
      ]
     },
     "execution_count": 29,
     "metadata": {},
     "output_type": "execute_result"
    }
   ],
   "source": [
    "df[['last_price', 'first_day_exposition', 'floors_total', 'balcony', 'parks_around3000', 'ponds_around3000', 'days_exposition']].dtypes"
   ]
  },
  {
   "cell_type": "markdown",
   "metadata": {},
   "source": [
    "Поменяли тип данных в 7 колонках:\n",
    "1. Дату сделали понятной для человека\n",
    "2. Общему количеству этажей, балконам, паркам и прудам вокруг назначили тип данных int. Потому что странно считать два с половиной балкона."
   ]
  },
  {
   "cell_type": "markdown",
   "metadata": {},
   "source": [
    "<br>"
   ]
  },
  {
   "cell_type": "markdown",
   "metadata": {},
   "source": [
    "#### Дубликаты"
   ]
  },
  {
   "cell_type": "markdown",
   "metadata": {},
   "source": [
    "**Явные дубликаты**"
   ]
  },
  {
   "cell_type": "markdown",
   "metadata": {},
   "source": [
    "Сначала посчитаем количество явных дубликатов."
   ]
  },
  {
   "cell_type": "code",
   "execution_count": 30,
   "metadata": {},
   "outputs": [
    {
     "data": {
      "text/plain": [
       "0"
      ]
     },
     "execution_count": 30,
     "metadata": {},
     "output_type": "execute_result"
    }
   ],
   "source": [
    "df.duplicated().sum()"
   ]
  },
  {
   "cell_type": "markdown",
   "metadata": {},
   "source": [
    "Полностью дублирующихся строк нет. Здесь предобработка не нужна. "
   ]
  },
  {
   "cell_type": "markdown",
   "metadata": {},
   "source": [
    "<br>"
   ]
  },
  {
   "cell_type": "markdown",
   "metadata": {},
   "source": [
    "**Неявные дубликаты**"
   ]
  },
  {
   "cell_type": "markdown",
   "metadata": {},
   "source": [
    "Колонка `locality_name` содержит населённый пункт, где находится квартира из объявления.\\\n",
    "Посмотрим, в каких населённых пунктах находятся эти квартиры."
   ]
  },
  {
   "cell_type": "code",
   "execution_count": 31,
   "metadata": {},
   "outputs": [
    {
     "data": {
      "text/plain": [
       "array(['Бокситогорск', 'Волосово', 'Волхов', 'Всеволожск', 'Выборг',\n",
       "       'Высоцк', 'Гатчина', 'Зеленогорск', 'Ивангород', 'Каменногорск',\n",
       "       'Кингисепп', 'Кириши', 'Кировск', 'Колпино', 'Коммунар',\n",
       "       'Красное Село', 'Кронштадт', 'Кудрово', 'Лодейное Поле',\n",
       "       'Ломоносов', 'Луга', 'Любань', 'Мурино', 'Никольское',\n",
       "       'Новая Ладога', 'Отрадное', 'Павловск', 'Петергоф', 'Пикалёво',\n",
       "       'Подпорожье', 'Приморск', 'Приозерск', 'Пушкин', 'Санкт-Петербург',\n",
       "       'Светогорск', 'Сертолово', 'Сестрорецк', 'Сланцы', 'Сосновый Бор',\n",
       "       'Сясьстрой', 'Тихвин', 'Тосно', 'Шлиссельбург',\n",
       "       'городской поселок Большая Ижора', 'городской поселок Янино-1',\n",
       "       'городской посёлок Будогощь', 'городской посёлок Виллози',\n",
       "       'городской посёлок Лесогорский', 'городской посёлок Мга',\n",
       "       'городской посёлок Назия', 'городской посёлок Новоселье',\n",
       "       'городской посёлок Павлово', 'городской посёлок Рощино',\n",
       "       'городской посёлок Свирьстрой', 'городской посёлок Советский',\n",
       "       'городской посёлок Фёдоровское', 'городской посёлок Янино-1',\n",
       "       'деревня Агалатово', 'деревня Аро', 'деревня Батово',\n",
       "       'деревня Бегуницы', 'деревня Белогорка', 'деревня Большая Вруда',\n",
       "       'деревня Большая Пустомержа', 'деревня Большие Колпаны',\n",
       "       'деревня Большое Рейзино', 'деревня Большой Сабск', 'деревня Бор',\n",
       "       'деревня Борисова Грива', 'деревня Ваганово', 'деревня Вартемяги',\n",
       "       'деревня Вахнова Кара', 'деревня Выскатка', 'деревня Гарболово',\n",
       "       'деревня Глинка', 'деревня Горбунки', 'деревня Гостилицы',\n",
       "       'деревня Заклинье', 'деревня Заневка', 'деревня Зимитицы',\n",
       "       'деревня Извара', 'деревня Иссад', 'деревня Калитино',\n",
       "       'деревня Кальтино', 'деревня Камышовка', 'деревня Каськово',\n",
       "       'деревня Келози', 'деревня Кипень', 'деревня Кисельня',\n",
       "       'деревня Колтуши', 'деревня Коркино', 'деревня Котлы',\n",
       "       'деревня Кривко', 'деревня Кудрово', 'деревня Кузьмолово',\n",
       "       'деревня Курковицы', 'деревня Куровицы', 'деревня Куттузи',\n",
       "       'деревня Лаврики', 'деревня Лаголово', 'деревня Лампово',\n",
       "       'деревня Лесколово', 'деревня Лопухинка', 'деревня Лупполово',\n",
       "       'деревня Малая Романовка', 'деревня Малое Верево',\n",
       "       'деревня Малое Карлино', 'деревня Малые Колпаны',\n",
       "       'деревня Мануйлово', 'деревня Меньково', 'деревня Мины',\n",
       "       'деревня Мистолово', 'деревня Ненимяки', 'деревня Нижние Осельки',\n",
       "       'деревня Нижняя', 'деревня Низино', 'деревня Новое Девяткино',\n",
       "       'деревня Новолисино', 'деревня Нурма', 'деревня Оржицы',\n",
       "       'деревня Парицы', 'деревня Пельгора', 'деревня Пеники',\n",
       "       'деревня Пижма', 'деревня Пикколово', 'деревня Пудомяги',\n",
       "       'деревня Пустынка', 'деревня Пчева', 'деревня Рабитицы',\n",
       "       'деревня Разбегаево', 'деревня Раздолье', 'деревня Разметелево',\n",
       "       'деревня Рапполово', 'деревня Реброво', 'деревня Русско',\n",
       "       'деревня Сижно', 'деревня Снегирёвка', 'деревня Старая',\n",
       "       'деревня Старая Пустошь', 'деревня Старое Хинколово',\n",
       "       'деревня Старополье', 'деревня Старосиверская',\n",
       "       'деревня Старые Бегуницы', 'деревня Суоранда',\n",
       "       'деревня Сяськелево', 'деревня Тарасово', 'деревня Терпилицы',\n",
       "       'деревня Тихковицы', 'деревня Тойворово', 'деревня Торосово',\n",
       "       'деревня Торошковичи', 'деревня Трубников Бор',\n",
       "       'деревня Фалилеево', 'деревня Фёдоровское', 'деревня Хапо-Ое',\n",
       "       'деревня Хязельки', 'деревня Чудской Бор', 'деревня Шпаньково',\n",
       "       'деревня Щеглово', 'деревня Юкки', 'деревня Ялгино',\n",
       "       'деревня Яльгелево', 'деревня Ям-Тесово',\n",
       "       'коттеджный поселок Кивеннапа Север', 'коттеджный поселок Счастье',\n",
       "       'коттеджный посёлок Лесное', 'поселок Аннино', 'поселок Барышево',\n",
       "       'поселок Бугры', 'поселок Возрождение', 'поселок Войсковицы',\n",
       "       'поселок Володарское', 'поселок Гаврилово', 'поселок Гарболово',\n",
       "       'поселок Гладкое', 'поселок Глажево', 'поселок Глебычево',\n",
       "       'поселок Гончарово', 'поселок Громово', 'поселок Дружноселье',\n",
       "       'поселок Елизаветино', 'поселок Жилгородок', 'поселок Жилпосёлок',\n",
       "       'поселок Житково', 'поселок Заводской', 'поселок Запорожское',\n",
       "       'поселок Зимитицы', 'поселок Ильичёво', 'поселок Калитино',\n",
       "       'поселок Каложицы', 'поселок Кингисеппский', 'поселок Кирпичное',\n",
       "       'поселок Кобралово', 'поселок Кобринское', 'поселок Коммунары',\n",
       "       'поселок Коробицыно', 'поселок Котельский',\n",
       "       'поселок Красная Долина', 'поселок Красносельское',\n",
       "       'поселок Лесное', 'поселок Лисий Нос', 'поселок Лукаши',\n",
       "       'поселок Любань', 'поселок Мельниково', 'поселок Мичуринское',\n",
       "       'поселок Молодцово', 'поселок Мурино', 'поселок Новый Свет',\n",
       "       'поселок Новый Учхоз', 'поселок Оредеж',\n",
       "       'поселок Пансионат Зелёный Бор', 'поселок Первомайское',\n",
       "       'поселок Перово', 'поселок Петровское', 'поселок Победа',\n",
       "       'поселок Поляны', 'поселок Почап', 'поселок Починок',\n",
       "       'поселок Пушное', 'поселок Пчевжа', 'поселок Рабитицы',\n",
       "       'поселок Романовка', 'поселок Ромашки', 'поселок Рябово',\n",
       "       'поселок Севастьяново', 'поселок Селезнёво', 'поселок Сельцо',\n",
       "       'поселок Семиозерье', 'поселок Семрино', 'поселок Серебрянский',\n",
       "       'поселок Совхозный', 'поселок Старая Малукса',\n",
       "       'поселок Стеклянный', 'поселок Сумино', 'поселок Суходолье',\n",
       "       'поселок Тельмана', 'поселок Терволово', 'поселок Торковичи',\n",
       "       'поселок Тёсово-4', 'поселок Углово', 'поселок Усть-Луга',\n",
       "       'поселок Ушаки', 'поселок Цвелодубово', 'поселок Цвылёво',\n",
       "       'поселок городского типа Большая Ижора',\n",
       "       'поселок городского типа Вырица',\n",
       "       'поселок городского типа Дружная Горка',\n",
       "       'поселок городского типа Дубровка',\n",
       "       'поселок городского типа Ефимовский',\n",
       "       'поселок городского типа Кондратьево',\n",
       "       'поселок городского типа Красный Бор',\n",
       "       'поселок городского типа Кузьмоловский',\n",
       "       'поселок городского типа Лебяжье',\n",
       "       'поселок городского типа Лесогорский',\n",
       "       'поселок городского типа Назия',\n",
       "       'поселок городского типа Никольский',\n",
       "       'поселок городского типа Приладожский',\n",
       "       'поселок городского типа Рахья', 'поселок городского типа Рощино',\n",
       "       'поселок городского типа Рябово',\n",
       "       'поселок городского типа Синявино',\n",
       "       'поселок городского типа Советский',\n",
       "       'поселок городского типа Токсово',\n",
       "       'поселок городского типа Форносово',\n",
       "       'поселок городского типа имени Свердлова',\n",
       "       'поселок станции Вещево', 'поселок станции Корнево',\n",
       "       'поселок станции Лужайка', 'поселок станции Приветнинское',\n",
       "       'посёлок Александровская', 'посёлок Алексеевка', 'посёлок Аннино',\n",
       "       'посёлок Белоостров', 'посёлок Бугры', 'посёлок Возрождение',\n",
       "       'посёлок Войскорово', 'посёлок Высокоключевой',\n",
       "       'посёлок Гаврилово', 'посёлок Дзержинского', 'посёлок Жилгородок',\n",
       "       'посёлок Ильичёво', 'посёлок Кикерино', 'посёлок Кобралово',\n",
       "       'посёлок Коробицыно', 'посёлок Левашово', 'посёлок Ленинское',\n",
       "       'посёлок Лисий Нос', 'посёлок Мельниково', 'посёлок Металлострой',\n",
       "       'посёлок Мичуринское', 'посёлок Молодёжное', 'посёлок Мурино',\n",
       "       'посёлок Мыза-Ивановка', 'посёлок Новогорелово',\n",
       "       'посёлок Новый Свет', 'посёлок Пансионат Зелёный Бор',\n",
       "       'посёлок Парголово', 'посёлок Перово', 'посёлок Песочный',\n",
       "       'посёлок Петро-Славянка', 'посёлок Петровское',\n",
       "       'посёлок Платформа 69-й километр', 'посёлок Плодовое',\n",
       "       'посёлок Плоское', 'посёлок Победа', 'посёлок Поляны',\n",
       "       'посёлок Понтонный', 'посёлок Пригородный', 'посёлок Пудость',\n",
       "       'посёлок Репино', 'посёлок Ропша', 'посёлок Сапёрное',\n",
       "       'посёлок Сапёрный', 'посёлок Сосново', 'посёлок Старая Малукса',\n",
       "       'посёлок Стеклянный', 'посёлок Стрельна', 'посёлок Суйда',\n",
       "       'посёлок Сумино', 'посёлок Тельмана', 'посёлок Терволово',\n",
       "       'посёлок Торфяное', 'посёлок Усть-Ижора', 'посёлок Усть-Луга',\n",
       "       'посёлок Форт Красная Горка', 'посёлок Шугозеро', 'посёлок Шушары',\n",
       "       'посёлок Щеглово', 'посёлок городского типа Важины',\n",
       "       'посёлок городского типа Вознесенье',\n",
       "       'посёлок городского типа Вырица',\n",
       "       'посёлок городского типа Красный Бор',\n",
       "       'посёлок городского типа Кузнечное',\n",
       "       'посёлок городского типа Кузьмоловский',\n",
       "       'посёлок городского типа Лебяжье', 'посёлок городского типа Мга',\n",
       "       'посёлок городского типа Павлово',\n",
       "       'посёлок городского типа Рощино', 'посёлок городского типа Рябово',\n",
       "       'посёлок городского типа Сиверский',\n",
       "       'посёлок городского типа Тайцы', 'посёлок городского типа Токсово',\n",
       "       'посёлок городского типа Ульяновка',\n",
       "       'посёлок городского типа Форносово',\n",
       "       'посёлок городского типа имени Морозова',\n",
       "       'посёлок городского типа имени Свердлова',\n",
       "       'посёлок при железнодорожной станции Вещево',\n",
       "       'посёлок при железнодорожной станции Приветнинское',\n",
       "       'посёлок станции Громово', 'посёлок станции Свирь',\n",
       "       'садоводческое некоммерческое товарищество Лесная Поляна',\n",
       "       'садовое товарищество Новая Ропша',\n",
       "       'садовое товарищество Приладожский', 'садовое товарищество Рахья',\n",
       "       'садовое товарищество Садко', 'село Копорье', 'село Никольское',\n",
       "       'село Павлово', 'село Паша', 'село Путилово', 'село Рождествено',\n",
       "       'село Русско-Высоцкое', 'село Старая Ладога', 'село Шум'],\n",
       "      dtype=object)"
      ]
     },
     "execution_count": 31,
     "metadata": {},
     "output_type": "execute_result"
    }
   ],
   "source": [
    "df['locality_name'].sort_values().unique()"
   ]
  },
  {
   "cell_type": "markdown",
   "metadata": {},
   "source": [
    "Сколько уникальных значений в колонке `locality_name`?"
   ]
  },
  {
   "cell_type": "code",
   "execution_count": 32,
   "metadata": {
    "scrolled": true
   },
   "outputs": [
    {
     "data": {
      "text/plain": [
       "364"
      ]
     },
     "execution_count": 32,
     "metadata": {},
     "output_type": "execute_result"
    }
   ],
   "source": [
    "df['locality_name'].nunique()"
   ]
  },
  {
   "cell_type": "markdown",
   "metadata": {},
   "source": [
    "Сколько объявлений содержит каждое из 364 названий населённых пунктов?"
   ]
  },
  {
   "cell_type": "code",
   "execution_count": 33,
   "metadata": {},
   "outputs": [
    {
     "data": {
      "text/plain": [
       "Санкт-Петербург                       15721\n",
       "посёлок Мурино                          522\n",
       "посёлок Шушары                          440\n",
       "Всеволожск                              398\n",
       "Пушкин                                  369\n",
       "                                      ...  \n",
       "деревня Трубников Бор                     1\n",
       "деревня Малая Романовка                   1\n",
       "коттеджный поселок Кивеннапа Север        1\n",
       "деревня Лаврики                           1\n",
       "поселок Жилгородок                        1\n",
       "Name: locality_name, Length: 364, dtype: int64"
      ]
     },
     "execution_count": 33,
     "metadata": {},
     "output_type": "execute_result"
    }
   ],
   "source": [
    "df['locality_name'].value_counts()"
   ]
  },
  {
   "cell_type": "markdown",
   "metadata": {},
   "source": [
    "<br>"
   ]
  },
  {
   "cell_type": "markdown",
   "metadata": {},
   "source": [
    "В глаза бросается буква `ё`, она создаёт неявные дубли.\\\n",
    "Заменим её везде на `е`.\\\n",
    "Уберём часть строк ` при железнодорожной` и превратим `городской поселок` в `поселок городского типа`."
   ]
  },
  {
   "cell_type": "code",
   "execution_count": 34,
   "metadata": {},
   "outputs": [],
   "source": [
    "df['locality_name'] = df['locality_name'].str.replace('ё', 'е')\n",
    "df['locality_name'] = df['locality_name'].str.replace(' при железнодорожной', '')\n",
    "df['locality_name'] = df['locality_name'].str.replace('поселок Рябово', 'поселок городского типа Рябово')\n",
    "df['locality_name'] = df['locality_name'].str.replace('городской поселок', 'поселок городского типа')"
   ]
  },
  {
   "cell_type": "markdown",
   "metadata": {},
   "source": [
    "Посмотрим, сколько теперь уникальных населённых пунктов осталось."
   ]
  },
  {
   "cell_type": "code",
   "execution_count": 35,
   "metadata": {},
   "outputs": [
    {
     "data": {
      "text/plain": [
       "320"
      ]
     },
     "execution_count": 35,
     "metadata": {},
     "output_type": "execute_result"
    }
   ],
   "source": [
    "df['locality_name'].nunique()"
   ]
  },
  {
   "cell_type": "markdown",
   "metadata": {},
   "source": [
    "<br>"
   ]
  },
  {
   "cell_type": "markdown",
   "metadata": {},
   "source": [
    "#### Аномальные значения"
   ]
  },
  {
   "cell_type": "markdown",
   "metadata": {},
   "source": [
    "У нас в датасете есть квартиры с потолками более 10 метров и менее 2 метров. Посмотрим, сколько их."
   ]
  },
  {
   "cell_type": "code",
   "execution_count": 36,
   "metadata": {},
   "outputs": [
    {
     "data": {
      "text/plain": [
       "28"
      ]
     },
     "execution_count": 36,
     "metadata": {},
     "output_type": "execute_result"
    }
   ],
   "source": [
    "df[df['ceiling_height'] >= 10]['ceiling_height'].count() + df.loc[df['ceiling_height'] < 2, 'ceiling_height'].count()"
   ]
  },
  {
   "cell_type": "markdown",
   "metadata": {},
   "source": [
    "Их совсем немного.\\\n",
    "Предположим, что в квартирах с потолками 20 метров и выше была допущена опечатка, поделим такие потолки на 10, тогда данные будут выглядеть правдоподобно."
   ]
  },
  {
   "cell_type": "code",
   "execution_count": 37,
   "metadata": {},
   "outputs": [],
   "source": [
    "df.loc[df['ceiling_height'] >= 20, 'ceiling_height'] = df.loc[df['ceiling_height'] >= 20, 'ceiling_height'] / 10"
   ]
  },
  {
   "cell_type": "markdown",
   "metadata": {},
   "source": [
    "Также избавимся от строк, где потолки меньше двух метров и больше десяти метров."
   ]
  },
  {
   "cell_type": "code",
   "execution_count": 38,
   "metadata": {},
   "outputs": [],
   "source": [
    "df.drop(df[(df['ceiling_height'] < 2) | (df['ceiling_height'] >= 10)].index, inplace=True)"
   ]
  },
  {
   "cell_type": "markdown",
   "metadata": {},
   "source": [
    "Проверим, удалились ли такие объявления."
   ]
  },
  {
   "cell_type": "code",
   "execution_count": 39,
   "metadata": {},
   "outputs": [
    {
     "name": "stdout",
     "output_type": "stream",
     "text": [
      "Объявления удалены\n"
     ]
    }
   ],
   "source": [
    "if df[df['ceiling_height'] >= 10]['ceiling_height'].count() + df.loc[df['ceiling_height'] < 2, 'ceiling_height'].count() == 0:\n",
    "    print('Объявления удалены')\n",
    "else:\n",
    "    print('Что-то не так')"
   ]
  },
  {
   "cell_type": "markdown",
   "metadata": {},
   "source": [
    "<hr>"
   ]
  },
  {
   "cell_type": "markdown",
   "metadata": {},
   "source": [
    "### Новые колонки"
   ]
  },
  {
   "cell_type": "markdown",
   "metadata": {},
   "source": [
    "Добавим колонку с ценой одного квадратного метра."
   ]
  },
  {
   "cell_type": "code",
   "execution_count": 40,
   "metadata": {},
   "outputs": [],
   "source": [
    "df['one_meter_price'] = df['last_price'] / df['total_area']"
   ]
  },
  {
   "cell_type": "markdown",
   "metadata": {},
   "source": [
    "<br>"
   ]
  },
  {
   "cell_type": "markdown",
   "metadata": {},
   "source": [
    "Добавим колонку с днём недели публикации объявления (0 — понедельник, 1 — вторник и так далее)."
   ]
  },
  {
   "cell_type": "code",
   "execution_count": 41,
   "metadata": {},
   "outputs": [],
   "source": [
    "df['weekday'] = df['first_day_exposition'].dt.weekday"
   ]
  },
  {
   "cell_type": "markdown",
   "metadata": {},
   "source": [
    "<br>"
   ]
  },
  {
   "cell_type": "markdown",
   "metadata": {},
   "source": [
    "Добавим колонку с месяцем публикации объявления."
   ]
  },
  {
   "cell_type": "code",
   "execution_count": 42,
   "metadata": {},
   "outputs": [],
   "source": [
    "df['month'] = df['first_day_exposition'].dt.month"
   ]
  },
  {
   "cell_type": "markdown",
   "metadata": {},
   "source": [
    "<br>"
   ]
  },
  {
   "cell_type": "markdown",
   "metadata": {},
   "source": [
    "Добавим колонку с годом публикации объявления."
   ]
  },
  {
   "cell_type": "code",
   "execution_count": 43,
   "metadata": {},
   "outputs": [],
   "source": [
    "df['year'] = df['first_day_exposition'].dt.year"
   ]
  },
  {
   "cell_type": "markdown",
   "metadata": {},
   "source": [
    "<br>"
   ]
  },
  {
   "cell_type": "markdown",
   "metadata": {},
   "source": [
    "Добавим колонку с типом этажа квартиры (значения — «‎первый», «последний», «другой»);"
   ]
  },
  {
   "cell_type": "code",
   "execution_count": 44,
   "metadata": {},
   "outputs": [],
   "source": [
    "def categorize_floor(row):\n",
    "    floors_total = row['floors_total']\n",
    "    floor = row['floor']\n",
    "    if floor == 1:\n",
    "        return 'первый'\n",
    "    elif floor == floors_total:\n",
    "        return 'последний'\n",
    "    return 'другой'"
   ]
  },
  {
   "cell_type": "markdown",
   "metadata": {},
   "source": [
    "Чтобы применить метод `apply` и создать новую колонку с типом этажа квартиры, нужно сначала избавиться от строк, где есть пропуски в `floors_total`. Таких квартирок всего `9`."
   ]
  },
  {
   "cell_type": "code",
   "execution_count": 45,
   "metadata": {},
   "outputs": [],
   "source": [
    "df = df.dropna(subset=['floors_total'])"
   ]
  },
  {
   "cell_type": "code",
   "execution_count": 46,
   "metadata": {},
   "outputs": [],
   "source": [
    "# применим через атрибут loc, чтобы warning не ругался\n",
    "df.loc[:, 'floor_type'] = df.apply(categorize_floor, axis=1)"
   ]
  },
  {
   "cell_type": "markdown",
   "metadata": {},
   "source": [
    "<br>"
   ]
  },
  {
   "cell_type": "markdown",
   "metadata": {},
   "source": [
    "Добавим колонку с расстоянием до центра города в километрах (переведём из `м` в `км` и округлим до целых значений)."
   ]
  },
  {
   "cell_type": "code",
   "execution_count": 47,
   "metadata": {},
   "outputs": [],
   "source": [
    "df['cityCenters_nearest_km'] = (df['cityCenters_nearest'] / 1000).round()"
   ]
  },
  {
   "cell_type": "markdown",
   "metadata": {},
   "source": [
    "<br>"
   ]
  },
  {
   "cell_type": "markdown",
   "metadata": {},
   "source": [
    "Проверим наши новые колонки."
   ]
  },
  {
   "cell_type": "code",
   "execution_count": 48,
   "metadata": {},
   "outputs": [
    {
     "data": {
      "text/plain": [
       "Index(['total_images', 'last_price', 'total_area', 'first_day_exposition',\n",
       "       'rooms', 'ceiling_height', 'floors_total', 'living_area', 'floor',\n",
       "       'is_apartment', 'studio', 'open_plan', 'kitchen_area', 'balcony',\n",
       "       'locality_name', 'airports_nearest', 'cityCenters_nearest',\n",
       "       'parks_around3000', 'parks_nearest', 'ponds_around3000',\n",
       "       'ponds_nearest', 'days_exposition', 'non_residential_area',\n",
       "       'one_meter_price', 'weekday', 'month', 'year', 'floor_type',\n",
       "       'cityCenters_nearest_km'],\n",
       "      dtype='object')"
      ]
     },
     "execution_count": 48,
     "metadata": {},
     "output_type": "execute_result"
    }
   ],
   "source": [
    "df.columns"
   ]
  },
  {
   "cell_type": "markdown",
   "metadata": {},
   "source": [
    "Все на месте."
   ]
  },
  {
   "cell_type": "markdown",
   "metadata": {},
   "source": [
    "<hr>"
   ]
  },
  {
   "cell_type": "markdown",
   "metadata": {},
   "source": [
    "### Исследовательский анализ данных"
   ]
  },
  {
   "cell_type": "markdown",
   "metadata": {},
   "source": [
    "#### Гистограммы для каждого параметра"
   ]
  },
  {
   "cell_type": "markdown",
   "metadata": {},
   "source": [
    "##### Гистограмма по общей площади"
   ]
  },
  {
   "cell_type": "code",
   "execution_count": 49,
   "metadata": {},
   "outputs": [
    {
     "name": "stdout",
     "output_type": "stream",
     "text": [
      "Средняя площадь квартиры: 60.3 м²\n",
      "Медианная площадь квартиры: 52.0 м²\n"
     ]
    },
    {
     "data": {
      "image/png": "[encoded data removed]",
      "text/plain": [
       "<Figure size 432x288 with 1 Axes>"
      ]
     },
     "metadata": {
      "needs_background": "light"
     },
     "output_type": "display_data"
    }
   ],
   "source": [
    "print(f\"Средняя площадь квартиры: {df['total_area'].mean().round(1)} м²\")\n",
    "print(f\"Медианная площадь квартиры: {df['total_area'].median().round(1)} м²\")\n",
    "df.plot(y='total_area',\n",
    "        kind='hist',\n",
    "        title='Гистограмма площадей квартир',\n",
    "        grid=True,\n",
    "        xlim=(0, 350),\n",
    "        bins=30)\n",
    "plt.xlabel('Площадь квартиры, м²')\n",
    "plt.ylabel('Частота появления')\n",
    "plt.show()"
   ]
  },
  {
   "cell_type": "markdown",
   "metadata": {},
   "source": [
    "Построим диаграмму размаха."
   ]
  },
  {
   "cell_type": "code",
   "execution_count": 50,
   "metadata": {},
   "outputs": [
    {
     "data": {
      "image/png": "[encoded data removed]",
      "text/plain": [
       "<Figure size 432x288 with 1 Axes>"
      ]
     },
     "metadata": {
      "needs_background": "light"
     },
     "output_type": "display_data"
    }
   ],
   "source": [
    "df.boxplot(column='total_area', showfliers=False)\n",
    "plt.title('Нормальные значения площадей квартир')\n",
    "plt.ylabel('Площадь квартиры, м²')\n",
    "plt.show()"
   ]
  },
  {
   "cell_type": "code",
   "execution_count": 51,
   "metadata": {},
   "outputs": [
    {
     "name": "stdout",
     "output_type": "stream",
     "text": [
      "Выше верхнего уса находятся значения выше 114.25 м², что уже считается выбросами.\n"
     ]
    }
   ],
   "source": [
    "# межквартильный размах (IQR)\n",
    "Q1 = df['total_area'].quantile(0.25)\n",
    "Q3 = df['total_area'].quantile(0.75)\n",
    "IQR = Q3 - Q1\n",
    "# верхняя и нижняя границы нормальных значений\n",
    "lower_bound = Q1 - 1.5 * IQR\n",
    "upper_bound = Q3 + 1.5 * IQR\n",
    "print(f'Выше верхнего уса находятся значения выше {upper_bound} м², что уже считается выбросами.')"
   ]
  },
  {
   "cell_type": "code",
   "execution_count": 52,
   "metadata": {},
   "outputs": [
    {
     "name": "stdout",
     "output_type": "stream",
     "text": [
      "Количество квартир с \"нормальной площадью\": 21081\n"
     ]
    }
   ],
   "source": [
    "normal_values = df[df['total_area'] <= upper_bound]['total_area'].count() - df[df['total_area'] >= upper_bound]['total_area'].count()\n",
    "print('Количество квартир с \"нормальной площадью\": {0}'.format(normal_values))"
   ]
  },
  {
   "cell_type": "code",
   "execution_count": 53,
   "metadata": {},
   "outputs": [
    {
     "name": "stdout",
     "output_type": "stream",
     "text": [
      "Всего квартир: 22320\n"
     ]
    }
   ],
   "source": [
    "print(f'Всего квартир:', df[df['total_area'] <= upper_bound]['total_area'].count())"
   ]
  },
  {
   "cell_type": "code",
   "execution_count": 54,
   "metadata": {},
   "outputs": [],
   "source": [
    "normal_percent = 100 - (df[df['total_area'] >= upper_bound]['total_area'].count() / df[df['total_area'] <= upper_bound]['total_area'].count() * 100).round(1)"
   ]
  },
  {
   "cell_type": "code",
   "execution_count": 55,
   "metadata": {},
   "outputs": [
    {
     "name": "stdout",
     "output_type": "stream",
     "text": [
      "Итог: 94.4% квартир (21081 объявлений) имеют площадь равную или меньше 114.25 м², что в пределах нормы.\n"
     ]
    }
   ],
   "source": [
    "print(f'Итог: {normal_percent}% квартир ({normal_values} объявлений) имеют площадь равную или меньше {upper_bound} м², что в пределах нормы.')"
   ]
  },
  {
   "cell_type": "markdown",
   "metadata": {},
   "source": [
    "<br>"
   ]
  },
  {
   "cell_type": "markdown",
   "metadata": {},
   "source": [
    "##### Гистограмма по жилой площади"
   ]
  },
  {
   "cell_type": "code",
   "execution_count": 56,
   "metadata": {},
   "outputs": [
    {
     "name": "stdout",
     "output_type": "stream",
     "text": [
      "Средняя жилая площадь квартиры: 34.5 м²\n",
      "Медианная жилая площадь квартиры: 30.0 м²\n"
     ]
    },
    {
     "data": {
      "image/png": "[encoded data removed]",
      "text/plain": [
       "<Figure size 432x288 with 1 Axes>"
      ]
     },
     "metadata": {
      "needs_background": "light"
     },
     "output_type": "display_data"
    }
   ],
   "source": [
    "print(f\"Средняя жилая площадь квартиры: {df['living_area'].mean().round(1)} м²\")\n",
    "print(f\"Медианная жилая площадь квартиры: {df['living_area'].median().round(1)} м²\")\n",
    "df.plot(y='living_area',\n",
    "        kind='hist',\n",
    "        title='Гистограмма жилых площадей квартир',\n",
    "        grid=True,\n",
    "        xlim=(0, 200),\n",
    "        bins=30)\n",
    "plt.xlabel('Жилая площадь квартиры, м²')\n",
    "plt.ylabel('Частота появления')\n",
    "plt.show()"
   ]
  },
  {
   "cell_type": "markdown",
   "metadata": {},
   "source": [
    "Построим диаграмму размаха."
   ]
  },
  {
   "cell_type": "code",
   "execution_count": 57,
   "metadata": {},
   "outputs": [
    {
     "data": {
      "image/png": "[encoded data removed]",
      "text/plain": [
       "<Figure size 432x288 with 1 Axes>"
      ]
     },
     "metadata": {
      "needs_background": "light"
     },
     "output_type": "display_data"
    }
   ],
   "source": [
    "df.boxplot(column='living_area', showfliers=False)\n",
    "plt.title('Нормальные значения жилых площадей квартир')\n",
    "plt.ylabel('Жилая площадь квартиры, м²')\n",
    "plt.show()"
   ]
  },
  {
   "cell_type": "code",
   "execution_count": 58,
   "metadata": {},
   "outputs": [
    {
     "name": "stdout",
     "output_type": "stream",
     "text": [
      "Выше верхнего уса находятся значения выше 77.85 м², что уже считается выбросами.\n"
     ]
    }
   ],
   "source": [
    "# межквартильный размах (IQR)\n",
    "Q1 = df['living_area'].quantile(0.25)\n",
    "Q3 = df['living_area'].quantile(0.75)\n",
    "IQR = Q3 - Q1\n",
    "# верхняя и нижняя границы нормальных значений\n",
    "lower_bound = Q1 - 1.5 * IQR\n",
    "upper_bound = Q3 + 1.5 * IQR\n",
    "print(f'Выше верхнего уса находятся значения выше {upper_bound} м², что уже считается выбросами.')"
   ]
  },
  {
   "cell_type": "code",
   "execution_count": 59,
   "metadata": {},
   "outputs": [
    {
     "data": {
      "text/plain": [
       "20154"
      ]
     },
     "execution_count": 59,
     "metadata": {},
     "output_type": "execute_result"
    }
   ],
   "source": [
    "normal_values = df[df['living_area'] <= upper_bound]['living_area'].count() - df[df['living_area'] >= upper_bound]['living_area'].count()\n",
    "normal_values"
   ]
  },
  {
   "cell_type": "code",
   "execution_count": 60,
   "metadata": {},
   "outputs": [
    {
     "data": {
      "text/plain": [
       "96.3"
      ]
     },
     "execution_count": 60,
     "metadata": {},
     "output_type": "execute_result"
    }
   ],
   "source": [
    "normal_percent = 100 - (df[df['living_area'] >= upper_bound]['living_area'].count() / df[df['living_area'] <= upper_bound]['living_area'].count() * 100).round(1)\n",
    "normal_percent"
   ]
  },
  {
   "cell_type": "code",
   "execution_count": 61,
   "metadata": {},
   "outputs": [
    {
     "name": "stdout",
     "output_type": "stream",
     "text": [
      "Итог: 96.3% квартир (20154 объявлений) имеют жилую площадь равную или меньше 77.85 м², что является в пределах нормы.\n"
     ]
    }
   ],
   "source": [
    "print(f'Итог: {normal_percent}% квартир ({normal_values} объявлений) имеют жилую площадь равную или меньше {upper_bound} м², что является в пределах нормы.')"
   ]
  },
  {
   "cell_type": "markdown",
   "metadata": {},
   "source": [
    "<br>"
   ]
  },
  {
   "cell_type": "markdown",
   "metadata": {},
   "source": [
    "##### Гистограмма по площади кухни"
   ]
  },
  {
   "cell_type": "code",
   "execution_count": 62,
   "metadata": {},
   "outputs": [
    {
     "name": "stdout",
     "output_type": "stream",
     "text": [
      "Средняя площадь кухни квартиры: 10.6 м²\n",
      "Медианная площадь кухни квартиры: 9.1 м²\n"
     ]
    },
    {
     "data": {
      "image/png": "[encoded data removed]",
      "text/plain": [
       "<Figure size 432x288 with 1 Axes>"
      ]
     },
     "metadata": {
      "needs_background": "light"
     },
     "output_type": "display_data"
    }
   ],
   "source": [
    "print(f\"Средняя площадь кухни квартиры: {df['kitchen_area'].mean().round(1)} м²\")\n",
    "print(f\"Медианная площадь кухни квартиры: {df['kitchen_area'].median().round(1)} м²\")\n",
    "df.plot(y='kitchen_area',\n",
    "        kind='hist',\n",
    "        title='Гистограмма площадей кухонь квартир',\n",
    "        grid=True,\n",
    "        xlim=(0, 60),\n",
    "        bins=30)\n",
    "plt.xlabel('Площадь кухни квартиры, м²')\n",
    "plt.ylabel('Частота появления')\n",
    "plt.show()"
   ]
  },
  {
   "cell_type": "markdown",
   "metadata": {},
   "source": [
    "Построим диаграмму размаха."
   ]
  },
  {
   "cell_type": "code",
   "execution_count": 63,
   "metadata": {},
   "outputs": [
    {
     "data": {
      "image/png": "[encoded data removed]",
      "text/plain": [
       "<Figure size 432x288 with 1 Axes>"
      ]
     },
     "metadata": {
      "needs_background": "light"
     },
     "output_type": "display_data"
    }
   ],
   "source": [
    "df.boxplot(column='kitchen_area', showfliers=False)\n",
    "plt.title('Нормальные значения площадей кухонь')\n",
    "plt.ylabel('Площадь кухни квартиры, м²')\n",
    "plt.show()"
   ]
  },
  {
   "cell_type": "code",
   "execution_count": 64,
   "metadata": {},
   "outputs": [
    {
     "name": "stdout",
     "output_type": "stream",
     "text": [
      "Выше верхнего уса находятся значения выше 19.5 м², что уже считается выбросами.\n"
     ]
    }
   ],
   "source": [
    "# межквартильный размах (IQR)\n",
    "Q1 = df['kitchen_area'].quantile(0.25)\n",
    "Q3 = df['kitchen_area'].quantile(0.75)\n",
    "IQR = Q3 - Q1\n",
    "# верхняя и нижняя границы нормальных значений\n",
    "lower_bound = Q1 - 1.5 * IQR\n",
    "upper_bound = Q3 + 1.5 * IQR\n",
    "print(f'Выше верхнего уса находятся значения выше {upper_bound} м², что уже считается выбросами.')"
   ]
  },
  {
   "cell_type": "code",
   "execution_count": 65,
   "metadata": {},
   "outputs": [
    {
     "name": "stdout",
     "output_type": "stream",
     "text": [
      "Количество объявлений с нормальным значением площади кухни: 18974\n"
     ]
    }
   ],
   "source": [
    "normal_values = df[df['kitchen_area'] <= upper_bound]['kitchen_area'].count() - df[df['kitchen_area'] > upper_bound]['kitchen_area'].count()\n",
    "print('Количество объявлений с нормальным значением площади кухни:', normal_values)"
   ]
  },
  {
   "cell_type": "code",
   "execution_count": 66,
   "metadata": {},
   "outputs": [
    {
     "name": "stdout",
     "output_type": "stream",
     "text": [
      "Процент объявлений с нормальным значением площади кухни: 94.1\n"
     ]
    }
   ],
   "source": [
    "normal_percent = 100 - (df[df['kitchen_area'] > upper_bound]['kitchen_area'].count() / df[df['kitchen_area'] <= upper_bound]['kitchen_area'].count() * 100).round(1)\n",
    "print('Процент объявлений с нормальным значением площади кухни:', normal_percent,)"
   ]
  },
  {
   "cell_type": "code",
   "execution_count": 67,
   "metadata": {},
   "outputs": [
    {
     "name": "stdout",
     "output_type": "stream",
     "text": [
      "Итог: 94.1% квартир (18974 объявлений) имеют площадь кухни равную или меньше 19.5 м², что является в пределах нормы.\n"
     ]
    }
   ],
   "source": [
    "print(f'Итог: {normal_percent}% квартир ({normal_values} объявлений) имеют площадь кухни равную или меньше {upper_bound} м², что является в пределах нормы.')"
   ]
  },
  {
   "cell_type": "markdown",
   "metadata": {},
   "source": [
    "<br>"
   ]
  },
  {
   "cell_type": "markdown",
   "metadata": {},
   "source": [
    "##### Гистограмма по цене объекта"
   ]
  },
  {
   "cell_type": "code",
   "execution_count": 68,
   "metadata": {},
   "outputs": [
    {
     "name": "stdout",
     "output_type": "stream",
     "text": [
      "Средняя стоимость квартиры: 6540132 ₽\n",
      "Медианная стоимость квартиры: 4646000 ₽\n"
     ]
    },
    {
     "data": {
      "image/png": "[encoded data removed]",
      "text/plain": [
       "<Figure size 432x288 with 1 Axes>"
      ]
     },
     "metadata": {
      "needs_background": "light"
     },
     "output_type": "display_data"
    }
   ],
   "source": [
    "print(f\"Средняя стоимость квартиры: {int(df['last_price'].mean().round())} ₽\")\n",
    "print(f\"Медианная стоимость квартиры: {int(df['last_price'].median().round())} ₽\")\n",
    "df.plot(y='last_price',\n",
    "        kind='hist',\n",
    "        title='Гистограмма стоимостей квартир',\n",
    "        grid=True,\n",
    "        xlim=(0, 60000000),\n",
    "        bins=300)\n",
    "plt.xlabel('Стоимость квартиры, десятки млн ₽')\n",
    "plt.ylabel('Частота появления')\n",
    "plt.show()"
   ]
  },
  {
   "cell_type": "markdown",
   "metadata": {},
   "source": [
    "Построим диаграмму размаха."
   ]
  },
  {
   "cell_type": "code",
   "execution_count": 69,
   "metadata": {},
   "outputs": [
    {
     "data": {
      "image/png": "[encoded data removed]",
      "text/plain": [
       "<Figure size 432x288 with 1 Axes>"
      ]
     },
     "metadata": {
      "needs_background": "light"
     },
     "output_type": "display_data"
    }
   ],
   "source": [
    "df.boxplot(column='last_price', showfliers=False)\n",
    "plt.title('Нормальные значения стоимостей квартир')\n",
    "plt.ylabel('Стоимость квартиры, десятки млн ₽')\n",
    "plt.show()"
   ]
  },
  {
   "cell_type": "code",
   "execution_count": 70,
   "metadata": {},
   "outputs": [
    {
     "name": "stdout",
     "output_type": "stream",
     "text": [
      "Выше верхнего уса находятся значения выше 11875000 ₽, что уже считается выбросами.\n"
     ]
    }
   ],
   "source": [
    "# межквартильный размах (IQR)\n",
    "Q1 = df['last_price'].quantile(0.25)\n",
    "Q3 = df['last_price'].quantile(0.75)\n",
    "IQR = Q3 - Q1\n",
    "# верхняя и нижняя границы нормальных значений\n",
    "lower_bound = Q1 - 1.5 * IQR\n",
    "upper_bound = Q3 + 1.5 * IQR\n",
    "print(f'Выше верхнего уса находятся значения выше {int(upper_bound)} ₽, что уже считается выбросами.')"
   ]
  },
  {
   "cell_type": "code",
   "execution_count": 71,
   "metadata": {},
   "outputs": [
    {
     "name": "stdout",
     "output_type": "stream",
     "text": [
      "Количество объявлений с нормальным значением стоимости квартиры: 19469\n"
     ]
    }
   ],
   "source": [
    "normal_values = df[df['last_price'] <= upper_bound]['last_price'].count() - df[df['last_price'] > upper_bound]['last_price'].count()\n",
    "print('Количество объявлений с нормальным значением стоимости квартиры:', normal_values)"
   ]
  },
  {
   "cell_type": "code",
   "execution_count": 72,
   "metadata": {},
   "outputs": [
    {
     "name": "stdout",
     "output_type": "stream",
     "text": [
      "Процент объявлений с нормальным значением стоимости квартиры: 90.5\n"
     ]
    }
   ],
   "source": [
    "normal_percent = 100 - (df[df['last_price'] > upper_bound]['last_price'].count() / df[df['last_price'] <= upper_bound]['last_price'].count() * 100).round(1)\n",
    "print('Процент объявлений с нормальным значением стоимости квартиры:', normal_percent,)"
   ]
  },
  {
   "cell_type": "code",
   "execution_count": 73,
   "metadata": {},
   "outputs": [
    {
     "name": "stdout",
     "output_type": "stream",
     "text": [
      "Итог: 90.5% квартир (19469 объявлений) имеют стоимость квартиры равную или меньше 11875000.0 ₽, что является в пределах нормы.\n"
     ]
    }
   ],
   "source": [
    "print(f'Итог: {normal_percent}% квартир ({normal_values} объявлений) имеют стоимость квартиры равную или меньше {upper_bound} ₽, что является в пределах нормы.')"
   ]
  },
  {
   "cell_type": "markdown",
   "metadata": {},
   "source": [
    "<br>"
   ]
  },
  {
   "cell_type": "markdown",
   "metadata": {},
   "source": [
    "##### Гистограмма по количеству комнат"
   ]
  },
  {
   "cell_type": "code",
   "execution_count": 74,
   "metadata": {},
   "outputs": [
    {
     "name": "stdout",
     "output_type": "stream",
     "text": [
      "Среднее количество комнат: 2\n",
      "Медианное количество комнат: 2\n"
     ]
    },
    {
     "data": {
      "image/png": "[encoded data removed]",
      "text/plain": [
       "<Figure size 432x288 with 1 Axes>"
      ]
     },
     "metadata": {
      "needs_background": "light"
     },
     "output_type": "display_data"
    }
   ],
   "source": [
    "print(f\"Среднее количество комнат: {int(df['rooms'].mean())}\")\n",
    "print(f\"Медианное количество комнат: {int(df['rooms'].median())}\")\n",
    "df.plot(y='rooms',\n",
    "        kind='hist',\n",
    "        title='Гистограмма количества комнат в квартирах',\n",
    "        grid=True,\n",
    "        xlim=(0, 10),\n",
    "        bins=20)\n",
    "plt.xlabel('Количество комнат, шт.')\n",
    "plt.ylabel('Частота появления')\n",
    "plt.show()"
   ]
  },
  {
   "cell_type": "markdown",
   "metadata": {},
   "source": [
    "Построим диаграмму размаха."
   ]
  },
  {
   "cell_type": "code",
   "execution_count": 75,
   "metadata": {},
   "outputs": [
    {
     "data": {
      "image/png": "[encoded data removed]",
      "text/plain": [
       "<Figure size 432x288 with 1 Axes>"
      ]
     },
     "metadata": {
      "needs_background": "light"
     },
     "output_type": "display_data"
    }
   ],
   "source": [
    "df.boxplot(column='rooms', showfliers=False)\n",
    "plt.title('Нормальные значения количества комнат в квартирах')\n",
    "plt.ylabel('Количество комнат, шт')\n",
    "plt.show()"
   ]
  },
  {
   "cell_type": "code",
   "execution_count": 76,
   "metadata": {},
   "outputs": [
    {
     "name": "stdout",
     "output_type": "stream",
     "text": [
      "Выше верхнего уса находятся значения выше 6, что уже считается выбросами.\n"
     ]
    }
   ],
   "source": [
    "# межквартильный размах (IQR)\n",
    "Q1 = df['rooms'].quantile(0.25)\n",
    "Q3 = df['rooms'].quantile(0.75)\n",
    "IQR = Q3 - Q1\n",
    "# верхняя и нижняя границы нормальных значений\n",
    "lower_bound = Q1 - 1.5 * IQR\n",
    "upper_bound = Q3 + 1.5 * IQR\n",
    "print(f'Выше верхнего уса находятся значения выше {int(upper_bound)}, что уже считается выбросами.')"
   ]
  },
  {
   "cell_type": "code",
   "execution_count": 77,
   "metadata": {},
   "outputs": [
    {
     "name": "stdout",
     "output_type": "stream",
     "text": [
      "Количество объявлений с нормальным значением количества комнат: 23379\n"
     ]
    }
   ],
   "source": [
    "normal_values = df[df['rooms'] <= upper_bound]['rooms'].count() - df[df['rooms'] > upper_bound]['rooms'].count()\n",
    "print('Количество объявлений с нормальным значением количества комнат:', normal_values)"
   ]
  },
  {
   "cell_type": "code",
   "execution_count": 78,
   "metadata": {},
   "outputs": [
    {
     "name": "stdout",
     "output_type": "stream",
     "text": [
      "Процент объявлений с нормальным значением количества комнат: 99.6\n"
     ]
    }
   ],
   "source": [
    "normal_percent = 100 - (df[df['rooms'] > upper_bound]['rooms'].count() / df[df['rooms'] <= upper_bound]['rooms'].count() * 100).round(1)\n",
    "print('Процент объявлений с нормальным значением количества комнат:', normal_percent,)"
   ]
  },
  {
   "cell_type": "code",
   "execution_count": 79,
   "metadata": {},
   "outputs": [
    {
     "name": "stdout",
     "output_type": "stream",
     "text": [
      "Итог: 99.6% квартир (23379 объявлений) имеют количество комнат равное или меньше 6, что является в пределах нормы.\n"
     ]
    }
   ],
   "source": [
    "print(f'Итог: {normal_percent}% квартир ({normal_values} объявлений) имеют количество комнат равное или меньше {int(upper_bound)}, что является в пределах нормы.')"
   ]
  },
  {
   "cell_type": "markdown",
   "metadata": {},
   "source": [
    "<br>"
   ]
  },
  {
   "cell_type": "markdown",
   "metadata": {},
   "source": [
    "##### Гистограмма по высоте потолков"
   ]
  },
  {
   "cell_type": "code",
   "execution_count": 80,
   "metadata": {},
   "outputs": [
    {
     "name": "stdout",
     "output_type": "stream",
     "text": [
      "Средняя высота потолков: 2.7 м\n",
      "Медианная высота потолков: 2.6 м\n"
     ]
    },
    {
     "data": {
      "image/png": "[encoded data removed]",
      "text/plain": [
       "<Figure size 432x288 with 1 Axes>"
      ]
     },
     "metadata": {
      "needs_background": "light"
     },
     "output_type": "display_data"
    }
   ],
   "source": [
    "print(f\"Средняя высота потолков: {df['ceiling_height'].mean().round(1)} м\")\n",
    "print(f\"Медианная высота потолков: {df['ceiling_height'].median().round(1)} м\")\n",
    "df.plot(y='rooms',\n",
    "        kind='hist',\n",
    "        title='Гистограмма высоты потолков в квартирах',\n",
    "        grid=True,\n",
    "        xlim=(2, 9),\n",
    "        bins=20)\n",
    "plt.xlabel('Высота потолков, м')\n",
    "plt.ylabel('Частота появления')\n",
    "plt.show()"
   ]
  },
  {
   "cell_type": "markdown",
   "metadata": {},
   "source": [
    "Построим диаграмму размаха."
   ]
  },
  {
   "cell_type": "code",
   "execution_count": 81,
   "metadata": {},
   "outputs": [
    {
     "data": {
      "image/png": "[encoded data removed]",
      "text/plain": [
       "<Figure size 432x288 with 1 Axes>"
      ]
     },
     "metadata": {
      "needs_background": "light"
     },
     "output_type": "display_data"
    }
   ],
   "source": [
    "df.boxplot(column='ceiling_height', showfliers=False)\n",
    "plt.title('Нормальные значения высоты потолков в квартирах')\n",
    "plt.ylabel('Высота потолков, м')\n",
    "plt.show()"
   ]
  },
  {
   "cell_type": "code",
   "execution_count": 82,
   "metadata": {},
   "outputs": [
    {
     "name": "stdout",
     "output_type": "stream",
     "text": [
      "Выше верхнего уса находятся значения выше 3.235, что уже считается выбросами.\n"
     ]
    }
   ],
   "source": [
    "# межквартильный размах (IQR)\n",
    "Q1 = df['ceiling_height'].quantile(0.25)\n",
    "Q3 = df['ceiling_height'].quantile(0.75)\n",
    "IQR = Q3 - Q1\n",
    "# верхняя и нижняя границы нормальных значений\n",
    "lower_bound = Q1 - 1.5 * IQR\n",
    "upper_bound = Q3 + 1.5 * IQR\n",
    "print(f'Выше верхнего уса находятся значения выше {upper_bound}, что уже считается выбросами.')"
   ]
  },
  {
   "cell_type": "code",
   "execution_count": 83,
   "metadata": {},
   "outputs": [
    {
     "name": "stdout",
     "output_type": "stream",
     "text": [
      "Количество объявлений с нормальным значением высоты потолков: 12915\n"
     ]
    }
   ],
   "source": [
    "normal_values = df[df['ceiling_height'] <= upper_bound]['ceiling_height'].count() - df[df['ceiling_height'] > upper_bound]['ceiling_height'].count()\n",
    "print('Количество объявлений с нормальным значением высоты потолков:', normal_values)"
   ]
  },
  {
   "cell_type": "code",
   "execution_count": 84,
   "metadata": {},
   "outputs": [
    {
     "name": "stdout",
     "output_type": "stream",
     "text": [
      "Процент объявлений с нормальным значением высоты потолков: 94.3\n"
     ]
    }
   ],
   "source": [
    "normal_percent = 100 - (df[df['ceiling_height'] > upper_bound]['ceiling_height'].count() / df[df['ceiling_height'] <= upper_bound]['ceiling_height'].count() * 100).round(1)\n",
    "print('Процент объявлений с нормальным значением высоты потолков:', normal_percent,)"
   ]
  },
  {
   "cell_type": "code",
   "execution_count": 85,
   "metadata": {},
   "outputs": [
    {
     "name": "stdout",
     "output_type": "stream",
     "text": [
      "Итог: 94.3% квартир (12915 объявлений) имеют высоту потолков равную или меньше 3.235, что является в пределах нормы.\n"
     ]
    }
   ],
   "source": [
    "print(f'Итог: {normal_percent}% квартир ({normal_values} объявлений) имеют высоту потолков равную или меньше {upper_bound}, что является в пределах нормы.')"
   ]
  },
  {
   "cell_type": "markdown",
   "metadata": {},
   "source": [
    "<br>"
   ]
  },
  {
   "cell_type": "markdown",
   "metadata": {},
   "source": [
    "##### Столбчатая диаграмма по типу этажа квартиры"
   ]
  },
  {
   "cell_type": "code",
   "execution_count": 86,
   "metadata": {},
   "outputs": [
    {
     "data": {
      "image/png": "[encoded data removed]",
      "text/plain": [
       "<Figure size 432x288 with 1 Axes>"
      ]
     },
     "metadata": {
      "needs_background": "light"
     },
     "output_type": "display_data"
    }
   ],
   "source": [
    "(df['floor_type'].value_counts()\n",
    "                 .plot(kind='bar',\n",
    "                       title='Распределение количества квартир по типу этажей',\n",
    "                       grid=True))\n",
    "plt.xlabel('Тип этажа')\n",
    "plt.ylabel('Количество квартир')\n",
    "plt.show()"
   ]
  },
  {
   "cell_type": "code",
   "execution_count": 87,
   "metadata": {},
   "outputs": [
    {
     "data": {
      "text/plain": [
       "другой       17322\n",
       "последний     3329\n",
       "первый        2908\n",
       "Name: floor_type, dtype: int64"
      ]
     },
     "execution_count": 87,
     "metadata": {},
     "output_type": "execute_result"
    }
   ],
   "source": [
    "df['floor_type'].value_counts()"
   ]
  },
  {
   "cell_type": "markdown",
   "metadata": {},
   "source": [
    "2908 квартир на первом этаже.\\\n",
    "3329 квартир — на последнем этаже.\\\n",
    "Остальные 17322 квартиры на других этажах."
   ]
  },
  {
   "cell_type": "markdown",
   "metadata": {},
   "source": [
    "<br>"
   ]
  },
  {
   "cell_type": "markdown",
   "metadata": {},
   "source": [
    "##### Гистограмма по общему количеству этажей в доме"
   ]
  },
  {
   "cell_type": "code",
   "execution_count": 88,
   "metadata": {},
   "outputs": [
    {
     "name": "stdout",
     "output_type": "stream",
     "text": [
      "Среднее количество этажей в доме: 11.0\n",
      "Медианное количество этажей в доме: 9.0\n"
     ]
    },
    {
     "data": {
      "image/png": "[encoded data removed]",
      "text/plain": [
       "<Figure size 432x288 with 1 Axes>"
      ]
     },
     "metadata": {
      "needs_background": "light"
     },
     "output_type": "display_data"
    }
   ],
   "source": [
    "print(f\"Среднее количество этажей в доме: {df['floors_total'].mean().round()}\")\n",
    "print(f\"Медианное количество этажей в доме: {df['floors_total'].median().round()}\")\n",
    "df.plot(y='floors_total',\n",
    "        kind='hist',\n",
    "        title='Гистограмма количества этажей в домах',\n",
    "        grid=True,\n",
    "        xlim=(0, 40),\n",
    "        bins=20)\n",
    "plt.xlabel('Количество этажей')\n",
    "plt.ylabel('Частота появления')\n",
    "plt.show()"
   ]
  },
  {
   "cell_type": "markdown",
   "metadata": {},
   "source": [
    "Построим диаграмму размаха."
   ]
  },
  {
   "cell_type": "code",
   "execution_count": 89,
   "metadata": {},
   "outputs": [
    {
     "data": {
      "image/png": "[encoded data removed]",
      "text/plain": [
       "<Figure size 432x288 with 1 Axes>"
      ]
     },
     "metadata": {
      "needs_background": "light"
     },
     "output_type": "display_data"
    }
   ],
   "source": [
    "df.boxplot(column='floors_total', showfliers=False)\n",
    "plt.title('Нормальные значения количества этажей в домах')\n",
    "plt.ylabel('Количество этажей')\n",
    "plt.show()"
   ]
  },
  {
   "cell_type": "code",
   "execution_count": 90,
   "metadata": {},
   "outputs": [
    {
     "name": "stdout",
     "output_type": "stream",
     "text": [
      "Выше верхнего уса находятся значения выше 32.5, что уже считается выбросами.\n"
     ]
    }
   ],
   "source": [
    "# межквартильный размах (IQR)\n",
    "Q1 = df['floors_total'].quantile(0.25)\n",
    "Q3 = df['floors_total'].quantile(0.75)\n",
    "IQR = Q3 - Q1\n",
    "# верхняя и нижняя границы нормальных значений\n",
    "lower_bound = Q1 - 1.5 * IQR\n",
    "upper_bound = Q3 + 1.5 * IQR\n",
    "print(f'Выше верхнего уса находятся значения выше {upper_bound}, что уже считается выбросами.')"
   ]
  },
  {
   "cell_type": "code",
   "execution_count": 91,
   "metadata": {},
   "outputs": [
    {
     "name": "stdout",
     "output_type": "stream",
     "text": [
      "Количество объявлений с нормальным значением количества этажей: 23497\n"
     ]
    }
   ],
   "source": [
    "normal_values = df[df['floors_total'] <= upper_bound]['floors_total'].count() - df[df['floors_total'] > upper_bound]['floors_total'].count()\n",
    "print('Количество объявлений с нормальным значением количества этажей:', normal_values)"
   ]
  },
  {
   "cell_type": "code",
   "execution_count": 92,
   "metadata": {},
   "outputs": [
    {
     "name": "stdout",
     "output_type": "stream",
     "text": [
      "Процент объявлений с нормальным значением количества этажей: 99.9\n"
     ]
    }
   ],
   "source": [
    "normal_percent = 100 - (df[df['floors_total'] > upper_bound]['floors_total'].count() / df[df['floors_total'] <= upper_bound]['floors_total'].count() * 100).round(1)\n",
    "print('Процент объявлений с нормальным значением количества этажей:', normal_percent)"
   ]
  },
  {
   "cell_type": "code",
   "execution_count": 93,
   "metadata": {},
   "outputs": [
    {
     "name": "stdout",
     "output_type": "stream",
     "text": [
      "Итог: 99.9% квартир (23497 объявлений) находятся в домах этажностью равной или меньше 32.5, что является в пределах нормы.\n"
     ]
    }
   ],
   "source": [
    "print(f'Итог: {normal_percent}% квартир ({normal_values} объявлений) находятся в домах этажностью равной или меньше {upper_bound}, что является в пределах нормы.')"
   ]
  },
  {
   "cell_type": "markdown",
   "metadata": {},
   "source": [
    "<br>"
   ]
  },
  {
   "cell_type": "markdown",
   "metadata": {},
   "source": [
    "##### Гистограмма по расстоянию до центра города в метрах\n"
   ]
  },
  {
   "cell_type": "code",
   "execution_count": 94,
   "metadata": {},
   "outputs": [
    {
     "name": "stdout",
     "output_type": "stream",
     "text": [
      "Среднее расстояние до центра города: 14192.8\n",
      "Медианное расстояние до центра города: 13095.0\n"
     ]
    },
    {
     "data": {
      "image/png": "[encoded data removed]",
      "text/plain": [
       "<Figure size 432x288 with 1 Axes>"
      ]
     },
     "metadata": {
      "needs_background": "light"
     },
     "output_type": "display_data"
    }
   ],
   "source": [
    "print(f\"Среднее расстояние до центра города: {df['cityCenters_nearest'].mean().round(1)}\")\n",
    "print(f\"Медианное расстояние до центра города: {df['cityCenters_nearest'].median().round(1)}\")\n",
    "df.plot(y='cityCenters_nearest',\n",
    "        kind='hist',\n",
    "        title='Гистограмма расстояния до центра города',\n",
    "        grid=True)\n",
    "plt.xlabel('Расстояние до центра города, м')\n",
    "plt.ylabel('Частота появления')\n",
    "plt.show()"
   ]
  },
  {
   "cell_type": "markdown",
   "metadata": {},
   "source": [
    "Построим диаграмму размаха."
   ]
  },
  {
   "cell_type": "code",
   "execution_count": 95,
   "metadata": {},
   "outputs": [
    {
     "data": {
      "image/png": "[encoded data removed]",
      "text/plain": [
       "<Figure size 432x288 with 1 Axes>"
      ]
     },
     "metadata": {
      "needs_background": "light"
     },
     "output_type": "display_data"
    }
   ],
   "source": [
    "df.boxplot(column='cityCenters_nearest', showfliers=False)\n",
    "plt.title('Нормальные значения расстояния до центра города')\n",
    "plt.ylabel('Расстояние до центра города, м')\n",
    "plt.show()"
   ]
  },
  {
   "cell_type": "code",
   "execution_count": 96,
   "metadata": {},
   "outputs": [
    {
     "name": "stdout",
     "output_type": "stream",
     "text": [
      "Выше верхнего уса находятся значения выше 26855.5 м, что уже считается выбросами.\n"
     ]
    }
   ],
   "source": [
    "# межквартильный размах (IQR)\n",
    "Q1 = df['cityCenters_nearest'].quantile(0.25)\n",
    "Q3 = df['cityCenters_nearest'].quantile(0.75)\n",
    "IQR = Q3 - Q1\n",
    "# верхняя и нижняя границы нормальных значений\n",
    "lower_bound = Q1 - 1.5 * IQR\n",
    "upper_bound = Q3 + 1.5 * IQR\n",
    "print(f'Выше верхнего уса находятся значения выше {upper_bound} м, что уже считается выбросами.')"
   ]
  },
  {
   "cell_type": "code",
   "execution_count": 97,
   "metadata": {},
   "outputs": [
    {
     "name": "stdout",
     "output_type": "stream",
     "text": [
      "Количество объявлений с нормальным значением расстояния до центра города: 14615\n"
     ]
    }
   ],
   "source": [
    "normal_values = df[df['cityCenters_nearest'] <= upper_bound]['cityCenters_nearest'].count() - df[df['cityCenters_nearest'] > upper_bound]['cityCenters_nearest'].count()\n",
    "print('Количество объявлений с нормальным значением расстояния до центра города:', normal_values)"
   ]
  },
  {
   "cell_type": "code",
   "execution_count": 98,
   "metadata": {},
   "outputs": [
    {
     "name": "stdout",
     "output_type": "stream",
     "text": [
      "Процент объявлений с нормальным значением расстояния до центра города: 89.5\n"
     ]
    }
   ],
   "source": [
    "normal_percent = 100 - (df[df['cityCenters_nearest'] > upper_bound]['cityCenters_nearest'].count() / df[df['cityCenters_nearest'] <= upper_bound]['cityCenters_nearest'].count() * 100).round(1)\n",
    "print('Процент объявлений с нормальным значением расстояния до центра города:', normal_percent)"
   ]
  },
  {
   "cell_type": "code",
   "execution_count": 99,
   "metadata": {},
   "outputs": [
    {
     "name": "stdout",
     "output_type": "stream",
     "text": [
      "Итог: 89.5% квартир (14615 объявлений) имеют расстояние до центра города равное или меньше 26855.5 м, что является в пределах нормы.\n"
     ]
    }
   ],
   "source": [
    "print(f'Итог: {normal_percent}% квартир ({normal_values} объявлений) имеют расстояние до центра города равное или меньше {upper_bound} м, что является в пределах нормы.')"
   ]
  },
  {
   "cell_type": "markdown",
   "metadata": {},
   "source": [
    "<br>"
   ]
  },
  {
   "cell_type": "markdown",
   "metadata": {},
   "source": [
    "##### Гистограмма по расстоянию до ближайшего аэропорта"
   ]
  },
  {
   "cell_type": "code",
   "execution_count": 100,
   "metadata": {},
   "outputs": [
    {
     "name": "stdout",
     "output_type": "stream",
     "text": [
      "Среднее расстояние до ближайшего аэропорта : 28797.4 м\n",
      "Медианное расстояние до ближайшего аэропорта : 26756.5 м\n"
     ]
    },
    {
     "data": {
      "image/png": "[encoded data removed]",
      "text/plain": [
       "<Figure size 432x288 with 1 Axes>"
      ]
     },
     "metadata": {
      "needs_background": "light"
     },
     "output_type": "display_data"
    }
   ],
   "source": [
    "print(f\"Среднее расстояние до ближайшего аэропорта : {df['airports_nearest'].mean().round(1)} м\")\n",
    "print(f\"Медианное расстояние до ближайшего аэропорта : {df['airports_nearest'].median().round(1)} м\")\n",
    "df.plot(y='airports_nearest',\n",
    "        kind='hist',\n",
    "        title='Гистограмма расстояния до ближайшего аэропорта',\n",
    "        grid=True,\n",
    "        bins=20)\n",
    "plt.xlabel('Расстояние до ближайшего аэропорта, м')\n",
    "plt.ylabel('Частота появления')\n",
    "plt.show()"
   ]
  },
  {
   "cell_type": "markdown",
   "metadata": {},
   "source": [
    "Построим диаграмму размаха."
   ]
  },
  {
   "cell_type": "code",
   "execution_count": 101,
   "metadata": {},
   "outputs": [
    {
     "data": {
      "image/png": "[encoded data removed]",
      "text/plain": [
       "<Figure size 432x288 with 1 Axes>"
      ]
     },
     "metadata": {
      "needs_background": "light"
     },
     "output_type": "display_data"
    }
   ],
   "source": [
    "df.boxplot(column='airports_nearest', showfliers=False)\n",
    "plt.title('Нормальные значения расстояния до ближайшего аэропорта')\n",
    "plt.ylabel('Расстояние, м')\n",
    "plt.show()"
   ]
  },
  {
   "cell_type": "code",
   "execution_count": 102,
   "metadata": {},
   "outputs": [
    {
     "name": "stdout",
     "output_type": "stream",
     "text": [
      "Выше верхнего уса находятся значения выше 65339.25 м, что уже считается выбросами.\n"
     ]
    }
   ],
   "source": [
    "# межквартильный размах (IQR)\n",
    "Q1 = df['airports_nearest'].quantile(0.25)\n",
    "Q3 = df['airports_nearest'].quantile(0.75)\n",
    "IQR = Q3 - Q1\n",
    "# верхняя и нижняя границы нормальных значений\n",
    "lower_bound = Q1 - 1.5 * IQR\n",
    "upper_bound = Q3 + 1.5 * IQR\n",
    "print(f'Выше верхнего уса находятся значения выше {upper_bound} м, что уже считается выбросами.')"
   ]
  },
  {
   "cell_type": "code",
   "execution_count": 103,
   "metadata": {},
   "outputs": [
    {
     "name": "stdout",
     "output_type": "stream",
     "text": [
      "Количество объявлений с нормальным значением расстояния до центра города: 17836\n"
     ]
    }
   ],
   "source": [
    "normal_values = df[df['airports_nearest'] <= upper_bound]['airports_nearest'].count() - df[df['airports_nearest'] > upper_bound]['airports_nearest'].count()\n",
    "print('Количество объявлений с нормальным значением расстояния до центра города:', normal_values)"
   ]
  },
  {
   "cell_type": "code",
   "execution_count": 104,
   "metadata": {},
   "outputs": [
    {
     "name": "stdout",
     "output_type": "stream",
     "text": [
      "Процент объявлений с нормальным значением расстояния до центра города: 99.4\n"
     ]
    }
   ],
   "source": [
    "normal_percent = 100 - (df[df['airports_nearest'] > upper_bound]['airports_nearest'].count() / df[df['airports_nearest'] <= upper_bound]['airports_nearest'].count() * 100).round(1)\n",
    "print('Процент объявлений с нормальным значением расстояния до центра города:', normal_percent)"
   ]
  },
  {
   "cell_type": "code",
   "execution_count": 105,
   "metadata": {},
   "outputs": [
    {
     "name": "stdout",
     "output_type": "stream",
     "text": [
      "Итог: 99.4% квартир (17836 объявлений) имеют расстояние до ближайшего аэропорта равное или меньше 65339.25 м, что является в пределах нормы.\n"
     ]
    }
   ],
   "source": [
    "print(f'Итог: {normal_percent}% квартир ({normal_values} объявлений) имеют расстояние до ближайшего аэропорта равное или меньше {upper_bound} м, что является в пределах нормы.')"
   ]
  },
  {
   "cell_type": "markdown",
   "metadata": {},
   "source": [
    "<br>"
   ]
  },
  {
   "cell_type": "markdown",
   "metadata": {},
   "source": [
    "##### Гистограмма по расстоянию до ближайшего парка"
   ]
  },
  {
   "cell_type": "code",
   "execution_count": 106,
   "metadata": {},
   "outputs": [
    {
     "name": "stdout",
     "output_type": "stream",
     "text": [
      "Среднее расстояние до ближайшего парка: 490.6 м\n",
      "Медианное расстояние до ближайшего парка: 455.0 м\n"
     ]
    },
    {
     "data": {
      "image/png": "[encoded data removed]",
      "text/plain": [
       "<Figure size 432x288 with 1 Axes>"
      ]
     },
     "metadata": {
      "needs_background": "light"
     },
     "output_type": "display_data"
    }
   ],
   "source": [
    "print(f\"Среднее расстояние до ближайшего парка: {df['parks_nearest'].mean().round(1)} м\")\n",
    "print(f\"Медианное расстояние до ближайшего парка: {df['parks_nearest'].median().round(1)} м\")\n",
    "df.plot(y='parks_nearest',\n",
    "        kind='hist',\n",
    "        title='Гистограмма расстояния до ближайшего парка',\n",
    "        grid=True,\n",
    "        bins=20)\n",
    "plt.xlabel('Расстояние, м')\n",
    "plt.ylabel('Частота появления')\n",
    "plt.show()"
   ]
  },
  {
   "cell_type": "markdown",
   "metadata": {},
   "source": [
    "Построим диаграмму размаха."
   ]
  },
  {
   "cell_type": "code",
   "execution_count": 107,
   "metadata": {},
   "outputs": [
    {
     "data": {
      "image/png": "[encoded data removed]",
      "text/plain": [
       "<Figure size 432x288 with 1 Axes>"
      ]
     },
     "metadata": {
      "needs_background": "light"
     },
     "output_type": "display_data"
    }
   ],
   "source": [
    "df.boxplot(column='parks_nearest', showfliers=False)\n",
    "plt.title('Нормальные значения расстояния до ближайшего парка')\n",
    "plt.ylabel('Расстояние, м')\n",
    "plt.show()"
   ]
  },
  {
   "cell_type": "code",
   "execution_count": 108,
   "metadata": {},
   "outputs": [
    {
     "name": "stdout",
     "output_type": "stream",
     "text": [
      "Выше верхнего уса находятся значения выше 1098.0 м, что уже считается выбросами.\n"
     ]
    }
   ],
   "source": [
    "# межквартильный размах (IQR)\n",
    "Q1 = df['parks_nearest'].quantile(0.25)\n",
    "Q3 = df['parks_nearest'].quantile(0.75)\n",
    "IQR = Q3 - Q1\n",
    "# верхняя и нижняя границы нормальных значений\n",
    "lower_bound = Q1 - 1.5 * IQR\n",
    "upper_bound = Q3 + 1.5 * IQR\n",
    "print(f'Выше верхнего уса находятся значения выше {upper_bound} м, что уже считается выбросами.')"
   ]
  },
  {
   "cell_type": "code",
   "execution_count": 109,
   "metadata": {},
   "outputs": [
    {
     "name": "stdout",
     "output_type": "stream",
     "text": [
      "Количество объявлений с нормальным значением расстояния до ближайшего парка: 7405\n"
     ]
    }
   ],
   "source": [
    "normal_values = df[df['parks_nearest'] <= upper_bound]['parks_nearest'].count() - df[df['parks_nearest'] > upper_bound]['parks_nearest'].count()\n",
    "print('Количество объявлений с нормальным значением расстояния до ближайшего парка:', normal_values)"
   ]
  },
  {
   "cell_type": "code",
   "execution_count": 110,
   "metadata": {},
   "outputs": [
    {
     "name": "stdout",
     "output_type": "stream",
     "text": [
      "Процент объявлений с нормальным значением расстояния до ближайшего парка: 96.0\n"
     ]
    }
   ],
   "source": [
    "normal_percent = 100 - (df[df['parks_nearest'] > upper_bound]['parks_nearest'].count() / df[df['parks_nearest'] <= upper_bound]['parks_nearest'].count() * 100).round(1)\n",
    "print('Процент объявлений с нормальным значением расстояния до ближайшего парка:', normal_percent)"
   ]
  },
  {
   "cell_type": "code",
   "execution_count": 111,
   "metadata": {},
   "outputs": [
    {
     "name": "stdout",
     "output_type": "stream",
     "text": [
      "Итог: 96.0% квартир (7405 объявлений) имеют расстояние до ближайшего парка равное или меньше 1098.0 м, что является в пределах нормы.\n"
     ]
    }
   ],
   "source": [
    "print(f'Итог: {normal_percent}% квартир ({normal_values} объявлений) имеют расстояние до ближайшего парка равное или меньше {upper_bound} м, что является в пределах нормы.')"
   ]
  },
  {
   "cell_type": "markdown",
   "metadata": {},
   "source": [
    "10000 квартир находятся в полукилометре ходьбы до парка"
   ]
  },
  {
   "cell_type": "markdown",
   "metadata": {},
   "source": [
    "##### Гистограмма по дню и месяцу публикации объявления\n"
   ]
  },
  {
   "cell_type": "code",
   "execution_count": 112,
   "metadata": {},
   "outputs": [
    {
     "data": {
      "image/png": "[encoded data removed]",
      "text/plain": [
       "<Figure size 432x288 with 1 Axes>"
      ]
     },
     "metadata": {
      "needs_background": "light"
     },
     "output_type": "display_data"
    },
    {
     "data": {
      "image/png": "[encoded data removed]",
      "text/plain": [
       "<Figure size 432x288 with 1 Axes>"
      ]
     },
     "metadata": {
      "needs_background": "light"
     },
     "output_type": "display_data"
    }
   ],
   "source": [
    "df.plot(y='weekday',\n",
    "        kind='hist',\n",
    "        title='Гистограмма по дню публикации объявления',\n",
    "        grid=True,\n",
    "        bins=12)\n",
    "plt.xlabel('Номер дня недели')\n",
    "plt.ylabel('Частота появления')\n",
    "plt.show()\n",
    "\n",
    "df.plot(y='month',\n",
    "        kind='hist',\n",
    "        title='Гистограмма по месяцу публикации объявления',\n",
    "        grid=True,\n",
    "        bins=7)\n",
    "plt.xlabel('Номер месяца')\n",
    "plt.ylabel('Частота появления')\n",
    "plt.show()"
   ]
  },
  {
   "cell_type": "markdown",
   "metadata": {},
   "source": [
    "Объявления в основном публикуют в будние дни. В первые числа января практически не публикуют, а после февраля активно публикуют объявления. В майские праздники заметно меньше публикуют объявления."
   ]
  },
  {
   "cell_type": "markdown",
   "metadata": {},
   "source": [
    "<br>"
   ]
  },
  {
   "cell_type": "markdown",
   "metadata": {},
   "source": [
    "#### Как быстро продавались квартиры"
   ]
  },
  {
   "cell_type": "markdown",
   "metadata": {},
   "source": [
    "Изучим, как быстро продавались квартиры (колонка days_exposition).\\\n",
    "Этот параметр показывает, сколько дней было размещено каждое объявление."
   ]
  },
  {
   "cell_type": "markdown",
   "metadata": {},
   "source": [
    "Построим гистограмму."
   ]
  },
  {
   "cell_type": "code",
   "execution_count": 113,
   "metadata": {},
   "outputs": [
    {
     "data": {
      "image/png": "[encoded data removed]",
      "text/plain": [
       "<Figure size 432x288 with 1 Axes>"
      ]
     },
     "metadata": {
      "needs_background": "light"
     },
     "output_type": "display_data"
    }
   ],
   "source": [
    "df['days_exposition'].hist()\n",
    "plt.title('Сколько дней было размещено объявление')\n",
    "plt.xlabel('Количество дней')\n",
    "plt.ylabel('Частота появления')\n",
    "plt.show()"
   ]
  },
  {
   "cell_type": "markdown",
   "metadata": {},
   "source": [
    "Посчитаем среднее и медиану."
   ]
  },
  {
   "cell_type": "code",
   "execution_count": 114,
   "metadata": {},
   "outputs": [
    {
     "name": "stdout",
     "output_type": "stream",
     "text": [
      "Среднее время продажи квартиры: 180\n",
      "Медианное время продажи квартиры: 95\n"
     ]
    }
   ],
   "source": [
    "print(f\"Среднее время продажи квартиры: {int(df['days_exposition'].mean().round(1))}\")\n",
    "print(f\"Медианное время продажи квартиры: {int(df['days_exposition'].median().round(1))}\")"
   ]
  },
  {
   "cell_type": "code",
   "execution_count": 115,
   "metadata": {},
   "outputs": [
    {
     "data": {
      "image/png": "[encoded data removed]",
      "text/plain": [
       "<Figure size 432x288 with 1 Axes>"
      ]
     },
     "metadata": {
      "needs_background": "light"
     },
     "output_type": "display_data"
    }
   ],
   "source": [
    "df.boxplot(column='days_exposition', showfliers=False)\n",
    "plt.show()"
   ]
  },
  {
   "cell_type": "code",
   "execution_count": 116,
   "metadata": {},
   "outputs": [
    {
     "name": "stdout",
     "output_type": "stream",
     "text": [
      "Выше верхнего уса находятся значения выше 510.0 дней, что уже считается выбросами.\n"
     ]
    }
   ],
   "source": [
    "# межквартильный размах (IQR)\n",
    "Q1 = df['days_exposition'].quantile(0.25)\n",
    "Q3 = df['days_exposition'].quantile(0.75)\n",
    "IQR = Q3 - Q1\n",
    "# верхняя и нижняя границы нормальных значений\n",
    "lower_bound = Q1 - 1.5 * IQR\n",
    "upper_bound = Q3 + 1.5 * IQR\n",
    "print(f'Выше верхнего уса находятся значения выше {upper_bound} дней, что уже считается выбросами.')"
   ]
  },
  {
   "cell_type": "markdown",
   "metadata": {},
   "source": [
    "Судя по гистограмме, подавляющее большинство квартир продавались за 180 дней. На это указывает и средний показатель.\\\n",
    "А медиана гласит, что половина квартир продавалась быстрее чем за 95 дней, а другая половина продавалась дольше 95 дней."
   ]
  },
  {
   "cell_type": "markdown",
   "metadata": {},
   "source": [
    "Построив диаграмму размаха, можно выделить следующее:\n",
    "1. Быстрыми можно считать продажи таких квартир, которые продали за 45 дней и быстрее. Такие продажи ниже первого квартиля. Быстрые продажи составляют от 25% всех объявлений и ниже.\n",
    "2. Долгими можно считать продажи квартир, которые продавались за 232 дня и дольше, то есть долгие продажи относятся к области выше третьего квартиля.\n",
    "3. Необычайно долгими же можно считать объявления, которые находятся за пределами верхнего уса, это выбросы. В них включены объявления, которые были опубликованными в течение 511 дней и дольше."
   ]
  },
  {
   "cell_type": "markdown",
   "metadata": {},
   "source": [
    "<br>"
   ]
  },
  {
   "cell_type": "markdown",
   "metadata": {},
   "source": [
    "#### Какие факторы больше всего влияют на общую стоимость квартиры"
   ]
  },
  {
   "cell_type": "markdown",
   "metadata": {},
   "source": [
    "##### Зависимость цены от площади квартиры"
   ]
  },
  {
   "cell_type": "code",
   "execution_count": 117,
   "metadata": {},
   "outputs": [],
   "source": [
    "# сводная таблица\n",
    "total_price_to_square = (df.groupby('total_area')['last_price']\n",
    "                           .agg(['count', 'mean', 'median'])\n",
    "                           .reset_index())\n",
    "total_price_to_square.columns=('Площадь', 'Кол-во квартир', 'Средняя цена', 'Медианная цена')"
   ]
  },
  {
   "cell_type": "code",
   "execution_count": 118,
   "metadata": {},
   "outputs": [
    {
     "data": {
      "text/html": [
       "<div>\n",
       "<style scoped>\n",
       "    .dataframe tbody tr th:only-of-type {\n",
       "        vertical-align: middle;\n",
       "    }\n",
       "\n",
       "    .dataframe tbody tr th {\n",
       "        vertical-align: top;\n",
       "    }\n",
       "\n",
       "    .dataframe thead th {\n",
       "        text-align: right;\n",
       "    }\n",
       "</style>\n",
       "<table border=\"1\" class=\"dataframe\">\n",
       "  <thead>\n",
       "    <tr style=\"text-align: right;\">\n",
       "      <th></th>\n",
       "      <th>Площадь</th>\n",
       "      <th>Кол-во квартир</th>\n",
       "      <th>Средняя цена</th>\n",
       "      <th>Медианная цена</th>\n",
       "    </tr>\n",
       "  </thead>\n",
       "  <tbody>\n",
       "    <tr>\n",
       "      <th>596</th>\n",
       "      <td>45.00</td>\n",
       "      <td>418</td>\n",
       "      <td>4.033086e+06</td>\n",
       "      <td>4000000.0</td>\n",
       "    </tr>\n",
       "    <tr>\n",
       "      <th>521</th>\n",
       "      <td>42.00</td>\n",
       "      <td>383</td>\n",
       "      <td>3.849210e+06</td>\n",
       "      <td>3850000.0</td>\n",
       "    </tr>\n",
       "    <tr>\n",
       "      <th>174</th>\n",
       "      <td>31.00</td>\n",
       "      <td>346</td>\n",
       "      <td>2.896410e+06</td>\n",
       "      <td>3050000.0</td>\n",
       "    </tr>\n",
       "    <tr>\n",
       "      <th>913</th>\n",
       "      <td>60.00</td>\n",
       "      <td>346</td>\n",
       "      <td>5.601473e+06</td>\n",
       "      <td>5200000.0</td>\n",
       "    </tr>\n",
       "    <tr>\n",
       "      <th>572</th>\n",
       "      <td>44.00</td>\n",
       "      <td>343</td>\n",
       "      <td>3.643822e+06</td>\n",
       "      <td>3800000.0</td>\n",
       "    </tr>\n",
       "    <tr>\n",
       "      <th>...</th>\n",
       "      <td>...</td>\n",
       "      <td>...</td>\n",
       "      <td>...</td>\n",
       "      <td>...</td>\n",
       "    </tr>\n",
       "    <tr>\n",
       "      <th>845</th>\n",
       "      <td>56.79</td>\n",
       "      <td>1</td>\n",
       "      <td>8.000000e+06</td>\n",
       "      <td>8000000.0</td>\n",
       "    </tr>\n",
       "    <tr>\n",
       "      <th>841</th>\n",
       "      <td>56.51</td>\n",
       "      <td>1</td>\n",
       "      <td>4.300000e+06</td>\n",
       "      <td>4300000.0</td>\n",
       "    </tr>\n",
       "    <tr>\n",
       "      <th>839</th>\n",
       "      <td>56.49</td>\n",
       "      <td>1</td>\n",
       "      <td>5.400000e+06</td>\n",
       "      <td>5400000.0</td>\n",
       "    </tr>\n",
       "    <tr>\n",
       "      <th>837</th>\n",
       "      <td>56.32</td>\n",
       "      <td>1</td>\n",
       "      <td>4.950000e+06</td>\n",
       "      <td>4950000.0</td>\n",
       "    </tr>\n",
       "    <tr>\n",
       "      <th>2158</th>\n",
       "      <td>900.00</td>\n",
       "      <td>1</td>\n",
       "      <td>4.200000e+08</td>\n",
       "      <td>420000000.0</td>\n",
       "    </tr>\n",
       "  </tbody>\n",
       "</table>\n",
       "<p>2159 rows × 4 columns</p>\n",
       "</div>"
      ],
      "text/plain": [
       "      Площадь  Кол-во квартир  Средняя цена  Медианная цена\n",
       "596     45.00             418  4.033086e+06       4000000.0\n",
       "521     42.00             383  3.849210e+06       3850000.0\n",
       "174     31.00             346  2.896410e+06       3050000.0\n",
       "913     60.00             346  5.601473e+06       5200000.0\n",
       "572     44.00             343  3.643822e+06       3800000.0\n",
       "...       ...             ...           ...             ...\n",
       "845     56.79               1  8.000000e+06       8000000.0\n",
       "841     56.51               1  4.300000e+06       4300000.0\n",
       "839     56.49               1  5.400000e+06       5400000.0\n",
       "837     56.32               1  4.950000e+06       4950000.0\n",
       "2158   900.00               1  4.200000e+08     420000000.0\n",
       "\n",
       "[2159 rows x 4 columns]"
      ]
     },
     "execution_count": 118,
     "metadata": {},
     "output_type": "execute_result"
    }
   ],
   "source": [
    "total_price_to_square.sort_values(by='Кол-во квартир', ascending=False)"
   ]
  },
  {
   "cell_type": "code",
   "execution_count": 119,
   "metadata": {},
   "outputs": [
    {
     "data": {
      "image/png": "[encoded data removed]",
      "text/plain": [
       "<Figure size 432x288 with 1 Axes>"
      ]
     },
     "metadata": {
      "needs_background": "light"
     },
     "output_type": "display_data"
    }
   ],
   "source": [
    "df.plot(x='total_area',\n",
    "        y='last_price',\n",
    "        kind='scatter',\n",
    "        grid=True)\n",
    "plt.title('Зависимость цены от площади')\n",
    "plt.xlabel('Площадь квартиры')\n",
    "plt.ylabel('Цена квартиры, сотни млн ₽')\n",
    "plt.show()"
   ]
  },
  {
   "cell_type": "code",
   "execution_count": 120,
   "metadata": {},
   "outputs": [
    {
     "name": "stdout",
     "output_type": "stream",
     "text": [
      "Коэффициент корреляции Пирсона равен: 0.65\n"
     ]
    }
   ],
   "source": [
    "print(f\"Коэффициент корреляции Пирсона равен: {df['total_area'].corr(df['last_price']).round(2)}\")"
   ]
  },
  {
   "cell_type": "markdown",
   "metadata": {},
   "source": [
    "Это значит, что цена скорее зависит от общей площади. Положительная корреляция."
   ]
  },
  {
   "cell_type": "markdown",
   "metadata": {},
   "source": [
    "<br>"
   ]
  },
  {
   "cell_type": "markdown",
   "metadata": {},
   "source": [
    "##### Зависимость цены от площади кухни"
   ]
  },
  {
   "cell_type": "code",
   "execution_count": 121,
   "metadata": {},
   "outputs": [],
   "source": [
    "# сводная таблица\n",
    "total_price_to_kitchen = (df.pivot_table(index='kitchen_area', values='last_price', aggfunc=['count', 'mean', 'median'])\n",
    "                            .reset_index())\n",
    "total_price_to_kitchen.columns=('Площадь кухни', 'Кол-во квартир', 'Средняя цена', 'Медианная цена')"
   ]
  },
  {
   "cell_type": "code",
   "execution_count": 122,
   "metadata": {},
   "outputs": [
    {
     "data": {
      "text/html": [
       "<div>\n",
       "<style scoped>\n",
       "    .dataframe tbody tr th:only-of-type {\n",
       "        vertical-align: middle;\n",
       "    }\n",
       "\n",
       "    .dataframe tbody tr th {\n",
       "        vertical-align: top;\n",
       "    }\n",
       "\n",
       "    .dataframe thead th {\n",
       "        text-align: right;\n",
       "    }\n",
       "</style>\n",
       "<table border=\"1\" class=\"dataframe\">\n",
       "  <thead>\n",
       "    <tr style=\"text-align: right;\">\n",
       "      <th></th>\n",
       "      <th>Площадь кухни</th>\n",
       "      <th>Кол-во квартир</th>\n",
       "      <th>Средняя цена</th>\n",
       "      <th>Медианная цена</th>\n",
       "    </tr>\n",
       "  </thead>\n",
       "  <tbody>\n",
       "    <tr>\n",
       "      <th>61</th>\n",
       "      <td>6.00</td>\n",
       "      <td>1298</td>\n",
       "      <td>3.342867e+06</td>\n",
       "      <td>3300000.0</td>\n",
       "    </tr>\n",
       "    <tr>\n",
       "      <th>269</th>\n",
       "      <td>10.00</td>\n",
       "      <td>1258</td>\n",
       "      <td>5.757964e+06</td>\n",
       "      <td>4800000.0</td>\n",
       "    </tr>\n",
       "    <tr>\n",
       "      <th>140</th>\n",
       "      <td>8.00</td>\n",
       "      <td>1108</td>\n",
       "      <td>4.737586e+06</td>\n",
       "      <td>4300000.0</td>\n",
       "    </tr>\n",
       "    <tr>\n",
       "      <th>201</th>\n",
       "      <td>9.00</td>\n",
       "      <td>1099</td>\n",
       "      <td>4.716032e+06</td>\n",
       "      <td>4100000.0</td>\n",
       "    </tr>\n",
       "    <tr>\n",
       "      <th>104</th>\n",
       "      <td>7.00</td>\n",
       "      <td>1062</td>\n",
       "      <td>4.164473e+06</td>\n",
       "      <td>4000000.0</td>\n",
       "    </tr>\n",
       "    <tr>\n",
       "      <th>...</th>\n",
       "      <td>...</td>\n",
       "      <td>...</td>\n",
       "      <td>...</td>\n",
       "      <td>...</td>\n",
       "    </tr>\n",
       "    <tr>\n",
       "      <th>450</th>\n",
       "      <td>12.71</td>\n",
       "      <td>1</td>\n",
       "      <td>2.450000e+06</td>\n",
       "      <td>2450000.0</td>\n",
       "    </tr>\n",
       "    <tr>\n",
       "      <th>451</th>\n",
       "      <td>12.72</td>\n",
       "      <td>1</td>\n",
       "      <td>8.090000e+06</td>\n",
       "      <td>8090000.0</td>\n",
       "    </tr>\n",
       "    <tr>\n",
       "      <th>452</th>\n",
       "      <td>12.75</td>\n",
       "      <td>1</td>\n",
       "      <td>4.296240e+06</td>\n",
       "      <td>4296240.0</td>\n",
       "    </tr>\n",
       "    <tr>\n",
       "      <th>456</th>\n",
       "      <td>12.84</td>\n",
       "      <td>1</td>\n",
       "      <td>6.200000e+06</td>\n",
       "      <td>6200000.0</td>\n",
       "    </tr>\n",
       "    <tr>\n",
       "      <th>961</th>\n",
       "      <td>112.00</td>\n",
       "      <td>1</td>\n",
       "      <td>4.200000e+08</td>\n",
       "      <td>420000000.0</td>\n",
       "    </tr>\n",
       "  </tbody>\n",
       "</table>\n",
       "<p>962 rows × 4 columns</p>\n",
       "</div>"
      ],
      "text/plain": [
       "     Площадь кухни  Кол-во квартир  Средняя цена  Медианная цена\n",
       "61            6.00            1298  3.342867e+06       3300000.0\n",
       "269          10.00            1258  5.757964e+06       4800000.0\n",
       "140           8.00            1108  4.737586e+06       4300000.0\n",
       "201           9.00            1099  4.716032e+06       4100000.0\n",
       "104           7.00            1062  4.164473e+06       4000000.0\n",
       "..             ...             ...           ...             ...\n",
       "450          12.71               1  2.450000e+06       2450000.0\n",
       "451          12.72               1  8.090000e+06       8090000.0\n",
       "452          12.75               1  4.296240e+06       4296240.0\n",
       "456          12.84               1  6.200000e+06       6200000.0\n",
       "961         112.00               1  4.200000e+08     420000000.0\n",
       "\n",
       "[962 rows x 4 columns]"
      ]
     },
     "execution_count": 122,
     "metadata": {},
     "output_type": "execute_result"
    }
   ],
   "source": [
    "total_price_to_kitchen.sort_values(by='Кол-во квартир', ascending=False)"
   ]
  },
  {
   "cell_type": "code",
   "execution_count": 123,
   "metadata": {},
   "outputs": [
    {
     "data": {
      "image/png": "[encoded data removed]",
      "text/plain": [
       "<Figure size 432x288 with 1 Axes>"
      ]
     },
     "metadata": {
      "needs_background": "light"
     },
     "output_type": "display_data"
    }
   ],
   "source": [
    "df.plot(x='kitchen_area',\n",
    "        y='last_price',\n",
    "        kind='scatter',\n",
    "        grid=True)\n",
    "plt.title('Зависимость цены от площади кухни')\n",
    "plt.xlabel('Площадь кухни')\n",
    "plt.ylabel('Цена квартиры, сотни млн ₽')\n",
    "plt.show()"
   ]
  },
  {
   "cell_type": "code",
   "execution_count": 124,
   "metadata": {},
   "outputs": [
    {
     "name": "stdout",
     "output_type": "stream",
     "text": [
      "Коэффициент корреляции Пирсона равен: 0.52\n"
     ]
    }
   ],
   "source": [
    "print(f\"Коэффициент корреляции Пирсона равен: {df['kitchen_area'].corr(df['last_price']).round(2)}\")"
   ]
  },
  {
   "cell_type": "markdown",
   "metadata": {},
   "source": [
    "Цена скорее зависит от площади кухни, есть положительная корреляция."
   ]
  },
  {
   "cell_type": "markdown",
   "metadata": {},
   "source": [
    "<br>"
   ]
  },
  {
   "cell_type": "markdown",
   "metadata": {},
   "source": [
    "##### Зависимость цены от количества комнат"
   ]
  },
  {
   "cell_type": "code",
   "execution_count": 125,
   "metadata": {},
   "outputs": [],
   "source": [
    "# сводная таблица\n",
    "total_price_to_rooms = (df.groupby('rooms')['last_price'].agg(['count', 'mean', 'median'])\n",
    "                          .reset_index())\n",
    "total_price_to_rooms.columns=('Кол-во комнат', 'Кол-во квартир', 'Средняя цена', 'Медианная цена')"
   ]
  },
  {
   "cell_type": "code",
   "execution_count": 126,
   "metadata": {},
   "outputs": [
    {
     "data": {
      "text/html": [
       "<div>\n",
       "<style scoped>\n",
       "    .dataframe tbody tr th:only-of-type {\n",
       "        vertical-align: middle;\n",
       "    }\n",
       "\n",
       "    .dataframe tbody tr th {\n",
       "        vertical-align: top;\n",
       "    }\n",
       "\n",
       "    .dataframe thead th {\n",
       "        text-align: right;\n",
       "    }\n",
       "</style>\n",
       "<table border=\"1\" class=\"dataframe\">\n",
       "  <thead>\n",
       "    <tr style=\"text-align: right;\">\n",
       "      <th></th>\n",
       "      <th>Кол-во комнат</th>\n",
       "      <th>Кол-во квартир</th>\n",
       "      <th>Средняя цена</th>\n",
       "      <th>Медианная цена</th>\n",
       "    </tr>\n",
       "  </thead>\n",
       "  <tbody>\n",
       "    <tr>\n",
       "      <th>1</th>\n",
       "      <td>1</td>\n",
       "      <td>8001</td>\n",
       "      <td>3.832257e+06</td>\n",
       "      <td>3600000</td>\n",
       "    </tr>\n",
       "    <tr>\n",
       "      <th>2</th>\n",
       "      <td>2</td>\n",
       "      <td>7894</td>\n",
       "      <td>5.587720e+06</td>\n",
       "      <td>4762338</td>\n",
       "    </tr>\n",
       "    <tr>\n",
       "      <th>3</th>\n",
       "      <td>3</td>\n",
       "      <td>5779</td>\n",
       "      <td>8.174764e+06</td>\n",
       "      <td>6200000</td>\n",
       "    </tr>\n",
       "    <tr>\n",
       "      <th>4</th>\n",
       "      <td>4</td>\n",
       "      <td>1172</td>\n",
       "      <td>1.341792e+07</td>\n",
       "      <td>9000000</td>\n",
       "    </tr>\n",
       "    <tr>\n",
       "      <th>5</th>\n",
       "      <td>5</td>\n",
       "      <td>325</td>\n",
       "      <td>2.379830e+07</td>\n",
       "      <td>14000000</td>\n",
       "    </tr>\n",
       "    <tr>\n",
       "      <th>0</th>\n",
       "      <td>0</td>\n",
       "      <td>194</td>\n",
       "      <td>3.344493e+06</td>\n",
       "      <td>2700000</td>\n",
       "    </tr>\n",
       "    <tr>\n",
       "      <th>6</th>\n",
       "      <td>6</td>\n",
       "      <td>104</td>\n",
       "      <td>3.188004e+07</td>\n",
       "      <td>19000000</td>\n",
       "    </tr>\n",
       "    <tr>\n",
       "      <th>7</th>\n",
       "      <td>7</td>\n",
       "      <td>59</td>\n",
       "      <td>5.147007e+07</td>\n",
       "      <td>24900000</td>\n",
       "    </tr>\n",
       "    <tr>\n",
       "      <th>8</th>\n",
       "      <td>8</td>\n",
       "      <td>12</td>\n",
       "      <td>5.022417e+07</td>\n",
       "      <td>23095000</td>\n",
       "    </tr>\n",
       "    <tr>\n",
       "      <th>9</th>\n",
       "      <td>9</td>\n",
       "      <td>8</td>\n",
       "      <td>3.415236e+07</td>\n",
       "      <td>23750000</td>\n",
       "    </tr>\n",
       "    <tr>\n",
       "      <th>10</th>\n",
       "      <td>10</td>\n",
       "      <td>3</td>\n",
       "      <td>2.616667e+07</td>\n",
       "      <td>23000000</td>\n",
       "    </tr>\n",
       "    <tr>\n",
       "      <th>11</th>\n",
       "      <td>11</td>\n",
       "      <td>2</td>\n",
       "      <td>2.525000e+07</td>\n",
       "      <td>25250000</td>\n",
       "    </tr>\n",
       "    <tr>\n",
       "      <th>13</th>\n",
       "      <td>14</td>\n",
       "      <td>2</td>\n",
       "      <td>2.682950e+07</td>\n",
       "      <td>26829500</td>\n",
       "    </tr>\n",
       "    <tr>\n",
       "      <th>12</th>\n",
       "      <td>12</td>\n",
       "      <td>1</td>\n",
       "      <td>4.200000e+08</td>\n",
       "      <td>420000000</td>\n",
       "    </tr>\n",
       "    <tr>\n",
       "      <th>14</th>\n",
       "      <td>15</td>\n",
       "      <td>1</td>\n",
       "      <td>6.500000e+07</td>\n",
       "      <td>65000000</td>\n",
       "    </tr>\n",
       "    <tr>\n",
       "      <th>15</th>\n",
       "      <td>16</td>\n",
       "      <td>1</td>\n",
       "      <td>2.850000e+07</td>\n",
       "      <td>28500000</td>\n",
       "    </tr>\n",
       "    <tr>\n",
       "      <th>16</th>\n",
       "      <td>19</td>\n",
       "      <td>1</td>\n",
       "      <td>3.225000e+07</td>\n",
       "      <td>32250000</td>\n",
       "    </tr>\n",
       "  </tbody>\n",
       "</table>\n",
       "</div>"
      ],
      "text/plain": [
       "    Кол-во комнат  Кол-во квартир  Средняя цена  Медианная цена\n",
       "1               1            8001  3.832257e+06         3600000\n",
       "2               2            7894  5.587720e+06         4762338\n",
       "3               3            5779  8.174764e+06         6200000\n",
       "4               4            1172  1.341792e+07         9000000\n",
       "5               5             325  2.379830e+07        14000000\n",
       "0               0             194  3.344493e+06         2700000\n",
       "6               6             104  3.188004e+07        19000000\n",
       "7               7              59  5.147007e+07        24900000\n",
       "8               8              12  5.022417e+07        23095000\n",
       "9               9               8  3.415236e+07        23750000\n",
       "10             10               3  2.616667e+07        23000000\n",
       "11             11               2  2.525000e+07        25250000\n",
       "13             14               2  2.682950e+07        26829500\n",
       "12             12               1  4.200000e+08       420000000\n",
       "14             15               1  6.500000e+07        65000000\n",
       "15             16               1  2.850000e+07        28500000\n",
       "16             19               1  3.225000e+07        32250000"
      ]
     },
     "execution_count": 126,
     "metadata": {},
     "output_type": "execute_result"
    }
   ],
   "source": [
    "total_price_to_rooms.sort_values(by='Кол-во квартир', ascending=False)"
   ]
  },
  {
   "cell_type": "code",
   "execution_count": 127,
   "metadata": {},
   "outputs": [
    {
     "data": {
      "image/png": "[encoded data removed]",
      "text/plain": [
       "<Figure size 432x288 with 1 Axes>"
      ]
     },
     "metadata": {
      "needs_background": "light"
     },
     "output_type": "display_data"
    }
   ],
   "source": [
    "df.plot(x='rooms',\n",
    "        y='last_price',\n",
    "        kind='scatter',\n",
    "        grid=True)\n",
    "plt.title('Зависимость цены от кол-ва комнат')\n",
    "plt.xlabel('Кол-во комнат')\n",
    "plt.ylabel('Цена квартиры, сотни млн ₽')\n",
    "plt.show()"
   ]
  },
  {
   "cell_type": "code",
   "execution_count": 128,
   "metadata": {},
   "outputs": [
    {
     "name": "stdout",
     "output_type": "stream",
     "text": [
      "Коэффициент корреляции Пирсона равен: 0.36\n"
     ]
    }
   ],
   "source": [
    "print(f\"Коэффициент корреляции Пирсона равен: {df['rooms'].corr(df['last_price']).round(2)}\")"
   ]
  },
  {
   "cell_type": "markdown",
   "metadata": {},
   "source": [
    "Есть положительная корреляция между количеством комнат и ценой квартиры."
   ]
  },
  {
   "cell_type": "markdown",
   "metadata": {},
   "source": [
    "<br>"
   ]
  },
  {
   "cell_type": "markdown",
   "metadata": {},
   "source": [
    "##### Зависимость цены от этажа, на котором расположена квартира"
   ]
  },
  {
   "cell_type": "code",
   "execution_count": 129,
   "metadata": {},
   "outputs": [],
   "source": [
    "# сводная таблица\n",
    "total_price_to_floor_type = (df.pivot_table(index='floor_type', values='last_price', aggfunc=['count', 'mean', 'median'])\n",
    "                               .reset_index())\n",
    "total_price_to_floor_type.columns=('Тип этажа', 'Кол-во квартир', 'Средняя цена', 'Медианная цена')"
   ]
  },
  {
   "cell_type": "code",
   "execution_count": 130,
   "metadata": {},
   "outputs": [
    {
     "data": {
      "text/html": [
       "<div>\n",
       "<style scoped>\n",
       "    .dataframe tbody tr th:only-of-type {\n",
       "        vertical-align: middle;\n",
       "    }\n",
       "\n",
       "    .dataframe tbody tr th {\n",
       "        vertical-align: top;\n",
       "    }\n",
       "\n",
       "    .dataframe thead th {\n",
       "        text-align: right;\n",
       "    }\n",
       "</style>\n",
       "<table border=\"1\" class=\"dataframe\">\n",
       "  <thead>\n",
       "    <tr style=\"text-align: right;\">\n",
       "      <th></th>\n",
       "      <th>Тип этажа</th>\n",
       "      <th>Кол-во квартир</th>\n",
       "      <th>Средняя цена</th>\n",
       "      <th>Медианная цена</th>\n",
       "    </tr>\n",
       "  </thead>\n",
       "  <tbody>\n",
       "    <tr>\n",
       "      <th>0</th>\n",
       "      <td>другой</td>\n",
       "      <td>17322</td>\n",
       "      <td>6.674678e+06</td>\n",
       "      <td>4846500</td>\n",
       "    </tr>\n",
       "    <tr>\n",
       "      <th>2</th>\n",
       "      <td>последний</td>\n",
       "      <td>3329</td>\n",
       "      <td>7.356843e+06</td>\n",
       "      <td>4300000</td>\n",
       "    </tr>\n",
       "    <tr>\n",
       "      <th>1</th>\n",
       "      <td>первый</td>\n",
       "      <td>2908</td>\n",
       "      <td>4.803740e+06</td>\n",
       "      <td>3900000</td>\n",
       "    </tr>\n",
       "  </tbody>\n",
       "</table>\n",
       "</div>"
      ],
      "text/plain": [
       "   Тип этажа  Кол-во квартир  Средняя цена  Медианная цена\n",
       "0     другой           17322  6.674678e+06         4846500\n",
       "2  последний            3329  7.356843e+06         4300000\n",
       "1     первый            2908  4.803740e+06         3900000"
      ]
     },
     "execution_count": 130,
     "metadata": {},
     "output_type": "execute_result"
    }
   ],
   "source": [
    "total_price_to_floor_type.sort_values(by='Кол-во квартир', ascending=False)"
   ]
  },
  {
   "cell_type": "code",
   "execution_count": 131,
   "metadata": {},
   "outputs": [
    {
     "data": {
      "image/png": "[encoded data removed]",
      "text/plain": [
       "<Figure size 432x288 with 1 Axes>"
      ]
     },
     "metadata": {
      "needs_background": "light"
     },
     "output_type": "display_data"
    }
   ],
   "source": [
    "df.plot(x='floor_type',\n",
    "        y='last_price',\n",
    "        kind='scatter',\n",
    "        grid=True)\n",
    "plt.title('Зависимость цены от типа этажа')\n",
    "plt.xlabel('Тип этажа')\n",
    "plt.ylabel('Цена квартиры, сотни млн ₽')\n",
    "plt.show()"
   ]
  },
  {
   "cell_type": "markdown",
   "metadata": {},
   "source": [
    "Квартиры на первом этаже обходятся дешевле, чем квартиры на других этажах"
   ]
  },
  {
   "cell_type": "markdown",
   "metadata": {},
   "source": [
    "<br>"
   ]
  },
  {
   "cell_type": "markdown",
   "metadata": {},
   "source": [
    "##### Зависимость цены от даты размещения (день недели, месяц, год)"
   ]
  },
  {
   "cell_type": "code",
   "execution_count": 132,
   "metadata": {},
   "outputs": [],
   "source": [
    "total_price_to_date = (df.pivot_table(index=['weekday', 'month', 'year'], values='last_price', aggfunc=['count', 'mean', 'median'])\n",
    "                         .reset_index())\n",
    "total_price_to_date.columns=('Номер дня', 'Номер месяца', 'Год', 'Кол-во квартир', 'Средняя цена', 'Медианная цена')"
   ]
  },
  {
   "cell_type": "code",
   "execution_count": 133,
   "metadata": {},
   "outputs": [
    {
     "data": {
      "text/html": [
       "<div>\n",
       "<style scoped>\n",
       "    .dataframe tbody tr th:only-of-type {\n",
       "        vertical-align: middle;\n",
       "    }\n",
       "\n",
       "    .dataframe tbody tr th {\n",
       "        vertical-align: top;\n",
       "    }\n",
       "\n",
       "    .dataframe thead th {\n",
       "        text-align: right;\n",
       "    }\n",
       "</style>\n",
       "<table border=\"1\" class=\"dataframe\">\n",
       "  <thead>\n",
       "    <tr style=\"text-align: right;\">\n",
       "      <th></th>\n",
       "      <th>Номер дня</th>\n",
       "      <th>Номер месяца</th>\n",
       "      <th>Год</th>\n",
       "      <th>Кол-во квартир</th>\n",
       "      <th>Средняя цена</th>\n",
       "      <th>Медианная цена</th>\n",
       "    </tr>\n",
       "  </thead>\n",
       "  <tbody>\n",
       "    <tr>\n",
       "      <th>168</th>\n",
       "      <td>3</td>\n",
       "      <td>2</td>\n",
       "      <td>2018</td>\n",
       "      <td>519</td>\n",
       "      <td>6.008869e+06</td>\n",
       "      <td>4490000.0</td>\n",
       "    </tr>\n",
       "    <tr>\n",
       "      <th>262</th>\n",
       "      <td>4</td>\n",
       "      <td>11</td>\n",
       "      <td>2017</td>\n",
       "      <td>332</td>\n",
       "      <td>6.398762e+06</td>\n",
       "      <td>4525000.0</td>\n",
       "    </tr>\n",
       "    <tr>\n",
       "      <th>145</th>\n",
       "      <td>2</td>\n",
       "      <td>9</td>\n",
       "      <td>2017</td>\n",
       "      <td>228</td>\n",
       "      <td>6.446190e+06</td>\n",
       "      <td>4600000.0</td>\n",
       "    </tr>\n",
       "    <tr>\n",
       "      <th>153</th>\n",
       "      <td>2</td>\n",
       "      <td>11</td>\n",
       "      <td>2017</td>\n",
       "      <td>221</td>\n",
       "      <td>6.574170e+06</td>\n",
       "      <td>4650000.0</td>\n",
       "    </tr>\n",
       "    <tr>\n",
       "      <th>19</th>\n",
       "      <td>0</td>\n",
       "      <td>4</td>\n",
       "      <td>2019</td>\n",
       "      <td>218</td>\n",
       "      <td>6.953873e+06</td>\n",
       "      <td>5200000.0</td>\n",
       "    </tr>\n",
       "    <tr>\n",
       "      <th>...</th>\n",
       "      <td>...</td>\n",
       "      <td>...</td>\n",
       "      <td>...</td>\n",
       "      <td>...</td>\n",
       "      <td>...</td>\n",
       "      <td>...</td>\n",
       "    </tr>\n",
       "    <tr>\n",
       "      <th>293</th>\n",
       "      <td>5</td>\n",
       "      <td>6</td>\n",
       "      <td>2015</td>\n",
       "      <td>2</td>\n",
       "      <td>7.050000e+06</td>\n",
       "      <td>7050000.0</td>\n",
       "    </tr>\n",
       "    <tr>\n",
       "      <th>328</th>\n",
       "      <td>6</td>\n",
       "      <td>2</td>\n",
       "      <td>2015</td>\n",
       "      <td>1</td>\n",
       "      <td>1.050000e+07</td>\n",
       "      <td>10500000.0</td>\n",
       "    </tr>\n",
       "    <tr>\n",
       "      <th>323</th>\n",
       "      <td>6</td>\n",
       "      <td>1</td>\n",
       "      <td>2015</td>\n",
       "      <td>1</td>\n",
       "      <td>5.500000e+06</td>\n",
       "      <td>5500000.0</td>\n",
       "    </tr>\n",
       "    <tr>\n",
       "      <th>338</th>\n",
       "      <td>6</td>\n",
       "      <td>4</td>\n",
       "      <td>2015</td>\n",
       "      <td>1</td>\n",
       "      <td>6.195000e+06</td>\n",
       "      <td>6195000.0</td>\n",
       "    </tr>\n",
       "    <tr>\n",
       "      <th>313</th>\n",
       "      <td>5</td>\n",
       "      <td>11</td>\n",
       "      <td>2014</td>\n",
       "      <td>1</td>\n",
       "      <td>5.500000e+06</td>\n",
       "      <td>5500000.0</td>\n",
       "    </tr>\n",
       "  </tbody>\n",
       "</table>\n",
       "<p>376 rows × 6 columns</p>\n",
       "</div>"
      ],
      "text/plain": [
       "     Номер дня  Номер месяца   Год  Кол-во квартир  Средняя цена  \\\n",
       "168          3             2  2018             519  6.008869e+06   \n",
       "262          4            11  2017             332  6.398762e+06   \n",
       "145          2             9  2017             228  6.446190e+06   \n",
       "153          2            11  2017             221  6.574170e+06   \n",
       "19           0             4  2019             218  6.953873e+06   \n",
       "..         ...           ...   ...             ...           ...   \n",
       "293          5             6  2015               2  7.050000e+06   \n",
       "328          6             2  2015               1  1.050000e+07   \n",
       "323          6             1  2015               1  5.500000e+06   \n",
       "338          6             4  2015               1  6.195000e+06   \n",
       "313          5            11  2014               1  5.500000e+06   \n",
       "\n",
       "     Медианная цена  \n",
       "168       4490000.0  \n",
       "262       4525000.0  \n",
       "145       4600000.0  \n",
       "153       4650000.0  \n",
       "19        5200000.0  \n",
       "..              ...  \n",
       "293       7050000.0  \n",
       "328      10500000.0  \n",
       "323       5500000.0  \n",
       "338       6195000.0  \n",
       "313       5500000.0  \n",
       "\n",
       "[376 rows x 6 columns]"
      ]
     },
     "execution_count": 133,
     "metadata": {},
     "output_type": "execute_result"
    }
   ],
   "source": [
    "total_price_to_date.sort_values(by='Кол-во квартир', ascending=False)"
   ]
  },
  {
   "cell_type": "code",
   "execution_count": 134,
   "metadata": {},
   "outputs": [
    {
     "data": {
      "image/png": "[encoded data removed]",
      "text/plain": [
       "<Figure size 432x288 with 1 Axes>"
      ]
     },
     "metadata": {
      "needs_background": "light"
     },
     "output_type": "display_data"
    },
    {
     "name": "stdout",
     "output_type": "stream",
     "text": [
      "Коэффициент корреляции Пирсона равен: 0.001\n"
     ]
    }
   ],
   "source": [
    "df.plot(x='weekday', y='last_price', kind='scatter', grid=True)\n",
    "plt.title('Зависимость цены от номера дня')\n",
    "plt.xlabel('Номер дня недели')\n",
    "plt.ylabel('Цена квартиры, сотни млн ₽')\n",
    "plt.show()\n",
    "print(f\"Коэффициент корреляции Пирсона равен: {df['weekday'].corr(df['last_price']).round(3)}\")"
   ]
  },
  {
   "cell_type": "code",
   "execution_count": 135,
   "metadata": {},
   "outputs": [
    {
     "data": {
      "image/png": "[encoded data removed]",
      "text/plain": [
       "<Figure size 432x288 with 1 Axes>"
      ]
     },
     "metadata": {
      "needs_background": "light"
     },
     "output_type": "display_data"
    },
    {
     "name": "stdout",
     "output_type": "stream",
     "text": [
      "Коэффициент корреляции Пирсона равен: 0.003\n"
     ]
    }
   ],
   "source": [
    "df.plot(x='month', y='last_price', kind='scatter', grid=True)\n",
    "plt.title('Зависимость цены от номера месяца')\n",
    "plt.xlabel('Номер месяца')\n",
    "plt.ylabel('Цена квартиры, сотни млн ₽')\n",
    "plt.show()\n",
    "print(f\"Коэффициент корреляции Пирсона равен: {df['month'].corr(df['last_price']).round(3)}\")"
   ]
  },
  {
   "cell_type": "code",
   "execution_count": 136,
   "metadata": {},
   "outputs": [
    {
     "data": {
      "image/png": "[encoded data removed]",
      "text/plain": [
       "<Figure size 432x288 with 1 Axes>"
      ]
     },
     "metadata": {
      "needs_background": "light"
     },
     "output_type": "display_data"
    },
    {
     "name": "stdout",
     "output_type": "stream",
     "text": [
      "Коэффициент корреляции Пирсона равен: -0.043\n"
     ]
    }
   ],
   "source": [
    "df.plot(x='year', y='last_price', kind='scatter', grid=True)\n",
    "plt.title('Зависимость цены от года')\n",
    "plt.xlabel('Год')\n",
    "plt.ylabel('Цена квартиры, сотни млн ₽')\n",
    "plt.show()\n",
    "print(f\"Коэффициент корреляции Пирсона равен: {df['year'].corr(df['last_price']).round(3)}\")"
   ]
  },
  {
   "cell_type": "markdown",
   "metadata": {},
   "source": [
    "Корреляция между датой размещения и ценой квартиры совсем отсутствует"
   ]
  },
  {
   "cell_type": "markdown",
   "metadata": {},
   "source": [
    "**Таким образом, на стоимость квартиры больше всего влияет общая площадь.**"
   ]
  },
  {
   "cell_type": "markdown",
   "metadata": {},
   "source": [
    "<br>"
   ]
  },
  {
   "cell_type": "markdown",
   "metadata": {},
   "source": [
    "#### Анализ по самым популярным населённым пунктам"
   ]
  },
  {
   "cell_type": "markdown",
   "metadata": {},
   "source": [
    "**10 населённых пунктов с наибольшим числом объявлений**"
   ]
  },
  {
   "cell_type": "code",
   "execution_count": 137,
   "metadata": {},
   "outputs": [
    {
     "data": {
      "text/plain": [
       "Санкт-Петербург      15646\n",
       "поселок Мурино         552\n",
       "поселок Шушары         439\n",
       "Всеволожск             398\n",
       "Пушкин                 369\n",
       "Колпино                338\n",
       "поселок Парголово      327\n",
       "Гатчина                307\n",
       "деревня Кудрово        299\n",
       "Выборг                 237\n",
       "Name: locality_name, dtype: int64"
      ]
     },
     "execution_count": 137,
     "metadata": {},
     "output_type": "execute_result"
    }
   ],
   "source": [
    "top_10 = df['locality_name'].value_counts().head(10)\n",
    "top_10"
   ]
  },
  {
   "cell_type": "markdown",
   "metadata": {},
   "source": [
    "**Средняя цена одного квадратного метра в этих 10 населённых пунктах**"
   ]
  },
  {
   "cell_type": "code",
   "execution_count": 138,
   "metadata": {},
   "outputs": [
    {
     "data": {
      "text/html": [
       "<div>\n",
       "<style scoped>\n",
       "    .dataframe tbody tr th:only-of-type {\n",
       "        vertical-align: middle;\n",
       "    }\n",
       "\n",
       "    .dataframe tbody tr th {\n",
       "        vertical-align: top;\n",
       "    }\n",
       "\n",
       "    .dataframe thead th {\n",
       "        text-align: right;\n",
       "    }\n",
       "</style>\n",
       "<table border=\"1\" class=\"dataframe\">\n",
       "  <thead>\n",
       "    <tr style=\"text-align: right;\">\n",
       "      <th></th>\n",
       "      <th>Населённый пункт</th>\n",
       "      <th>Средняя цена 1 м²</th>\n",
       "    </tr>\n",
       "  </thead>\n",
       "  <tbody>\n",
       "    <tr>\n",
       "      <th>5</th>\n",
       "      <td>Санкт-Петербург</td>\n",
       "      <td>114839.840202</td>\n",
       "    </tr>\n",
       "    <tr>\n",
       "      <th>4</th>\n",
       "      <td>Пушкин</td>\n",
       "      <td>103125.819291</td>\n",
       "    </tr>\n",
       "    <tr>\n",
       "      <th>6</th>\n",
       "      <td>деревня Кудрово</td>\n",
       "      <td>92473.547576</td>\n",
       "    </tr>\n",
       "    <tr>\n",
       "      <th>8</th>\n",
       "      <td>поселок Парголово</td>\n",
       "      <td>90175.913458</td>\n",
       "    </tr>\n",
       "    <tr>\n",
       "      <th>7</th>\n",
       "      <td>поселок Мурино</td>\n",
       "      <td>85629.568678</td>\n",
       "    </tr>\n",
       "    <tr>\n",
       "      <th>9</th>\n",
       "      <td>поселок Шушары</td>\n",
       "      <td>78551.344545</td>\n",
       "    </tr>\n",
       "    <tr>\n",
       "      <th>3</th>\n",
       "      <td>Колпино</td>\n",
       "      <td>75424.579098</td>\n",
       "    </tr>\n",
       "    <tr>\n",
       "      <th>2</th>\n",
       "      <td>Гатчина</td>\n",
       "      <td>68746.146763</td>\n",
       "    </tr>\n",
       "    <tr>\n",
       "      <th>0</th>\n",
       "      <td>Всеволожск</td>\n",
       "      <td>68654.473986</td>\n",
       "    </tr>\n",
       "    <tr>\n",
       "      <th>1</th>\n",
       "      <td>Выборг</td>\n",
       "      <td>58141.909153</td>\n",
       "    </tr>\n",
       "  </tbody>\n",
       "</table>\n",
       "</div>"
      ],
      "text/plain": [
       "    Населённый пункт  Средняя цена 1 м²\n",
       "5    Санкт-Петербург      114839.840202\n",
       "4             Пушкин      103125.819291\n",
       "6    деревня Кудрово       92473.547576\n",
       "8  поселок Парголово       90175.913458\n",
       "7     поселок Мурино       85629.568678\n",
       "9     поселок Шушары       78551.344545\n",
       "3            Колпино       75424.579098\n",
       "2            Гатчина       68746.146763\n",
       "0         Всеволожск       68654.473986\n",
       "1             Выборг       58141.909153"
      ]
     },
     "execution_count": 138,
     "metadata": {},
     "output_type": "execute_result"
    }
   ],
   "source": [
    "city_av_price = (df.query('locality_name in @top_10.index')\n",
    "                   .pivot_table(index='locality_name', values='one_meter_price', aggfunc='mean')\n",
    "                   .reset_index())\n",
    "city_av_price.columns=('Населённый пункт', 'Средняя цена 1 м²')\n",
    "city_av_price.sort_values(by='Средняя цена 1 м²', ascending=False)"
   ]
  },
  {
   "cell_type": "markdown",
   "metadata": {},
   "source": [
    "**Населённые пункты с самой высокой и низкой стоимостью квадратного метра**"
   ]
  },
  {
   "cell_type": "code",
   "execution_count": 139,
   "metadata": {},
   "outputs": [
    {
     "name": "stdout",
     "output_type": "stream",
     "text": [
      "Самая высокая стоимость квадратного метра — в Петербурге.\n"
     ]
    },
    {
     "data": {
      "text/html": [
       "<div>\n",
       "<style scoped>\n",
       "    .dataframe tbody tr th:only-of-type {\n",
       "        vertical-align: middle;\n",
       "    }\n",
       "\n",
       "    .dataframe tbody tr th {\n",
       "        vertical-align: top;\n",
       "    }\n",
       "\n",
       "    .dataframe thead th {\n",
       "        text-align: right;\n",
       "    }\n",
       "</style>\n",
       "<table border=\"1\" class=\"dataframe\">\n",
       "  <thead>\n",
       "    <tr style=\"text-align: right;\">\n",
       "      <th></th>\n",
       "      <th>Населённый пункт</th>\n",
       "      <th>Средняя цена 1 м²</th>\n",
       "    </tr>\n",
       "  </thead>\n",
       "  <tbody>\n",
       "    <tr>\n",
       "      <th>5</th>\n",
       "      <td>Санкт-Петербург</td>\n",
       "      <td>114839.840202</td>\n",
       "    </tr>\n",
       "  </tbody>\n",
       "</table>\n",
       "</div>"
      ],
      "text/plain": [
       "  Населённый пункт  Средняя цена 1 м²\n",
       "5  Санкт-Петербург      114839.840202"
      ]
     },
     "execution_count": 139,
     "metadata": {},
     "output_type": "execute_result"
    }
   ],
   "source": [
    "print(f'Самая высокая стоимость квадратного метра — в Петербурге.') \n",
    "city_av_price[city_av_price['Средняя цена 1 м²'] == city_av_price['Средняя цена 1 м²'].max()]"
   ]
  },
  {
   "cell_type": "code",
   "execution_count": 140,
   "metadata": {},
   "outputs": [
    {
     "name": "stdout",
     "output_type": "stream",
     "text": [
      "Самая низкая стоимость квадратного метра — в Выборге.\n"
     ]
    },
    {
     "data": {
      "text/html": [
       "<div>\n",
       "<style scoped>\n",
       "    .dataframe tbody tr th:only-of-type {\n",
       "        vertical-align: middle;\n",
       "    }\n",
       "\n",
       "    .dataframe tbody tr th {\n",
       "        vertical-align: top;\n",
       "    }\n",
       "\n",
       "    .dataframe thead th {\n",
       "        text-align: right;\n",
       "    }\n",
       "</style>\n",
       "<table border=\"1\" class=\"dataframe\">\n",
       "  <thead>\n",
       "    <tr style=\"text-align: right;\">\n",
       "      <th></th>\n",
       "      <th>Населённый пункт</th>\n",
       "      <th>Средняя цена 1 м²</th>\n",
       "    </tr>\n",
       "  </thead>\n",
       "  <tbody>\n",
       "    <tr>\n",
       "      <th>1</th>\n",
       "      <td>Выборг</td>\n",
       "      <td>58141.909153</td>\n",
       "    </tr>\n",
       "  </tbody>\n",
       "</table>\n",
       "</div>"
      ],
      "text/plain": [
       "  Населённый пункт  Средняя цена 1 м²\n",
       "1           Выборг       58141.909153"
      ]
     },
     "execution_count": 140,
     "metadata": {},
     "output_type": "execute_result"
    }
   ],
   "source": [
    "print(f'Самая низкая стоимость квадратного метра — в Выборге.') \n",
    "city_av_price[city_av_price['Средняя цена 1 м²'] == city_av_price['Средняя цена 1 м²'].min()]"
   ]
  },
  {
   "cell_type": "markdown",
   "metadata": {},
   "source": [
    "<br>"
   ]
  },
  {
   "cell_type": "markdown",
   "metadata": {},
   "source": [
    "#### Анализ квартир Санкт-Петербурга"
   ]
  },
  {
   "cell_type": "markdown",
   "metadata": {},
   "source": [
    "Вычислим среднюю цену каждого километра.\\\n",
    "Опишем, как стоимость объектов зависит от расстояния до центра города."
   ]
  },
  {
   "cell_type": "markdown",
   "metadata": {},
   "source": [
    "Добавим в датафрейм новую колонку с средней ценой за каждый км"
   ]
  },
  {
   "cell_type": "code",
   "execution_count": 141,
   "metadata": {},
   "outputs": [],
   "source": [
    "df['av_price_per_km'] = df['last_price'] / df['cityCenters_nearest_km']"
   ]
  },
  {
   "cell_type": "code",
   "execution_count": 142,
   "metadata": {},
   "outputs": [
    {
     "data": {
      "text/html": [
       "<div>\n",
       "<style scoped>\n",
       "    .dataframe tbody tr th:only-of-type {\n",
       "        vertical-align: middle;\n",
       "    }\n",
       "\n",
       "    .dataframe tbody tr th {\n",
       "        vertical-align: top;\n",
       "    }\n",
       "\n",
       "    .dataframe thead th {\n",
       "        text-align: right;\n",
       "    }\n",
       "</style>\n",
       "<table border=\"1\" class=\"dataframe\">\n",
       "  <thead>\n",
       "    <tr style=\"text-align: right;\">\n",
       "      <th></th>\n",
       "      <th>total_images</th>\n",
       "      <th>last_price</th>\n",
       "      <th>total_area</th>\n",
       "      <th>first_day_exposition</th>\n",
       "      <th>rooms</th>\n",
       "      <th>ceiling_height</th>\n",
       "      <th>floors_total</th>\n",
       "      <th>living_area</th>\n",
       "      <th>floor</th>\n",
       "      <th>is_apartment</th>\n",
       "      <th>...</th>\n",
       "      <th>ponds_nearest</th>\n",
       "      <th>days_exposition</th>\n",
       "      <th>non_residential_area</th>\n",
       "      <th>one_meter_price</th>\n",
       "      <th>weekday</th>\n",
       "      <th>month</th>\n",
       "      <th>year</th>\n",
       "      <th>floor_type</th>\n",
       "      <th>cityCenters_nearest_km</th>\n",
       "      <th>av_price_per_km</th>\n",
       "    </tr>\n",
       "  </thead>\n",
       "  <tbody>\n",
       "    <tr>\n",
       "      <th>0</th>\n",
       "      <td>20</td>\n",
       "      <td>13000000</td>\n",
       "      <td>108.00</td>\n",
       "      <td>2019-03-07</td>\n",
       "      <td>3</td>\n",
       "      <td>2.70</td>\n",
       "      <td>16</td>\n",
       "      <td>51.0</td>\n",
       "      <td>8</td>\n",
       "      <td>False</td>\n",
       "      <td>...</td>\n",
       "      <td>755.0</td>\n",
       "      <td>&lt;NA&gt;</td>\n",
       "      <td>57.00</td>\n",
       "      <td>120370.370370</td>\n",
       "      <td>3</td>\n",
       "      <td>3</td>\n",
       "      <td>2019</td>\n",
       "      <td>другой</td>\n",
       "      <td>16.0</td>\n",
       "      <td>8.125000e+05</td>\n",
       "    </tr>\n",
       "    <tr>\n",
       "      <th>1</th>\n",
       "      <td>7</td>\n",
       "      <td>3350000</td>\n",
       "      <td>40.40</td>\n",
       "      <td>2018-12-04</td>\n",
       "      <td>1</td>\n",
       "      <td>NaN</td>\n",
       "      <td>11</td>\n",
       "      <td>18.6</td>\n",
       "      <td>1</td>\n",
       "      <td>False</td>\n",
       "      <td>...</td>\n",
       "      <td>NaN</td>\n",
       "      <td>81</td>\n",
       "      <td>21.80</td>\n",
       "      <td>82920.792079</td>\n",
       "      <td>1</td>\n",
       "      <td>12</td>\n",
       "      <td>2018</td>\n",
       "      <td>первый</td>\n",
       "      <td>19.0</td>\n",
       "      <td>1.763158e+05</td>\n",
       "    </tr>\n",
       "    <tr>\n",
       "      <th>2</th>\n",
       "      <td>10</td>\n",
       "      <td>5196000</td>\n",
       "      <td>56.00</td>\n",
       "      <td>2015-08-20</td>\n",
       "      <td>2</td>\n",
       "      <td>NaN</td>\n",
       "      <td>5</td>\n",
       "      <td>34.3</td>\n",
       "      <td>4</td>\n",
       "      <td>False</td>\n",
       "      <td>...</td>\n",
       "      <td>574.0</td>\n",
       "      <td>558</td>\n",
       "      <td>21.70</td>\n",
       "      <td>92785.714286</td>\n",
       "      <td>3</td>\n",
       "      <td>8</td>\n",
       "      <td>2015</td>\n",
       "      <td>другой</td>\n",
       "      <td>14.0</td>\n",
       "      <td>3.711429e+05</td>\n",
       "    </tr>\n",
       "    <tr>\n",
       "      <th>3</th>\n",
       "      <td>0</td>\n",
       "      <td>64900000</td>\n",
       "      <td>159.00</td>\n",
       "      <td>2015-07-24</td>\n",
       "      <td>3</td>\n",
       "      <td>NaN</td>\n",
       "      <td>14</td>\n",
       "      <td>NaN</td>\n",
       "      <td>9</td>\n",
       "      <td>False</td>\n",
       "      <td>...</td>\n",
       "      <td>234.0</td>\n",
       "      <td>424</td>\n",
       "      <td>NaN</td>\n",
       "      <td>408176.100629</td>\n",
       "      <td>4</td>\n",
       "      <td>7</td>\n",
       "      <td>2015</td>\n",
       "      <td>другой</td>\n",
       "      <td>7.0</td>\n",
       "      <td>9.271429e+06</td>\n",
       "    </tr>\n",
       "    <tr>\n",
       "      <th>4</th>\n",
       "      <td>2</td>\n",
       "      <td>10000000</td>\n",
       "      <td>100.00</td>\n",
       "      <td>2018-06-19</td>\n",
       "      <td>2</td>\n",
       "      <td>3.03</td>\n",
       "      <td>14</td>\n",
       "      <td>32.0</td>\n",
       "      <td>13</td>\n",
       "      <td>False</td>\n",
       "      <td>...</td>\n",
       "      <td>48.0</td>\n",
       "      <td>121</td>\n",
       "      <td>68.00</td>\n",
       "      <td>100000.000000</td>\n",
       "      <td>1</td>\n",
       "      <td>6</td>\n",
       "      <td>2018</td>\n",
       "      <td>другой</td>\n",
       "      <td>8.0</td>\n",
       "      <td>1.250000e+06</td>\n",
       "    </tr>\n",
       "    <tr>\n",
       "      <th>...</th>\n",
       "      <td>...</td>\n",
       "      <td>...</td>\n",
       "      <td>...</td>\n",
       "      <td>...</td>\n",
       "      <td>...</td>\n",
       "      <td>...</td>\n",
       "      <td>...</td>\n",
       "      <td>...</td>\n",
       "      <td>...</td>\n",
       "      <td>...</td>\n",
       "      <td>...</td>\n",
       "      <td>...</td>\n",
       "      <td>...</td>\n",
       "      <td>...</td>\n",
       "      <td>...</td>\n",
       "      <td>...</td>\n",
       "      <td>...</td>\n",
       "      <td>...</td>\n",
       "      <td>...</td>\n",
       "      <td>...</td>\n",
       "      <td>...</td>\n",
       "    </tr>\n",
       "    <tr>\n",
       "      <th>23694</th>\n",
       "      <td>9</td>\n",
       "      <td>9700000</td>\n",
       "      <td>133.81</td>\n",
       "      <td>2017-03-21</td>\n",
       "      <td>3</td>\n",
       "      <td>3.70</td>\n",
       "      <td>5</td>\n",
       "      <td>73.3</td>\n",
       "      <td>3</td>\n",
       "      <td>False</td>\n",
       "      <td>...</td>\n",
       "      <td>381.0</td>\n",
       "      <td>&lt;NA&gt;</td>\n",
       "      <td>60.51</td>\n",
       "      <td>72490.845228</td>\n",
       "      <td>1</td>\n",
       "      <td>3</td>\n",
       "      <td>2017</td>\n",
       "      <td>другой</td>\n",
       "      <td>4.0</td>\n",
       "      <td>2.425000e+06</td>\n",
       "    </tr>\n",
       "    <tr>\n",
       "      <th>23695</th>\n",
       "      <td>14</td>\n",
       "      <td>3100000</td>\n",
       "      <td>59.00</td>\n",
       "      <td>2018-01-15</td>\n",
       "      <td>3</td>\n",
       "      <td>NaN</td>\n",
       "      <td>5</td>\n",
       "      <td>38.0</td>\n",
       "      <td>4</td>\n",
       "      <td>False</td>\n",
       "      <td>...</td>\n",
       "      <td>NaN</td>\n",
       "      <td>45</td>\n",
       "      <td>21.00</td>\n",
       "      <td>52542.372881</td>\n",
       "      <td>0</td>\n",
       "      <td>1</td>\n",
       "      <td>2018</td>\n",
       "      <td>другой</td>\n",
       "      <td>NaN</td>\n",
       "      <td>NaN</td>\n",
       "    </tr>\n",
       "    <tr>\n",
       "      <th>23696</th>\n",
       "      <td>18</td>\n",
       "      <td>2500000</td>\n",
       "      <td>56.70</td>\n",
       "      <td>2018-02-11</td>\n",
       "      <td>2</td>\n",
       "      <td>NaN</td>\n",
       "      <td>3</td>\n",
       "      <td>29.7</td>\n",
       "      <td>1</td>\n",
       "      <td>False</td>\n",
       "      <td>...</td>\n",
       "      <td>NaN</td>\n",
       "      <td>&lt;NA&gt;</td>\n",
       "      <td>27.00</td>\n",
       "      <td>44091.710758</td>\n",
       "      <td>6</td>\n",
       "      <td>2</td>\n",
       "      <td>2018</td>\n",
       "      <td>первый</td>\n",
       "      <td>NaN</td>\n",
       "      <td>NaN</td>\n",
       "    </tr>\n",
       "    <tr>\n",
       "      <th>23697</th>\n",
       "      <td>13</td>\n",
       "      <td>11475000</td>\n",
       "      <td>76.75</td>\n",
       "      <td>2017-03-28</td>\n",
       "      <td>2</td>\n",
       "      <td>3.00</td>\n",
       "      <td>17</td>\n",
       "      <td>NaN</td>\n",
       "      <td>12</td>\n",
       "      <td>False</td>\n",
       "      <td>...</td>\n",
       "      <td>196.0</td>\n",
       "      <td>602</td>\n",
       "      <td>NaN</td>\n",
       "      <td>149511.400651</td>\n",
       "      <td>1</td>\n",
       "      <td>3</td>\n",
       "      <td>2017</td>\n",
       "      <td>другой</td>\n",
       "      <td>10.0</td>\n",
       "      <td>1.147500e+06</td>\n",
       "    </tr>\n",
       "    <tr>\n",
       "      <th>23698</th>\n",
       "      <td>4</td>\n",
       "      <td>1350000</td>\n",
       "      <td>32.30</td>\n",
       "      <td>2017-07-21</td>\n",
       "      <td>1</td>\n",
       "      <td>2.50</td>\n",
       "      <td>5</td>\n",
       "      <td>12.3</td>\n",
       "      <td>1</td>\n",
       "      <td>False</td>\n",
       "      <td>...</td>\n",
       "      <td>NaN</td>\n",
       "      <td>&lt;NA&gt;</td>\n",
       "      <td>20.00</td>\n",
       "      <td>41795.665635</td>\n",
       "      <td>4</td>\n",
       "      <td>7</td>\n",
       "      <td>2017</td>\n",
       "      <td>первый</td>\n",
       "      <td>NaN</td>\n",
       "      <td>NaN</td>\n",
       "    </tr>\n",
       "  </tbody>\n",
       "</table>\n",
       "<p>23559 rows × 30 columns</p>\n",
       "</div>"
      ],
      "text/plain": [
       "       total_images  last_price  total_area first_day_exposition  rooms  \\\n",
       "0                20    13000000      108.00           2019-03-07      3   \n",
       "1                 7     3350000       40.40           2018-12-04      1   \n",
       "2                10     5196000       56.00           2015-08-20      2   \n",
       "3                 0    64900000      159.00           2015-07-24      3   \n",
       "4                 2    10000000      100.00           2018-06-19      2   \n",
       "...             ...         ...         ...                  ...    ...   \n",
       "23694             9     9700000      133.81           2017-03-21      3   \n",
       "23695            14     3100000       59.00           2018-01-15      3   \n",
       "23696            18     2500000       56.70           2018-02-11      2   \n",
       "23697            13    11475000       76.75           2017-03-28      2   \n",
       "23698             4     1350000       32.30           2017-07-21      1   \n",
       "\n",
       "       ceiling_height  floors_total  living_area  floor  is_apartment  ...  \\\n",
       "0                2.70            16         51.0      8         False  ...   \n",
       "1                 NaN            11         18.6      1         False  ...   \n",
       "2                 NaN             5         34.3      4         False  ...   \n",
       "3                 NaN            14          NaN      9         False  ...   \n",
       "4                3.03            14         32.0     13         False  ...   \n",
       "...               ...           ...          ...    ...           ...  ...   \n",
       "23694            3.70             5         73.3      3         False  ...   \n",
       "23695             NaN             5         38.0      4         False  ...   \n",
       "23696             NaN             3         29.7      1         False  ...   \n",
       "23697            3.00            17          NaN     12         False  ...   \n",
       "23698            2.50             5         12.3      1         False  ...   \n",
       "\n",
       "       ponds_nearest  days_exposition  non_residential_area  one_meter_price  \\\n",
       "0              755.0             <NA>                 57.00    120370.370370   \n",
       "1                NaN               81                 21.80     82920.792079   \n",
       "2              574.0              558                 21.70     92785.714286   \n",
       "3              234.0              424                   NaN    408176.100629   \n",
       "4               48.0              121                 68.00    100000.000000   \n",
       "...              ...              ...                   ...              ...   \n",
       "23694          381.0             <NA>                 60.51     72490.845228   \n",
       "23695            NaN               45                 21.00     52542.372881   \n",
       "23696            NaN             <NA>                 27.00     44091.710758   \n",
       "23697          196.0              602                   NaN    149511.400651   \n",
       "23698            NaN             <NA>                 20.00     41795.665635   \n",
       "\n",
       "      weekday  month  year  floor_type  cityCenters_nearest_km  \\\n",
       "0           3      3  2019      другой                    16.0   \n",
       "1           1     12  2018      первый                    19.0   \n",
       "2           3      8  2015      другой                    14.0   \n",
       "3           4      7  2015      другой                     7.0   \n",
       "4           1      6  2018      другой                     8.0   \n",
       "...       ...    ...   ...         ...                     ...   \n",
       "23694       1      3  2017      другой                     4.0   \n",
       "23695       0      1  2018      другой                     NaN   \n",
       "23696       6      2  2018      первый                     NaN   \n",
       "23697       1      3  2017      другой                    10.0   \n",
       "23698       4      7  2017      первый                     NaN   \n",
       "\n",
       "       av_price_per_km  \n",
       "0         8.125000e+05  \n",
       "1         1.763158e+05  \n",
       "2         3.711429e+05  \n",
       "3         9.271429e+06  \n",
       "4         1.250000e+06  \n",
       "...                ...  \n",
       "23694     2.425000e+06  \n",
       "23695              NaN  \n",
       "23696              NaN  \n",
       "23697     1.147500e+06  \n",
       "23698              NaN  \n",
       "\n",
       "[23559 rows x 30 columns]"
      ]
     },
     "execution_count": 142,
     "metadata": {},
     "output_type": "execute_result"
    }
   ],
   "source": [
    "df"
   ]
  },
  {
   "cell_type": "markdown",
   "metadata": {},
   "source": [
    "Выделим квартиры в Санкт-Петербурге"
   ]
  },
  {
   "cell_type": "code",
   "execution_count": 143,
   "metadata": {},
   "outputs": [
    {
     "data": {
      "text/html": [
       "<div>\n",
       "<style scoped>\n",
       "    .dataframe tbody tr th:only-of-type {\n",
       "        vertical-align: middle;\n",
       "    }\n",
       "\n",
       "    .dataframe tbody tr th {\n",
       "        vertical-align: top;\n",
       "    }\n",
       "\n",
       "    .dataframe thead th {\n",
       "        text-align: right;\n",
       "    }\n",
       "</style>\n",
       "<table border=\"1\" class=\"dataframe\">\n",
       "  <thead>\n",
       "    <tr style=\"text-align: right;\">\n",
       "      <th></th>\n",
       "      <th>total_images</th>\n",
       "      <th>last_price</th>\n",
       "      <th>total_area</th>\n",
       "      <th>first_day_exposition</th>\n",
       "      <th>rooms</th>\n",
       "      <th>ceiling_height</th>\n",
       "      <th>floors_total</th>\n",
       "      <th>living_area</th>\n",
       "      <th>floor</th>\n",
       "      <th>is_apartment</th>\n",
       "      <th>...</th>\n",
       "      <th>ponds_nearest</th>\n",
       "      <th>days_exposition</th>\n",
       "      <th>non_residential_area</th>\n",
       "      <th>one_meter_price</th>\n",
       "      <th>weekday</th>\n",
       "      <th>month</th>\n",
       "      <th>year</th>\n",
       "      <th>floor_type</th>\n",
       "      <th>cityCenters_nearest_km</th>\n",
       "      <th>av_price_per_km</th>\n",
       "    </tr>\n",
       "  </thead>\n",
       "  <tbody>\n",
       "    <tr>\n",
       "      <th>0</th>\n",
       "      <td>20</td>\n",
       "      <td>13000000</td>\n",
       "      <td>108.00</td>\n",
       "      <td>2019-03-07</td>\n",
       "      <td>3</td>\n",
       "      <td>2.70</td>\n",
       "      <td>16</td>\n",
       "      <td>51.0</td>\n",
       "      <td>8</td>\n",
       "      <td>False</td>\n",
       "      <td>...</td>\n",
       "      <td>755.0</td>\n",
       "      <td>&lt;NA&gt;</td>\n",
       "      <td>57.00</td>\n",
       "      <td>120370.370370</td>\n",
       "      <td>3</td>\n",
       "      <td>3</td>\n",
       "      <td>2019</td>\n",
       "      <td>другой</td>\n",
       "      <td>16.0</td>\n",
       "      <td>8.125000e+05</td>\n",
       "    </tr>\n",
       "    <tr>\n",
       "      <th>2</th>\n",
       "      <td>10</td>\n",
       "      <td>5196000</td>\n",
       "      <td>56.00</td>\n",
       "      <td>2015-08-20</td>\n",
       "      <td>2</td>\n",
       "      <td>NaN</td>\n",
       "      <td>5</td>\n",
       "      <td>34.3</td>\n",
       "      <td>4</td>\n",
       "      <td>False</td>\n",
       "      <td>...</td>\n",
       "      <td>574.0</td>\n",
       "      <td>558</td>\n",
       "      <td>21.70</td>\n",
       "      <td>92785.714286</td>\n",
       "      <td>3</td>\n",
       "      <td>8</td>\n",
       "      <td>2015</td>\n",
       "      <td>другой</td>\n",
       "      <td>14.0</td>\n",
       "      <td>3.711429e+05</td>\n",
       "    </tr>\n",
       "    <tr>\n",
       "      <th>3</th>\n",
       "      <td>0</td>\n",
       "      <td>64900000</td>\n",
       "      <td>159.00</td>\n",
       "      <td>2015-07-24</td>\n",
       "      <td>3</td>\n",
       "      <td>NaN</td>\n",
       "      <td>14</td>\n",
       "      <td>NaN</td>\n",
       "      <td>9</td>\n",
       "      <td>False</td>\n",
       "      <td>...</td>\n",
       "      <td>234.0</td>\n",
       "      <td>424</td>\n",
       "      <td>NaN</td>\n",
       "      <td>408176.100629</td>\n",
       "      <td>4</td>\n",
       "      <td>7</td>\n",
       "      <td>2015</td>\n",
       "      <td>другой</td>\n",
       "      <td>7.0</td>\n",
       "      <td>9.271429e+06</td>\n",
       "    </tr>\n",
       "    <tr>\n",
       "      <th>4</th>\n",
       "      <td>2</td>\n",
       "      <td>10000000</td>\n",
       "      <td>100.00</td>\n",
       "      <td>2018-06-19</td>\n",
       "      <td>2</td>\n",
       "      <td>3.03</td>\n",
       "      <td>14</td>\n",
       "      <td>32.0</td>\n",
       "      <td>13</td>\n",
       "      <td>False</td>\n",
       "      <td>...</td>\n",
       "      <td>48.0</td>\n",
       "      <td>121</td>\n",
       "      <td>68.00</td>\n",
       "      <td>100000.000000</td>\n",
       "      <td>1</td>\n",
       "      <td>6</td>\n",
       "      <td>2018</td>\n",
       "      <td>другой</td>\n",
       "      <td>8.0</td>\n",
       "      <td>1.250000e+06</td>\n",
       "    </tr>\n",
       "    <tr>\n",
       "      <th>7</th>\n",
       "      <td>5</td>\n",
       "      <td>7915000</td>\n",
       "      <td>71.60</td>\n",
       "      <td>2019-04-18</td>\n",
       "      <td>2</td>\n",
       "      <td>NaN</td>\n",
       "      <td>24</td>\n",
       "      <td>NaN</td>\n",
       "      <td>22</td>\n",
       "      <td>False</td>\n",
       "      <td>...</td>\n",
       "      <td>NaN</td>\n",
       "      <td>&lt;NA&gt;</td>\n",
       "      <td>NaN</td>\n",
       "      <td>110544.692737</td>\n",
       "      <td>3</td>\n",
       "      <td>4</td>\n",
       "      <td>2019</td>\n",
       "      <td>другой</td>\n",
       "      <td>12.0</td>\n",
       "      <td>6.595833e+05</td>\n",
       "    </tr>\n",
       "    <tr>\n",
       "      <th>...</th>\n",
       "      <td>...</td>\n",
       "      <td>...</td>\n",
       "      <td>...</td>\n",
       "      <td>...</td>\n",
       "      <td>...</td>\n",
       "      <td>...</td>\n",
       "      <td>...</td>\n",
       "      <td>...</td>\n",
       "      <td>...</td>\n",
       "      <td>...</td>\n",
       "      <td>...</td>\n",
       "      <td>...</td>\n",
       "      <td>...</td>\n",
       "      <td>...</td>\n",
       "      <td>...</td>\n",
       "      <td>...</td>\n",
       "      <td>...</td>\n",
       "      <td>...</td>\n",
       "      <td>...</td>\n",
       "      <td>...</td>\n",
       "      <td>...</td>\n",
       "    </tr>\n",
       "    <tr>\n",
       "      <th>23689</th>\n",
       "      <td>13</td>\n",
       "      <td>3550000</td>\n",
       "      <td>35.30</td>\n",
       "      <td>2018-02-28</td>\n",
       "      <td>1</td>\n",
       "      <td>2.86</td>\n",
       "      <td>15</td>\n",
       "      <td>16.3</td>\n",
       "      <td>4</td>\n",
       "      <td>False</td>\n",
       "      <td>...</td>\n",
       "      <td>652.0</td>\n",
       "      <td>29</td>\n",
       "      <td>19.00</td>\n",
       "      <td>100566.572238</td>\n",
       "      <td>2</td>\n",
       "      <td>2</td>\n",
       "      <td>2018</td>\n",
       "      <td>другой</td>\n",
       "      <td>16.0</td>\n",
       "      <td>2.218750e+05</td>\n",
       "    </tr>\n",
       "    <tr>\n",
       "      <th>23690</th>\n",
       "      <td>3</td>\n",
       "      <td>5500000</td>\n",
       "      <td>52.00</td>\n",
       "      <td>2018-07-19</td>\n",
       "      <td>2</td>\n",
       "      <td>NaN</td>\n",
       "      <td>5</td>\n",
       "      <td>31.0</td>\n",
       "      <td>2</td>\n",
       "      <td>False</td>\n",
       "      <td>...</td>\n",
       "      <td>NaN</td>\n",
       "      <td>15</td>\n",
       "      <td>21.00</td>\n",
       "      <td>105769.230769</td>\n",
       "      <td>3</td>\n",
       "      <td>7</td>\n",
       "      <td>2018</td>\n",
       "      <td>другой</td>\n",
       "      <td>6.0</td>\n",
       "      <td>9.166667e+05</td>\n",
       "    </tr>\n",
       "    <tr>\n",
       "      <th>23691</th>\n",
       "      <td>11</td>\n",
       "      <td>9470000</td>\n",
       "      <td>72.90</td>\n",
       "      <td>2016-10-13</td>\n",
       "      <td>2</td>\n",
       "      <td>2.75</td>\n",
       "      <td>25</td>\n",
       "      <td>40.3</td>\n",
       "      <td>7</td>\n",
       "      <td>False</td>\n",
       "      <td>...</td>\n",
       "      <td>806.0</td>\n",
       "      <td>519</td>\n",
       "      <td>32.60</td>\n",
       "      <td>129903.978052</td>\n",
       "      <td>3</td>\n",
       "      <td>10</td>\n",
       "      <td>2016</td>\n",
       "      <td>другой</td>\n",
       "      <td>4.0</td>\n",
       "      <td>2.367500e+06</td>\n",
       "    </tr>\n",
       "    <tr>\n",
       "      <th>23694</th>\n",
       "      <td>9</td>\n",
       "      <td>9700000</td>\n",
       "      <td>133.81</td>\n",
       "      <td>2017-03-21</td>\n",
       "      <td>3</td>\n",
       "      <td>3.70</td>\n",
       "      <td>5</td>\n",
       "      <td>73.3</td>\n",
       "      <td>3</td>\n",
       "      <td>False</td>\n",
       "      <td>...</td>\n",
       "      <td>381.0</td>\n",
       "      <td>&lt;NA&gt;</td>\n",
       "      <td>60.51</td>\n",
       "      <td>72490.845228</td>\n",
       "      <td>1</td>\n",
       "      <td>3</td>\n",
       "      <td>2017</td>\n",
       "      <td>другой</td>\n",
       "      <td>4.0</td>\n",
       "      <td>2.425000e+06</td>\n",
       "    </tr>\n",
       "    <tr>\n",
       "      <th>23697</th>\n",
       "      <td>13</td>\n",
       "      <td>11475000</td>\n",
       "      <td>76.75</td>\n",
       "      <td>2017-03-28</td>\n",
       "      <td>2</td>\n",
       "      <td>3.00</td>\n",
       "      <td>17</td>\n",
       "      <td>NaN</td>\n",
       "      <td>12</td>\n",
       "      <td>False</td>\n",
       "      <td>...</td>\n",
       "      <td>196.0</td>\n",
       "      <td>602</td>\n",
       "      <td>NaN</td>\n",
       "      <td>149511.400651</td>\n",
       "      <td>1</td>\n",
       "      <td>3</td>\n",
       "      <td>2017</td>\n",
       "      <td>другой</td>\n",
       "      <td>10.0</td>\n",
       "      <td>1.147500e+06</td>\n",
       "    </tr>\n",
       "  </tbody>\n",
       "</table>\n",
       "<p>15646 rows × 30 columns</p>\n",
       "</div>"
      ],
      "text/plain": [
       "       total_images  last_price  total_area first_day_exposition  rooms  \\\n",
       "0                20    13000000      108.00           2019-03-07      3   \n",
       "2                10     5196000       56.00           2015-08-20      2   \n",
       "3                 0    64900000      159.00           2015-07-24      3   \n",
       "4                 2    10000000      100.00           2018-06-19      2   \n",
       "7                 5     7915000       71.60           2019-04-18      2   \n",
       "...             ...         ...         ...                  ...    ...   \n",
       "23689            13     3550000       35.30           2018-02-28      1   \n",
       "23690             3     5500000       52.00           2018-07-19      2   \n",
       "23691            11     9470000       72.90           2016-10-13      2   \n",
       "23694             9     9700000      133.81           2017-03-21      3   \n",
       "23697            13    11475000       76.75           2017-03-28      2   \n",
       "\n",
       "       ceiling_height  floors_total  living_area  floor  is_apartment  ...  \\\n",
       "0                2.70            16         51.0      8         False  ...   \n",
       "2                 NaN             5         34.3      4         False  ...   \n",
       "3                 NaN            14          NaN      9         False  ...   \n",
       "4                3.03            14         32.0     13         False  ...   \n",
       "7                 NaN            24          NaN     22         False  ...   \n",
       "...               ...           ...          ...    ...           ...  ...   \n",
       "23689            2.86            15         16.3      4         False  ...   \n",
       "23690             NaN             5         31.0      2         False  ...   \n",
       "23691            2.75            25         40.3      7         False  ...   \n",
       "23694            3.70             5         73.3      3         False  ...   \n",
       "23697            3.00            17          NaN     12         False  ...   \n",
       "\n",
       "       ponds_nearest  days_exposition  non_residential_area  one_meter_price  \\\n",
       "0              755.0             <NA>                 57.00    120370.370370   \n",
       "2              574.0              558                 21.70     92785.714286   \n",
       "3              234.0              424                   NaN    408176.100629   \n",
       "4               48.0              121                 68.00    100000.000000   \n",
       "7                NaN             <NA>                   NaN    110544.692737   \n",
       "...              ...              ...                   ...              ...   \n",
       "23689          652.0               29                 19.00    100566.572238   \n",
       "23690            NaN               15                 21.00    105769.230769   \n",
       "23691          806.0              519                 32.60    129903.978052   \n",
       "23694          381.0             <NA>                 60.51     72490.845228   \n",
       "23697          196.0              602                   NaN    149511.400651   \n",
       "\n",
       "      weekday  month  year  floor_type  cityCenters_nearest_km  \\\n",
       "0           3      3  2019      другой                    16.0   \n",
       "2           3      8  2015      другой                    14.0   \n",
       "3           4      7  2015      другой                     7.0   \n",
       "4           1      6  2018      другой                     8.0   \n",
       "7           3      4  2019      другой                    12.0   \n",
       "...       ...    ...   ...         ...                     ...   \n",
       "23689       2      2  2018      другой                    16.0   \n",
       "23690       3      7  2018      другой                     6.0   \n",
       "23691       3     10  2016      другой                     4.0   \n",
       "23694       1      3  2017      другой                     4.0   \n",
       "23697       1      3  2017      другой                    10.0   \n",
       "\n",
       "       av_price_per_km  \n",
       "0         8.125000e+05  \n",
       "2         3.711429e+05  \n",
       "3         9.271429e+06  \n",
       "4         1.250000e+06  \n",
       "7         6.595833e+05  \n",
       "...                ...  \n",
       "23689     2.218750e+05  \n",
       "23690     9.166667e+05  \n",
       "23691     2.367500e+06  \n",
       "23694     2.425000e+06  \n",
       "23697     1.147500e+06  \n",
       "\n",
       "[15646 rows x 30 columns]"
      ]
     },
     "execution_count": 143,
     "metadata": {},
     "output_type": "execute_result"
    }
   ],
   "source": [
    "spb = df.query('locality_name == \"Санкт-Петербург\"')\n",
    "spb"
   ]
  },
  {
   "cell_type": "markdown",
   "metadata": {},
   "source": [
    "Опишем, как стоимость объектов зависит от расстояния до центра города"
   ]
  },
  {
   "cell_type": "code",
   "execution_count": 144,
   "metadata": {},
   "outputs": [
    {
     "data": {
      "image/png": "[encoded data removed]",
      "text/plain": [
       "<Figure size 432x288 with 1 Axes>"
      ]
     },
     "metadata": {
      "needs_background": "light"
     },
     "output_type": "display_data"
    },
    {
     "name": "stdout",
     "output_type": "stream",
     "text": [
      "Коэффициент корреляции Пирсона равен: -0.26\n"
     ]
    }
   ],
   "source": [
    "spb.plot(x='cityCenters_nearest_km',\n",
    "         y='last_price',\n",
    "         kind='scatter',\n",
    "         grid=True)\n",
    "plt.title('Зависимость стоимости от расстояния до центра')\n",
    "plt.xlabel('Расстояние, км')\n",
    "plt.ylabel('Цена квартиры, сотни млн ₽')\n",
    "plt.show()\n",
    "print(f\"Коэффициент корреляции Пирсона равен: {spb['cityCenters_nearest_km'].corr(spb['last_price']).round(2)}\")"
   ]
  },
  {
   "cell_type": "markdown",
   "metadata": {},
   "source": [
    "Чем ближе квартира к центру города, тем она дороже обходится"
   ]
  },
  {
   "cell_type": "markdown",
   "metadata": {},
   "source": [
    "### Общий вывод"
   ]
  },
  {
   "cell_type": "markdown",
   "metadata": {},
   "source": [
    "На конечную стоимость квартиры обратно пропорционально влияет:\n",
    "1. Удалённость от центра города"
   ]
  },
  {
   "cell_type": "markdown",
   "metadata": {},
   "source": [
    "На конечную стоимость квартиры прямо пропорционально влияет:\n",
    "1. Общая площадь\n",
    "2. Площадь кухни\n",
    "3. Количество комнат"
   ]
  },
  {
   "cell_type": "markdown",
   "metadata": {},
   "source": [
    "Самые популярные населённые пункты Ленинградской области (где больше всего объявлений):\n",
    "1. Санкт-Петербург\n",
    "2. посёлок Мурино\n",
    "3. посёлок Шушары\n",
    "4. Всеволожск\n",
    "5. Пушкин\n",
    "6. Колпино\n",
    "7. посёлок Парголово\n",
    "8. Гатчина\n",
    "9. Деревня Кудрово\n",
    "10. Выборг"
   ]
  },
  {
   "cell_type": "markdown",
   "metadata": {},
   "source": [
    "Среди самых популярных населённых пунктов:\\\n",
    "самый дорогой квадратный метр — в Санкт-Петербурге;\\\n",
    "самый дешёвый квадратный метр — в Выборге."
   ]
  }
 ],
 "metadata": {
  "ExecuteTimeLog": [
   {
    "duration": 440,
    "start_time": "2022-10-26T14:36:37.283Z"
   },
   {
    "duration": 338,
    "start_time": "2022-10-26T14:37:03.501Z"
   },
   {
    "duration": 105,
    "start_time": "2022-10-26T14:37:21.765Z"
   },
   {
    "duration": 134,
    "start_time": "2022-10-26T14:37:50.109Z"
   },
   {
    "duration": 88,
    "start_time": "2022-10-26T14:38:12.821Z"
   },
   {
    "duration": 108,
    "start_time": "2022-10-26T14:38:20.076Z"
   },
   {
    "duration": 510,
    "start_time": "2022-10-26T14:39:10.021Z"
   },
   {
    "duration": 127,
    "start_time": "2022-10-26T14:41:28.740Z"
   },
   {
    "duration": 1259,
    "start_time": "2022-10-26T14:44:12.827Z"
   },
   {
    "duration": 88,
    "start_time": "2022-10-26T14:44:27.337Z"
   },
   {
    "duration": 718,
    "start_time": "2022-10-26T14:44:40.866Z"
   },
   {
    "duration": 136,
    "start_time": "2022-10-26T14:44:41.586Z"
   },
   {
    "duration": 46,
    "start_time": "2022-10-26T14:45:06.785Z"
   },
   {
    "duration": 1836,
    "start_time": "2022-10-26T14:45:11.024Z"
   },
   {
    "duration": 26,
    "start_time": "2022-10-26T14:58:28.262Z"
   },
   {
    "duration": 18,
    "start_time": "2022-10-26T14:59:12.425Z"
   },
   {
    "duration": 708,
    "start_time": "2022-10-26T15:04:42.354Z"
   },
   {
    "duration": 15,
    "start_time": "2022-10-26T15:04:43.064Z"
   },
   {
    "duration": 1904,
    "start_time": "2022-10-26T15:04:43.080Z"
   },
   {
    "duration": 24,
    "start_time": "2022-10-26T15:12:44.825Z"
   },
   {
    "duration": 9,
    "start_time": "2022-10-26T15:13:05.746Z"
   },
   {
    "duration": 3,
    "start_time": "2022-10-26T15:13:54.232Z"
   },
   {
    "duration": 9,
    "start_time": "2022-10-26T15:14:05.830Z"
   },
   {
    "duration": 767,
    "start_time": "2022-10-26T15:14:16.095Z"
   },
   {
    "duration": 15,
    "start_time": "2022-10-26T15:14:16.864Z"
   },
   {
    "duration": 1836,
    "start_time": "2022-10-26T15:14:16.880Z"
   },
   {
    "duration": 9,
    "start_time": "2022-10-26T15:14:18.718Z"
   },
   {
    "duration": 1147,
    "start_time": "2022-10-28T04:39:59.702Z"
   },
   {
    "duration": 14,
    "start_time": "2022-10-28T04:40:00.851Z"
   },
   {
    "duration": 1857,
    "start_time": "2022-10-28T04:40:00.867Z"
   },
   {
    "duration": 9,
    "start_time": "2022-10-28T04:40:02.726Z"
   },
   {
    "duration": 29,
    "start_time": "2022-10-28T04:40:46.553Z"
   },
   {
    "duration": 80,
    "start_time": "2022-10-28T04:42:18.749Z"
   },
   {
    "duration": 54,
    "start_time": "2022-10-28T04:42:22.367Z"
   },
   {
    "duration": 37,
    "start_time": "2022-10-28T04:42:31.872Z"
   },
   {
    "duration": 20,
    "start_time": "2022-10-28T04:42:38.696Z"
   },
   {
    "duration": 21,
    "start_time": "2022-10-28T04:42:44.071Z"
   },
   {
    "duration": 21,
    "start_time": "2022-10-28T04:42:49.312Z"
   },
   {
    "duration": 678,
    "start_time": "2022-10-28T04:43:08.568Z"
   },
   {
    "duration": 18,
    "start_time": "2022-10-28T04:43:09.248Z"
   },
   {
    "duration": 1792,
    "start_time": "2022-10-28T04:43:09.268Z"
   },
   {
    "duration": 9,
    "start_time": "2022-10-28T04:43:11.062Z"
   },
   {
    "duration": 9,
    "start_time": "2022-10-28T04:43:11.073Z"
   },
   {
    "duration": 10,
    "start_time": "2022-10-28T04:43:25.504Z"
   },
   {
    "duration": 41,
    "start_time": "2022-10-28T04:46:23.534Z"
   },
   {
    "duration": 1670,
    "start_time": "2022-10-28T04:55:01.745Z"
   },
   {
    "duration": 28,
    "start_time": "2022-10-28T04:55:25.105Z"
   },
   {
    "duration": 38,
    "start_time": "2022-10-28T04:55:58.952Z"
   },
   {
    "duration": 19,
    "start_time": "2022-10-28T04:57:51.518Z"
   },
   {
    "duration": 47,
    "start_time": "2022-10-28T04:57:58.607Z"
   },
   {
    "duration": 35,
    "start_time": "2022-10-28T04:59:37.111Z"
   },
   {
    "duration": 34,
    "start_time": "2022-10-28T05:03:20.547Z"
   },
   {
    "duration": 88,
    "start_time": "2022-10-28T05:03:39.196Z"
   },
   {
    "duration": 63,
    "start_time": "2022-10-28T05:04:19.693Z"
   },
   {
    "duration": 69,
    "start_time": "2022-10-28T05:05:03.572Z"
   },
   {
    "duration": 132,
    "start_time": "2022-10-28T05:05:33.980Z"
   },
   {
    "duration": 97,
    "start_time": "2022-10-28T05:06:04.565Z"
   },
   {
    "duration": 54,
    "start_time": "2022-10-28T05:06:08.379Z"
   },
   {
    "duration": 69,
    "start_time": "2022-10-28T05:06:21.114Z"
   },
   {
    "duration": 92,
    "start_time": "2022-10-28T05:06:24.259Z"
   },
   {
    "duration": 69,
    "start_time": "2022-10-28T05:06:44.116Z"
   },
   {
    "duration": 31,
    "start_time": "2022-10-28T05:08:02.233Z"
   },
   {
    "duration": 38,
    "start_time": "2022-10-28T05:11:33.741Z"
   },
   {
    "duration": 44,
    "start_time": "2022-10-28T05:11:46.534Z"
   },
   {
    "duration": 39,
    "start_time": "2022-10-28T05:12:58.039Z"
   },
   {
    "duration": 35,
    "start_time": "2022-10-28T05:13:07.176Z"
   },
   {
    "duration": 58,
    "start_time": "2022-10-28T05:13:15.655Z"
   },
   {
    "duration": 40,
    "start_time": "2022-10-28T05:13:28.686Z"
   },
   {
    "duration": 66,
    "start_time": "2022-10-28T05:13:36.910Z"
   },
   {
    "duration": 89,
    "start_time": "2022-10-28T05:13:54.863Z"
   },
   {
    "duration": 54,
    "start_time": "2022-10-28T05:14:10.567Z"
   },
   {
    "duration": 53,
    "start_time": "2022-10-28T05:14:24.773Z"
   },
   {
    "duration": 712,
    "start_time": "2022-10-28T05:14:38.451Z"
   },
   {
    "duration": 14,
    "start_time": "2022-10-28T05:14:39.165Z"
   },
   {
    "duration": 1903,
    "start_time": "2022-10-28T05:14:39.181Z"
   },
   {
    "duration": 11,
    "start_time": "2022-10-28T05:14:41.086Z"
   },
   {
    "duration": 79,
    "start_time": "2022-10-28T05:14:41.099Z"
   },
   {
    "duration": 11,
    "start_time": "2022-10-28T05:16:23.587Z"
   },
   {
    "duration": 84,
    "start_time": "2022-10-28T05:52:05.308Z"
   },
   {
    "duration": 4,
    "start_time": "2022-10-28T05:53:21.055Z"
   },
   {
    "duration": 3,
    "start_time": "2022-10-28T05:53:27.886Z"
   },
   {
    "duration": 11,
    "start_time": "2022-10-28T05:53:41.390Z"
   },
   {
    "duration": 14,
    "start_time": "2022-10-28T05:54:17.246Z"
   },
   {
    "duration": 183,
    "start_time": "2022-10-28T05:54:20.687Z"
   },
   {
    "duration": 2,
    "start_time": "2022-10-28T05:54:33.823Z"
   },
   {
    "duration": 4,
    "start_time": "2022-10-28T05:57:26.737Z"
   },
   {
    "duration": 689,
    "start_time": "2022-10-28T05:57:31.640Z"
   },
   {
    "duration": 14,
    "start_time": "2022-10-28T05:57:32.331Z"
   },
   {
    "duration": 1826,
    "start_time": "2022-10-28T05:57:32.346Z"
   },
   {
    "duration": 8,
    "start_time": "2022-10-28T05:57:34.174Z"
   },
   {
    "duration": 4,
    "start_time": "2022-10-28T05:57:34.184Z"
   },
   {
    "duration": 5,
    "start_time": "2022-10-28T05:57:34.189Z"
   },
   {
    "duration": 8,
    "start_time": "2022-10-28T06:21:01.492Z"
   },
   {
    "duration": 6,
    "start_time": "2022-10-28T06:21:34.366Z"
   },
   {
    "duration": 30,
    "start_time": "2022-10-28T06:22:10.406Z"
   },
   {
    "duration": 38,
    "start_time": "2022-10-28T06:24:13.362Z"
   },
   {
    "duration": 7,
    "start_time": "2022-10-28T06:24:43.437Z"
   },
   {
    "duration": 7,
    "start_time": "2022-10-28T06:25:43.961Z"
   },
   {
    "duration": 32,
    "start_time": "2022-10-28T06:25:53.292Z"
   },
   {
    "duration": 11,
    "start_time": "2022-10-28T06:26:06.484Z"
   },
   {
    "duration": 9,
    "start_time": "2022-10-28T06:26:30.643Z"
   },
   {
    "duration": 8,
    "start_time": "2022-10-28T06:26:41.404Z"
   },
   {
    "duration": 9,
    "start_time": "2022-10-28T06:26:49.763Z"
   },
   {
    "duration": 8,
    "start_time": "2022-10-28T06:27:14.059Z"
   },
   {
    "duration": 9,
    "start_time": "2022-10-28T06:27:18.651Z"
   },
   {
    "duration": 8,
    "start_time": "2022-10-28T06:27:22.284Z"
   },
   {
    "duration": 9,
    "start_time": "2022-10-28T06:27:25.140Z"
   },
   {
    "duration": 90,
    "start_time": "2022-10-28T06:28:40.047Z"
   },
   {
    "duration": 4,
    "start_time": "2022-10-28T06:28:49.178Z"
   },
   {
    "duration": 12,
    "start_time": "2022-10-28T06:40:49.700Z"
   },
   {
    "duration": 13,
    "start_time": "2022-10-28T06:42:48.444Z"
   },
   {
    "duration": 11,
    "start_time": "2022-10-28T06:42:55.779Z"
   },
   {
    "duration": 12,
    "start_time": "2022-10-28T06:45:04.215Z"
   },
   {
    "duration": 12,
    "start_time": "2022-10-28T06:45:17.722Z"
   },
   {
    "duration": 18,
    "start_time": "2022-10-28T06:46:58.185Z"
   },
   {
    "duration": 8,
    "start_time": "2022-10-28T06:47:03.161Z"
   },
   {
    "duration": 42,
    "start_time": "2022-10-28T06:47:13.881Z"
   },
   {
    "duration": 10,
    "start_time": "2022-10-28T06:47:48.689Z"
   },
   {
    "duration": 9,
    "start_time": "2022-10-28T06:47:53.401Z"
   },
   {
    "duration": 12,
    "start_time": "2022-10-28T06:48:07.969Z"
   },
   {
    "duration": 12,
    "start_time": "2022-10-28T06:48:18.296Z"
   },
   {
    "duration": 8,
    "start_time": "2022-10-28T06:48:28.328Z"
   },
   {
    "duration": 14,
    "start_time": "2022-10-28T06:51:14.236Z"
   },
   {
    "duration": 36,
    "start_time": "2022-10-28T06:53:41.933Z"
   },
   {
    "duration": 52,
    "start_time": "2022-10-28T06:54:04.215Z"
   },
   {
    "duration": 8,
    "start_time": "2022-10-28T06:55:02.198Z"
   },
   {
    "duration": 37,
    "start_time": "2022-10-28T06:55:09.757Z"
   },
   {
    "duration": 59,
    "start_time": "2022-10-28T06:56:21.318Z"
   },
   {
    "duration": 18,
    "start_time": "2022-10-28T06:56:33.197Z"
   },
   {
    "duration": 33,
    "start_time": "2022-10-28T07:02:49.469Z"
   },
   {
    "duration": 53,
    "start_time": "2022-10-28T07:03:59.849Z"
   },
   {
    "duration": 28,
    "start_time": "2022-10-28T07:04:04.208Z"
   },
   {
    "duration": 33,
    "start_time": "2022-10-28T07:04:30.119Z"
   },
   {
    "duration": 11,
    "start_time": "2022-10-28T07:05:34.255Z"
   },
   {
    "duration": 5,
    "start_time": "2022-10-28T07:05:39.567Z"
   },
   {
    "duration": 18,
    "start_time": "2022-10-28T07:05:48.911Z"
   },
   {
    "duration": 5,
    "start_time": "2022-10-28T07:05:57.303Z"
   },
   {
    "duration": 55,
    "start_time": "2022-10-28T07:06:39.343Z"
   },
   {
    "duration": 18,
    "start_time": "2022-10-28T07:07:04.255Z"
   },
   {
    "duration": 33,
    "start_time": "2022-10-28T07:07:07.285Z"
   },
   {
    "duration": 9,
    "start_time": "2022-10-28T07:07:56.043Z"
   },
   {
    "duration": 16,
    "start_time": "2022-10-28T07:07:59.597Z"
   },
   {
    "duration": 5,
    "start_time": "2022-10-28T07:08:26.714Z"
   },
   {
    "duration": 9,
    "start_time": "2022-10-28T07:08:31.485Z"
   },
   {
    "duration": 6,
    "start_time": "2022-10-28T07:09:19.029Z"
   },
   {
    "duration": 6,
    "start_time": "2022-10-28T07:09:25.621Z"
   },
   {
    "duration": 5,
    "start_time": "2022-10-28T07:09:55.389Z"
   },
   {
    "duration": 6,
    "start_time": "2022-10-28T07:09:58.821Z"
   },
   {
    "duration": 6,
    "start_time": "2022-10-28T07:10:22.764Z"
   },
   {
    "duration": 6,
    "start_time": "2022-10-28T07:10:24.884Z"
   },
   {
    "duration": 42,
    "start_time": "2022-10-28T07:13:30.810Z"
   },
   {
    "duration": 16,
    "start_time": "2022-10-28T07:15:51.023Z"
   },
   {
    "duration": 15,
    "start_time": "2022-10-28T07:16:07.690Z"
   },
   {
    "duration": 15,
    "start_time": "2022-10-28T07:16:17.513Z"
   },
   {
    "duration": 36,
    "start_time": "2022-10-28T07:16:21.481Z"
   },
   {
    "duration": 12,
    "start_time": "2022-10-28T07:16:32.329Z"
   },
   {
    "duration": 36,
    "start_time": "2022-10-28T07:16:37.530Z"
   },
   {
    "duration": 724,
    "start_time": "2022-10-28T07:16:44.841Z"
   },
   {
    "duration": 15,
    "start_time": "2022-10-28T07:16:45.567Z"
   },
   {
    "duration": 1883,
    "start_time": "2022-10-28T07:16:45.585Z"
   },
   {
    "duration": 9,
    "start_time": "2022-10-28T07:16:47.470Z"
   },
   {
    "duration": 13,
    "start_time": "2022-10-28T07:16:47.481Z"
   },
   {
    "duration": 41,
    "start_time": "2022-10-28T07:16:47.496Z"
   },
   {
    "duration": 2,
    "start_time": "2022-10-28T07:16:47.539Z"
   },
   {
    "duration": 18,
    "start_time": "2022-10-28T07:17:51.625Z"
   },
   {
    "duration": 15,
    "start_time": "2022-10-28T07:24:19.635Z"
   },
   {
    "duration": 12,
    "start_time": "2022-10-28T07:25:56.157Z"
   },
   {
    "duration": 14,
    "start_time": "2022-10-28T07:26:37.114Z"
   },
   {
    "duration": 45,
    "start_time": "2022-10-28T07:29:18.912Z"
   },
   {
    "duration": 13,
    "start_time": "2022-10-28T07:31:50.280Z"
   },
   {
    "duration": 44,
    "start_time": "2022-10-28T07:32:05.817Z"
   },
   {
    "duration": 17,
    "start_time": "2022-10-28T07:32:13.067Z"
   },
   {
    "duration": 50,
    "start_time": "2022-10-28T07:32:27.458Z"
   },
   {
    "duration": 727,
    "start_time": "2022-10-28T07:33:04.065Z"
   },
   {
    "duration": 17,
    "start_time": "2022-10-28T07:33:04.794Z"
   },
   {
    "duration": 1895,
    "start_time": "2022-10-28T07:33:04.813Z"
   },
   {
    "duration": 11,
    "start_time": "2022-10-28T07:33:06.711Z"
   },
   {
    "duration": 53,
    "start_time": "2022-10-28T07:33:06.724Z"
   },
   {
    "duration": 64,
    "start_time": "2022-10-28T07:33:06.778Z"
   },
   {
    "duration": 2,
    "start_time": "2022-10-28T07:33:06.844Z"
   },
   {
    "duration": 9,
    "start_time": "2022-10-28T07:33:49.211Z"
   },
   {
    "duration": 63,
    "start_time": "2022-10-28T07:34:56.081Z"
   },
   {
    "duration": 8,
    "start_time": "2022-10-28T07:35:06.658Z"
   },
   {
    "duration": 45,
    "start_time": "2022-10-28T07:35:26.636Z"
   },
   {
    "duration": 84,
    "start_time": "2022-10-28T07:37:06.279Z"
   },
   {
    "duration": 350,
    "start_time": "2022-10-28T07:37:20.425Z"
   },
   {
    "duration": 46,
    "start_time": "2022-10-28T07:37:49.497Z"
   },
   {
    "duration": 14,
    "start_time": "2022-10-28T07:38:33.753Z"
   },
   {
    "duration": 60,
    "start_time": "2022-10-28T07:38:48.960Z"
   },
   {
    "duration": 51,
    "start_time": "2022-10-28T07:39:22.526Z"
   },
   {
    "duration": 52,
    "start_time": "2022-10-28T07:39:30.249Z"
   },
   {
    "duration": 7,
    "start_time": "2022-10-28T07:39:55.504Z"
   },
   {
    "duration": 20,
    "start_time": "2022-10-28T07:41:09.728Z"
   },
   {
    "duration": 20,
    "start_time": "2022-10-28T09:10:58.657Z"
   },
   {
    "duration": 760,
    "start_time": "2022-10-28T09:11:12.790Z"
   },
   {
    "duration": 13,
    "start_time": "2022-10-28T09:11:13.552Z"
   },
   {
    "duration": 2053,
    "start_time": "2022-10-28T09:11:13.566Z"
   },
   {
    "duration": 14,
    "start_time": "2022-10-28T09:11:15.622Z"
   },
   {
    "duration": 103,
    "start_time": "2022-10-28T09:11:15.638Z"
   },
   {
    "duration": 0,
    "start_time": "2022-10-28T09:11:15.742Z"
   },
   {
    "duration": 0,
    "start_time": "2022-10-28T09:11:15.743Z"
   },
   {
    "duration": 0,
    "start_time": "2022-10-28T09:11:15.744Z"
   },
   {
    "duration": 47,
    "start_time": "2022-10-28T09:12:37.946Z"
   },
   {
    "duration": 21,
    "start_time": "2022-10-28T09:13:09.926Z"
   },
   {
    "duration": 814,
    "start_time": "2022-10-28T09:13:28.144Z"
   },
   {
    "duration": 14,
    "start_time": "2022-10-28T09:13:28.960Z"
   },
   {
    "duration": 2057,
    "start_time": "2022-10-28T09:13:28.975Z"
   },
   {
    "duration": 9,
    "start_time": "2022-10-28T09:13:31.034Z"
   },
   {
    "duration": 25,
    "start_time": "2022-10-28T09:13:31.045Z"
   },
   {
    "duration": 4,
    "start_time": "2022-10-28T09:13:31.072Z"
   },
   {
    "duration": 23,
    "start_time": "2022-10-28T09:13:31.077Z"
   },
   {
    "duration": 6,
    "start_time": "2022-10-28T09:13:31.101Z"
   },
   {
    "duration": 13,
    "start_time": "2022-10-28T09:13:59.252Z"
   },
   {
    "duration": 13,
    "start_time": "2022-10-28T09:14:24.053Z"
   },
   {
    "duration": 16,
    "start_time": "2022-10-28T09:14:30.336Z"
   },
   {
    "duration": 59,
    "start_time": "2022-10-28T09:14:42.100Z"
   },
   {
    "duration": 15,
    "start_time": "2022-10-28T09:14:52.251Z"
   },
   {
    "duration": 18,
    "start_time": "2022-10-28T09:15:16.052Z"
   },
   {
    "duration": 18,
    "start_time": "2022-10-28T09:15:23.187Z"
   },
   {
    "duration": 19,
    "start_time": "2022-10-28T09:15:30.540Z"
   },
   {
    "duration": 42,
    "start_time": "2022-10-28T09:15:48.203Z"
   },
   {
    "duration": 50,
    "start_time": "2022-10-28T09:15:59.300Z"
   },
   {
    "duration": 20,
    "start_time": "2022-10-28T09:16:06.659Z"
   },
   {
    "duration": 41,
    "start_time": "2022-10-28T09:16:10.506Z"
   },
   {
    "duration": 54,
    "start_time": "2022-10-28T09:16:14.484Z"
   },
   {
    "duration": 36,
    "start_time": "2022-10-28T09:16:18.203Z"
   },
   {
    "duration": 110,
    "start_time": "2022-10-28T09:19:26.030Z"
   },
   {
    "duration": 23,
    "start_time": "2022-10-28T09:19:49.833Z"
   },
   {
    "duration": 43,
    "start_time": "2022-10-28T09:26:43.727Z"
   },
   {
    "duration": 30,
    "start_time": "2022-10-28T09:27:43.139Z"
   },
   {
    "duration": 42,
    "start_time": "2022-10-28T09:27:58.901Z"
   },
   {
    "duration": 28,
    "start_time": "2022-10-28T09:28:45.668Z"
   },
   {
    "duration": 35,
    "start_time": "2022-10-28T09:28:49.918Z"
   },
   {
    "duration": 33,
    "start_time": "2022-10-28T09:32:07.858Z"
   },
   {
    "duration": 27,
    "start_time": "2022-10-28T09:32:12.867Z"
   },
   {
    "duration": 25,
    "start_time": "2022-10-28T09:32:32.850Z"
   },
   {
    "duration": 24,
    "start_time": "2022-10-28T09:32:47.154Z"
   },
   {
    "duration": 26,
    "start_time": "2022-10-28T09:32:51.057Z"
   },
   {
    "duration": 28,
    "start_time": "2022-10-28T09:32:58.369Z"
   },
   {
    "duration": 584,
    "start_time": "2022-10-28T09:34:57.757Z"
   },
   {
    "duration": 88,
    "start_time": "2022-10-28T09:35:31.248Z"
   },
   {
    "duration": 75,
    "start_time": "2022-10-28T09:35:37.118Z"
   },
   {
    "duration": 68,
    "start_time": "2022-10-28T09:35:40.800Z"
   },
   {
    "duration": 29,
    "start_time": "2022-10-28T09:36:17.247Z"
   },
   {
    "duration": 19,
    "start_time": "2022-10-28T09:37:47.684Z"
   },
   {
    "duration": 776,
    "start_time": "2022-10-28T09:38:01.294Z"
   },
   {
    "duration": 19,
    "start_time": "2022-10-28T09:38:02.072Z"
   },
   {
    "duration": 2087,
    "start_time": "2022-10-28T09:38:02.093Z"
   },
   {
    "duration": 9,
    "start_time": "2022-10-28T09:38:04.183Z"
   },
   {
    "duration": 42,
    "start_time": "2022-10-28T09:38:04.193Z"
   },
   {
    "duration": 16,
    "start_time": "2022-10-28T09:38:04.237Z"
   },
   {
    "duration": 8,
    "start_time": "2022-10-28T09:38:04.254Z"
   },
   {
    "duration": 4,
    "start_time": "2022-10-28T09:38:04.264Z"
   },
   {
    "duration": 49,
    "start_time": "2022-10-28T09:38:47.006Z"
   },
   {
    "duration": 31,
    "start_time": "2022-10-28T09:40:07.432Z"
   },
   {
    "duration": 58,
    "start_time": "2022-10-28T09:40:10.301Z"
   },
   {
    "duration": 39,
    "start_time": "2022-10-28T09:40:29.517Z"
   },
   {
    "duration": 55,
    "start_time": "2022-10-28T09:41:19.815Z"
   },
   {
    "duration": 56,
    "start_time": "2022-10-28T09:41:42.357Z"
   },
   {
    "duration": 54,
    "start_time": "2022-10-28T09:41:52.156Z"
   },
   {
    "duration": 53,
    "start_time": "2022-10-28T09:41:55.653Z"
   },
   {
    "duration": 784,
    "start_time": "2022-10-28T09:42:01.582Z"
   },
   {
    "duration": 14,
    "start_time": "2022-10-28T09:42:02.368Z"
   },
   {
    "duration": 1912,
    "start_time": "2022-10-28T09:42:02.384Z"
   },
   {
    "duration": 9,
    "start_time": "2022-10-28T09:42:04.298Z"
   },
   {
    "duration": 47,
    "start_time": "2022-10-28T09:42:04.308Z"
   },
   {
    "duration": 76,
    "start_time": "2022-10-28T09:42:04.357Z"
   },
   {
    "duration": 7,
    "start_time": "2022-10-28T09:42:04.435Z"
   },
   {
    "duration": 52,
    "start_time": "2022-10-28T09:42:04.443Z"
   },
   {
    "duration": 3,
    "start_time": "2022-10-28T09:42:04.509Z"
   },
   {
    "duration": 61,
    "start_time": "2022-10-28T09:42:46.236Z"
   },
   {
    "duration": 59,
    "start_time": "2022-10-28T09:42:53.716Z"
   },
   {
    "duration": 58,
    "start_time": "2022-10-28T09:43:32.108Z"
   },
   {
    "duration": 58,
    "start_time": "2022-10-28T09:44:22.848Z"
   },
   {
    "duration": 65,
    "start_time": "2022-10-28T09:44:26.259Z"
   },
   {
    "duration": 740,
    "start_time": "2022-10-28T09:44:32.538Z"
   },
   {
    "duration": 20,
    "start_time": "2022-10-28T09:44:33.291Z"
   },
   {
    "duration": 1894,
    "start_time": "2022-10-28T09:44:33.314Z"
   },
   {
    "duration": 9,
    "start_time": "2022-10-28T09:44:35.210Z"
   },
   {
    "duration": 40,
    "start_time": "2022-10-28T09:44:35.221Z"
   },
   {
    "duration": 83,
    "start_time": "2022-10-28T09:44:35.263Z"
   },
   {
    "duration": 5,
    "start_time": "2022-10-28T09:44:35.348Z"
   },
   {
    "duration": 38,
    "start_time": "2022-10-28T09:44:35.355Z"
   },
   {
    "duration": 3,
    "start_time": "2022-10-28T09:44:35.409Z"
   },
   {
    "duration": 54,
    "start_time": "2022-10-28T09:44:50.223Z"
   },
   {
    "duration": 54,
    "start_time": "2022-10-28T09:46:50.786Z"
   },
   {
    "duration": 745,
    "start_time": "2022-10-28T09:47:00.303Z"
   },
   {
    "duration": 16,
    "start_time": "2022-10-28T09:47:01.050Z"
   },
   {
    "duration": 1831,
    "start_time": "2022-10-28T09:47:01.069Z"
   },
   {
    "duration": 9,
    "start_time": "2022-10-28T09:47:02.902Z"
   },
   {
    "duration": 53,
    "start_time": "2022-10-28T09:47:02.913Z"
   },
   {
    "duration": 58,
    "start_time": "2022-10-28T09:47:02.968Z"
   },
   {
    "duration": 5,
    "start_time": "2022-10-28T09:47:03.027Z"
   },
   {
    "duration": 42,
    "start_time": "2022-10-28T09:47:03.034Z"
   },
   {
    "duration": 3,
    "start_time": "2022-10-28T09:47:03.077Z"
   },
   {
    "duration": 91,
    "start_time": "2022-10-28T09:53:57.079Z"
   },
   {
    "duration": 57,
    "start_time": "2022-10-28T09:55:21.222Z"
   },
   {
    "duration": 12,
    "start_time": "2022-10-28T09:55:41.520Z"
   },
   {
    "duration": 26,
    "start_time": "2022-10-28T09:55:51.743Z"
   },
   {
    "duration": 17,
    "start_time": "2022-10-28T09:56:08.095Z"
   },
   {
    "duration": 53,
    "start_time": "2022-10-28T09:57:00.268Z"
   },
   {
    "duration": 61,
    "start_time": "2022-10-28T09:57:08.911Z"
   },
   {
    "duration": 726,
    "start_time": "2022-10-28T09:57:38.025Z"
   },
   {
    "duration": 17,
    "start_time": "2022-10-28T09:57:38.753Z"
   },
   {
    "duration": 1836,
    "start_time": "2022-10-28T09:57:38.772Z"
   },
   {
    "duration": 11,
    "start_time": "2022-10-28T09:57:40.610Z"
   },
   {
    "duration": 40,
    "start_time": "2022-10-28T09:57:40.624Z"
   },
   {
    "duration": 69,
    "start_time": "2022-10-28T09:57:40.665Z"
   },
   {
    "duration": 6,
    "start_time": "2022-10-28T09:57:40.736Z"
   },
   {
    "duration": 52,
    "start_time": "2022-10-28T09:57:40.744Z"
   },
   {
    "duration": 3,
    "start_time": "2022-10-28T09:57:40.809Z"
   },
   {
    "duration": 43,
    "start_time": "2022-10-28T09:59:19.995Z"
   },
   {
    "duration": 706,
    "start_time": "2022-10-28T09:59:40.119Z"
   },
   {
    "duration": 15,
    "start_time": "2022-10-28T09:59:40.827Z"
   },
   {
    "duration": 1825,
    "start_time": "2022-10-28T09:59:40.843Z"
   },
   {
    "duration": 9,
    "start_time": "2022-10-28T09:59:42.670Z"
   },
   {
    "duration": 36,
    "start_time": "2022-10-28T09:59:42.681Z"
   },
   {
    "duration": 7,
    "start_time": "2022-10-28T09:59:42.719Z"
   },
   {
    "duration": 24,
    "start_time": "2022-10-28T09:59:42.727Z"
   },
   {
    "duration": 54,
    "start_time": "2022-10-28T09:59:42.752Z"
   },
   {
    "duration": 2,
    "start_time": "2022-10-28T09:59:42.808Z"
   },
   {
    "duration": 33,
    "start_time": "2022-10-28T10:00:14.587Z"
   },
   {
    "duration": 68,
    "start_time": "2022-10-28T10:00:18.667Z"
   },
   {
    "duration": 50,
    "start_time": "2022-10-28T10:05:47.734Z"
   },
   {
    "duration": 738,
    "start_time": "2022-10-28T10:06:15.768Z"
   },
   {
    "duration": 16,
    "start_time": "2022-10-28T10:06:16.510Z"
   },
   {
    "duration": 1904,
    "start_time": "2022-10-28T10:06:16.528Z"
   },
   {
    "duration": 9,
    "start_time": "2022-10-28T10:06:18.434Z"
   },
   {
    "duration": 48,
    "start_time": "2022-10-28T10:06:18.444Z"
   },
   {
    "duration": 5,
    "start_time": "2022-10-28T10:06:18.494Z"
   },
   {
    "duration": 2,
    "start_time": "2022-10-28T10:06:18.501Z"
   },
   {
    "duration": 50,
    "start_time": "2022-10-28T10:06:43.737Z"
   },
   {
    "duration": 57,
    "start_time": "2022-10-28T10:07:05.202Z"
   },
   {
    "duration": 54,
    "start_time": "2022-10-28T10:07:34.305Z"
   },
   {
    "duration": 55,
    "start_time": "2022-10-28T10:07:49.465Z"
   },
   {
    "duration": 5,
    "start_time": "2022-10-28T10:07:50.632Z"
   },
   {
    "duration": 779,
    "start_time": "2022-10-28T10:08:01.192Z"
   },
   {
    "duration": 14,
    "start_time": "2022-10-28T10:08:01.973Z"
   },
   {
    "duration": 1823,
    "start_time": "2022-10-28T10:08:01.989Z"
   },
   {
    "duration": 10,
    "start_time": "2022-10-28T10:08:03.814Z"
   },
   {
    "duration": 56,
    "start_time": "2022-10-28T10:08:03.825Z"
   },
   {
    "duration": 5,
    "start_time": "2022-10-28T10:08:03.882Z"
   },
   {
    "duration": 3,
    "start_time": "2022-10-28T10:08:03.909Z"
   },
   {
    "duration": 51,
    "start_time": "2022-10-28T10:08:06.071Z"
   },
   {
    "duration": 53,
    "start_time": "2022-10-28T10:08:11.422Z"
   },
   {
    "duration": 52,
    "start_time": "2022-10-28T10:08:12.454Z"
   },
   {
    "duration": 53,
    "start_time": "2022-10-28T10:08:13.213Z"
   },
   {
    "duration": 52,
    "start_time": "2022-10-28T10:08:13.845Z"
   },
   {
    "duration": 65,
    "start_time": "2022-10-28T10:08:14.518Z"
   },
   {
    "duration": 57,
    "start_time": "2022-10-28T10:08:15.141Z"
   },
   {
    "duration": 53,
    "start_time": "2022-10-28T10:08:15.861Z"
   },
   {
    "duration": 755,
    "start_time": "2022-10-28T10:08:19.989Z"
   },
   {
    "duration": 15,
    "start_time": "2022-10-28T10:08:20.746Z"
   },
   {
    "duration": 1837,
    "start_time": "2022-10-28T10:08:20.763Z"
   },
   {
    "duration": 9,
    "start_time": "2022-10-28T10:08:22.602Z"
   },
   {
    "duration": 65,
    "start_time": "2022-10-28T10:08:22.612Z"
   },
   {
    "duration": 5,
    "start_time": "2022-10-28T10:08:22.679Z"
   },
   {
    "duration": 7,
    "start_time": "2022-10-28T10:08:22.686Z"
   },
   {
    "duration": 65,
    "start_time": "2022-10-28T10:11:09.135Z"
   },
   {
    "duration": 859,
    "start_time": "2022-10-28T10:11:13.903Z"
   },
   {
    "duration": 14,
    "start_time": "2022-10-28T10:11:14.763Z"
   },
   {
    "duration": 1953,
    "start_time": "2022-10-28T10:11:14.779Z"
   },
   {
    "duration": 8,
    "start_time": "2022-10-28T10:11:16.734Z"
   },
   {
    "duration": 54,
    "start_time": "2022-10-28T10:11:16.744Z"
   },
   {
    "duration": 10,
    "start_time": "2022-10-28T10:11:16.800Z"
   },
   {
    "duration": 5,
    "start_time": "2022-10-28T10:11:16.811Z"
   },
   {
    "duration": 3006,
    "start_time": "2022-10-28T10:11:23.116Z"
   },
   {
    "duration": 717,
    "start_time": "2022-10-28T10:14:42.117Z"
   },
   {
    "duration": 14,
    "start_time": "2022-10-28T10:14:42.836Z"
   },
   {
    "duration": 1873,
    "start_time": "2022-10-28T10:14:42.851Z"
   },
   {
    "duration": 10,
    "start_time": "2022-10-28T10:14:44.726Z"
   },
   {
    "duration": 58,
    "start_time": "2022-10-28T10:14:44.739Z"
   },
   {
    "duration": 14,
    "start_time": "2022-10-28T10:14:44.798Z"
   },
   {
    "duration": 12,
    "start_time": "2022-10-28T10:14:44.813Z"
   },
   {
    "duration": 38,
    "start_time": "2022-10-28T10:17:29.980Z"
   },
   {
    "duration": 59,
    "start_time": "2022-10-28T10:17:44.464Z"
   },
   {
    "duration": 789,
    "start_time": "2022-10-28T10:18:05.479Z"
   },
   {
    "duration": 15,
    "start_time": "2022-10-28T10:18:06.271Z"
   },
   {
    "duration": 1837,
    "start_time": "2022-10-28T10:18:06.287Z"
   },
   {
    "duration": 11,
    "start_time": "2022-10-28T10:18:08.127Z"
   },
   {
    "duration": 45,
    "start_time": "2022-10-28T10:18:08.139Z"
   },
   {
    "duration": 79,
    "start_time": "2022-10-28T10:18:08.186Z"
   },
   {
    "duration": 3,
    "start_time": "2022-10-28T10:18:08.267Z"
   },
   {
    "duration": 88,
    "start_time": "2022-10-28T10:19:19.896Z"
   },
   {
    "duration": 52,
    "start_time": "2022-10-28T10:20:15.059Z"
   },
   {
    "duration": 4,
    "start_time": "2022-10-28T10:23:48.122Z"
   },
   {
    "duration": 8,
    "start_time": "2022-10-28T10:24:03.307Z"
   },
   {
    "duration": 14,
    "start_time": "2022-10-28T10:25:22.652Z"
   },
   {
    "duration": 78,
    "start_time": "2022-10-28T10:25:55.732Z"
   },
   {
    "duration": 8,
    "start_time": "2022-10-28T10:27:09.341Z"
   },
   {
    "duration": 16,
    "start_time": "2022-10-28T10:27:52.693Z"
   },
   {
    "duration": 4,
    "start_time": "2022-10-28T10:35:01.482Z"
   },
   {
    "duration": 8,
    "start_time": "2022-10-28T10:35:16.345Z"
   },
   {
    "duration": 8,
    "start_time": "2022-10-28T10:35:23.241Z"
   },
   {
    "duration": 36,
    "start_time": "2022-10-28T10:35:54.056Z"
   },
   {
    "duration": 120,
    "start_time": "2022-10-28T10:40:09.428Z"
   },
   {
    "duration": 796,
    "start_time": "2022-10-28T10:40:16.388Z"
   },
   {
    "duration": 14,
    "start_time": "2022-10-28T10:40:17.186Z"
   },
   {
    "duration": 1831,
    "start_time": "2022-10-28T10:40:17.209Z"
   },
   {
    "duration": 10,
    "start_time": "2022-10-28T10:40:19.043Z"
   },
   {
    "duration": 46,
    "start_time": "2022-10-28T10:40:19.055Z"
   },
   {
    "duration": 61,
    "start_time": "2022-10-28T10:40:19.104Z"
   },
   {
    "duration": 54,
    "start_time": "2022-10-28T10:40:19.167Z"
   },
   {
    "duration": 16,
    "start_time": "2022-10-28T10:40:19.222Z"
   },
   {
    "duration": 3,
    "start_time": "2022-10-28T10:40:19.239Z"
   },
   {
    "duration": 35,
    "start_time": "2022-10-28T10:40:44.175Z"
   },
   {
    "duration": 9,
    "start_time": "2022-10-28T11:06:00.285Z"
   },
   {
    "duration": 81,
    "start_time": "2022-10-28T11:06:33.741Z"
   },
   {
    "duration": 10,
    "start_time": "2022-10-28T11:06:40.152Z"
   },
   {
    "duration": 10,
    "start_time": "2022-10-28T11:06:54.974Z"
   },
   {
    "duration": 11,
    "start_time": "2022-10-28T11:07:21.543Z"
   },
   {
    "duration": 8,
    "start_time": "2022-10-28T11:07:37.567Z"
   },
   {
    "duration": 8,
    "start_time": "2022-10-28T11:07:46.878Z"
   },
   {
    "duration": 710,
    "start_time": "2022-10-28T11:08:54.869Z"
   },
   {
    "duration": 810,
    "start_time": "2022-10-28T11:09:12.182Z"
   },
   {
    "duration": 9,
    "start_time": "2022-10-28T11:09:28.735Z"
   },
   {
    "duration": 9,
    "start_time": "2022-10-28T11:09:39.142Z"
   },
   {
    "duration": 9,
    "start_time": "2022-10-28T11:09:44.981Z"
   },
   {
    "duration": 52,
    "start_time": "2022-10-28T11:10:21.641Z"
   },
   {
    "duration": 2,
    "start_time": "2022-10-28T11:13:03.060Z"
   },
   {
    "duration": 74,
    "start_time": "2022-10-28T11:13:13.077Z"
   },
   {
    "duration": 741,
    "start_time": "2022-10-28T11:13:22.413Z"
   },
   {
    "duration": 13,
    "start_time": "2022-10-28T11:13:23.156Z"
   },
   {
    "duration": 1877,
    "start_time": "2022-10-28T11:13:23.171Z"
   },
   {
    "duration": 9,
    "start_time": "2022-10-28T11:13:25.050Z"
   },
   {
    "duration": 36,
    "start_time": "2022-10-28T11:13:25.061Z"
   },
   {
    "duration": 82,
    "start_time": "2022-10-28T11:13:25.099Z"
   },
   {
    "duration": 3,
    "start_time": "2022-10-28T11:13:25.182Z"
   },
   {
    "duration": 23,
    "start_time": "2022-10-28T11:13:25.186Z"
   },
   {
    "duration": 5,
    "start_time": "2022-10-28T11:19:59.153Z"
   },
   {
    "duration": 80,
    "start_time": "2022-10-28T11:20:22.723Z"
   },
   {
    "duration": 8,
    "start_time": "2022-10-28T11:20:29.219Z"
   },
   {
    "duration": 72,
    "start_time": "2022-10-28T11:20:33.492Z"
   },
   {
    "duration": 6,
    "start_time": "2022-10-28T11:20:35.611Z"
   },
   {
    "duration": 8,
    "start_time": "2022-10-28T11:20:43.163Z"
   },
   {
    "duration": 8,
    "start_time": "2022-10-28T11:21:49.587Z"
   },
   {
    "duration": 9,
    "start_time": "2022-10-28T11:21:56.067Z"
   },
   {
    "duration": 68,
    "start_time": "2022-10-28T11:22:13.256Z"
   },
   {
    "duration": 15,
    "start_time": "2022-10-28T11:23:43.411Z"
   },
   {
    "duration": 20,
    "start_time": "2022-10-28T11:23:51.546Z"
   },
   {
    "duration": 16,
    "start_time": "2022-10-28T11:24:24.002Z"
   },
   {
    "duration": 21,
    "start_time": "2022-10-28T11:24:30.754Z"
   },
   {
    "duration": 19,
    "start_time": "2022-10-28T11:25:12.129Z"
   },
   {
    "duration": 20,
    "start_time": "2022-10-28T11:25:14.121Z"
   },
   {
    "duration": 23,
    "start_time": "2022-10-28T11:25:51.862Z"
   },
   {
    "duration": 22,
    "start_time": "2022-10-28T11:25:53.489Z"
   },
   {
    "duration": 8,
    "start_time": "2022-10-28T11:25:54.481Z"
   },
   {
    "duration": 730,
    "start_time": "2022-10-28T11:26:01.543Z"
   },
   {
    "duration": 15,
    "start_time": "2022-10-28T11:26:02.275Z"
   },
   {
    "duration": 1792,
    "start_time": "2022-10-28T11:26:02.292Z"
   },
   {
    "duration": 9,
    "start_time": "2022-10-28T11:26:04.086Z"
   },
   {
    "duration": 40,
    "start_time": "2022-10-28T11:26:04.097Z"
   },
   {
    "duration": 83,
    "start_time": "2022-10-28T11:26:04.138Z"
   },
   {
    "duration": 23,
    "start_time": "2022-10-28T11:26:04.223Z"
   },
   {
    "duration": 7,
    "start_time": "2022-10-28T11:26:04.247Z"
   },
   {
    "duration": 77,
    "start_time": "2022-10-28T11:26:04.255Z"
   },
   {
    "duration": 2,
    "start_time": "2022-10-28T11:26:04.334Z"
   },
   {
    "duration": 19,
    "start_time": "2022-10-28T11:26:36.001Z"
   },
   {
    "duration": 17,
    "start_time": "2022-10-28T11:26:38.481Z"
   },
   {
    "duration": 23,
    "start_time": "2022-10-28T11:26:45.948Z"
   },
   {
    "duration": 24,
    "start_time": "2022-10-28T11:27:09.760Z"
   },
   {
    "duration": 23,
    "start_time": "2022-10-28T11:31:57.840Z"
   },
   {
    "duration": 27,
    "start_time": "2022-10-28T11:34:40.659Z"
   },
   {
    "duration": 26,
    "start_time": "2022-10-28T11:35:04.708Z"
   },
   {
    "duration": 8,
    "start_time": "2022-10-28T11:35:05.371Z"
   },
   {
    "duration": 64,
    "start_time": "2022-10-28T11:35:11.531Z"
   },
   {
    "duration": 62,
    "start_time": "2022-10-28T11:35:35.285Z"
   },
   {
    "duration": 27,
    "start_time": "2022-10-28T11:36:17.713Z"
   },
   {
    "duration": 5,
    "start_time": "2022-10-28T11:42:18.829Z"
   },
   {
    "duration": 99,
    "start_time": "2022-10-28T11:42:30.311Z"
   },
   {
    "duration": 47,
    "start_time": "2022-10-28T11:42:45.136Z"
   },
   {
    "duration": 22,
    "start_time": "2022-10-28T11:42:49.247Z"
   },
   {
    "duration": 725,
    "start_time": "2022-10-28T11:42:55.754Z"
   },
   {
    "duration": 15,
    "start_time": "2022-10-28T11:42:56.481Z"
   },
   {
    "duration": 1898,
    "start_time": "2022-10-28T11:42:56.498Z"
   },
   {
    "duration": 13,
    "start_time": "2022-10-28T11:42:58.398Z"
   },
   {
    "duration": 49,
    "start_time": "2022-10-28T11:42:58.414Z"
   },
   {
    "duration": 97,
    "start_time": "2022-10-28T11:42:58.464Z"
   },
   {
    "duration": 0,
    "start_time": "2022-10-28T11:42:58.563Z"
   },
   {
    "duration": 0,
    "start_time": "2022-10-28T11:42:58.564Z"
   },
   {
    "duration": 0,
    "start_time": "2022-10-28T11:42:58.565Z"
   },
   {
    "duration": 0,
    "start_time": "2022-10-28T11:42:58.566Z"
   },
   {
    "duration": 0,
    "start_time": "2022-10-28T11:42:58.567Z"
   },
   {
    "duration": 7,
    "start_time": "2022-10-28T11:43:52.648Z"
   },
   {
    "duration": 28,
    "start_time": "2022-10-28T11:43:59.177Z"
   },
   {
    "duration": 16,
    "start_time": "2022-10-28T11:44:08.827Z"
   },
   {
    "duration": 6,
    "start_time": "2022-10-28T11:44:20.577Z"
   },
   {
    "duration": 8,
    "start_time": "2022-10-28T11:44:48.698Z"
   },
   {
    "duration": 14,
    "start_time": "2022-10-28T11:44:52.866Z"
   },
   {
    "duration": 34,
    "start_time": "2022-10-28T11:45:13.002Z"
   },
   {
    "duration": 47,
    "start_time": "2022-10-28T11:45:29.194Z"
   },
   {
    "duration": 33,
    "start_time": "2022-10-28T11:45:45.587Z"
   },
   {
    "duration": 34,
    "start_time": "2022-10-28T11:45:57.258Z"
   },
   {
    "duration": 50,
    "start_time": "2022-10-28T11:46:01.514Z"
   },
   {
    "duration": 9,
    "start_time": "2022-10-28T12:27:38.830Z"
   },
   {
    "duration": 731,
    "start_time": "2022-10-28T12:27:47.537Z"
   },
   {
    "duration": 15,
    "start_time": "2022-10-28T12:27:48.270Z"
   },
   {
    "duration": 1818,
    "start_time": "2022-10-28T12:27:48.290Z"
   },
   {
    "duration": 8,
    "start_time": "2022-10-28T12:27:50.110Z"
   },
   {
    "duration": 34,
    "start_time": "2022-10-28T12:27:50.120Z"
   },
   {
    "duration": 69,
    "start_time": "2022-10-28T12:27:50.155Z"
   },
   {
    "duration": 84,
    "start_time": "2022-10-28T12:27:50.226Z"
   },
   {
    "duration": 9,
    "start_time": "2022-10-28T12:27:50.312Z"
   },
   {
    "duration": 13,
    "start_time": "2022-10-28T12:27:50.323Z"
   },
   {
    "duration": 77,
    "start_time": "2022-10-28T12:27:50.338Z"
   },
   {
    "duration": 2,
    "start_time": "2022-10-28T12:27:50.417Z"
   },
   {
    "duration": 4,
    "start_time": "2022-10-28T12:29:46.225Z"
   },
   {
    "duration": 39,
    "start_time": "2022-10-28T12:29:53.092Z"
   },
   {
    "duration": 56,
    "start_time": "2022-10-28T12:30:06.509Z"
   },
   {
    "duration": 13,
    "start_time": "2022-10-28T12:33:20.674Z"
   },
   {
    "duration": 17,
    "start_time": "2022-10-28T12:33:25.498Z"
   },
   {
    "duration": 25,
    "start_time": "2022-10-28T12:33:41.877Z"
   },
   {
    "duration": 20,
    "start_time": "2022-10-28T12:33:43.850Z"
   },
   {
    "duration": 17,
    "start_time": "2022-10-28T12:33:47.017Z"
   },
   {
    "duration": 59,
    "start_time": "2022-10-28T12:34:32.724Z"
   },
   {
    "duration": 35,
    "start_time": "2022-10-28T12:34:58.330Z"
   },
   {
    "duration": 89,
    "start_time": "2022-10-28T12:36:48.069Z"
   },
   {
    "duration": 28,
    "start_time": "2022-10-28T12:37:10.408Z"
   },
   {
    "duration": 98,
    "start_time": "2022-10-28T16:05:34.346Z"
   },
   {
    "duration": 95,
    "start_time": "2022-10-28T16:05:42.880Z"
   },
   {
    "duration": 760,
    "start_time": "2022-10-28T16:05:48.195Z"
   },
   {
    "duration": 15,
    "start_time": "2022-10-28T16:05:48.956Z"
   },
   {
    "duration": 1820,
    "start_time": "2022-10-28T16:05:48.972Z"
   },
   {
    "duration": 9,
    "start_time": "2022-10-28T16:05:50.794Z"
   },
   {
    "duration": 42,
    "start_time": "2022-10-28T16:05:50.804Z"
   },
   {
    "duration": 49,
    "start_time": "2022-10-28T16:05:50.848Z"
   },
   {
    "duration": 105,
    "start_time": "2022-10-28T16:05:50.908Z"
   },
   {
    "duration": 17,
    "start_time": "2022-10-28T16:05:51.015Z"
   },
   {
    "duration": 21,
    "start_time": "2022-10-28T16:05:51.033Z"
   },
   {
    "duration": 47,
    "start_time": "2022-10-28T16:05:51.056Z"
   },
   {
    "duration": 2,
    "start_time": "2022-10-28T16:05:51.105Z"
   },
   {
    "duration": 85,
    "start_time": "2022-10-28T16:06:06.418Z"
   },
   {
    "duration": 85,
    "start_time": "2022-10-28T16:06:54.921Z"
   },
   {
    "duration": 790,
    "start_time": "2022-10-28T16:07:03.917Z"
   },
   {
    "duration": 15,
    "start_time": "2022-10-28T16:07:04.709Z"
   },
   {
    "duration": 1922,
    "start_time": "2022-10-28T16:07:04.726Z"
   },
   {
    "duration": 11,
    "start_time": "2022-10-28T16:07:06.650Z"
   },
   {
    "duration": 44,
    "start_time": "2022-10-28T16:07:06.663Z"
   },
   {
    "duration": 48,
    "start_time": "2022-10-28T16:07:06.709Z"
   },
   {
    "duration": 97,
    "start_time": "2022-10-28T16:07:06.759Z"
   },
   {
    "duration": 16,
    "start_time": "2022-10-28T16:07:06.858Z"
   },
   {
    "duration": 19,
    "start_time": "2022-10-28T16:07:06.875Z"
   },
   {
    "duration": 64,
    "start_time": "2022-10-28T16:07:06.895Z"
   },
   {
    "duration": 3,
    "start_time": "2022-10-28T16:07:06.960Z"
   },
   {
    "duration": 7,
    "start_time": "2022-10-28T16:19:56.211Z"
   },
   {
    "duration": 825,
    "start_time": "2022-10-28T16:23:23.244Z"
   },
   {
    "duration": 1276,
    "start_time": "2022-10-28T16:23:43.013Z"
   },
   {
    "duration": 764,
    "start_time": "2022-10-28T16:24:10.493Z"
   },
   {
    "duration": 15,
    "start_time": "2022-10-28T16:24:11.259Z"
   },
   {
    "duration": 1861,
    "start_time": "2022-10-28T16:24:11.275Z"
   },
   {
    "duration": 9,
    "start_time": "2022-10-28T16:24:13.138Z"
   },
   {
    "duration": 36,
    "start_time": "2022-10-28T16:24:13.148Z"
   },
   {
    "duration": 48,
    "start_time": "2022-10-28T16:24:13.186Z"
   },
   {
    "duration": 83,
    "start_time": "2022-10-28T16:24:13.236Z"
   },
   {
    "duration": 1321,
    "start_time": "2022-10-28T16:24:13.320Z"
   },
   {
    "duration": 9,
    "start_time": "2022-10-28T16:24:14.642Z"
   },
   {
    "duration": 2,
    "start_time": "2022-10-28T16:24:14.654Z"
   },
   {
    "duration": 1242,
    "start_time": "2022-10-28T16:25:06.863Z"
   },
   {
    "duration": 752,
    "start_time": "2022-10-28T16:25:28.109Z"
   },
   {
    "duration": 13,
    "start_time": "2022-10-28T16:25:28.863Z"
   },
   {
    "duration": 1815,
    "start_time": "2022-10-28T16:25:28.877Z"
   },
   {
    "duration": 9,
    "start_time": "2022-10-28T16:25:30.694Z"
   },
   {
    "duration": 47,
    "start_time": "2022-10-28T16:25:30.705Z"
   },
   {
    "duration": 89,
    "start_time": "2022-10-28T16:25:30.753Z"
   },
   {
    "duration": 134,
    "start_time": "2022-10-28T16:25:30.844Z"
   },
   {
    "duration": 1253,
    "start_time": "2022-10-28T16:25:30.980Z"
   },
   {
    "duration": 8,
    "start_time": "2022-10-28T16:25:32.235Z"
   },
   {
    "duration": 45,
    "start_time": "2022-10-28T16:25:32.244Z"
   },
   {
    "duration": 1340,
    "start_time": "2022-10-28T16:26:33.553Z"
   },
   {
    "duration": 17,
    "start_time": "2022-10-28T16:37:03.486Z"
   },
   {
    "duration": 8,
    "start_time": "2022-10-28T16:37:16.944Z"
   },
   {
    "duration": 1317,
    "start_time": "2022-10-28T16:38:06.207Z"
   },
   {
    "duration": 13,
    "start_time": "2022-10-28T16:40:13.173Z"
   },
   {
    "duration": 17,
    "start_time": "2022-10-28T16:40:33.515Z"
   },
   {
    "duration": 16,
    "start_time": "2022-10-28T16:40:40.506Z"
   },
   {
    "duration": 22,
    "start_time": "2022-10-28T16:41:49.264Z"
   },
   {
    "duration": 17,
    "start_time": "2022-10-28T16:41:52.683Z"
   },
   {
    "duration": 776,
    "start_time": "2022-10-28T16:41:58.784Z"
   },
   {
    "duration": 14,
    "start_time": "2022-10-28T16:41:59.562Z"
   },
   {
    "duration": 1847,
    "start_time": "2022-10-28T16:41:59.577Z"
   },
   {
    "duration": 9,
    "start_time": "2022-10-28T16:42:01.426Z"
   },
   {
    "duration": 43,
    "start_time": "2022-10-28T16:42:01.437Z"
   },
   {
    "duration": 63,
    "start_time": "2022-10-28T16:42:01.482Z"
   },
   {
    "duration": 87,
    "start_time": "2022-10-28T16:42:01.546Z"
   },
   {
    "duration": 17,
    "start_time": "2022-10-28T16:42:01.635Z"
   },
   {
    "duration": 15,
    "start_time": "2022-10-28T16:42:01.654Z"
   },
   {
    "duration": 9,
    "start_time": "2022-10-28T16:42:01.670Z"
   },
   {
    "duration": 38,
    "start_time": "2022-10-28T16:42:31.351Z"
   },
   {
    "duration": 1315,
    "start_time": "2022-10-28T16:43:33.383Z"
   },
   {
    "duration": 16,
    "start_time": "2022-10-28T16:43:47.045Z"
   },
   {
    "duration": 44,
    "start_time": "2022-10-29T06:47:01.645Z"
   },
   {
    "duration": 1263,
    "start_time": "2022-10-29T06:47:06.662Z"
   },
   {
    "duration": 18,
    "start_time": "2022-10-29T06:47:07.932Z"
   },
   {
    "duration": 2084,
    "start_time": "2022-10-29T06:47:07.951Z"
   },
   {
    "duration": 13,
    "start_time": "2022-10-29T06:47:10.037Z"
   },
   {
    "duration": 123,
    "start_time": "2022-10-29T06:47:10.053Z"
   },
   {
    "duration": 23,
    "start_time": "2022-10-29T06:47:10.179Z"
   },
   {
    "duration": 57,
    "start_time": "2022-10-29T06:47:10.204Z"
   },
   {
    "duration": 89,
    "start_time": "2022-10-29T06:47:10.263Z"
   },
   {
    "duration": 81,
    "start_time": "2022-10-29T06:47:10.354Z"
   },
   {
    "duration": 9,
    "start_time": "2022-10-29T06:47:30.614Z"
   },
   {
    "duration": 14,
    "start_time": "2022-10-29T06:48:31.285Z"
   },
   {
    "duration": 11,
    "start_time": "2022-10-29T06:58:52.575Z"
   },
   {
    "duration": 358,
    "start_time": "2022-10-29T06:59:07.882Z"
   },
   {
    "duration": 10,
    "start_time": "2022-10-29T06:59:13.918Z"
   },
   {
    "duration": 389,
    "start_time": "2022-10-29T06:59:15.702Z"
   },
   {
    "duration": 10,
    "start_time": "2022-10-29T06:59:20.720Z"
   },
   {
    "duration": 10,
    "start_time": "2022-10-29T06:59:25.950Z"
   },
   {
    "duration": 67,
    "start_time": "2022-10-29T06:59:53.374Z"
   },
   {
    "duration": 43,
    "start_time": "2022-10-29T07:00:19.178Z"
   },
   {
    "duration": 62,
    "start_time": "2022-10-29T07:02:57.634Z"
   },
   {
    "duration": 56,
    "start_time": "2022-10-29T07:03:09.885Z"
   },
   {
    "duration": 45,
    "start_time": "2022-10-29T07:03:13.541Z"
   },
   {
    "duration": 55,
    "start_time": "2022-10-29T07:06:07.811Z"
   },
   {
    "duration": 20,
    "start_time": "2022-10-29T07:07:27.450Z"
   },
   {
    "duration": 111,
    "start_time": "2022-10-29T07:09:19.865Z"
   },
   {
    "duration": 22,
    "start_time": "2022-10-29T07:09:34.569Z"
   },
   {
    "duration": 22,
    "start_time": "2022-10-29T07:10:14.704Z"
   },
   {
    "duration": 25,
    "start_time": "2022-10-29T07:11:24.728Z"
   },
   {
    "duration": 21,
    "start_time": "2022-10-29T07:14:43.963Z"
   },
   {
    "duration": 121,
    "start_time": "2022-10-29T07:15:23.194Z"
   },
   {
    "duration": 20,
    "start_time": "2022-10-29T07:15:29.941Z"
   },
   {
    "duration": 27,
    "start_time": "2022-10-29T07:15:36.205Z"
   },
   {
    "duration": 22,
    "start_time": "2022-10-29T07:15:53.086Z"
   },
   {
    "duration": 764,
    "start_time": "2022-10-29T07:16:00.830Z"
   },
   {
    "duration": 30,
    "start_time": "2022-10-29T07:16:01.596Z"
   },
   {
    "duration": 1999,
    "start_time": "2022-10-29T07:16:01.631Z"
   },
   {
    "duration": 9,
    "start_time": "2022-10-29T07:16:03.632Z"
   },
   {
    "duration": 93,
    "start_time": "2022-10-29T07:16:03.643Z"
   },
   {
    "duration": 23,
    "start_time": "2022-10-29T07:16:03.738Z"
   },
   {
    "duration": 16,
    "start_time": "2022-10-29T07:16:03.762Z"
   },
   {
    "duration": 54,
    "start_time": "2022-10-29T07:16:03.780Z"
   },
   {
    "duration": 838,
    "start_time": "2022-10-29T07:16:49.513Z"
   },
   {
    "duration": 16,
    "start_time": "2022-10-29T07:16:50.353Z"
   },
   {
    "duration": 1930,
    "start_time": "2022-10-29T07:16:50.371Z"
   },
   {
    "duration": 13,
    "start_time": "2022-10-29T07:16:52.303Z"
   },
   {
    "duration": 92,
    "start_time": "2022-10-29T07:16:52.318Z"
   },
   {
    "duration": 23,
    "start_time": "2022-10-29T07:16:52.411Z"
   },
   {
    "duration": 14,
    "start_time": "2022-10-29T07:16:52.435Z"
   },
   {
    "duration": 118,
    "start_time": "2022-10-29T07:16:52.451Z"
   },
   {
    "duration": 784,
    "start_time": "2022-10-29T07:17:33.232Z"
   },
   {
    "duration": 27,
    "start_time": "2022-10-29T07:17:34.018Z"
   },
   {
    "duration": 1919,
    "start_time": "2022-10-29T07:17:34.046Z"
   },
   {
    "duration": 12,
    "start_time": "2022-10-29T07:17:35.967Z"
   },
   {
    "duration": 92,
    "start_time": "2022-10-29T07:17:35.982Z"
   },
   {
    "duration": 17,
    "start_time": "2022-10-29T07:17:36.075Z"
   },
   {
    "duration": 32,
    "start_time": "2022-10-29T07:17:36.093Z"
   },
   {
    "duration": 29,
    "start_time": "2022-10-29T07:17:36.132Z"
   },
   {
    "duration": 10,
    "start_time": "2022-10-29T07:24:41.577Z"
   },
   {
    "duration": 105,
    "start_time": "2022-10-29T07:54:40.786Z"
   },
   {
    "duration": 11,
    "start_time": "2022-10-29T07:54:52.626Z"
   },
   {
    "duration": 1055,
    "start_time": "2022-10-29T07:57:04.395Z"
   },
   {
    "duration": 522,
    "start_time": "2022-10-29T07:58:10.069Z"
   },
   {
    "duration": 733,
    "start_time": "2022-10-29T07:58:26.722Z"
   },
   {
    "duration": 20,
    "start_time": "2022-10-29T07:58:27.458Z"
   },
   {
    "duration": 2077,
    "start_time": "2022-10-29T07:58:27.480Z"
   },
   {
    "duration": 14,
    "start_time": "2022-10-29T07:58:29.561Z"
   },
   {
    "duration": 136,
    "start_time": "2022-10-29T07:58:29.578Z"
   },
   {
    "duration": 21,
    "start_time": "2022-10-29T07:58:29.722Z"
   },
   {
    "duration": 14,
    "start_time": "2022-10-29T07:58:29.745Z"
   },
   {
    "duration": 329,
    "start_time": "2022-10-29T07:58:29.761Z"
   },
   {
    "duration": 0,
    "start_time": "2022-10-29T07:58:30.092Z"
   },
   {
    "duration": 0,
    "start_time": "2022-10-29T07:58:30.093Z"
   },
   {
    "duration": 22,
    "start_time": "2022-10-29T07:59:03.566Z"
   },
   {
    "duration": 789,
    "start_time": "2022-10-29T07:59:16.721Z"
   },
   {
    "duration": 17,
    "start_time": "2022-10-29T07:59:17.512Z"
   },
   {
    "duration": 1950,
    "start_time": "2022-10-29T07:59:17.531Z"
   },
   {
    "duration": 10,
    "start_time": "2022-10-29T07:59:19.484Z"
   },
   {
    "duration": 92,
    "start_time": "2022-10-29T07:59:19.496Z"
   },
   {
    "duration": 33,
    "start_time": "2022-10-29T07:59:19.589Z"
   },
   {
    "duration": 21,
    "start_time": "2022-10-29T07:59:19.624Z"
   },
   {
    "duration": 94,
    "start_time": "2022-10-29T07:59:19.647Z"
   },
   {
    "duration": 0,
    "start_time": "2022-10-29T07:59:19.742Z"
   },
   {
    "duration": 0,
    "start_time": "2022-10-29T07:59:19.744Z"
   },
   {
    "duration": 38,
    "start_time": "2022-10-29T07:59:25.839Z"
   },
   {
    "duration": 724,
    "start_time": "2022-10-29T07:59:33.729Z"
   },
   {
    "duration": 14,
    "start_time": "2022-10-29T07:59:34.455Z"
   },
   {
    "duration": 1891,
    "start_time": "2022-10-29T07:59:34.470Z"
   },
   {
    "duration": 10,
    "start_time": "2022-10-29T07:59:36.362Z"
   },
   {
    "duration": 101,
    "start_time": "2022-10-29T07:59:36.375Z"
   },
   {
    "duration": 16,
    "start_time": "2022-10-29T07:59:36.477Z"
   },
   {
    "duration": 28,
    "start_time": "2022-10-29T07:59:36.495Z"
   },
   {
    "duration": 39,
    "start_time": "2022-10-29T07:59:36.525Z"
   },
   {
    "duration": 6,
    "start_time": "2022-10-29T07:59:36.566Z"
   },
   {
    "duration": 1168,
    "start_time": "2022-10-29T07:59:36.574Z"
   },
   {
    "duration": 9,
    "start_time": "2022-10-29T08:00:57.442Z"
   },
   {
    "duration": 8,
    "start_time": "2022-10-29T08:01:30.820Z"
   },
   {
    "duration": 3,
    "start_time": "2022-10-29T08:05:58.530Z"
   },
   {
    "duration": 30,
    "start_time": "2022-10-29T08:06:01.066Z"
   },
   {
    "duration": 757,
    "start_time": "2022-10-29T08:06:12.300Z"
   },
   {
    "duration": 15,
    "start_time": "2022-10-29T08:06:13.059Z"
   },
   {
    "duration": 1913,
    "start_time": "2022-10-29T08:06:13.076Z"
   },
   {
    "duration": 16,
    "start_time": "2022-10-29T08:06:14.992Z"
   },
   {
    "duration": 113,
    "start_time": "2022-10-29T08:06:15.011Z"
   },
   {
    "duration": 17,
    "start_time": "2022-10-29T08:06:15.125Z"
   },
   {
    "duration": 15,
    "start_time": "2022-10-29T08:06:15.144Z"
   },
   {
    "duration": 23,
    "start_time": "2022-10-29T08:06:15.161Z"
   },
   {
    "duration": 6,
    "start_time": "2022-10-29T08:06:15.185Z"
   },
   {
    "duration": 28,
    "start_time": "2022-10-29T08:06:15.222Z"
   },
   {
    "duration": 12,
    "start_time": "2022-10-29T08:06:15.252Z"
   },
   {
    "duration": 1133,
    "start_time": "2022-10-29T08:07:41.675Z"
   },
   {
    "duration": 63,
    "start_time": "2022-10-29T08:14:39.578Z"
   },
   {
    "duration": 898,
    "start_time": "2022-10-29T08:15:29.153Z"
   },
   {
    "duration": 777,
    "start_time": "2022-10-29T08:15:44.884Z"
   },
   {
    "duration": 18,
    "start_time": "2022-10-29T08:15:45.663Z"
   },
   {
    "duration": 1874,
    "start_time": "2022-10-29T08:15:45.683Z"
   },
   {
    "duration": 10,
    "start_time": "2022-10-29T08:15:47.559Z"
   },
   {
    "duration": 80,
    "start_time": "2022-10-29T08:15:47.570Z"
   },
   {
    "duration": 17,
    "start_time": "2022-10-29T08:15:47.651Z"
   },
   {
    "duration": 13,
    "start_time": "2022-10-29T08:15:47.670Z"
   },
   {
    "duration": 52,
    "start_time": "2022-10-29T08:15:47.684Z"
   },
   {
    "duration": 6,
    "start_time": "2022-10-29T08:15:47.738Z"
   },
   {
    "duration": 77,
    "start_time": "2022-10-29T08:15:47.746Z"
   },
   {
    "duration": 1188,
    "start_time": "2022-10-29T08:15:47.825Z"
   },
   {
    "duration": 73,
    "start_time": "2022-10-29T08:16:00.146Z"
   },
   {
    "duration": 15,
    "start_time": "2022-10-29T08:19:15.113Z"
   },
   {
    "duration": 711,
    "start_time": "2022-10-29T08:19:24.873Z"
   },
   {
    "duration": 15,
    "start_time": "2022-10-29T08:19:25.586Z"
   },
   {
    "duration": 1891,
    "start_time": "2022-10-29T08:19:25.603Z"
   },
   {
    "duration": 12,
    "start_time": "2022-10-29T08:19:27.496Z"
   },
   {
    "duration": 103,
    "start_time": "2022-10-29T08:19:27.510Z"
   },
   {
    "duration": 30,
    "start_time": "2022-10-29T08:19:27.615Z"
   },
   {
    "duration": 12,
    "start_time": "2022-10-29T08:19:27.647Z"
   },
   {
    "duration": 21,
    "start_time": "2022-10-29T08:19:27.661Z"
   },
   {
    "duration": 38,
    "start_time": "2022-10-29T08:19:27.684Z"
   },
   {
    "duration": 51,
    "start_time": "2022-10-29T08:19:27.724Z"
   },
   {
    "duration": 3445,
    "start_time": "2022-10-29T08:19:27.777Z"
   },
   {
    "duration": 45,
    "start_time": "2022-10-29T08:21:04.233Z"
   },
   {
    "duration": 29,
    "start_time": "2022-10-29T08:21:09.697Z"
   },
   {
    "duration": 105,
    "start_time": "2022-10-29T08:21:16.945Z"
   },
   {
    "duration": 30,
    "start_time": "2022-10-29T08:21:29.657Z"
   },
   {
    "duration": 28,
    "start_time": "2022-10-29T08:21:32.657Z"
   },
   {
    "duration": 779,
    "start_time": "2022-10-29T08:21:45.462Z"
   },
   {
    "duration": 15,
    "start_time": "2022-10-29T08:21:46.243Z"
   },
   {
    "duration": 1849,
    "start_time": "2022-10-29T08:21:46.260Z"
   },
   {
    "duration": 9,
    "start_time": "2022-10-29T08:21:48.111Z"
   },
   {
    "duration": 77,
    "start_time": "2022-10-29T08:21:48.121Z"
   },
   {
    "duration": 38,
    "start_time": "2022-10-29T08:21:48.200Z"
   },
   {
    "duration": 17,
    "start_time": "2022-10-29T08:21:48.240Z"
   },
   {
    "duration": 29,
    "start_time": "2022-10-29T08:21:48.260Z"
   },
   {
    "duration": 31,
    "start_time": "2022-10-29T08:21:48.291Z"
   },
   {
    "duration": 50,
    "start_time": "2022-10-29T08:21:48.324Z"
   },
   {
    "duration": 3419,
    "start_time": "2022-10-29T08:21:48.375Z"
   },
   {
    "duration": 2604,
    "start_time": "2022-10-29T08:22:17.241Z"
   },
   {
    "duration": 75,
    "start_time": "2022-10-29T08:22:31.385Z"
   },
   {
    "duration": 2732,
    "start_time": "2022-10-29T08:22:56.474Z"
   },
   {
    "duration": 2591,
    "start_time": "2022-10-29T08:24:06.794Z"
   },
   {
    "duration": 706,
    "start_time": "2022-10-29T08:25:41.909Z"
   },
   {
    "duration": 653,
    "start_time": "2022-10-29T08:26:10.423Z"
   },
   {
    "duration": 617,
    "start_time": "2022-10-29T08:26:41.864Z"
   },
   {
    "duration": 12,
    "start_time": "2022-10-29T08:27:23.494Z"
   },
   {
    "duration": 3271,
    "start_time": "2022-10-29T08:27:46.182Z"
   },
   {
    "duration": 635,
    "start_time": "2022-10-29T08:30:28.458Z"
   },
   {
    "duration": 465,
    "start_time": "2022-10-29T08:32:09.816Z"
   },
   {
    "duration": 45,
    "start_time": "2022-10-29T08:32:53.443Z"
   },
   {
    "duration": 413,
    "start_time": "2022-10-29T08:32:59.939Z"
   },
   {
    "duration": 13,
    "start_time": "2022-10-29T08:35:25.793Z"
   },
   {
    "duration": 431,
    "start_time": "2022-10-29T08:35:32.577Z"
   },
   {
    "duration": 432,
    "start_time": "2022-10-29T08:35:42.113Z"
   },
   {
    "duration": 413,
    "start_time": "2022-10-29T08:35:52.186Z"
   },
   {
    "duration": 722,
    "start_time": "2022-10-29T08:35:58.153Z"
   },
   {
    "duration": 22,
    "start_time": "2022-10-29T08:35:58.878Z"
   },
   {
    "duration": 1910,
    "start_time": "2022-10-29T08:35:58.903Z"
   },
   {
    "duration": 10,
    "start_time": "2022-10-29T08:36:00.815Z"
   },
   {
    "duration": 103,
    "start_time": "2022-10-29T08:36:00.828Z"
   },
   {
    "duration": 27,
    "start_time": "2022-10-29T08:36:00.933Z"
   },
   {
    "duration": 16,
    "start_time": "2022-10-29T08:36:00.961Z"
   },
   {
    "duration": 46,
    "start_time": "2022-10-29T08:36:00.979Z"
   },
   {
    "duration": 7,
    "start_time": "2022-10-29T08:36:01.027Z"
   },
   {
    "duration": 76,
    "start_time": "2022-10-29T08:36:01.036Z"
   },
   {
    "duration": 658,
    "start_time": "2022-10-29T08:36:01.114Z"
   },
   {
    "duration": 52,
    "start_time": "2022-10-29T08:37:02.450Z"
   },
   {
    "duration": 7,
    "start_time": "2022-10-29T08:37:17.624Z"
   },
   {
    "duration": 574,
    "start_time": "2022-10-29T08:37:29.180Z"
   },
   {
    "duration": 690,
    "start_time": "2022-10-29T08:37:34.153Z"
   },
   {
    "duration": 20,
    "start_time": "2022-10-29T08:37:34.845Z"
   },
   {
    "duration": 1834,
    "start_time": "2022-10-29T08:37:34.867Z"
   },
   {
    "duration": 9,
    "start_time": "2022-10-29T08:37:36.703Z"
   },
   {
    "duration": 81,
    "start_time": "2022-10-29T08:37:36.714Z"
   },
   {
    "duration": 33,
    "start_time": "2022-10-29T08:37:36.796Z"
   },
   {
    "duration": 13,
    "start_time": "2022-10-29T08:37:36.831Z"
   },
   {
    "duration": 26,
    "start_time": "2022-10-29T08:37:36.846Z"
   },
   {
    "duration": 16,
    "start_time": "2022-10-29T08:37:36.874Z"
   },
   {
    "duration": 70,
    "start_time": "2022-10-29T08:37:36.892Z"
   },
   {
    "duration": 616,
    "start_time": "2022-10-29T08:37:36.963Z"
   },
   {
    "duration": 701,
    "start_time": "2022-10-29T08:39:52.137Z"
   },
   {
    "duration": 14,
    "start_time": "2022-10-29T08:39:52.840Z"
   },
   {
    "duration": 1849,
    "start_time": "2022-10-29T08:39:52.856Z"
   },
   {
    "duration": 10,
    "start_time": "2022-10-29T08:39:54.707Z"
   },
   {
    "duration": 89,
    "start_time": "2022-10-29T08:39:54.719Z"
   },
   {
    "duration": 25,
    "start_time": "2022-10-29T08:39:54.810Z"
   },
   {
    "duration": 14,
    "start_time": "2022-10-29T08:39:54.836Z"
   },
   {
    "duration": 23,
    "start_time": "2022-10-29T08:39:54.851Z"
   },
   {
    "duration": 47,
    "start_time": "2022-10-29T08:39:54.877Z"
   },
   {
    "duration": 49,
    "start_time": "2022-10-29T08:39:54.926Z"
   },
   {
    "duration": 625,
    "start_time": "2022-10-29T08:39:54.976Z"
   },
   {
    "duration": 6,
    "start_time": "2022-10-29T08:40:35.359Z"
   },
   {
    "duration": 476,
    "start_time": "2022-10-29T08:40:43.766Z"
   },
   {
    "duration": 571,
    "start_time": "2022-10-29T13:55:28.547Z"
   },
   {
    "duration": 492,
    "start_time": "2022-10-29T13:55:40.571Z"
   },
   {
    "duration": 487,
    "start_time": "2022-10-29T13:55:49.699Z"
   },
   {
    "duration": 508,
    "start_time": "2022-10-29T13:55:57.046Z"
   },
   {
    "duration": 464,
    "start_time": "2022-10-29T13:57:20.426Z"
   },
   {
    "duration": 630,
    "start_time": "2022-10-29T15:01:30.586Z"
   },
   {
    "duration": 539,
    "start_time": "2022-10-29T15:01:36.380Z"
   },
   {
    "duration": 585,
    "start_time": "2022-10-29T15:02:27.668Z"
   },
   {
    "duration": 605,
    "start_time": "2022-10-29T15:02:35.404Z"
   },
   {
    "duration": 857,
    "start_time": "2022-10-29T15:54:26.938Z"
   },
   {
    "duration": 13,
    "start_time": "2022-10-29T15:54:27.797Z"
   },
   {
    "duration": 1985,
    "start_time": "2022-10-29T15:54:27.812Z"
   },
   {
    "duration": 11,
    "start_time": "2022-10-29T15:54:29.798Z"
   },
   {
    "duration": 97,
    "start_time": "2022-10-29T15:54:29.811Z"
   },
   {
    "duration": 39,
    "start_time": "2022-10-29T15:54:29.909Z"
   },
   {
    "duration": 12,
    "start_time": "2022-10-29T15:54:29.950Z"
   },
   {
    "duration": 22,
    "start_time": "2022-10-29T15:54:29.963Z"
   },
   {
    "duration": 6,
    "start_time": "2022-10-29T15:54:29.986Z"
   },
   {
    "duration": 85,
    "start_time": "2022-10-29T15:54:29.994Z"
   },
   {
    "duration": 685,
    "start_time": "2022-10-29T15:54:30.081Z"
   },
   {
    "duration": 23,
    "start_time": "2022-10-29T15:56:47.310Z"
   },
   {
    "duration": 561,
    "start_time": "2022-10-29T15:57:04.789Z"
   },
   {
    "duration": 801,
    "start_time": "2022-10-29T15:57:08.805Z"
   },
   {
    "duration": 13,
    "start_time": "2022-10-29T15:57:09.607Z"
   },
   {
    "duration": 1985,
    "start_time": "2022-10-29T15:57:09.628Z"
   },
   {
    "duration": 24,
    "start_time": "2022-10-29T15:57:11.615Z"
   },
   {
    "duration": 122,
    "start_time": "2022-10-29T15:57:11.641Z"
   },
   {
    "duration": 22,
    "start_time": "2022-10-29T15:57:11.764Z"
   },
   {
    "duration": 27,
    "start_time": "2022-10-29T15:57:11.788Z"
   },
   {
    "duration": 44,
    "start_time": "2022-10-29T15:57:11.817Z"
   },
   {
    "duration": 13,
    "start_time": "2022-10-29T15:57:11.863Z"
   },
   {
    "duration": 65,
    "start_time": "2022-10-29T15:57:11.877Z"
   },
   {
    "duration": 646,
    "start_time": "2022-10-29T15:57:11.943Z"
   },
   {
    "duration": 10,
    "start_time": "2022-10-29T15:57:42.378Z"
   },
   {
    "duration": 704,
    "start_time": "2022-10-29T15:58:40.290Z"
   },
   {
    "duration": 30,
    "start_time": "2022-10-29T15:58:40.997Z"
   },
   {
    "duration": 1976,
    "start_time": "2022-10-29T15:58:41.029Z"
   },
   {
    "duration": 14,
    "start_time": "2022-10-29T15:58:43.007Z"
   },
   {
    "duration": 84,
    "start_time": "2022-10-29T15:58:43.033Z"
   },
   {
    "duration": 34,
    "start_time": "2022-10-29T15:58:43.120Z"
   },
   {
    "duration": 14,
    "start_time": "2022-10-29T15:58:43.156Z"
   },
   {
    "duration": 28,
    "start_time": "2022-10-29T15:58:43.172Z"
   },
   {
    "duration": 46,
    "start_time": "2022-10-29T15:58:43.202Z"
   },
   {
    "duration": 60,
    "start_time": "2022-10-29T15:58:43.251Z"
   },
   {
    "duration": 691,
    "start_time": "2022-10-29T15:58:43.313Z"
   },
   {
    "duration": 43,
    "start_time": "2022-10-29T16:02:06.246Z"
   },
   {
    "duration": 63,
    "start_time": "2022-10-29T16:03:13.242Z"
   },
   {
    "duration": 766,
    "start_time": "2022-10-29T16:03:26.752Z"
   },
   {
    "duration": 30,
    "start_time": "2022-10-29T16:03:27.520Z"
   },
   {
    "duration": 2044,
    "start_time": "2022-10-29T16:03:27.552Z"
   },
   {
    "duration": 9,
    "start_time": "2022-10-29T16:03:29.598Z"
   },
   {
    "duration": 82,
    "start_time": "2022-10-29T16:03:29.609Z"
   },
   {
    "duration": 41,
    "start_time": "2022-10-29T16:03:29.692Z"
   },
   {
    "duration": 51,
    "start_time": "2022-10-29T16:03:29.734Z"
   },
   {
    "duration": 47,
    "start_time": "2022-10-29T16:03:29.787Z"
   },
   {
    "duration": 11,
    "start_time": "2022-10-29T16:03:29.837Z"
   },
   {
    "duration": 48,
    "start_time": "2022-10-29T16:03:29.850Z"
   },
   {
    "duration": 689,
    "start_time": "2022-10-29T16:03:29.900Z"
   },
   {
    "duration": 50,
    "start_time": "2022-10-29T16:03:30.590Z"
   },
   {
    "duration": 23,
    "start_time": "2022-10-29T16:05:57.773Z"
   },
   {
    "duration": 41,
    "start_time": "2022-10-29T16:06:10.633Z"
   },
   {
    "duration": 789,
    "start_time": "2022-10-29T16:06:24.309Z"
   },
   {
    "duration": 14,
    "start_time": "2022-10-29T16:06:25.100Z"
   },
   {
    "duration": 2016,
    "start_time": "2022-10-29T16:06:25.127Z"
   },
   {
    "duration": 15,
    "start_time": "2022-10-29T16:06:27.146Z"
   },
   {
    "duration": 103,
    "start_time": "2022-10-29T16:06:27.164Z"
   },
   {
    "duration": 23,
    "start_time": "2022-10-29T16:06:27.269Z"
   },
   {
    "duration": 68,
    "start_time": "2022-10-29T16:06:27.294Z"
   },
   {
    "duration": 94,
    "start_time": "2022-10-29T16:06:27.363Z"
   },
   {
    "duration": 0,
    "start_time": "2022-10-29T16:06:27.461Z"
   },
   {
    "duration": 0,
    "start_time": "2022-10-29T16:06:27.462Z"
   },
   {
    "duration": 0,
    "start_time": "2022-10-29T16:06:27.463Z"
   },
   {
    "duration": 0,
    "start_time": "2022-10-29T16:06:27.465Z"
   },
   {
    "duration": 808,
    "start_time": "2022-10-29T16:07:00.304Z"
   },
   {
    "duration": 27,
    "start_time": "2022-10-29T16:07:01.114Z"
   },
   {
    "duration": 2058,
    "start_time": "2022-10-29T16:07:01.143Z"
   },
   {
    "duration": 8,
    "start_time": "2022-10-29T16:07:03.203Z"
   },
   {
    "duration": 86,
    "start_time": "2022-10-29T16:07:03.213Z"
   },
   {
    "duration": 39,
    "start_time": "2022-10-29T16:07:03.300Z"
   },
   {
    "duration": 55,
    "start_time": "2022-10-29T16:07:03.341Z"
   },
   {
    "duration": 94,
    "start_time": "2022-10-29T16:07:03.397Z"
   },
   {
    "duration": 0,
    "start_time": "2022-10-29T16:07:03.493Z"
   },
   {
    "duration": 0,
    "start_time": "2022-10-29T16:07:03.494Z"
   },
   {
    "duration": 0,
    "start_time": "2022-10-29T16:07:03.495Z"
   },
   {
    "duration": 0,
    "start_time": "2022-10-29T16:07:03.496Z"
   },
   {
    "duration": 761,
    "start_time": "2022-10-29T16:07:50.037Z"
   },
   {
    "duration": 14,
    "start_time": "2022-10-29T16:07:50.800Z"
   },
   {
    "duration": 1978,
    "start_time": "2022-10-29T16:07:50.815Z"
   },
   {
    "duration": 10,
    "start_time": "2022-10-29T16:07:52.794Z"
   },
   {
    "duration": 88,
    "start_time": "2022-10-29T16:07:52.806Z"
   },
   {
    "duration": 37,
    "start_time": "2022-10-29T16:07:52.896Z"
   },
   {
    "duration": 49,
    "start_time": "2022-10-29T16:07:52.935Z"
   },
   {
    "duration": 20,
    "start_time": "2022-10-29T16:07:52.986Z"
   },
   {
    "duration": 33,
    "start_time": "2022-10-29T16:07:53.008Z"
   },
   {
    "duration": 50,
    "start_time": "2022-10-29T16:07:53.042Z"
   },
   {
    "duration": 678,
    "start_time": "2022-10-29T16:07:53.093Z"
   },
   {
    "duration": 38,
    "start_time": "2022-10-29T16:07:53.773Z"
   },
   {
    "duration": 781,
    "start_time": "2022-10-29T16:09:11.083Z"
   },
   {
    "duration": 15,
    "start_time": "2022-10-29T16:09:11.866Z"
   },
   {
    "duration": 2054,
    "start_time": "2022-10-29T16:09:11.882Z"
   },
   {
    "duration": 14,
    "start_time": "2022-10-29T16:09:13.938Z"
   },
   {
    "duration": 89,
    "start_time": "2022-10-29T16:09:13.954Z"
   },
   {
    "duration": 22,
    "start_time": "2022-10-29T16:09:14.044Z"
   },
   {
    "duration": 68,
    "start_time": "2022-10-29T16:09:14.067Z"
   },
   {
    "duration": 20,
    "start_time": "2022-10-29T16:09:14.137Z"
   },
   {
    "duration": 11,
    "start_time": "2022-10-29T16:09:14.159Z"
   },
   {
    "duration": 83,
    "start_time": "2022-10-29T16:09:14.171Z"
   },
   {
    "duration": 701,
    "start_time": "2022-10-29T16:09:14.255Z"
   },
   {
    "duration": 45,
    "start_time": "2022-10-29T16:09:14.958Z"
   },
   {
    "duration": 7,
    "start_time": "2022-10-29T16:09:47.337Z"
   },
   {
    "duration": 17,
    "start_time": "2022-10-29T16:10:39.902Z"
   },
   {
    "duration": 12,
    "start_time": "2022-10-29T16:10:54.746Z"
   },
   {
    "duration": 9,
    "start_time": "2022-10-29T16:11:00.153Z"
   },
   {
    "duration": 9,
    "start_time": "2022-10-29T16:11:05.571Z"
   },
   {
    "duration": 6,
    "start_time": "2022-10-29T16:12:48.546Z"
   },
   {
    "duration": 45,
    "start_time": "2022-10-29T16:13:17.728Z"
   },
   {
    "duration": 7,
    "start_time": "2022-10-29T16:13:24.309Z"
   },
   {
    "duration": 8,
    "start_time": "2022-10-29T16:13:54.789Z"
   },
   {
    "duration": 6,
    "start_time": "2022-10-29T16:14:06.709Z"
   },
   {
    "duration": 8,
    "start_time": "2022-10-29T16:14:15.011Z"
   },
   {
    "duration": 7,
    "start_time": "2022-10-29T16:14:32.238Z"
   },
   {
    "duration": 12,
    "start_time": "2022-10-29T16:14:46.417Z"
   },
   {
    "duration": 7,
    "start_time": "2022-10-29T16:14:58.199Z"
   },
   {
    "duration": 10,
    "start_time": "2022-10-29T16:18:07.404Z"
   },
   {
    "duration": 15,
    "start_time": "2022-10-29T16:18:19.001Z"
   },
   {
    "duration": 707,
    "start_time": "2022-10-29T16:18:25.763Z"
   },
   {
    "duration": 14,
    "start_time": "2022-10-29T16:18:26.472Z"
   },
   {
    "duration": 1898,
    "start_time": "2022-10-29T16:18:26.487Z"
   },
   {
    "duration": 9,
    "start_time": "2022-10-29T16:18:28.387Z"
   },
   {
    "duration": 80,
    "start_time": "2022-10-29T16:18:28.398Z"
   },
   {
    "duration": 22,
    "start_time": "2022-10-29T16:18:28.479Z"
   },
   {
    "duration": 73,
    "start_time": "2022-10-29T16:18:28.503Z"
   },
   {
    "duration": 24,
    "start_time": "2022-10-29T16:18:28.579Z"
   },
   {
    "duration": 36,
    "start_time": "2022-10-29T16:18:28.605Z"
   },
   {
    "duration": 48,
    "start_time": "2022-10-29T16:18:28.643Z"
   },
   {
    "duration": 743,
    "start_time": "2022-10-29T16:18:28.693Z"
   },
   {
    "duration": 42,
    "start_time": "2022-10-29T16:18:29.440Z"
   },
   {
    "duration": 6,
    "start_time": "2022-10-29T16:18:29.484Z"
   },
   {
    "duration": 13,
    "start_time": "2022-10-29T16:18:35.336Z"
   },
   {
    "duration": 71,
    "start_time": "2022-10-29T16:20:27.237Z"
   },
   {
    "duration": 11,
    "start_time": "2022-10-29T16:26:39.733Z"
   },
   {
    "duration": 4,
    "start_time": "2022-10-29T16:27:12.290Z"
   },
   {
    "duration": 6,
    "start_time": "2022-10-29T16:27:46.889Z"
   },
   {
    "duration": 741,
    "start_time": "2022-10-29T16:27:57.655Z"
   },
   {
    "duration": 26,
    "start_time": "2022-10-29T16:27:58.398Z"
   },
   {
    "duration": 1944,
    "start_time": "2022-10-29T16:27:58.429Z"
   },
   {
    "duration": 10,
    "start_time": "2022-10-29T16:28:00.374Z"
   },
   {
    "duration": 88,
    "start_time": "2022-10-29T16:28:00.386Z"
   },
   {
    "duration": 20,
    "start_time": "2022-10-29T16:28:00.476Z"
   },
   {
    "duration": 90,
    "start_time": "2022-10-29T16:28:00.497Z"
   },
   {
    "duration": 20,
    "start_time": "2022-10-29T16:28:00.588Z"
   },
   {
    "duration": 27,
    "start_time": "2022-10-29T16:28:00.610Z"
   },
   {
    "duration": 44,
    "start_time": "2022-10-29T16:28:00.638Z"
   },
   {
    "duration": 674,
    "start_time": "2022-10-29T16:28:00.683Z"
   },
   {
    "duration": 40,
    "start_time": "2022-10-29T16:28:01.359Z"
   },
   {
    "duration": 36,
    "start_time": "2022-10-29T16:28:01.401Z"
   },
   {
    "duration": 761,
    "start_time": "2022-10-29T16:28:17.057Z"
   },
   {
    "duration": 25,
    "start_time": "2022-10-29T16:28:17.823Z"
   },
   {
    "duration": 1928,
    "start_time": "2022-10-29T16:28:17.849Z"
   },
   {
    "duration": 9,
    "start_time": "2022-10-29T16:28:19.778Z"
   },
   {
    "duration": 83,
    "start_time": "2022-10-29T16:28:19.789Z"
   },
   {
    "duration": 21,
    "start_time": "2022-10-29T16:28:19.874Z"
   },
   {
    "duration": 70,
    "start_time": "2022-10-29T16:28:19.897Z"
   },
   {
    "duration": 21,
    "start_time": "2022-10-29T16:28:19.968Z"
   },
   {
    "duration": 12,
    "start_time": "2022-10-29T16:28:19.990Z"
   },
   {
    "duration": 84,
    "start_time": "2022-10-29T16:28:20.003Z"
   },
   {
    "duration": 654,
    "start_time": "2022-10-29T16:28:20.088Z"
   },
   {
    "duration": 46,
    "start_time": "2022-10-29T16:28:20.743Z"
   },
   {
    "duration": 17,
    "start_time": "2022-10-29T16:28:20.790Z"
   },
   {
    "duration": 26,
    "start_time": "2022-10-29T16:30:24.876Z"
   },
   {
    "duration": 719,
    "start_time": "2022-10-29T16:30:52.070Z"
   },
   {
    "duration": 15,
    "start_time": "2022-10-29T16:30:52.791Z"
   },
   {
    "duration": 1870,
    "start_time": "2022-10-29T16:30:52.807Z"
   },
   {
    "duration": 10,
    "start_time": "2022-10-29T16:30:54.678Z"
   },
   {
    "duration": 87,
    "start_time": "2022-10-29T16:30:54.690Z"
   },
   {
    "duration": 21,
    "start_time": "2022-10-29T16:30:54.778Z"
   },
   {
    "duration": 65,
    "start_time": "2022-10-29T16:30:54.801Z"
   },
   {
    "duration": 23,
    "start_time": "2022-10-29T16:30:54.867Z"
   },
   {
    "duration": 12,
    "start_time": "2022-10-29T16:30:54.891Z"
   },
   {
    "duration": 59,
    "start_time": "2022-10-29T16:30:54.923Z"
   },
   {
    "duration": 651,
    "start_time": "2022-10-29T16:30:54.983Z"
   },
   {
    "duration": 43,
    "start_time": "2022-10-29T16:30:55.636Z"
   },
   {
    "duration": 19,
    "start_time": "2022-10-29T16:30:55.681Z"
   },
   {
    "duration": 861,
    "start_time": "2022-10-29T16:31:08.685Z"
   },
   {
    "duration": 14,
    "start_time": "2022-10-29T16:31:09.549Z"
   },
   {
    "duration": 1948,
    "start_time": "2022-10-29T16:31:09.565Z"
   },
   {
    "duration": 11,
    "start_time": "2022-10-29T16:31:11.514Z"
   },
   {
    "duration": 111,
    "start_time": "2022-10-29T16:31:11.527Z"
   },
   {
    "duration": 32,
    "start_time": "2022-10-29T16:31:11.640Z"
   },
   {
    "duration": 83,
    "start_time": "2022-10-29T16:31:11.674Z"
   },
   {
    "duration": 29,
    "start_time": "2022-10-29T16:31:11.759Z"
   },
   {
    "duration": 10,
    "start_time": "2022-10-29T16:31:11.789Z"
   },
   {
    "duration": 53,
    "start_time": "2022-10-29T16:31:11.826Z"
   },
   {
    "duration": 651,
    "start_time": "2022-10-29T16:31:11.880Z"
   },
   {
    "duration": 38,
    "start_time": "2022-10-29T16:31:12.538Z"
   },
   {
    "duration": 16,
    "start_time": "2022-10-29T16:31:12.578Z"
   },
   {
    "duration": 766,
    "start_time": "2022-10-29T16:31:43.187Z"
   },
   {
    "duration": 14,
    "start_time": "2022-10-29T16:31:43.956Z"
   },
   {
    "duration": 1948,
    "start_time": "2022-10-29T16:31:43.972Z"
   },
   {
    "duration": 12,
    "start_time": "2022-10-29T16:31:45.922Z"
   },
   {
    "duration": 112,
    "start_time": "2022-10-29T16:31:45.936Z"
   },
   {
    "duration": 21,
    "start_time": "2022-10-29T16:31:46.049Z"
   },
   {
    "duration": 79,
    "start_time": "2022-10-29T16:31:46.072Z"
   },
   {
    "duration": 21,
    "start_time": "2022-10-29T16:31:46.153Z"
   },
   {
    "duration": 10,
    "start_time": "2022-10-29T16:31:46.176Z"
   },
   {
    "duration": 79,
    "start_time": "2022-10-29T16:31:46.188Z"
   },
   {
    "duration": 635,
    "start_time": "2022-10-29T16:31:46.268Z"
   },
   {
    "duration": 48,
    "start_time": "2022-10-29T16:31:46.905Z"
   },
   {
    "duration": 10,
    "start_time": "2022-10-29T16:31:46.955Z"
   },
   {
    "duration": 8,
    "start_time": "2022-10-29T16:31:46.968Z"
   },
   {
    "duration": 19,
    "start_time": "2022-10-29T16:34:43.721Z"
   },
   {
    "duration": 706,
    "start_time": "2022-10-29T16:34:55.370Z"
   },
   {
    "duration": 13,
    "start_time": "2022-10-29T16:34:56.078Z"
   },
   {
    "duration": 1908,
    "start_time": "2022-10-29T16:34:56.093Z"
   },
   {
    "duration": 10,
    "start_time": "2022-10-29T16:34:58.002Z"
   },
   {
    "duration": 95,
    "start_time": "2022-10-29T16:34:58.014Z"
   },
   {
    "duration": 29,
    "start_time": "2022-10-29T16:34:58.110Z"
   },
   {
    "duration": 79,
    "start_time": "2022-10-29T16:34:58.141Z"
   },
   {
    "duration": 33,
    "start_time": "2022-10-29T16:34:58.223Z"
   },
   {
    "duration": 10,
    "start_time": "2022-10-29T16:34:58.257Z"
   },
   {
    "duration": 70,
    "start_time": "2022-10-29T16:34:58.269Z"
   },
   {
    "duration": 702,
    "start_time": "2022-10-29T16:34:58.341Z"
   },
   {
    "duration": 64,
    "start_time": "2022-10-29T16:34:59.047Z"
   },
   {
    "duration": 32,
    "start_time": "2022-10-29T16:34:59.113Z"
   },
   {
    "duration": 14,
    "start_time": "2022-10-29T16:34:59.148Z"
   },
   {
    "duration": 8,
    "start_time": "2022-10-29T16:37:17.208Z"
   },
   {
    "duration": 751,
    "start_time": "2022-10-29T16:40:14.117Z"
   },
   {
    "duration": 17,
    "start_time": "2022-10-29T16:40:14.870Z"
   },
   {
    "duration": 1996,
    "start_time": "2022-10-29T16:40:14.889Z"
   },
   {
    "duration": 10,
    "start_time": "2022-10-29T16:40:16.887Z"
   },
   {
    "duration": 98,
    "start_time": "2022-10-29T16:40:16.898Z"
   },
   {
    "duration": 29,
    "start_time": "2022-10-29T16:40:16.997Z"
   },
   {
    "duration": 62,
    "start_time": "2022-10-29T16:40:17.027Z"
   },
   {
    "duration": 32,
    "start_time": "2022-10-29T16:40:17.091Z"
   },
   {
    "duration": 23,
    "start_time": "2022-10-29T16:40:17.126Z"
   },
   {
    "duration": 46,
    "start_time": "2022-10-29T16:40:17.151Z"
   },
   {
    "duration": 695,
    "start_time": "2022-10-29T16:40:17.199Z"
   },
   {
    "duration": 50,
    "start_time": "2022-10-29T16:40:17.895Z"
   },
   {
    "duration": 5,
    "start_time": "2022-10-29T16:40:17.947Z"
   },
   {
    "duration": 6,
    "start_time": "2022-10-29T16:40:39.696Z"
   },
   {
    "duration": 7,
    "start_time": "2022-10-29T16:41:01.467Z"
   },
   {
    "duration": 761,
    "start_time": "2022-10-29T16:41:23.813Z"
   },
   {
    "duration": 15,
    "start_time": "2022-10-29T16:41:24.575Z"
   },
   {
    "duration": 1950,
    "start_time": "2022-10-29T16:41:24.591Z"
   },
   {
    "duration": 8,
    "start_time": "2022-10-29T16:41:26.543Z"
   },
   {
    "duration": 83,
    "start_time": "2022-10-29T16:41:26.553Z"
   },
   {
    "duration": 23,
    "start_time": "2022-10-29T16:41:26.638Z"
   },
   {
    "duration": 69,
    "start_time": "2022-10-29T16:41:26.662Z"
   },
   {
    "duration": 25,
    "start_time": "2022-10-29T16:41:26.734Z"
   },
   {
    "duration": 14,
    "start_time": "2022-10-29T16:41:26.760Z"
   },
   {
    "duration": 67,
    "start_time": "2022-10-29T16:41:26.776Z"
   },
   {
    "duration": 654,
    "start_time": "2022-10-29T16:41:26.845Z"
   },
   {
    "duration": 53,
    "start_time": "2022-10-29T16:41:27.501Z"
   },
   {
    "duration": 6,
    "start_time": "2022-10-29T16:41:27.556Z"
   },
   {
    "duration": 30,
    "start_time": "2022-10-29T16:41:27.564Z"
   },
   {
    "duration": 7,
    "start_time": "2022-10-29T16:42:49.603Z"
   },
   {
    "duration": 34,
    "start_time": "2022-10-29T16:43:16.595Z"
   },
   {
    "duration": 7,
    "start_time": "2022-10-29T16:43:39.936Z"
   },
   {
    "duration": 6,
    "start_time": "2022-10-29T16:44:09.409Z"
   },
   {
    "duration": 20,
    "start_time": "2022-10-29T16:44:43.049Z"
   },
   {
    "duration": 6,
    "start_time": "2022-10-29T16:45:18.241Z"
   },
   {
    "duration": 10,
    "start_time": "2022-10-29T16:45:35.360Z"
   },
   {
    "duration": 7,
    "start_time": "2022-10-29T16:45:56.837Z"
   },
   {
    "duration": 6,
    "start_time": "2022-10-29T16:46:09.977Z"
   },
   {
    "duration": 57,
    "start_time": "2022-10-29T16:48:09.988Z"
   },
   {
    "duration": 55,
    "start_time": "2022-10-29T16:48:38.103Z"
   },
   {
    "duration": 9,
    "start_time": "2022-10-29T16:48:43.153Z"
   },
   {
    "duration": 11,
    "start_time": "2022-10-29T16:49:14.839Z"
   },
   {
    "duration": 42,
    "start_time": "2022-10-29T16:50:19.694Z"
   },
   {
    "duration": 17,
    "start_time": "2022-10-29T16:51:45.619Z"
   },
   {
    "duration": 51,
    "start_time": "2022-10-31T07:18:54.627Z"
   },
   {
    "duration": 1129,
    "start_time": "2022-10-31T07:18:59.445Z"
   },
   {
    "duration": 24,
    "start_time": "2022-10-31T07:19:00.577Z"
   },
   {
    "duration": 1801,
    "start_time": "2022-10-31T07:19:00.603Z"
   },
   {
    "duration": 9,
    "start_time": "2022-10-31T07:19:02.406Z"
   },
   {
    "duration": 77,
    "start_time": "2022-10-31T07:19:02.417Z"
   },
   {
    "duration": 31,
    "start_time": "2022-10-31T07:19:02.495Z"
   },
   {
    "duration": 46,
    "start_time": "2022-10-31T07:19:02.527Z"
   },
   {
    "duration": 37,
    "start_time": "2022-10-31T07:19:02.575Z"
   },
   {
    "duration": 13,
    "start_time": "2022-10-31T07:19:02.614Z"
   },
   {
    "duration": 50,
    "start_time": "2022-10-31T07:19:02.628Z"
   },
   {
    "duration": 655,
    "start_time": "2022-10-31T07:19:02.680Z"
   },
   {
    "duration": 38,
    "start_time": "2022-10-31T07:19:03.337Z"
   },
   {
    "duration": 5,
    "start_time": "2022-10-31T07:19:03.376Z"
   },
   {
    "duration": 28,
    "start_time": "2022-10-31T07:19:03.383Z"
   },
   {
    "duration": 3,
    "start_time": "2022-10-31T07:19:03.412Z"
   },
   {
    "duration": 43,
    "start_time": "2022-10-31T07:19:03.416Z"
   },
   {
    "duration": 4,
    "start_time": "2022-10-31T07:21:14.778Z"
   },
   {
    "duration": 41,
    "start_time": "2022-10-31T07:21:18.148Z"
   },
   {
    "duration": 3,
    "start_time": "2022-10-31T07:22:41.227Z"
   },
   {
    "duration": 4,
    "start_time": "2022-10-31T07:23:06.004Z"
   },
   {
    "duration": 39,
    "start_time": "2022-10-31T07:24:28.291Z"
   },
   {
    "duration": 6,
    "start_time": "2022-10-31T07:24:39.800Z"
   },
   {
    "duration": 40,
    "start_time": "2022-10-31T07:27:07.672Z"
   },
   {
    "duration": 5,
    "start_time": "2022-10-31T07:32:46.012Z"
   },
   {
    "duration": 39,
    "start_time": "2022-10-31T07:32:50.982Z"
   },
   {
    "duration": 5,
    "start_time": "2022-10-31T07:33:39.870Z"
   },
   {
    "duration": 3,
    "start_time": "2022-10-31T07:34:14.804Z"
   },
   {
    "duration": 5,
    "start_time": "2022-10-31T07:35:25.996Z"
   },
   {
    "duration": 44,
    "start_time": "2022-10-31T07:35:31.620Z"
   },
   {
    "duration": 5,
    "start_time": "2022-10-31T07:35:48.876Z"
   },
   {
    "duration": 749,
    "start_time": "2022-10-31T07:35:54.368Z"
   },
   {
    "duration": 15,
    "start_time": "2022-10-31T07:35:55.119Z"
   },
   {
    "duration": 1856,
    "start_time": "2022-10-31T07:35:55.136Z"
   },
   {
    "duration": 10,
    "start_time": "2022-10-31T07:35:56.997Z"
   },
   {
    "duration": 100,
    "start_time": "2022-10-31T07:35:57.009Z"
   },
   {
    "duration": 22,
    "start_time": "2022-10-31T07:35:57.111Z"
   },
   {
    "duration": 75,
    "start_time": "2022-10-31T07:35:57.134Z"
   },
   {
    "duration": 26,
    "start_time": "2022-10-31T07:35:57.211Z"
   },
   {
    "duration": 16,
    "start_time": "2022-10-31T07:35:57.239Z"
   },
   {
    "duration": 81,
    "start_time": "2022-10-31T07:35:57.258Z"
   },
   {
    "duration": 696,
    "start_time": "2022-10-31T07:35:57.341Z"
   },
   {
    "duration": 41,
    "start_time": "2022-10-31T07:35:58.039Z"
   },
   {
    "duration": 5,
    "start_time": "2022-10-31T07:35:58.082Z"
   },
   {
    "duration": 28,
    "start_time": "2022-10-31T07:35:58.088Z"
   },
   {
    "duration": 30,
    "start_time": "2022-10-31T07:35:58.118Z"
   },
   {
    "duration": 17,
    "start_time": "2022-10-31T07:35:58.149Z"
   },
   {
    "duration": 50,
    "start_time": "2022-10-31T07:35:58.168Z"
   },
   {
    "duration": 6,
    "start_time": "2022-10-31T07:36:34.449Z"
   },
   {
    "duration": 38,
    "start_time": "2022-10-31T07:36:37.031Z"
   },
   {
    "duration": 5,
    "start_time": "2022-10-31T07:36:51.589Z"
   },
   {
    "duration": 76,
    "start_time": "2022-10-31T07:40:26.506Z"
   },
   {
    "duration": 38,
    "start_time": "2022-10-31T07:40:31.466Z"
   },
   {
    "duration": 41,
    "start_time": "2022-10-31T07:44:27.973Z"
   },
   {
    "duration": 914,
    "start_time": "2022-10-31T07:46:02.988Z"
   },
   {
    "duration": 1181,
    "start_time": "2022-10-31T07:46:24.167Z"
   },
   {
    "duration": 89,
    "start_time": "2022-10-31T07:51:19.640Z"
   },
   {
    "duration": 93,
    "start_time": "2022-10-31T07:51:27.244Z"
   },
   {
    "duration": 721,
    "start_time": "2022-10-31T07:51:32.842Z"
   },
   {
    "duration": 13,
    "start_time": "2022-10-31T07:51:33.565Z"
   },
   {
    "duration": 1872,
    "start_time": "2022-10-31T07:51:33.580Z"
   },
   {
    "duration": 9,
    "start_time": "2022-10-31T07:51:35.454Z"
   },
   {
    "duration": 86,
    "start_time": "2022-10-31T07:51:35.465Z"
   },
   {
    "duration": 21,
    "start_time": "2022-10-31T07:51:35.553Z"
   },
   {
    "duration": 62,
    "start_time": "2022-10-31T07:51:35.576Z"
   },
   {
    "duration": 22,
    "start_time": "2022-10-31T07:51:35.639Z"
   },
   {
    "duration": 14,
    "start_time": "2022-10-31T07:51:35.663Z"
   },
   {
    "duration": 74,
    "start_time": "2022-10-31T07:51:35.678Z"
   },
   {
    "duration": 651,
    "start_time": "2022-10-31T07:51:35.753Z"
   },
   {
    "duration": 41,
    "start_time": "2022-10-31T07:51:36.406Z"
   },
   {
    "duration": 4,
    "start_time": "2022-10-31T07:51:36.449Z"
   },
   {
    "duration": 11,
    "start_time": "2022-10-31T07:51:36.455Z"
   },
   {
    "duration": 5,
    "start_time": "2022-10-31T07:51:36.468Z"
   },
   {
    "duration": 8,
    "start_time": "2022-10-31T07:51:36.474Z"
   },
   {
    "duration": 6,
    "start_time": "2022-10-31T07:51:36.508Z"
   },
   {
    "duration": 8,
    "start_time": "2022-10-31T07:51:36.515Z"
   },
   {
    "duration": 176,
    "start_time": "2022-10-31T07:51:36.525Z"
   },
   {
    "duration": 36,
    "start_time": "2022-10-31T07:53:23.931Z"
   },
   {
    "duration": 48,
    "start_time": "2022-10-31T08:00:34.431Z"
   },
   {
    "duration": 87,
    "start_time": "2022-10-31T08:00:38.150Z"
   },
   {
    "duration": 736,
    "start_time": "2022-10-31T08:00:46.270Z"
   },
   {
    "duration": 15,
    "start_time": "2022-10-31T08:00:47.007Z"
   },
   {
    "duration": 1832,
    "start_time": "2022-10-31T08:00:47.024Z"
   },
   {
    "duration": 9,
    "start_time": "2022-10-31T08:00:48.859Z"
   },
   {
    "duration": 80,
    "start_time": "2022-10-31T08:00:48.869Z"
   },
   {
    "duration": 22,
    "start_time": "2022-10-31T08:00:48.951Z"
   },
   {
    "duration": 61,
    "start_time": "2022-10-31T08:00:48.974Z"
   },
   {
    "duration": 22,
    "start_time": "2022-10-31T08:00:49.037Z"
   },
   {
    "duration": 14,
    "start_time": "2022-10-31T08:00:49.060Z"
   },
   {
    "duration": 95,
    "start_time": "2022-10-31T08:00:49.076Z"
   },
   {
    "duration": 672,
    "start_time": "2022-10-31T08:00:49.174Z"
   },
   {
    "duration": 37,
    "start_time": "2022-10-31T08:00:49.848Z"
   },
   {
    "duration": 5,
    "start_time": "2022-10-31T08:00:49.886Z"
   },
   {
    "duration": 8,
    "start_time": "2022-10-31T08:00:49.909Z"
   },
   {
    "duration": 4,
    "start_time": "2022-10-31T08:00:49.918Z"
   },
   {
    "duration": 7,
    "start_time": "2022-10-31T08:00:49.924Z"
   },
   {
    "duration": 5,
    "start_time": "2022-10-31T08:00:49.933Z"
   },
   {
    "duration": 7,
    "start_time": "2022-10-31T08:00:49.939Z"
   },
   {
    "duration": 180,
    "start_time": "2022-10-31T08:00:49.948Z"
   },
   {
    "duration": 39,
    "start_time": "2022-10-31T08:03:10.282Z"
   },
   {
    "duration": 96,
    "start_time": "2022-10-31T08:05:41.642Z"
   },
   {
    "duration": 2061,
    "start_time": "2022-10-31T08:06:35.255Z"
   },
   {
    "duration": 2055,
    "start_time": "2022-10-31T08:07:00.594Z"
   },
   {
    "duration": 1983,
    "start_time": "2022-10-31T08:07:29.019Z"
   },
   {
    "duration": 2886,
    "start_time": "2022-10-31T08:08:13.778Z"
   },
   {
    "duration": 1968,
    "start_time": "2022-10-31T08:08:21.129Z"
   },
   {
    "duration": 1968,
    "start_time": "2022-10-31T08:08:45.705Z"
   },
   {
    "duration": 1999,
    "start_time": "2022-10-31T08:08:55.496Z"
   },
   {
    "duration": 349,
    "start_time": "2022-10-31T08:24:47.888Z"
   },
   {
    "duration": 329,
    "start_time": "2022-10-31T08:24:56.118Z"
   },
   {
    "duration": 312,
    "start_time": "2022-10-31T08:25:31.037Z"
   },
   {
    "duration": 305,
    "start_time": "2022-10-31T08:25:42.527Z"
   },
   {
    "duration": 374,
    "start_time": "2022-10-31T08:25:46.407Z"
   },
   {
    "duration": 335,
    "start_time": "2022-10-31T08:25:53.735Z"
   },
   {
    "duration": 291,
    "start_time": "2022-10-31T08:26:03.064Z"
   },
   {
    "duration": 310,
    "start_time": "2022-10-31T08:26:43.494Z"
   },
   {
    "duration": 384,
    "start_time": "2022-10-31T08:27:08.165Z"
   },
   {
    "duration": 290,
    "start_time": "2022-10-31T08:27:26.654Z"
   },
   {
    "duration": 291,
    "start_time": "2022-10-31T08:27:31.765Z"
   },
   {
    "duration": 281,
    "start_time": "2022-10-31T08:27:37.686Z"
   },
   {
    "duration": 782,
    "start_time": "2022-10-31T08:27:46.989Z"
   },
   {
    "duration": 14,
    "start_time": "2022-10-31T08:27:47.772Z"
   },
   {
    "duration": 1820,
    "start_time": "2022-10-31T08:27:47.788Z"
   },
   {
    "duration": 9,
    "start_time": "2022-10-31T08:27:49.610Z"
   },
   {
    "duration": 102,
    "start_time": "2022-10-31T08:27:49.621Z"
   },
   {
    "duration": 22,
    "start_time": "2022-10-31T08:27:49.724Z"
   },
   {
    "duration": 65,
    "start_time": "2022-10-31T08:27:49.748Z"
   },
   {
    "duration": 27,
    "start_time": "2022-10-31T08:27:49.815Z"
   },
   {
    "duration": 19,
    "start_time": "2022-10-31T08:27:49.844Z"
   },
   {
    "duration": 83,
    "start_time": "2022-10-31T08:27:49.865Z"
   },
   {
    "duration": 669,
    "start_time": "2022-10-31T08:27:49.949Z"
   },
   {
    "duration": 39,
    "start_time": "2022-10-31T08:27:50.620Z"
   },
   {
    "duration": 79,
    "start_time": "2022-10-31T08:27:50.661Z"
   },
   {
    "duration": 27,
    "start_time": "2022-10-31T08:27:50.742Z"
   },
   {
    "duration": 13,
    "start_time": "2022-10-31T08:27:50.771Z"
   },
   {
    "duration": 12,
    "start_time": "2022-10-31T08:27:50.785Z"
   },
   {
    "duration": 8,
    "start_time": "2022-10-31T08:27:50.799Z"
   },
   {
    "duration": 13,
    "start_time": "2022-10-31T08:27:50.810Z"
   },
   {
    "duration": 305,
    "start_time": "2022-10-31T08:27:50.825Z"
   },
   {
    "duration": 2,
    "start_time": "2022-10-31T08:28:44.750Z"
   },
   {
    "duration": 3,
    "start_time": "2022-10-31T08:28:47.541Z"
   },
   {
    "duration": 35,
    "start_time": "2022-10-31T08:29:55.604Z"
   },
   {
    "duration": 6,
    "start_time": "2022-10-31T08:31:26.449Z"
   },
   {
    "duration": 4,
    "start_time": "2022-10-31T08:32:03.788Z"
   },
   {
    "duration": 6,
    "start_time": "2022-10-31T08:32:10.300Z"
   },
   {
    "duration": 5,
    "start_time": "2022-10-31T08:35:31.721Z"
   },
   {
    "duration": 8,
    "start_time": "2022-10-31T08:35:38.969Z"
   },
   {
    "duration": 38,
    "start_time": "2022-10-31T08:35:52.395Z"
   },
   {
    "duration": 4,
    "start_time": "2022-10-31T08:36:09.274Z"
   },
   {
    "duration": 757,
    "start_time": "2022-10-31T08:36:17.698Z"
   },
   {
    "duration": 15,
    "start_time": "2022-10-31T08:36:18.457Z"
   },
   {
    "duration": 1827,
    "start_time": "2022-10-31T08:36:18.473Z"
   },
   {
    "duration": 9,
    "start_time": "2022-10-31T08:36:20.301Z"
   },
   {
    "duration": 77,
    "start_time": "2022-10-31T08:36:20.312Z"
   },
   {
    "duration": 37,
    "start_time": "2022-10-31T08:36:20.390Z"
   },
   {
    "duration": 47,
    "start_time": "2022-10-31T08:36:20.429Z"
   },
   {
    "duration": 43,
    "start_time": "2022-10-31T08:36:20.478Z"
   },
   {
    "duration": 14,
    "start_time": "2022-10-31T08:36:20.522Z"
   },
   {
    "duration": 50,
    "start_time": "2022-10-31T08:36:20.538Z"
   },
   {
    "duration": 641,
    "start_time": "2022-10-31T08:36:20.590Z"
   },
   {
    "duration": 39,
    "start_time": "2022-10-31T08:36:21.232Z"
   },
   {
    "duration": 4,
    "start_time": "2022-10-31T08:36:21.273Z"
   },
   {
    "duration": 7,
    "start_time": "2022-10-31T08:36:21.280Z"
   },
   {
    "duration": 4,
    "start_time": "2022-10-31T08:36:21.308Z"
   },
   {
    "duration": 9,
    "start_time": "2022-10-31T08:36:21.313Z"
   },
   {
    "duration": 5,
    "start_time": "2022-10-31T08:36:21.324Z"
   },
   {
    "duration": 4,
    "start_time": "2022-10-31T08:36:21.330Z"
   },
   {
    "duration": 303,
    "start_time": "2022-10-31T08:36:21.336Z"
   },
   {
    "duration": 5,
    "start_time": "2022-10-31T08:36:21.640Z"
   },
   {
    "duration": 43,
    "start_time": "2022-10-31T10:06:07.899Z"
   },
   {
    "duration": 118,
    "start_time": "2022-10-31T10:06:34.369Z"
   },
   {
    "duration": 110,
    "start_time": "2022-10-31T10:06:44.702Z"
   },
   {
    "duration": 83,
    "start_time": "2022-10-31T10:08:12.501Z"
   },
   {
    "duration": 113,
    "start_time": "2022-10-31T10:11:49.179Z"
   },
   {
    "duration": 104,
    "start_time": "2022-10-31T10:14:51.988Z"
   },
   {
    "duration": 49,
    "start_time": "2022-10-31T10:15:44.329Z"
   },
   {
    "duration": 174,
    "start_time": "2022-10-31T10:17:04.233Z"
   },
   {
    "duration": 37,
    "start_time": "2022-10-31T10:17:37.072Z"
   },
   {
    "duration": 127,
    "start_time": "2022-10-31T10:20:05.701Z"
   },
   {
    "duration": 122,
    "start_time": "2022-10-31T10:20:58.060Z"
   },
   {
    "duration": 260,
    "start_time": "2022-10-31T10:22:32.475Z"
   },
   {
    "duration": 1005,
    "start_time": "2022-10-31T10:22:47.651Z"
   },
   {
    "duration": 47,
    "start_time": "2022-10-31T10:27:02.696Z"
   },
   {
    "duration": 1049,
    "start_time": "2022-10-31T10:27:16.410Z"
   },
   {
    "duration": 964,
    "start_time": "2022-10-31T10:27:28.323Z"
   },
   {
    "duration": 953,
    "start_time": "2022-10-31T10:27:32.410Z"
   },
   {
    "duration": 1040,
    "start_time": "2022-10-31T10:27:39.762Z"
   },
   {
    "duration": 933,
    "start_time": "2022-10-31T10:27:50.634Z"
   },
   {
    "duration": 268,
    "start_time": "2022-10-31T10:28:50.801Z"
   },
   {
    "duration": 497,
    "start_time": "2022-10-31T10:29:03.881Z"
   },
   {
    "duration": 206,
    "start_time": "2022-10-31T10:33:36.062Z"
   },
   {
    "duration": 118,
    "start_time": "2022-10-31T10:33:40.191Z"
   },
   {
    "duration": 130,
    "start_time": "2022-10-31T10:34:01.773Z"
   },
   {
    "duration": 119,
    "start_time": "2022-10-31T10:36:36.916Z"
   },
   {
    "duration": 8,
    "start_time": "2022-10-31T10:42:05.934Z"
   },
   {
    "duration": 120,
    "start_time": "2022-10-31T10:42:17.785Z"
   },
   {
    "duration": 85,
    "start_time": "2022-10-31T10:42:24.752Z"
   },
   {
    "duration": 7,
    "start_time": "2022-10-31T10:42:48.664Z"
   },
   {
    "duration": 118,
    "start_time": "2022-10-31T10:43:21.830Z"
   },
   {
    "duration": 136,
    "start_time": "2022-10-31T10:43:54.904Z"
   },
   {
    "duration": 128,
    "start_time": "2022-10-31T10:46:16.774Z"
   },
   {
    "duration": 123,
    "start_time": "2022-10-31T10:47:01.659Z"
   },
   {
    "duration": 119,
    "start_time": "2022-10-31T10:51:15.491Z"
   },
   {
    "duration": 143,
    "start_time": "2022-10-31T10:51:28.843Z"
   },
   {
    "duration": 122,
    "start_time": "2022-10-31T10:51:37.931Z"
   },
   {
    "duration": 122,
    "start_time": "2022-10-31T10:51:43.788Z"
   },
   {
    "duration": 122,
    "start_time": "2022-10-31T10:51:58.307Z"
   },
   {
    "duration": 142,
    "start_time": "2022-10-31T10:52:05.299Z"
   },
   {
    "duration": 135,
    "start_time": "2022-10-31T10:53:20.528Z"
   },
   {
    "duration": 136,
    "start_time": "2022-10-31T10:53:27.674Z"
   },
   {
    "duration": 126,
    "start_time": "2022-10-31T10:53:37.242Z"
   },
   {
    "duration": 136,
    "start_time": "2022-10-31T10:53:40.282Z"
   },
   {
    "duration": 903,
    "start_time": "2022-10-31T10:56:12.473Z"
   },
   {
    "duration": 689,
    "start_time": "2022-10-31T10:56:16.328Z"
   },
   {
    "duration": 770,
    "start_time": "2022-10-31T10:56:34.691Z"
   },
   {
    "duration": 15,
    "start_time": "2022-10-31T10:56:35.463Z"
   },
   {
    "duration": 1888,
    "start_time": "2022-10-31T10:56:35.479Z"
   },
   {
    "duration": 9,
    "start_time": "2022-10-31T10:56:37.369Z"
   },
   {
    "duration": 81,
    "start_time": "2022-10-31T10:56:37.379Z"
   },
   {
    "duration": 23,
    "start_time": "2022-10-31T10:56:37.462Z"
   },
   {
    "duration": 62,
    "start_time": "2022-10-31T10:56:37.487Z"
   },
   {
    "duration": 22,
    "start_time": "2022-10-31T10:56:37.551Z"
   },
   {
    "duration": 37,
    "start_time": "2022-10-31T10:56:37.575Z"
   },
   {
    "duration": 50,
    "start_time": "2022-10-31T10:56:37.615Z"
   },
   {
    "duration": 656,
    "start_time": "2022-10-31T10:56:37.667Z"
   },
   {
    "duration": 38,
    "start_time": "2022-10-31T10:56:38.325Z"
   },
   {
    "duration": 5,
    "start_time": "2022-10-31T10:56:38.365Z"
   },
   {
    "duration": 9,
    "start_time": "2022-10-31T10:56:38.371Z"
   },
   {
    "duration": 27,
    "start_time": "2022-10-31T10:56:38.382Z"
   },
   {
    "duration": 8,
    "start_time": "2022-10-31T10:56:38.410Z"
   },
   {
    "duration": 6,
    "start_time": "2022-10-31T10:56:38.419Z"
   },
   {
    "duration": 6,
    "start_time": "2022-10-31T10:56:38.426Z"
   },
   {
    "duration": 313,
    "start_time": "2022-10-31T10:56:38.433Z"
   },
   {
    "duration": 4,
    "start_time": "2022-10-31T10:56:38.748Z"
   },
   {
    "duration": 118,
    "start_time": "2022-10-31T10:56:38.754Z"
   },
   {
    "duration": 118,
    "start_time": "2022-10-31T10:56:38.874Z"
   },
   {
    "duration": 124,
    "start_time": "2022-10-31T10:56:38.994Z"
   },
   {
    "duration": 213,
    "start_time": "2022-10-31T10:56:39.120Z"
   },
   {
    "duration": 136,
    "start_time": "2022-10-31T10:56:39.335Z"
   },
   {
    "duration": 144,
    "start_time": "2022-10-31T10:56:39.472Z"
   },
   {
    "duration": 125,
    "start_time": "2022-10-31T10:56:39.618Z"
   },
   {
    "duration": 86,
    "start_time": "2022-10-31T10:56:39.746Z"
   },
   {
    "duration": 35,
    "start_time": "2022-10-31T10:56:39.834Z"
   },
   {
    "duration": 126,
    "start_time": "2022-10-31T10:58:40.823Z"
   },
   {
    "duration": 145,
    "start_time": "2022-10-31T10:58:50.806Z"
   },
   {
    "duration": 136,
    "start_time": "2022-10-31T10:58:54.063Z"
   },
   {
    "duration": 891,
    "start_time": "2022-10-31T11:04:39.668Z"
   },
   {
    "duration": 122,
    "start_time": "2022-10-31T11:04:45.284Z"
   },
   {
    "duration": 135,
    "start_time": "2022-10-31T11:05:03.412Z"
   },
   {
    "duration": 125,
    "start_time": "2022-10-31T11:05:10.356Z"
   },
   {
    "duration": 111,
    "start_time": "2022-10-31T11:07:30.706Z"
   },
   {
    "duration": 148,
    "start_time": "2022-10-31T11:07:41.203Z"
   },
   {
    "duration": 196,
    "start_time": "2022-10-31T11:10:39.344Z"
   },
   {
    "duration": 140,
    "start_time": "2022-10-31T11:10:48.505Z"
   },
   {
    "duration": 243,
    "start_time": "2022-10-31T11:13:19.804Z"
   },
   {
    "duration": 268,
    "start_time": "2022-10-31T11:13:27.975Z"
   },
   {
    "duration": 211,
    "start_time": "2022-10-31T11:14:09.728Z"
   },
   {
    "duration": 128,
    "start_time": "2022-10-31T11:15:02.618Z"
   },
   {
    "duration": 116,
    "start_time": "2022-10-31T11:15:05.487Z"
   },
   {
    "duration": 133,
    "start_time": "2022-10-31T11:15:13.542Z"
   },
   {
    "duration": 136,
    "start_time": "2022-10-31T11:15:19.006Z"
   },
   {
    "duration": 231,
    "start_time": "2022-10-31T11:15:26.126Z"
   },
   {
    "duration": 221,
    "start_time": "2022-10-31T11:15:33.841Z"
   },
   {
    "duration": 240,
    "start_time": "2022-10-31T11:15:40.806Z"
   },
   {
    "duration": 219,
    "start_time": "2022-10-31T11:15:48.662Z"
   },
   {
    "duration": 235,
    "start_time": "2022-10-31T11:17:07.605Z"
   },
   {
    "duration": 218,
    "start_time": "2022-10-31T11:17:38.795Z"
   },
   {
    "duration": 137,
    "start_time": "2022-10-31T11:21:43.311Z"
   },
   {
    "duration": 5,
    "start_time": "2022-10-31T11:25:02.273Z"
   },
   {
    "duration": 6,
    "start_time": "2022-10-31T11:25:08.368Z"
   },
   {
    "duration": 7,
    "start_time": "2022-10-31T11:25:15.368Z"
   },
   {
    "duration": 6,
    "start_time": "2022-10-31T11:25:21.784Z"
   },
   {
    "duration": 2,
    "start_time": "2022-10-31T12:11:12.830Z"
   },
   {
    "duration": 4,
    "start_time": "2022-10-31T12:11:53.373Z"
   },
   {
    "duration": 44,
    "start_time": "2022-10-31T12:17:16.492Z"
   },
   {
    "duration": 7,
    "start_time": "2022-10-31T12:19:59.590Z"
   },
   {
    "duration": 391,
    "start_time": "2022-10-31T12:20:06.361Z"
   },
   {
    "duration": 9,
    "start_time": "2022-10-31T12:21:19.138Z"
   },
   {
    "duration": 435,
    "start_time": "2022-10-31T12:21:37.496Z"
   },
   {
    "duration": 375,
    "start_time": "2022-10-31T12:23:36.396Z"
   },
   {
    "duration": 48,
    "start_time": "2022-10-31T12:24:03.666Z"
   },
   {
    "duration": 49,
    "start_time": "2022-10-31T12:24:37.535Z"
   },
   {
    "duration": 36,
    "start_time": "2022-10-31T12:28:37.081Z"
   },
   {
    "duration": 25,
    "start_time": "2022-10-31T12:29:19.284Z"
   },
   {
    "duration": 11,
    "start_time": "2022-10-31T12:29:31.859Z"
   },
   {
    "duration": 17,
    "start_time": "2022-10-31T12:29:54.947Z"
   },
   {
    "duration": 13,
    "start_time": "2022-10-31T12:30:48.184Z"
   },
   {
    "duration": 19,
    "start_time": "2022-10-31T12:30:57.004Z"
   },
   {
    "duration": 24,
    "start_time": "2022-10-31T12:32:58.103Z"
   },
   {
    "duration": 25332,
    "start_time": "2022-10-31T12:33:33.425Z"
   },
   {
    "duration": 30,
    "start_time": "2022-10-31T12:42:16.708Z"
   },
   {
    "duration": 204,
    "start_time": "2022-10-31T12:42:25.276Z"
   },
   {
    "duration": 26566,
    "start_time": "2022-10-31T12:44:07.244Z"
   },
   {
    "duration": 221,
    "start_time": "2022-10-31T12:44:42.907Z"
   },
   {
    "duration": 171,
    "start_time": "2022-10-31T12:47:12.542Z"
   },
   {
    "duration": 214,
    "start_time": "2022-10-31T12:47:39.057Z"
   },
   {
    "duration": 217,
    "start_time": "2022-10-31T12:47:48.953Z"
   },
   {
    "duration": 22,
    "start_time": "2022-10-31T12:51:11.204Z"
   },
   {
    "duration": 188,
    "start_time": "2022-10-31T12:51:19.302Z"
   },
   {
    "duration": 31,
    "start_time": "2022-10-31T12:52:19.965Z"
   },
   {
    "duration": 29,
    "start_time": "2022-10-31T12:54:13.994Z"
   },
   {
    "duration": 191,
    "start_time": "2022-10-31T12:55:01.745Z"
   },
   {
    "duration": 207,
    "start_time": "2022-10-31T12:56:51.891Z"
   },
   {
    "duration": 17,
    "start_time": "2022-10-31T12:58:01.928Z"
   },
   {
    "duration": 218,
    "start_time": "2022-10-31T12:59:26.495Z"
   },
   {
    "duration": 156,
    "start_time": "2022-10-31T12:59:38.337Z"
   },
   {
    "duration": 196,
    "start_time": "2022-10-31T12:59:43.481Z"
   },
   {
    "duration": 168,
    "start_time": "2022-10-31T13:00:02.257Z"
   },
   {
    "duration": 217,
    "start_time": "2022-10-31T13:00:35.747Z"
   },
   {
    "duration": 197,
    "start_time": "2022-10-31T13:00:58.977Z"
   },
   {
    "duration": 221,
    "start_time": "2022-10-31T13:01:21.306Z"
   },
   {
    "duration": 21,
    "start_time": "2022-10-31T13:07:01.748Z"
   },
   {
    "duration": 30,
    "start_time": "2022-10-31T13:07:11.485Z"
   },
   {
    "duration": 394,
    "start_time": "2022-10-31T13:07:33.235Z"
   },
   {
    "duration": 217,
    "start_time": "2022-10-31T13:08:57.811Z"
   },
   {
    "duration": 92,
    "start_time": "2022-10-31T13:09:54.396Z"
   },
   {
    "duration": 25,
    "start_time": "2022-10-31T13:16:15.136Z"
   },
   {
    "duration": 87,
    "start_time": "2022-10-31T13:16:23.192Z"
   },
   {
    "duration": 30,
    "start_time": "2022-10-31T13:17:05.698Z"
   },
   {
    "duration": 38,
    "start_time": "2022-10-31T13:17:26.199Z"
   },
   {
    "duration": 35,
    "start_time": "2022-10-31T13:17:51.311Z"
   },
   {
    "duration": 38,
    "start_time": "2022-10-31T13:17:57.423Z"
   },
   {
    "duration": 38,
    "start_time": "2022-10-31T13:18:12.480Z"
   },
   {
    "duration": 219,
    "start_time": "2022-10-31T13:19:16.324Z"
   },
   {
    "duration": 645,
    "start_time": "2022-10-31T13:19:45.483Z"
   },
   {
    "duration": 813,
    "start_time": "2022-10-31T13:21:16.100Z"
   },
   {
    "duration": 19,
    "start_time": "2022-10-31T13:21:16.916Z"
   },
   {
    "duration": 1975,
    "start_time": "2022-10-31T13:21:16.937Z"
   },
   {
    "duration": 10,
    "start_time": "2022-10-31T13:21:18.914Z"
   },
   {
    "duration": 99,
    "start_time": "2022-10-31T13:21:18.927Z"
   },
   {
    "duration": 21,
    "start_time": "2022-10-31T13:21:19.028Z"
   },
   {
    "duration": 61,
    "start_time": "2022-10-31T13:21:19.051Z"
   },
   {
    "duration": 24,
    "start_time": "2022-10-31T13:21:19.115Z"
   },
   {
    "duration": 13,
    "start_time": "2022-10-31T13:21:19.141Z"
   },
   {
    "duration": 91,
    "start_time": "2022-10-31T13:21:19.156Z"
   },
   {
    "duration": 653,
    "start_time": "2022-10-31T13:21:19.248Z"
   },
   {
    "duration": 45,
    "start_time": "2022-10-31T13:21:19.903Z"
   },
   {
    "duration": 4,
    "start_time": "2022-10-31T13:21:19.950Z"
   },
   {
    "duration": 10,
    "start_time": "2022-10-31T13:21:19.957Z"
   },
   {
    "duration": 4,
    "start_time": "2022-10-31T13:21:19.969Z"
   },
   {
    "duration": 10,
    "start_time": "2022-10-31T13:21:19.974Z"
   },
   {
    "duration": 28,
    "start_time": "2022-10-31T13:21:19.986Z"
   },
   {
    "duration": 17,
    "start_time": "2022-10-31T13:21:20.016Z"
   },
   {
    "duration": 312,
    "start_time": "2022-10-31T13:21:20.035Z"
   },
   {
    "duration": 4,
    "start_time": "2022-10-31T13:21:20.348Z"
   },
   {
    "duration": 115,
    "start_time": "2022-10-31T13:21:20.354Z"
   },
   {
    "duration": 119,
    "start_time": "2022-10-31T13:21:20.471Z"
   },
   {
    "duration": 119,
    "start_time": "2022-10-31T13:21:20.592Z"
   },
   {
    "duration": 210,
    "start_time": "2022-10-31T13:21:20.713Z"
   },
   {
    "duration": 139,
    "start_time": "2022-10-31T13:21:20.925Z"
   },
   {
    "duration": 146,
    "start_time": "2022-10-31T13:21:21.066Z"
   },
   {
    "duration": 138,
    "start_time": "2022-10-31T13:21:21.214Z"
   },
   {
    "duration": 152,
    "start_time": "2022-10-31T13:21:21.353Z"
   },
   {
    "duration": 142,
    "start_time": "2022-10-31T13:21:21.508Z"
   },
   {
    "duration": 159,
    "start_time": "2022-10-31T13:21:21.651Z"
   },
   {
    "duration": 129,
    "start_time": "2022-10-31T13:21:21.812Z"
   },
   {
    "duration": 230,
    "start_time": "2022-10-31T13:21:21.943Z"
   },
   {
    "duration": 147,
    "start_time": "2022-10-31T13:21:22.174Z"
   },
   {
    "duration": 7,
    "start_time": "2022-10-31T13:21:22.323Z"
   },
   {
    "duration": 218,
    "start_time": "2022-10-31T13:21:22.332Z"
   },
   {
    "duration": 218,
    "start_time": "2022-10-31T13:21:22.552Z"
   },
   {
    "duration": 292,
    "start_time": "2022-10-31T13:21:22.772Z"
   },
   {
    "duration": 201,
    "start_time": "2022-10-31T13:21:23.066Z"
   },
   {
    "duration": 624,
    "start_time": "2022-10-31T13:21:23.269Z"
   },
   {
    "duration": 41,
    "start_time": "2022-10-31T13:25:14.008Z"
   },
   {
    "duration": 11,
    "start_time": "2022-10-31T13:25:32.529Z"
   },
   {
    "duration": 14,
    "start_time": "2022-10-31T13:26:31.322Z"
   },
   {
    "duration": 11,
    "start_time": "2022-10-31T13:26:36.378Z"
   },
   {
    "duration": 13,
    "start_time": "2022-10-31T13:26:39.531Z"
   },
   {
    "duration": 15,
    "start_time": "2022-10-31T13:26:42.313Z"
   },
   {
    "duration": 9,
    "start_time": "2022-10-31T13:28:06.193Z"
   },
   {
    "duration": 7,
    "start_time": "2022-10-31T13:28:20.756Z"
   },
   {
    "duration": 8,
    "start_time": "2022-10-31T13:28:23.884Z"
   },
   {
    "duration": 88,
    "start_time": "2022-10-31T13:29:32.432Z"
   },
   {
    "duration": 39,
    "start_time": "2022-10-31T13:29:41.521Z"
   },
   {
    "duration": 17,
    "start_time": "2022-10-31T13:29:49.953Z"
   },
   {
    "duration": 16,
    "start_time": "2022-10-31T13:29:54.960Z"
   },
   {
    "duration": 19,
    "start_time": "2022-10-31T13:32:46.567Z"
   },
   {
    "duration": 21,
    "start_time": "2022-10-31T13:33:00.519Z"
   },
   {
    "duration": 13,
    "start_time": "2022-10-31T13:33:06.919Z"
   },
   {
    "duration": 14,
    "start_time": "2022-10-31T13:33:12.951Z"
   },
   {
    "duration": 11,
    "start_time": "2022-10-31T13:34:12.750Z"
   },
   {
    "duration": 13,
    "start_time": "2022-10-31T13:34:16.325Z"
   },
   {
    "duration": 12,
    "start_time": "2022-10-31T13:34:38.229Z"
   },
   {
    "duration": 12,
    "start_time": "2022-10-31T13:34:41.518Z"
   },
   {
    "duration": 19,
    "start_time": "2022-10-31T13:35:59.222Z"
   },
   {
    "duration": 9,
    "start_time": "2022-10-31T13:36:20.661Z"
   },
   {
    "duration": 18,
    "start_time": "2022-10-31T13:36:30.933Z"
   },
   {
    "duration": 11,
    "start_time": "2022-10-31T13:36:39.714Z"
   },
   {
    "duration": 359,
    "start_time": "2022-10-31T13:36:44.909Z"
   },
   {
    "duration": 518,
    "start_time": "2022-10-31T13:37:02.884Z"
   },
   {
    "duration": 16,
    "start_time": "2022-10-31T13:37:17.605Z"
   },
   {
    "duration": 247,
    "start_time": "2022-10-31T13:37:35.076Z"
   },
   {
    "duration": 17,
    "start_time": "2022-10-31T13:39:49.207Z"
   },
   {
    "duration": 17,
    "start_time": "2022-10-31T13:40:22.370Z"
   },
   {
    "duration": 19,
    "start_time": "2022-10-31T13:40:33.250Z"
   },
   {
    "duration": 19,
    "start_time": "2022-10-31T13:40:47.226Z"
   },
   {
    "duration": 22,
    "start_time": "2022-10-31T13:41:15.298Z"
   },
   {
    "duration": 16,
    "start_time": "2022-10-31T13:41:21.391Z"
   },
   {
    "duration": 23,
    "start_time": "2022-10-31T13:41:23.834Z"
   },
   {
    "duration": 22,
    "start_time": "2022-10-31T13:41:31.314Z"
   },
   {
    "duration": 22,
    "start_time": "2022-10-31T13:42:02.985Z"
   },
   {
    "duration": 23,
    "start_time": "2022-10-31T13:42:10.433Z"
   },
   {
    "duration": 26,
    "start_time": "2022-10-31T13:42:14.324Z"
   },
   {
    "duration": 41,
    "start_time": "2022-10-31T13:43:20.529Z"
   },
   {
    "duration": 28,
    "start_time": "2022-10-31T13:43:25.393Z"
   },
   {
    "duration": 5,
    "start_time": "2022-10-31T13:58:00.057Z"
   },
   {
    "duration": 8,
    "start_time": "2022-10-31T13:58:05.833Z"
   },
   {
    "duration": 18,
    "start_time": "2022-10-31T13:58:56.656Z"
   },
   {
    "duration": 29,
    "start_time": "2022-10-31T13:59:22.709Z"
   },
   {
    "duration": 17,
    "start_time": "2022-10-31T13:59:29.464Z"
   },
   {
    "duration": 6,
    "start_time": "2022-10-31T14:00:00.792Z"
   },
   {
    "duration": 7,
    "start_time": "2022-10-31T14:00:24.359Z"
   },
   {
    "duration": 5,
    "start_time": "2022-10-31T14:00:35.600Z"
   },
   {
    "duration": 6,
    "start_time": "2022-10-31T14:00:38.304Z"
   },
   {
    "duration": 6,
    "start_time": "2022-10-31T14:00:57.726Z"
   },
   {
    "duration": 6,
    "start_time": "2022-10-31T14:02:18.583Z"
   },
   {
    "duration": 6,
    "start_time": "2022-10-31T14:02:41.238Z"
   },
   {
    "duration": 6,
    "start_time": "2022-10-31T14:02:53.366Z"
   },
   {
    "duration": 6,
    "start_time": "2022-10-31T14:02:58.422Z"
   },
   {
    "duration": 7,
    "start_time": "2022-10-31T14:03:08.510Z"
   },
   {
    "duration": 37,
    "start_time": "2022-10-31T14:06:35.660Z"
   },
   {
    "duration": 37,
    "start_time": "2022-10-31T14:09:46.282Z"
   },
   {
    "duration": 353,
    "start_time": "2022-10-31T14:09:58.874Z"
   },
   {
    "duration": 38,
    "start_time": "2022-10-31T14:10:09.522Z"
   },
   {
    "duration": 40,
    "start_time": "2022-10-31T14:14:49.750Z"
   },
   {
    "duration": 8,
    "start_time": "2022-10-31T14:14:58.383Z"
   },
   {
    "duration": 39,
    "start_time": "2022-10-31T14:15:01.839Z"
   },
   {
    "duration": 10,
    "start_time": "2022-10-31T14:18:46.259Z"
   },
   {
    "duration": 10,
    "start_time": "2022-10-31T14:20:07.716Z"
   },
   {
    "duration": 781,
    "start_time": "2022-10-31T14:20:17.687Z"
   },
   {
    "duration": 15,
    "start_time": "2022-10-31T14:20:18.470Z"
   },
   {
    "duration": 1821,
    "start_time": "2022-10-31T14:20:18.487Z"
   },
   {
    "duration": 9,
    "start_time": "2022-10-31T14:20:20.310Z"
   },
   {
    "duration": 95,
    "start_time": "2022-10-31T14:20:20.320Z"
   },
   {
    "duration": 22,
    "start_time": "2022-10-31T14:20:20.417Z"
   },
   {
    "duration": 50,
    "start_time": "2022-10-31T14:20:20.441Z"
   },
   {
    "duration": 22,
    "start_time": "2022-10-31T14:20:20.510Z"
   },
   {
    "duration": 16,
    "start_time": "2022-10-31T14:20:20.533Z"
   },
   {
    "duration": 78,
    "start_time": "2022-10-31T14:20:20.551Z"
   },
   {
    "duration": 637,
    "start_time": "2022-10-31T14:20:20.631Z"
   },
   {
    "duration": 49,
    "start_time": "2022-10-31T14:20:21.269Z"
   },
   {
    "duration": 5,
    "start_time": "2022-10-31T14:20:21.320Z"
   },
   {
    "duration": 12,
    "start_time": "2022-10-31T14:20:21.327Z"
   },
   {
    "duration": 10,
    "start_time": "2022-10-31T14:20:21.340Z"
   },
   {
    "duration": 10,
    "start_time": "2022-10-31T14:20:21.352Z"
   },
   {
    "duration": 10,
    "start_time": "2022-10-31T14:20:21.363Z"
   },
   {
    "duration": 10,
    "start_time": "2022-10-31T14:20:21.374Z"
   },
   {
    "duration": 297,
    "start_time": "2022-10-31T14:20:21.385Z"
   },
   {
    "duration": 4,
    "start_time": "2022-10-31T14:20:21.684Z"
   },
   {
    "duration": 121,
    "start_time": "2022-10-31T14:20:21.690Z"
   },
   {
    "duration": 122,
    "start_time": "2022-10-31T14:20:21.812Z"
   },
   {
    "duration": 112,
    "start_time": "2022-10-31T14:20:21.935Z"
   },
   {
    "duration": 195,
    "start_time": "2022-10-31T14:20:22.049Z"
   },
   {
    "duration": 135,
    "start_time": "2022-10-31T14:20:22.245Z"
   },
   {
    "duration": 145,
    "start_time": "2022-10-31T14:20:22.381Z"
   },
   {
    "duration": 127,
    "start_time": "2022-10-31T14:20:22.528Z"
   },
   {
    "duration": 144,
    "start_time": "2022-10-31T14:20:22.657Z"
   },
   {
    "duration": 143,
    "start_time": "2022-10-31T14:20:22.803Z"
   },
   {
    "duration": 145,
    "start_time": "2022-10-31T14:20:22.948Z"
   },
   {
    "duration": 134,
    "start_time": "2022-10-31T14:20:23.095Z"
   },
   {
    "duration": 233,
    "start_time": "2022-10-31T14:20:23.231Z"
   },
   {
    "duration": 143,
    "start_time": "2022-10-31T14:20:23.466Z"
   },
   {
    "duration": 7,
    "start_time": "2022-10-31T14:20:23.610Z"
   },
   {
    "duration": 217,
    "start_time": "2022-10-31T14:20:23.618Z"
   },
   {
    "duration": 223,
    "start_time": "2022-10-31T14:20:23.837Z"
   },
   {
    "duration": 283,
    "start_time": "2022-10-31T14:20:24.061Z"
   },
   {
    "duration": 243,
    "start_time": "2022-10-31T14:20:24.346Z"
   },
   {
    "duration": 640,
    "start_time": "2022-10-31T14:20:24.590Z"
   },
   {
    "duration": 8,
    "start_time": "2022-10-31T14:20:25.231Z"
   },
   {
    "duration": 29,
    "start_time": "2022-10-31T14:20:25.244Z"
   },
   {
    "duration": 10,
    "start_time": "2022-10-31T14:20:25.275Z"
   },
   {
    "duration": 25,
    "start_time": "2022-10-31T14:20:25.287Z"
   },
   {
    "duration": 40,
    "start_time": "2022-10-31T14:20:29.481Z"
   },
   {
    "duration": 4,
    "start_time": "2022-10-31T14:21:51.488Z"
   },
   {
    "duration": 42,
    "start_time": "2022-10-31T14:21:57.489Z"
   },
   {
    "duration": 11,
    "start_time": "2022-10-31T14:23:03.600Z"
   },
   {
    "duration": 9,
    "start_time": "2022-10-31T14:23:10.296Z"
   },
   {
    "duration": 44,
    "start_time": "2022-10-31T14:23:13.119Z"
   },
   {
    "duration": 38,
    "start_time": "2022-10-31T14:23:31.856Z"
   },
   {
    "duration": 2080,
    "start_time": "2022-10-31T14:24:14.367Z"
   },
   {
    "duration": 6,
    "start_time": "2022-10-31T14:25:38.335Z"
   },
   {
    "duration": 175,
    "start_time": "2022-10-31T14:26:30.494Z"
   },
   {
    "duration": 174,
    "start_time": "2022-10-31T14:26:38.245Z"
   },
   {
    "duration": 163,
    "start_time": "2022-10-31T14:27:10.582Z"
   },
   {
    "duration": 161,
    "start_time": "2022-10-31T14:28:09.639Z"
   },
   {
    "duration": 747,
    "start_time": "2022-10-31T14:30:30.134Z"
   },
   {
    "duration": 17,
    "start_time": "2022-10-31T14:30:30.884Z"
   },
   {
    "duration": 1770,
    "start_time": "2022-10-31T14:30:30.902Z"
   },
   {
    "duration": 10,
    "start_time": "2022-10-31T14:30:32.674Z"
   },
   {
    "duration": 81,
    "start_time": "2022-10-31T14:30:32.685Z"
   },
   {
    "duration": 21,
    "start_time": "2022-10-31T14:30:32.767Z"
   },
   {
    "duration": 62,
    "start_time": "2022-10-31T14:30:32.790Z"
   },
   {
    "duration": 20,
    "start_time": "2022-10-31T14:30:32.853Z"
   },
   {
    "duration": 36,
    "start_time": "2022-10-31T14:30:32.875Z"
   },
   {
    "duration": 51,
    "start_time": "2022-10-31T14:30:32.913Z"
   },
   {
    "duration": 673,
    "start_time": "2022-10-31T14:30:32.966Z"
   },
   {
    "duration": 43,
    "start_time": "2022-10-31T14:30:33.641Z"
   },
   {
    "duration": 5,
    "start_time": "2022-10-31T14:30:33.685Z"
   },
   {
    "duration": 21,
    "start_time": "2022-10-31T14:30:33.692Z"
   },
   {
    "duration": 3,
    "start_time": "2022-10-31T14:30:33.715Z"
   },
   {
    "duration": 9,
    "start_time": "2022-10-31T14:30:33.720Z"
   },
   {
    "duration": 5,
    "start_time": "2022-10-31T14:30:33.730Z"
   },
   {
    "duration": 6,
    "start_time": "2022-10-31T14:30:33.737Z"
   },
   {
    "duration": 328,
    "start_time": "2022-10-31T14:30:33.744Z"
   },
   {
    "duration": 5,
    "start_time": "2022-10-31T14:30:34.074Z"
   },
   {
    "duration": 117,
    "start_time": "2022-10-31T14:30:34.080Z"
   },
   {
    "duration": 132,
    "start_time": "2022-10-31T14:30:34.199Z"
   },
   {
    "duration": 135,
    "start_time": "2022-10-31T14:30:34.333Z"
   },
   {
    "duration": 230,
    "start_time": "2022-10-31T14:30:34.470Z"
   },
   {
    "duration": 171,
    "start_time": "2022-10-31T14:30:34.705Z"
   },
   {
    "duration": 182,
    "start_time": "2022-10-31T14:30:34.878Z"
   },
   {
    "duration": 132,
    "start_time": "2022-10-31T14:30:35.062Z"
   },
   {
    "duration": 157,
    "start_time": "2022-10-31T14:30:35.198Z"
   },
   {
    "duration": 141,
    "start_time": "2022-10-31T14:30:35.357Z"
   },
   {
    "duration": 147,
    "start_time": "2022-10-31T14:30:35.500Z"
   },
   {
    "duration": 130,
    "start_time": "2022-10-31T14:30:35.649Z"
   },
   {
    "duration": 230,
    "start_time": "2022-10-31T14:30:35.781Z"
   },
   {
    "duration": 148,
    "start_time": "2022-10-31T14:30:36.013Z"
   },
   {
    "duration": 8,
    "start_time": "2022-10-31T14:30:36.163Z"
   },
   {
    "duration": 247,
    "start_time": "2022-10-31T14:30:36.173Z"
   },
   {
    "duration": 228,
    "start_time": "2022-10-31T14:30:36.422Z"
   },
   {
    "duration": 292,
    "start_time": "2022-10-31T14:30:36.651Z"
   },
   {
    "duration": 206,
    "start_time": "2022-10-31T14:30:36.945Z"
   },
   {
    "duration": 609,
    "start_time": "2022-10-31T14:30:37.153Z"
   },
   {
    "duration": 8,
    "start_time": "2022-10-31T14:30:37.764Z"
   },
   {
    "duration": 22,
    "start_time": "2022-10-31T14:30:37.774Z"
   },
   {
    "duration": 17,
    "start_time": "2022-10-31T14:30:37.797Z"
   },
   {
    "duration": 8,
    "start_time": "2022-10-31T14:30:37.815Z"
   },
   {
    "duration": 44,
    "start_time": "2022-10-31T14:30:37.825Z"
   },
   {
    "duration": 194,
    "start_time": "2022-10-31T14:30:37.871Z"
   },
   {
    "duration": 90,
    "start_time": "2022-11-01T10:50:43.319Z"
   },
   {
    "duration": 298,
    "start_time": "2022-11-01T10:55:27.057Z"
   },
   {
    "duration": 38,
    "start_time": "2022-11-01T10:55:34.509Z"
   },
   {
    "duration": 873,
    "start_time": "2022-11-01T10:55:49.322Z"
   },
   {
    "duration": 14,
    "start_time": "2022-11-01T10:55:50.197Z"
   },
   {
    "duration": 6,
    "start_time": "2022-11-01T10:55:50.212Z"
   },
   {
    "duration": 1828,
    "start_time": "2022-11-01T10:55:50.219Z"
   },
   {
    "duration": 9,
    "start_time": "2022-11-01T10:55:52.049Z"
   },
   {
    "duration": 87,
    "start_time": "2022-11-01T10:55:52.059Z"
   },
   {
    "duration": 37,
    "start_time": "2022-11-01T10:55:52.148Z"
   },
   {
    "duration": 51,
    "start_time": "2022-11-01T10:55:52.187Z"
   },
   {
    "duration": 44,
    "start_time": "2022-11-01T10:55:52.240Z"
   },
   {
    "duration": 13,
    "start_time": "2022-11-01T10:55:52.287Z"
   },
   {
    "duration": 48,
    "start_time": "2022-11-01T10:55:52.301Z"
   },
   {
    "duration": 568,
    "start_time": "2022-11-01T10:55:52.351Z"
   },
   {
    "duration": 36,
    "start_time": "2022-11-01T10:55:52.921Z"
   },
   {
    "duration": 4,
    "start_time": "2022-11-01T10:55:52.959Z"
   },
   {
    "duration": 7,
    "start_time": "2022-11-01T10:55:52.977Z"
   },
   {
    "duration": 3,
    "start_time": "2022-11-01T10:55:52.986Z"
   },
   {
    "duration": 6,
    "start_time": "2022-11-01T10:55:52.991Z"
   },
   {
    "duration": 4,
    "start_time": "2022-11-01T10:55:52.999Z"
   },
   {
    "duration": 5,
    "start_time": "2022-11-01T10:55:53.004Z"
   },
   {
    "duration": 298,
    "start_time": "2022-11-01T10:55:53.010Z"
   },
   {
    "duration": 4,
    "start_time": "2022-11-01T10:55:53.309Z"
   },
   {
    "duration": 113,
    "start_time": "2022-11-01T10:55:53.315Z"
   },
   {
    "duration": 112,
    "start_time": "2022-11-01T10:55:53.430Z"
   },
   {
    "duration": 111,
    "start_time": "2022-11-01T10:55:53.544Z"
   },
   {
    "duration": 189,
    "start_time": "2022-11-01T10:55:53.657Z"
   },
   {
    "duration": 135,
    "start_time": "2022-11-01T10:55:53.848Z"
   },
   {
    "duration": 136,
    "start_time": "2022-11-01T10:55:53.985Z"
   },
   {
    "duration": 122,
    "start_time": "2022-11-01T10:55:54.124Z"
   },
   {
    "duration": 158,
    "start_time": "2022-11-01T10:55:54.248Z"
   },
   {
    "duration": 145,
    "start_time": "2022-11-01T10:55:54.407Z"
   },
   {
    "duration": 148,
    "start_time": "2022-11-01T10:55:54.553Z"
   },
   {
    "duration": 119,
    "start_time": "2022-11-01T10:55:54.703Z"
   },
   {
    "duration": 215,
    "start_time": "2022-11-01T10:55:54.823Z"
   },
   {
    "duration": 139,
    "start_time": "2022-11-01T10:55:55.040Z"
   },
   {
    "duration": 7,
    "start_time": "2022-11-01T10:55:55.181Z"
   },
   {
    "duration": 210,
    "start_time": "2022-11-01T10:55:55.194Z"
   },
   {
    "duration": 203,
    "start_time": "2022-11-01T10:55:55.406Z"
   },
   {
    "duration": 278,
    "start_time": "2022-11-01T10:55:55.611Z"
   },
   {
    "duration": 186,
    "start_time": "2022-11-01T10:55:55.891Z"
   },
   {
    "duration": 551,
    "start_time": "2022-11-01T10:55:56.079Z"
   },
   {
    "duration": 7,
    "start_time": "2022-11-01T10:55:56.631Z"
   },
   {
    "duration": 21,
    "start_time": "2022-11-01T10:55:56.639Z"
   },
   {
    "duration": 18,
    "start_time": "2022-11-01T10:55:56.662Z"
   },
   {
    "duration": 7,
    "start_time": "2022-11-01T10:55:56.681Z"
   },
   {
    "duration": 39,
    "start_time": "2022-11-01T10:55:56.689Z"
   },
   {
    "duration": 175,
    "start_time": "2022-11-01T10:55:56.729Z"
   },
   {
    "duration": 7,
    "start_time": "2022-11-01T10:56:11.765Z"
   },
   {
    "duration": 70,
    "start_time": "2022-11-01T10:56:31.954Z"
   },
   {
    "duration": 7,
    "start_time": "2022-11-01T10:56:39.938Z"
   },
   {
    "duration": 7,
    "start_time": "2022-11-01T10:57:04.730Z"
   },
   {
    "duration": 6,
    "start_time": "2022-11-01T10:57:39.417Z"
   },
   {
    "duration": 10,
    "start_time": "2022-11-01T10:57:45.313Z"
   },
   {
    "duration": 738,
    "start_time": "2022-11-01T10:57:52.659Z"
   },
   {
    "duration": 14,
    "start_time": "2022-11-01T10:57:53.399Z"
   },
   {
    "duration": 10,
    "start_time": "2022-11-01T10:57:53.415Z"
   },
   {
    "duration": 1777,
    "start_time": "2022-11-01T10:57:53.427Z"
   },
   {
    "duration": 8,
    "start_time": "2022-11-01T10:57:55.205Z"
   },
   {
    "duration": 74,
    "start_time": "2022-11-01T10:57:55.215Z"
   },
   {
    "duration": 21,
    "start_time": "2022-11-01T10:57:55.291Z"
   },
   {
    "duration": 44,
    "start_time": "2022-11-01T10:57:55.314Z"
   },
   {
    "duration": 21,
    "start_time": "2022-11-01T10:57:55.377Z"
   },
   {
    "duration": 12,
    "start_time": "2022-11-01T10:57:55.400Z"
   },
   {
    "duration": 64,
    "start_time": "2022-11-01T10:57:55.413Z"
   },
   {
    "duration": 558,
    "start_time": "2022-11-01T10:57:55.479Z"
   },
   {
    "duration": 47,
    "start_time": "2022-11-01T10:57:56.038Z"
   },
   {
    "duration": 5,
    "start_time": "2022-11-01T10:57:56.087Z"
   },
   {
    "duration": 8,
    "start_time": "2022-11-01T10:57:56.093Z"
   },
   {
    "duration": 7,
    "start_time": "2022-11-01T10:57:56.103Z"
   },
   {
    "duration": 6,
    "start_time": "2022-11-01T10:57:56.112Z"
   },
   {
    "duration": 5,
    "start_time": "2022-11-01T10:57:56.120Z"
   },
   {
    "duration": 5,
    "start_time": "2022-11-01T10:57:56.126Z"
   },
   {
    "duration": 261,
    "start_time": "2022-11-01T10:57:56.132Z"
   },
   {
    "duration": 5,
    "start_time": "2022-11-01T10:57:56.394Z"
   },
   {
    "duration": 108,
    "start_time": "2022-11-01T10:57:56.400Z"
   },
   {
    "duration": 116,
    "start_time": "2022-11-01T10:57:56.509Z"
   },
   {
    "duration": 118,
    "start_time": "2022-11-01T10:57:56.627Z"
   },
   {
    "duration": 195,
    "start_time": "2022-11-01T10:57:56.747Z"
   },
   {
    "duration": 133,
    "start_time": "2022-11-01T10:57:56.944Z"
   },
   {
    "duration": 135,
    "start_time": "2022-11-01T10:57:57.078Z"
   },
   {
    "duration": 121,
    "start_time": "2022-11-01T10:57:57.217Z"
   },
   {
    "duration": 145,
    "start_time": "2022-11-01T10:57:57.340Z"
   },
   {
    "duration": 135,
    "start_time": "2022-11-01T10:57:57.487Z"
   },
   {
    "duration": 190,
    "start_time": "2022-11-01T10:57:57.624Z"
   },
   {
    "duration": 137,
    "start_time": "2022-11-01T10:57:57.815Z"
   },
   {
    "duration": 216,
    "start_time": "2022-11-01T10:57:57.953Z"
   },
   {
    "duration": 139,
    "start_time": "2022-11-01T10:57:58.177Z"
   },
   {
    "duration": 6,
    "start_time": "2022-11-01T10:57:58.318Z"
   },
   {
    "duration": 195,
    "start_time": "2022-11-01T10:57:58.326Z"
   },
   {
    "duration": 199,
    "start_time": "2022-11-01T10:57:58.523Z"
   },
   {
    "duration": 274,
    "start_time": "2022-11-01T10:57:58.723Z"
   },
   {
    "duration": 181,
    "start_time": "2022-11-01T10:57:58.999Z"
   },
   {
    "duration": 525,
    "start_time": "2022-11-01T10:57:59.181Z"
   },
   {
    "duration": 7,
    "start_time": "2022-11-01T10:57:59.708Z"
   },
   {
    "duration": 21,
    "start_time": "2022-11-01T10:57:59.716Z"
   },
   {
    "duration": 7,
    "start_time": "2022-11-01T10:57:59.738Z"
   },
   {
    "duration": 10,
    "start_time": "2022-11-01T10:57:59.746Z"
   },
   {
    "duration": 53,
    "start_time": "2022-11-01T10:57:59.757Z"
   },
   {
    "duration": 168,
    "start_time": "2022-11-01T10:57:59.812Z"
   },
   {
    "duration": 9,
    "start_time": "2022-11-01T10:58:59.229Z"
   },
   {
    "duration": 137,
    "start_time": "2022-11-01T10:59:07.917Z"
   },
   {
    "duration": 130,
    "start_time": "2022-11-01T10:59:19.764Z"
   },
   {
    "duration": 123,
    "start_time": "2022-11-01T10:59:23.157Z"
   },
   {
    "duration": 136,
    "start_time": "2022-11-01T10:59:28.405Z"
   },
   {
    "duration": 127,
    "start_time": "2022-11-01T10:59:34.716Z"
   },
   {
    "duration": 123,
    "start_time": "2022-11-01T10:59:38.045Z"
   },
   {
    "duration": 79,
    "start_time": "2022-11-01T11:00:19.044Z"
   },
   {
    "duration": 196,
    "start_time": "2022-11-01T11:00:21.836Z"
   },
   {
    "duration": 1008,
    "start_time": "2022-11-01T11:00:58.572Z"
   },
   {
    "duration": 75,
    "start_time": "2022-11-01T11:01:05.747Z"
   },
   {
    "duration": 827,
    "start_time": "2022-11-01T11:01:10.747Z"
   },
   {
    "duration": 71,
    "start_time": "2022-11-01T11:01:56.315Z"
   },
   {
    "duration": 129,
    "start_time": "2022-11-01T11:01:59.043Z"
   },
   {
    "duration": 131,
    "start_time": "2022-11-01T11:02:06.291Z"
   },
   {
    "duration": 135,
    "start_time": "2022-11-01T11:02:11.931Z"
   },
   {
    "duration": 136,
    "start_time": "2022-11-01T11:02:15.355Z"
   },
   {
    "duration": 251,
    "start_time": "2022-11-01T11:02:27.226Z"
   },
   {
    "duration": 133,
    "start_time": "2022-11-01T11:02:35.482Z"
   },
   {
    "duration": 154,
    "start_time": "2022-11-01T11:02:51.138Z"
   },
   {
    "duration": 152,
    "start_time": "2022-11-01T11:03:07.930Z"
   },
   {
    "duration": 682,
    "start_time": "2022-11-01T11:03:29.926Z"
   },
   {
    "duration": 14,
    "start_time": "2022-11-01T11:03:30.610Z"
   },
   {
    "duration": 171,
    "start_time": "2022-11-01T11:03:30.625Z"
   },
   {
    "duration": 1729,
    "start_time": "2022-11-01T11:03:30.798Z"
   },
   {
    "duration": 9,
    "start_time": "2022-11-01T11:03:32.529Z"
   },
   {
    "duration": 74,
    "start_time": "2022-11-01T11:03:32.539Z"
   },
   {
    "duration": 20,
    "start_time": "2022-11-01T11:03:32.615Z"
   },
   {
    "duration": 63,
    "start_time": "2022-11-01T11:03:32.636Z"
   },
   {
    "duration": 28,
    "start_time": "2022-11-01T11:03:32.700Z"
   },
   {
    "duration": 17,
    "start_time": "2022-11-01T11:03:32.730Z"
   },
   {
    "duration": 81,
    "start_time": "2022-11-01T11:03:32.749Z"
   },
   {
    "duration": 623,
    "start_time": "2022-11-01T11:03:32.832Z"
   },
   {
    "duration": 44,
    "start_time": "2022-11-01T11:03:33.456Z"
   },
   {
    "duration": 5,
    "start_time": "2022-11-01T11:03:33.504Z"
   },
   {
    "duration": 8,
    "start_time": "2022-11-01T11:03:33.511Z"
   },
   {
    "duration": 6,
    "start_time": "2022-11-01T11:03:33.521Z"
   },
   {
    "duration": 7,
    "start_time": "2022-11-01T11:03:33.529Z"
   },
   {
    "duration": 41,
    "start_time": "2022-11-01T11:03:33.537Z"
   },
   {
    "duration": 6,
    "start_time": "2022-11-01T11:03:33.579Z"
   },
   {
    "duration": 257,
    "start_time": "2022-11-01T11:03:33.586Z"
   },
   {
    "duration": 7,
    "start_time": "2022-11-01T11:03:33.844Z"
   },
   {
    "duration": 113,
    "start_time": "2022-11-01T11:03:33.852Z"
   },
   {
    "duration": 126,
    "start_time": "2022-11-01T11:03:33.966Z"
   },
   {
    "duration": 177,
    "start_time": "2022-11-01T11:03:34.094Z"
   },
   {
    "duration": 128,
    "start_time": "2022-11-01T11:03:34.277Z"
   },
   {
    "duration": 125,
    "start_time": "2022-11-01T11:03:34.407Z"
   },
   {
    "duration": 133,
    "start_time": "2022-11-01T11:03:34.534Z"
   },
   {
    "duration": 120,
    "start_time": "2022-11-01T11:03:34.669Z"
   },
   {
    "duration": 151,
    "start_time": "2022-11-01T11:03:34.791Z"
   },
   {
    "duration": 136,
    "start_time": "2022-11-01T11:03:34.943Z"
   },
   {
    "duration": 150,
    "start_time": "2022-11-01T11:03:35.080Z"
   },
   {
    "duration": 123,
    "start_time": "2022-11-01T11:03:35.231Z"
   },
   {
    "duration": 211,
    "start_time": "2022-11-01T11:03:35.355Z"
   },
   {
    "duration": 136,
    "start_time": "2022-11-01T11:03:35.567Z"
   },
   {
    "duration": 6,
    "start_time": "2022-11-01T11:03:35.704Z"
   },
   {
    "duration": 208,
    "start_time": "2022-11-01T11:03:35.711Z"
   },
   {
    "duration": 296,
    "start_time": "2022-11-01T11:03:35.920Z"
   },
   {
    "duration": 216,
    "start_time": "2022-11-01T11:03:36.218Z"
   },
   {
    "duration": 195,
    "start_time": "2022-11-01T11:03:36.436Z"
   },
   {
    "duration": 563,
    "start_time": "2022-11-01T11:03:36.633Z"
   },
   {
    "duration": 8,
    "start_time": "2022-11-01T11:03:37.199Z"
   },
   {
    "duration": 22,
    "start_time": "2022-11-01T11:03:37.208Z"
   },
   {
    "duration": 7,
    "start_time": "2022-11-01T11:03:37.232Z"
   },
   {
    "duration": 7,
    "start_time": "2022-11-01T11:03:37.240Z"
   },
   {
    "duration": 63,
    "start_time": "2022-11-01T11:03:37.249Z"
   },
   {
    "duration": 178,
    "start_time": "2022-11-01T11:03:37.314Z"
   },
   {
    "duration": 743,
    "start_time": "2022-11-01T11:04:03.461Z"
   },
   {
    "duration": 16,
    "start_time": "2022-11-01T11:04:04.206Z"
   },
   {
    "duration": 73,
    "start_time": "2022-11-01T11:04:04.223Z"
   },
   {
    "duration": 0,
    "start_time": "2022-11-01T11:04:04.299Z"
   },
   {
    "duration": 0,
    "start_time": "2022-11-01T11:04:04.300Z"
   },
   {
    "duration": 0,
    "start_time": "2022-11-01T11:04:04.301Z"
   },
   {
    "duration": 0,
    "start_time": "2022-11-01T11:04:04.302Z"
   },
   {
    "duration": 0,
    "start_time": "2022-11-01T11:04:04.303Z"
   },
   {
    "duration": 0,
    "start_time": "2022-11-01T11:04:04.304Z"
   },
   {
    "duration": 0,
    "start_time": "2022-11-01T11:04:04.305Z"
   },
   {
    "duration": 0,
    "start_time": "2022-11-01T11:04:04.306Z"
   },
   {
    "duration": 0,
    "start_time": "2022-11-01T11:04:04.307Z"
   },
   {
    "duration": 0,
    "start_time": "2022-11-01T11:04:04.307Z"
   },
   {
    "duration": 0,
    "start_time": "2022-11-01T11:04:04.308Z"
   },
   {
    "duration": 0,
    "start_time": "2022-11-01T11:04:04.309Z"
   },
   {
    "duration": 0,
    "start_time": "2022-11-01T11:04:04.310Z"
   },
   {
    "duration": 0,
    "start_time": "2022-11-01T11:04:04.311Z"
   },
   {
    "duration": 0,
    "start_time": "2022-11-01T11:04:04.312Z"
   },
   {
    "duration": 0,
    "start_time": "2022-11-01T11:04:04.313Z"
   },
   {
    "duration": 0,
    "start_time": "2022-11-01T11:04:04.314Z"
   },
   {
    "duration": 0,
    "start_time": "2022-11-01T11:04:04.315Z"
   },
   {
    "duration": 0,
    "start_time": "2022-11-01T11:04:04.316Z"
   },
   {
    "duration": 0,
    "start_time": "2022-11-01T11:04:04.317Z"
   },
   {
    "duration": 0,
    "start_time": "2022-11-01T11:04:04.318Z"
   },
   {
    "duration": 0,
    "start_time": "2022-11-01T11:04:04.319Z"
   },
   {
    "duration": 0,
    "start_time": "2022-11-01T11:04:04.320Z"
   },
   {
    "duration": 0,
    "start_time": "2022-11-01T11:04:04.321Z"
   },
   {
    "duration": 0,
    "start_time": "2022-11-01T11:04:04.322Z"
   },
   {
    "duration": 0,
    "start_time": "2022-11-01T11:04:04.323Z"
   },
   {
    "duration": 0,
    "start_time": "2022-11-01T11:04:04.324Z"
   },
   {
    "duration": 0,
    "start_time": "2022-11-01T11:04:04.325Z"
   },
   {
    "duration": 0,
    "start_time": "2022-11-01T11:04:04.326Z"
   },
   {
    "duration": 0,
    "start_time": "2022-11-01T11:04:04.327Z"
   },
   {
    "duration": 0,
    "start_time": "2022-11-01T11:04:04.327Z"
   },
   {
    "duration": 0,
    "start_time": "2022-11-01T11:04:04.328Z"
   },
   {
    "duration": 0,
    "start_time": "2022-11-01T11:04:04.329Z"
   },
   {
    "duration": 0,
    "start_time": "2022-11-01T11:04:04.330Z"
   },
   {
    "duration": 0,
    "start_time": "2022-11-01T11:04:04.331Z"
   },
   {
    "duration": 0,
    "start_time": "2022-11-01T11:04:04.332Z"
   },
   {
    "duration": 0,
    "start_time": "2022-11-01T11:04:04.333Z"
   },
   {
    "duration": 0,
    "start_time": "2022-11-01T11:04:04.333Z"
   },
   {
    "duration": 0,
    "start_time": "2022-11-01T11:04:04.334Z"
   },
   {
    "duration": 0,
    "start_time": "2022-11-01T11:04:04.335Z"
   },
   {
    "duration": 0,
    "start_time": "2022-11-01T11:04:04.336Z"
   },
   {
    "duration": 0,
    "start_time": "2022-11-01T11:04:04.337Z"
   },
   {
    "duration": 0,
    "start_time": "2022-11-01T11:04:04.337Z"
   },
   {
    "duration": 160,
    "start_time": "2022-11-01T11:04:14.209Z"
   },
   {
    "duration": 257,
    "start_time": "2022-11-01T11:04:44.722Z"
   },
   {
    "duration": 150,
    "start_time": "2022-11-01T11:04:59.057Z"
   },
   {
    "duration": 289,
    "start_time": "2022-11-01T11:05:07.642Z"
   },
   {
    "duration": 159,
    "start_time": "2022-11-01T11:05:12.912Z"
   },
   {
    "duration": 194,
    "start_time": "2022-11-01T11:05:16.928Z"
   },
   {
    "duration": 255,
    "start_time": "2022-11-01T11:05:21.369Z"
   },
   {
    "duration": 401,
    "start_time": "2022-11-01T11:05:27.313Z"
   },
   {
    "duration": 91,
    "start_time": "2022-11-01T11:05:42.704Z"
   },
   {
    "duration": 463,
    "start_time": "2022-11-01T11:05:50.633Z"
   },
   {
    "duration": 405,
    "start_time": "2022-11-01T11:06:01.072Z"
   },
   {
    "duration": 296,
    "start_time": "2022-11-01T11:06:05.680Z"
   },
   {
    "duration": 214,
    "start_time": "2022-11-01T11:06:11.376Z"
   },
   {
    "duration": 363,
    "start_time": "2022-11-01T11:07:28.120Z"
   },
   {
    "duration": 347,
    "start_time": "2022-11-01T11:07:34.079Z"
   },
   {
    "duration": 462,
    "start_time": "2022-11-01T11:07:40.543Z"
   },
   {
    "duration": 322,
    "start_time": "2022-11-01T11:07:51.319Z"
   },
   {
    "duration": 328,
    "start_time": "2022-11-01T11:07:59.175Z"
   },
   {
    "duration": 344,
    "start_time": "2022-11-01T11:08:02.702Z"
   },
   {
    "duration": 334,
    "start_time": "2022-11-01T11:08:26.030Z"
   },
   {
    "duration": 433,
    "start_time": "2022-11-01T11:08:49.431Z"
   },
   {
    "duration": 302,
    "start_time": "2022-11-01T11:08:58.814Z"
   },
   {
    "duration": 321,
    "start_time": "2022-11-01T11:09:17.200Z"
   },
   {
    "duration": 302,
    "start_time": "2022-11-01T11:09:21.022Z"
   },
   {
    "duration": 361,
    "start_time": "2022-11-01T11:10:00.669Z"
   },
   {
    "duration": 483,
    "start_time": "2022-11-01T11:10:16.701Z"
   },
   {
    "duration": 383,
    "start_time": "2022-11-01T11:10:32.551Z"
   },
   {
    "duration": 365,
    "start_time": "2022-11-01T11:12:08.092Z"
   },
   {
    "duration": 7,
    "start_time": "2022-11-01T11:12:49.795Z"
   },
   {
    "duration": 528,
    "start_time": "2022-11-01T11:14:58.083Z"
   },
   {
    "duration": 5,
    "start_time": "2022-11-01T11:29:57.706Z"
   },
   {
    "duration": 6,
    "start_time": "2022-11-01T11:30:06.073Z"
   },
   {
    "duration": 4,
    "start_time": "2022-11-01T11:30:21.786Z"
   },
   {
    "duration": 4,
    "start_time": "2022-11-01T11:38:41.918Z"
   },
   {
    "duration": 5,
    "start_time": "2022-11-01T11:38:59.303Z"
   },
   {
    "duration": 8,
    "start_time": "2022-11-01T11:39:16.558Z"
   },
   {
    "duration": 1819,
    "start_time": "2022-11-01T11:40:01.789Z"
   },
   {
    "duration": 5,
    "start_time": "2022-11-01T11:41:32.550Z"
   },
   {
    "duration": 723,
    "start_time": "2022-11-01T11:42:21.289Z"
   },
   {
    "duration": 13,
    "start_time": "2022-11-01T11:42:22.014Z"
   },
   {
    "duration": 387,
    "start_time": "2022-11-01T11:42:22.029Z"
   },
   {
    "duration": 6,
    "start_time": "2022-11-01T11:42:22.418Z"
   },
   {
    "duration": 1822,
    "start_time": "2022-11-01T11:42:22.426Z"
   },
   {
    "duration": 9,
    "start_time": "2022-11-01T11:42:24.250Z"
   },
   {
    "duration": 9,
    "start_time": "2022-11-01T11:42:24.261Z"
   },
   {
    "duration": 77,
    "start_time": "2022-11-01T11:42:24.272Z"
   },
   {
    "duration": 31,
    "start_time": "2022-11-01T11:42:24.350Z"
   },
   {
    "duration": 45,
    "start_time": "2022-11-01T11:42:24.383Z"
   },
   {
    "duration": 25,
    "start_time": "2022-11-01T11:42:24.430Z"
   },
   {
    "duration": 31,
    "start_time": "2022-11-01T11:42:24.457Z"
   },
   {
    "duration": 51,
    "start_time": "2022-11-01T11:42:24.489Z"
   },
   {
    "duration": 603,
    "start_time": "2022-11-01T11:42:24.543Z"
   },
   {
    "duration": 47,
    "start_time": "2022-11-01T11:42:25.148Z"
   },
   {
    "duration": 4,
    "start_time": "2022-11-01T11:42:25.197Z"
   },
   {
    "duration": 10,
    "start_time": "2022-11-01T11:42:25.203Z"
   },
   {
    "duration": 7,
    "start_time": "2022-11-01T11:42:25.215Z"
   },
   {
    "duration": 9,
    "start_time": "2022-11-01T11:42:25.224Z"
   },
   {
    "duration": 7,
    "start_time": "2022-11-01T11:42:25.235Z"
   },
   {
    "duration": 5,
    "start_time": "2022-11-01T11:42:25.244Z"
   },
   {
    "duration": 349,
    "start_time": "2022-11-01T11:42:25.251Z"
   },
   {
    "duration": 4,
    "start_time": "2022-11-01T11:42:25.601Z"
   },
   {
    "duration": 109,
    "start_time": "2022-11-01T11:42:25.607Z"
   },
   {
    "duration": 120,
    "start_time": "2022-11-01T11:42:25.717Z"
   },
   {
    "duration": 111,
    "start_time": "2022-11-01T11:42:25.839Z"
   },
   {
    "duration": 147,
    "start_time": "2022-11-01T11:42:25.951Z"
   },
   {
    "duration": 134,
    "start_time": "2022-11-01T11:42:26.100Z"
   },
   {
    "duration": 131,
    "start_time": "2022-11-01T11:42:26.235Z"
   },
   {
    "duration": 124,
    "start_time": "2022-11-01T11:42:26.368Z"
   },
   {
    "duration": 150,
    "start_time": "2022-11-01T11:42:26.495Z"
   },
   {
    "duration": 142,
    "start_time": "2022-11-01T11:42:26.647Z"
   },
   {
    "duration": 150,
    "start_time": "2022-11-01T11:42:26.791Z"
   },
   {
    "duration": 122,
    "start_time": "2022-11-01T11:42:26.943Z"
   },
   {
    "duration": 218,
    "start_time": "2022-11-01T11:42:27.067Z"
   },
   {
    "duration": 218,
    "start_time": "2022-11-01T11:42:27.287Z"
   },
   {
    "duration": 6,
    "start_time": "2022-11-01T11:42:27.507Z"
   },
   {
    "duration": 222,
    "start_time": "2022-11-01T11:42:27.515Z"
   },
   {
    "duration": 256,
    "start_time": "2022-11-01T11:42:27.739Z"
   },
   {
    "duration": 209,
    "start_time": "2022-11-01T11:42:27.997Z"
   },
   {
    "duration": 194,
    "start_time": "2022-11-01T11:42:28.209Z"
   },
   {
    "duration": 548,
    "start_time": "2022-11-01T11:42:28.405Z"
   },
   {
    "duration": 7,
    "start_time": "2022-11-01T11:42:28.954Z"
   },
   {
    "duration": 28,
    "start_time": "2022-11-01T11:42:28.962Z"
   },
   {
    "duration": 7,
    "start_time": "2022-11-01T11:42:28.991Z"
   },
   {
    "duration": 9,
    "start_time": "2022-11-01T11:42:28.999Z"
   },
   {
    "duration": 41,
    "start_time": "2022-11-01T11:42:29.009Z"
   },
   {
    "duration": 183,
    "start_time": "2022-11-01T11:42:29.052Z"
   },
   {
    "duration": 114,
    "start_time": "2022-11-01T11:44:21.955Z"
   },
   {
    "duration": 130,
    "start_time": "2022-11-01T11:44:30.750Z"
   },
   {
    "duration": 148,
    "start_time": "2022-11-01T11:44:37.062Z"
   },
   {
    "duration": 6,
    "start_time": "2022-11-01T11:47:29.372Z"
   },
   {
    "duration": 735,
    "start_time": "2022-11-01T11:51:22.838Z"
   },
   {
    "duration": 21,
    "start_time": "2022-11-01T11:51:23.577Z"
   },
   {
    "duration": 420,
    "start_time": "2022-11-01T11:51:23.599Z"
   },
   {
    "duration": 6,
    "start_time": "2022-11-01T11:51:24.021Z"
   },
   {
    "duration": 1755,
    "start_time": "2022-11-01T11:51:24.028Z"
   },
   {
    "duration": 13,
    "start_time": "2022-11-01T11:51:25.786Z"
   },
   {
    "duration": 8,
    "start_time": "2022-11-01T11:51:25.801Z"
   },
   {
    "duration": 105,
    "start_time": "2022-11-01T11:51:25.811Z"
   },
   {
    "duration": 20,
    "start_time": "2022-11-01T11:51:25.917Z"
   },
   {
    "duration": 65,
    "start_time": "2022-11-01T11:51:25.939Z"
   },
   {
    "duration": 21,
    "start_time": "2022-11-01T11:51:26.005Z"
   },
   {
    "duration": 11,
    "start_time": "2022-11-01T11:51:26.028Z"
   },
   {
    "duration": 80,
    "start_time": "2022-11-01T11:51:26.041Z"
   },
   {
    "duration": 637,
    "start_time": "2022-11-01T11:51:26.124Z"
   },
   {
    "duration": 55,
    "start_time": "2022-11-01T11:51:26.762Z"
   },
   {
    "duration": 6,
    "start_time": "2022-11-01T11:51:26.819Z"
   },
   {
    "duration": 12,
    "start_time": "2022-11-01T11:51:26.826Z"
   },
   {
    "duration": 4,
    "start_time": "2022-11-01T11:51:26.840Z"
   },
   {
    "duration": 31,
    "start_time": "2022-11-01T11:51:26.846Z"
   },
   {
    "duration": 7,
    "start_time": "2022-11-01T11:51:26.879Z"
   },
   {
    "duration": 19,
    "start_time": "2022-11-01T11:51:26.888Z"
   },
   {
    "duration": 326,
    "start_time": "2022-11-01T11:51:26.908Z"
   },
   {
    "duration": 4,
    "start_time": "2022-11-01T11:51:27.236Z"
   },
   {
    "duration": 109,
    "start_time": "2022-11-01T11:51:27.241Z"
   },
   {
    "duration": 117,
    "start_time": "2022-11-01T11:51:27.352Z"
   },
   {
    "duration": 127,
    "start_time": "2022-11-01T11:51:27.477Z"
   },
   {
    "duration": 174,
    "start_time": "2022-11-01T11:51:27.606Z"
   },
   {
    "duration": 164,
    "start_time": "2022-11-01T11:51:27.785Z"
   },
   {
    "duration": 156,
    "start_time": "2022-11-01T11:51:27.951Z"
   },
   {
    "duration": 128,
    "start_time": "2022-11-01T11:51:28.108Z"
   },
   {
    "duration": 164,
    "start_time": "2022-11-01T11:51:28.237Z"
   },
   {
    "duration": 137,
    "start_time": "2022-11-01T11:51:28.403Z"
   },
   {
    "duration": 157,
    "start_time": "2022-11-01T11:51:28.542Z"
   },
   {
    "duration": 129,
    "start_time": "2022-11-01T11:51:28.701Z"
   },
   {
    "duration": 208,
    "start_time": "2022-11-01T11:51:28.832Z"
   },
   {
    "duration": 224,
    "start_time": "2022-11-01T11:51:29.041Z"
   },
   {
    "duration": 12,
    "start_time": "2022-11-01T11:51:29.266Z"
   },
   {
    "duration": 210,
    "start_time": "2022-11-01T11:51:29.280Z"
   },
   {
    "duration": 218,
    "start_time": "2022-11-01T11:51:29.492Z"
   },
   {
    "duration": 214,
    "start_time": "2022-11-01T11:51:29.712Z"
   },
   {
    "duration": 202,
    "start_time": "2022-11-01T11:51:29.928Z"
   },
   {
    "duration": 599,
    "start_time": "2022-11-01T11:51:30.132Z"
   },
   {
    "duration": 7,
    "start_time": "2022-11-01T11:51:30.732Z"
   },
   {
    "duration": 39,
    "start_time": "2022-11-01T11:51:30.741Z"
   },
   {
    "duration": 8,
    "start_time": "2022-11-01T11:51:30.783Z"
   },
   {
    "duration": 51,
    "start_time": "2022-11-01T11:51:30.794Z"
   },
   {
    "duration": 64,
    "start_time": "2022-11-01T11:51:30.846Z"
   },
   {
    "duration": 182,
    "start_time": "2022-11-01T11:51:30.912Z"
   },
   {
    "duration": 46,
    "start_time": "2022-11-01T11:52:02.203Z"
   },
   {
    "duration": 513,
    "start_time": "2022-11-01T11:52:07.306Z"
   },
   {
    "duration": 6,
    "start_time": "2022-11-01T11:52:11.458Z"
   },
   {
    "duration": 8,
    "start_time": "2022-11-01T11:52:14.106Z"
   },
   {
    "duration": 701,
    "start_time": "2022-11-01T11:52:22.635Z"
   },
   {
    "duration": 15,
    "start_time": "2022-11-01T11:52:23.338Z"
   },
   {
    "duration": 407,
    "start_time": "2022-11-01T11:52:23.354Z"
   },
   {
    "duration": 6,
    "start_time": "2022-11-01T11:52:23.763Z"
   },
   {
    "duration": 1712,
    "start_time": "2022-11-01T11:52:23.776Z"
   },
   {
    "duration": 9,
    "start_time": "2022-11-01T11:52:25.490Z"
   },
   {
    "duration": 6,
    "start_time": "2022-11-01T11:52:25.501Z"
   },
   {
    "duration": 91,
    "start_time": "2022-11-01T11:52:25.508Z"
   },
   {
    "duration": 22,
    "start_time": "2022-11-01T11:52:25.600Z"
   },
   {
    "duration": 65,
    "start_time": "2022-11-01T11:52:25.624Z"
   },
   {
    "duration": 21,
    "start_time": "2022-11-01T11:52:25.691Z"
   },
   {
    "duration": 14,
    "start_time": "2022-11-01T11:52:25.714Z"
   },
   {
    "duration": 71,
    "start_time": "2022-11-01T11:52:25.730Z"
   },
   {
    "duration": 590,
    "start_time": "2022-11-01T11:52:25.804Z"
   },
   {
    "duration": 40,
    "start_time": "2022-11-01T11:52:26.396Z"
   },
   {
    "duration": 5,
    "start_time": "2022-11-01T11:52:26.438Z"
   },
   {
    "duration": 32,
    "start_time": "2022-11-01T11:52:26.445Z"
   },
   {
    "duration": 4,
    "start_time": "2022-11-01T11:52:26.479Z"
   },
   {
    "duration": 14,
    "start_time": "2022-11-01T11:52:26.484Z"
   },
   {
    "duration": 15,
    "start_time": "2022-11-01T11:52:26.499Z"
   },
   {
    "duration": 8,
    "start_time": "2022-11-01T11:52:26.515Z"
   },
   {
    "duration": 317,
    "start_time": "2022-11-01T11:52:26.524Z"
   },
   {
    "duration": 5,
    "start_time": "2022-11-01T11:52:26.843Z"
   },
   {
    "duration": 116,
    "start_time": "2022-11-01T11:52:26.849Z"
   },
   {
    "duration": 117,
    "start_time": "2022-11-01T11:52:26.966Z"
   },
   {
    "duration": 110,
    "start_time": "2022-11-01T11:52:27.084Z"
   },
   {
    "duration": 137,
    "start_time": "2022-11-01T11:52:27.196Z"
   },
   {
    "duration": 137,
    "start_time": "2022-11-01T11:52:27.334Z"
   },
   {
    "duration": 151,
    "start_time": "2022-11-01T11:52:27.476Z"
   },
   {
    "duration": 151,
    "start_time": "2022-11-01T11:52:27.628Z"
   },
   {
    "duration": 160,
    "start_time": "2022-11-01T11:52:27.781Z"
   },
   {
    "duration": 148,
    "start_time": "2022-11-01T11:52:27.942Z"
   },
   {
    "duration": 138,
    "start_time": "2022-11-01T11:52:28.092Z"
   },
   {
    "duration": 128,
    "start_time": "2022-11-01T11:52:28.232Z"
   },
   {
    "duration": 236,
    "start_time": "2022-11-01T11:52:28.361Z"
   },
   {
    "duration": 230,
    "start_time": "2022-11-01T11:52:28.598Z"
   },
   {
    "duration": 7,
    "start_time": "2022-11-01T11:52:28.829Z"
   },
   {
    "duration": 199,
    "start_time": "2022-11-01T11:52:28.837Z"
   },
   {
    "duration": 206,
    "start_time": "2022-11-01T11:52:29.038Z"
   },
   {
    "duration": 197,
    "start_time": "2022-11-01T11:52:29.245Z"
   },
   {
    "duration": 193,
    "start_time": "2022-11-01T11:52:29.445Z"
   },
   {
    "duration": 541,
    "start_time": "2022-11-01T11:52:29.640Z"
   },
   {
    "duration": 16,
    "start_time": "2022-11-01T11:52:30.182Z"
   },
   {
    "duration": 43,
    "start_time": "2022-11-01T11:52:30.199Z"
   },
   {
    "duration": 8,
    "start_time": "2022-11-01T11:52:30.244Z"
   },
   {
    "duration": 23,
    "start_time": "2022-11-01T11:52:30.254Z"
   },
   {
    "duration": 61,
    "start_time": "2022-11-01T11:52:30.279Z"
   },
   {
    "duration": 169,
    "start_time": "2022-11-01T11:52:30.341Z"
   },
   {
    "duration": 725,
    "start_time": "2022-11-01T11:53:44.361Z"
   },
   {
    "duration": 13,
    "start_time": "2022-11-01T11:53:45.088Z"
   },
   {
    "duration": 393,
    "start_time": "2022-11-01T11:53:45.102Z"
   },
   {
    "duration": 6,
    "start_time": "2022-11-01T11:53:45.496Z"
   },
   {
    "duration": 1777,
    "start_time": "2022-11-01T11:53:45.503Z"
   },
   {
    "duration": 9,
    "start_time": "2022-11-01T11:53:47.281Z"
   },
   {
    "duration": 4,
    "start_time": "2022-11-01T12:00:48.468Z"
   },
   {
    "duration": 4,
    "start_time": "2022-11-01T12:00:57.412Z"
   },
   {
    "duration": 5,
    "start_time": "2022-11-01T12:02:49.610Z"
   },
   {
    "duration": 63,
    "start_time": "2022-11-01T12:03:11.299Z"
   },
   {
    "duration": 40,
    "start_time": "2022-11-01T12:03:15.355Z"
   },
   {
    "duration": 25,
    "start_time": "2022-11-01T12:03:29.280Z"
   },
   {
    "duration": 9,
    "start_time": "2022-11-01T12:03:38.491Z"
   },
   {
    "duration": 12,
    "start_time": "2022-11-01T12:03:57.938Z"
   },
   {
    "duration": 9,
    "start_time": "2022-11-01T12:04:05.538Z"
   },
   {
    "duration": 10,
    "start_time": "2022-11-01T12:04:09.395Z"
   },
   {
    "duration": 11,
    "start_time": "2022-11-01T12:04:12.826Z"
   },
   {
    "duration": 5,
    "start_time": "2022-11-01T12:04:54.402Z"
   },
   {
    "duration": 6,
    "start_time": "2022-11-01T12:05:47.322Z"
   },
   {
    "duration": 30,
    "start_time": "2022-11-01T12:05:53.472Z"
   },
   {
    "duration": 93,
    "start_time": "2022-11-01T12:05:59.153Z"
   },
   {
    "duration": 81,
    "start_time": "2022-11-01T12:08:13.838Z"
   },
   {
    "duration": 19,
    "start_time": "2022-11-01T12:09:06.688Z"
   },
   {
    "duration": 16,
    "start_time": "2022-11-01T12:09:37.935Z"
   },
   {
    "duration": 680,
    "start_time": "2022-11-01T12:10:31.119Z"
   },
   {
    "duration": 14,
    "start_time": "2022-11-01T12:10:31.801Z"
   },
   {
    "duration": 440,
    "start_time": "2022-11-01T12:10:31.817Z"
   },
   {
    "duration": 6,
    "start_time": "2022-11-01T12:10:32.258Z"
   },
   {
    "duration": 1800,
    "start_time": "2022-11-01T12:10:32.276Z"
   },
   {
    "duration": 10,
    "start_time": "2022-11-01T12:10:34.077Z"
   },
   {
    "duration": 4,
    "start_time": "2022-11-01T12:10:34.089Z"
   },
   {
    "duration": 6,
    "start_time": "2022-11-01T12:10:34.094Z"
   },
   {
    "duration": 16,
    "start_time": "2022-11-01T12:10:34.102Z"
   },
   {
    "duration": 14,
    "start_time": "2022-11-01T12:10:34.120Z"
   },
   {
    "duration": 13,
    "start_time": "2022-11-01T12:10:56.464Z"
   },
   {
    "duration": 77,
    "start_time": "2022-11-01T12:11:09.736Z"
   },
   {
    "duration": 14,
    "start_time": "2022-11-01T12:11:24.995Z"
   },
   {
    "duration": 78,
    "start_time": "2022-11-01T12:11:27.312Z"
   },
   {
    "duration": 47,
    "start_time": "2022-11-01T12:11:29.776Z"
   },
   {
    "duration": 2,
    "start_time": "2022-11-01T12:11:55.760Z"
   },
   {
    "duration": 755,
    "start_time": "2022-11-01T12:12:13.366Z"
   },
   {
    "duration": 12,
    "start_time": "2022-11-01T12:12:14.123Z"
   },
   {
    "duration": 394,
    "start_time": "2022-11-01T12:12:14.137Z"
   },
   {
    "duration": 6,
    "start_time": "2022-11-01T12:12:14.532Z"
   },
   {
    "duration": 1899,
    "start_time": "2022-11-01T12:12:14.541Z"
   },
   {
    "duration": 9,
    "start_time": "2022-11-01T12:12:16.441Z"
   },
   {
    "duration": 8,
    "start_time": "2022-11-01T12:12:16.451Z"
   },
   {
    "duration": 5,
    "start_time": "2022-11-01T12:12:16.460Z"
   },
   {
    "duration": 9,
    "start_time": "2022-11-01T12:12:16.466Z"
   },
   {
    "duration": 2,
    "start_time": "2022-11-01T12:12:16.477Z"
   },
   {
    "duration": 745,
    "start_time": "2022-11-01T12:18:52.756Z"
   },
   {
    "duration": 14,
    "start_time": "2022-11-01T12:18:53.504Z"
   },
   {
    "duration": 401,
    "start_time": "2022-11-01T12:18:53.519Z"
   },
   {
    "duration": 6,
    "start_time": "2022-11-01T12:18:53.921Z"
   },
   {
    "duration": 1726,
    "start_time": "2022-11-01T12:18:53.929Z"
   },
   {
    "duration": 10,
    "start_time": "2022-11-01T12:18:55.657Z"
   },
   {
    "duration": 14,
    "start_time": "2022-11-01T12:18:55.669Z"
   },
   {
    "duration": 12,
    "start_time": "2022-11-01T12:18:55.685Z"
   },
   {
    "duration": 10,
    "start_time": "2022-11-01T12:18:55.699Z"
   },
   {
    "duration": 97,
    "start_time": "2022-11-01T12:18:55.711Z"
   },
   {
    "duration": 73,
    "start_time": "2022-11-01T12:19:39.839Z"
   },
   {
    "duration": 124,
    "start_time": "2022-11-01T12:19:50.281Z"
   },
   {
    "duration": 25,
    "start_time": "2022-11-01T12:19:58.256Z"
   },
   {
    "duration": 37,
    "start_time": "2022-11-01T12:20:05.985Z"
   },
   {
    "duration": 5,
    "start_time": "2022-11-01T12:24:24.102Z"
   },
   {
    "duration": 5,
    "start_time": "2022-11-01T12:24:29.557Z"
   },
   {
    "duration": 6,
    "start_time": "2022-11-01T12:24:32.653Z"
   },
   {
    "duration": 32,
    "start_time": "2022-11-01T12:24:40.163Z"
   },
   {
    "duration": 704,
    "start_time": "2022-11-01T12:54:02.120Z"
   },
   {
    "duration": 13,
    "start_time": "2022-11-01T12:54:02.826Z"
   },
   {
    "duration": 387,
    "start_time": "2022-11-01T12:54:02.841Z"
   },
   {
    "duration": 5,
    "start_time": "2022-11-01T12:54:03.230Z"
   },
   {
    "duration": 1735,
    "start_time": "2022-11-01T12:54:03.237Z"
   },
   {
    "duration": 11,
    "start_time": "2022-11-01T12:54:04.973Z"
   },
   {
    "duration": 9,
    "start_time": "2022-11-01T12:54:08.147Z"
   },
   {
    "duration": 47,
    "start_time": "2022-11-01T12:54:15.259Z"
   },
   {
    "duration": 1243,
    "start_time": "2022-11-01T12:55:14.515Z"
   },
   {
    "duration": 41,
    "start_time": "2022-11-01T12:55:21.171Z"
   },
   {
    "duration": 41,
    "start_time": "2022-11-01T12:55:26.019Z"
   },
   {
    "duration": 758,
    "start_time": "2022-11-01T12:55:39.905Z"
   },
   {
    "duration": 21,
    "start_time": "2022-11-01T12:55:40.665Z"
   },
   {
    "duration": 393,
    "start_time": "2022-11-01T12:55:40.688Z"
   },
   {
    "duration": 7,
    "start_time": "2022-11-01T12:55:41.083Z"
   },
   {
    "duration": 1961,
    "start_time": "2022-11-01T12:55:41.091Z"
   },
   {
    "duration": 9,
    "start_time": "2022-11-01T12:55:43.053Z"
   },
   {
    "duration": 48,
    "start_time": "2022-11-01T12:55:43.064Z"
   },
   {
    "duration": 130,
    "start_time": "2022-11-01T12:55:43.114Z"
   },
   {
    "duration": 33,
    "start_time": "2022-11-01T12:55:43.245Z"
   },
   {
    "duration": 48,
    "start_time": "2022-11-01T12:55:43.280Z"
   },
   {
    "duration": 23,
    "start_time": "2022-11-01T12:55:43.329Z"
   },
   {
    "duration": 33,
    "start_time": "2022-11-01T12:55:43.353Z"
   },
   {
    "duration": 48,
    "start_time": "2022-11-01T12:55:43.388Z"
   },
   {
    "duration": 581,
    "start_time": "2022-11-01T12:55:43.438Z"
   },
   {
    "duration": 42,
    "start_time": "2022-11-01T12:55:44.020Z"
   },
   {
    "duration": 6,
    "start_time": "2022-11-01T12:55:44.076Z"
   },
   {
    "duration": 20,
    "start_time": "2022-11-01T12:55:44.083Z"
   },
   {
    "duration": 4,
    "start_time": "2022-11-01T12:55:44.104Z"
   },
   {
    "duration": 11,
    "start_time": "2022-11-01T12:55:44.110Z"
   },
   {
    "duration": 6,
    "start_time": "2022-11-01T12:55:44.123Z"
   },
   {
    "duration": 11,
    "start_time": "2022-11-01T12:55:44.131Z"
   },
   {
    "duration": 331,
    "start_time": "2022-11-01T12:55:44.143Z"
   },
   {
    "duration": 6,
    "start_time": "2022-11-01T12:55:44.476Z"
   },
   {
    "duration": 112,
    "start_time": "2022-11-01T12:55:44.484Z"
   },
   {
    "duration": 116,
    "start_time": "2022-11-01T12:55:44.598Z"
   },
   {
    "duration": 106,
    "start_time": "2022-11-01T12:55:44.715Z"
   },
   {
    "duration": 131,
    "start_time": "2022-11-01T12:55:44.823Z"
   },
   {
    "duration": 135,
    "start_time": "2022-11-01T12:55:44.956Z"
   },
   {
    "duration": 131,
    "start_time": "2022-11-01T12:55:45.093Z"
   },
   {
    "duration": 118,
    "start_time": "2022-11-01T12:55:45.226Z"
   },
   {
    "duration": 134,
    "start_time": "2022-11-01T12:55:45.346Z"
   },
   {
    "duration": 144,
    "start_time": "2022-11-01T12:55:45.482Z"
   },
   {
    "duration": 134,
    "start_time": "2022-11-01T12:55:45.627Z"
   },
   {
    "duration": 119,
    "start_time": "2022-11-01T12:55:45.763Z"
   },
   {
    "duration": 211,
    "start_time": "2022-11-01T12:55:45.883Z"
   },
   {
    "duration": 212,
    "start_time": "2022-11-01T12:55:46.096Z"
   },
   {
    "duration": 7,
    "start_time": "2022-11-01T12:55:46.309Z"
   },
   {
    "duration": 214,
    "start_time": "2022-11-01T12:55:46.317Z"
   },
   {
    "duration": 190,
    "start_time": "2022-11-01T12:55:46.533Z"
   },
   {
    "duration": 191,
    "start_time": "2022-11-01T12:55:46.724Z"
   },
   {
    "duration": 187,
    "start_time": "2022-11-01T12:55:46.917Z"
   },
   {
    "duration": 531,
    "start_time": "2022-11-01T12:55:47.106Z"
   },
   {
    "duration": 8,
    "start_time": "2022-11-01T12:55:47.638Z"
   },
   {
    "duration": 33,
    "start_time": "2022-11-01T12:55:47.647Z"
   },
   {
    "duration": 10,
    "start_time": "2022-11-01T12:55:47.682Z"
   },
   {
    "duration": 7,
    "start_time": "2022-11-01T12:55:47.694Z"
   },
   {
    "duration": 46,
    "start_time": "2022-11-01T12:55:47.702Z"
   },
   {
    "duration": 217,
    "start_time": "2022-11-01T12:55:47.750Z"
   },
   {
    "duration": 747,
    "start_time": "2022-11-01T12:56:05.360Z"
   },
   {
    "duration": 13,
    "start_time": "2022-11-01T12:56:06.109Z"
   },
   {
    "duration": 388,
    "start_time": "2022-11-01T12:56:06.123Z"
   },
   {
    "duration": 6,
    "start_time": "2022-11-01T12:56:06.512Z"
   },
   {
    "duration": 1864,
    "start_time": "2022-11-01T12:56:06.520Z"
   },
   {
    "duration": 10,
    "start_time": "2022-11-01T12:56:08.385Z"
   },
   {
    "duration": 46,
    "start_time": "2022-11-01T12:56:12.484Z"
   },
   {
    "duration": 603,
    "start_time": "2022-11-01T12:57:14.336Z"
   },
   {
    "duration": 590,
    "start_time": "2022-11-01T12:57:37.380Z"
   },
   {
    "duration": 68,
    "start_time": "2022-11-01T12:58:04.051Z"
   },
   {
    "duration": 30,
    "start_time": "2022-11-01T12:58:07.642Z"
   },
   {
    "duration": 42,
    "start_time": "2022-11-01T12:58:13.978Z"
   },
   {
    "duration": 8,
    "start_time": "2022-11-01T12:58:39.786Z"
   },
   {
    "duration": 1081,
    "start_time": "2022-11-01T12:58:51.706Z"
   },
   {
    "duration": 11,
    "start_time": "2022-11-01T12:59:04.883Z"
   },
   {
    "duration": 7,
    "start_time": "2022-11-01T12:59:13.146Z"
   },
   {
    "duration": 7,
    "start_time": "2022-11-01T12:59:27.378Z"
   },
   {
    "duration": 6,
    "start_time": "2022-11-01T13:02:08.593Z"
   },
   {
    "duration": 12,
    "start_time": "2022-11-01T13:02:11.320Z"
   },
   {
    "duration": 13,
    "start_time": "2022-11-01T13:02:28.830Z"
   },
   {
    "duration": 26,
    "start_time": "2022-11-01T13:02:42.784Z"
   },
   {
    "duration": 19,
    "start_time": "2022-11-01T13:03:45.664Z"
   },
   {
    "duration": 124,
    "start_time": "2022-11-01T13:03:58.560Z"
   },
   {
    "duration": 9,
    "start_time": "2022-11-01T13:05:11.317Z"
   },
   {
    "duration": 8,
    "start_time": "2022-11-01T13:05:19.894Z"
   },
   {
    "duration": 732,
    "start_time": "2022-11-01T13:05:30.746Z"
   },
   {
    "duration": 16,
    "start_time": "2022-11-01T13:05:31.480Z"
   },
   {
    "duration": 414,
    "start_time": "2022-11-01T13:05:31.498Z"
   },
   {
    "duration": 7,
    "start_time": "2022-11-01T13:05:31.913Z"
   },
   {
    "duration": 1862,
    "start_time": "2022-11-01T13:05:31.922Z"
   },
   {
    "duration": 9,
    "start_time": "2022-11-01T13:05:33.786Z"
   },
   {
    "duration": 12,
    "start_time": "2022-11-01T13:05:38.555Z"
   },
   {
    "duration": 12,
    "start_time": "2022-11-01T13:05:48.442Z"
   },
   {
    "duration": 7,
    "start_time": "2022-11-01T13:05:53.682Z"
   },
   {
    "duration": 10,
    "start_time": "2022-11-01T13:06:00.283Z"
   },
   {
    "duration": 10,
    "start_time": "2022-11-01T13:06:20.948Z"
   },
   {
    "duration": 18,
    "start_time": "2022-11-01T13:06:37.530Z"
   },
   {
    "duration": 6,
    "start_time": "2022-11-01T13:07:17.160Z"
   },
   {
    "duration": 210,
    "start_time": "2022-11-01T13:07:22.242Z"
   },
   {
    "duration": 215,
    "start_time": "2022-11-01T13:07:50.128Z"
   },
   {
    "duration": 5,
    "start_time": "2022-11-01T13:10:08.193Z"
   },
   {
    "duration": 6,
    "start_time": "2022-11-01T13:10:18.923Z"
   },
   {
    "duration": 8,
    "start_time": "2022-11-01T13:10:29.562Z"
   },
   {
    "duration": 6,
    "start_time": "2022-11-01T13:10:32.024Z"
   },
   {
    "duration": 5,
    "start_time": "2022-11-01T13:11:00.377Z"
   },
   {
    "duration": 4,
    "start_time": "2022-11-01T13:11:03.849Z"
   },
   {
    "duration": 8,
    "start_time": "2022-11-01T13:11:05.785Z"
   },
   {
    "duration": 16,
    "start_time": "2022-11-01T13:18:54.628Z"
   },
   {
    "duration": 744,
    "start_time": "2022-11-01T13:23:39.448Z"
   },
   {
    "duration": 14,
    "start_time": "2022-11-01T13:23:40.194Z"
   },
   {
    "duration": 399,
    "start_time": "2022-11-01T13:23:40.209Z"
   },
   {
    "duration": 6,
    "start_time": "2022-11-01T13:23:40.610Z"
   },
   {
    "duration": 1894,
    "start_time": "2022-11-01T13:23:40.618Z"
   },
   {
    "duration": 10,
    "start_time": "2022-11-01T13:23:42.514Z"
   },
   {
    "duration": 14,
    "start_time": "2022-11-01T13:23:42.526Z"
   },
   {
    "duration": 16,
    "start_time": "2022-11-01T13:23:42.542Z"
   },
   {
    "duration": 73,
    "start_time": "2022-11-01T13:26:38.353Z"
   },
   {
    "duration": 127,
    "start_time": "2022-11-01T13:26:48.320Z"
   },
   {
    "duration": 28,
    "start_time": "2022-11-01T13:26:57.840Z"
   },
   {
    "duration": 46,
    "start_time": "2022-11-01T13:27:01.992Z"
   },
   {
    "duration": 27,
    "start_time": "2022-11-01T13:27:05.305Z"
   },
   {
    "duration": 14,
    "start_time": "2022-11-01T13:29:40.014Z"
   },
   {
    "duration": 7,
    "start_time": "2022-11-01T13:29:51.999Z"
   },
   {
    "duration": 9,
    "start_time": "2022-11-01T13:30:00.327Z"
   },
   {
    "duration": 10,
    "start_time": "2022-11-01T13:30:40.910Z"
   },
   {
    "duration": 44,
    "start_time": "2022-11-01T13:31:57.565Z"
   },
   {
    "duration": 44,
    "start_time": "2022-11-01T13:32:04.438Z"
   },
   {
    "duration": 588,
    "start_time": "2022-11-01T13:33:43.796Z"
   },
   {
    "duration": 38,
    "start_time": "2022-11-01T13:39:32.097Z"
   },
   {
    "duration": 6,
    "start_time": "2022-11-01T13:39:41.361Z"
   },
   {
    "duration": 8,
    "start_time": "2022-11-01T13:39:45.929Z"
   },
   {
    "duration": 729,
    "start_time": "2022-11-01T13:40:03.034Z"
   },
   {
    "duration": 22,
    "start_time": "2022-11-01T13:40:03.765Z"
   },
   {
    "duration": 417,
    "start_time": "2022-11-01T13:40:03.788Z"
   },
   {
    "duration": 5,
    "start_time": "2022-11-01T13:40:04.207Z"
   },
   {
    "duration": 1758,
    "start_time": "2022-11-01T13:40:04.214Z"
   },
   {
    "duration": 8,
    "start_time": "2022-11-01T13:40:05.973Z"
   },
   {
    "duration": 12,
    "start_time": "2022-11-01T13:40:05.983Z"
   },
   {
    "duration": 18,
    "start_time": "2022-11-01T13:40:05.997Z"
   },
   {
    "duration": 147,
    "start_time": "2022-11-01T13:40:06.016Z"
   },
   {
    "duration": 28,
    "start_time": "2022-11-01T13:40:06.165Z"
   },
   {
    "duration": 47,
    "start_time": "2022-11-01T13:40:06.194Z"
   },
   {
    "duration": 51,
    "start_time": "2022-11-01T13:40:06.242Z"
   },
   {
    "duration": 7,
    "start_time": "2022-11-01T13:40:06.294Z"
   },
   {
    "duration": 16,
    "start_time": "2022-11-01T13:40:06.304Z"
   },
   {
    "duration": 58,
    "start_time": "2022-11-01T13:40:06.322Z"
   },
   {
    "duration": 566,
    "start_time": "2022-11-01T13:40:06.382Z"
   },
   {
    "duration": 43,
    "start_time": "2022-11-01T13:40:06.950Z"
   },
   {
    "duration": 5,
    "start_time": "2022-11-01T13:40:06.994Z"
   },
   {
    "duration": 10,
    "start_time": "2022-11-01T13:40:07.000Z"
   },
   {
    "duration": 6,
    "start_time": "2022-11-01T13:40:07.012Z"
   },
   {
    "duration": 10,
    "start_time": "2022-11-01T13:40:07.019Z"
   },
   {
    "duration": 5,
    "start_time": "2022-11-01T13:40:07.030Z"
   },
   {
    "duration": 6,
    "start_time": "2022-11-01T13:40:07.036Z"
   },
   {
    "duration": 358,
    "start_time": "2022-11-01T13:40:07.043Z"
   },
   {
    "duration": 4,
    "start_time": "2022-11-01T13:40:07.403Z"
   },
   {
    "duration": 122,
    "start_time": "2022-11-01T13:40:07.408Z"
   },
   {
    "duration": 114,
    "start_time": "2022-11-01T13:40:07.532Z"
   },
   {
    "duration": 158,
    "start_time": "2022-11-01T13:40:07.650Z"
   },
   {
    "duration": 203,
    "start_time": "2022-11-01T13:40:07.810Z"
   },
   {
    "duration": 164,
    "start_time": "2022-11-01T13:40:08.015Z"
   },
   {
    "duration": 148,
    "start_time": "2022-11-01T13:40:08.180Z"
   },
   {
    "duration": 118,
    "start_time": "2022-11-01T13:40:08.329Z"
   },
   {
    "duration": 145,
    "start_time": "2022-11-01T13:40:08.448Z"
   },
   {
    "duration": 139,
    "start_time": "2022-11-01T13:40:08.595Z"
   },
   {
    "duration": 162,
    "start_time": "2022-11-01T13:40:08.736Z"
   },
   {
    "duration": 126,
    "start_time": "2022-11-01T13:40:08.900Z"
   },
   {
    "duration": 219,
    "start_time": "2022-11-01T13:40:09.028Z"
   },
   {
    "duration": 212,
    "start_time": "2022-11-01T13:40:09.249Z"
   },
   {
    "duration": 19,
    "start_time": "2022-11-01T13:40:09.462Z"
   },
   {
    "duration": 192,
    "start_time": "2022-11-01T13:40:09.482Z"
   },
   {
    "duration": 214,
    "start_time": "2022-11-01T13:40:09.680Z"
   },
   {
    "duration": 204,
    "start_time": "2022-11-01T13:40:09.895Z"
   },
   {
    "duration": 198,
    "start_time": "2022-11-01T13:40:10.101Z"
   },
   {
    "duration": 551,
    "start_time": "2022-11-01T13:40:10.301Z"
   },
   {
    "duration": 7,
    "start_time": "2022-11-01T13:40:10.853Z"
   },
   {
    "duration": 33,
    "start_time": "2022-11-01T13:40:10.862Z"
   },
   {
    "duration": 6,
    "start_time": "2022-11-01T13:40:10.897Z"
   },
   {
    "duration": 8,
    "start_time": "2022-11-01T13:40:10.905Z"
   },
   {
    "duration": 39,
    "start_time": "2022-11-01T13:40:10.915Z"
   },
   {
    "duration": 185,
    "start_time": "2022-11-01T13:40:10.955Z"
   },
   {
    "duration": 7,
    "start_time": "2022-11-01T13:42:16.473Z"
   },
   {
    "duration": 71,
    "start_time": "2022-11-01T13:42:25.296Z"
   },
   {
    "duration": 13,
    "start_time": "2022-11-01T13:42:27.800Z"
   },
   {
    "duration": 7,
    "start_time": "2022-11-01T13:43:00.559Z"
   },
   {
    "duration": 20,
    "start_time": "2022-11-01T13:43:55.719Z"
   },
   {
    "duration": 7,
    "start_time": "2022-11-01T13:44:42.671Z"
   },
   {
    "duration": 115,
    "start_time": "2022-11-01T14:12:00.358Z"
   },
   {
    "duration": 782,
    "start_time": "2022-11-01T14:14:42.708Z"
   },
   {
    "duration": 128,
    "start_time": "2022-11-01T14:14:50.044Z"
   },
   {
    "duration": 85,
    "start_time": "2022-11-01T14:15:36.923Z"
   },
   {
    "duration": 160,
    "start_time": "2022-11-01T14:15:41.547Z"
   },
   {
    "duration": 4,
    "start_time": "2022-11-01T14:16:09.978Z"
   },
   {
    "duration": 107,
    "start_time": "2022-11-01T14:16:12.380Z"
   },
   {
    "duration": 97,
    "start_time": "2022-11-01T14:16:18.099Z"
   },
   {
    "duration": 94,
    "start_time": "2022-11-01T14:16:21.354Z"
   },
   {
    "duration": 96,
    "start_time": "2022-11-01T14:16:25.418Z"
   },
   {
    "duration": 95,
    "start_time": "2022-11-01T14:16:34.146Z"
   },
   {
    "duration": 91,
    "start_time": "2022-11-01T14:17:03.409Z"
   },
   {
    "duration": 96,
    "start_time": "2022-11-01T14:17:06.995Z"
   },
   {
    "duration": 93,
    "start_time": "2022-11-01T14:17:12.410Z"
   },
   {
    "duration": 111,
    "start_time": "2022-11-01T14:17:15.379Z"
   },
   {
    "duration": 107,
    "start_time": "2022-11-01T14:17:19.714Z"
   },
   {
    "duration": 106,
    "start_time": "2022-11-01T14:17:22.114Z"
   },
   {
    "duration": 90,
    "start_time": "2022-11-01T14:17:31.652Z"
   },
   {
    "duration": 102,
    "start_time": "2022-11-01T14:21:11.609Z"
   },
   {
    "duration": 94,
    "start_time": "2022-11-01T14:21:30.216Z"
   },
   {
    "duration": 99,
    "start_time": "2022-11-01T14:21:35.344Z"
   },
   {
    "duration": 99,
    "start_time": "2022-11-01T14:21:43.104Z"
   },
   {
    "duration": 111,
    "start_time": "2022-11-01T14:21:45.672Z"
   },
   {
    "duration": 349,
    "start_time": "2022-11-01T14:21:47.984Z"
   },
   {
    "duration": 97,
    "start_time": "2022-11-01T14:21:56.943Z"
   },
   {
    "duration": 111,
    "start_time": "2022-11-01T14:24:57.814Z"
   },
   {
    "duration": 89,
    "start_time": "2022-11-01T14:25:01.590Z"
   },
   {
    "duration": 92,
    "start_time": "2022-11-01T14:25:04.773Z"
   },
   {
    "duration": 114,
    "start_time": "2022-11-01T14:25:07.950Z"
   },
   {
    "duration": 93,
    "start_time": "2022-11-01T14:25:10.605Z"
   },
   {
    "duration": 93,
    "start_time": "2022-11-01T14:25:12.997Z"
   },
   {
    "duration": 98,
    "start_time": "2022-11-01T14:25:15.805Z"
   },
   {
    "duration": 88,
    "start_time": "2022-11-01T14:25:18.782Z"
   },
   {
    "duration": 109,
    "start_time": "2022-11-01T14:26:52.924Z"
   },
   {
    "duration": 110,
    "start_time": "2022-11-01T14:26:57.013Z"
   },
   {
    "duration": 1158,
    "start_time": "2022-11-01T14:29:34.011Z"
   },
   {
    "duration": 35,
    "start_time": "2022-11-01T14:29:42.010Z"
   },
   {
    "duration": 7,
    "start_time": "2022-11-01T14:29:54.643Z"
   },
   {
    "duration": 9,
    "start_time": "2022-11-01T14:30:05.122Z"
   },
   {
    "duration": 122,
    "start_time": "2022-11-01T14:31:55.081Z"
   },
   {
    "duration": 123,
    "start_time": "2022-11-01T14:31:59.637Z"
   },
   {
    "duration": 124,
    "start_time": "2022-11-01T14:32:06.969Z"
   },
   {
    "duration": 97,
    "start_time": "2022-11-01T14:32:10.561Z"
   },
   {
    "duration": 131,
    "start_time": "2022-11-01T14:32:12.657Z"
   },
   {
    "duration": 102,
    "start_time": "2022-11-01T14:32:22.736Z"
   },
   {
    "duration": 100,
    "start_time": "2022-11-01T14:32:25.985Z"
   },
   {
    "duration": 78,
    "start_time": "2022-11-01T14:32:32.281Z"
   },
   {
    "duration": 200,
    "start_time": "2022-11-01T14:32:36.441Z"
   },
   {
    "duration": 206,
    "start_time": "2022-11-01T14:39:00.278Z"
   },
   {
    "duration": 207,
    "start_time": "2022-11-01T14:39:03.717Z"
   },
   {
    "duration": 208,
    "start_time": "2022-11-01T14:41:38.853Z"
   },
   {
    "duration": 198,
    "start_time": "2022-11-01T14:41:43.620Z"
   },
   {
    "duration": 208,
    "start_time": "2022-11-01T14:41:46.852Z"
   },
   {
    "duration": 201,
    "start_time": "2022-11-01T14:43:16.939Z"
   },
   {
    "duration": 199,
    "start_time": "2022-11-01T14:43:21.387Z"
   },
   {
    "duration": 209,
    "start_time": "2022-11-01T14:43:26.555Z"
   },
   {
    "duration": 483,
    "start_time": "2022-11-01T14:43:29.531Z"
   },
   {
    "duration": 205,
    "start_time": "2022-11-01T14:43:32.066Z"
   },
   {
    "duration": 192,
    "start_time": "2022-11-01T14:43:34.708Z"
   },
   {
    "duration": 192,
    "start_time": "2022-11-01T14:43:38.059Z"
   },
   {
    "duration": 209,
    "start_time": "2022-11-01T14:43:40.387Z"
   },
   {
    "duration": 213,
    "start_time": "2022-11-01T14:43:42.907Z"
   },
   {
    "duration": 202,
    "start_time": "2022-11-01T14:43:45.163Z"
   },
   {
    "duration": 201,
    "start_time": "2022-11-01T14:43:58.978Z"
   },
   {
    "duration": 105,
    "start_time": "2022-11-01T16:26:39.021Z"
   },
   {
    "duration": 101,
    "start_time": "2022-11-01T16:26:49.888Z"
   },
   {
    "duration": 98,
    "start_time": "2022-11-01T16:26:58.639Z"
   },
   {
    "duration": 75,
    "start_time": "2022-11-01T16:27:28.926Z"
   },
   {
    "duration": 106,
    "start_time": "2022-11-01T16:27:40.831Z"
   },
   {
    "duration": 114,
    "start_time": "2022-11-01T16:28:47.302Z"
   },
   {
    "duration": 104,
    "start_time": "2022-11-01T16:28:53.845Z"
   },
   {
    "duration": 117,
    "start_time": "2022-11-01T16:28:59.782Z"
   },
   {
    "duration": 110,
    "start_time": "2022-11-01T16:29:39.669Z"
   },
   {
    "duration": 172,
    "start_time": "2022-11-01T16:29:57.766Z"
   },
   {
    "duration": 128,
    "start_time": "2022-11-01T16:30:18.925Z"
   },
   {
    "duration": 137,
    "start_time": "2022-11-01T16:30:39.589Z"
   },
   {
    "duration": 279,
    "start_time": "2022-11-01T16:30:53.949Z"
   },
   {
    "duration": 252,
    "start_time": "2022-11-01T16:30:59.997Z"
   },
   {
    "duration": 113,
    "start_time": "2022-11-01T16:31:09.342Z"
   },
   {
    "duration": 109,
    "start_time": "2022-11-01T16:31:19.182Z"
   },
   {
    "duration": 262,
    "start_time": "2022-11-01T16:31:24.677Z"
   },
   {
    "duration": 106,
    "start_time": "2022-11-01T16:31:28.301Z"
   },
   {
    "duration": 139,
    "start_time": "2022-11-01T16:31:37.421Z"
   },
   {
    "duration": 129,
    "start_time": "2022-11-01T16:32:10.724Z"
   },
   {
    "duration": 141,
    "start_time": "2022-11-01T16:33:01.748Z"
   },
   {
    "duration": 115,
    "start_time": "2022-11-01T16:33:44.803Z"
   },
   {
    "duration": 839,
    "start_time": "2022-11-02T10:39:06.612Z"
   },
   {
    "duration": 15,
    "start_time": "2022-11-02T10:39:07.453Z"
   },
   {
    "duration": 581,
    "start_time": "2022-11-02T10:39:07.470Z"
   },
   {
    "duration": 13,
    "start_time": "2022-11-02T10:39:08.054Z"
   },
   {
    "duration": 2205,
    "start_time": "2022-11-02T10:39:08.070Z"
   },
   {
    "duration": 10,
    "start_time": "2022-11-02T10:39:10.276Z"
   },
   {
    "duration": 26,
    "start_time": "2022-11-02T10:39:10.288Z"
   },
   {
    "duration": 31,
    "start_time": "2022-11-02T10:39:10.315Z"
   },
   {
    "duration": 171,
    "start_time": "2022-11-02T10:39:10.349Z"
   },
   {
    "duration": 27,
    "start_time": "2022-11-02T10:39:10.531Z"
   },
   {
    "duration": 79,
    "start_time": "2022-11-02T10:39:10.560Z"
   },
   {
    "duration": 27,
    "start_time": "2022-11-02T10:39:10.641Z"
   },
   {
    "duration": 9,
    "start_time": "2022-11-02T10:39:10.670Z"
   },
   {
    "duration": 18,
    "start_time": "2022-11-02T10:39:10.681Z"
   },
   {
    "duration": 63,
    "start_time": "2022-11-02T10:39:10.733Z"
   },
   {
    "duration": 764,
    "start_time": "2022-11-02T10:39:10.798Z"
   },
   {
    "duration": 51,
    "start_time": "2022-11-02T10:39:11.564Z"
   },
   {
    "duration": 20,
    "start_time": "2022-11-02T10:39:11.617Z"
   },
   {
    "duration": 26,
    "start_time": "2022-11-02T10:39:11.639Z"
   },
   {
    "duration": 9,
    "start_time": "2022-11-02T10:39:11.667Z"
   },
   {
    "duration": 21,
    "start_time": "2022-11-02T10:39:11.678Z"
   },
   {
    "duration": 32,
    "start_time": "2022-11-02T10:39:11.701Z"
   },
   {
    "duration": 12,
    "start_time": "2022-11-02T10:39:11.734Z"
   },
   {
    "duration": 411,
    "start_time": "2022-11-02T10:39:11.748Z"
   },
   {
    "duration": 5,
    "start_time": "2022-11-02T10:39:12.160Z"
   },
   {
    "duration": 156,
    "start_time": "2022-11-02T10:39:12.167Z"
   },
   {
    "duration": 177,
    "start_time": "2022-11-02T10:39:12.325Z"
   },
   {
    "duration": 168,
    "start_time": "2022-11-02T10:39:12.505Z"
   },
   {
    "duration": 210,
    "start_time": "2022-11-02T10:39:12.676Z"
   },
   {
    "duration": 180,
    "start_time": "2022-11-02T10:39:12.888Z"
   },
   {
    "duration": 178,
    "start_time": "2022-11-02T10:39:13.071Z"
   },
   {
    "duration": 157,
    "start_time": "2022-11-02T10:39:13.251Z"
   },
   {
    "duration": 206,
    "start_time": "2022-11-02T10:39:13.410Z"
   },
   {
    "duration": 205,
    "start_time": "2022-11-02T10:39:13.619Z"
   },
   {
    "duration": 218,
    "start_time": "2022-11-02T10:39:13.832Z"
   },
   {
    "duration": 187,
    "start_time": "2022-11-02T10:39:14.052Z"
   },
   {
    "duration": 287,
    "start_time": "2022-11-02T10:39:14.241Z"
   },
   {
    "duration": 274,
    "start_time": "2022-11-02T10:39:14.534Z"
   },
   {
    "duration": 7,
    "start_time": "2022-11-02T10:39:14.810Z"
   },
   {
    "duration": 279,
    "start_time": "2022-11-02T10:39:14.819Z"
   },
   {
    "duration": 12,
    "start_time": "2022-11-02T10:39:15.100Z"
   },
   {
    "duration": 251,
    "start_time": "2022-11-02T10:39:15.114Z"
   },
   {
    "duration": 304,
    "start_time": "2022-11-02T10:39:15.368Z"
   },
   {
    "duration": 277,
    "start_time": "2022-11-02T10:39:15.674Z"
   },
   {
    "duration": 256,
    "start_time": "2022-11-02T10:39:15.952Z"
   },
   {
    "duration": 721,
    "start_time": "2022-11-02T10:39:16.211Z"
   },
   {
    "duration": 11,
    "start_time": "2022-11-02T10:39:16.934Z"
   },
   {
    "duration": 48,
    "start_time": "2022-11-02T10:39:16.946Z"
   },
   {
    "duration": 23,
    "start_time": "2022-11-02T10:39:16.996Z"
   },
   {
    "duration": 24,
    "start_time": "2022-11-02T10:39:17.020Z"
   },
   {
    "duration": 79,
    "start_time": "2022-11-02T10:39:17.045Z"
   },
   {
    "duration": 214,
    "start_time": "2022-11-02T10:39:17.126Z"
   }
  ],
  "hide_input": false,
  "kernelspec": {
   "display_name": "Python 3 (ipykernel)",
   "language": "python",
   "name": "python3"
  },
  "language_info": {
   "codemirror_mode": {
    "name": "ipython",
    "version": 3
   },
   "file_extension": ".py",
   "mimetype": "text/x-python",
   "name": "python",
   "nbconvert_exporter": "python",
   "pygments_lexer": "ipython3",
   "version": "3.9.5"
  },
  "toc": {
   "base_numbering": 1,
   "nav_menu": {},
   "number_sections": true,
   "sideBar": true,
   "skip_h1_title": true,
   "title_cell": "Table of Contents",
   "title_sidebar": "Contents",
   "toc_cell": false,
   "toc_position": {
    "height": "calc(100% - 180px)",
    "left": "10px",
    "top": "150px",
    "width": "384px"
   },
   "toc_section_display": true,
   "toc_window_display": false
  }
 },
 "nbformat": 4,
 "nbformat_minor": 4
}
