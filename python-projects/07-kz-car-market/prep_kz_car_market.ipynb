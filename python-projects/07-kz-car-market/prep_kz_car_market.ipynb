{
 "cells": [
  {
   "cell_type": "markdown",
   "id": "310a010f-1065-44a0-8fd1-b88a1de0bc56",
   "metadata": {},
   "source": [
    "# Предобработка данных с продажами автомобилей в Казахстане"
   ]
  },
  {
   "cell_type": "markdown",
   "id": "78f7eb1f-9d07-47fa-a23e-f3aa246035ec",
   "metadata": {},
   "source": [
    "Мы имеем агрегированные данные по авторынку — дан датасет `auto_kz_2019.csv` с продажами автомобилей в Казахстане за $2019$ год в период с января по сентябрь.\n",
    "\n",
    "**Цель:** провести предобработку датасета, чтобы он был пригодным для анализа. \n",
    "\n",
    "**Задачи и план действий:**\n",
    "\n",
    "1. Обзор данных\n",
    "    1. Обзор колонок\n",
    "<br>\n",
    "<br>\n",
    "2. Предобработка данных\n",
    "    1. Работа с колонками\n",
    "        1. Удаление\n",
    "        2. Переименование\n",
    "        3. Создание\n",
    "        4. Замена типов данных\n",
    "    2. \"Олицетворение\" данных\n",
    "    3. Дубликаты и аномалии\n",
    "    4. Пропущенные значения\n",
    "    5. Ошибки в классификациях"
   ]
  },
  {
   "cell_type": "markdown",
   "id": "b27bd38c-5718-4791-8382-e76cb83f1d55",
   "metadata": {},
   "source": [
    "<br>"
   ]
  },
  {
   "cell_type": "markdown",
   "id": "4665063a-e078-4285-b2a8-9c3289b820a4",
   "metadata": {},
   "source": [
    "## Обзор данных"
   ]
  },
  {
   "cell_type": "markdown",
   "id": "1fc9f410-4eca-4967-a12d-b7748099033c",
   "metadata": {},
   "source": [
    "Сначала импортируем нужные библиотеки и зададим опции."
   ]
  },
  {
   "cell_type": "code",
   "execution_count": 1,
   "id": "189cdf43-f623-4675-8909-6ea5f7aaf4cd",
   "metadata": {},
   "outputs": [],
   "source": [
    "# импорт библиотек\n",
    "import pandas as pd\n",
    "import numpy as np\n",
    "\n",
    "# отображение неограниченного количества колонок в выводе\n",
    "pd.set_option('display.max_columns', None)"
   ]
  },
  {
   "cell_type": "markdown",
   "id": "823b9ca4-cd89-4f21-8241-fb39fe791e91",
   "metadata": {},
   "source": [
    "Прочитаем csv файл."
   ]
  },
  {
   "cell_type": "code",
   "execution_count": 2,
   "id": "2016d0b7-bc5d-401e-a972-5e4c48900193",
   "metadata": {},
   "outputs": [],
   "source": [
    "# чтение файла\n",
    "df = pd.read_csv('https://raw.githubusercontent.com/SweexFox/portfolio-projects/main/python-projects/7-kz-car-market/raw_auto_kz.csv', sep=';')"
   ]
  },
  {
   "cell_type": "markdown",
   "id": "35ff4e41-d26c-4720-b0e0-8ca86eef5407",
   "metadata": {},
   "source": [
    "Посмотрим первые строки."
   ]
  },
  {
   "cell_type": "code",
   "execution_count": 3,
   "id": "9cd3b6a8-524e-4d0f-bcae-f001de00f6f2",
   "metadata": {},
   "outputs": [
    {
     "data": {
      "text/html": [
       "<div>\n",
       "<style scoped>\n",
       "    .dataframe tbody tr th:only-of-type {\n",
       "        vertical-align: middle;\n",
       "    }\n",
       "\n",
       "    .dataframe tbody tr th {\n",
       "        vertical-align: top;\n",
       "    }\n",
       "\n",
       "    .dataframe thead th {\n",
       "        text-align: right;\n",
       "    }\n",
       "</style>\n",
       "<table border=\"1\" class=\"dataframe\">\n",
       "  <thead>\n",
       "    <tr style=\"text-align: right;\">\n",
       "      <th></th>\n",
       "      <th>Год</th>\n",
       "      <th>Месяц</th>\n",
       "      <th>Компания</th>\n",
       "      <th>Бренд</th>\n",
       "      <th>Модель</th>\n",
       "      <th>Модификация</th>\n",
       "      <th>Год выпуска</th>\n",
       "      <th>Страна-производитель</th>\n",
       "      <th>Вид топлива</th>\n",
       "      <th>Объём двиг, л,</th>\n",
       "      <th>Коробка передач</th>\n",
       "      <th>Тип привода</th>\n",
       "      <th>Сегмент</th>\n",
       "      <th>Регион</th>\n",
       "      <th>Наименование дилерского центра</th>\n",
       "      <th>Тип клиента</th>\n",
       "      <th>Форма расчета</th>\n",
       "      <th>Количество</th>\n",
       "      <th>Цена, USD</th>\n",
       "      <th>Продажа, USD</th>\n",
       "      <th>Область</th>\n",
       "      <th>Сегментация 2013</th>\n",
       "      <th>Класс 2013</th>\n",
       "      <th>Сегментация Eng</th>\n",
       "      <th>Локализация производства</th>\n",
       "    </tr>\n",
       "  </thead>\n",
       "  <tbody>\n",
       "    <tr>\n",
       "      <th>0</th>\n",
       "      <td>2019</td>\n",
       "      <td>Май</td>\n",
       "      <td>Mercur Auto</td>\n",
       "      <td>Audi</td>\n",
       "      <td>A3</td>\n",
       "      <td>TFSI</td>\n",
       "      <td>2018</td>\n",
       "      <td>Германия</td>\n",
       "      <td>Бензин</td>\n",
       "      <td>1,4</td>\n",
       "      <td>S-tronic</td>\n",
       "      <td>передний</td>\n",
       "      <td>Легковые автомобили Premium</td>\n",
       "      <td>Алматы</td>\n",
       "      <td>Mercur Auto Алматы</td>\n",
       "      <td>Физ. Лицо</td>\n",
       "      <td>безналичный</td>\n",
       "      <td>1.0</td>\n",
       "      <td>28115</td>\n",
       "      <td>28115</td>\n",
       "      <td>г.Алматы</td>\n",
       "      <td>Легковые автомобили</td>\n",
       "      <td>C класс</td>\n",
       "      <td>C</td>\n",
       "      <td>Импорт</td>\n",
       "    </tr>\n",
       "    <tr>\n",
       "      <th>1</th>\n",
       "      <td>2019</td>\n",
       "      <td>Август</td>\n",
       "      <td>Mercur Auto</td>\n",
       "      <td>Audi</td>\n",
       "      <td>A3</td>\n",
       "      <td>TFSI</td>\n",
       "      <td>2018</td>\n",
       "      <td>Германия</td>\n",
       "      <td>Бензин</td>\n",
       "      <td>1,4</td>\n",
       "      <td>S-tronic</td>\n",
       "      <td>передний</td>\n",
       "      <td>Легковые автомобили Premium</td>\n",
       "      <td>Алматы</td>\n",
       "      <td>Mercur Auto Алматы</td>\n",
       "      <td>Юр. Лицо</td>\n",
       "      <td>наличный</td>\n",
       "      <td>1.0</td>\n",
       "      <td>32246,99</td>\n",
       "      <td>32246,99</td>\n",
       "      <td>г.Алматы</td>\n",
       "      <td>Легковые автомобили</td>\n",
       "      <td>C класс</td>\n",
       "      <td>C</td>\n",
       "      <td>Импорт</td>\n",
       "    </tr>\n",
       "    <tr>\n",
       "      <th>2</th>\n",
       "      <td>2019</td>\n",
       "      <td>Апрель</td>\n",
       "      <td>Mercur Auto</td>\n",
       "      <td>Audi</td>\n",
       "      <td>A4</td>\n",
       "      <td>TFSI</td>\n",
       "      <td>2018</td>\n",
       "      <td>Германия</td>\n",
       "      <td>Бензин</td>\n",
       "      <td>1,4</td>\n",
       "      <td>S-Tronic</td>\n",
       "      <td>FWD</td>\n",
       "      <td>Легковые автомобили Premium</td>\n",
       "      <td>Алматы</td>\n",
       "      <td>Mercur Auto Алматы</td>\n",
       "      <td>Физ. Лицо</td>\n",
       "      <td>безналичный</td>\n",
       "      <td>1.0</td>\n",
       "      <td>32000</td>\n",
       "      <td>32000</td>\n",
       "      <td>г.Алматы</td>\n",
       "      <td>Легковые автомобили</td>\n",
       "      <td>D класс</td>\n",
       "      <td>D</td>\n",
       "      <td>Импорт</td>\n",
       "    </tr>\n",
       "    <tr>\n",
       "      <th>3</th>\n",
       "      <td>2019</td>\n",
       "      <td>Июль</td>\n",
       "      <td>Mercur Auto</td>\n",
       "      <td>Audi</td>\n",
       "      <td>A4</td>\n",
       "      <td>TFSI</td>\n",
       "      <td>2018</td>\n",
       "      <td>Германия</td>\n",
       "      <td>Бензин</td>\n",
       "      <td>1,4</td>\n",
       "      <td>S-tronic</td>\n",
       "      <td>передний</td>\n",
       "      <td>Легковые автомобили Premium</td>\n",
       "      <td>Алматы</td>\n",
       "      <td>Mercur Auto Алматы</td>\n",
       "      <td>Юр. Лицо</td>\n",
       "      <td>безналичный</td>\n",
       "      <td>1.0</td>\n",
       "      <td>31929</td>\n",
       "      <td>31929</td>\n",
       "      <td>г.Алматы</td>\n",
       "      <td>Легковые автомобили</td>\n",
       "      <td>D класс</td>\n",
       "      <td>D</td>\n",
       "      <td>Импорт</td>\n",
       "    </tr>\n",
       "    <tr>\n",
       "      <th>4</th>\n",
       "      <td>2019</td>\n",
       "      <td>Июль</td>\n",
       "      <td>Mercur Auto</td>\n",
       "      <td>Audi</td>\n",
       "      <td>A4</td>\n",
       "      <td>TFSI</td>\n",
       "      <td>2018</td>\n",
       "      <td>Германия</td>\n",
       "      <td>Бензин</td>\n",
       "      <td>1,4</td>\n",
       "      <td>S-tronic</td>\n",
       "      <td>передний</td>\n",
       "      <td>Легковые автомобили Premium</td>\n",
       "      <td>Алматы</td>\n",
       "      <td>Mercur Auto Алматы</td>\n",
       "      <td>Физ. Лицо</td>\n",
       "      <td>наличный</td>\n",
       "      <td>1.0</td>\n",
       "      <td>31929</td>\n",
       "      <td>31929</td>\n",
       "      <td>г.Алматы</td>\n",
       "      <td>Легковые автомобили</td>\n",
       "      <td>D класс</td>\n",
       "      <td>D</td>\n",
       "      <td>Импорт</td>\n",
       "    </tr>\n",
       "    <tr>\n",
       "      <th>...</th>\n",
       "      <td>...</td>\n",
       "      <td>...</td>\n",
       "      <td>...</td>\n",
       "      <td>...</td>\n",
       "      <td>...</td>\n",
       "      <td>...</td>\n",
       "      <td>...</td>\n",
       "      <td>...</td>\n",
       "      <td>...</td>\n",
       "      <td>...</td>\n",
       "      <td>...</td>\n",
       "      <td>...</td>\n",
       "      <td>...</td>\n",
       "      <td>...</td>\n",
       "      <td>...</td>\n",
       "      <td>...</td>\n",
       "      <td>...</td>\n",
       "      <td>...</td>\n",
       "      <td>...</td>\n",
       "      <td>...</td>\n",
       "      <td>...</td>\n",
       "      <td>...</td>\n",
       "      <td>...</td>\n",
       "      <td>...</td>\n",
       "      <td>...</td>\n",
       "    </tr>\n",
       "    <tr>\n",
       "      <th>39961</th>\n",
       "      <td>2019</td>\n",
       "      <td>Сентябрь</td>\n",
       "      <td>ТК КАМАЗ</td>\n",
       "      <td>KAMAZ</td>\n",
       "      <td>58815Z</td>\n",
       "      <td>KAMAZ 58815Z</td>\n",
       "      <td>2019</td>\n",
       "      <td>Республика Казахстан</td>\n",
       "      <td>Дизель</td>\n",
       "      <td>NaN</td>\n",
       "      <td>MT</td>\n",
       "      <td>NaN</td>\n",
       "      <td>Грузовой автомобиль</td>\n",
       "      <td>Актобе</td>\n",
       "      <td>ЗапКазКАМАЗ -Актобе</td>\n",
       "      <td>Юр. Лицо</td>\n",
       "      <td>Безналичная</td>\n",
       "      <td>1.0</td>\n",
       "      <td>48756,92071</td>\n",
       "      <td>48756,92071</td>\n",
       "      <td>Актюбинская область</td>\n",
       "      <td>Коммерческие автомобили</td>\n",
       "      <td>Крупнотоннажные грузовики</td>\n",
       "      <td>O</td>\n",
       "      <td>Локальное производство</td>\n",
       "    </tr>\n",
       "    <tr>\n",
       "      <th>39962</th>\n",
       "      <td>2019</td>\n",
       "      <td>Сентябрь</td>\n",
       "      <td>ТК КАМАЗ</td>\n",
       "      <td>KAMAZ</td>\n",
       "      <td>58815Z</td>\n",
       "      <td>KAMAZ 58815Z</td>\n",
       "      <td>2019</td>\n",
       "      <td>Республика Казахстан</td>\n",
       "      <td>Дизель</td>\n",
       "      <td>NaN</td>\n",
       "      <td>MT</td>\n",
       "      <td>NaN</td>\n",
       "      <td>Грузовой автомобиль</td>\n",
       "      <td>Актобе</td>\n",
       "      <td>ЗапКазКАМАЗ -Актобе</td>\n",
       "      <td>Юр. Лицо</td>\n",
       "      <td>Безналичная</td>\n",
       "      <td>1.0</td>\n",
       "      <td>48756,92071</td>\n",
       "      <td>48756,92071</td>\n",
       "      <td>Актюбинская область</td>\n",
       "      <td>Коммерческие автомобили</td>\n",
       "      <td>Крупнотоннажные грузовики</td>\n",
       "      <td>O</td>\n",
       "      <td>Локальное производство</td>\n",
       "    </tr>\n",
       "    <tr>\n",
       "      <th>39963</th>\n",
       "      <td>2019</td>\n",
       "      <td>Сентябрь</td>\n",
       "      <td>ТК КАМАЗ</td>\n",
       "      <td>KAMAZ</td>\n",
       "      <td>58815Z</td>\n",
       "      <td>KAMAZ 58815Z</td>\n",
       "      <td>2019</td>\n",
       "      <td>Республика Казахстан</td>\n",
       "      <td>Дизель</td>\n",
       "      <td>NaN</td>\n",
       "      <td>MT</td>\n",
       "      <td>NaN</td>\n",
       "      <td>Грузовой автомобиль</td>\n",
       "      <td>Актобе</td>\n",
       "      <td>ЗапКазКАМАЗ -Актобе</td>\n",
       "      <td>Юр. Лицо</td>\n",
       "      <td>Безналичная</td>\n",
       "      <td>1.0</td>\n",
       "      <td>48756,92071</td>\n",
       "      <td>48756,92071</td>\n",
       "      <td>Актюбинская область</td>\n",
       "      <td>Коммерческие автомобили</td>\n",
       "      <td>Крупнотоннажные грузовики</td>\n",
       "      <td>O</td>\n",
       "      <td>Локальное производство</td>\n",
       "    </tr>\n",
       "    <tr>\n",
       "      <th>39964</th>\n",
       "      <td>2019</td>\n",
       "      <td>Сентябрь</td>\n",
       "      <td>ТК КАМАЗ</td>\n",
       "      <td>KAMAZ</td>\n",
       "      <td>58815Z</td>\n",
       "      <td>KAMAZ 58815Z</td>\n",
       "      <td>2019</td>\n",
       "      <td>Республика Казахстан</td>\n",
       "      <td>Дизель</td>\n",
       "      <td>NaN</td>\n",
       "      <td>MT</td>\n",
       "      <td>NaN</td>\n",
       "      <td>Грузовой автомобиль</td>\n",
       "      <td>Актобе</td>\n",
       "      <td>ЗапКазКАМАЗ -Актобе</td>\n",
       "      <td>Юр. Лицо</td>\n",
       "      <td>Безналичная</td>\n",
       "      <td>1.0</td>\n",
       "      <td>48756,92071</td>\n",
       "      <td>48756,92071</td>\n",
       "      <td>Актюбинская область</td>\n",
       "      <td>Коммерческие автомобили</td>\n",
       "      <td>Крупнотоннажные грузовики</td>\n",
       "      <td>O</td>\n",
       "      <td>Локальное производство</td>\n",
       "    </tr>\n",
       "    <tr>\n",
       "      <th>39965</th>\n",
       "      <td>2019</td>\n",
       "      <td>Сентябрь</td>\n",
       "      <td>ТК КАМАЗ</td>\n",
       "      <td>KAMAZ</td>\n",
       "      <td>58815Z</td>\n",
       "      <td>KAMAZ 58815Z</td>\n",
       "      <td>2019</td>\n",
       "      <td>Республика Казахстан</td>\n",
       "      <td>Дизель</td>\n",
       "      <td>NaN</td>\n",
       "      <td>MT</td>\n",
       "      <td>NaN</td>\n",
       "      <td>Грузовой автомобиль</td>\n",
       "      <td>Актобе</td>\n",
       "      <td>ЗапКазКАМАЗ -Актобе</td>\n",
       "      <td>Юр. Лицо</td>\n",
       "      <td>Безналичная</td>\n",
       "      <td>1.0</td>\n",
       "      <td>48756,92071</td>\n",
       "      <td>48756,92071</td>\n",
       "      <td>Актюбинская область</td>\n",
       "      <td>Коммерческие автомобили</td>\n",
       "      <td>Крупнотоннажные грузовики</td>\n",
       "      <td>O</td>\n",
       "      <td>Локальное производство</td>\n",
       "    </tr>\n",
       "  </tbody>\n",
       "</table>\n",
       "<p>39966 rows × 25 columns</p>\n",
       "</div>"
      ],
      "text/plain": [
       "        Год     Месяц     Компания  Бренд  Модель   Модификация Год выпуска  \\\n",
       "0      2019       Май  Mercur Auto   Audi      A3          TFSI        2018   \n",
       "1      2019    Август  Mercur Auto   Audi      A3          TFSI        2018   \n",
       "2      2019    Апрель  Mercur Auto   Audi      A4          TFSI        2018   \n",
       "3      2019      Июль  Mercur Auto   Audi      A4          TFSI        2018   \n",
       "4      2019      Июль  Mercur Auto   Audi      A4          TFSI        2018   \n",
       "...     ...       ...          ...    ...     ...           ...         ...   \n",
       "39961  2019  Сентябрь     ТК КАМАЗ  KAMAZ  58815Z  KAMAZ 58815Z        2019   \n",
       "39962  2019  Сентябрь     ТК КАМАЗ  KAMAZ  58815Z  KAMAZ 58815Z        2019   \n",
       "39963  2019  Сентябрь     ТК КАМАЗ  KAMAZ  58815Z  KAMAZ 58815Z        2019   \n",
       "39964  2019  Сентябрь     ТК КАМАЗ  KAMAZ  58815Z  KAMAZ 58815Z        2019   \n",
       "39965  2019  Сентябрь     ТК КАМАЗ  KAMAZ  58815Z  KAMAZ 58815Z        2019   \n",
       "\n",
       "       Страна-производитель Вид топлива Объём двиг, л, Коробка передач  \\\n",
       "0                  Германия      Бензин            1,4        S-tronic   \n",
       "1                  Германия      Бензин            1,4        S-tronic   \n",
       "2                  Германия      Бензин            1,4        S-Tronic   \n",
       "3                  Германия      Бензин            1,4        S-tronic   \n",
       "4                  Германия      Бензин            1,4        S-tronic   \n",
       "...                     ...         ...            ...             ...   \n",
       "39961  Республика Казахстан      Дизель            NaN              MT   \n",
       "39962  Республика Казахстан      Дизель            NaN              MT   \n",
       "39963  Республика Казахстан      Дизель            NaN              MT   \n",
       "39964  Республика Казахстан      Дизель            NaN              MT   \n",
       "39965  Республика Казахстан      Дизель            NaN              MT   \n",
       "\n",
       "      Тип привода                      Сегмент  Регион  \\\n",
       "0        передний  Легковые автомобили Premium  Алматы   \n",
       "1        передний  Легковые автомобили Premium  Алматы   \n",
       "2             FWD  Легковые автомобили Premium  Алматы   \n",
       "3        передний  Легковые автомобили Premium  Алматы   \n",
       "4        передний  Легковые автомобили Premium  Алматы   \n",
       "...           ...                          ...     ...   \n",
       "39961         NaN          Грузовой автомобиль  Актобе   \n",
       "39962         NaN          Грузовой автомобиль  Актобе   \n",
       "39963         NaN          Грузовой автомобиль  Актобе   \n",
       "39964         NaN          Грузовой автомобиль  Актобе   \n",
       "39965         NaN          Грузовой автомобиль  Актобе   \n",
       "\n",
       "      Наименование дилерского центра Тип клиента Форма расчета  Количество  \\\n",
       "0                 Mercur Auto Алматы   Физ. Лицо   безналичный         1.0   \n",
       "1                 Mercur Auto Алматы    Юр. Лицо      наличный         1.0   \n",
       "2                 Mercur Auto Алматы   Физ. Лицо   безналичный         1.0   \n",
       "3                 Mercur Auto Алматы    Юр. Лицо   безналичный         1.0   \n",
       "4                 Mercur Auto Алматы   Физ. Лицо      наличный         1.0   \n",
       "...                              ...         ...           ...         ...   \n",
       "39961            ЗапКазКАМАЗ -Актобе    Юр. Лицо   Безналичная         1.0   \n",
       "39962            ЗапКазКАМАЗ -Актобе    Юр. Лицо   Безналичная         1.0   \n",
       "39963            ЗапКазКАМАЗ -Актобе    Юр. Лицо   Безналичная         1.0   \n",
       "39964            ЗапКазКАМАЗ -Актобе    Юр. Лицо   Безналичная         1.0   \n",
       "39965            ЗапКазКАМАЗ -Актобе    Юр. Лицо   Безналичная         1.0   \n",
       "\n",
       "         Цена, USD Продажа, USD              Область         Сегментация 2013  \\\n",
       "0            28115        28115             г.Алматы      Легковые автомобили   \n",
       "1         32246,99     32246,99             г.Алматы      Легковые автомобили   \n",
       "2            32000        32000             г.Алматы      Легковые автомобили   \n",
       "3            31929        31929             г.Алматы      Легковые автомобили   \n",
       "4            31929        31929             г.Алматы      Легковые автомобили   \n",
       "...            ...          ...                  ...                      ...   \n",
       "39961  48756,92071  48756,92071  Актюбинская область  Коммерческие автомобили   \n",
       "39962  48756,92071  48756,92071  Актюбинская область  Коммерческие автомобили   \n",
       "39963  48756,92071  48756,92071  Актюбинская область  Коммерческие автомобили   \n",
       "39964  48756,92071  48756,92071  Актюбинская область  Коммерческие автомобили   \n",
       "39965  48756,92071  48756,92071  Актюбинская область  Коммерческие автомобили   \n",
       "\n",
       "                      Класс 2013 Сегментация Eng Локализация производства  \n",
       "0                        C класс               C                   Импорт  \n",
       "1                        C класс               C                   Импорт  \n",
       "2                        D класс               D                   Импорт  \n",
       "3                        D класс               D                   Импорт  \n",
       "4                        D класс               D                   Импорт  \n",
       "...                          ...             ...                      ...  \n",
       "39961  Крупнотоннажные грузовики               O   Локальное производство  \n",
       "39962  Крупнотоннажные грузовики               O   Локальное производство  \n",
       "39963  Крупнотоннажные грузовики               O   Локальное производство  \n",
       "39964  Крупнотоннажные грузовики               O   Локальное производство  \n",
       "39965  Крупнотоннажные грузовики               O   Локальное производство  \n",
       "\n",
       "[39966 rows x 25 columns]"
      ]
     },
     "execution_count": 3,
     "metadata": {},
     "output_type": "execute_result"
    }
   ],
   "source": [
    "df"
   ]
  },
  {
   "cell_type": "markdown",
   "id": "9f08a5fe-1b6d-44a5-a5e7-f07a279045ad",
   "metadata": {},
   "source": [
    "Что сразу бросается в глаза, так это отсутствие первичных ключей в таблице, данные кажутся обезличенными."
   ]
  },
  {
   "cell_type": "code",
   "execution_count": 4,
   "id": "74330c54-ee3f-4d02-9ed5-17ca96090942",
   "metadata": {},
   "outputs": [
    {
     "data": {
      "text/html": [
       "<div>\n",
       "<style scoped>\n",
       "    .dataframe tbody tr th:only-of-type {\n",
       "        vertical-align: middle;\n",
       "    }\n",
       "\n",
       "    .dataframe tbody tr th {\n",
       "        vertical-align: top;\n",
       "    }\n",
       "\n",
       "    .dataframe thead th {\n",
       "        text-align: right;\n",
       "    }\n",
       "</style>\n",
       "<table border=\"1\" class=\"dataframe\">\n",
       "  <thead>\n",
       "    <tr style=\"text-align: right;\">\n",
       "      <th></th>\n",
       "      <th></th>\n",
       "      <th>Бренд</th>\n",
       "    </tr>\n",
       "    <tr>\n",
       "      <th>Модель</th>\n",
       "      <th>Объём двиг, л,</th>\n",
       "      <th></th>\n",
       "    </tr>\n",
       "  </thead>\n",
       "  <tbody>\n",
       "    <tr>\n",
       "      <th rowspan=\"8\" valign=\"top\">Corolla</th>\n",
       "      <th>#Н/Д</th>\n",
       "      <td>2</td>\n",
       "    </tr>\n",
       "    <tr>\n",
       "      <th>1,33</th>\n",
       "      <td>7</td>\n",
       "    </tr>\n",
       "    <tr>\n",
       "      <th>1,6</th>\n",
       "      <td>176</td>\n",
       "    </tr>\n",
       "    <tr>\n",
       "      <th>1.6</th>\n",
       "      <td>14</td>\n",
       "    </tr>\n",
       "    <tr>\n",
       "      <th>2,7</th>\n",
       "      <td>523</td>\n",
       "    </tr>\n",
       "    <tr>\n",
       "      <th>2.7</th>\n",
       "      <td>236</td>\n",
       "    </tr>\n",
       "    <tr>\n",
       "      <th>4</th>\n",
       "      <td>55</td>\n",
       "    </tr>\n",
       "    <tr>\n",
       "      <th>4.0</th>\n",
       "      <td>76</td>\n",
       "    </tr>\n",
       "  </tbody>\n",
       "</table>\n",
       "</div>"
      ],
      "text/plain": [
       "                        Бренд\n",
       "Модель  Объём двиг, л,       \n",
       "Corolla #Н/Д                2\n",
       "        1,33                7\n",
       "        1,6               176\n",
       "        1.6                14\n",
       "        2,7               523\n",
       "        2.7               236\n",
       "        4                  55\n",
       "        4.0                76"
      ]
     },
     "execution_count": 4,
     "metadata": {},
     "output_type": "execute_result"
    }
   ],
   "source": [
    "df.query('Модель == \"Corolla\"')\\\n",
    "  .pivot_table(index=['Модель', 'Объём двиг, л,'], values='Бренд', aggfunc='count')"
   ]
  },
  {
   "cell_type": "markdown",
   "id": "9fed1912-e4fc-462a-bd9b-dbecc58c95cf",
   "metadata": {},
   "source": [
    "<br>"
   ]
  },
  {
   "cell_type": "markdown",
   "id": "14a24dc4-e95f-47b4-8620-6bd61c6f0af2",
   "metadata": {},
   "source": [
    "Посмотрим сводную информацию о таблице."
   ]
  },
  {
   "cell_type": "code",
   "execution_count": 5,
   "id": "70eb55fa-5948-4648-85a4-52f2893d6313",
   "metadata": {},
   "outputs": [
    {
     "name": "stdout",
     "output_type": "stream",
     "text": [
      "<class 'pandas.core.frame.DataFrame'>\n",
      "RangeIndex: 39966 entries, 0 to 39965\n",
      "Data columns (total 25 columns):\n",
      " #   Column                          Non-Null Count  Dtype  \n",
      "---  ------                          --------------  -----  \n",
      " 0   Год                             39966 non-null  int64  \n",
      " 1   Месяц                           39966 non-null  object \n",
      " 2   Компания                        39966 non-null  object \n",
      " 3   Бренд                           39966 non-null  object \n",
      " 4   Модель                          39966 non-null  object \n",
      " 5   Модификация                     36375 non-null  object \n",
      " 6   Год выпуска                     39465 non-null  object \n",
      " 7   Страна-производитель            39966 non-null  object \n",
      " 8   Вид топлива                     36826 non-null  object \n",
      " 9   Объём двиг, л,                  35708 non-null  object \n",
      " 10  Коробка передач                 36711 non-null  object \n",
      " 11  Тип привода                     35677 non-null  object \n",
      " 12  Сегмент                         33205 non-null  object \n",
      " 13  Регион                          39966 non-null  object \n",
      " 14  Наименование дилерского центра  39966 non-null  object \n",
      " 15  Тип клиента                     32919 non-null  object \n",
      " 16  Форма расчета                   14038 non-null  object \n",
      " 17  Количество                      39960 non-null  float64\n",
      " 18  Цена, USD                       39966 non-null  object \n",
      " 19  Продажа, USD                    39966 non-null  object \n",
      " 20  Область                         39966 non-null  object \n",
      " 21  Сегментация 2013                39966 non-null  object \n",
      " 22  Класс 2013                      39966 non-null  object \n",
      " 23  Сегментация Eng                 39966 non-null  object \n",
      " 24  Локализация производства        39966 non-null  object \n",
      "dtypes: float64(1), int64(1), object(23)\n",
      "memory usage: 7.6+ MB\n"
     ]
    }
   ],
   "source": [
    "# общая информация\n",
    "df.info()"
   ]
  },
  {
   "cell_type": "markdown",
   "id": "bde9ea05-ec57-4e99-9467-823648a2b74e",
   "metadata": {},
   "source": [
    "<br>"
   ]
  },
  {
   "cell_type": "markdown",
   "id": "92b80627-6290-4de6-8a9d-4fcb2311d1f8",
   "metadata": {},
   "source": [
    "Выведем размер таблицы."
   ]
  },
  {
   "cell_type": "code",
   "execution_count": 6,
   "id": "16e1321d-f7fe-4276-9baa-97f55034f230",
   "metadata": {},
   "outputs": [
    {
     "data": {
      "text/plain": [
       "(39966, 25)"
      ]
     },
     "execution_count": 6,
     "metadata": {},
     "output_type": "execute_result"
    }
   ],
   "source": [
    "# размер таблицы\n",
    "raw_shape = df.shape\n",
    "raw_shape"
   ]
  },
  {
   "cell_type": "markdown",
   "id": "46b57fcb-8714-4616-aca2-740b1a47fba1",
   "metadata": {},
   "source": [
    "Мы имеем $25$ колонок и $39966$ строк."
   ]
  },
  {
   "cell_type": "markdown",
   "id": "aa15ee80-4795-4a29-896a-0eeb280e668c",
   "metadata": {},
   "source": [
    "<br>"
   ]
  },
  {
   "cell_type": "markdown",
   "id": "d10724e8-d31f-4832-8b58-705049496c57",
   "metadata": {},
   "source": [
    "Вот список с названиями колонок, где есть пропуски."
   ]
  },
  {
   "cell_type": "code",
   "execution_count": 7,
   "id": "bb1799c1-82e1-4398-a6cb-6243200fa064",
   "metadata": {},
   "outputs": [
    {
     "data": {
      "text/plain": [
       "Index(['Модификация', 'Год выпуска', 'Вид топлива', 'Объём двиг, л,',\n",
       "       'Коробка передач', 'Тип привода', 'Сегмент', 'Тип клиента',\n",
       "       'Форма расчета', 'Количество'],\n",
       "      dtype='object')"
      ]
     },
     "execution_count": 7,
     "metadata": {},
     "output_type": "execute_result"
    }
   ],
   "source": [
    "# колонки с пропусками\n",
    "df.columns[df.isna().any()]"
   ]
  },
  {
   "cell_type": "markdown",
   "id": "e67d3549-6c64-487e-a715-92a23afacf58",
   "metadata": {},
   "source": [
    "<br>"
   ]
  },
  {
   "cell_type": "markdown",
   "id": "adf13fb3-c623-4dd0-a5c7-fb565ba5cc0f",
   "metadata": {},
   "source": [
    "Выведем типы данных колонок."
   ]
  },
  {
   "cell_type": "code",
   "execution_count": 8,
   "id": "f14d2a9f-056f-4819-bb10-2634079c0aac",
   "metadata": {},
   "outputs": [
    {
     "data": {
      "text/plain": [
       "Год                                 int64\n",
       "Месяц                              object\n",
       "Компания                           object\n",
       "Бренд                              object\n",
       "Модель                             object\n",
       "Модификация                        object\n",
       "Год выпуска                        object\n",
       "Страна-производитель               object\n",
       "Вид топлива                        object\n",
       "Объём двиг, л,                     object\n",
       "Коробка передач                    object\n",
       "Тип привода                        object\n",
       "Сегмент                            object\n",
       "Регион                             object\n",
       "Наименование дилерского центра     object\n",
       "Тип клиента                        object\n",
       "Форма расчета                      object\n",
       "Количество                        float64\n",
       "Цена, USD                          object\n",
       "Продажа, USD                       object\n",
       "Область                            object\n",
       "Сегментация 2013                   object\n",
       "Класс 2013                         object\n",
       "Сегментация Eng                    object\n",
       "Локализация производства           object\n",
       "dtype: object"
      ]
     },
     "execution_count": 8,
     "metadata": {},
     "output_type": "execute_result"
    }
   ],
   "source": [
    "df.dtypes"
   ]
  },
  {
   "cell_type": "markdown",
   "id": "14e37b8c-328c-4b2c-9a1c-b6076f7a6e18",
   "metadata": {},
   "source": [
    "<br>"
   ]
  },
  {
   "cell_type": "markdown",
   "id": "7a16f25f-1ebc-4f8d-9399-761845de54b7",
   "metadata": {},
   "source": [
    "### Обзор колонок"
   ]
  },
  {
   "cell_type": "markdown",
   "id": "ea11e033-5e6e-4eac-8aa8-ce9da33644e8",
   "metadata": {},
   "source": [
    "Чтобы понять, всё ли в порядке с типами данных в таблице, нужно разобрать каждую колонку.\\\n",
    "В этом нам поможет функция, а также документация, где дано описание каждой колонки."
   ]
  },
  {
   "cell_type": "code",
   "execution_count": 9,
   "id": "5445af63-0e14-4cea-bae3-67f2e811f385",
   "metadata": {},
   "outputs": [],
   "source": [
    "# функция для обзора\n",
    "def obs(column):\n",
    "    print(df[column].value_counts(dropna=False))"
   ]
  },
  {
   "cell_type": "markdown",
   "id": "29a482be-53c2-4a76-b494-72f27283318d",
   "metadata": {},
   "source": [
    "<br>"
   ]
  },
  {
   "cell_type": "markdown",
   "id": "354d38d5-f7dc-4b0b-b3fe-faff127aa5ca",
   "metadata": {},
   "source": [
    "`Год` – год продажи."
   ]
  },
  {
   "cell_type": "code",
   "execution_count": 10,
   "id": "296292ea-765d-4a66-b1ce-d73f7e3dee3a",
   "metadata": {},
   "outputs": [
    {
     "name": "stdout",
     "output_type": "stream",
     "text": [
      "2019    39966\n",
      "Name: Год, dtype: int64\n"
     ]
    }
   ],
   "source": [
    "obs('Год')"
   ]
  },
  {
   "cell_type": "markdown",
   "id": "48336134-f67d-4aae-846e-6cece2a6b4eb",
   "metadata": {},
   "source": [
    "Имеем одно значение, `2019` год, как и было указано во введении. Тип данных верный. "
   ]
  },
  {
   "cell_type": "markdown",
   "id": "d84396eb-1a85-479c-91bc-8c228c51cec5",
   "metadata": {},
   "source": [
    "<br>"
   ]
  },
  {
   "cell_type": "markdown",
   "id": "80886a3d-320d-4156-9538-cb019e163417",
   "metadata": {},
   "source": [
    "`Месяц` – месяц продажи."
   ]
  },
  {
   "cell_type": "code",
   "execution_count": 11,
   "id": "0f67370a-002a-4b6c-9e82-a9393cbf0273",
   "metadata": {},
   "outputs": [
    {
     "name": "stdout",
     "output_type": "stream",
     "text": [
      "Июль        5930\n",
      "Сентябрь    5312\n",
      "Август      4812\n",
      "Май         4798\n",
      "Июнь        4754\n",
      "Апрель      4177\n",
      "Март        3662\n",
      "Январь      3384\n",
      "Февраль     3137\n",
      "Name: Месяц, dtype: int64\n"
     ]
    }
   ],
   "source": [
    "obs('Месяц')"
   ]
  },
  {
   "cell_type": "markdown",
   "id": "c3840186-674c-41fb-96c6-689e40082733",
   "metadata": {},
   "source": [
    "Имеем значения с январь по сентябрь, как и было указано во введении. Тип данных верный."
   ]
  },
  {
   "cell_type": "markdown",
   "id": "53d807fa-713d-4dc6-88ca-f0957e0467a2",
   "metadata": {},
   "source": [
    "<br>"
   ]
  },
  {
   "cell_type": "markdown",
   "id": "f9acde07-1be3-432e-b18a-79e07ee946d8",
   "metadata": {},
   "source": [
    "`Компания` – название автоцентра."
   ]
  },
  {
   "cell_type": "code",
   "execution_count": 12,
   "id": "837fb2fe-87ee-4d03-8981-39d19bd915ad",
   "metadata": {},
   "outputs": [
    {
     "name": "stdout",
     "output_type": "stream",
     "text": [
      "Toyota Motor Kazakhstan          11951\n",
      "Astana Motors                     7395\n",
      "БИПЭК АВТО                        3624\n",
      "Вираж                             2909\n",
      "Astana Motors                     2774\n",
      "Allur Auto                        2526\n",
      "Renault Россия                    1796\n",
      "Nissan Manufacturing RUS          1149\n",
      "Равон Моторс Казахстан             947\n",
      "ТК КАМАЗ                           893\n",
      "Mercur Auto                        639\n",
      "Ravon Motors Kazakstan             559\n",
      "Subaru Kazakhstan                  503\n",
      "ММС Рус                            408\n",
      "Лифан Моторс Рус                   233\n",
      "Автоцентр-Бавария                  224\n",
      "СВС-ТРАНС                          202\n",
      "Hyundai Com Trans Kazakhstan       155\n",
      "УзАвто-Казахстан                   152\n",
      "Автомир ГК                         112\n",
      "Volkswagen Group Rus               109\n",
      "Eurasia Motor Premium              102\n",
      "Almaty Motors Premium               94\n",
      "СемАЗ                               93\n",
      "Autokapital                         85\n",
      "TERRA MOTORS                        77\n",
      "Автодом Motors KST                  53\n",
      "Scandinavian Motors                 42\n",
      "Хино Моторс Казахстан               39\n",
      "Автомир-Центр                       34\n",
      "Автокапитал                         33\n",
      "ТОО \"Eurasia Motor Zhaik\"           15\n",
      "Scania Central Asia                 12\n",
      "Daewoo Bus Kazakhstan               10\n",
      "MAN Truck & Bus Kazakhstan           6\n",
      "Mercur Autos                         4\n",
      "MMC RUS                              2\n",
      "Hino Motors                          2\n",
      "Caspian Motors                       2\n",
      "Каспиан Моторс                       1\n",
      "Name: Компания, dtype: int64\n"
     ]
    }
   ],
   "source": [
    "obs('Компания')"
   ]
  },
  {
   "cell_type": "markdown",
   "id": "d614106b-6534-4013-bc32-506c1697f96c",
   "metadata": {},
   "source": [
    "Видны неявные дубликаты. Тип данных верный."
   ]
  },
  {
   "cell_type": "markdown",
   "id": "8a1b7a7c-9b41-4061-9f16-81c3dc82bee3",
   "metadata": {},
   "source": [
    "<br>"
   ]
  },
  {
   "cell_type": "markdown",
   "id": "3dc83efe-ce08-4270-a19f-783c7f975e79",
   "metadata": {},
   "source": [
    "`Бренд` – название продаваемой марки автомобиля."
   ]
  },
  {
   "cell_type": "code",
   "execution_count": 13,
   "id": "76b17fbc-1d6f-47da-bc4e-0470a391a277",
   "metadata": {},
   "outputs": [
    {
     "name": "stdout",
     "output_type": "stream",
     "text": [
      "Toyota                  10745\n",
      "Hyundai                 10168\n",
      "Jac                      1991\n",
      "Lada                     1969\n",
      "GAZ                      1821\n",
      "Renault                  1796\n",
      "Ravon                    1794\n",
      "Lexus                    1206\n",
      "Nissan                   1053\n",
      "UAZ                       927\n",
      "KAMAZ                     892\n",
      "Kia                       832\n",
      "Volkswagen                750\n",
      "Chevrolet                 635\n",
      "Subaru                    504\n",
      "Mitsubishi                410\n",
      "Skoda                     379\n",
      "ANKAI                     300\n",
      "Lifan                     233\n",
      "BMW                       209\n",
      "Isuzu                     198\n",
      "Hyundai Truck & Bus       155\n",
      "Land Rover                135\n",
      "Mazda                     112\n",
      "Infiniti                   96\n",
      "Mercedes-Benz              94\n",
      "Cadillac                   72\n",
      "Audi                       52\n",
      "Porsche                    52\n",
      "Yutong                     44\n",
      "Shacman                    43\n",
      "Volvo                      42\n",
      "Hino                       41\n",
      "Jaguar                     36\n",
      "Peugeot                    29\n",
      "Foton                      28\n",
      "Iveco                      25\n",
      "Mercedes-Benz Trucks       24\n",
      "Mini                       15\n",
      "Scania                     12\n",
      "Урал                       12\n",
      "MAN                        11\n",
      "Daewoo                     10\n",
      "Dong Feng                  10\n",
      "Ford                        3\n",
      "Nefaz                       1\n",
      "Name: Бренд, dtype: int64\n"
     ]
    }
   ],
   "source": [
    "obs('Бренд')"
   ]
  },
  {
   "cell_type": "markdown",
   "id": "3e650382-6b9c-4d0b-930c-d8f3884ca959",
   "metadata": {},
   "source": [
    "Тип данных верный."
   ]
  },
  {
   "cell_type": "markdown",
   "id": "ee34417a-793e-413d-a56b-eb339528fb36",
   "metadata": {},
   "source": [
    "<br>"
   ]
  },
  {
   "cell_type": "markdown",
   "id": "ce5cc542-afb2-45c2-bc51-7a3c10be57c1",
   "metadata": {},
   "source": [
    "`Модель` – название модели автомобиля."
   ]
  },
  {
   "cell_type": "code",
   "execution_count": 14,
   "id": "ea504c26-e8c4-407f-84c7-0eeed5ab1718",
   "metadata": {},
   "outputs": [
    {
     "name": "stdout",
     "output_type": "stream",
     "text": [
      "Camry        4853\n",
      "Tucson       3271\n",
      "Accent       2211\n",
      "Elantra      2062\n",
      "Creta        1775\n",
      "             ... \n",
      "HD 160          1\n",
      "CLA-Class       1\n",
      "6 серия         1\n",
      "XE              1\n",
      "iev             1\n",
      "Name: Модель, Length: 273, dtype: int64\n"
     ]
    }
   ],
   "source": [
    "obs('Модель')"
   ]
  },
  {
   "cell_type": "markdown",
   "id": "4135a80c-4e8b-4cbe-9ea1-6dfc1883c6c5",
   "metadata": {},
   "source": [
    "Тип данных верный."
   ]
  },
  {
   "cell_type": "markdown",
   "id": "d5c99e4d-043f-484e-80f3-0229dae00223",
   "metadata": {},
   "source": [
    "<br>"
   ]
  },
  {
   "cell_type": "markdown",
   "id": "84d65371-7624-4873-85c7-1c4e92afd942",
   "metadata": {},
   "source": [
    "`Модификация` – модификация модели автомобиля."
   ]
  },
  {
   "cell_type": "code",
   "execution_count": 15,
   "id": "38e42923-98ad-433f-a56d-5f37b523a14e",
   "metadata": {},
   "outputs": [
    {
     "name": "stdout",
     "output_type": "stream",
     "text": [
      "NaN                                                           3591\n",
      "B5                                                            1470\n",
      "BX                                                            1210\n",
      "54                                                            1007\n",
      "Hyundai Elantra AD FL Active                                   764\n",
      "                                                              ... \n",
      "Городской автобус ANKAI модели HFF6850G  MXBTBGKD0KK500406       1\n",
      "R3 Optimum  М/T                                                  1\n",
      "DRIVE A/T WMP                                                    1\n",
      "GAZ ГАЗ-3309-397 грузовой                                        1\n",
      "Городской автобус ANKAI модели HFF6850G  MXBTBGKD0KK500374       1\n",
      "Name: Модификация, Length: 1384, dtype: int64\n"
     ]
    }
   ],
   "source": [
    "obs('Модификация')"
   ]
  },
  {
   "cell_type": "markdown",
   "id": "a7098a6c-486a-49dc-9a2f-f883b4066de1",
   "metadata": {},
   "source": [
    "Тип данных верный. Но в комментариях документации нам предлагают избавиться от этой колонки."
   ]
  },
  {
   "cell_type": "markdown",
   "id": "6c0d0099-8190-4e73-a0ad-83bc1210eadd",
   "metadata": {},
   "source": [
    "<br>"
   ]
  },
  {
   "cell_type": "markdown",
   "id": "e6f1a3a7-4225-434d-8490-ba592af662af",
   "metadata": {},
   "source": [
    "`Год выпуска` – год производства автомобиля."
   ]
  },
  {
   "cell_type": "code",
   "execution_count": 16,
   "id": "3733296a-d416-4b46-a75c-3309fba65059",
   "metadata": {},
   "outputs": [
    {
     "name": "stdout",
     "output_type": "stream",
     "text": [
      "2019     29185\n",
      "2018      8679\n",
      "2 019      841\n",
      "NaN        501\n",
      "2 018      402\n",
      "2017       324\n",
      "2016        30\n",
      "2014         2\n",
      "2011         1\n",
      "2013         1\n",
      "Name: Год выпуска, dtype: int64\n"
     ]
    }
   ],
   "source": [
    "obs('Год выпуска')"
   ]
  },
  {
   "cell_type": "markdown",
   "id": "7a379019-3f27-430c-b9ba-cbf8c54afcb7",
   "metadata": {},
   "source": [
    "Тип данных неверный. Нужно поменять на `int`.\\\n",
    "Также видны неявные дубликаты."
   ]
  },
  {
   "cell_type": "markdown",
   "id": "161ad09f-9ff3-4264-beef-6dd7954052b2",
   "metadata": {},
   "source": [
    "<br>"
   ]
  },
  {
   "cell_type": "markdown",
   "id": "5d4f0194-bb19-4942-a275-f1bfff62009f",
   "metadata": {},
   "source": [
    "`Страна-производитель` – страна, где произведён автомобиль."
   ]
  },
  {
   "cell_type": "code",
   "execution_count": 17,
   "id": "163dc821-59e7-40e7-8ea1-1a5fac53c693",
   "metadata": {},
   "outputs": [
    {
     "name": "stdout",
     "output_type": "stream",
     "text": [
      "Республика Казахстан    19369\n",
      "Российская Федерация    12846\n",
      "Япония                   4595\n",
      "Турция                   1167\n",
      "Таиланд                   970\n",
      "США                       289\n",
      "Германия                  265\n",
      "UK                        197\n",
      "Китай                      94\n",
      "Узбекистан                 70\n",
      "Австрия                    33\n",
      "Швеция                     18\n",
      "Корея                      17\n",
      "Нидерланды                 12\n",
      "Испания                     9\n",
      "Бельгия                     6\n",
      "Польша                      6\n",
      "Венгрия                     2\n",
      "Белоруссия                  1\n",
      "Name: Страна-производитель, dtype: int64\n"
     ]
    }
   ],
   "source": [
    "obs('Страна-производитель')"
   ]
  },
  {
   "cell_type": "markdown",
   "id": "19d27106-9f42-438c-9523-920221e10508",
   "metadata": {},
   "source": [
    "Тип данных верный."
   ]
  },
  {
   "cell_type": "markdown",
   "id": "644758d8-dd2a-453d-a98e-4ceac427f94d",
   "metadata": {},
   "source": [
    "<br>"
   ]
  },
  {
   "cell_type": "markdown",
   "id": "51c800ef-1bd5-4621-8dea-b5d4c1f45a80",
   "metadata": {},
   "source": [
    "`Вид топлива` – бензин, дизель, электричество, гибрид."
   ]
  },
  {
   "cell_type": "code",
   "execution_count": 18,
   "id": "f0dcfd5d-ec0e-400d-b60a-716fe032c2d1",
   "metadata": {},
   "outputs": [
    {
     "name": "stdout",
     "output_type": "stream",
     "text": [
      "Бензин           34801\n",
      "NaN               3140\n",
      "Дизель            1762\n",
      "бензин             159\n",
      "дизель              41\n",
      "2                   23\n",
      "1,6                 14\n",
      "Электричество       10\n",
      "гибрид              10\n",
      "0                    3\n",
      "Электро              3\n",
      "Name: Вид топлива, dtype: int64\n"
     ]
    }
   ],
   "source": [
    "obs('Вид топлива')"
   ]
  },
  {
   "cell_type": "markdown",
   "id": "3195e9dd-c03e-49dd-a1b6-958c7f1705cc",
   "metadata": {},
   "source": [
    "Тип данных верный.\\\n",
    "Но видны неявные дубликаты и аномальные значения. Нужно разобраться."
   ]
  },
  {
   "cell_type": "markdown",
   "id": "666b1413-82e9-4afd-9b6a-ed11a36a0d5f",
   "metadata": {},
   "source": [
    "<br>"
   ]
  },
  {
   "cell_type": "markdown",
   "id": "1d4dc98f-7b15-4aa0-ab85-48e32cbc0c35",
   "metadata": {},
   "source": [
    "`Объём двиг, л,` – объем двигателя автомобиля в литрах."
   ]
  },
  {
   "cell_type": "code",
   "execution_count": 19,
   "id": "60a84062-2df6-49aa-9e5c-4c1930e98ab4",
   "metadata": {},
   "outputs": [
    {
     "name": "stdout",
     "output_type": "stream",
     "text": [
      "1,6     5337\n",
      "2       5097\n",
      "NaN     4258\n",
      "2,7     3394\n",
      "2.5     2641\n",
      "        ... \n",
      "3,7        1\n",
      "4,3,       1\n",
      "26,7       1\n",
      "22,7       1\n",
      "6,7        1\n",
      "Name: Объём двиг, л,, Length: 115, dtype: int64\n"
     ]
    }
   ],
   "source": [
    "obs('Объём двиг, л,')"
   ]
  },
  {
   "cell_type": "markdown",
   "id": "c6c112f9-6dd4-4931-93c9-68d2094fc554",
   "metadata": {},
   "source": [
    "Здесь неверный тип данных.\\\n",
    "Видны аномальные значения."
   ]
  },
  {
   "cell_type": "markdown",
   "id": "289a1c6a-f7b9-4976-998b-b421e61bc639",
   "metadata": {},
   "source": [
    "<br>"
   ]
  },
  {
   "cell_type": "markdown",
   "id": "7721adc4-734a-4d3e-b3db-c015d23b9e4e",
   "metadata": {},
   "source": [
    "`Коробка передач` – тип коробки переключения передач."
   ]
  },
  {
   "cell_type": "code",
   "execution_count": 20,
   "id": "b08701bb-a7a1-48de-bf8b-67d98b9f5719",
   "metadata": {},
   "outputs": [
    {
     "name": "stdout",
     "output_type": "stream",
     "text": [
      "AT               11379\n",
      "6 AT              8842\n",
      "MT                3297\n",
      "NaN               3255\n",
      "CVT               2100\n",
      "                 ...  \n",
      "8 AT                 1\n",
      "8-ступ АКПП          1\n",
      "12АТ                 1\n",
      "Powershift S6        1\n",
      "7 АКПП PDK           1\n",
      "Name: Коробка передач, Length: 84, dtype: int64\n"
     ]
    }
   ],
   "source": [
    "obs('Коробка передач')"
   ]
  },
  {
   "cell_type": "markdown",
   "id": "03195522-58ad-424b-ac80-32301c2a197a",
   "metadata": {},
   "source": [
    "Тип данных верный."
   ]
  },
  {
   "cell_type": "markdown",
   "id": "e4bc970b-4aa0-4287-96dc-7c18935c9d53",
   "metadata": {},
   "source": [
    "<br>"
   ]
  },
  {
   "cell_type": "markdown",
   "id": "83700ef3-a7b0-4705-a7fe-de493c2207c1",
   "metadata": {},
   "source": [
    "`Тип привода` – тип привода автомобиля."
   ]
  },
  {
   "cell_type": "code",
   "execution_count": 21,
   "id": "e46e176e-b040-41f1-8606-9498937bdfe2",
   "metadata": {},
   "outputs": [
    {
     "name": "stdout",
     "output_type": "stream",
     "text": [
      "4WD              9412\n",
      "2 WD             5078\n",
      "2WD              4678\n",
      "FF               4578\n",
      "NaN              4289\n",
      "Передний         3270\n",
      "4 WD             2607\n",
      "Полный           1917\n",
      "Задний           1469\n",
      "FWD               995\n",
      "AWD               962\n",
      "RWD               205\n",
      "Передний (FF)     136\n",
      "0                 116\n",
      "передний           56\n",
      "quattro            47\n",
      "4х2                38\n",
      "4Motion            26\n",
      "4x4                22\n",
      "4х4                18\n",
      "4x2                16\n",
      "4х2.2              10\n",
      "4X4                 6\n",
      "полный              5\n",
      "4X2                 4\n",
      "#Н/Д                4\n",
      "Астана              2\n",
      "Name: Тип привода, dtype: int64\n"
     ]
    }
   ],
   "source": [
    "obs('Тип привода')"
   ]
  },
  {
   "cell_type": "markdown",
   "id": "d90cf85f-5479-4010-9558-03e3503f6d3a",
   "metadata": {},
   "source": [
    "Тип данных верный.\\\n",
    "Но видны неявные дубликаты и аномальные значения."
   ]
  },
  {
   "cell_type": "markdown",
   "id": "b30ff3d1-ed64-4473-a005-c4995486e9e4",
   "metadata": {},
   "source": [
    "<br>"
   ]
  },
  {
   "cell_type": "markdown",
   "id": "7babc70a-85c4-4b55-af3a-d2cf64b0d4ed",
   "metadata": {},
   "source": [
    "`Сегмент` – сегмент, к которому относится авто."
   ]
  },
  {
   "cell_type": "code",
   "execution_count": 22,
   "id": "d2a7fa19-7de8-4141-97b7-3fef5aa1f070",
   "metadata": {},
   "outputs": [
    {
     "name": "stdout",
     "output_type": "stream",
     "text": [
      "NaN                        6761\n",
      "D класс                    4368\n",
      "C-SUV                      3484\n",
      "Компактные SUV             2603\n",
      "B                          2211\n",
      "                           ... \n",
      "5 door                        1\n",
      "A класс                       1\n",
      "Крупнотоннажные               1\n",
      "Sportcar                      1\n",
      "Промтоварный фургон Т50       1\n",
      "Name: Сегмент, Length: 120, dtype: int64\n"
     ]
    }
   ],
   "source": [
    "obs('Сегмент')"
   ]
  },
  {
   "cell_type": "markdown",
   "id": "79108b5d-4d07-4e16-8b30-3d6991ccafac",
   "metadata": {},
   "source": [
    "Тип данных верный.\\\n",
    "Видны аномальные значения.\\\n",
    "Также в комментариях к документации нам нам предлагают избавиться от этой колонки."
   ]
  },
  {
   "cell_type": "markdown",
   "id": "d4567c0d-71f7-4a3e-8e1b-cdce7774ded4",
   "metadata": {},
   "source": [
    "<br>"
   ]
  },
  {
   "cell_type": "markdown",
   "id": "5ee5d82b-943b-4e4f-9df3-5b76c49b3faf",
   "metadata": {},
   "source": [
    "`Регион` – это город продажи.\\\n",
    "Проверить это можно, сверясь с этим [списком](https://ru.wikipedia.org/wiki/Список_городов_Казахстана_по_численности_населения)."
   ]
  },
  {
   "cell_type": "code",
   "execution_count": 23,
   "id": "37d46478-ba1b-405f-b210-f720a60d4d82",
   "metadata": {},
   "outputs": [
    {
     "name": "stdout",
     "output_type": "stream",
     "text": [
      "Алматы              11179\n",
      "Нур-Султан           8244\n",
      "Шымкент              2880\n",
      "Костанай             2447\n",
      "Атырау               2162\n",
      "Караганда            2076\n",
      "ЭКСПОРТ              1810\n",
      "Актау                1495\n",
      "Уральск              1493\n",
      "Актобе               1351\n",
      "Павлодар             1214\n",
      "Усть-Каменогорск     1160\n",
      "Кызылорда             554\n",
      "Петропавловск         508\n",
      "Кокшетау              471\n",
      "Семей                 290\n",
      "Талдыкорган           230\n",
      "Тараз                 205\n",
      "Экибастуз              88\n",
      "Рудный                 47\n",
      "Каскелен               38\n",
      "Туркестан              15\n",
      "Сарыагаш                4\n",
      "Кульсары                2\n",
      "Риддер                  2\n",
      "Зыряновск               1\n",
      "Name: Регион, dtype: int64\n"
     ]
    }
   ],
   "source": [
    "obs('Регион')"
   ]
  },
  {
   "cell_type": "markdown",
   "id": "1f077e70-dad6-419d-bd04-eba717579957",
   "metadata": {},
   "source": [
    "Тип данных верный."
   ]
  },
  {
   "cell_type": "markdown",
   "id": "a1d883b9-e8fe-4849-a349-164d6b45f0a1",
   "metadata": {},
   "source": [
    "<br>"
   ]
  },
  {
   "cell_type": "markdown",
   "id": "9f3ffe4a-a6c0-420b-9c2f-c81c864e9cea",
   "metadata": {},
   "source": [
    "`Наименование дилерского центра` – название автоцентра."
   ]
  },
  {
   "cell_type": "code",
   "execution_count": 24,
   "id": "e41defb3-6de3-4352-9902-10009dc37574",
   "metadata": {},
   "outputs": [
    {
     "name": "stdout",
     "output_type": "stream",
     "text": [
      "Hyundai Premium Almaty    1600\n",
      "Hyundai Auto Almaty       1425\n",
      "Hyundai Premium Astana    1385\n",
      "Тойота Центр Алматы       1343\n",
      "Тойота Центр Астана       1333\n",
      "                          ... \n",
      "СемАЗ Кызылорда              1\n",
      "Меридиан АВТО Актау          1\n",
      "AST-commerce                 1\n",
      "КВЦ-АВТО Караганда           1\n",
      "Ford Атырау                  1\n",
      "Name: Наименование дилерского центра, Length: 205, dtype: int64\n"
     ]
    }
   ],
   "source": [
    "obs('Наименование дилерского центра')"
   ]
  },
  {
   "cell_type": "markdown",
   "id": "3b9dce45-ac05-4816-aa65-470950bf2f69",
   "metadata": {},
   "source": [
    "Тип данных верный.\\\n",
    "Но в комментариях к документации нам предлагают избавиться от этой колонки, так как она дублирует колонку `Компания`."
   ]
  },
  {
   "cell_type": "markdown",
   "id": "0bb86369-d167-48bc-acb7-d6028740b38e",
   "metadata": {},
   "source": [
    "<br>"
   ]
  },
  {
   "cell_type": "markdown",
   "id": "76cc140f-515b-418b-ae78-43200cf443df",
   "metadata": {},
   "source": [
    "`Тип клиента` – юридическое или физическое лицо."
   ]
  },
  {
   "cell_type": "code",
   "execution_count": 25,
   "id": "3f006817-b8bc-4065-9047-533ffca89135",
   "metadata": {},
   "outputs": [
    {
     "name": "stdout",
     "output_type": "stream",
     "text": [
      "Физ. Лицо       24568\n",
      "Юр. Лицо         7873\n",
      "NaN              7047\n",
      "Корп. клиент      161\n",
      "ФизЛицо           132\n",
      "юридическое        97\n",
      "ЮрЛицо             30\n",
      "физ.лицо           29\n",
      "Юр.Лицо            25\n",
      "физическое          4\n",
      "Name: Тип клиента, dtype: int64\n"
     ]
    }
   ],
   "source": [
    "obs('Тип клиента')"
   ]
  },
  {
   "cell_type": "markdown",
   "id": "a92d4fd9-0ea8-4b0c-8480-b3b30d357b11",
   "metadata": {},
   "source": [
    "Тип данных верный.\\\n",
    "Видны неявные дубликаты.\\\n",
    "Нам предлагают удалить эту колонку, так как для анализа это некритично."
   ]
  },
  {
   "cell_type": "markdown",
   "id": "19983a69-ba32-42b6-927c-4e7eae7491f7",
   "metadata": {},
   "source": [
    "<br>"
   ]
  },
  {
   "cell_type": "markdown",
   "id": "b9a27ac6-0fae-4d7d-a968-67641386ee49",
   "metadata": {},
   "source": [
    "`Форма расчета` – наличный и безналичный расчет."
   ]
  },
  {
   "cell_type": "code",
   "execution_count": 26,
   "id": "ba9e20cb-218d-401d-967c-8e998516efe1",
   "metadata": {},
   "outputs": [
    {
     "name": "stdout",
     "output_type": "stream",
     "text": [
      "NaN                                         25928\n",
      "кредит                                       6190\n",
      "безналичный                                  4276\n",
      "Безналичная                                  1335\n",
      "Собственные средства                          698\n",
      "наличный                                      599\n",
      "Наличная                                      499\n",
      "Безналичная                                   204\n",
      "Акция Собственные средства (Trade in 5%)       78\n",
      "нал                                            58\n",
      "trade-in                                       35\n",
      "Перечисление                                   21\n",
      "Без оплаты                                      8\n",
      "б/н                                             8\n",
      "перечислением                                   6\n",
      "Отсрочка платежа                                6\n",
      "наличные                                        6\n",
      "Без.Наличный                                    5\n",
      "лизинг                                          2\n",
      "безналичный                                     2\n",
      "обмен+кредит                                    1\n",
      "обмен+нал                                       1\n",
      "Name: Форма расчета, dtype: int64\n"
     ]
    }
   ],
   "source": [
    "obs('Форма расчета')"
   ]
  },
  {
   "cell_type": "markdown",
   "id": "24e073cc-544a-4376-87e9-94dde658ad30",
   "metadata": {},
   "source": [
    "Тип данных верный.\\\n",
    "Видны неявные дубликаты.\\\n",
    "Предложено удалить эту колонку, так как много пропусков."
   ]
  },
  {
   "cell_type": "markdown",
   "id": "7d5de3e0-6995-4978-885f-aa0684793fdf",
   "metadata": {},
   "source": [
    "<br>"
   ]
  },
  {
   "cell_type": "markdown",
   "id": "cfb2c744-0fee-4fad-bfe3-e39edda9b511",
   "metadata": {},
   "source": [
    "`Количество` – количество автомобилей в заказе."
   ]
  },
  {
   "cell_type": "code",
   "execution_count": 27,
   "id": "ddd0f653-432e-4678-92c6-00c778b07641",
   "metadata": {},
   "outputs": [
    {
     "name": "stdout",
     "output_type": "stream",
     "text": [
      " 1.0      37203\n",
      " 2.0       1017\n",
      " 3.0        452\n",
      " 4.0        282\n",
      " 5.0        185\n",
      " 6.0        120\n",
      " 7.0        100\n",
      " 8.0         79\n",
      " 10.0        63\n",
      " 9.0         61\n",
      " 12.0        45\n",
      " 13.0        36\n",
      " 11.0        35\n",
      " 14.0        33\n",
      " 15.0        26\n",
      " 18.0        24\n",
      " 16.0        23\n",
      " 17.0        18\n",
      " 20.0        15\n",
      " 19.0        14\n",
      " 22.0        12\n",
      " 24.0        12\n",
      " 23.0        12\n",
      " 21.0        11\n",
      " 25.0         9\n",
      " 26.0         9\n",
      " 30.0         9\n",
      " 32.0         6\n",
      " NaN          6\n",
      " 29.0         6\n",
      " 50.0         5\n",
      " 27.0         4\n",
      " 28.0         3\n",
      " 33.0         3\n",
      " 31.0         3\n",
      " 36.0         3\n",
      " 62.0         2\n",
      " 43.0         1\n",
      " 70.0         1\n",
      " 35.0         1\n",
      " 60.0         1\n",
      " 66.0         1\n",
      " 42.0         1\n",
      "-1.0          1\n",
      " 115.0        1\n",
      " 54.0         1\n",
      " 100.0        1\n",
      " 79.0         1\n",
      " 47.0         1\n",
      " 34.0         1\n",
      " 41.0         1\n",
      " 38.0         1\n",
      " 63.0         1\n",
      " 46.0         1\n",
      " 37.0         1\n",
      " 51.0         1\n",
      " 40.0         1\n",
      "Name: Количество, dtype: int64\n"
     ]
    }
   ],
   "source": [
    "obs('Количество')"
   ]
  },
  {
   "cell_type": "markdown",
   "id": "7117b4f5-a202-40d1-a589-d4dc1ccb7f86",
   "metadata": {},
   "source": [
    "Тип данных неверный.\\\n",
    "Возможно, есть аномалия."
   ]
  },
  {
   "cell_type": "markdown",
   "id": "393e7c77-3f18-4eda-ab9f-9488aa8fcc8c",
   "metadata": {},
   "source": [
    "<br>"
   ]
  },
  {
   "cell_type": "markdown",
   "id": "78a6e462-1c83-434a-a0ff-11d3fcd4aa05",
   "metadata": {},
   "source": [
    "`Цена, USD` – цена автомобиля."
   ]
  },
  {
   "cell_type": "code",
   "execution_count": 28,
   "id": "54bbf8ed-9f0a-4c27-aa1a-55787462a7db",
   "metadata": {},
   "outputs": [
    {
     "name": "stdout",
     "output_type": "stream",
     "text": [
      "9884,695773    559\n",
      "11600          531\n",
      "13800          428\n",
      "12819,73695    412\n",
      "9893,925137    402\n",
      "              ... \n",
      "15499,17108      1\n",
      "45351,31154      1\n",
      "30261,23077      1\n",
      "60256,41026      1\n",
      "47109,86737      1\n",
      "Name: Цена, USD, Length: 3510, dtype: int64\n"
     ]
    }
   ],
   "source": [
    "obs('Цена, USD')"
   ]
  },
  {
   "cell_type": "markdown",
   "id": "4aa99b72-24ef-4737-8f7d-a5c9927fde21",
   "metadata": {},
   "source": [
    "Тип данных неверный."
   ]
  },
  {
   "cell_type": "markdown",
   "id": "4a11eeb7-5df6-432b-b8ef-af6d4416cf65",
   "metadata": {},
   "source": [
    "<br>"
   ]
  },
  {
   "cell_type": "markdown",
   "id": "71918ec5-491c-438b-af0f-135b5552975a",
   "metadata": {},
   "source": [
    "`Продажа, USD` – цена заказа (цена авто, умноженная на количество, за вычетом скидок, если есть)"
   ]
  },
  {
   "cell_type": "code",
   "execution_count": 29,
   "id": "7e7ec663-578f-4ba3-958a-a2ba7a19f023",
   "metadata": {},
   "outputs": [
    {
     "name": "stdout",
     "output_type": "stream",
     "text": [
      "9884,695773    559\n",
      "12819,73695    412\n",
      "9893,925137    402\n",
      "9969,169424    315\n",
      "13800          230\n",
      "              ... \n",
      "12949,05399      1\n",
      "18317,43153      1\n",
      "74431,49359      1\n",
      "24840,22281      1\n",
      "46012,02412      1\n",
      "Name: Продажа, USD, Length: 4183, dtype: int64\n"
     ]
    }
   ],
   "source": [
    "obs('Продажа, USD')"
   ]
  },
  {
   "cell_type": "markdown",
   "id": "1e7bcc5c-79b5-4399-bc41-6e193a7c7b52",
   "metadata": {},
   "source": [
    "Тип данных неверный."
   ]
  },
  {
   "cell_type": "markdown",
   "id": "b2b8ec0f-13a5-441d-8ba8-846a504f2b32",
   "metadata": {},
   "source": [
    "<br>"
   ]
  },
  {
   "cell_type": "markdown",
   "id": "7f19dd64-dd25-418f-9347-a90614628a92",
   "metadata": {},
   "source": [
    "`Область` – область Казахстана, где продан автомобиль."
   ]
  },
  {
   "cell_type": "code",
   "execution_count": 30,
   "id": "f78d3416-9e5c-4a15-9773-b463ece7f2cc",
   "metadata": {},
   "outputs": [
    {
     "name": "stdout",
     "output_type": "stream",
     "text": [
      "г.Алматы                          11179\n",
      "г.Нур-Султан                       8244\n",
      "Южно-Казахстанская область         2880\n",
      "Костанайская область               2494\n",
      "Атырауская область                 2164\n",
      "Карагандинская область             2076\n",
      "Экспорт область                    1810\n",
      "Мангистауская область              1495\n",
      "Западно-Казахстанская область      1493\n",
      "Восточно-Казахстанская область     1453\n",
      "Актюбинская область                1351\n",
      "Павлодарская область               1302\n",
      "Кызылординская область              554\n",
      "Северо-Казахстанская область        508\n",
      "Акмолинская область                 471\n",
      "Алматинская область                 268\n",
      "Жамбылская область                  205\n",
      "Туркестанская область                19\n",
      "Name: Область, dtype: int64\n"
     ]
    }
   ],
   "source": [
    "obs('Область')"
   ]
  },
  {
   "cell_type": "markdown",
   "id": "d55caf1d-d928-47a8-af9d-3ed3746b8e8b",
   "metadata": {},
   "source": [
    "Тип данных верный."
   ]
  },
  {
   "cell_type": "markdown",
   "id": "eb6f926d-1396-46a4-b155-9b6f3bdbfe65",
   "metadata": {},
   "source": [
    "<br>"
   ]
  },
  {
   "cell_type": "markdown",
   "id": "7664311a-e02f-4d0e-8ff9-2a37534bd7b3",
   "metadata": {},
   "source": [
    "`Сегментация 2013` – категории автомобилей."
   ]
  },
  {
   "cell_type": "code",
   "execution_count": 31,
   "id": "26ffbcc6-e7b6-4ff5-b4b9-412fa907c33d",
   "metadata": {},
   "outputs": [
    {
     "name": "stdout",
     "output_type": "stream",
     "text": [
      "Внедорожники               17928\n",
      "Легковые автомобили        16333\n",
      "Коммерческие автомобили     4329\n",
      "Пикапы                       974\n",
      "Минивэны                     402\n",
      "Name: Сегментация 2013, dtype: int64\n"
     ]
    }
   ],
   "source": [
    "obs('Сегментация 2013')"
   ]
  },
  {
   "cell_type": "markdown",
   "id": "151f3b8f-1e6e-4f6c-8df6-6f245c765655",
   "metadata": {},
   "source": [
    "Тип данных верный."
   ]
  },
  {
   "cell_type": "markdown",
   "id": "fee1e62f-ba17-4b62-b1b1-7392cc563bd0",
   "metadata": {},
   "source": [
    "<br>"
   ]
  },
  {
   "cell_type": "markdown",
   "id": "214ee13a-935d-486c-85c0-86ffa26d9d1b",
   "metadata": {},
   "source": [
    "`Класс 2013` – классификация автомобилей."
   ]
  },
  {
   "cell_type": "code",
   "execution_count": 32,
   "id": "cd598eb9-854c-46a3-9fc7-39a96fe48e38",
   "metadata": {},
   "outputs": [
    {
     "name": "stdout",
     "output_type": "stream",
     "text": [
      "B класс                      7028\n",
      "Компактные SUV               6593\n",
      "D класс                      5385\n",
      "Субкомпактные SUV            5339\n",
      "Среднеразмерные SUV          3994\n",
      "C класс                      3584\n",
      "Полноразмерные SUV           2002\n",
      "Малотоннажные грузовики      1940\n",
      "Крупнотоннажные грузовики    1034\n",
      "Pick-ups                      974\n",
      "Микроавтобусы                 433\n",
      "Компактвэн                    354\n",
      "Развозные автомобили          352\n",
      "Большие автобусы              321\n",
      "E класс                       244\n",
      "Среднетоннажные грузовики     192\n",
      "Средние автобусы               57\n",
      "Полноразмерный Минивэн         48\n",
      "A класс                        42\n",
      "F класс                        40\n",
      "Спортивные автомобили          10\n",
      "Name: Класс 2013, dtype: int64\n"
     ]
    }
   ],
   "source": [
    "obs('Класс 2013')"
   ]
  },
  {
   "cell_type": "markdown",
   "id": "12995e46-2f05-4708-b82b-2c4de3370b34",
   "metadata": {},
   "source": [
    "Тип данных верный."
   ]
  },
  {
   "cell_type": "markdown",
   "id": "2a2ee2af-bbc3-4247-98c2-f00d3db55422",
   "metadata": {},
   "source": [
    "<br>"
   ]
  },
  {
   "cell_type": "markdown",
   "id": "dfca572f-3ae2-4306-8015-de7bde917408",
   "metadata": {},
   "source": [
    "`Сегментация Eng` – английская сегментация."
   ]
  },
  {
   "cell_type": "code",
   "execution_count": 33,
   "id": "c174620b-54bc-41ea-8592-fb74efefbab6",
   "metadata": {},
   "outputs": [
    {
     "name": "stdout",
     "output_type": "stream",
     "text": [
      "K1    11932\n",
      "B      7028\n",
      "D      5385\n",
      "K2     3994\n",
      "C      3584\n",
      "K3     2002\n",
      "N      1940\n",
      "O      1591\n",
      "K4      974\n",
      "L1      429\n",
      "M       402\n",
      "L2      369\n",
      "E       244\n",
      "A        42\n",
      "F        40\n",
      "G2       10\n",
      "Name: Сегментация Eng, dtype: int64\n"
     ]
    }
   ],
   "source": [
    "obs('Сегментация Eng')"
   ]
  },
  {
   "cell_type": "markdown",
   "id": "1f157f27-a93f-4bdf-8642-82661d31c440",
   "metadata": {},
   "source": [
    "Тип данных верный.\\\n",
    "Нам предложено избавиться от этой колонки."
   ]
  },
  {
   "cell_type": "markdown",
   "id": "ba0f6ec4-13a5-41e5-b22d-50d4b4699b53",
   "metadata": {},
   "source": [
    "<br>"
   ]
  },
  {
   "cell_type": "markdown",
   "id": "1d30150c-05aa-414a-9be3-c6c842c6df24",
   "metadata": {},
   "source": [
    "`Локализация производства` – автомобиль домашнего или зарубежного производства."
   ]
  },
  {
   "cell_type": "code",
   "execution_count": 34,
   "id": "ecdc6c06-ee42-4e7c-bc4f-fa7b516d0d48",
   "metadata": {},
   "outputs": [
    {
     "name": "stdout",
     "output_type": "stream",
     "text": [
      "Импорт                    20597\n",
      "Локальное производство    19369\n",
      "Name: Локализация производства, dtype: int64\n"
     ]
    }
   ],
   "source": [
    "obs('Локализация производства')"
   ]
  },
  {
   "cell_type": "markdown",
   "id": "a9e7f28a-faa0-40f0-ad68-8b0334e4f9fc",
   "metadata": {},
   "source": [
    "Тип данных верный.\\\n",
    "Нам предложено избавиться от этой колонки."
   ]
  },
  {
   "cell_type": "markdown",
   "id": "6b4272c9-c2f6-4918-8d17-be85153818bc",
   "metadata": {},
   "source": [
    "<br>"
   ]
  },
  {
   "cell_type": "markdown",
   "id": "29b87d64-15cb-42d1-bded-799f1668a8a9",
   "metadata": {},
   "source": [
    "Итак, в документации приложены комментарии.\\\n",
    "**В них нам предлагают избавиться от следующих колонок:**\n",
    "* `Модификация`\n",
    "* `Сегмент`\n",
    "* `Наименование дилерского центра` — дублирует колонку `Компания`.\n",
    "* `Тип клиента` — в рамках анализа некритично.\n",
    "* `Форма расчета` — много пропусков.\n",
    "* `Сегментация Eng`\n",
    "* `Локализация производства` — дублирует колонку `Страна-производитель`.\n",
    "\n",
    "Но мы сами решим, что с ними делать."
   ]
  },
  {
   "cell_type": "markdown",
   "id": "81fd56a4-3f2c-43de-8cab-cbaffdcbef1a",
   "metadata": {},
   "source": [
    "<br>"
   ]
  },
  {
   "cell_type": "markdown",
   "id": "9bd50f76-b5d8-4226-84a4-f554b4c099ed",
   "metadata": {},
   "source": [
    "**Были обнаружены неверные типы данных в следующих колонках:**\n",
    "1. Год выпуска (`object` преобразовать в `int`)\n",
    "2. Объём двиг, л, (`object` преобразовать в `float`)\n",
    "3. Количество (`float` преобразовать в `int`)\n",
    "4. Цена, USD (`object` преобразовать в `int`)\n",
    "5. Продажа, USD (`object` преобразовать в `int`)"
   ]
  },
  {
   "cell_type": "markdown",
   "id": "f58e8c6f-2011-4b72-9128-ca1138dd134d",
   "metadata": {},
   "source": [
    "<br>"
   ]
  },
  {
   "cell_type": "markdown",
   "id": "cf20a626-2c2e-4d17-85fb-d75da101ba0a",
   "metadata": {},
   "source": [
    "**Пожалуй, с обзором данных закончили. Пора приступить к их предобработке.**"
   ]
  },
  {
   "cell_type": "markdown",
   "id": "11f0e633-06f8-4ff9-86e3-436f87fe2585",
   "metadata": {},
   "source": [
    "<br>"
   ]
  },
  {
   "cell_type": "markdown",
   "id": "4e7a1e1e-605b-49dd-8864-987a5ff236b1",
   "metadata": {},
   "source": [
    "## Предобработка данных"
   ]
  },
  {
   "cell_type": "markdown",
   "id": "80f94bdb-13a7-4b70-928f-391cd2598034",
   "metadata": {},
   "source": [
    "### Работа с колонками"
   ]
  },
  {
   "cell_type": "markdown",
   "id": "9a66ced4-0311-4179-bc59-aa0b20d858f8",
   "metadata": {},
   "source": [
    "#### Удаление"
   ]
  },
  {
   "cell_type": "markdown",
   "id": "d1fb4852-edc9-46e0-b8c6-255ce0be25bf",
   "metadata": {},
   "source": [
    "Решим, какие колонки нам не нужны. "
   ]
  },
  {
   "cell_type": "markdown",
   "id": "cdce06b7-e033-4dd7-b588-1e4375739917",
   "metadata": {},
   "source": [
    "Однозначно можно избавиться от полей `Модификация` и `Сегментация Eng`, потому что эта информация действительно мало чего несёт."
   ]
  },
  {
   "cell_type": "code",
   "execution_count": 35,
   "id": "d4533ef2-2df6-4a50-8bc0-b1e7b53b3afe",
   "metadata": {},
   "outputs": [],
   "source": [
    "df.drop(columns=['Модификация', 'Сегментация Eng'], inplace=True)"
   ]
  },
  {
   "cell_type": "markdown",
   "id": "11fbd895-6f15-46fb-b593-038ba7620afd",
   "metadata": {},
   "source": [
    "<br>"
   ]
  },
  {
   "cell_type": "markdown",
   "id": "d4fac77b-bc81-4d7d-8f2e-0107607f09cd",
   "metadata": {},
   "source": [
    "Под вопросом стоят следующие колонки:\n",
    "* `Сегмент` и `Класс 2013`. Они похожи, их нужно сравнить.\n",
    "* `Наименование дилерского центра`. Она похожа на колонку `Компания`. Нужно сравнить их.\n",
    "* `Форма расчёта`. Много пропусков. Нужно посмотреть эти пропуски.\n",
    "* `Сегментация 2013`. С ней нужно глубже разобраться."
   ]
  },
  {
   "cell_type": "markdown",
   "id": "8a3afb96-e6de-4711-b009-5805a0bb53c6",
   "metadata": {},
   "source": [
    "<br>"
   ]
  },
  {
   "cell_type": "markdown",
   "id": "c74d2f48-9d80-4673-b1ba-8b3673896e24",
   "metadata": {},
   "source": [
    "Напишем функцию, показывающую данные колонок."
   ]
  },
  {
   "cell_type": "code",
   "execution_count": 36,
   "id": "3b4fee2f-56e6-4497-8510-ed60dc47df7e",
   "metadata": {},
   "outputs": [],
   "source": [
    "def column_data(column):\n",
    "    print(df[column].value_counts(dropna=False).head(20))\n",
    "    print('')\n",
    "    print(f'Количество уникальных значений: {df[column].nunique()}')\n",
    "    print('')\n",
    "    print(f'Список первых 50 уникальных значений: {df[column].sort_values().unique()[:50]}')"
   ]
  },
  {
   "cell_type": "markdown",
   "id": "d99f184a-a7df-404c-9b47-9b00ffed6545",
   "metadata": {},
   "source": [
    "<br>"
   ]
  },
  {
   "cell_type": "markdown",
   "id": "0c06255a-8e6f-454c-81e9-4a54185981d7",
   "metadata": {},
   "source": [
    "Итак, **сравнение `Сегмент` и `Класс 2013`**."
   ]
  },
  {
   "cell_type": "code",
   "execution_count": 37,
   "id": "43b594bf-1eaa-425f-b067-aec61c931a20",
   "metadata": {},
   "outputs": [
    {
     "name": "stdout",
     "output_type": "stream",
     "text": [
      "NaN                            6761\n",
      "D класс                        4368\n",
      "C-SUV                          3484\n",
      "Компактные SUV                 2603\n",
      "B                              2211\n",
      "C                              2062\n",
      "B класс                        1735\n",
      "Среднеразмерные SUV            1715\n",
      "B-SUV                          1562\n",
      "C класс                        1338\n",
      "Грузовой автомобиль             892\n",
      "Полноразмерные SUV              808\n",
      "Пикапы                          778\n",
      "Среднеразмерные SUV Premium     663\n",
      "D-SUV                           639\n",
      "Внедорожники                    617\n",
      "D класс                         573\n",
      "Легковые автомобили             547\n",
      "SUV cars                        504\n",
      "легковой                        380\n",
      "Name: Сегмент, dtype: int64\n",
      "\n",
      "Количество уникальных значений: 119\n",
      "\n",
      "Список первых 50 уникальных значений: ['#Н/Д' '0' '16+1' '43+1' '5 door' '5 doors' '5doors' 'A класс' 'A класс '\n",
      " 'ASTER Auto' 'Ambulance' 'B' 'B класс' 'B класс ' 'B-SUV' 'Bus' 'C'\n",
      " 'C класс' 'C класс ' 'C-SUV' 'Compact SUV' 'Coupe ' 'D' 'D класс'\n",
      " 'D класс ' 'D-SUV' 'E класс' 'E класс ' 'E-Premium' 'F класс' 'F-Premium'\n",
      " 'LCV' 'Large SUV' 'MPV' 'Medium SUV' 'PICKUP' 'Pick-Up' 'Pick-ups'\n",
      " 'Premium' 'SUV' 'SUV ' 'SUV cars' 'Sportcar' 'VAN' 'premium SUV' 'sedan'\n",
      " 'Автобусы' 'Автоцентр Астэк' 'БИПЭК Авто' 'Большие автобусы']\n"
     ]
    }
   ],
   "source": [
    "column_data('Сегмент')"
   ]
  },
  {
   "cell_type": "code",
   "execution_count": 38,
   "id": "ac7aa912-ba28-46e0-bd7a-34295bdbd128",
   "metadata": {},
   "outputs": [
    {
     "name": "stdout",
     "output_type": "stream",
     "text": [
      "B класс                      7028\n",
      "Компактные SUV               6593\n",
      "D класс                      5385\n",
      "Субкомпактные SUV            5339\n",
      "Среднеразмерные SUV          3994\n",
      "C класс                      3584\n",
      "Полноразмерные SUV           2002\n",
      "Малотоннажные грузовики      1940\n",
      "Крупнотоннажные грузовики    1034\n",
      "Pick-ups                      974\n",
      "Микроавтобусы                 433\n",
      "Компактвэн                    354\n",
      "Развозные автомобили          352\n",
      "Большие автобусы              321\n",
      "E класс                       244\n",
      "Среднетоннажные грузовики     192\n",
      "Средние автобусы               57\n",
      "Полноразмерный Минивэн         48\n",
      "A класс                        42\n",
      "F класс                        40\n",
      "Name: Класс 2013, dtype: int64\n",
      "\n",
      "Количество уникальных значений: 21\n",
      "\n",
      "Список первых 50 уникальных значений: ['A класс' 'B класс' 'C класс' 'D класс' 'E класс' 'F класс' 'Pick-ups'\n",
      " 'Большие автобусы' 'Компактвэн' 'Компактные SUV'\n",
      " 'Крупнотоннажные грузовики' 'Малотоннажные грузовики' 'Микроавтобусы'\n",
      " 'Полноразмерные SUV' 'Полноразмерный Минивэн' 'Развозные автомобили'\n",
      " 'Спортивные автомобили' 'Среднеразмерные SUV' 'Среднетоннажные грузовики'\n",
      " 'Средние автобусы' 'Субкомпактные SUV']\n"
     ]
    }
   ],
   "source": [
    "column_data('Класс 2013')"
   ]
  },
  {
   "cell_type": "markdown",
   "id": "9fc4b176-32c1-4998-af83-be9d740529db",
   "metadata": {},
   "source": [
    "В общем, в колонке `Сегмент` много мусорных значений, колонка `Класс 2013` значительно привлекательнее.\\\n",
    "**Сносим первую.**"
   ]
  },
  {
   "cell_type": "markdown",
   "id": "49790a27-e245-4c2a-9d7c-c0de3820b84b",
   "metadata": {},
   "source": [
    "<br>"
   ]
  },
  {
   "cell_type": "markdown",
   "id": "4a8bbef8-5793-415f-b443-81d6309801e7",
   "metadata": {},
   "source": [
    "**Сравнение `Наименование дилерского центра` и `Компания`**."
   ]
  },
  {
   "cell_type": "code",
   "execution_count": 39,
   "id": "41b01b5e-c9cc-4876-a98b-c8c6e1f8ff4d",
   "metadata": {},
   "outputs": [
    {
     "name": "stdout",
     "output_type": "stream",
     "text": [
      "Hyundai Premium Almaty     1600\n",
      "Hyundai Auto Almaty        1425\n",
      "Hyundai Premium Astana     1385\n",
      "Тойота Центр Алматы        1343\n",
      "Тойота Центр Астана        1333\n",
      "Toyota City Астана         1319\n",
      "Toyota City                1258\n",
      "Тойота Центр Жетысу        1150\n",
      "HYUNDAI AUTO ASTANA        1117\n",
      "Allur Auto Almaty          1079\n",
      "ЭКСПОРТ                     773\n",
      "Hyundai Center Shimkent     768\n",
      "Тойота Центр Шымкент        750\n",
      "Автомир-Центр Караганда     707\n",
      "Тойота Центр Атырау         634\n",
      "Caspi Auto Атырау           569\n",
      "ASTER AUTO Алматы           554\n",
      "Тойота Центр Костанай       542\n",
      "Лексус Астана               519\n",
      "БИПЭК АВТО Астана           492\n",
      "Name: Наименование дилерского центра, dtype: int64\n",
      "\n",
      "Количество уникальных значений: 205\n",
      "\n",
      "Список первых 50 уникальных значений: ['ABS-INVEST' 'ALAN MOTORS' 'ALAN MOTORS\\xa0Усть-Каменогорск'\n",
      " 'AST-commerce' 'ASTER AUTO CЕМЕЙ' 'ASTER AUTO Алматы'\n",
      " 'ASTER AUTO Шымкент' 'Aktobe Hyundai Motors' 'Alan Motors Trade'\n",
      " 'Allur Auto Almaty' 'Allur Auto Astana' 'Allur Auto Atyrau '\n",
      " 'Allur Auto Karaganda' 'Allur Auto Kokshetau' 'Allur Auto Pavlodar '\n",
      " 'Allur Auto Petropavlovsk ' 'Allur Auto Rus' 'Allur Auto Shymkent '\n",
      " 'Allur Auto Taraz' 'Allur Auto Ust-Kamenogorsk ' 'Allur Auto Актобе'\n",
      " 'Allur Auto Костанай' 'Allur Auto Кызылорда' 'Almaty Motors Premium'\n",
      " 'Astana Motor Aktau' 'Astana Motors' 'Auto Trader ' 'Auto trader'\n",
      " 'AutoAmir ' 'AutoGood Караганда' 'Avenue Motors' 'Best-Avto'\n",
      " 'Blue Star of Kazakhstan' 'CBC Алматы' 'CBC Астана' 'Cadillac Almaty'\n",
      " 'Caspi Auto Атырау' 'Daewoo Bus Kazakhstan' 'Das Auto'\n",
      " 'Eurasia Motor Zhaik' 'Eurasia Motor Актау' 'Eurasia Motor Атырау'\n",
      " 'Eurasia Motor Павлодар' 'Eurasia Motor Шымкент' 'Eurasia Motors Uralsk'\n",
      " 'Ford Атырау' 'Gold Star Motors' 'HYUNDAI AUTO ASTANA'\n",
      " 'Hino Motors Kazakhstan' 'Hyundai Auto Almaty']\n"
     ]
    }
   ],
   "source": [
    "column_data('Наименование дилерского центра')"
   ]
  },
  {
   "cell_type": "code",
   "execution_count": 40,
   "id": "c98471ae-88dc-4e07-8d39-b837074520d6",
   "metadata": {},
   "outputs": [
    {
     "name": "stdout",
     "output_type": "stream",
     "text": [
      "Toyota Motor Kazakhstan          11951\n",
      "Astana Motors                     7395\n",
      "БИПЭК АВТО                        3624\n",
      "Вираж                             2909\n",
      "Astana Motors                     2774\n",
      "Allur Auto                        2526\n",
      "Renault Россия                    1796\n",
      "Nissan Manufacturing RUS          1149\n",
      "Равон Моторс Казахстан             947\n",
      "ТК КАМАЗ                           893\n",
      "Mercur Auto                        639\n",
      "Ravon Motors Kazakstan             559\n",
      "Subaru Kazakhstan                  503\n",
      "ММС Рус                            408\n",
      "Лифан Моторс Рус                   233\n",
      "Автоцентр-Бавария                  224\n",
      "СВС-ТРАНС                          202\n",
      "Hyundai Com Trans Kazakhstan       155\n",
      "УзАвто-Казахстан                   152\n",
      "Автомир ГК                         112\n",
      "Name: Компания, dtype: int64\n",
      "\n",
      "Количество уникальных значений: 40\n",
      "\n",
      "Список первых 50 уникальных значений: ['Allur Auto' 'Almaty Motors Premium' 'Astana Motors' 'Astana Motors '\n",
      " 'Autokapital' 'Caspian Motors' 'Daewoo Bus Kazakhstan'\n",
      " 'Eurasia Motor Premium' 'Hino Motors ' 'Hyundai Com Trans Kazakhstan '\n",
      " 'MAN Truck & Bus Kazakhstan' 'MMC RUS' 'Mercur Auto' 'Mercur Autos'\n",
      " 'Nissan Manufacturing RUS' 'Ravon Motors Kazakstan' 'Renault Россия'\n",
      " 'Scandinavian Motors' 'Scania Central Asia' 'Subaru Kazakhstan'\n",
      " 'TERRA MOTORS' 'Toyota Motor Kazakhstan' 'Volkswagen Group Rus'\n",
      " 'Автодом Motors KST' 'Автокапитал' 'Автомир ГК' 'Автомир-Центр'\n",
      " 'Автоцентр-Бавария' 'БИПЭК АВТО' 'Вираж' 'Каспиан Моторс'\n",
      " 'Лифан Моторс Рус' 'ММС Рус' 'Равон Моторс Казахстан' 'СВС-ТРАНС' 'СемАЗ'\n",
      " 'ТК КАМАЗ' 'ТОО \"Eurasia Motor Zhaik\"' 'УзАвто-Казахстан'\n",
      " 'Хино Моторс Казахстан']\n"
     ]
    }
   ],
   "source": [
    "column_data('Компания')"
   ]
  },
  {
   "cell_type": "markdown",
   "id": "dc962dea-5fa3-4a13-a4ca-f14a8cab6a52",
   "metadata": {},
   "source": [
    "<br>"
   ]
  },
  {
   "cell_type": "markdown",
   "id": "e5ab4110-3271-496c-90d8-5c311896929d",
   "metadata": {},
   "source": [
    "Сводная таблица позволит лучше различить колонки."
   ]
  },
  {
   "cell_type": "code",
   "execution_count": 41,
   "id": "53ef941e-2377-4de4-b39c-f45a264b52d6",
   "metadata": {
    "tags": []
   },
   "outputs": [
    {
     "data": {
      "text/html": [
       "<div>\n",
       "<style scoped>\n",
       "    .dataframe tbody tr th:only-of-type {\n",
       "        vertical-align: middle;\n",
       "    }\n",
       "\n",
       "    .dataframe tbody tr th {\n",
       "        vertical-align: top;\n",
       "    }\n",
       "\n",
       "    .dataframe thead th {\n",
       "        text-align: right;\n",
       "    }\n",
       "</style>\n",
       "<table border=\"1\" class=\"dataframe\">\n",
       "  <thead>\n",
       "    <tr style=\"text-align: right;\">\n",
       "      <th></th>\n",
       "      <th>Компания</th>\n",
       "      <th>Наименование дилерского центра</th>\n",
       "      <th>Кол-во покупок</th>\n",
       "    </tr>\n",
       "  </thead>\n",
       "  <tbody>\n",
       "    <tr>\n",
       "      <th>0</th>\n",
       "      <td>Toyota Motor Kazakhstan</td>\n",
       "      <td>Тойота Центр Алматы</td>\n",
       "      <td>1343</td>\n",
       "    </tr>\n",
       "    <tr>\n",
       "      <th>1</th>\n",
       "      <td>Toyota Motor Kazakhstan</td>\n",
       "      <td>Тойота Центр Астана</td>\n",
       "      <td>1333</td>\n",
       "    </tr>\n",
       "    <tr>\n",
       "      <th>2</th>\n",
       "      <td>Toyota Motor Kazakhstan</td>\n",
       "      <td>Toyota City Астана</td>\n",
       "      <td>1317</td>\n",
       "    </tr>\n",
       "    <tr>\n",
       "      <th>3</th>\n",
       "      <td>Toyota Motor Kazakhstan</td>\n",
       "      <td>Toyota City</td>\n",
       "      <td>1258</td>\n",
       "    </tr>\n",
       "    <tr>\n",
       "      <th>4</th>\n",
       "      <td>Astana Motors</td>\n",
       "      <td>Hyundai Premium Almaty</td>\n",
       "      <td>1211</td>\n",
       "    </tr>\n",
       "    <tr>\n",
       "      <th>5</th>\n",
       "      <td>Toyota Motor Kazakhstan</td>\n",
       "      <td>Тойота Центр Жетысу</td>\n",
       "      <td>1150</td>\n",
       "    </tr>\n",
       "    <tr>\n",
       "      <th>6</th>\n",
       "      <td>Astana Motors</td>\n",
       "      <td>Hyundai Premium Astana</td>\n",
       "      <td>1025</td>\n",
       "    </tr>\n",
       "    <tr>\n",
       "      <th>7</th>\n",
       "      <td>Allur Auto</td>\n",
       "      <td>Allur Auto Almaty</td>\n",
       "      <td>950</td>\n",
       "    </tr>\n",
       "    <tr>\n",
       "      <th>8</th>\n",
       "      <td>Astana Motors</td>\n",
       "      <td>Hyundai Auto Almaty</td>\n",
       "      <td>892</td>\n",
       "    </tr>\n",
       "    <tr>\n",
       "      <th>9</th>\n",
       "      <td>Astana Motors</td>\n",
       "      <td>HYUNDAI AUTO ASTANA</td>\n",
       "      <td>860</td>\n",
       "    </tr>\n",
       "    <tr>\n",
       "      <th>10</th>\n",
       "      <td>Allur Auto</td>\n",
       "      <td>ЭКСПОРТ</td>\n",
       "      <td>768</td>\n",
       "    </tr>\n",
       "    <tr>\n",
       "      <th>11</th>\n",
       "      <td>Toyota Motor Kazakhstan</td>\n",
       "      <td>Тойота Центр Шымкент</td>\n",
       "      <td>750</td>\n",
       "    </tr>\n",
       "    <tr>\n",
       "      <th>12</th>\n",
       "      <td>Toyota Motor Kazakhstan</td>\n",
       "      <td>Тойота Центр Атырау</td>\n",
       "      <td>634</td>\n",
       "    </tr>\n",
       "    <tr>\n",
       "      <th>13</th>\n",
       "      <td>Astana Motors</td>\n",
       "      <td>Hyundai Center Shimkent</td>\n",
       "      <td>544</td>\n",
       "    </tr>\n",
       "    <tr>\n",
       "      <th>14</th>\n",
       "      <td>Toyota Motor Kazakhstan</td>\n",
       "      <td>Тойота Центр Костанай</td>\n",
       "      <td>542</td>\n",
       "    </tr>\n",
       "    <tr>\n",
       "      <th>15</th>\n",
       "      <td>Toyota Motor Kazakhstan</td>\n",
       "      <td>Лексус Астана</td>\n",
       "      <td>519</td>\n",
       "    </tr>\n",
       "    <tr>\n",
       "      <th>16</th>\n",
       "      <td>БИПЭК АВТО</td>\n",
       "      <td>БИПЭК АВТО Астана</td>\n",
       "      <td>492</td>\n",
       "    </tr>\n",
       "    <tr>\n",
       "      <th>17</th>\n",
       "      <td>Toyota Motor Kazakhstan</td>\n",
       "      <td>Лексус Алматы</td>\n",
       "      <td>474</td>\n",
       "    </tr>\n",
       "    <tr>\n",
       "      <th>18</th>\n",
       "      <td>Вираж</td>\n",
       "      <td>Вираж Алматы</td>\n",
       "      <td>453</td>\n",
       "    </tr>\n",
       "    <tr>\n",
       "      <th>19</th>\n",
       "      <td>Mercur Auto</td>\n",
       "      <td>Mercur Auto Алматы</td>\n",
       "      <td>427</td>\n",
       "    </tr>\n",
       "  </tbody>\n",
       "</table>\n",
       "</div>"
      ],
      "text/plain": [
       "                   Компания Наименование дилерского центра  Кол-во покупок\n",
       "0   Toyota Motor Kazakhstan            Тойота Центр Алматы            1343\n",
       "1   Toyota Motor Kazakhstan            Тойота Центр Астана            1333\n",
       "2   Toyota Motor Kazakhstan             Toyota City Астана            1317\n",
       "3   Toyota Motor Kazakhstan                    Toyota City            1258\n",
       "4             Astana Motors         Hyundai Premium Almaty            1211\n",
       "5   Toyota Motor Kazakhstan            Тойота Центр Жетысу            1150\n",
       "6             Astana Motors         Hyundai Premium Astana            1025\n",
       "7                Allur Auto              Allur Auto Almaty             950\n",
       "8             Astana Motors            Hyundai Auto Almaty             892\n",
       "9             Astana Motors            HYUNDAI AUTO ASTANA             860\n",
       "10               Allur Auto                        ЭКСПОРТ             768\n",
       "11  Toyota Motor Kazakhstan           Тойота Центр Шымкент             750\n",
       "12  Toyota Motor Kazakhstan            Тойота Центр Атырау             634\n",
       "13            Astana Motors        Hyundai Center Shimkent             544\n",
       "14  Toyota Motor Kazakhstan          Тойота Центр Костанай             542\n",
       "15  Toyota Motor Kazakhstan                  Лексус Астана             519\n",
       "16               БИПЭК АВТО              БИПЭК АВТО Астана             492\n",
       "17  Toyota Motor Kazakhstan                  Лексус Алматы             474\n",
       "18                    Вираж                   Вираж Алматы             453\n",
       "19              Mercur Auto             Mercur Auto Алматы             427"
      ]
     },
     "execution_count": 41,
     "metadata": {},
     "output_type": "execute_result"
    }
   ],
   "source": [
    "# сводная таблица\n",
    "df.pivot_table(index=['Компания', 'Наименование дилерского центра'], aggfunc='size')\\\n",
    "  .reset_index()\\\n",
    "  .sort_values(by=0, ascending=False)\\\n",
    "  .reset_index(drop=True)\\\n",
    "  .rename(columns={0: 'Кол-во покупок'})\\\n",
    "  .head(20)"
   ]
  },
  {
   "cell_type": "markdown",
   "id": "f8d5e19b-c581-48e2-95a8-072d77a0b17b",
   "metadata": {},
   "source": [
    "Думаю, **стоит оставить обе колонки.** У одной компании может быть несколько дилерских центров. Почему бы не оставить эту информацию."
   ]
  },
  {
   "cell_type": "markdown",
   "id": "9ca94b78-b28c-410b-9a82-1ea544539aac",
   "metadata": {},
   "source": [
    "<br>"
   ]
  },
  {
   "cell_type": "markdown",
   "id": "11146aa9-f542-4da1-b48c-fbd58ca2f6ed",
   "metadata": {},
   "source": [
    "**Смотрим `Форма расчета`.**"
   ]
  },
  {
   "cell_type": "code",
   "execution_count": 42,
   "id": "ea9799af-79de-4342-a014-03edc317ff84",
   "metadata": {},
   "outputs": [
    {
     "name": "stdout",
     "output_type": "stream",
     "text": [
      "NaN                                         25928\n",
      "кредит                                       6190\n",
      "безналичный                                  4276\n",
      "Безналичная                                  1335\n",
      "Собственные средства                          698\n",
      "наличный                                      599\n",
      "Наличная                                      499\n",
      "Безналичная                                   204\n",
      "Акция Собственные средства (Trade in 5%)       78\n",
      "нал                                            58\n",
      "trade-in                                       35\n",
      "Перечисление                                   21\n",
      "Без оплаты                                      8\n",
      "б/н                                             8\n",
      "перечислением                                   6\n",
      "Отсрочка платежа                                6\n",
      "наличные                                        6\n",
      "Без.Наличный                                    5\n",
      "лизинг                                          2\n",
      "безналичный                                     2\n",
      "Name: Форма расчета, dtype: int64\n",
      "\n",
      "Количество уникальных значений: 21\n",
      "\n",
      "Список первых 50 уникальных значений: ['trade-in' 'Акция Собственные средства (Trade in 5%)' 'Без оплаты'\n",
      " 'Без.Наличный' 'Безналичная' 'Безналичная ' 'Наличная' 'Отсрочка платежа'\n",
      " 'Перечисление' 'Собственные средства' 'б/н' 'безналичный' 'безналичный '\n",
      " 'кредит' 'лизинг' 'нал' 'наличные' 'наличный' 'обмен+кредит' 'обмен+нал'\n",
      " 'перечислением' nan]\n"
     ]
    }
   ],
   "source": [
    "column_data('Форма расчета')"
   ]
  },
  {
   "cell_type": "code",
   "execution_count": 43,
   "id": "934bf460-4e8a-4075-a939-7660c5c51fa0",
   "metadata": {},
   "outputs": [
    {
     "name": "stdout",
     "output_type": "stream",
     "text": [
      "Процент пропущенных значений в колонке `Форма расчета`: 65\n"
     ]
    }
   ],
   "source": [
    "print(f'Процент пропущенных значений в колонке `Форма расчета`: {round(df[\"Форма расчета\"].isna().mean() * 100)}')"
   ]
  },
  {
   "cell_type": "markdown",
   "id": "4f1ec221-dd02-4f91-bb24-16749f053880",
   "metadata": {},
   "source": [
    "Довольно большой процент пропусков, с которыми ничего не поделаешь.\\\n",
    "Но всё равно не хочется избавляться от колонки. **Оставим её.**"
   ]
  },
  {
   "cell_type": "markdown",
   "id": "1ffd356a-fd5b-4b4c-b617-0bd91b0fe52c",
   "metadata": {},
   "source": [
    "<br>"
   ]
  },
  {
   "cell_type": "markdown",
   "id": "490c119f-97d6-4660-b9f1-d2f8db11dddd",
   "metadata": {},
   "source": [
    "**Смотрим `Сегментация 2013`.**"
   ]
  },
  {
   "cell_type": "code",
   "execution_count": 44,
   "id": "6330cb18-54eb-41e1-a608-4625834444aa",
   "metadata": {},
   "outputs": [
    {
     "name": "stdout",
     "output_type": "stream",
     "text": [
      "Внедорожники               17928\n",
      "Легковые автомобили        16333\n",
      "Коммерческие автомобили     4329\n",
      "Пикапы                       974\n",
      "Минивэны                     402\n",
      "Name: Сегментация 2013, dtype: int64\n",
      "\n",
      "Количество уникальных значений: 5\n",
      "\n",
      "Список первых 50 уникальных значений: ['Внедорожники' 'Коммерческие автомобили' 'Легковые автомобили' 'Минивэны'\n",
      " 'Пикапы']\n"
     ]
    }
   ],
   "source": [
    "column_data('Сегментация 2013')"
   ]
  },
  {
   "cell_type": "markdown",
   "id": "32519c51-f841-4613-963b-45ce59a3b935",
   "metadata": {},
   "source": [
    "Данную категоризацию также не хочется убирать из таблицы. **Оставим эту колонку.**"
   ]
  },
  {
   "cell_type": "markdown",
   "id": "be9f8dad-5267-4529-9f6b-9962e564b5b8",
   "metadata": {},
   "source": [
    "<br>"
   ]
  },
  {
   "cell_type": "markdown",
   "id": "9beb593f-5250-4b79-b1f7-e7eab3273922",
   "metadata": {},
   "source": [
    "Таким образом, **сносим только одну мусорную колонку — `Сегмент`.**"
   ]
  },
  {
   "cell_type": "code",
   "execution_count": 45,
   "id": "f860c3cf-e569-4c85-96f0-ee6020c53dcb",
   "metadata": {},
   "outputs": [],
   "source": [
    "# удаление поля\n",
    "df.drop(columns='Сегмент', inplace=True)"
   ]
  },
  {
   "cell_type": "markdown",
   "id": "d5e11828-e234-4174-9105-7754fbafd8a1",
   "metadata": {},
   "source": [
    "<br>"
   ]
  },
  {
   "cell_type": "markdown",
   "id": "9ceae590-8f7c-4634-b0a4-be31327096a1",
   "metadata": {},
   "source": [
    "#### Переименование"
   ]
  },
  {
   "cell_type": "markdown",
   "id": "e4796bb3-59c5-4c70-b034-963b1733373f",
   "metadata": {},
   "source": [
    "Нужно привести все колонки к единому стилю, переименовав их."
   ]
  },
  {
   "cell_type": "markdown",
   "id": "56e0cba2-051f-4a39-ae8c-7ddeac9b2862",
   "metadata": {},
   "source": [
    "Вот их список."
   ]
  },
  {
   "cell_type": "code",
   "execution_count": 46,
   "id": "fffa8de4-9f21-4f3d-ae2a-0219d14d4cb1",
   "metadata": {},
   "outputs": [
    {
     "data": {
      "text/plain": [
       "Index(['Год', 'Месяц', 'Компания', 'Бренд', 'Модель', 'Год выпуска',\n",
       "       'Страна-производитель', 'Вид топлива', 'Объём двиг, л,',\n",
       "       'Коробка передач', 'Тип привода', 'Регион',\n",
       "       'Наименование дилерского центра', 'Тип клиента', 'Форма расчета',\n",
       "       'Количество', 'Цена, USD', 'Продажа, USD', 'Область',\n",
       "       'Сегментация 2013', 'Класс 2013', 'Локализация производства'],\n",
       "      dtype='object')"
      ]
     },
     "execution_count": 46,
     "metadata": {},
     "output_type": "execute_result"
    }
   ],
   "source": [
    "df.columns"
   ]
  },
  {
   "cell_type": "code",
   "execution_count": 47,
   "id": "8604de58-4997-4280-8459-08199c0ae296",
   "metadata": {},
   "outputs": [],
   "source": [
    "# переименование колонок\n",
    "df = df.rename(columns={'Год': 'year',\n",
    "                        'Месяц': 'month',\n",
    "                        'Компания': 'company',\n",
    "                        'Модель': 'model',\n",
    "                        'Бренд': 'brand',\n",
    "                        'Год выпуска': 'manufacturing_year',\n",
    "                        'Страна-производитель': 'manufacturing_country',\n",
    "                        'Вид топлива': 'fuel_type',\n",
    "                        'Объём двиг, л,': 'engine_displacement_l',\n",
    "                        'Коробка передач': 'transmission_type',\n",
    "                        'Тип привода': 'drive_type',\n",
    "                        'Регион': 'city',\n",
    "                        'Наименование дилерского центра': 'dealer_center_name',\n",
    "                        'Тип клиента': 'customer_type',\n",
    "                        'Форма расчета': 'payment_form',\n",
    "                        'Количество': 'quantity',\n",
    "                        'Цена, USD': 'price_usd',\n",
    "                        'Продажа, USD': 'sale_usd',\n",
    "                        'Область': 'region',\n",
    "                        'Сегментация 2013': 'car_type',\n",
    "                        'Класс 2013': 'car_classification',\n",
    "                        'Локализация производства': 'assembly_type'})"
   ]
  },
  {
   "cell_type": "markdown",
   "id": "07d337e3-df65-4687-8e2f-d5ef941bada0",
   "metadata": {},
   "source": [
    "<br>"
   ]
  },
  {
   "cell_type": "markdown",
   "id": "8aa2bae2-5f6d-4e71-9ae2-3ad7264f7dc0",
   "metadata": {},
   "source": [
    "<br>"
   ]
  },
  {
   "cell_type": "markdown",
   "id": "94128503-61d4-4077-a723-f5083e6379a2",
   "metadata": {},
   "source": [
    "#### Создание"
   ]
  },
  {
   "cell_type": "markdown",
   "id": "bba8dcee-3f3f-465e-9d85-2b020559c314",
   "metadata": {},
   "source": [
    "Колонки `year` и `month` можно объединить в одну, создав `purchase_date` — колонку с датой приобретения авто."
   ]
  },
  {
   "cell_type": "code",
   "execution_count": 48,
   "id": "ab379c96-2089-4370-937d-86b210f61c7a",
   "metadata": {},
   "outputs": [],
   "source": [
    "# словарь с месяцами и их числовыми значениями\n",
    "month_mapping = {'Январь': 1,\n",
    "                 'Февраль': 2,\n",
    "                 'Март': 3,\n",
    "                 'Апрель': 4,\n",
    "                 'Май': 5,\n",
    "                 'Июнь': 6,\n",
    "                 'Июль': 7,\n",
    "                 'Август': 8,\n",
    "                 'Сентябрь': 9}\n",
    "\n",
    "# замена значений в `month` с использованием словаря\n",
    "df['month'] = df['month'].map(month_mapping)\n",
    "\n",
    "# создание колонки `purchase_date` путём объединения `year` и `month`\n",
    "df['purchase_date'] = pd.to_datetime(df['year'].astype(str) + '-' + df['month'].astype(str), format='%Y-%m')"
   ]
  },
  {
   "cell_type": "markdown",
   "id": "999179fd-5809-4ce4-97c6-88ef11f1a549",
   "metadata": {},
   "source": [
    "<br>"
   ]
  },
  {
   "cell_type": "markdown",
   "id": "5d77ac74-7ff5-4806-97f9-28051214e1a2",
   "metadata": {},
   "source": [
    "Можно задать иной, более логичный порядок колонкам в таблице.\\\n",
    "Заодно избавимся от колонок с годом и месяцем."
   ]
  },
  {
   "cell_type": "code",
   "execution_count": 49,
   "id": "68b261be-f0f2-4918-ba8b-36bfdc53c86a",
   "metadata": {},
   "outputs": [],
   "source": [
    "df = df[['purchase_date',\n",
    "         'company',\n",
    "         'car_type',\n",
    "         'brand',\n",
    "         'model',\n",
    "         'car_classification',\n",
    "         'manufacturing_year',\n",
    "         'assembly_type',\n",
    "         'manufacturing_country',\n",
    "         'fuel_type',\n",
    "         'engine_displacement_l',\n",
    "         'transmission_type',\n",
    "         'drive_type',\n",
    "         'region',\n",
    "         'city',\n",
    "         'dealer_center_name',\n",
    "         'customer_type',\n",
    "         'payment_form',\n",
    "         'quantity',\n",
    "         'price_usd',\n",
    "         'sale_usd']]"
   ]
  },
  {
   "cell_type": "markdown",
   "id": "000eb017-9836-4f73-a69e-f077f872a675",
   "metadata": {},
   "source": [
    "<br>"
   ]
  },
  {
   "cell_type": "markdown",
   "id": "420b561c-5a40-46ba-9378-b210a1d4b8da",
   "metadata": {},
   "source": [
    "#### Замена типов данных"
   ]
  },
  {
   "cell_type": "markdown",
   "id": "4a3f1e9c-8aff-4d34-b435-d2cdff4ead67",
   "metadata": {},
   "source": [
    "Теперь нужно поменять типы данных в колонках, где они неверны."
   ]
  },
  {
   "cell_type": "markdown",
   "id": "e42015ce-ed8e-40f9-af12-e51162236f46",
   "metadata": {},
   "source": [
    "Вот колонки и их типы данных."
   ]
  },
  {
   "cell_type": "code",
   "execution_count": 50,
   "id": "321b1ff0-0ec5-476a-9688-d838fcb9dc8b",
   "metadata": {},
   "outputs": [
    {
     "data": {
      "text/plain": [
       "purchase_date            datetime64[ns]\n",
       "company                          object\n",
       "car_type                         object\n",
       "brand                            object\n",
       "model                            object\n",
       "car_classification               object\n",
       "manufacturing_year               object\n",
       "assembly_type                    object\n",
       "manufacturing_country            object\n",
       "fuel_type                        object\n",
       "engine_displacement_l            object\n",
       "transmission_type                object\n",
       "drive_type                       object\n",
       "region                           object\n",
       "city                             object\n",
       "dealer_center_name               object\n",
       "customer_type                    object\n",
       "payment_form                     object\n",
       "quantity                        float64\n",
       "price_usd                        object\n",
       "sale_usd                         object\n",
       "dtype: object"
      ]
     },
     "execution_count": 50,
     "metadata": {},
     "output_type": "execute_result"
    }
   ],
   "source": [
    "df.dtypes"
   ]
  },
  {
   "cell_type": "markdown",
   "id": "4c61525e-08f3-41f1-a6f4-a36156e0bbb9",
   "metadata": {},
   "source": [
    "**Где неверные типы данных:**\n",
    "1. `manufacturing_year` — `object` преобразовать в `int`.\n",
    "2. `engine_displacement_l` — `object` преобразовать в `float`.\n",
    "3. `quantity` — `float` преобразовать в `int`.\n",
    "4. `price_usd` — `object` преобразовать в `int`.\n",
    "5. `sale_usd` — `object` преобразовать в `int`."
   ]
  },
  {
   "cell_type": "markdown",
   "id": "1bb2ba65-c7ea-4069-8b32-85f2dd878078",
   "metadata": {},
   "source": [
    "<br>"
   ]
  },
  {
   "cell_type": "markdown",
   "id": "d2adf919-7e1e-4dc9-96ff-65f321762e15",
   "metadata": {},
   "source": [
    "Функция для анализа колонок с неверными типами данных."
   ]
  },
  {
   "cell_type": "code",
   "execution_count": 51,
   "id": "01adf8e9-22d8-4ea6-aeba-7326fd76b9fa",
   "metadata": {},
   "outputs": [],
   "source": [
    "def dtype_change(column):\n",
    "    print(df[column].sort_values().unique())\n",
    "    print('')\n",
    "    print(f'Количество уникальных значений: {df[column].nunique()}')"
   ]
  },
  {
   "cell_type": "markdown",
   "id": "54b60eff-eda9-4b02-bea4-eb28bdbdd1c4",
   "metadata": {},
   "source": [
    "<br>"
   ]
  },
  {
   "cell_type": "markdown",
   "id": "8f7f0220-eb93-42e2-a59c-042ae6da4a74",
   "metadata": {},
   "source": [
    "##### `Год производства`"
   ]
  },
  {
   "cell_type": "markdown",
   "id": "a851ab39-6189-4302-a91b-1b0fc5d3d5d9",
   "metadata": {},
   "source": [
    "Посмотрим сначала уникальные значения внутри."
   ]
  },
  {
   "cell_type": "code",
   "execution_count": 52,
   "id": "53210b55-8339-4b27-bb0a-53380a586f20",
   "metadata": {},
   "outputs": [
    {
     "name": "stdout",
     "output_type": "stream",
     "text": [
      "['2011' '2013' '2014' '2016' '2017' '2018' '2019' '2\\xa0018' '2\\xa0019'\n",
      " nan]\n",
      "\n",
      "Количество уникальных значений: 9\n"
     ]
    }
   ],
   "source": [
    "dtype_change('manufacturing_year')"
   ]
  },
  {
   "cell_type": "markdown",
   "id": "681c7403-61e2-4cce-b981-c40a26ba5c02",
   "metadata": {},
   "source": [
    "Странные символы `2\\xa0` — результат работы кодировки.\\\n",
    "Они скрывают неявные дубликаты, они не дадут преобразовать строку в целочисленный формат.\\\n",
    "Избавимся от этих дублей, убьём сразу двух зайцев."
   ]
  },
  {
   "cell_type": "code",
   "execution_count": 53,
   "id": "dc796016-d198-4cde-a9c8-d8f90129839f",
   "metadata": {},
   "outputs": [],
   "source": [
    "# устранение дублей\n",
    "df['manufacturing_year'] = df['manufacturing_year'].replace('2\\xa0018', '2018')\\\n",
    "                                                   .replace('2\\xa0019', '2019')"
   ]
  },
  {
   "cell_type": "code",
   "execution_count": 54,
   "id": "f810b0b7-ed69-4974-a5ec-b0042fe9dd23",
   "metadata": {},
   "outputs": [
    {
     "name": "stdout",
     "output_type": "stream",
     "text": [
      "['2011' '2013' '2014' '2016' '2017' '2018' '2019' nan]\n",
      "\n",
      "Количество уникальных значений: 7\n"
     ]
    }
   ],
   "source": [
    "# проверка\n",
    "dtype_change('manufacturing_year')"
   ]
  },
  {
   "cell_type": "markdown",
   "id": "61cdd543-61eb-439e-9c6f-baa73a414eb4",
   "metadata": {},
   "source": [
    "Дубли устранились."
   ]
  },
  {
   "cell_type": "markdown",
   "id": "70ef6280-5292-4656-8adf-3707b5ab8e23",
   "metadata": {},
   "source": [
    "Поменяем тип данных."
   ]
  },
  {
   "cell_type": "code",
   "execution_count": 55,
   "id": "c9b5871e-0d74-4df6-9004-f49bb88d4be6",
   "metadata": {},
   "outputs": [],
   "source": [
    "# смена типа данных\n",
    "df['manufacturing_year'] = pd.to_numeric(df['manufacturing_year'], errors='coerce').astype('Int64')"
   ]
  },
  {
   "cell_type": "code",
   "execution_count": 56,
   "id": "903d8830-eca2-4d8d-a02f-d8f7ae280fa6",
   "metadata": {},
   "outputs": [
    {
     "data": {
      "text/plain": [
       "Int64Dtype()"
      ]
     },
     "execution_count": 56,
     "metadata": {},
     "output_type": "execute_result"
    }
   ],
   "source": [
    "# проверка\n",
    "df['manufacturing_year'].dtypes"
   ]
  },
  {
   "cell_type": "markdown",
   "id": "332c48be-7d6f-44fb-be76-3dd938df50d5",
   "metadata": {},
   "source": [
    "Всё верно."
   ]
  },
  {
   "cell_type": "markdown",
   "id": "28b51245-a417-4d1d-9e6d-15b81cde64fd",
   "metadata": {},
   "source": [
    "<br>"
   ]
  },
  {
   "cell_type": "markdown",
   "id": "3f3ccc02-407b-479b-9a32-1ee6662540f6",
   "metadata": {},
   "source": [
    "##### `Объём двигателя`"
   ]
  },
  {
   "cell_type": "markdown",
   "id": "9fda5a73-58a7-484e-8bf8-f46a2bf4b218",
   "metadata": {},
   "source": [
    "Посмотрим сначала уникальные значения внутри."
   ]
  },
  {
   "cell_type": "code",
   "execution_count": 57,
   "id": "551d8525-b4dc-47b3-a1a3-fe82f5bffbc9",
   "metadata": {},
   "outputs": [
    {
     "name": "stdout",
     "output_type": "stream",
     "text": [
      "['#Н/Д' '0' '1,2' '1,248' '1,2T' '1,33' '1,4' '1,4 Turbo' '1,485' '1,5'\n",
      " '1,591' '1,596' '1,598' '1,6' '1,6 MPI' '1,6 T-GDI' '1,69' '1,7' '1,774'\n",
      " '1,8' '1,998' '1,999' '1.5' '1.6' '10,5' '10,7' '11' '11,7' '12' '12,3'\n",
      " '12,7' '12,8' '13' '13,7' '14,7' '15,7' '16,7' '17,7' '18,7' '19,7' '2'\n",
      " '2,0' '2,0 CRDI' '2,0 MPI' '2,2' '2,359' '2,4' '2,4 GDI' '2,4 MPI' '2,4G'\n",
      " '2,5' '2,5 CRDI VGT' '2,5 CRDI WGT' '2,693' '2,7' '2,8' '2,9' '2.0'\n",
      " '2.0h' '2.4G' '2.5' '2.7' '2.7 ' '2.8' '20,7' '21,7' '22,7' '23,7' '24,7'\n",
      " '25,7' '26,7' '3' '3,0 L' '3,342' '3,47' '3,5' '3,6' '3,7' '3,8' '3,9'\n",
      " '3.5' '3.8' '4' '4,3' '4,3,' '4,4' '4,6' '4,7' '4,9' '4,98' '4,98 L,'\n",
      " '4.0' '4.6' '400 Л.С.' '5' '5,2' '5,5' '5,6' '5,7' '5.7' '6,2' '6,5'\n",
      " '6,6' '6,7' '6,7L' '7,5' '7,6' '7,7' '8,4 L,' '8,7' '88 KWH' '9,7' 'AT'\n",
      " 'MT' nan]\n",
      "\n",
      "Количество уникальных значений: 114\n"
     ]
    }
   ],
   "source": [
    "dtype_change('engine_displacement_l')"
   ]
  },
  {
   "cell_type": "markdown",
   "id": "9fb2832d-fe79-4bf2-bce3-38272dea23ec",
   "metadata": {},
   "source": [
    "Непорядок. Запятые в объёме двигателя нужно поменять на точки, а от всех буквенных значений нужно избавиться. Иначе не сможем преобразовать во `float`."
   ]
  },
  {
   "cell_type": "code",
   "execution_count": 58,
   "id": "66813ec2-142c-4cdf-8687-c87874c82315",
   "metadata": {},
   "outputs": [],
   "source": [
    "# замена запятых на точки\n",
    "df['engine_displacement_l'] = df['engine_displacement_l'].str.replace(',', '.')\\\n",
    "                                                         .str.replace('[^0-9.]', '', regex=True)"
   ]
  },
  {
   "cell_type": "markdown",
   "id": "b5a36f77-0e73-4c81-90c4-bb1fe83bdfd1",
   "metadata": {},
   "source": [
    "<br>"
   ]
  },
  {
   "cell_type": "markdown",
   "id": "0df5d9a0-8c5d-4a55-b360-f1578735aefd",
   "metadata": {},
   "source": [
    "Посмотрим, что поменялось."
   ]
  },
  {
   "cell_type": "code",
   "execution_count": 59,
   "id": "8bb6b841-3919-4845-bca2-7b7e53ca4e5b",
   "metadata": {},
   "outputs": [
    {
     "name": "stdout",
     "output_type": "stream",
     "text": [
      "['' '0' '1.2' '1.248' '1.33' '1.4' '1.485' '1.5' '1.591' '1.596' '1.598'\n",
      " '1.6' '1.69' '1.7' '1.774' '1.8' '1.998' '1.999' '10.5' '10.7' '11'\n",
      " '11.7' '12' '12.3' '12.7' '12.8' '13' '13.7' '14.7' '15.7' '16.7' '17.7'\n",
      " '18.7' '19.7' '2' '2.0' '2.2' '2.359' '2.4' '2.5' '2.693' '2.7' '2.8'\n",
      " '2.9' '20.7' '21.7' '22.7' '23.7' '24.7' '25.7' '26.7' '3' '3.0' '3.342'\n",
      " '3.47' '3.5' '3.6' '3.7' '3.8' '3.9' '4' '4.0' '4.3' '4.3.' '4.4' '4.6'\n",
      " '4.7' '4.9' '4.98' '4.98.' '400..' '5' '5.2' '5.5' '5.6' '5.7' '6.2'\n",
      " '6.5' '6.6' '6.7' '7.5' '7.6' '7.7' '8.4.' '8.7' '88' '9.7' nan]\n",
      "\n",
      "Количество уникальных значений: 87\n"
     ]
    }
   ],
   "source": [
    "dtype_change('engine_displacement_l')"
   ]
  },
  {
   "cell_type": "markdown",
   "id": "901b1441-fcf7-4058-b541-458921fc93a1",
   "metadata": {},
   "source": [
    "Диапазон уникальных значений уменьшился.\\\n",
    "Значения, которые состояли полностью из букв, поменялись на пустые значения. Их нужно будет поменять на пропуски.\\\n",
    "В некоторых значениях появились лишние точки. Нужно тоже исправить."
   ]
  },
  {
   "cell_type": "code",
   "execution_count": 60,
   "id": "31c4e460-9511-4e1b-850a-112e2c6c2545",
   "metadata": {},
   "outputs": [],
   "source": [
    "# strip удаляет первый и последний символ в строке, указанный в методе\n",
    "df['engine_displacement_l'] = df['engine_displacement_l'].str.strip('.')\\\n",
    "                                                         .replace('', np.nan)"
   ]
  },
  {
   "cell_type": "markdown",
   "id": "8c6ae0bf-6b6d-4303-bd82-0111d67d4c5e",
   "metadata": {},
   "source": [
    "<br>"
   ]
  },
  {
   "cell_type": "markdown",
   "id": "9f54e0f0-3150-404f-829f-aaa06b7c0170",
   "metadata": {},
   "source": [
    "Результат."
   ]
  },
  {
   "cell_type": "code",
   "execution_count": 61,
   "id": "8da0c26b-8e98-4a73-b9c1-631d7e8b1ba8",
   "metadata": {},
   "outputs": [
    {
     "name": "stdout",
     "output_type": "stream",
     "text": [
      "['0' '1.2' '1.248' '1.33' '1.4' '1.485' '1.5' '1.591' '1.596' '1.598'\n",
      " '1.6' '1.69' '1.7' '1.774' '1.8' '1.998' '1.999' '10.5' '10.7' '11'\n",
      " '11.7' '12' '12.3' '12.7' '12.8' '13' '13.7' '14.7' '15.7' '16.7' '17.7'\n",
      " '18.7' '19.7' '2' '2.0' '2.2' '2.359' '2.4' '2.5' '2.693' '2.7' '2.8'\n",
      " '2.9' '20.7' '21.7' '22.7' '23.7' '24.7' '25.7' '26.7' '3' '3.0' '3.342'\n",
      " '3.47' '3.5' '3.6' '3.7' '3.8' '3.9' '4' '4.0' '4.3' '4.4' '4.6' '4.7'\n",
      " '4.9' '4.98' '400' '5' '5.2' '5.5' '5.6' '5.7' '6.2' '6.5' '6.6' '6.7'\n",
      " '7.5' '7.6' '7.7' '8.4' '8.7' '88' '9.7' nan]\n",
      "\n",
      "Количество уникальных значений: 84\n"
     ]
    }
   ],
   "source": [
    "dtype_change('engine_displacement_l')"
   ]
  },
  {
   "cell_type": "markdown",
   "id": "d2f11363-2cab-4606-b1e6-bfdc69b6b571",
   "metadata": {},
   "source": [
    "<br>"
   ]
  },
  {
   "cell_type": "markdown",
   "id": "972c4215-8812-45de-9c07-46cf6719b68f",
   "metadata": {},
   "source": [
    "Наконец, поменяем тип данных."
   ]
  },
  {
   "cell_type": "code",
   "execution_count": 62,
   "id": "cd570a0e-35c8-4ca4-8fd2-34f19607a04d",
   "metadata": {},
   "outputs": [],
   "source": [
    "# смена типа данных\n",
    "df['engine_displacement_l'] = df['engine_displacement_l'].astype('float')"
   ]
  },
  {
   "cell_type": "code",
   "execution_count": 63,
   "id": "8730a868-1f44-4148-ac40-ee2c3406bb02",
   "metadata": {},
   "outputs": [
    {
     "data": {
      "text/plain": [
       "dtype('float64')"
      ]
     },
     "execution_count": 63,
     "metadata": {},
     "output_type": "execute_result"
    }
   ],
   "source": [
    "# проверка\n",
    "df['engine_displacement_l'].dtypes"
   ]
  },
  {
   "cell_type": "markdown",
   "id": "8837aa9d-70fe-44a4-b719-db4ed12ef7b2",
   "metadata": {},
   "source": [
    "Всё верно."
   ]
  },
  {
   "cell_type": "markdown",
   "id": "14b7e207-9537-4fe9-87a4-af98c2e26512",
   "metadata": {},
   "source": [
    "<br>"
   ]
  },
  {
   "cell_type": "markdown",
   "id": "e1d72a86-1fe6-49d2-bdc7-232d2056ba16",
   "metadata": {},
   "source": [
    "##### `Количество авто в заказе`"
   ]
  },
  {
   "cell_type": "markdown",
   "id": "1cfa11f6-90e6-42a8-b04b-fbeb5960e0d1",
   "metadata": {},
   "source": [
    "Посмотрим сначала уникальные значения внутри."
   ]
  },
  {
   "cell_type": "code",
   "execution_count": 64,
   "id": "5808671f-f796-428a-a901-517458765915",
   "metadata": {},
   "outputs": [
    {
     "name": "stdout",
     "output_type": "stream",
     "text": [
      "[ -1.   1.   2.   3.   4.   5.   6.   7.   8.   9.  10.  11.  12.  13.\n",
      "  14.  15.  16.  17.  18.  19.  20.  21.  22.  23.  24.  25.  26.  27.\n",
      "  28.  29.  30.  31.  32.  33.  34.  35.  36.  37.  38.  40.  41.  42.\n",
      "  43.  46.  47.  50.  51.  54.  60.  62.  63.  66.  70.  79. 100. 115.\n",
      "  nan]\n",
      "\n",
      "Количество уникальных значений: 56\n"
     ]
    }
   ],
   "source": [
    "dtype_change('quantity')"
   ]
  },
  {
   "cell_type": "markdown",
   "id": "55849647-e239-416a-b5bd-58dbcace7533",
   "metadata": {},
   "source": [
    "Здесь всё просто. Меняем тип данных."
   ]
  },
  {
   "cell_type": "code",
   "execution_count": 65,
   "id": "11aeb31a-661c-4998-831a-4df54b13d503",
   "metadata": {},
   "outputs": [],
   "source": [
    "# замена типа данных\n",
    "df['quantity'] = df['quantity'].astype('Int64')"
   ]
  },
  {
   "cell_type": "code",
   "execution_count": 66,
   "id": "954f6569-4e50-43bd-81bb-c6bc0600c494",
   "metadata": {},
   "outputs": [
    {
     "data": {
      "text/plain": [
       "Int64Dtype()"
      ]
     },
     "execution_count": 66,
     "metadata": {},
     "output_type": "execute_result"
    }
   ],
   "source": [
    "# проверка\n",
    "df['quantity'].dtype"
   ]
  },
  {
   "cell_type": "markdown",
   "id": "0d5644cd-5328-431d-96c8-f889b9471f7b",
   "metadata": {},
   "source": [
    "Всё верно."
   ]
  },
  {
   "cell_type": "markdown",
   "id": "875e4940-cc07-4433-9f8f-ee431f0a0147",
   "metadata": {},
   "source": [
    "<br>"
   ]
  },
  {
   "cell_type": "markdown",
   "id": "631ce6b3-7176-4879-a9d2-6eb0a3a194a1",
   "metadata": {},
   "source": [
    "##### `Стоимость автомобиля`"
   ]
  },
  {
   "cell_type": "markdown",
   "id": "b2c169de-9b95-41ac-ab09-4e13fdeec27b",
   "metadata": {},
   "source": [
    "Посмотрим сначала уникальные значения внутри."
   ]
  },
  {
   "cell_type": "code",
   "execution_count": 67,
   "id": "63f50188-8369-4436-8c14-ba1c53f28911",
   "metadata": {},
   "outputs": [
    {
     "name": "stdout",
     "output_type": "stream",
     "text": [
      "['100056,4835' '10015,24362' '100216,6313' ... '99467,01183' '9969,169424'\n",
      " '99767,25773']\n",
      "\n",
      "Количество уникальных значений: 3510\n"
     ]
    }
   ],
   "source": [
    "dtype_change('price_usd')"
   ]
  },
  {
   "cell_type": "markdown",
   "id": "1c4ddf11-4ca5-46fd-8cf5-20c336db6a88",
   "metadata": {},
   "source": [
    "Здесь с максимальной точностью указана цена автомобиля. Но эта ловля центов нам не нужна. Нужно округлить просто округлить цену.\\\n",
    "Чтобы преобразовать тип данных, сделаем следующее:"
   ]
  },
  {
   "cell_type": "code",
   "execution_count": 68,
   "id": "fcf8bede-ca99-439e-8e20-e07409c8d588",
   "metadata": {},
   "outputs": [
    {
     "data": {
      "text/plain": [
       "dtype('int32')"
      ]
     },
     "execution_count": 68,
     "metadata": {},
     "output_type": "execute_result"
    }
   ],
   "source": [
    "# замена разделения дробной части от целого с запятой на точку\n",
    "df['price_usd'] = df['price_usd'].str.replace(',', '.')\n",
    "\n",
    "# преобразование строчного типа в вещественный\n",
    "df['price_usd'] = df['price_usd'].astype('float')\n",
    "\n",
    "# округление цены автомобиля в большую сторону\n",
    "df['price_usd'] = df['price_usd'].round()\n",
    "\n",
    "# преобразование вещественного типа в целочисленный\n",
    "df['price_usd'] = df['price_usd'].astype('int')\n",
    "\n",
    "# проверка\n",
    "df['price_usd'].dtype"
   ]
  },
  {
   "cell_type": "markdown",
   "id": "0db82baa-341c-44b8-9627-ef02daadb643",
   "metadata": {},
   "source": [
    "Всё верно."
   ]
  },
  {
   "cell_type": "markdown",
   "id": "f9b6fad5-158d-4243-beb1-d0236fbb932b",
   "metadata": {},
   "source": [
    "<br>"
   ]
  },
  {
   "cell_type": "markdown",
   "id": "005e4f43-513c-4b5c-b810-75873cfff2e2",
   "metadata": {},
   "source": [
    "##### `Цена заказа в $`"
   ]
  },
  {
   "cell_type": "markdown",
   "id": "2db96d4b-1038-4112-b0cd-633a1e552d1b",
   "metadata": {},
   "source": [
    "Посмотрим сначала уникальные значения внутри."
   ]
  },
  {
   "cell_type": "code",
   "execution_count": 69,
   "id": "ce514d9e-1850-4f61-887e-84c4890eb032",
   "metadata": {},
   "outputs": [
    {
     "name": "stdout",
     "output_type": "stream",
     "text": [
      "['-35588,25' '0' '100000' ... '9969,169424' '99766,70464' '99767,25773']\n",
      "\n",
      "Количество уникальных значений: 4183\n"
     ]
    }
   ],
   "source": [
    "dtype_change('sale_usd')"
   ]
  },
  {
   "cell_type": "markdown",
   "id": "79286246-af9e-40af-aa43-e01549d3a55f",
   "metadata": {},
   "source": [
    "Напомню, что это цена автомобиля, умноженная на их количество, за вычетом скидок."
   ]
  },
  {
   "cell_type": "markdown",
   "id": "eebf0029-5e74-4eeb-9a6c-c4dddb073053",
   "metadata": {},
   "source": [
    "Опять же имеем максимально точную стоимость \"заказа\". Это нам ни к чему.\\\n",
    "Процесс преобразования такой же, как и в `price_usd`:\\\n",
    "заменим запятую на точку > строчный преобразуем в вещественный > округлим > вещественный преобразуем в целочисленный."
   ]
  },
  {
   "cell_type": "code",
   "execution_count": 70,
   "id": "f67579b0-450a-4241-883a-a9ff9f20739c",
   "metadata": {},
   "outputs": [
    {
     "data": {
      "text/plain": [
       "dtype('int32')"
      ]
     },
     "execution_count": 70,
     "metadata": {},
     "output_type": "execute_result"
    }
   ],
   "source": [
    "# замена символов\n",
    "df['sale_usd'] = df['sale_usd'].str.replace(',', '.')\n",
    "\n",
    "# str > float\n",
    "df['sale_usd'] = df['sale_usd'].astype('float')\n",
    "\n",
    "# округление \n",
    "df['sale_usd'] = df['sale_usd'].round()\n",
    "\n",
    "# float > int\n",
    "df['sale_usd'] = df['sale_usd'].astype('int')\n",
    "\n",
    "# проверка\n",
    "df['sale_usd'].dtype"
   ]
  },
  {
   "cell_type": "markdown",
   "id": "ec622688-4b4f-4b00-9c80-af40db5cf2bd",
   "metadata": {},
   "source": [
    "Тип данных поменялся."
   ]
  },
  {
   "cell_type": "markdown",
   "id": "183298ab-2779-43b2-a805-819bbbae6bac",
   "metadata": {},
   "source": [
    "<br>"
   ]
  },
  {
   "cell_type": "markdown",
   "id": "fc1f9716-b580-44b7-abc7-77e7542f51b1",
   "metadata": {},
   "source": [
    "**Таким образом, мы поменяли тип данных в следующих колонках:**\n",
    "1. `manufacturing_year`\n",
    "2. `engine_displacement_l`\n",
    "3. `quantity`\n",
    "4. `price_usd`\n",
    "5. `sale_usd`"
   ]
  },
  {
   "cell_type": "markdown",
   "id": "41265c91-17ff-4e7f-ba8f-be1735e03b91",
   "metadata": {},
   "source": [
    "<br>"
   ]
  },
  {
   "cell_type": "markdown",
   "id": "5edf86ff-3a6c-45b6-a086-0fb909da78b0",
   "metadata": {},
   "source": [
    "### \"Олицетворение\" данных"
   ]
  },
  {
   "cell_type": "markdown",
   "id": "426ca2ec-10ac-4f5d-b46b-3a13edd97043",
   "metadata": {},
   "source": [
    "Как было уже упомянуто, данные в таблице обезличены, не хватает первичных ключей.\\\n",
    "Если мы произведём проверку на явные дубликаты, мы обнаружим очень большое их количество.\\\n",
    "Это такие дубликаты-строки, которые повторяются в полном объёме: мы можем обнаружить абсолютно одинаковые строки.\\\n",
    "Допустим, сейчас выведу строку-клон, у которой уже есть точно такая же строка в таблице."
   ]
  },
  {
   "cell_type": "code",
   "execution_count": 71,
   "id": "457547a8-7abd-40a3-b3ab-f68f605ae133",
   "metadata": {},
   "outputs": [
    {
     "data": {
      "text/html": [
       "<div>\n",
       "<style scoped>\n",
       "    .dataframe tbody tr th:only-of-type {\n",
       "        vertical-align: middle;\n",
       "    }\n",
       "\n",
       "    .dataframe tbody tr th {\n",
       "        vertical-align: top;\n",
       "    }\n",
       "\n",
       "    .dataframe thead th {\n",
       "        text-align: right;\n",
       "    }\n",
       "</style>\n",
       "<table border=\"1\" class=\"dataframe\">\n",
       "  <thead>\n",
       "    <tr style=\"text-align: right;\">\n",
       "      <th></th>\n",
       "      <th>purchase_date</th>\n",
       "      <th>company</th>\n",
       "      <th>car_type</th>\n",
       "      <th>brand</th>\n",
       "      <th>model</th>\n",
       "      <th>car_classification</th>\n",
       "      <th>manufacturing_year</th>\n",
       "      <th>assembly_type</th>\n",
       "      <th>manufacturing_country</th>\n",
       "      <th>fuel_type</th>\n",
       "      <th>engine_displacement_l</th>\n",
       "      <th>transmission_type</th>\n",
       "      <th>drive_type</th>\n",
       "      <th>region</th>\n",
       "      <th>city</th>\n",
       "      <th>dealer_center_name</th>\n",
       "      <th>customer_type</th>\n",
       "      <th>payment_form</th>\n",
       "      <th>quantity</th>\n",
       "      <th>price_usd</th>\n",
       "      <th>sale_usd</th>\n",
       "    </tr>\n",
       "  </thead>\n",
       "  <tbody>\n",
       "    <tr>\n",
       "      <th>8</th>\n",
       "      <td>2019-06-01</td>\n",
       "      <td>Mercur Auto</td>\n",
       "      <td>Легковые автомобили</td>\n",
       "      <td>Audi</td>\n",
       "      <td>A6</td>\n",
       "      <td>E класс</td>\n",
       "      <td>2019</td>\n",
       "      <td>Импорт</td>\n",
       "      <td>Германия</td>\n",
       "      <td>Бензин</td>\n",
       "      <td>3.0</td>\n",
       "      <td>S-tronic</td>\n",
       "      <td>quattro</td>\n",
       "      <td>г.Алматы</td>\n",
       "      <td>Алматы</td>\n",
       "      <td>Mercur Auto Алматы</td>\n",
       "      <td>Физ. Лицо</td>\n",
       "      <td>наличный</td>\n",
       "      <td>1</td>\n",
       "      <td>78940</td>\n",
       "      <td>78940</td>\n",
       "    </tr>\n",
       "  </tbody>\n",
       "</table>\n",
       "</div>"
      ],
      "text/plain": [
       "  purchase_date      company             car_type brand model  \\\n",
       "8    2019-06-01  Mercur Auto  Легковые автомобили  Audi    A6   \n",
       "\n",
       "  car_classification  manufacturing_year assembly_type manufacturing_country  \\\n",
       "8            E класс                2019        Импорт              Германия   \n",
       "\n",
       "  fuel_type  engine_displacement_l transmission_type drive_type    region  \\\n",
       "8    Бензин                    3.0          S-tronic    quattro  г.Алматы   \n",
       "\n",
       "     city  dealer_center_name customer_type payment_form  quantity  price_usd  \\\n",
       "8  Алматы  Mercur Auto Алматы     Физ. Лицо     наличный         1      78940   \n",
       "\n",
       "   sale_usd  \n",
       "8     78940  "
      ]
     },
     "execution_count": 71,
     "metadata": {},
     "output_type": "execute_result"
    }
   ],
   "source": [
    "df[df.duplicated()].head(1)"
   ]
  },
  {
   "cell_type": "code",
   "execution_count": 72,
   "id": "73137d76-2f23-42a2-ac6c-28ef031f1b3e",
   "metadata": {},
   "outputs": [
    {
     "name": "stdout",
     "output_type": "stream",
     "text": [
      "Количество явных (полных) дубликатов: 20197\n",
      "Процент явных (полных) дубликатов: 50.5%\n"
     ]
    }
   ],
   "source": [
    "print(f'Количество явных (полных) дубликатов: {df.duplicated().sum()}')\n",
    "print(f'Процент явных (полных) дубликатов: {round(df.duplicated().sum() / len(df) * 100, 1)}%')"
   ]
  },
  {
   "cell_type": "markdown",
   "id": "72fbe695-fef0-4ae0-bd9e-47ac83e23b4a",
   "metadata": {},
   "source": [
    "Удаление их будет серьёзной ошибкой.\\\n",
    "Здесь просто нужно добавить уникальный идентификатор каждой строке, и всё наладится."
   ]
  },
  {
   "cell_type": "markdown",
   "id": "f0012066-1f6b-47af-89af-e0bf22c8d763",
   "metadata": {},
   "source": [
    "<br>"
   ]
  },
  {
   "cell_type": "markdown",
   "id": "cfe5a6ee-3ab6-47a6-b6e7-80d24ac7e796",
   "metadata": {},
   "source": [
    "Но перед этим **зададим сортировку сначала по дате покупки, затем по бренду, и затем по модели.**"
   ]
  },
  {
   "cell_type": "code",
   "execution_count": 73,
   "id": "7e677e48-51fa-481e-9d1f-7af35d13217c",
   "metadata": {},
   "outputs": [],
   "source": [
    "# сортировка по дате покупки, бренду, модели\n",
    "df = df.sort_values(by=['purchase_date', 'brand', 'model'])"
   ]
  },
  {
   "cell_type": "markdown",
   "id": "5466a32c-afa3-407a-8deb-d36e5b8e8cf1",
   "metadata": {},
   "source": [
    "<br>"
   ]
  },
  {
   "cell_type": "markdown",
   "id": "a049388d-7b89-4aaf-a329-3d909245bdbd",
   "metadata": {},
   "source": [
    "Теперь прилепим уникальный ID к каждой строке."
   ]
  },
  {
   "cell_type": "code",
   "execution_count": 74,
   "id": "f52f4f9c-a7fa-48c7-88c3-072dbdefd9cd",
   "metadata": {},
   "outputs": [],
   "source": [
    "# олицетворение строк\n",
    "df = df.reset_index(drop=True)\\\n",
    "       .reset_index()\\\n",
    "       .rename(columns={'index': 'id'})"
   ]
  },
  {
   "cell_type": "markdown",
   "id": "fa85fca6-d90a-4a24-8e30-3f2733b87568",
   "metadata": {},
   "source": [
    "<br>"
   ]
  },
  {
   "cell_type": "markdown",
   "id": "4ac18db2-a685-43f2-8686-1dcb24d11307",
   "metadata": {},
   "source": [
    "Теперь проверим, что с явными дубликатами."
   ]
  },
  {
   "cell_type": "code",
   "execution_count": 75,
   "id": "40e6ac51-9a2f-49ce-9085-937cba4efe05",
   "metadata": {},
   "outputs": [
    {
     "name": "stdout",
     "output_type": "stream",
     "text": [
      "Количество явных (полных) дубликатов: 0\n",
      "Процент явных (полных) дубликатов: 0.0%\n"
     ]
    }
   ],
   "source": [
    "print(f'Количество явных (полных) дубликатов: {df.duplicated().sum()}')\n",
    "print(f'Процент явных (полных) дубликатов: {round(df.duplicated().sum() / len(df) * 100, 1)}%')"
   ]
  },
  {
   "cell_type": "markdown",
   "id": "6145b082-2b12-4fb1-bc5a-c35b7cd14e59",
   "metadata": {},
   "source": [
    "Их нет.\\\n",
    "Конечно, данный способ неидеален. Потому что, в теории, один клиент может зайти в разные месяцы и купить автомобиль снова.\\\n",
    "Но это будет очень состоятельный покупатель и такое явление очень большая редкость. Получается, что это клиент с одним и тем же ID.\\\n",
    "Но это совсем незначительная трудность."
   ]
  },
  {
   "cell_type": "markdown",
   "id": "03d5ec41-b457-4e47-b121-e86210da2922",
   "metadata": {},
   "source": [
    "<br>"
   ]
  },
  {
   "cell_type": "markdown",
   "id": "e3ac5194-d3c1-4ded-a26e-6502cee6b5b6",
   "metadata": {},
   "source": [
    "### Дубликаты и аномалии"
   ]
  },
  {
   "cell_type": "markdown",
   "id": "f798eb90-9ca9-43aa-b3c5-ceb0a4b19b3a",
   "metadata": {},
   "source": [
    "Проблему явных дубликатов мы исправили.\\\n",
    "Теперь нужно разобраться с неявными дубликатами и аномальными значениями.\\\n",
    "Для этого пройдёмся по каждой колонке."
   ]
  },
  {
   "cell_type": "markdown",
   "id": "fa4b01bf-7394-46bf-b8b5-0ff000c95423",
   "metadata": {},
   "source": [
    "<br>"
   ]
  },
  {
   "cell_type": "markdown",
   "id": "01619677-6fc6-4dd7-a6a3-6e724a71d5ce",
   "metadata": {},
   "source": [
    "Создадим функцию для анализа колонки."
   ]
  },
  {
   "cell_type": "code",
   "execution_count": 76,
   "id": "3130b3d8-2832-4aee-b945-55c73a8babab",
   "metadata": {},
   "outputs": [],
   "source": [
    "def duplicates(column):\n",
    "    print(df[column].value_counts(dropna=False).head(10))\n",
    "    print('')\n",
    "    print(f'Количество непропущенных значений: {df[column].count()}')\n",
    "    print(f'Количество уникальных значений: {df[column].nunique()}')\n",
    "    print('')\n",
    "    print(f'Первые 50 уникальных значений в алфавитном порядке:')\n",
    "    print(df[column].sort_values().unique()[:50])"
   ]
  },
  {
   "cell_type": "markdown",
   "id": "e2faa8c2-038b-448b-913a-f221a34edac1",
   "metadata": {},
   "source": [
    "<br>"
   ]
  },
  {
   "cell_type": "markdown",
   "id": "88f02acc-789e-44b8-8296-a0195e6a671b",
   "metadata": {},
   "source": [
    "`ID`"
   ]
  },
  {
   "cell_type": "code",
   "execution_count": 77,
   "id": "fd23b2b0-1478-4c89-b222-fc698cbeb519",
   "metadata": {},
   "outputs": [
    {
     "name": "stdout",
     "output_type": "stream",
     "text": [
      "0        1\n",
      "35492    1\n",
      "25241    1\n",
      "31386    1\n",
      "29339    1\n",
      "19100    1\n",
      "17053    1\n",
      "23198    1\n",
      "21151    1\n",
      "33445    1\n",
      "Name: id, dtype: int64\n",
      "\n",
      "Количество непропущенных значений: 39966\n",
      "Количество уникальных значений: 39966\n",
      "\n",
      "Первые 50 уникальных значений в алфавитном порядке:\n",
      "[ 0  1  2  3  4  5  6  7  8  9 10 11 12 13 14 15 16 17 18 19 20 21 22 23\n",
      " 24 25 26 27 28 29 30 31 32 33 34 35 36 37 38 39 40 41 42 43 44 45 46 47\n",
      " 48 49]\n"
     ]
    }
   ],
   "source": [
    "duplicates('id')"
   ]
  },
  {
   "cell_type": "markdown",
   "id": "72c80aaa-a658-4edb-ad7f-a856e2589c8f",
   "metadata": {},
   "source": [
    "Ранее каждой строке мы поставили уникальный ID.\\\n",
    "Дубликатов и аномалий нет."
   ]
  },
  {
   "cell_type": "markdown",
   "id": "031d569f-1c07-4263-bc4b-c607814eac19",
   "metadata": {},
   "source": [
    "<br>"
   ]
  },
  {
   "cell_type": "markdown",
   "id": "dc1c8928-6e86-4ca8-b32f-fe051f15b189",
   "metadata": {},
   "source": [
    "`Дата покупки`"
   ]
  },
  {
   "cell_type": "code",
   "execution_count": 78,
   "id": "c4f5460b-a20d-4e8c-98d7-a648a4464739",
   "metadata": {},
   "outputs": [
    {
     "name": "stdout",
     "output_type": "stream",
     "text": [
      "2019-07-01    5930\n",
      "2019-09-01    5312\n",
      "2019-08-01    4812\n",
      "2019-05-01    4798\n",
      "2019-06-01    4754\n",
      "2019-04-01    4177\n",
      "2019-03-01    3662\n",
      "2019-01-01    3384\n",
      "2019-02-01    3137\n",
      "Name: purchase_date, dtype: int64\n",
      "\n",
      "Количество непропущенных значений: 39966\n",
      "Количество уникальных значений: 9\n",
      "\n",
      "Первые 50 уникальных значений в алфавитном порядке:\n",
      "['2019-01-01T00:00:00.000000000' '2019-02-01T00:00:00.000000000'\n",
      " '2019-03-01T00:00:00.000000000' '2019-04-01T00:00:00.000000000'\n",
      " '2019-05-01T00:00:00.000000000' '2019-06-01T00:00:00.000000000'\n",
      " '2019-07-01T00:00:00.000000000' '2019-08-01T00:00:00.000000000'\n",
      " '2019-09-01T00:00:00.000000000']\n"
     ]
    }
   ],
   "source": [
    "duplicates('purchase_date')"
   ]
  },
  {
   "cell_type": "markdown",
   "id": "67b87be6-f99b-423e-97dc-c9cf06885f54",
   "metadata": {},
   "source": [
    "Все строки показывают $2019$ год и нужные месяца, как положено.\\\n",
    "Дубликатов и аномалий нет."
   ]
  },
  {
   "cell_type": "markdown",
   "id": "758c9cb8-e10e-41e0-997e-bfa8c7f52b34",
   "metadata": {},
   "source": [
    "<br>"
   ]
  },
  {
   "cell_type": "markdown",
   "id": "81e843cd-08f2-4bb6-82db-cf99494a4d9e",
   "metadata": {},
   "source": [
    "##### `Компания`"
   ]
  },
  {
   "cell_type": "code",
   "execution_count": 79,
   "id": "92888fa6-c696-4793-9891-85a3510d9fc8",
   "metadata": {},
   "outputs": [
    {
     "name": "stdout",
     "output_type": "stream",
     "text": [
      "Toyota Motor Kazakhstan     11951\n",
      "Astana Motors                7395\n",
      "БИПЭК АВТО                   3624\n",
      "Вираж                        2909\n",
      "Astana Motors                2774\n",
      "Allur Auto                   2526\n",
      "Renault Россия               1796\n",
      "Nissan Manufacturing RUS     1149\n",
      "Равон Моторс Казахстан        947\n",
      "ТК КАМАЗ                      893\n",
      "Name: company, dtype: int64\n",
      "\n",
      "Количество непропущенных значений: 39966\n",
      "Количество уникальных значений: 40\n",
      "\n",
      "Первые 50 уникальных значений в алфавитном порядке:\n",
      "['Allur Auto' 'Almaty Motors Premium' 'Astana Motors' 'Astana Motors '\n",
      " 'Autokapital' 'Caspian Motors' 'Daewoo Bus Kazakhstan'\n",
      " 'Eurasia Motor Premium' 'Hino Motors ' 'Hyundai Com Trans Kazakhstan '\n",
      " 'MAN Truck & Bus Kazakhstan' 'MMC RUS' 'Mercur Auto' 'Mercur Autos'\n",
      " 'Nissan Manufacturing RUS' 'Ravon Motors Kazakstan' 'Renault Россия'\n",
      " 'Scandinavian Motors' 'Scania Central Asia' 'Subaru Kazakhstan'\n",
      " 'TERRA MOTORS' 'Toyota Motor Kazakhstan' 'Volkswagen Group Rus'\n",
      " 'Автодом Motors KST' 'Автокапитал' 'Автомир ГК' 'Автомир-Центр'\n",
      " 'Автоцентр-Бавария' 'БИПЭК АВТО' 'Вираж' 'Каспиан Моторс'\n",
      " 'Лифан Моторс Рус' 'ММС Рус' 'Равон Моторс Казахстан' 'СВС-ТРАНС' 'СемАЗ'\n",
      " 'ТК КАМАЗ' 'ТОО \"Eurasia Motor Zhaik\"' 'УзАвто-Казахстан'\n",
      " 'Хино Моторс Казахстан']\n"
     ]
    }
   ],
   "source": [
    "duplicates('company')"
   ]
  },
  {
   "cell_type": "markdown",
   "id": "13293794-d3c8-4ca0-a479-a0142e6dde3f",
   "metadata": {},
   "source": [
    "Выведем полное распределение значений колонки.\\\n",
    "Это поможет найти выбивающиеся значения."
   ]
  },
  {
   "cell_type": "code",
   "execution_count": 80,
   "id": "0346f868-a2ca-42bc-9cfa-e04557ab3a6f",
   "metadata": {},
   "outputs": [
    {
     "data": {
      "text/plain": [
       "Toyota Motor Kazakhstan          11951\n",
       "Astana Motors                     7395\n",
       "БИПЭК АВТО                        3624\n",
       "Вираж                             2909\n",
       "Astana Motors                     2774\n",
       "Allur Auto                        2526\n",
       "Renault Россия                    1796\n",
       "Nissan Manufacturing RUS          1149\n",
       "Равон Моторс Казахстан             947\n",
       "ТК КАМАЗ                           893\n",
       "Mercur Auto                        639\n",
       "Ravon Motors Kazakstan             559\n",
       "Subaru Kazakhstan                  503\n",
       "ММС Рус                            408\n",
       "Лифан Моторс Рус                   233\n",
       "Автоцентр-Бавария                  224\n",
       "СВС-ТРАНС                          202\n",
       "Hyundai Com Trans Kazakhstan       155\n",
       "УзАвто-Казахстан                   152\n",
       "Автомир ГК                         112\n",
       "Volkswagen Group Rus               109\n",
       "Eurasia Motor Premium              102\n",
       "Almaty Motors Premium               94\n",
       "СемАЗ                               93\n",
       "Autokapital                         85\n",
       "TERRA MOTORS                        77\n",
       "Автодом Motors KST                  53\n",
       "Scandinavian Motors                 42\n",
       "Хино Моторс Казахстан               39\n",
       "Автомир-Центр                       34\n",
       "Автокапитал                         33\n",
       "ТОО \"Eurasia Motor Zhaik\"           15\n",
       "Scania Central Asia                 12\n",
       "Daewoo Bus Kazakhstan               10\n",
       "MAN Truck & Bus Kazakhstan           6\n",
       "Mercur Autos                         4\n",
       "MMC RUS                              2\n",
       "Hino Motors                          2\n",
       "Caspian Motors                       2\n",
       "Каспиан Моторс                       1\n",
       "Name: company, dtype: int64"
      ]
     },
     "execution_count": 80,
     "metadata": {},
     "output_type": "execute_result"
    }
   ],
   "source": [
    "df['company'].value_counts()"
   ]
  },
  {
   "cell_type": "markdown",
   "id": "5d61739a-e814-4aec-92e4-2ea95686b436",
   "metadata": {},
   "source": [
    "Не без помощи поисковых систем замечены неявные дубликаты. Устраним их."
   ]
  },
  {
   "cell_type": "code",
   "execution_count": 81,
   "id": "315285f4-ec1a-45d2-9a31-2d2c8a23dd8d",
   "metadata": {
    "tags": []
   },
   "outputs": [],
   "source": [
    "# неявные дубликаты\n",
    "df['company'] = df['company'].replace('Каспиан Моторс', 'Caspian Motors')\\\n",
    "                             .replace('Astana Motors ', 'Astana Motors')\\\n",
    "                             .replace('Хино Моторс Казахстан', 'Hino Motors')\\\n",
    "                             .replace('MMC RUS', 'ММС Рус')\\\n",
    "                             .replace('Mercur Autos', 'Mercur Auto')\\\n",
    "                             .replace('Равон Моторс Казахстан', 'Ravon Motors Kazakstan')\\\n",
    "                             .replace('Автокапитал', 'Autokapital')\\\n",
    "                             .replace('Автомир ГК', 'Автомир-Центр')\n",
    "\n",
    "# неточности в названиях\n",
    "df['company'] = df['company'].replace('Hino Motors ', 'Hino Motors')\\\n",
    "                             .replace('ТОО \"Eurasia Motor Zhaik\"', 'Eurasia Motor Zhaik')"
   ]
  },
  {
   "cell_type": "markdown",
   "id": "415d9b91-b050-4fb0-8cff-44c2128d4404",
   "metadata": {},
   "source": [
    "Посмотрим снова картину."
   ]
  },
  {
   "cell_type": "code",
   "execution_count": 82,
   "id": "61763fc7-cd2b-43a9-9f9b-d45d538bbc3f",
   "metadata": {
    "tags": []
   },
   "outputs": [
    {
     "name": "stdout",
     "output_type": "stream",
     "text": [
      "Toyota Motor Kazakhstan     11951\n",
      "Astana Motors               10169\n",
      "БИПЭК АВТО                   3624\n",
      "Вираж                        2909\n",
      "Allur Auto                   2526\n",
      "Renault Россия               1796\n",
      "Ravon Motors Kazakstan       1506\n",
      "Nissan Manufacturing RUS     1149\n",
      "ТК КАМАЗ                      893\n",
      "Mercur Auto                   643\n",
      "Name: company, dtype: int64\n",
      "\n",
      "Количество непропущенных значений: 39966\n",
      "Количество уникальных значений: 32\n",
      "\n",
      "Первые 50 уникальных значений в алфавитном порядке:\n",
      "['Allur Auto' 'Almaty Motors Premium' 'Astana Motors' 'Autokapital'\n",
      " 'Caspian Motors' 'Daewoo Bus Kazakhstan' 'Eurasia Motor Premium'\n",
      " 'Eurasia Motor Zhaik' 'Hino Motors' 'Hyundai Com Trans Kazakhstan '\n",
      " 'MAN Truck & Bus Kazakhstan' 'Mercur Auto' 'Nissan Manufacturing RUS'\n",
      " 'Ravon Motors Kazakstan' 'Renault Россия' 'Scandinavian Motors'\n",
      " 'Scania Central Asia' 'Subaru Kazakhstan' 'TERRA MOTORS'\n",
      " 'Toyota Motor Kazakhstan' 'Volkswagen Group Rus' 'Автодом Motors KST'\n",
      " 'Автомир-Центр' 'Автоцентр-Бавария' 'БИПЭК АВТО' 'Вираж'\n",
      " 'Лифан Моторс Рус' 'ММС Рус' 'СВС-ТРАНС' 'СемАЗ' 'ТК КАМАЗ'\n",
      " 'УзАвто-Казахстан']\n"
     ]
    }
   ],
   "source": [
    "duplicates('company')"
   ]
  },
  {
   "cell_type": "markdown",
   "id": "2f5106a1-65fe-4863-bf8c-4f0c5724ad84",
   "metadata": {},
   "source": [
    "Теперь стало на $8$ уникальных значений меньше. Дубли устранились."
   ]
  },
  {
   "cell_type": "markdown",
   "id": "4cf360a4-6a8c-433c-b52e-1ac01f4ce426",
   "metadata": {},
   "source": [
    "<br>"
   ]
  },
  {
   "cell_type": "markdown",
   "id": "f5ee3cb1-b36b-4056-8af8-18d6d558721b",
   "metadata": {},
   "source": [
    "`Тип автомобиля`"
   ]
  },
  {
   "cell_type": "code",
   "execution_count": 83,
   "id": "f3e92b82-8a5f-4665-ba44-636e866c3d7d",
   "metadata": {},
   "outputs": [
    {
     "name": "stdout",
     "output_type": "stream",
     "text": [
      "Внедорожники               17928\n",
      "Легковые автомобили        16333\n",
      "Коммерческие автомобили     4329\n",
      "Пикапы                       974\n",
      "Минивэны                     402\n",
      "Name: car_type, dtype: int64\n",
      "\n",
      "Количество непропущенных значений: 39966\n",
      "Количество уникальных значений: 5\n",
      "\n",
      "Первые 50 уникальных значений в алфавитном порядке:\n",
      "['Внедорожники' 'Коммерческие автомобили' 'Легковые автомобили' 'Минивэны'\n",
      " 'Пикапы']\n"
     ]
    }
   ],
   "source": [
    "duplicates('car_type')"
   ]
  },
  {
   "cell_type": "markdown",
   "id": "e41d3c71-4d62-428e-8d1e-709ab1b3aadd",
   "metadata": {},
   "source": [
    "Здесь всё интересно намешано.\n",
    "\n",
    "**Внедорожники** — это легковые или полугрузовые автомобили повышенной проходимости и повышенного комфорта в салоне. По-другому их можно назвать кроссоверами.\\\n",
    "**Легковые автомобили** — это тип автомобиля, который имеют различные кузова: седан, хэтчбек, универсал, лифтбек, кабриолет, купе.\\\n",
    "**Коммерческие автомобили** — это автомобили, используемые в коммерческих целях: грузовики, автобусы и прочее.\\\n",
    "**Пикапы** — это внедорожники, которые могут быть как грузовыми, так и легковыми.\\\n",
    "**Минивэны** — это тип кузова легковых автомобилей с тремя рядами сидений.\n",
    "\n",
    "Здесь стоит **пикапы перенести во внедорожники, а минивэны в легковые.**"
   ]
  },
  {
   "cell_type": "code",
   "execution_count": 84,
   "id": "36ab489e-7e27-484a-a613-fdb5b045b838",
   "metadata": {},
   "outputs": [],
   "source": [
    "df['car_type'] = df['car_type'].replace('Пикапы', 'Внедорожники')\\\n",
    "                               .replace('Минивэны', 'Легковые автомобили')"
   ]
  },
  {
   "cell_type": "markdown",
   "id": "27f3d9d0-5ca2-4d46-8def-0aaa66ba10ee",
   "metadata": {},
   "source": [
    "Проверим снова."
   ]
  },
  {
   "cell_type": "code",
   "execution_count": 85,
   "id": "99eed594-54b1-4cb4-801e-337bf2017042",
   "metadata": {},
   "outputs": [
    {
     "name": "stdout",
     "output_type": "stream",
     "text": [
      "Внедорожники               18902\n",
      "Легковые автомобили        16735\n",
      "Коммерческие автомобили     4329\n",
      "Name: car_type, dtype: int64\n",
      "\n",
      "Количество непропущенных значений: 39966\n",
      "Количество уникальных значений: 3\n",
      "\n",
      "Первые 50 уникальных значений в алфавитном порядке:\n",
      "['Внедорожники' 'Коммерческие автомобили' 'Легковые автомобили']\n"
     ]
    }
   ],
   "source": [
    "duplicates('car_type')"
   ]
  },
  {
   "cell_type": "markdown",
   "id": "460d88ff-730f-463e-b31e-f1ae794f3b67",
   "metadata": {},
   "source": [
    "Теперь порядок."
   ]
  },
  {
   "cell_type": "markdown",
   "id": "928cc45b-ac00-4422-9749-3b86208a5ca5",
   "metadata": {},
   "source": [
    "<br>"
   ]
  },
  {
   "cell_type": "markdown",
   "id": "81dc51ca-25cc-4355-a31b-ca7e933b33a6",
   "metadata": {},
   "source": [
    "`Марка автомобиля`"
   ]
  },
  {
   "cell_type": "code",
   "execution_count": 86,
   "id": "800dbfdd-e598-4763-ba2d-50733a6c7d0c",
   "metadata": {},
   "outputs": [
    {
     "name": "stdout",
     "output_type": "stream",
     "text": [
      "Toyota     10745\n",
      "Hyundai    10168\n",
      "Jac         1991\n",
      "Lada        1969\n",
      "GAZ         1821\n",
      "Renault     1796\n",
      "Ravon       1794\n",
      "Lexus       1206\n",
      "Nissan      1053\n",
      "UAZ          927\n",
      "Name: brand, dtype: int64\n",
      "\n",
      "Количество непропущенных значений: 39966\n",
      "Количество уникальных значений: 46\n",
      "\n",
      "Первые 50 уникальных значений в алфавитном порядке:\n",
      "['ANKAI' 'Audi' 'BMW' 'Cadillac' 'Chevrolet' 'Daewoo' 'Dong Feng' 'Ford'\n",
      " 'Foton' 'GAZ' 'Hino' 'Hyundai' 'Hyundai Truck & Bus' 'Infiniti' 'Isuzu'\n",
      " 'Iveco' 'Jac' 'Jaguar' 'KAMAZ' 'Kia' 'Lada' 'Land Rover' 'Lexus' 'Lifan'\n",
      " 'MAN' 'Mazda' 'Mercedes-Benz' 'Mercedes-Benz Trucks' 'Mini' 'Mitsubishi'\n",
      " 'Nefaz' 'Nissan' 'Peugeot' 'Porsche' 'Ravon' 'Renault' 'Scania' 'Shacman'\n",
      " 'Skoda' 'Subaru' 'Toyota' 'UAZ' 'Volkswagen' 'Volvo' 'Yutong' 'Урал']\n"
     ]
    }
   ],
   "source": [
    "duplicates('brand')"
   ]
  },
  {
   "cell_type": "markdown",
   "id": "6b4e6f4c-5bbc-4427-ab4c-abc9b84fcd5a",
   "metadata": {},
   "source": [
    "Здесь всё в норме. Дублей и аномалий нет."
   ]
  },
  {
   "cell_type": "markdown",
   "id": "c9a2f61c-22d5-4018-b85e-cd4d92eb8214",
   "metadata": {},
   "source": [
    "<br>"
   ]
  },
  {
   "cell_type": "markdown",
   "id": "a47b251a-bfa0-4dd7-8f4e-48dc3a1979c2",
   "metadata": {},
   "source": [
    "`Модель автомобиля`"
   ]
  },
  {
   "cell_type": "code",
   "execution_count": 87,
   "id": "7de07c82-7c9e-4bd7-a317-0ae173074850",
   "metadata": {},
   "outputs": [
    {
     "name": "stdout",
     "output_type": "stream",
     "text": [
      "Camry       4853\n",
      "Tucson      3271\n",
      "Accent      2211\n",
      "Elantra     2062\n",
      "Creta       1775\n",
      "LC Prado    1711\n",
      "Nexia R3    1699\n",
      "S3          1286\n",
      "RAV4        1213\n",
      "Corolla     1089\n",
      "Name: model, dtype: int64\n",
      "\n",
      "Количество непропущенных значений: 39966\n",
      "Количество уникальных значений: 273\n",
      "\n",
      "Первые 50 уникальных значений в алфавитном порядке:\n",
      "['2206' '2217' '2310' '2705' '2752' '3' '3 серия' '300' '301' '3151'\n",
      " '3221' '32551' '3302' '3303' '3308' '3309' '3741' '3909' '3962' '4308'\n",
      " '4311' '43118' '4320' '4320-1951-40' '4320-1951-60' '43253' '43502'\n",
      " '44108' '45141' '45142' '45143' '4x4' '5 серия' '500' '5299' '53215'\n",
      " '53504' '53605' '54115' '5490' '5557' '58815Z' '6' '6 серия' '65111'\n",
      " '65115' '65116' '65117' '6520' '65206']\n"
     ]
    }
   ],
   "source": [
    "duplicates('model')"
   ]
  },
  {
   "cell_type": "markdown",
   "id": "c1aff766-a56d-45cd-9e65-90944f745ace",
   "metadata": {},
   "source": [
    "<br>"
   ]
  },
  {
   "cell_type": "markdown",
   "id": "0ef93b01-0d53-4076-a3a0-494cc00d5051",
   "metadata": {},
   "source": [
    "Нужно сделать сводную таблицу по бренду и моделям, чтобы было удобнее разобраться."
   ]
  },
  {
   "cell_type": "code",
   "execution_count": 88,
   "id": "a0963460-fbfd-4347-961c-31347d01d074",
   "metadata": {
    "tags": []
   },
   "outputs": [
    {
     "data": {
      "text/html": [
       "<div>\n",
       "<style scoped>\n",
       "    .dataframe tbody tr th:only-of-type {\n",
       "        vertical-align: middle;\n",
       "    }\n",
       "\n",
       "    .dataframe tbody tr th {\n",
       "        vertical-align: top;\n",
       "    }\n",
       "\n",
       "    .dataframe thead th {\n",
       "        text-align: right;\n",
       "    }\n",
       "</style>\n",
       "<table border=\"1\" class=\"dataframe\">\n",
       "  <thead>\n",
       "    <tr style=\"text-align: right;\">\n",
       "      <th></th>\n",
       "      <th>brand</th>\n",
       "      <th>model</th>\n",
       "      <th>orders</th>\n",
       "    </tr>\n",
       "  </thead>\n",
       "  <tbody>\n",
       "    <tr>\n",
       "      <th>3</th>\n",
       "      <td>ANKAI</td>\n",
       "      <td>HFF6850G</td>\n",
       "      <td>240</td>\n",
       "    </tr>\n",
       "    <tr>\n",
       "      <th>0</th>\n",
       "      <td>ANKAI</td>\n",
       "      <td>HF-D105</td>\n",
       "      <td>30</td>\n",
       "    </tr>\n",
       "    <tr>\n",
       "      <th>2</th>\n",
       "      <td>ANKAI</td>\n",
       "      <td>HFF6127GZ-4</td>\n",
       "      <td>20</td>\n",
       "    </tr>\n",
       "    <tr>\n",
       "      <th>1</th>\n",
       "      <td>ANKAI</td>\n",
       "      <td>HFF6124G03EV3</td>\n",
       "      <td>10</td>\n",
       "    </tr>\n",
       "    <tr>\n",
       "      <th>11</th>\n",
       "      <td>Audi</td>\n",
       "      <td>Q8</td>\n",
       "      <td>20</td>\n",
       "    </tr>\n",
       "    <tr>\n",
       "      <th>...</th>\n",
       "      <td>...</td>\n",
       "      <td>...</td>\n",
       "      <td>...</td>\n",
       "    </tr>\n",
       "    <tr>\n",
       "      <th>271</th>\n",
       "      <td>Урал</td>\n",
       "      <td>4320</td>\n",
       "      <td>7</td>\n",
       "    </tr>\n",
       "    <tr>\n",
       "      <th>274</th>\n",
       "      <td>Урал</td>\n",
       "      <td>5557</td>\n",
       "      <td>2</td>\n",
       "    </tr>\n",
       "    <tr>\n",
       "      <th>270</th>\n",
       "      <td>Урал</td>\n",
       "      <td>32551</td>\n",
       "      <td>1</td>\n",
       "    </tr>\n",
       "    <tr>\n",
       "      <th>272</th>\n",
       "      <td>Урал</td>\n",
       "      <td>4320-1951-40</td>\n",
       "      <td>1</td>\n",
       "    </tr>\n",
       "    <tr>\n",
       "      <th>273</th>\n",
       "      <td>Урал</td>\n",
       "      <td>4320-1951-60</td>\n",
       "      <td>1</td>\n",
       "    </tr>\n",
       "  </tbody>\n",
       "</table>\n",
       "<p>275 rows × 3 columns</p>\n",
       "</div>"
      ],
      "text/plain": [
       "     brand          model  orders\n",
       "3    ANKAI       HFF6850G     240\n",
       "0    ANKAI        HF-D105      30\n",
       "2    ANKAI    HFF6127GZ-4      20\n",
       "1    ANKAI  HFF6124G03EV3      10\n",
       "11    Audi             Q8      20\n",
       "..     ...            ...     ...\n",
       "271   Урал           4320       7\n",
       "274   Урал           5557       2\n",
       "270   Урал          32551       1\n",
       "272   Урал   4320-1951-40       1\n",
       "273   Урал   4320-1951-60       1\n",
       "\n",
       "[275 rows x 3 columns]"
      ]
     },
     "execution_count": 88,
     "metadata": {},
     "output_type": "execute_result"
    }
   ],
   "source": [
    "# сводная таблица\n",
    "pt_models = df.pivot_table(index=['brand', 'model'], aggfunc='size').reset_index(name='orders').sort_values(by=['brand', 'orders'], ascending=[True, False])\n",
    "\n",
    "# раскомментируйте код ниже, чтобы посмотреть всю таблицу\n",
    "# pd.set_option('display.max_rows', 300)\n",
    "pt_models\n",
    "\n",
    "# обязательно раскомментируйте код ниже, чтобы вернуть компактную таблицу\n",
    "pd.reset_option('display.max_rows')\n",
    "pt_models"
   ]
  },
  {
   "cell_type": "markdown",
   "id": "6b5a4235-4c4c-4aac-b12a-88769272502d",
   "metadata": {},
   "source": [
    "Здесь всё выглядит в порядке.\\\n",
    "Неявных дубликатов и аномалий не видно.\\\n",
    "Но на всякий случай избавимся от возможных пробелов в конце и начале названий."
   ]
  },
  {
   "cell_type": "code",
   "execution_count": 89,
   "id": "e5135eb2-f6aa-4a48-bc35-35fd5fc0f79b",
   "metadata": {},
   "outputs": [],
   "source": [
    "# устранить лишние пробелы\n",
    "df['model'] = df['model'].str.strip(' ')"
   ]
  },
  {
   "cell_type": "markdown",
   "id": "8b3c1638-b2de-476b-9492-6c0eaf43cbe8",
   "metadata": {},
   "source": [
    "<br>"
   ]
  },
  {
   "cell_type": "markdown",
   "id": "e443e393-30b9-4139-82a8-178ffa2b0365",
   "metadata": {},
   "source": [
    "`Классификация автомобиля`"
   ]
  },
  {
   "cell_type": "code",
   "execution_count": 90,
   "id": "54e98f3f-00a3-44e3-b088-f5a33b605202",
   "metadata": {},
   "outputs": [
    {
     "name": "stdout",
     "output_type": "stream",
     "text": [
      "B класс                      7028\n",
      "Компактные SUV               6593\n",
      "D класс                      5385\n",
      "Субкомпактные SUV            5339\n",
      "Среднеразмерные SUV          3994\n",
      "C класс                      3584\n",
      "Полноразмерные SUV           2002\n",
      "Малотоннажные грузовики      1940\n",
      "Крупнотоннажные грузовики    1034\n",
      "Pick-ups                      974\n",
      "Name: car_classification, dtype: int64\n",
      "\n",
      "Количество непропущенных значений: 39966\n",
      "Количество уникальных значений: 21\n",
      "\n",
      "Первые 50 уникальных значений в алфавитном порядке:\n",
      "['A класс' 'B класс' 'C класс' 'D класс' 'E класс' 'F класс' 'Pick-ups'\n",
      " 'Большие автобусы' 'Компактвэн' 'Компактные SUV'\n",
      " 'Крупнотоннажные грузовики' 'Малотоннажные грузовики' 'Микроавтобусы'\n",
      " 'Полноразмерные SUV' 'Полноразмерный Минивэн' 'Развозные автомобили'\n",
      " 'Спортивные автомобили' 'Среднеразмерные SUV' 'Среднетоннажные грузовики'\n",
      " 'Средние автобусы' 'Субкомпактные SUV']\n"
     ]
    }
   ],
   "source": [
    "duplicates('car_classification')"
   ]
  },
  {
   "cell_type": "markdown",
   "id": "4bcc7e66-44e7-4a57-81fa-fd9f26fb9233",
   "metadata": {},
   "source": [
    "Здесь всё аккуратно. Дублей и аномалий нет."
   ]
  },
  {
   "cell_type": "markdown",
   "id": "e9277e76-5389-45d4-b986-752a9e1c6b7d",
   "metadata": {},
   "source": [
    "<br>"
   ]
  },
  {
   "cell_type": "markdown",
   "id": "6786cc8d-ae34-47c2-95b1-0c34a85c996f",
   "metadata": {},
   "source": [
    "`Год производства автомобиля`"
   ]
  },
  {
   "cell_type": "code",
   "execution_count": 91,
   "id": "01a875ae-1dc2-4ec3-9b64-21fcef98ed25",
   "metadata": {},
   "outputs": [
    {
     "name": "stdout",
     "output_type": "stream",
     "text": [
      "2019    30026\n",
      "2018     9081\n",
      "NaN       501\n",
      "2017      324\n",
      "2016       30\n",
      "2014        2\n",
      "2011        1\n",
      "2013        1\n",
      "Name: manufacturing_year, dtype: Int64\n",
      "\n",
      "Количество непропущенных значений: 39465\n",
      "Количество уникальных значений: 7\n",
      "\n",
      "Первые 50 уникальных значений в алфавитном порядке:\n",
      "<IntegerArray>\n",
      "[2011, 2013, 2014, 2016, 2017, 2018, 2019, <NA>]\n",
      "Length: 8, dtype: Int64\n"
     ]
    }
   ],
   "source": [
    "duplicates('manufacturing_year')"
   ]
  },
  {
   "cell_type": "markdown",
   "id": "583de1c2-88c0-42fa-b215-d8586a827636",
   "metadata": {},
   "source": [
    "Кажется, здесь всё в порядке. Один автомобиль был даже произведён в $2011$ году. Ничего особого."
   ]
  },
  {
   "cell_type": "markdown",
   "id": "8d2253dd-6ca1-4cf5-ba49-0e6a7d54ecde",
   "metadata": {},
   "source": [
    "<br>"
   ]
  },
  {
   "cell_type": "markdown",
   "id": "a5f834cb-1faf-4928-b1a8-97636b135636",
   "metadata": {},
   "source": [
    "`Где собран автомобиль`"
   ]
  },
  {
   "cell_type": "code",
   "execution_count": 92,
   "id": "20b756e7-260d-4997-8cbc-712e90657bd6",
   "metadata": {},
   "outputs": [
    {
     "name": "stdout",
     "output_type": "stream",
     "text": [
      "Импорт                    20597\n",
      "Локальное производство    19369\n",
      "Name: assembly_type, dtype: int64\n",
      "\n",
      "Количество непропущенных значений: 39966\n",
      "Количество уникальных значений: 2\n",
      "\n",
      "Первые 50 уникальных значений в алфавитном порядке:\n",
      "['Импорт' 'Локальное производство']\n"
     ]
    }
   ],
   "source": [
    "duplicates('assembly_type')"
   ]
  },
  {
   "cell_type": "markdown",
   "id": "6d3e6a1a-e1c3-4472-b3de-1afa178b1714",
   "metadata": {},
   "source": [
    "Всё в порядке. Есть местная сборка, есть зарубежная сборка.\\\n",
    "Можно проверить это следующим кодом. Результат должен быть таким же, какой выдаёт `Локальное производство`."
   ]
  },
  {
   "cell_type": "code",
   "execution_count": 93,
   "id": "d525f631-66ba-4c5a-a1b3-2acf104fd875",
   "metadata": {},
   "outputs": [
    {
     "data": {
      "text/plain": [
       "19369"
      ]
     },
     "execution_count": 93,
     "metadata": {},
     "output_type": "execute_result"
    }
   ],
   "source": [
    "len(df[df['manufacturing_country'] == 'Республика Казахстан'])"
   ]
  },
  {
   "cell_type": "markdown",
   "id": "c6561488-e7ee-4a17-aa23-f90957324291",
   "metadata": {},
   "source": [
    "Сделано в Казахстане, значит локальное производство."
   ]
  },
  {
   "cell_type": "markdown",
   "id": "82716091-4a04-41ec-ab3f-1f81a5fdd562",
   "metadata": {},
   "source": [
    "<br>"
   ]
  },
  {
   "cell_type": "markdown",
   "id": "8f946acd-0a74-4658-9583-f25f5f8e314f",
   "metadata": {},
   "source": [
    "`Страна сборки`"
   ]
  },
  {
   "cell_type": "code",
   "execution_count": 94,
   "id": "8126f700-7181-4458-97e6-dcac100cb93e",
   "metadata": {},
   "outputs": [
    {
     "name": "stdout",
     "output_type": "stream",
     "text": [
      "Республика Казахстан    19369\n",
      "Российская Федерация    12846\n",
      "Япония                   4595\n",
      "Турция                   1167\n",
      "Таиланд                   970\n",
      "США                       289\n",
      "Германия                  265\n",
      "UK                        197\n",
      "Китай                      94\n",
      "Узбекистан                 70\n",
      "Name: manufacturing_country, dtype: int64\n",
      "\n",
      "Количество непропущенных значений: 39966\n",
      "Количество уникальных значений: 19\n",
      "\n",
      "Первые 50 уникальных значений в алфавитном порядке:\n",
      "['UK' 'Австрия' 'Белоруссия' 'Бельгия' 'Венгрия' 'Германия' 'Испания'\n",
      " 'Китай' 'Корея' 'Нидерланды' 'Польша' 'Республика Казахстан'\n",
      " 'Российская Федерация' 'США' 'Таиланд' 'Турция' 'Узбекистан' 'Швеция'\n",
      " 'Япония']\n"
     ]
    }
   ],
   "source": [
    "duplicates('manufacturing_country')"
   ]
  },
  {
   "cell_type": "markdown",
   "id": "0b9c4925-8793-435e-8953-32d33133ec61",
   "metadata": {},
   "source": [
    "Можно чуть поправить названия некоторых стран."
   ]
  },
  {
   "cell_type": "code",
   "execution_count": 95,
   "id": "561784f0-81d4-40f8-8bc7-cba371e94655",
   "metadata": {},
   "outputs": [],
   "source": [
    "df['manufacturing_country'] = df['manufacturing_country'].replace({'Республика Казахстан': 'Казахстан',\n",
    "                                                                   'Российская Федерация': 'Россия',\n",
    "                                                                   'UK': 'Великобритания'})"
   ]
  },
  {
   "cell_type": "markdown",
   "id": "f1928748-8fe1-4cbe-98b9-def293aca4ed",
   "metadata": {},
   "source": [
    "В остальном — порядок."
   ]
  },
  {
   "cell_type": "markdown",
   "id": "35646580-e1e5-4558-857c-f7fd9931c487",
   "metadata": {},
   "source": [
    "<br>"
   ]
  },
  {
   "cell_type": "markdown",
   "id": "2d34a015-3879-4fef-a4de-7d497715b60d",
   "metadata": {},
   "source": [
    "##### `Тип топлива`"
   ]
  },
  {
   "cell_type": "code",
   "execution_count": 96,
   "id": "4c10560e-6a04-4224-8f4f-feb500486e5d",
   "metadata": {},
   "outputs": [
    {
     "name": "stdout",
     "output_type": "stream",
     "text": [
      "Бензин           34801\n",
      "NaN               3140\n",
      "Дизель            1762\n",
      "бензин             159\n",
      "дизель              41\n",
      "2                   23\n",
      "1,6                 14\n",
      "Электричество       10\n",
      "гибрид              10\n",
      "0                    3\n",
      "Name: fuel_type, dtype: int64\n",
      "\n",
      "Количество непропущенных значений: 36826\n",
      "Количество уникальных значений: 10\n",
      "\n",
      "Первые 50 уникальных значений в алфавитном порядке:\n",
      "['0' '1,6' '2' 'Бензин' 'Дизель' 'Электричество' 'Электро' 'бензин '\n",
      " 'гибрид' 'дизель ' nan]\n"
     ]
    }
   ],
   "source": [
    "duplicates('fuel_type')"
   ]
  },
  {
   "cell_type": "markdown",
   "id": "ba545bc8-ca79-4f4e-addc-102746e9a819",
   "metadata": {},
   "source": [
    "Здесь нужно привести значения к нужному регистру, а также убрать пробелы, так мы избавимся от дублей.\\\n",
    "Также тут затесались объёмы двигателей, это аномальные значения, их нужно заменить."
   ]
  },
  {
   "cell_type": "code",
   "execution_count": 97,
   "id": "bd676fae-825a-41a3-9aae-727e6ac53ab7",
   "metadata": {},
   "outputs": [
    {
     "data": {
      "text/html": [
       "<div>\n",
       "<style scoped>\n",
       "    .dataframe tbody tr th:only-of-type {\n",
       "        vertical-align: middle;\n",
       "    }\n",
       "\n",
       "    .dataframe tbody tr th {\n",
       "        vertical-align: top;\n",
       "    }\n",
       "\n",
       "    .dataframe thead th {\n",
       "        text-align: right;\n",
       "    }\n",
       "</style>\n",
       "<table border=\"1\" class=\"dataframe\">\n",
       "  <thead>\n",
       "    <tr style=\"text-align: right;\">\n",
       "      <th></th>\n",
       "      <th>id</th>\n",
       "      <th>purchase_date</th>\n",
       "      <th>company</th>\n",
       "      <th>car_type</th>\n",
       "      <th>brand</th>\n",
       "      <th>model</th>\n",
       "      <th>car_classification</th>\n",
       "      <th>manufacturing_year</th>\n",
       "      <th>assembly_type</th>\n",
       "      <th>manufacturing_country</th>\n",
       "      <th>fuel_type</th>\n",
       "      <th>engine_displacement_l</th>\n",
       "      <th>transmission_type</th>\n",
       "      <th>drive_type</th>\n",
       "      <th>region</th>\n",
       "      <th>city</th>\n",
       "      <th>dealer_center_name</th>\n",
       "      <th>customer_type</th>\n",
       "      <th>payment_form</th>\n",
       "      <th>quantity</th>\n",
       "      <th>price_usd</th>\n",
       "      <th>sale_usd</th>\n",
       "    </tr>\n",
       "  </thead>\n",
       "  <tbody>\n",
       "    <tr>\n",
       "      <th>1898</th>\n",
       "      <td>1898</td>\n",
       "      <td>2019-01-01</td>\n",
       "      <td>Renault Россия</td>\n",
       "      <td>Внедорожники</td>\n",
       "      <td>Renault</td>\n",
       "      <td>Duster</td>\n",
       "      <td>Субкомпактные SUV</td>\n",
       "      <td>2019</td>\n",
       "      <td>Импорт</td>\n",
       "      <td>Россия</td>\n",
       "      <td>2</td>\n",
       "      <td>NaN</td>\n",
       "      <td>4WD</td>\n",
       "      <td>4WD</td>\n",
       "      <td>Западно-Казахстанская область</td>\n",
       "      <td>Уральск</td>\n",
       "      <td>Урал-Кров Авто</td>\n",
       "      <td>NaN</td>\n",
       "      <td>NaN</td>\n",
       "      <td>1</td>\n",
       "      <td>12250</td>\n",
       "      <td>12250</td>\n",
       "    </tr>\n",
       "    <tr>\n",
       "      <th>1899</th>\n",
       "      <td>1899</td>\n",
       "      <td>2019-01-01</td>\n",
       "      <td>Renault Россия</td>\n",
       "      <td>Внедорожники</td>\n",
       "      <td>Renault</td>\n",
       "      <td>Duster</td>\n",
       "      <td>Субкомпактные SUV</td>\n",
       "      <td>2018</td>\n",
       "      <td>Импорт</td>\n",
       "      <td>Россия</td>\n",
       "      <td>2</td>\n",
       "      <td>NaN</td>\n",
       "      <td>4WD</td>\n",
       "      <td>4WD</td>\n",
       "      <td>г.Нур-Султан</td>\n",
       "      <td>Нур-Султан</td>\n",
       "      <td>Кристалл Авто Астана</td>\n",
       "      <td>NaN</td>\n",
       "      <td>NaN</td>\n",
       "      <td>1</td>\n",
       "      <td>12250</td>\n",
       "      <td>12250</td>\n",
       "    </tr>\n",
       "    <tr>\n",
       "      <th>1900</th>\n",
       "      <td>1900</td>\n",
       "      <td>2019-01-01</td>\n",
       "      <td>Renault Россия</td>\n",
       "      <td>Внедорожники</td>\n",
       "      <td>Renault</td>\n",
       "      <td>Duster</td>\n",
       "      <td>Субкомпактные SUV</td>\n",
       "      <td>2018</td>\n",
       "      <td>Импорт</td>\n",
       "      <td>Россия</td>\n",
       "      <td>2</td>\n",
       "      <td>NaN</td>\n",
       "      <td>4WD</td>\n",
       "      <td>4WD</td>\n",
       "      <td>г.Нур-Султан</td>\n",
       "      <td>Нур-Султан</td>\n",
       "      <td>Кристалл Авто Астана</td>\n",
       "      <td>NaN</td>\n",
       "      <td>NaN</td>\n",
       "      <td>1</td>\n",
       "      <td>12250</td>\n",
       "      <td>12250</td>\n",
       "    </tr>\n",
       "    <tr>\n",
       "      <th>1901</th>\n",
       "      <td>1901</td>\n",
       "      <td>2019-01-01</td>\n",
       "      <td>Renault Россия</td>\n",
       "      <td>Внедорожники</td>\n",
       "      <td>Renault</td>\n",
       "      <td>Duster</td>\n",
       "      <td>Субкомпактные SUV</td>\n",
       "      <td>2018</td>\n",
       "      <td>Импорт</td>\n",
       "      <td>Россия</td>\n",
       "      <td>2</td>\n",
       "      <td>NaN</td>\n",
       "      <td>4WD</td>\n",
       "      <td>4WD</td>\n",
       "      <td>Кызылординская область</td>\n",
       "      <td>Кызылорда</td>\n",
       "      <td>Кристалл Авто Кызылорда</td>\n",
       "      <td>NaN</td>\n",
       "      <td>NaN</td>\n",
       "      <td>1</td>\n",
       "      <td>12250</td>\n",
       "      <td>12250</td>\n",
       "    </tr>\n",
       "    <tr>\n",
       "      <th>1902</th>\n",
       "      <td>1902</td>\n",
       "      <td>2019-01-01</td>\n",
       "      <td>Renault Россия</td>\n",
       "      <td>Внедорожники</td>\n",
       "      <td>Renault</td>\n",
       "      <td>Duster</td>\n",
       "      <td>Субкомпактные SUV</td>\n",
       "      <td>2018</td>\n",
       "      <td>Импорт</td>\n",
       "      <td>Россия</td>\n",
       "      <td>2</td>\n",
       "      <td>NaN</td>\n",
       "      <td>4WD</td>\n",
       "      <td>4WD</td>\n",
       "      <td>Карагандинская область</td>\n",
       "      <td>Караганда</td>\n",
       "      <td>Кристалл Авто Караганда</td>\n",
       "      <td>NaN</td>\n",
       "      <td>NaN</td>\n",
       "      <td>1</td>\n",
       "      <td>12250</td>\n",
       "      <td>12250</td>\n",
       "    </tr>\n",
       "    <tr>\n",
       "      <th>1903</th>\n",
       "      <td>1903</td>\n",
       "      <td>2019-01-01</td>\n",
       "      <td>Renault Россия</td>\n",
       "      <td>Внедорожники</td>\n",
       "      <td>Renault</td>\n",
       "      <td>Duster</td>\n",
       "      <td>Субкомпактные SUV</td>\n",
       "      <td>2018</td>\n",
       "      <td>Импорт</td>\n",
       "      <td>Россия</td>\n",
       "      <td>1,6</td>\n",
       "      <td>NaN</td>\n",
       "      <td>4WD</td>\n",
       "      <td>4WD</td>\n",
       "      <td>Карагандинская область</td>\n",
       "      <td>Караганда</td>\n",
       "      <td>Кристалл Авто Караганда</td>\n",
       "      <td>NaN</td>\n",
       "      <td>NaN</td>\n",
       "      <td>1</td>\n",
       "      <td>12250</td>\n",
       "      <td>12250</td>\n",
       "    </tr>\n",
       "    <tr>\n",
       "      <th>1904</th>\n",
       "      <td>1904</td>\n",
       "      <td>2019-01-01</td>\n",
       "      <td>Renault Россия</td>\n",
       "      <td>Внедорожники</td>\n",
       "      <td>Renault</td>\n",
       "      <td>Duster</td>\n",
       "      <td>Субкомпактные SUV</td>\n",
       "      <td>2018</td>\n",
       "      <td>Импорт</td>\n",
       "      <td>Россия</td>\n",
       "      <td>2</td>\n",
       "      <td>NaN</td>\n",
       "      <td>4WD</td>\n",
       "      <td>4WD</td>\n",
       "      <td>Карагандинская область</td>\n",
       "      <td>Караганда</td>\n",
       "      <td>Кристалл Авто Караганда</td>\n",
       "      <td>NaN</td>\n",
       "      <td>NaN</td>\n",
       "      <td>1</td>\n",
       "      <td>12250</td>\n",
       "      <td>12250</td>\n",
       "    </tr>\n",
       "    <tr>\n",
       "      <th>1905</th>\n",
       "      <td>1905</td>\n",
       "      <td>2019-01-01</td>\n",
       "      <td>Renault Россия</td>\n",
       "      <td>Внедорожники</td>\n",
       "      <td>Renault</td>\n",
       "      <td>Duster</td>\n",
       "      <td>Субкомпактные SUV</td>\n",
       "      <td>2018</td>\n",
       "      <td>Импорт</td>\n",
       "      <td>Россия</td>\n",
       "      <td>2</td>\n",
       "      <td>NaN</td>\n",
       "      <td>4WD</td>\n",
       "      <td>4WD</td>\n",
       "      <td>Карагандинская область</td>\n",
       "      <td>Караганда</td>\n",
       "      <td>Кристалл Авто Караганда</td>\n",
       "      <td>NaN</td>\n",
       "      <td>NaN</td>\n",
       "      <td>1</td>\n",
       "      <td>12250</td>\n",
       "      <td>12250</td>\n",
       "    </tr>\n",
       "    <tr>\n",
       "      <th>1906</th>\n",
       "      <td>1906</td>\n",
       "      <td>2019-01-01</td>\n",
       "      <td>Renault Россия</td>\n",
       "      <td>Внедорожники</td>\n",
       "      <td>Renault</td>\n",
       "      <td>Duster</td>\n",
       "      <td>Субкомпактные SUV</td>\n",
       "      <td>2018</td>\n",
       "      <td>Импорт</td>\n",
       "      <td>Россия</td>\n",
       "      <td>2</td>\n",
       "      <td>NaN</td>\n",
       "      <td>4WD</td>\n",
       "      <td>4WD</td>\n",
       "      <td>Карагандинская область</td>\n",
       "      <td>Караганда</td>\n",
       "      <td>Кристалл Авто Караганда</td>\n",
       "      <td>NaN</td>\n",
       "      <td>NaN</td>\n",
       "      <td>1</td>\n",
       "      <td>12250</td>\n",
       "      <td>12250</td>\n",
       "    </tr>\n",
       "    <tr>\n",
       "      <th>1907</th>\n",
       "      <td>1907</td>\n",
       "      <td>2019-01-01</td>\n",
       "      <td>Renault Россия</td>\n",
       "      <td>Внедорожники</td>\n",
       "      <td>Renault</td>\n",
       "      <td>Duster</td>\n",
       "      <td>Субкомпактные SUV</td>\n",
       "      <td>2018</td>\n",
       "      <td>Импорт</td>\n",
       "      <td>Россия</td>\n",
       "      <td>2</td>\n",
       "      <td>NaN</td>\n",
       "      <td>4WD</td>\n",
       "      <td>4WD</td>\n",
       "      <td>Карагандинская область</td>\n",
       "      <td>Караганда</td>\n",
       "      <td>Кристалл Авто Караганда</td>\n",
       "      <td>NaN</td>\n",
       "      <td>NaN</td>\n",
       "      <td>1</td>\n",
       "      <td>12250</td>\n",
       "      <td>12250</td>\n",
       "    </tr>\n",
       "  </tbody>\n",
       "</table>\n",
       "</div>"
      ],
      "text/plain": [
       "        id purchase_date         company      car_type    brand   model  \\\n",
       "1898  1898    2019-01-01  Renault Россия  Внедорожники  Renault  Duster   \n",
       "1899  1899    2019-01-01  Renault Россия  Внедорожники  Renault  Duster   \n",
       "1900  1900    2019-01-01  Renault Россия  Внедорожники  Renault  Duster   \n",
       "1901  1901    2019-01-01  Renault Россия  Внедорожники  Renault  Duster   \n",
       "1902  1902    2019-01-01  Renault Россия  Внедорожники  Renault  Duster   \n",
       "1903  1903    2019-01-01  Renault Россия  Внедорожники  Renault  Duster   \n",
       "1904  1904    2019-01-01  Renault Россия  Внедорожники  Renault  Duster   \n",
       "1905  1905    2019-01-01  Renault Россия  Внедорожники  Renault  Duster   \n",
       "1906  1906    2019-01-01  Renault Россия  Внедорожники  Renault  Duster   \n",
       "1907  1907    2019-01-01  Renault Россия  Внедорожники  Renault  Duster   \n",
       "\n",
       "     car_classification  manufacturing_year assembly_type  \\\n",
       "1898  Субкомпактные SUV                2019        Импорт   \n",
       "1899  Субкомпактные SUV                2018        Импорт   \n",
       "1900  Субкомпактные SUV                2018        Импорт   \n",
       "1901  Субкомпактные SUV                2018        Импорт   \n",
       "1902  Субкомпактные SUV                2018        Импорт   \n",
       "1903  Субкомпактные SUV                2018        Импорт   \n",
       "1904  Субкомпактные SUV                2018        Импорт   \n",
       "1905  Субкомпактные SUV                2018        Импорт   \n",
       "1906  Субкомпактные SUV                2018        Импорт   \n",
       "1907  Субкомпактные SUV                2018        Импорт   \n",
       "\n",
       "     manufacturing_country fuel_type  engine_displacement_l transmission_type  \\\n",
       "1898                Россия         2                    NaN               4WD   \n",
       "1899                Россия         2                    NaN               4WD   \n",
       "1900                Россия         2                    NaN               4WD   \n",
       "1901                Россия         2                    NaN               4WD   \n",
       "1902                Россия         2                    NaN               4WD   \n",
       "1903                Россия       1,6                    NaN               4WD   \n",
       "1904                Россия         2                    NaN               4WD   \n",
       "1905                Россия         2                    NaN               4WD   \n",
       "1906                Россия         2                    NaN               4WD   \n",
       "1907                Россия         2                    NaN               4WD   \n",
       "\n",
       "     drive_type                         region        city  \\\n",
       "1898        4WD  Западно-Казахстанская область     Уральск   \n",
       "1899        4WD                   г.Нур-Султан  Нур-Султан   \n",
       "1900        4WD                   г.Нур-Султан  Нур-Султан   \n",
       "1901        4WD         Кызылординская область   Кызылорда   \n",
       "1902        4WD         Карагандинская область   Караганда   \n",
       "1903        4WD         Карагандинская область   Караганда   \n",
       "1904        4WD         Карагандинская область   Караганда   \n",
       "1905        4WD         Карагандинская область   Караганда   \n",
       "1906        4WD         Карагандинская область   Караганда   \n",
       "1907        4WD         Карагандинская область   Караганда   \n",
       "\n",
       "           dealer_center_name customer_type payment_form  quantity  price_usd  \\\n",
       "1898           Урал-Кров Авто           NaN          NaN         1      12250   \n",
       "1899     Кристалл Авто Астана           NaN          NaN         1      12250   \n",
       "1900     Кристалл Авто Астана           NaN          NaN         1      12250   \n",
       "1901  Кристалл Авто Кызылорда           NaN          NaN         1      12250   \n",
       "1902  Кристалл Авто Караганда           NaN          NaN         1      12250   \n",
       "1903  Кристалл Авто Караганда           NaN          NaN         1      12250   \n",
       "1904  Кристалл Авто Караганда           NaN          NaN         1      12250   \n",
       "1905  Кристалл Авто Караганда           NaN          NaN         1      12250   \n",
       "1906  Кристалл Авто Караганда           NaN          NaN         1      12250   \n",
       "1907  Кристалл Авто Караганда           NaN          NaN         1      12250   \n",
       "\n",
       "      sale_usd  \n",
       "1898     12250  \n",
       "1899     12250  \n",
       "1900     12250  \n",
       "1901     12250  \n",
       "1902     12250  \n",
       "1903     12250  \n",
       "1904     12250  \n",
       "1905     12250  \n",
       "1906     12250  \n",
       "1907     12250  "
      ]
     },
     "execution_count": 97,
     "metadata": {},
     "output_type": "execute_result"
    }
   ],
   "source": [
    "df.query('fuel_type == \"2\" or fuel_type == \"1,6\" or fuel_type == \"0\"').head(10)"
   ]
  },
  {
   "cell_type": "markdown",
   "id": "2afde1e5-bf1f-4f3f-8c17-c556ffa6bbaf",
   "metadata": {},
   "source": [
    "Эти числа являются объёмом двигателей, это подтвердит автомобильный интернет портал, их нужно перенести в другую колонку.\\\n",
    "Также выяснил, что тип топлива — бензин должен быть."
   ]
  },
  {
   "cell_type": "markdown",
   "id": "751f4cde-1e3d-4b75-a0ae-edd6cb19d9aa",
   "metadata": {},
   "source": [
    "<br>"
   ]
  },
  {
   "cell_type": "markdown",
   "id": "3b2b5313-c1c3-46aa-a172-be3a21d412f3",
   "metadata": {},
   "source": [
    "Переместим значения."
   ]
  },
  {
   "cell_type": "code",
   "execution_count": 98,
   "id": "a51320d6-32e3-4758-b4e0-67b040d598b2",
   "metadata": {},
   "outputs": [],
   "source": [
    "# срез\n",
    "fuel_mist = df.query('fuel_type == \"2\" or fuel_type == \"1,6\"')\n",
    "\n",
    "# замена символов\n",
    "fuel_mist = fuel_mist['fuel_type'].str.replace(',', '.')\n",
    "\n",
    "# преобразование в float\n",
    "fuel_mist = fuel_mist.astype('float')\n",
    "\n",
    "# в df выбираются строки с индексами из fuel_mist, чтобы заменить значения в `engine_displacement_l` на значения из fuel_mist\n",
    "df.loc[fuel_mist.index, 'engine_displacement_l'] = fuel_mist"
   ]
  },
  {
   "cell_type": "markdown",
   "id": "b599a0cc-55bc-41bd-975f-7773439d12e1",
   "metadata": {},
   "source": [
    "<br>"
   ]
  },
  {
   "cell_type": "markdown",
   "id": "6349fffa-a668-448d-8afb-d27a711044ed",
   "metadata": {},
   "source": [
    "Приведём символы к нужному регистру."
   ]
  },
  {
   "cell_type": "code",
   "execution_count": 99,
   "id": "11293189-0c97-44ec-b8ca-3920f8b64971",
   "metadata": {},
   "outputs": [],
   "source": [
    "# сделать заглавной только первую букву\n",
    "df['fuel_type'] = df['fuel_type'].str.capitalize()\n",
    "\n",
    "# устранение пробелов и аномальных значений\n",
    "df['fuel_type'] = df['fuel_type'].str.replace(' ', '')\\\n",
    "                                 .replace('Электро', 'Электричество')\\\n",
    "                                 .replace('2', 'Бензин')\\\n",
    "                                 .replace('1,6', 'Бензин')\\\n",
    "                                 .replace('0', 'Бензин')"
   ]
  },
  {
   "cell_type": "markdown",
   "id": "ffbb4ee8-7f14-4656-b3b2-01086d58e4dc",
   "metadata": {},
   "source": [
    "<br>"
   ]
  },
  {
   "cell_type": "markdown",
   "id": "7ebd4e79-234c-4f0c-8fd1-f94d8d78f885",
   "metadata": {},
   "source": [
    "Проверим, что изменилось."
   ]
  },
  {
   "cell_type": "code",
   "execution_count": 100,
   "id": "de64f296-ae58-444e-b75c-e40c562b6a63",
   "metadata": {},
   "outputs": [
    {
     "name": "stdout",
     "output_type": "stream",
     "text": [
      "Бензин           35000\n",
      "NaN               3140\n",
      "Дизель            1803\n",
      "Электричество       13\n",
      "Гибрид              10\n",
      "Name: fuel_type, dtype: int64\n",
      "\n",
      "Количество непропущенных значений: 36826\n",
      "Количество уникальных значений: 4\n",
      "\n",
      "Первые 50 уникальных значений в алфавитном порядке:\n",
      "['Бензин' 'Гибрид' 'Дизель' 'Электричество' nan]\n"
     ]
    }
   ],
   "source": [
    "duplicates('fuel_type')"
   ]
  },
  {
   "cell_type": "markdown",
   "id": "29bbde58-d4cb-4055-9e3f-fe23e36a77d4",
   "metadata": {},
   "source": [
    "Теперь порядок. Аномалии и дубли устранены."
   ]
  },
  {
   "cell_type": "markdown",
   "id": "46d3f807-772e-4331-b4c1-4526e958cc59",
   "metadata": {},
   "source": [
    "<br>"
   ]
  },
  {
   "cell_type": "markdown",
   "id": "e2defc5b-7204-4d25-8b68-b391a691404a",
   "metadata": {},
   "source": [
    "##### `Объём двигателя`"
   ]
  },
  {
   "cell_type": "code",
   "execution_count": 101,
   "id": "f5d869bc-b55e-43eb-8ff6-14ee7fdc8543",
   "metadata": {},
   "outputs": [
    {
     "name": "stdout",
     "output_type": "stream",
     "text": [
      "2.000    7934\n",
      "1.600    7778\n",
      "2.500    5034\n",
      "2.700    4669\n",
      "NaN      4262\n",
      "1.500    1423\n",
      "1.596    1120\n",
      "2.400    1103\n",
      "4.600     754\n",
      "3.500     705\n",
      "Name: engine_displacement_l, dtype: int64\n",
      "\n",
      "Количество непропущенных значений: 35704\n",
      "Количество уникальных значений: 80\n",
      "\n",
      "Первые 50 уникальных значений в алфавитном порядке:\n",
      "[1.2   1.248 1.33  1.4   1.485 1.5   1.591 1.596 1.598 1.6   1.69  1.7\n",
      " 1.774 1.8   1.998 1.999 2.    2.2   2.359 2.4   2.5   2.693 2.7   2.8\n",
      " 2.9   3.    3.342 3.47  3.5   3.6   3.7   3.8   3.9   4.    4.3   4.4\n",
      " 4.6   4.7   4.9   4.98  5.    5.2   5.5   5.6   5.7   6.2   6.5   6.6\n",
      " 6.7   7.5  ]\n"
     ]
    }
   ],
   "source": [
    "duplicates('engine_displacement_l')"
   ]
  },
  {
   "cell_type": "markdown",
   "id": "0fa18f82-53d3-4805-b7f3-95a2350baa3d",
   "metadata": {},
   "source": [
    "Когда мы меняли тип данных в этой колонке, мы хорошо предобработали её. Но она до сих пор не в идеальном состоянии.\\\n",
    "Среди значений видим такие, где есть сотые и тысячные доли. Скорее всего, это так перевели кубические сантиметры в литры. **Всё нужно округлить до десятых.**"
   ]
  },
  {
   "cell_type": "code",
   "execution_count": 102,
   "id": "f6641ac4-524f-4235-9e44-8a805d7964aa",
   "metadata": {},
   "outputs": [],
   "source": [
    "# округление\n",
    "df['engine_displacement_l'] = df['engine_displacement_l'].round(1)"
   ]
  },
  {
   "cell_type": "markdown",
   "id": "d708aaf2-de07-4a22-9d6a-3b56cb782ea9",
   "metadata": {},
   "source": [
    "<br>"
   ]
  },
  {
   "cell_type": "markdown",
   "id": "cea70f6f-002e-4681-b377-44264e240761",
   "metadata": {},
   "source": [
    "Насколько я помню, были аномалии. Нужно отсортировать уникальные значения в обратном порядке и посмотреть их."
   ]
  },
  {
   "cell_type": "code",
   "execution_count": 103,
   "id": "2d2c305c-2604-43c8-806f-3ef4c90461c2",
   "metadata": {},
   "outputs": [
    {
     "data": {
      "text/plain": [
       "array([400. ,  88. ,  26.7,  25.7,  24.7,  23.7,  22.7,  21.7,  20.7,\n",
       "        19.7,  18.7,  17.7,  16.7,  15.7,  14.7,  13.7,  13. ,  12.8,\n",
       "        12.7,  12.3,  12. ,  11.7,  11. ,  10.7,  10.5,   9.7,   8.7,\n",
       "         8.4,   7.7,   7.6,   7.5,   6.7,   6.6,   6.5,   6.2,   5.7,\n",
       "         5.6,   5.5,   5.2,   5. ,   4.9,   4.7,   4.6,   4.4,   4.3,\n",
       "         4. ,   3.9,   3.8,   3.7,   3.6,   3.5,   3.3,   3. ,   2.9,\n",
       "         2.8,   2.7,   2.5,   2.4,   2.2,   2. ,   1.8,   1.7,   1.6,\n",
       "         1.5,   1.4,   1.3,   1.2,   nan])"
      ]
     },
     "execution_count": 103,
     "metadata": {},
     "output_type": "execute_result"
    }
   ],
   "source": [
    "df['engine_displacement_l'].sort_values(ascending=False).unique()"
   ]
  },
  {
   "cell_type": "markdown",
   "id": "eb622e21-1221-4bef-bbda-3cf28f1e4711",
   "metadata": {},
   "source": [
    "Сложно представить себе автомобиль с объёмом двигателя больше $10$ литров.\\\n",
    "Можно разобрать автомобили с такими значениями."
   ]
  },
  {
   "cell_type": "code",
   "execution_count": 104,
   "id": "55901e76-5840-4c0c-befc-457aa49c5376",
   "metadata": {},
   "outputs": [
    {
     "data": {
      "text/html": [
       "<div>\n",
       "<style scoped>\n",
       "    .dataframe tbody tr th:only-of-type {\n",
       "        vertical-align: middle;\n",
       "    }\n",
       "\n",
       "    .dataframe tbody tr th {\n",
       "        vertical-align: top;\n",
       "    }\n",
       "\n",
       "    .dataframe thead th {\n",
       "        text-align: right;\n",
       "    }\n",
       "</style>\n",
       "<table border=\"1\" class=\"dataframe\">\n",
       "  <thead>\n",
       "    <tr style=\"text-align: right;\">\n",
       "      <th></th>\n",
       "      <th>id</th>\n",
       "      <th>purchase_date</th>\n",
       "      <th>company</th>\n",
       "      <th>car_type</th>\n",
       "      <th>brand</th>\n",
       "      <th>model</th>\n",
       "      <th>car_classification</th>\n",
       "      <th>manufacturing_year</th>\n",
       "      <th>assembly_type</th>\n",
       "      <th>manufacturing_country</th>\n",
       "      <th>fuel_type</th>\n",
       "      <th>engine_displacement_l</th>\n",
       "      <th>transmission_type</th>\n",
       "      <th>drive_type</th>\n",
       "      <th>region</th>\n",
       "      <th>city</th>\n",
       "      <th>dealer_center_name</th>\n",
       "      <th>customer_type</th>\n",
       "      <th>payment_form</th>\n",
       "      <th>quantity</th>\n",
       "      <th>price_usd</th>\n",
       "      <th>sale_usd</th>\n",
       "    </tr>\n",
       "  </thead>\n",
       "  <tbody>\n",
       "    <tr>\n",
       "      <th>11754</th>\n",
       "      <td>11754</td>\n",
       "      <td>2019-04-01</td>\n",
       "      <td>Almaty Motors Premium</td>\n",
       "      <td>Внедорожники</td>\n",
       "      <td>Jaguar</td>\n",
       "      <td>I-Pace</td>\n",
       "      <td>Компактные SUV</td>\n",
       "      <td>2019</td>\n",
       "      <td>Импорт</td>\n",
       "      <td>Великобритания</td>\n",
       "      <td>Электричество</td>\n",
       "      <td>400.0</td>\n",
       "      <td>РЕДУКТОР</td>\n",
       "      <td>4WD</td>\n",
       "      <td>г.Алматы</td>\n",
       "      <td>Алматы</td>\n",
       "      <td>Almaty Motors Premium</td>\n",
       "      <td>Физ. Лицо</td>\n",
       "      <td>наличный</td>\n",
       "      <td>1</td>\n",
       "      <td>105389</td>\n",
       "      <td>105389</td>\n",
       "    </tr>\n",
       "    <tr>\n",
       "      <th>4471</th>\n",
       "      <td>4471</td>\n",
       "      <td>2019-02-01</td>\n",
       "      <td>Almaty Motors Premium</td>\n",
       "      <td>Внедорожники</td>\n",
       "      <td>Jaguar</td>\n",
       "      <td>I-Pace</td>\n",
       "      <td>Компактные SUV</td>\n",
       "      <td>2019</td>\n",
       "      <td>Импорт</td>\n",
       "      <td>Великобритания</td>\n",
       "      <td>Электричество</td>\n",
       "      <td>400.0</td>\n",
       "      <td>РЕДУКТОР</td>\n",
       "      <td>4WD</td>\n",
       "      <td>г.Алматы</td>\n",
       "      <td>Алматы</td>\n",
       "      <td>Almaty Motors Premium</td>\n",
       "      <td>Физ. Лицо</td>\n",
       "      <td>наличный</td>\n",
       "      <td>1</td>\n",
       "      <td>117237</td>\n",
       "      <td>117237</td>\n",
       "    </tr>\n",
       "    <tr>\n",
       "      <th>21118</th>\n",
       "      <td>21118</td>\n",
       "      <td>2019-06-01</td>\n",
       "      <td>Almaty Motors Premium</td>\n",
       "      <td>Внедорожники</td>\n",
       "      <td>Jaguar</td>\n",
       "      <td>I-Pace</td>\n",
       "      <td>Компактные SUV</td>\n",
       "      <td>2019</td>\n",
       "      <td>Импорт</td>\n",
       "      <td>Великобритания</td>\n",
       "      <td>Электричество</td>\n",
       "      <td>400.0</td>\n",
       "      <td>РЕДУКТОР</td>\n",
       "      <td>4WD</td>\n",
       "      <td>г.Алматы</td>\n",
       "      <td>Алматы</td>\n",
       "      <td>Almaty Motors Premium</td>\n",
       "      <td>Юр. Лицо</td>\n",
       "      <td>безналичный</td>\n",
       "      <td>1</td>\n",
       "      <td>120413</td>\n",
       "      <td>120413</td>\n",
       "    </tr>\n",
       "    <tr>\n",
       "      <th>23917</th>\n",
       "      <td>23917</td>\n",
       "      <td>2019-07-01</td>\n",
       "      <td>Allur Auto</td>\n",
       "      <td>Коммерческие автомобили</td>\n",
       "      <td>ANKAI</td>\n",
       "      <td>HFF6124G03EV3</td>\n",
       "      <td>Большие автобусы</td>\n",
       "      <td>2019</td>\n",
       "      <td>Локальное производство</td>\n",
       "      <td>Казахстан</td>\n",
       "      <td>Электричество</td>\n",
       "      <td>88.0</td>\n",
       "      <td>NaN</td>\n",
       "      <td>2WD</td>\n",
       "      <td>Костанайская область</td>\n",
       "      <td>Костанай</td>\n",
       "      <td>Allur Auto Almaty</td>\n",
       "      <td>Юр. Лицо</td>\n",
       "      <td>безналичный</td>\n",
       "      <td>1</td>\n",
       "      <td>307986</td>\n",
       "      <td>307986</td>\n",
       "    </tr>\n",
       "    <tr>\n",
       "      <th>23919</th>\n",
       "      <td>23919</td>\n",
       "      <td>2019-07-01</td>\n",
       "      <td>Allur Auto</td>\n",
       "      <td>Коммерческие автомобили</td>\n",
       "      <td>ANKAI</td>\n",
       "      <td>HFF6124G03EV3</td>\n",
       "      <td>Большие автобусы</td>\n",
       "      <td>2019</td>\n",
       "      <td>Локальное производство</td>\n",
       "      <td>Казахстан</td>\n",
       "      <td>Электричество</td>\n",
       "      <td>88.0</td>\n",
       "      <td>NaN</td>\n",
       "      <td>2WD</td>\n",
       "      <td>Костанайская область</td>\n",
       "      <td>Костанай</td>\n",
       "      <td>Allur Auto Almaty</td>\n",
       "      <td>Юр. Лицо</td>\n",
       "      <td>безналичный</td>\n",
       "      <td>1</td>\n",
       "      <td>307986</td>\n",
       "      <td>307986</td>\n",
       "    </tr>\n",
       "  </tbody>\n",
       "</table>\n",
       "</div>"
      ],
      "text/plain": [
       "          id purchase_date                company                 car_type  \\\n",
       "11754  11754    2019-04-01  Almaty Motors Premium             Внедорожники   \n",
       "4471    4471    2019-02-01  Almaty Motors Premium             Внедорожники   \n",
       "21118  21118    2019-06-01  Almaty Motors Premium             Внедорожники   \n",
       "23917  23917    2019-07-01             Allur Auto  Коммерческие автомобили   \n",
       "23919  23919    2019-07-01             Allur Auto  Коммерческие автомобили   \n",
       "\n",
       "        brand          model car_classification  manufacturing_year  \\\n",
       "11754  Jaguar         I-Pace     Компактные SUV                2019   \n",
       "4471   Jaguar         I-Pace     Компактные SUV                2019   \n",
       "21118  Jaguar         I-Pace     Компактные SUV                2019   \n",
       "23917   ANKAI  HFF6124G03EV3   Большие автобусы                2019   \n",
       "23919   ANKAI  HFF6124G03EV3   Большие автобусы                2019   \n",
       "\n",
       "                assembly_type manufacturing_country      fuel_type  \\\n",
       "11754                  Импорт        Великобритания  Электричество   \n",
       "4471                   Импорт        Великобритания  Электричество   \n",
       "21118                  Импорт        Великобритания  Электричество   \n",
       "23917  Локальное производство             Казахстан  Электричество   \n",
       "23919  Локальное производство             Казахстан  Электричество   \n",
       "\n",
       "       engine_displacement_l transmission_type drive_type  \\\n",
       "11754                  400.0          РЕДУКТОР        4WD   \n",
       "4471                   400.0          РЕДУКТОР        4WD   \n",
       "21118                  400.0          РЕДУКТОР        4WD   \n",
       "23917                   88.0               NaN        2WD   \n",
       "23919                   88.0               NaN        2WD   \n",
       "\n",
       "                     region      city     dealer_center_name customer_type  \\\n",
       "11754              г.Алматы    Алматы  Almaty Motors Premium     Физ. Лицо   \n",
       "4471               г.Алматы    Алматы  Almaty Motors Premium     Физ. Лицо   \n",
       "21118              г.Алматы    Алматы  Almaty Motors Premium      Юр. Лицо   \n",
       "23917  Костанайская область  Костанай      Allur Auto Almaty      Юр. Лицо   \n",
       "23919  Костанайская область  Костанай      Allur Auto Almaty      Юр. Лицо   \n",
       "\n",
       "      payment_form  quantity  price_usd  sale_usd  \n",
       "11754     наличный         1     105389    105389  \n",
       "4471      наличный         1     117237    117237  \n",
       "21118  безналичный         1     120413    120413  \n",
       "23917  безналичный         1     307986    307986  \n",
       "23919  безналичный         1     307986    307986  "
      ]
     },
     "execution_count": 104,
     "metadata": {},
     "output_type": "execute_result"
    }
   ],
   "source": [
    "# авто с двигателями более 10 л\n",
    "df[df['engine_displacement_l'] >= 10].sort_values(by='engine_displacement_l', ascending=False).head()"
   ]
  },
  {
   "cell_type": "markdown",
   "id": "fd2d6931-201e-4d24-b19b-d80d657c9454",
   "metadata": {},
   "source": [
    "В самом верху с объёмом $88$ и выше — это электрокары. И там указана мощность вместо объёма.\\\n",
    "Но у электрокаров нет такого понятия как объём двигателя. У них есть ёмкость батареи.\\\n",
    "Им нужно поставить пропущенные значения.\n",
    "\n",
    "Нива почувствовала себя супермощной: от $13.7$ до $26.7$ литров значение объёма двигателя. Какой вздор.\\\n",
    "Посмотрим распределение объёмов у всех Нив в датасете."
   ]
  },
  {
   "cell_type": "code",
   "execution_count": 105,
   "id": "2652eff4-aa0e-44da-93fe-992a32f66a77",
   "metadata": {},
   "outputs": [
    {
     "data": {
      "text/plain": [
       "1.7     542\n",
       "2.7       1\n",
       "21.7      1\n",
       "14.7      1\n",
       "8.7       1\n",
       "16.7      1\n",
       "5.7       1\n",
       "7.7       1\n",
       "25.7      1\n",
       "26.7      1\n",
       "22.7      1\n",
       "10.7      1\n",
       "11.7      1\n",
       "20.7      1\n",
       "18.7      1\n",
       "13.7      1\n",
       "23.7      1\n",
       "12.7      1\n",
       "9.7       1\n",
       "24.7      1\n",
       "3.7       1\n",
       "17.7      1\n",
       "15.7      1\n",
       "6.7       1\n",
       "4.7       1\n",
       "19.7      1\n",
       "Name: engine_displacement_l, dtype: int64"
      ]
     },
     "execution_count": 105,
     "metadata": {},
     "output_type": "execute_result"
    }
   ],
   "source": [
    "df[df['model'] == 'Niva']['engine_displacement_l'].value_counts()"
   ]
  },
  {
   "cell_type": "markdown",
   "id": "b811694a-2042-4da9-bf52-a4434b06bc81",
   "metadata": {},
   "source": [
    "Много неправды. У Шевроле Нивы только один реальный объём: $1.7$ литра.\\\n",
    "Проверено **[здесь](https://www.drom.ru/catalog/chevrolet/niva/g_2009_1658/).** \\\n",
    "Нужно все аномалии заменить здесь модой."
   ]
  },
  {
   "cell_type": "markdown",
   "id": "8b2d452e-e49c-4148-8949-3011ee517f0e",
   "metadata": {},
   "source": [
    "Все остальные транспорты с очень большим объёмом — это или **большие автобусы**, или **крупнотоннажные грузовики**. Что выглядит правдоподобно."
   ]
  },
  {
   "cell_type": "markdown",
   "id": "5ac60d14-b418-4083-8e26-8dc7fdec9bdd",
   "metadata": {},
   "source": [
    "<br>"
   ]
  },
  {
   "cell_type": "markdown",
   "id": "acc13233-15fd-4e0b-9707-e6aaded734ae",
   "metadata": {},
   "source": [
    "Итак, заменим показатели мощности двигателя у электрокаров на пропуски."
   ]
  },
  {
   "cell_type": "code",
   "execution_count": 106,
   "id": "d750c3aa-9b08-410f-a9f5-863aa96bb565",
   "metadata": {},
   "outputs": [],
   "source": [
    "# замена на пропуски\n",
    "df.loc[df['fuel_type'] == 'Электричество', 'engine_displacement_l'] = np.nan"
   ]
  },
  {
   "cell_type": "markdown",
   "id": "3c33b03d-cb9e-4792-8573-1d01284b564f",
   "metadata": {},
   "source": [
    "Теперь заменим все значения объёмов двигателя у Нив на модальное (реальное) значение. "
   ]
  },
  {
   "cell_type": "code",
   "execution_count": 107,
   "id": "d1fa6fb1-263d-42c9-9495-01792f1aaf24",
   "metadata": {},
   "outputs": [],
   "source": [
    "# замена модой\n",
    "df.loc[df['model'] == 'Niva', 'engine_displacement_l'] = df[df['model'] == 'Niva']['engine_displacement_l'].mode().loc[0]"
   ]
  },
  {
   "cell_type": "markdown",
   "id": "485f679f-6e69-48b3-847a-f56a3adcdd5f",
   "metadata": {},
   "source": [
    "Посмотрим распределение нив снова."
   ]
  },
  {
   "cell_type": "code",
   "execution_count": 108,
   "id": "95ef1d02-9101-4035-a1f8-4a970d97a012",
   "metadata": {},
   "outputs": [
    {
     "data": {
      "text/plain": [
       "1.7    567\n",
       "Name: engine_displacement_l, dtype: int64"
      ]
     },
     "execution_count": 108,
     "metadata": {},
     "output_type": "execute_result"
    }
   ],
   "source": [
    "df[df['model'] == 'Niva']['engine_displacement_l'].value_counts()"
   ]
  },
  {
   "cell_type": "markdown",
   "id": "ecf77543-bf3b-4f6a-87db-ee741307c9c4",
   "metadata": {},
   "source": [
    "Отлично. Всё исправлено."
   ]
  },
  {
   "cell_type": "markdown",
   "id": "e21086b8-b863-464c-8ba7-e5e3bcc6665a",
   "metadata": {},
   "source": [
    "<br>"
   ]
  },
  {
   "cell_type": "markdown",
   "id": "427e64ec-051a-4a24-833d-cf595a0dfc1f",
   "metadata": {},
   "source": [
    "Посмотрим колонку `engine_displacement_l` ещё раз."
   ]
  },
  {
   "cell_type": "code",
   "execution_count": 109,
   "id": "fa65918a-e171-4b24-8979-6d03e06b5158",
   "metadata": {},
   "outputs": [
    {
     "name": "stdout",
     "output_type": "stream",
     "text": [
      "1.6    9075\n",
      "2.0    8133\n",
      "2.7    5074\n",
      "2.5    5034\n",
      "NaN    4275\n",
      "1.5    1559\n",
      "2.4    1247\n",
      "1.7     833\n",
      "3.5     788\n",
      "4.6     754\n",
      "Name: engine_displacement_l, dtype: int64\n",
      "\n",
      "Количество непропущенных значений: 35691\n",
      "Количество уникальных значений: 44\n",
      "\n",
      "Первые 50 уникальных значений в алфавитном порядке:\n",
      "[ 1.2  1.3  1.4  1.5  1.6  1.7  1.8  2.   2.2  2.4  2.5  2.7  2.8  2.9\n",
      "  3.   3.3  3.5  3.6  3.8  3.9  4.   4.3  4.4  4.6  4.9  5.   5.2  5.5\n",
      "  5.6  5.7  6.2  6.5  6.6  6.7  7.5  7.6  8.4  8.7 10.5 11.  12.  12.3\n",
      " 12.8 13.   nan]\n"
     ]
    }
   ],
   "source": [
    "duplicates('engine_displacement_l')"
   ]
  },
  {
   "cell_type": "markdown",
   "id": "c4aef31c-49f9-472b-b887-2f3c2f7c0352",
   "metadata": {},
   "source": [
    "Количество уникальных значений снизилось с $80$ до $44$. Теперь данные стали значительно чище."
   ]
  },
  {
   "cell_type": "markdown",
   "id": "8f2bbc19-a4bc-4888-8a4d-e6eee1c12376",
   "metadata": {},
   "source": [
    "<br>"
   ]
  },
  {
   "cell_type": "markdown",
   "id": "22307d75-7e48-4715-adcd-7b06c5faa11b",
   "metadata": {},
   "source": [
    "##### `Коробка передач`"
   ]
  },
  {
   "cell_type": "code",
   "execution_count": 110,
   "id": "dc34b3bc-0a30-4829-8448-19208d727077",
   "metadata": {},
   "outputs": [
    {
     "name": "stdout",
     "output_type": "stream",
     "text": [
      "AT                11379\n",
      "6 AT               8842\n",
      "MT                 3297\n",
      "NaN                3255\n",
      "CVT                2100\n",
      "Мех.               2044\n",
      "CVT (вариатор)     1462\n",
      "6AT                1166\n",
      "5МТ                 996\n",
      "5 МТ                618\n",
      "Name: transmission_type, dtype: int64\n",
      "\n",
      "Количество непропущенных значений: 36711\n",
      "Количество уникальных значений: 83\n",
      "\n",
      "Первые 50 уникальных значений в алфавитном порядке:\n",
      "[' 7 АКП' '#Н/Д' '0' '12AT' '12АТ' '4 АТ' '4AT' '4WD' '4АТ' '5 AT' '5 МТ'\n",
      " '5AT' '5M' '5MT' '5АТ' '5М' '5МТ' '6 AT' '6 DSG' '6 MT' '6 АТ' '6 МТ'\n",
      " '6A' '6AT' '6DSG' '6M/T' '6MT' '6А' '6АТ' '6МТ' '7 DCT' '7 DSG'\n",
      " '7 АКПП (PDK)' '7 АКПП PDK' '7AT' '7DCT' '7DSG' '7G-TRONIC' '7АКП' '7АТ'\n",
      " '8' '8 AT' '8 АКПП (PDK)' '8 АКПП Tiptronic S' '8 АТ' '8-ступ АКПП' '8A'\n",
      " '8AT' '8АКПП' '8АТ']\n"
     ]
    }
   ],
   "source": [
    "duplicates('transmission_type')"
   ]
  },
  {
   "cell_type": "markdown",
   "id": "2b6ad12c-1fc5-4a94-a114-5fdc9f0eccec",
   "metadata": {},
   "source": [
    "Полный хаос. $83$ коробок передач.\\\n",
    "Посмотрим их распределение."
   ]
  },
  {
   "cell_type": "code",
   "execution_count": 111,
   "id": "316afe7e-d07e-4b5d-a823-72f909ea6468",
   "metadata": {},
   "outputs": [
    {
     "name": "stdout",
     "output_type": "stream",
     "text": [
      "AT                    11379\n",
      "6 AT                   8842\n",
      "MT                     3297\n",
      "NaN                    3255\n",
      "CVT                    2100\n",
      "Мех.                   2044\n",
      "CVT (вариатор)         1462\n",
      "6AT                    1166\n",
      "5МТ                     996\n",
      "5 МТ                    618\n",
      "5MT                     614\n",
      "AMT                     397\n",
      "6MT                     384\n",
      "6АТ                     383\n",
      "6 АТ                    351\n",
      "АКП                     329\n",
      "АКПП                    230\n",
      "CVT(вAриATор)           203\n",
      "6 MT                    197\n",
      "8AT                     151\n",
      "4АТ                     133\n",
      "АТ                      117\n",
      "4 АТ                    105\n",
      "МТ                      104\n",
      "CVT (вариATор)           92\n",
      "7DSG                     90\n",
      "9G-TRONIC                72\n",
      "6DSG                     71\n",
      "АT                       61\n",
      "DSG                      47\n",
      "8АТ                      46\n",
      "7 DSG                    42\n",
      "МКП                      35\n",
      "МКПП                     34\n",
      "8 АТ                     34\n",
      "Tiptronic                31\n",
      "6 DSG                    30\n",
      "6A                       29\n",
      "4WD                      28\n",
      "6А                       25\n",
      "Steptronic               20\n",
      "6МТ                      20\n",
      "TDI                      19\n",
      "4AT                      19\n",
      "МT                       17\n",
      "7G-TRONIC                17\n",
      "7 DCT                    17\n",
      "A/T                      16\n",
      "6M/T                     16\n",
      "5 AT                     12\n",
      "PDK                      12\n",
      "5M                       12\n",
      "S-tronic                 11\n",
      "8 АКПП Tiptronic S       11\n",
      "S-Tronic                 10\n",
      "6 МТ                      9\n",
      "7 АКПП (PDK)              8\n",
      "5АТ                       6\n",
      "9AT                       6\n",
      "7АКП                      6\n",
      "5AT                       6\n",
      "Передний                  6\n",
      "DCT                       6\n",
      "7АТ                       6\n",
      "М/T                       5\n",
      "5М                        5\n",
      "8                         5\n",
      "8АКПП                     5\n",
      "#Н/Д                      4\n",
      "8 АКПП (PDK)              3\n",
      " 7 АКП                    3\n",
      "7AT                       3\n",
      "РЕДУКТОР                  3\n",
      "7DCT                      3\n",
      "0                         3\n",
      "M/T                       2\n",
      "8A                        2\n",
      "А/T                       2\n",
      "12AT                      1\n",
      "8 AT                      1\n",
      "8-ступ АКПП               1\n",
      "12АТ                      1\n",
      "Powershift S6             1\n",
      "7 АКПП PDK                1\n",
      "Name: transmission_type, dtype: int64\n"
     ]
    }
   ],
   "source": [
    "# просмотр всего распределения\n",
    "pd.set_option('display.max_rows', 100)\n",
    "\n",
    "# распределение\n",
    "print(df['transmission_type'].value_counts(dropna=False))\n",
    "\n",
    "# вернуть кол-во строк по умолчанию\n",
    "pd.reset_option('display.max_rows')"
   ]
  },
  {
   "cell_type": "markdown",
   "id": "b6e50387-efd9-4b02-a973-e901b0e7de1d",
   "metadata": {},
   "source": [
    "<br>"
   ]
  },
  {
   "cell_type": "markdown",
   "id": "45eee91f-0552-486c-b0fb-781ba6b84980",
   "metadata": {},
   "source": [
    "У автомобилей с двигателями внутреннего сгорания есть всего $4$ коробки переключения передач:\n",
    "1. Механическая (**MT** — Manual Transmission)\n",
    "2. Автоматическая (**АТ** — Automatic Transmission)\n",
    "3. Роботизированная (**АМТ** — Automated Manual Transmission)\n",
    "4. Вариаторная (**CVT** — Continuously Variable Transmission)\n",
    "\n",
    "У электрокаров роль трансмиссии выполняет **редуктор**."
   ]
  },
  {
   "cell_type": "markdown",
   "id": "adcdf852-20bb-4876-ba80-9c450023844e",
   "metadata": {},
   "source": [
    "Поэтому все $83$ значения колонки нужно привести к этим $5$."
   ]
  },
  {
   "cell_type": "markdown",
   "id": "38026b2f-f426-4e0a-8f86-0ed1543307f4",
   "metadata": {},
   "source": [
    "<br>"
   ]
  },
  {
   "cell_type": "markdown",
   "id": "abd72a63-5f79-45ba-bc55-4b3151e94cd7",
   "metadata": {},
   "source": [
    "Сначала можно убрать пробелы и цифры из значений."
   ]
  },
  {
   "cell_type": "code",
   "execution_count": 112,
   "id": "36928791-0a87-4ef3-86bc-5f8bca044890",
   "metadata": {},
   "outputs": [],
   "source": [
    "df['transmission_type'] = df['transmission_type'].str.replace(' ', '')\\\n",
    "                                                 .str.replace('[0-9]', '', regex=True)"
   ]
  },
  {
   "cell_type": "markdown",
   "id": "14dcd31d-a76e-4138-b844-0d5c26ff179f",
   "metadata": {},
   "source": [
    "<br>"
   ]
  },
  {
   "cell_type": "markdown",
   "id": "ded90ddd-be8e-4a13-b038-b96c6dd7af68",
   "metadata": {},
   "source": [
    "Посмотрим, что поменялось."
   ]
  },
  {
   "cell_type": "code",
   "execution_count": 113,
   "id": "f8a1e665-415a-4f97-9a58-da1c597b0f36",
   "metadata": {},
   "outputs": [
    {
     "name": "stdout",
     "output_type": "stream",
     "text": [
      "AT               21586\n",
      "MT                4492\n",
      "NaN               3255\n",
      "CVT               2100\n",
      "Мех.              2044\n",
      "МТ                1747\n",
      "CVT(вариатор)     1462\n",
      "АТ                1182\n",
      "AMT                397\n",
      "АКП                338\n",
      "Name: transmission_type, dtype: int64\n",
      "\n",
      "Количество непропущенных значений: 36711\n",
      "Количество уникальных значений: 43\n",
      "\n",
      "Первые 50 уникальных значений в алфавитном порядке:\n",
      "['' '#Н/Д' '-ступАКПП' 'A' 'A/T' 'AMT' 'AT' 'CVT' 'CVT(вAриATор)'\n",
      " 'CVT(вариATор)' 'CVT(вариатор)' 'DCT' 'DSG' 'G-TRONIC' 'M' 'M/T' 'MT'\n",
      " 'PDK' 'PowershiftS' 'S-Tronic' 'S-tronic' 'Steptronic' 'TDI' 'Tiptronic'\n",
      " 'WD' 'А' 'А/T' 'АT' 'АКП' 'АКПП' 'АКПП(PDK)' 'АКППPDK' 'АКППTiptronicS'\n",
      " 'АТ' 'М' 'М/T' 'МT' 'МКП' 'МКПП' 'МТ' 'Мех.' 'Передний' 'РЕДУКТОР' nan]\n"
     ]
    }
   ],
   "source": [
    "duplicates('transmission_type')"
   ]
  },
  {
   "cell_type": "markdown",
   "id": "4c702b5c-322a-413f-9927-85e9dfa707ba",
   "metadata": {},
   "source": [
    "Значений стало почти в $2$ раза меньше.\\\n",
    "Нужно устранить неявные дубли."
   ]
  },
  {
   "cell_type": "markdown",
   "id": "5daa10a3-b5d4-4528-93fe-1a059c93ea46",
   "metadata": {},
   "source": [
    "<br>"
   ]
  },
  {
   "cell_type": "markdown",
   "id": "ffbd35cf-b434-4dbc-8b26-e514b42ed7af",
   "metadata": {},
   "source": [
    "Преобразуем значения так, чтобы они стали более понятны простому человеку."
   ]
  },
  {
   "cell_type": "markdown",
   "id": "94fea0b9-29c2-4883-b735-59ea01488723",
   "metadata": {},
   "source": [
    "Создадим списки, в которых будут дубли определённых коробок передач."
   ]
  },
  {
   "cell_type": "code",
   "execution_count": 114,
   "id": "ca861f9f-f0a1-49ea-a611-8bba1e2eaabf",
   "metadata": {},
   "outputs": [],
   "source": [
    "# механическая\n",
    "mt = ['M', 'M/T', 'MT', 'М', 'М/T', 'МT', 'МКП', 'МКПП', 'МТ', 'Мех.']\n",
    "\n",
    "# автоматическая\n",
    "at = ['А', 'А/T', 'АT', 'АКП', 'АКПП', 'АТ', 'G-TRONIC', 'AT', 'A', 'A/T', 'Tiptronic', 'Steptronic', 'АКППTiptronicS', '-ступАКПП']\n",
    "\n",
    "# робот\n",
    "amt = ['PDK', 'PowershiftS', 'S-Tronic', 'АКПП(PDK)', 'АКППPDK', 'DCT', 'DSG', 'AMT', 'S-tronic']\n",
    "\n",
    "# вариатор\n",
    "cvt = ['CVT', 'CVT(вAриATор)', 'CVT(вариATор)', 'CVT(вариатор)']\n",
    "\n",
    "# пропуски\n",
    "nan = ['TDI', 'Передний', '#Н/Д', 'WD', '']"
   ]
  },
  {
   "cell_type": "markdown",
   "id": "51f7a26d-29da-45ae-aad0-b9ec45ca8cd5",
   "metadata": {},
   "source": [
    "Создадим специальную конструкцию, которая поможет заменить значения."
   ]
  },
  {
   "cell_type": "code",
   "execution_count": 115,
   "id": "1a385505-660c-4dd8-9568-394b285fe4f4",
   "metadata": {},
   "outputs": [],
   "source": [
    "# каждому значению (ключу) из созданных выше переменных назначено новое одно из пяти значений (значение) \n",
    "transmission_mapping = {\n",
    "    **{value: 'MT' for value in mt},\n",
    "    **{value: 'AT' for value in at},\n",
    "    **{value: 'AMT' for value in amt},\n",
    "    **{value: 'CVT' for value in cvt},\n",
    "    **{value: np.NaN for value in nan}\n",
    "}\n",
    "# методу replace передаём словарь, в котором ключи — значения, которые нужно заменить, а значения — соответствующие новые значения\n",
    "df['transmission_type'] = df['transmission_type'].replace(transmission_mapping)\\\n",
    "                                                 .replace('РЕДУКТОР', 'Редуктор')"
   ]
  },
  {
   "cell_type": "markdown",
   "id": "29c8c9a7-809e-433f-9e5c-fc87fa31faf3",
   "metadata": {},
   "source": [
    "Поменяем неточности в коробках передач там, где имеется возможность."
   ]
  },
  {
   "cell_type": "code",
   "execution_count": 116,
   "id": "3f304796-bc2e-48d6-ae41-186f6ba83ed5",
   "metadata": {},
   "outputs": [],
   "source": [
    "# cayenne\n",
    "df.loc[df['model'] == 'Cayenne', 'transmission_type'] = 'AT'\n",
    "df.loc[df['fuel_type'] == 'Электричество', 'transmission_type'] = 'Редуктор'"
   ]
  },
  {
   "cell_type": "markdown",
   "id": "153e3193-9c98-40a8-8363-dccc38ebef95",
   "metadata": {},
   "source": [
    "<br>"
   ]
  },
  {
   "cell_type": "markdown",
   "id": "14996eb0-2d52-47fe-8334-60dbeb85f570",
   "metadata": {},
   "source": [
    "Посмотрим финальный результат."
   ]
  },
  {
   "cell_type": "code",
   "execution_count": 117,
   "id": "34948ef7-683e-435d-aa92-899ad7c98479",
   "metadata": {},
   "outputs": [
    {
     "name": "stdout",
     "output_type": "stream",
     "text": [
      "AT          23637\n",
      "MT           8409\n",
      "CVT          3857\n",
      "NaN          3305\n",
      "AMT           745\n",
      "Редуктор       13\n",
      "Name: transmission_type, dtype: int64\n",
      "\n",
      "Количество непропущенных значений: 36661\n",
      "Количество уникальных значений: 5\n",
      "\n",
      "Первые 50 уникальных значений в алфавитном порядке:\n",
      "['AMT' 'AT' 'CVT' 'MT' 'Редуктор' nan]\n"
     ]
    }
   ],
   "source": [
    "duplicates('transmission_type')"
   ]
  },
  {
   "cell_type": "markdown",
   "id": "c4a7347f-6271-49d2-8035-be3d85d76335",
   "metadata": {},
   "source": [
    "Теперь в колонке наведён порядок."
   ]
  },
  {
   "cell_type": "markdown",
   "id": "61d7ce6a-4b26-4a46-a158-12f221520f96",
   "metadata": {},
   "source": [
    "<br>"
   ]
  },
  {
   "cell_type": "markdown",
   "id": "0daa68d3-7b67-461b-b876-d2a7547d42ff",
   "metadata": {},
   "source": [
    "##### `Тип привода`"
   ]
  },
  {
   "cell_type": "code",
   "execution_count": 118,
   "id": "86bb30bb-ffcd-4b4b-9014-21ae9a651fbd",
   "metadata": {},
   "outputs": [
    {
     "name": "stdout",
     "output_type": "stream",
     "text": [
      "4WD         9412\n",
      "2 WD        5078\n",
      "2WD         4678\n",
      "FF          4578\n",
      "NaN         4289\n",
      "Передний    3270\n",
      "4 WD        2607\n",
      "Полный      1917\n",
      "Задний      1469\n",
      "FWD          995\n",
      "Name: drive_type, dtype: int64\n",
      "\n",
      "Количество непропущенных значений: 35677\n",
      "Количество уникальных значений: 26\n",
      "\n",
      "Первые 50 уникальных значений в алфавитном порядке:\n",
      "['#Н/Д' '0' '2 WD' '2WD' '4 WD' '4Motion' '4WD' '4X2' '4X4' '4x2' '4x4'\n",
      " '4х2' '4х2.2' '4х4' 'AWD' 'FF' 'FWD' 'RWD' 'quattro' 'Астана' 'Задний'\n",
      " 'Передний' 'Передний (FF)' 'Полный' 'передний' 'полный' nan]\n"
     ]
    }
   ],
   "source": [
    "duplicates('drive_type')"
   ]
  },
  {
   "cell_type": "markdown",
   "id": "549c6842-4cd5-4df2-86fe-0e07e19a9d71",
   "metadata": {},
   "source": [
    "Здесь тоже нужно привести всё в порядок."
   ]
  },
  {
   "cell_type": "markdown",
   "id": "953dfad4-4fb3-4169-820a-f9377b228be7",
   "metadata": {},
   "source": [
    "<br>"
   ]
  },
  {
   "cell_type": "markdown",
   "id": "832c9e06-6fa6-4173-86ea-11b208ec6a3c",
   "metadata": {},
   "source": [
    "Рассмотрим распределение всех значений в колонке."
   ]
  },
  {
   "cell_type": "code",
   "execution_count": 119,
   "id": "4b5c4f9b-75ba-408f-ab8a-5ce43c328b1e",
   "metadata": {},
   "outputs": [
    {
     "data": {
      "text/plain": [
       "4WD              9412\n",
       "2 WD             5078\n",
       "2WD              4678\n",
       "FF               4578\n",
       "NaN              4289\n",
       "Передний         3270\n",
       "4 WD             2607\n",
       "Полный           1917\n",
       "Задний           1469\n",
       "FWD               995\n",
       "AWD               962\n",
       "RWD               205\n",
       "Передний (FF)     136\n",
       "0                 116\n",
       "передний           56\n",
       "quattro            47\n",
       "4х2                38\n",
       "4Motion            26\n",
       "4x4                22\n",
       "4х4                18\n",
       "4x2                16\n",
       "4х2.2              10\n",
       "4X4                 6\n",
       "полный              5\n",
       "4X2                 4\n",
       "#Н/Д                4\n",
       "Астана              2\n",
       "Name: drive_type, dtype: int64"
      ]
     },
     "execution_count": 119,
     "metadata": {},
     "output_type": "execute_result"
    }
   ],
   "source": [
    "df['drive_type'].value_counts(dropna=False)"
   ]
  },
  {
   "cell_type": "markdown",
   "id": "b26bd1ae-31b6-439a-bff6-20ab2bf99fdb",
   "metadata": {},
   "source": [
    "<br>"
   ]
  },
  {
   "cell_type": "markdown",
   "id": "fd57a1c9-60e7-48c4-899b-4fced94615de",
   "metadata": {},
   "source": [
    "Вообще всего существует $4$ вида приводов:\n",
    "1. Передний (**FWD** — Front Wheel Drive)\n",
    "2. Задний (**RWD** — Rear Wheel Drive)\n",
    "3. Полный (**4WD** — Four Wheel Drive)\n",
    "4. Полный (**AWD** — All Wheel Drive)"
   ]
  },
  {
   "cell_type": "markdown",
   "id": "d10fa787-1a5f-48cd-87d7-10471e38d5f5",
   "metadata": {},
   "source": [
    "<br>"
   ]
  },
  {
   "cell_type": "markdown",
   "id": "cc0f7bcb-eb60-4eaa-aef3-a53d3239a38f",
   "metadata": {},
   "source": [
    "В соответствии с этими приводами нужно привести все значения в колонке."
   ]
  },
  {
   "cell_type": "markdown",
   "id": "5323225b-afdc-4f0d-83c6-3ee9137e0bea",
   "metadata": {},
   "source": [
    "Создадим списки со значениями, которые нужно заменить на нормальные."
   ]
  },
  {
   "cell_type": "code",
   "execution_count": 120,
   "id": "a3920238-ccb5-49f5-853e-2523403e7f51",
   "metadata": {},
   "outputs": [],
   "source": [
    "# двухколёсный (2WD)\n",
    "twd = ['2 WD', '2WD', '4X2', '4x2', '4х2', '4х2.2']\n",
    "\n",
    "# передний (FWD)\n",
    "fwd = ['FF', 'FWD', 'Передний', 'Передний (FF)', 'передний']\n",
    "\n",
    "# задний (RWD)\n",
    "rwd = ['RWD', 'Задний']\n",
    "\n",
    "# полный (4WD)\n",
    "fourwd = ['4WD', '4 WD', '4Motion', '4X4', '4x4', '4х4', 'quattro', 'Полный', 'полный']\n",
    "\n",
    "# полный (AWD)\n",
    "awd = ['AWD']\n",
    "\n",
    "# пропуски\n",
    "nan = ['#Н/Д', '0', 'Астана']"
   ]
  },
  {
   "cell_type": "markdown",
   "id": "6c735047-a5a9-4b65-9819-ce79daa4f7e3",
   "metadata": {},
   "source": [
    "Создадим конструкцию, которая заменит все неявные дубликаты."
   ]
  },
  {
   "cell_type": "code",
   "execution_count": 121,
   "id": "89baf1a3-125d-4718-8a75-5f9a0608e074",
   "metadata": {},
   "outputs": [],
   "source": [
    "# словарь, ключи которого содержат необработанные значения. Эти необработанные значения будут заменены валидными значенями\n",
    "drive_type_mapping = {\n",
    "    **{value: '2WD' for value in twd},\n",
    "    **{value: 'FWD' for value in fwd},\n",
    "    **{value: 'RWD' for value in rwd},\n",
    "    **{value: '4WD' for value in fourwd},\n",
    "    **{value: 'AWD' for value in awd},\n",
    "    **{value: np.NaN for value in nan}\n",
    "}\n",
    "\n",
    "# замена значений\n",
    "df['drive_type'] = df['drive_type'].replace(drive_type_mapping)"
   ]
  },
  {
   "cell_type": "markdown",
   "id": "8b2c77aa-754c-498c-9c1e-a357f80a67bc",
   "metadata": {},
   "source": [
    "<br>"
   ]
  },
  {
   "cell_type": "markdown",
   "id": "0a9de287-b70b-47ca-b304-107fe4fe056d",
   "metadata": {},
   "source": [
    "Теперь проверим работу."
   ]
  },
  {
   "cell_type": "code",
   "execution_count": 122,
   "id": "38bf024b-7177-4e8c-acf5-06b090ec0bc3",
   "metadata": {},
   "outputs": [
    {
     "name": "stdout",
     "output_type": "stream",
     "text": [
      "4WD    14060\n",
      "2WD     9824\n",
      "FWD     9035\n",
      "NaN     4411\n",
      "RWD     1674\n",
      "AWD      962\n",
      "Name: drive_type, dtype: int64\n",
      "\n",
      "Количество непропущенных значений: 35555\n",
      "Количество уникальных значений: 5\n",
      "\n",
      "Первые 50 уникальных значений в алфавитном порядке:\n",
      "['2WD' '4WD' 'AWD' 'FWD' 'RWD' nan]\n"
     ]
    }
   ],
   "source": [
    "duplicates('drive_type')"
   ]
  },
  {
   "cell_type": "markdown",
   "id": "d7ca9adb-ed23-4eb5-9b10-f995003448d3",
   "metadata": {},
   "source": [
    "Всё замечательно. Идём дальше."
   ]
  },
  {
   "cell_type": "markdown",
   "id": "867b6c84-41a2-4c1b-843d-fd8d89281936",
   "metadata": {},
   "source": [
    "<br>"
   ]
  },
  {
   "cell_type": "markdown",
   "id": "7254299c-97a3-4677-a36f-2d2c3829aa84",
   "metadata": {},
   "source": [
    "`Области Казахстана`"
   ]
  },
  {
   "cell_type": "code",
   "execution_count": 123,
   "id": "84a109f9-ca48-41b8-93b0-b8a8c0abfe85",
   "metadata": {},
   "outputs": [
    {
     "name": "stdout",
     "output_type": "stream",
     "text": [
      "г.Алматы                          11179\n",
      "г.Нур-Султан                       8244\n",
      "Южно-Казахстанская область         2880\n",
      "Костанайская область               2494\n",
      "Атырауская область                 2164\n",
      "Карагандинская область             2076\n",
      "Экспорт область                    1810\n",
      "Мангистауская область              1495\n",
      "Западно-Казахстанская область      1493\n",
      "Восточно-Казахстанская область     1453\n",
      "Name: region, dtype: int64\n",
      "\n",
      "Количество непропущенных значений: 39966\n",
      "Количество уникальных значений: 18\n",
      "\n",
      "Первые 50 уникальных значений в алфавитном порядке:\n",
      "['Акмолинская область' 'Актюбинская область' 'Алматинская область'\n",
      " 'Атырауская область' 'Восточно-Казахстанская область'\n",
      " 'Жамбылская область' 'Западно-Казахстанская область'\n",
      " 'Карагандинская область' 'Костанайская область' 'Кызылординская область'\n",
      " 'Мангистауская область' 'Павлодарская область'\n",
      " 'Северо-Казахстанская область' 'Туркестанская область' 'Экспорт область'\n",
      " 'Южно-Казахстанская область' 'г.Алматы' 'г.Нур-Султан']\n"
     ]
    }
   ],
   "source": [
    "duplicates('region')"
   ]
  },
  {
   "cell_type": "markdown",
   "id": "726a5423-97c0-460f-8371-ed83f1521fe3",
   "metadata": {},
   "source": [
    "Колонка в полном порядке."
   ]
  },
  {
   "cell_type": "markdown",
   "id": "93cc710c-a6f1-4f46-b0be-54ffd58f4d5b",
   "metadata": {},
   "source": [
    "<br>"
   ]
  },
  {
   "cell_type": "markdown",
   "id": "69620c7a-eed8-4839-9a62-b24c1a117789",
   "metadata": {},
   "source": [
    "`Города Казахстана`"
   ]
  },
  {
   "cell_type": "code",
   "execution_count": 124,
   "id": "4760eac4-d28a-4a4c-b8c5-0ac2f1ded8f7",
   "metadata": {},
   "outputs": [
    {
     "name": "stdout",
     "output_type": "stream",
     "text": [
      "Алматы        11179\n",
      "Нур-Султан     8244\n",
      "Шымкент        2880\n",
      "Костанай       2447\n",
      "Атырау         2162\n",
      "Караганда      2076\n",
      "ЭКСПОРТ        1810\n",
      "Актау          1495\n",
      "Уральск        1493\n",
      "Актобе         1351\n",
      "Name: city, dtype: int64\n",
      "\n",
      "Количество непропущенных значений: 39966\n",
      "Количество уникальных значений: 26\n",
      "\n",
      "Первые 50 уникальных значений в алфавитном порядке:\n",
      "['Актау' 'Актобе' 'Алматы' 'Атырау' 'Зыряновск' 'Караганда' 'Каскелен'\n",
      " 'Кокшетау' 'Костанай' 'Кульсары' 'Кызылорда' 'Нур-Султан' 'Павлодар'\n",
      " 'Петропавловск' 'Риддер' 'Рудный' 'Сарыагаш' 'Семей' 'Талдыкорган'\n",
      " 'Тараз' 'Туркестан' 'Уральск' 'Усть-Каменогорск' 'Шымкент' 'ЭКСПОРТ'\n",
      " 'Экибастуз']\n"
     ]
    }
   ],
   "source": [
    "duplicates('city')"
   ]
  },
  {
   "cell_type": "markdown",
   "id": "19271cbf-b023-4a06-b341-0df38f901bf5",
   "metadata": {},
   "source": [
    "Колонка в полном порядке."
   ]
  },
  {
   "cell_type": "markdown",
   "id": "5ee94ea3-cb3d-43b4-9bd4-627e79c924d8",
   "metadata": {},
   "source": [
    "<br>"
   ]
  },
  {
   "cell_type": "markdown",
   "id": "f692b878-10e8-4861-a121-999d78dde73a",
   "metadata": {},
   "source": [
    "##### `Наименование дилерского центра`"
   ]
  },
  {
   "cell_type": "code",
   "execution_count": 125,
   "id": "cff040f6-1aa1-4f53-a026-8c07376db8a7",
   "metadata": {},
   "outputs": [
    {
     "name": "stdout",
     "output_type": "stream",
     "text": [
      "Hyundai Premium Almaty    1600\n",
      "Hyundai Auto Almaty       1425\n",
      "Hyundai Premium Astana    1385\n",
      "Тойота Центр Алматы       1343\n",
      "Тойота Центр Астана       1333\n",
      "Toyota City Астана        1319\n",
      "Toyota City               1258\n",
      "Тойота Центр Жетысу       1150\n",
      "HYUNDAI AUTO ASTANA       1117\n",
      "Allur Auto Almaty         1079\n",
      "Name: dealer_center_name, dtype: int64\n",
      "\n",
      "Количество непропущенных значений: 39966\n",
      "Количество уникальных значений: 205\n",
      "\n",
      "Первые 50 уникальных значений в алфавитном порядке:\n",
      "['ABS-INVEST' 'ALAN MOTORS' 'ALAN MOTORS\\xa0Усть-Каменогорск'\n",
      " 'AST-commerce' 'ASTER AUTO CЕМЕЙ' 'ASTER AUTO Алматы'\n",
      " 'ASTER AUTO Шымкент' 'Aktobe Hyundai Motors' 'Alan Motors Trade'\n",
      " 'Allur Auto Almaty' 'Allur Auto Astana' 'Allur Auto Atyrau '\n",
      " 'Allur Auto Karaganda' 'Allur Auto Kokshetau' 'Allur Auto Pavlodar '\n",
      " 'Allur Auto Petropavlovsk ' 'Allur Auto Rus' 'Allur Auto Shymkent '\n",
      " 'Allur Auto Taraz' 'Allur Auto Ust-Kamenogorsk ' 'Allur Auto Актобе'\n",
      " 'Allur Auto Костанай' 'Allur Auto Кызылорда' 'Almaty Motors Premium'\n",
      " 'Astana Motor Aktau' 'Astana Motors' 'Auto Trader ' 'Auto trader'\n",
      " 'AutoAmir ' 'AutoGood Караганда' 'Avenue Motors' 'Best-Avto'\n",
      " 'Blue Star of Kazakhstan' 'CBC Алматы' 'CBC Астана' 'Cadillac Almaty'\n",
      " 'Caspi Auto Атырау' 'Daewoo Bus Kazakhstan' 'Das Auto'\n",
      " 'Eurasia Motor Zhaik' 'Eurasia Motor Актау' 'Eurasia Motor Атырау'\n",
      " 'Eurasia Motor Павлодар' 'Eurasia Motor Шымкент' 'Eurasia Motors Uralsk'\n",
      " 'Ford Атырау' 'Gold Star Motors' 'HYUNDAI AUTO ASTANA'\n",
      " 'Hino Motors Kazakhstan' 'Hyundai Auto Almaty']\n"
     ]
    }
   ],
   "source": [
    "duplicates('dealer_center_name')"
   ]
  },
  {
   "cell_type": "markdown",
   "id": "ee978cce-4fc8-4eb1-8428-083c927af23b",
   "metadata": {},
   "source": [
    "Здесь всё кажется в порядке. Вижу лишь несколько шероховатостей:\n",
    "1. Убрать пробелы в конце названий у некоторых центров, например, в `'Allur Auto Petropavlovsk '`.\n",
    "2. Убрать последствия кодировки `\\xa0` в `'ALAN MOTORS\\xa0Усть-Каменогорск'`.\n",
    "3. Убрать $1$ дубль: `'Auto trader'` >> `'Auto Trader'`.\n",
    "\n",
    "Исправим всё это."
   ]
  },
  {
   "cell_type": "code",
   "execution_count": 126,
   "id": "0d17d2b3-cc74-4fe4-8b7f-ff82661b3315",
   "metadata": {},
   "outputs": [],
   "source": [
    "# уберём пробелы\n",
    "df['dealer_center_name'] = df['dealer_center_name'].str.strip(' ')\n",
    "\n",
    "# уберём \\xa0\n",
    "df['dealer_center_name'] = df['dealer_center_name'].str.replace('\\xa0', ' ')\n",
    "\n",
    "# уберём  1 дублик\n",
    "df['dealer_center_name'] = df['dealer_center_name'].replace('Auto trader', 'Auto Trader')"
   ]
  },
  {
   "cell_type": "markdown",
   "id": "db352c4f-1852-44b6-a598-9fba7161efe2",
   "metadata": {},
   "source": [
    "Как по мне, теперь колонка в полном порядке."
   ]
  },
  {
   "cell_type": "markdown",
   "id": "f14063d5-aa24-4870-bd70-4cd795aaccb9",
   "metadata": {},
   "source": [
    "<br>"
   ]
  },
  {
   "cell_type": "markdown",
   "id": "002368e9-8467-46ac-b8d2-3140a4b39e6c",
   "metadata": {},
   "source": [
    "##### `Тип покупателя`"
   ]
  },
  {
   "cell_type": "code",
   "execution_count": 127,
   "id": "d134db27-43a2-46ef-98c3-b076c457a43e",
   "metadata": {},
   "outputs": [
    {
     "name": "stdout",
     "output_type": "stream",
     "text": [
      "Физ. Лицо       24568\n",
      "Юр. Лицо         7873\n",
      "NaN              7047\n",
      "Корп. клиент      161\n",
      "ФизЛицо           132\n",
      "юридическое        97\n",
      "ЮрЛицо             30\n",
      "физ.лицо           29\n",
      "Юр.Лицо            25\n",
      "физическое          4\n",
      "Name: customer_type, dtype: int64\n",
      "\n",
      "Количество непропущенных значений: 32919\n",
      "Количество уникальных значений: 9\n",
      "\n",
      "Первые 50 уникальных значений в алфавитном порядке:\n",
      "['Корп. клиент' 'Физ. Лицо' 'ФизЛицо' 'Юр. Лицо' 'Юр.Лицо' 'ЮрЛицо'\n",
      " 'физ.лицо' 'физическое' 'юридическое' nan]\n"
     ]
    }
   ],
   "source": [
    "duplicates('customer_type')"
   ]
  },
  {
   "cell_type": "markdown",
   "id": "bb106853-4cde-4b00-b19d-20056167936e",
   "metadata": {},
   "source": [
    "Объединим всех в $2$ типа покупателей:\n",
    "* Физическое лицо\n",
    "* Юридическое лицо\n",
    "\n",
    "В соответствии с этими $2$ типами и нужно привести все значения."
   ]
  },
  {
   "cell_type": "code",
   "execution_count": 128,
   "id": "23681849-11e6-41ec-9d82-8d0ade789502",
   "metadata": {},
   "outputs": [],
   "source": [
    "df['customer_type'] = df['customer_type'].replace('Физ. Лицо', 'Физическое лицо')\\\n",
    "                                         .replace('ФизЛицо', 'Физическое лицо')\\\n",
    "                                         .replace('физ.лицо', 'Физическое лицо')\\\n",
    "                                         .replace('физическое', 'Физическое лицо')\\\n",
    "                                         .replace('Юр. Лицо', 'Юридическое лицо')\\\n",
    "                                         .replace('Юр.Лицо', 'Юридическое лицо')\\\n",
    "                                         .replace('ЮрЛицо', 'Юридическое лицо')\\\n",
    "                                         .replace('юридическое', 'Юридическое лицо')\\\n",
    "                                         .replace('Корп. клиент', 'Юридическое лицо')"
   ]
  },
  {
   "cell_type": "markdown",
   "id": "bc5ccdd4-5d4e-4b24-bade-072f99567eb3",
   "metadata": {},
   "source": [
    "Проверим."
   ]
  },
  {
   "cell_type": "code",
   "execution_count": 129,
   "id": "3acacf3e-59cc-4f58-a69c-780bd83682ba",
   "metadata": {},
   "outputs": [
    {
     "name": "stdout",
     "output_type": "stream",
     "text": [
      "Физическое лицо     24733\n",
      "Юридическое лицо     8186\n",
      "NaN                  7047\n",
      "Name: customer_type, dtype: int64\n",
      "\n",
      "Количество непропущенных значений: 32919\n",
      "Количество уникальных значений: 2\n",
      "\n",
      "Первые 50 уникальных значений в алфавитном порядке:\n",
      "['Физическое лицо' 'Юридическое лицо' nan]\n"
     ]
    }
   ],
   "source": [
    "duplicates('customer_type')"
   ]
  },
  {
   "cell_type": "markdown",
   "id": "895ac544-7ca3-4271-8d08-6da48bdaf319",
   "metadata": {},
   "source": [
    "Всё в порядке."
   ]
  },
  {
   "cell_type": "markdown",
   "id": "679ed78f-7c60-4799-b7ba-7ad1cd041d8f",
   "metadata": {},
   "source": [
    "<br>"
   ]
  },
  {
   "cell_type": "markdown",
   "id": "6cf285e4-7fa6-4d02-883a-9d7cdd8da4fb",
   "metadata": {},
   "source": [
    "##### `Форма оплаты`"
   ]
  },
  {
   "cell_type": "code",
   "execution_count": 130,
   "id": "2da7924d-efb5-4bb0-8535-2d36c7dc5799",
   "metadata": {},
   "outputs": [
    {
     "name": "stdout",
     "output_type": "stream",
     "text": [
      "NaN                                         25928\n",
      "кредит                                       6190\n",
      "безналичный                                  4276\n",
      "Безналичная                                  1335\n",
      "Собственные средства                          698\n",
      "наличный                                      599\n",
      "Наличная                                      499\n",
      "Безналичная                                   204\n",
      "Акция Собственные средства (Trade in 5%)       78\n",
      "нал                                            58\n",
      "Name: payment_form, dtype: int64\n",
      "\n",
      "Количество непропущенных значений: 14038\n",
      "Количество уникальных значений: 21\n",
      "\n",
      "Первые 50 уникальных значений в алфавитном порядке:\n",
      "['trade-in' 'Акция Собственные средства (Trade in 5%)' 'Без оплаты'\n",
      " 'Без.Наличный' 'Безналичная' 'Безналичная ' 'Наличная' 'Отсрочка платежа'\n",
      " 'Перечисление' 'Собственные средства' 'б/н' 'безналичный' 'безналичный '\n",
      " 'кредит' 'лизинг' 'нал' 'наличные' 'наличный' 'обмен+кредит' 'обмен+нал'\n",
      " 'перечислением' nan]\n"
     ]
    }
   ],
   "source": [
    "duplicates('payment_form')"
   ]
  },
  {
   "cell_type": "markdown",
   "id": "dbeb7e37-863e-4224-86ad-d2854b7c3247",
   "metadata": {},
   "source": [
    "<br>"
   ]
  },
  {
   "cell_type": "markdown",
   "id": "b03484c6-26a1-4128-b718-6eaa90815388",
   "metadata": {},
   "source": [
    "Глянем распределение форм платежей."
   ]
  },
  {
   "cell_type": "code",
   "execution_count": 131,
   "id": "52ff9a62-15c1-419a-8db9-185ea5dd8488",
   "metadata": {},
   "outputs": [
    {
     "data": {
      "text/plain": [
       "NaN                                         25928\n",
       "кредит                                       6190\n",
       "безналичный                                  4276\n",
       "Безналичная                                  1335\n",
       "Собственные средства                          698\n",
       "наличный                                      599\n",
       "Наличная                                      499\n",
       "Безналичная                                   204\n",
       "Акция Собственные средства (Trade in 5%)       78\n",
       "нал                                            58\n",
       "trade-in                                       35\n",
       "Перечисление                                   21\n",
       "Без оплаты                                      8\n",
       "б/н                                             8\n",
       "перечислением                                   6\n",
       "Отсрочка платежа                                6\n",
       "наличные                                        6\n",
       "Без.Наличный                                    5\n",
       "лизинг                                          2\n",
       "безналичный                                     2\n",
       "обмен+кредит                                    1\n",
       "обмен+нал                                       1\n",
       "Name: payment_form, dtype: int64"
      ]
     },
     "execution_count": 131,
     "metadata": {},
     "output_type": "execute_result"
    }
   ],
   "source": [
    "df['payment_form'].value_counts(dropna=False)"
   ]
  },
  {
   "cell_type": "markdown",
   "id": "8d6fd8d8-0e40-4dcc-9476-c523668acd61",
   "metadata": {},
   "source": [
    "Просто выделим $2$ категории:\n",
    "* В кредит\n",
    "* Своими деньгами"
   ]
  },
  {
   "cell_type": "markdown",
   "id": "de244aaf-b5cb-4702-a61d-64775d402dad",
   "metadata": {},
   "source": [
    "<br>"
   ]
  },
  {
   "cell_type": "markdown",
   "id": "3c10d78a-c1a3-45e9-a578-7242005a51a0",
   "metadata": {},
   "source": [
    "Не впервые решая эту задачу, создадим списки."
   ]
  },
  {
   "cell_type": "code",
   "execution_count": 132,
   "id": "59d7eaa0-0608-4fb7-9c46-20faee1c0384",
   "metadata": {},
   "outputs": [],
   "source": [
    "# в кредит\n",
    "credit = ['кредит', 'Отсрочка платежа', 'лизинг', 'обмен+кредит', 'trade-in']\n",
    "\n",
    "# наличный расчёт\n",
    "cash = ['Без.Наличный', 'Безналичная', 'Безналичная ', 'Перечисление', 'б/н', 'безналичный', 'безналичный ', 'перечислением',\\\n",
    "        'обмен+нал', 'нал', 'наличные', 'наличный', 'Наличная', 'Акция Собственные средства (Trade in 5%)', 'Собственные средства']\n",
    "\n",
    "# без оплаты\n",
    "other = ['Без оплаты']"
   ]
  },
  {
   "cell_type": "markdown",
   "id": "ef164ca6-6bf8-4138-9cc1-5e23b9497b5c",
   "metadata": {},
   "source": [
    "Заменим значения, устранив при этом дубликаты."
   ]
  },
  {
   "cell_type": "code",
   "execution_count": 133,
   "id": "e7c4a260-ae40-4ddd-85ca-7d7eae174b8a",
   "metadata": {},
   "outputs": [],
   "source": [
    "# словарь с заменами\n",
    "payment_mapping = {\n",
    "    **{value: 'В кредит' for value in credit},\n",
    "    **{value: 'Наличный расчёт' for value in cash},\n",
    "    **{value: np.NaN for value in other}\n",
    "}\n",
    "\n",
    "# переиначивание\n",
    "df['payment_form'] = df['payment_form'].replace(payment_mapping)"
   ]
  },
  {
   "cell_type": "markdown",
   "id": "2e7fd8dd-ef58-4828-a0e6-17d1867181f8",
   "metadata": {},
   "source": [
    "<br>"
   ]
  },
  {
   "cell_type": "markdown",
   "id": "7350a35a-7897-4ec6-bf8e-7b2dc68529c7",
   "metadata": {},
   "source": [
    "Проверим."
   ]
  },
  {
   "cell_type": "code",
   "execution_count": 134,
   "id": "fb5ed3f9-98f0-4526-aed0-30b1a5a8d57b",
   "metadata": {},
   "outputs": [
    {
     "name": "stdout",
     "output_type": "stream",
     "text": [
      "NaN                25936\n",
      "Наличный расчёт     7796\n",
      "В кредит            6234\n",
      "Name: payment_form, dtype: int64\n",
      "\n",
      "Количество непропущенных значений: 14030\n",
      "Количество уникальных значений: 2\n",
      "\n",
      "Первые 50 уникальных значений в алфавитном порядке:\n",
      "['В кредит' 'Наличный расчёт' nan]\n"
     ]
    }
   ],
   "source": [
    "duplicates('payment_form')"
   ]
  },
  {
   "cell_type": "markdown",
   "id": "92147625-1a5e-4f02-b6c2-8096cade8cc3",
   "metadata": {},
   "source": [
    "Разобрались."
   ]
  },
  {
   "cell_type": "markdown",
   "id": "dd58958d-5147-44ea-a770-e348dce438e4",
   "metadata": {},
   "source": [
    "<br>"
   ]
  },
  {
   "cell_type": "markdown",
   "id": "13bf2dc2-61d9-4152-a444-00ced3ad9579",
   "metadata": {},
   "source": [
    "##### `Количество авто в заказе`"
   ]
  },
  {
   "cell_type": "code",
   "execution_count": 135,
   "id": "ac7e74bc-2049-4619-9fcc-203ad4f57aa2",
   "metadata": {},
   "outputs": [
    {
     "name": "stdout",
     "output_type": "stream",
     "text": [
      "1     37203\n",
      "2      1017\n",
      "3       452\n",
      "4       282\n",
      "5       185\n",
      "6       120\n",
      "7       100\n",
      "8        79\n",
      "10       63\n",
      "9        61\n",
      "Name: quantity, dtype: Int64\n",
      "\n",
      "Количество непропущенных значений: 39960\n",
      "Количество уникальных значений: 56\n",
      "\n",
      "Первые 50 уникальных значений в алфавитном порядке:\n",
      "<IntegerArray>\n",
      "[-1,  1,  2,  3,  4,  5,  6,  7,  8,  9, 10, 11, 12, 13, 14, 15, 16, 17, 18,\n",
      " 19, 20, 21, 22, 23, 24, 25, 26, 27, 28, 29, 30, 31, 32, 33, 34, 35, 36, 37,\n",
      " 38, 40, 41, 42, 43, 46, 47, 50, 51, 54, 60, 62]\n",
      "Length: 50, dtype: Int64\n"
     ]
    }
   ],
   "source": [
    "duplicates('quantity')"
   ]
  },
  {
   "cell_type": "markdown",
   "id": "486b9bbb-0158-488b-84f9-83e94ec64edf",
   "metadata": {},
   "source": [
    "Среди всех значений выбивается только одно: `-1`. Его нужно заменить просто на `1`.\\\n",
    "Пусть не смутит большое количество купленых автомобилей за раз.\\\n",
    "Потому что если \"в заказе\" больше двух автомобилей, то это явно юридическое лицо, и оно покупает авто с коммерческими целями."
   ]
  },
  {
   "cell_type": "code",
   "execution_count": 136,
   "id": "46dd3cfc-53a6-49ab-bc27-ae2f7134265b",
   "metadata": {},
   "outputs": [],
   "source": [
    "# замена -1 на 1\n",
    "df['quantity'] = df['quantity'].replace(-1, 1)"
   ]
  },
  {
   "cell_type": "markdown",
   "id": "df2d84d0-f93f-4da0-b023-1a7de8a23b45",
   "metadata": {},
   "source": [
    "Поехали дальше."
   ]
  },
  {
   "cell_type": "markdown",
   "id": "c3174bae-4477-45f0-842d-b04671f7649b",
   "metadata": {},
   "source": [
    "<br>"
   ]
  },
  {
   "cell_type": "markdown",
   "id": "ec87d176-dd33-4cbe-88c3-352fc0629c02",
   "metadata": {},
   "source": [
    "`Цена авто в $`"
   ]
  },
  {
   "cell_type": "code",
   "execution_count": 137,
   "id": "3dd71c2a-5523-490e-8bbc-0738a835b3ab",
   "metadata": {},
   "outputs": [
    {
     "name": "stdout",
     "output_type": "stream",
     "text": [
      "9885     559\n",
      "11600    531\n",
      "13800    428\n",
      "12820    412\n",
      "9894     402\n",
      "7100     389\n",
      "9969     315\n",
      "11300    230\n",
      "32753    222\n",
      "9000     219\n",
      "Name: price_usd, dtype: int64\n",
      "\n",
      "Количество непропущенных значений: 39966\n",
      "Количество уникальных значений: 3382\n",
      "\n",
      "Первые 50 уникальных значений в алфавитном порядке:\n",
      "[ 7100  7300  7363  7426  7460  7500  7509  7542  7560  7904  8027  8348\n",
      "  8405  8498  8500  8684  8700  8781  8803  8809  8962  9000  9048  9112\n",
      "  9117  9159  9260  9307  9455  9500  9519  9600  9612  9700  9773  9885\n",
      "  9894  9911  9928  9969 10015 10068 10071 10080 10115 10117 10119 10121\n",
      " 10122 10223]\n"
     ]
    }
   ],
   "source": [
    "duplicates('price_usd')"
   ]
  },
  {
   "cell_type": "markdown",
   "id": "4523c34a-a09b-4732-994e-fe9716a61e51",
   "metadata": {},
   "source": [
    "Здесь нечего смотреть."
   ]
  },
  {
   "cell_type": "markdown",
   "id": "87aa3258-7571-4fbd-a420-95650803a718",
   "metadata": {},
   "source": [
    "<br>"
   ]
  },
  {
   "cell_type": "markdown",
   "id": "f923fcb7-d64f-407d-9831-4e2b82d0dcbd",
   "metadata": {},
   "source": [
    "##### `Цена заказа в $`"
   ]
  },
  {
   "cell_type": "code",
   "execution_count": 138,
   "id": "355dd1a3-0b8f-4505-8174-29545dc16378",
   "metadata": {},
   "outputs": [
    {
     "name": "stdout",
     "output_type": "stream",
     "text": [
      "9885     559\n",
      "12820    412\n",
      "9894     402\n",
      "9969     315\n",
      "13800    230\n",
      "32753    222\n",
      "41664    214\n",
      "33342    210\n",
      "10015    208\n",
      "31291    181\n",
      "Name: sale_usd, dtype: int64\n",
      "\n",
      "Количество непропущенных значений: 39966\n",
      "Количество уникальных значений: 4054\n",
      "\n",
      "Первые 50 уникальных значений в алфавитном порядке:\n",
      "[-35588      0   7100   7300   7363   7426   7460   7500   7509   7542\n",
      "   7560   7904   8027   8348   8405   8498   8500   8684   8700   8781\n",
      "   8803   8809   8962   9000   9048   9112   9117   9159   9260   9307\n",
      "   9455   9500   9519   9600   9612   9700   9773   9885   9894   9911\n",
      "   9928   9969  10015  10068  10071  10080  10115  10117  10119  10121]\n"
     ]
    }
   ],
   "source": [
    "duplicates('sale_usd')"
   ]
  },
  {
   "cell_type": "markdown",
   "id": "b04b8743-2c87-4833-a44a-6831db28e70e",
   "metadata": {},
   "source": [
    "<br>"
   ]
  },
  {
   "cell_type": "markdown",
   "id": "f54670f6-d648-4db8-813f-a1458dafc2c0",
   "metadata": {},
   "source": [
    "Из этого списка выбиваются следующие значения."
   ]
  },
  {
   "cell_type": "code",
   "execution_count": 139,
   "id": "78244f4e-9856-4f8b-ba4e-5a65376c00b9",
   "metadata": {},
   "outputs": [
    {
     "data": {
      "text/html": [
       "<div>\n",
       "<style scoped>\n",
       "    .dataframe tbody tr th:only-of-type {\n",
       "        vertical-align: middle;\n",
       "    }\n",
       "\n",
       "    .dataframe tbody tr th {\n",
       "        vertical-align: top;\n",
       "    }\n",
       "\n",
       "    .dataframe thead th {\n",
       "        text-align: right;\n",
       "    }\n",
       "</style>\n",
       "<table border=\"1\" class=\"dataframe\">\n",
       "  <thead>\n",
       "    <tr style=\"text-align: right;\">\n",
       "      <th></th>\n",
       "      <th>id</th>\n",
       "      <th>purchase_date</th>\n",
       "      <th>company</th>\n",
       "      <th>car_type</th>\n",
       "      <th>brand</th>\n",
       "      <th>model</th>\n",
       "      <th>car_classification</th>\n",
       "      <th>manufacturing_year</th>\n",
       "      <th>assembly_type</th>\n",
       "      <th>manufacturing_country</th>\n",
       "      <th>fuel_type</th>\n",
       "      <th>engine_displacement_l</th>\n",
       "      <th>transmission_type</th>\n",
       "      <th>drive_type</th>\n",
       "      <th>region</th>\n",
       "      <th>city</th>\n",
       "      <th>dealer_center_name</th>\n",
       "      <th>customer_type</th>\n",
       "      <th>payment_form</th>\n",
       "      <th>quantity</th>\n",
       "      <th>price_usd</th>\n",
       "      <th>sale_usd</th>\n",
       "    </tr>\n",
       "  </thead>\n",
       "  <tbody>\n",
       "    <tr>\n",
       "      <th>31874</th>\n",
       "      <td>31874</td>\n",
       "      <td>2019-08-01</td>\n",
       "      <td>БИПЭК АВТО</td>\n",
       "      <td>Внедорожники</td>\n",
       "      <td>Kia</td>\n",
       "      <td>Sportage</td>\n",
       "      <td>Компактные SUV</td>\n",
       "      <td>2019</td>\n",
       "      <td>Локальное производство</td>\n",
       "      <td>Казахстан</td>\n",
       "      <td>Бензин</td>\n",
       "      <td>2.0</td>\n",
       "      <td>AT</td>\n",
       "      <td>4WD</td>\n",
       "      <td>Карагандинская область</td>\n",
       "      <td>Караганда</td>\n",
       "      <td>БИПЭК АВТО Караганда</td>\n",
       "      <td>NaN</td>\n",
       "      <td>NaN</td>\n",
       "      <td>&lt;NA&gt;</td>\n",
       "      <td>20700</td>\n",
       "      <td>0</td>\n",
       "    </tr>\n",
       "    <tr>\n",
       "      <th>31900</th>\n",
       "      <td>31900</td>\n",
       "      <td>2019-08-01</td>\n",
       "      <td>БИПЭК АВТО</td>\n",
       "      <td>Легковые автомобили</td>\n",
       "      <td>Lada</td>\n",
       "      <td>Granta</td>\n",
       "      <td>B класс</td>\n",
       "      <td>2019</td>\n",
       "      <td>Локальное производство</td>\n",
       "      <td>Казахстан</td>\n",
       "      <td>Бензин</td>\n",
       "      <td>1.6</td>\n",
       "      <td>AMT</td>\n",
       "      <td>FWD</td>\n",
       "      <td>г.Алматы</td>\n",
       "      <td>Алматы</td>\n",
       "      <td>БИПЭК АВТО Алматы</td>\n",
       "      <td>NaN</td>\n",
       "      <td>NaN</td>\n",
       "      <td>&lt;NA&gt;</td>\n",
       "      <td>7100</td>\n",
       "      <td>0</td>\n",
       "    </tr>\n",
       "    <tr>\n",
       "      <th>32068</th>\n",
       "      <td>32068</td>\n",
       "      <td>2019-08-01</td>\n",
       "      <td>БИПЭК АВТО</td>\n",
       "      <td>Легковые автомобили</td>\n",
       "      <td>Lada</td>\n",
       "      <td>XRAY</td>\n",
       "      <td>B класс</td>\n",
       "      <td>2018</td>\n",
       "      <td>Локальное производство</td>\n",
       "      <td>Казахстан</td>\n",
       "      <td>Бензин</td>\n",
       "      <td>1.6</td>\n",
       "      <td>MT</td>\n",
       "      <td>FWD</td>\n",
       "      <td>Павлодарская область</td>\n",
       "      <td>Экибастуз</td>\n",
       "      <td>БИПЭК АВТО Экибастуз</td>\n",
       "      <td>NaN</td>\n",
       "      <td>NaN</td>\n",
       "      <td>&lt;NA&gt;</td>\n",
       "      <td>13800</td>\n",
       "      <td>0</td>\n",
       "    </tr>\n",
       "    <tr>\n",
       "      <th>33150</th>\n",
       "      <td>33150</td>\n",
       "      <td>2019-08-01</td>\n",
       "      <td>БИПЭК АВТО</td>\n",
       "      <td>Внедорожники</td>\n",
       "      <td>Skoda</td>\n",
       "      <td>Kodiaq</td>\n",
       "      <td>Полноразмерные SUV</td>\n",
       "      <td>2019</td>\n",
       "      <td>Локальное производство</td>\n",
       "      <td>Казахстан</td>\n",
       "      <td>Бензин</td>\n",
       "      <td>2.0</td>\n",
       "      <td>AMT</td>\n",
       "      <td>4WD</td>\n",
       "      <td>г.Нур-Султан</td>\n",
       "      <td>Нур-Султан</td>\n",
       "      <td>БИПЭК АВТО Астана</td>\n",
       "      <td>NaN</td>\n",
       "      <td>NaN</td>\n",
       "      <td>&lt;NA&gt;</td>\n",
       "      <td>40000</td>\n",
       "      <td>0</td>\n",
       "    </tr>\n",
       "    <tr>\n",
       "      <th>33177</th>\n",
       "      <td>33177</td>\n",
       "      <td>2019-08-01</td>\n",
       "      <td>БИПЭК АВТО</td>\n",
       "      <td>Легковые автомобили</td>\n",
       "      <td>Skoda</td>\n",
       "      <td>Superb</td>\n",
       "      <td>D класс</td>\n",
       "      <td>2019</td>\n",
       "      <td>Локальное производство</td>\n",
       "      <td>Казахстан</td>\n",
       "      <td>Бензин</td>\n",
       "      <td>2.0</td>\n",
       "      <td>AMT</td>\n",
       "      <td>4WD</td>\n",
       "      <td>Жамбылская область</td>\n",
       "      <td>Тараз</td>\n",
       "      <td>БИПЭК АВТО Тараз</td>\n",
       "      <td>NaN</td>\n",
       "      <td>NaN</td>\n",
       "      <td>1</td>\n",
       "      <td>35588</td>\n",
       "      <td>-35588</td>\n",
       "    </tr>\n",
       "    <tr>\n",
       "      <th>34568</th>\n",
       "      <td>34568</td>\n",
       "      <td>2019-08-01</td>\n",
       "      <td>БИПЭК АВТО</td>\n",
       "      <td>Коммерческие автомобили</td>\n",
       "      <td>UAZ</td>\n",
       "      <td>3909</td>\n",
       "      <td>Развозные автомобили</td>\n",
       "      <td>2018</td>\n",
       "      <td>Локальное производство</td>\n",
       "      <td>Казахстан</td>\n",
       "      <td>Бензин</td>\n",
       "      <td>2.7</td>\n",
       "      <td>MT</td>\n",
       "      <td>4WD</td>\n",
       "      <td>г.Алматы</td>\n",
       "      <td>Алматы</td>\n",
       "      <td>БИПЭК АВТО Алматы</td>\n",
       "      <td>NaN</td>\n",
       "      <td>NaN</td>\n",
       "      <td>&lt;NA&gt;</td>\n",
       "      <td>11200</td>\n",
       "      <td>0</td>\n",
       "    </tr>\n",
       "    <tr>\n",
       "      <th>34593</th>\n",
       "      <td>34593</td>\n",
       "      <td>2019-08-01</td>\n",
       "      <td>БИПЭК АВТО</td>\n",
       "      <td>Внедорожники</td>\n",
       "      <td>UAZ</td>\n",
       "      <td>Patriot</td>\n",
       "      <td>Среднеразмерные SUV</td>\n",
       "      <td>2018</td>\n",
       "      <td>Локальное производство</td>\n",
       "      <td>Казахстан</td>\n",
       "      <td>Бензин</td>\n",
       "      <td>2.7</td>\n",
       "      <td>MT</td>\n",
       "      <td>4WD</td>\n",
       "      <td>Восточно-Казахстанская область</td>\n",
       "      <td>Семей</td>\n",
       "      <td>БИПЭК АВТО Семей</td>\n",
       "      <td>NaN</td>\n",
       "      <td>NaN</td>\n",
       "      <td>&lt;NA&gt;</td>\n",
       "      <td>13800</td>\n",
       "      <td>0</td>\n",
       "    </tr>\n",
       "  </tbody>\n",
       "</table>\n",
       "</div>"
      ],
      "text/plain": [
       "          id purchase_date     company                 car_type  brand  \\\n",
       "31874  31874    2019-08-01  БИПЭК АВТО             Внедорожники    Kia   \n",
       "31900  31900    2019-08-01  БИПЭК АВТО      Легковые автомобили   Lada   \n",
       "32068  32068    2019-08-01  БИПЭК АВТО      Легковые автомобили   Lada   \n",
       "33150  33150    2019-08-01  БИПЭК АВТО             Внедорожники  Skoda   \n",
       "33177  33177    2019-08-01  БИПЭК АВТО      Легковые автомобили  Skoda   \n",
       "34568  34568    2019-08-01  БИПЭК АВТО  Коммерческие автомобили    UAZ   \n",
       "34593  34593    2019-08-01  БИПЭК АВТО             Внедорожники    UAZ   \n",
       "\n",
       "          model    car_classification  manufacturing_year  \\\n",
       "31874  Sportage        Компактные SUV                2019   \n",
       "31900    Granta               B класс                2019   \n",
       "32068      XRAY               B класс                2018   \n",
       "33150    Kodiaq    Полноразмерные SUV                2019   \n",
       "33177    Superb               D класс                2019   \n",
       "34568      3909  Развозные автомобили                2018   \n",
       "34593   Patriot   Среднеразмерные SUV                2018   \n",
       "\n",
       "                assembly_type manufacturing_country fuel_type  \\\n",
       "31874  Локальное производство             Казахстан    Бензин   \n",
       "31900  Локальное производство             Казахстан    Бензин   \n",
       "32068  Локальное производство             Казахстан    Бензин   \n",
       "33150  Локальное производство             Казахстан    Бензин   \n",
       "33177  Локальное производство             Казахстан    Бензин   \n",
       "34568  Локальное производство             Казахстан    Бензин   \n",
       "34593  Локальное производство             Казахстан    Бензин   \n",
       "\n",
       "       engine_displacement_l transmission_type drive_type  \\\n",
       "31874                    2.0                AT        4WD   \n",
       "31900                    1.6               AMT        FWD   \n",
       "32068                    1.6                MT        FWD   \n",
       "33150                    2.0               AMT        4WD   \n",
       "33177                    2.0               AMT        4WD   \n",
       "34568                    2.7                MT        4WD   \n",
       "34593                    2.7                MT        4WD   \n",
       "\n",
       "                               region        city    dealer_center_name  \\\n",
       "31874          Карагандинская область   Караганда  БИПЭК АВТО Караганда   \n",
       "31900                        г.Алматы      Алматы     БИПЭК АВТО Алматы   \n",
       "32068            Павлодарская область   Экибастуз  БИПЭК АВТО Экибастуз   \n",
       "33150                    г.Нур-Султан  Нур-Султан     БИПЭК АВТО Астана   \n",
       "33177              Жамбылская область       Тараз      БИПЭК АВТО Тараз   \n",
       "34568                        г.Алматы      Алматы     БИПЭК АВТО Алматы   \n",
       "34593  Восточно-Казахстанская область       Семей      БИПЭК АВТО Семей   \n",
       "\n",
       "      customer_type payment_form  quantity  price_usd  sale_usd  \n",
       "31874           NaN          NaN      <NA>      20700         0  \n",
       "31900           NaN          NaN      <NA>       7100         0  \n",
       "32068           NaN          NaN      <NA>      13800         0  \n",
       "33150           NaN          NaN      <NA>      40000         0  \n",
       "33177           NaN          NaN         1      35588    -35588  \n",
       "34568           NaN          NaN      <NA>      11200         0  \n",
       "34593           NaN          NaN      <NA>      13800         0  "
      ]
     },
     "execution_count": 139,
     "metadata": {},
     "output_type": "execute_result"
    }
   ],
   "source": [
    "df[(df['sale_usd'] == 0) | (df['sale_usd'] == -35588)]"
   ]
  },
  {
   "cell_type": "markdown",
   "id": "caced982-29ec-4a08-8642-c17f6035d605",
   "metadata": {},
   "source": [
    "Думаю, стоит просто присвоить им значения из колонки `price_usd`."
   ]
  },
  {
   "cell_type": "code",
   "execution_count": 140,
   "id": "46f4e548-bd15-4d8b-bfa0-30ff3b80ad0c",
   "metadata": {},
   "outputs": [],
   "source": [
    "df.loc[(df['sale_usd'] == 0) | (df['sale_usd'] == -35588), 'sale_usd'] = df[(df['sale_usd'] == 0) | (df['sale_usd'] == -35588)]['price_usd']"
   ]
  },
  {
   "cell_type": "markdown",
   "id": "5ceaebe0-c383-450b-bbb0-b914e9e739de",
   "metadata": {},
   "source": [
    "Вероятно, так случилось, потому что в `quantity` есть пропуски.\\\n",
    "Но с этой колонкой закончили."
   ]
  },
  {
   "cell_type": "markdown",
   "id": "e6777ee1-0502-4932-aabb-8f83beeec85e",
   "metadata": {},
   "source": [
    "<br>"
   ]
  },
  {
   "cell_type": "markdown",
   "id": "45b429fe-15f6-4386-9447-657819bd6b57",
   "metadata": {},
   "source": [
    "**С неявными дубликатами и аномальными значениями разобрались.**"
   ]
  },
  {
   "cell_type": "markdown",
   "id": "7b40ac13-5908-4283-be6c-6c543a86e36c",
   "metadata": {},
   "source": [
    "<br>"
   ]
  },
  {
   "cell_type": "markdown",
   "id": "89eda6e2-8e6e-4d5e-85b4-a3fc409aa01e",
   "metadata": {},
   "source": [
    "### Пропущенные данные"
   ]
  },
  {
   "cell_type": "markdown",
   "id": "596a3cbb-8924-47f9-8c24-1121ed566536",
   "metadata": {},
   "source": [
    "Разберёмся подробнее с пропусками."
   ]
  },
  {
   "cell_type": "markdown",
   "id": "1d95476d-5bee-48a3-ad25-70b70b7ec2d6",
   "metadata": {},
   "source": [
    "Выведем количество пропусков и их процент."
   ]
  },
  {
   "cell_type": "code",
   "execution_count": 141,
   "id": "fc8443ee-6599-4570-bd9a-ccf277a44d7f",
   "metadata": {},
   "outputs": [
    {
     "data": {
      "text/plain": [
       "payment_form             25936\n",
       "customer_type             7047\n",
       "drive_type                4411\n",
       "engine_displacement_l     4275\n",
       "transmission_type         3305\n",
       "fuel_type                 3140\n",
       "manufacturing_year         501\n",
       "quantity                     6\n",
       "price_usd                    0\n",
       "dealer_center_name           0\n",
       "city                         0\n",
       "region                       0\n",
       "id                           0\n",
       "purchase_date                0\n",
       "manufacturing_country        0\n",
       "assembly_type                0\n",
       "car_classification           0\n",
       "model                        0\n",
       "brand                        0\n",
       "car_type                     0\n",
       "company                      0\n",
       "sale_usd                     0\n",
       "dtype: int64"
      ]
     },
     "execution_count": 141,
     "metadata": {},
     "output_type": "execute_result"
    }
   ],
   "source": [
    "# количество пропусков\n",
    "df.isna()\\\n",
    "  .sum()\\\n",
    "  .sort_values(ascending=False)"
   ]
  },
  {
   "cell_type": "code",
   "execution_count": 142,
   "id": "be7af376-2c57-4a2e-8991-dc483f0c1373",
   "metadata": {},
   "outputs": [
    {
     "data": {
      "text/plain": [
       "payment_form             64.9\n",
       "customer_type            17.6\n",
       "drive_type               11.0\n",
       "engine_displacement_l    10.7\n",
       "transmission_type         8.3\n",
       "fuel_type                 7.9\n",
       "manufacturing_year        1.3\n",
       "price_usd                 0.0\n",
       "quantity                  0.0\n",
       "dealer_center_name        0.0\n",
       "city                      0.0\n",
       "region                    0.0\n",
       "id                        0.0\n",
       "purchase_date             0.0\n",
       "manufacturing_country     0.0\n",
       "assembly_type             0.0\n",
       "car_classification        0.0\n",
       "model                     0.0\n",
       "brand                     0.0\n",
       "car_type                  0.0\n",
       "company                   0.0\n",
       "sale_usd                  0.0\n",
       "dtype: float64"
      ]
     },
     "execution_count": 142,
     "metadata": {},
     "output_type": "execute_result"
    }
   ],
   "source": [
    "# процент пропусков\n",
    "round(df.isna()\\\n",
    "        .mean() * 100, 1)\\\n",
    "        .sort_values(ascending=False)"
   ]
  },
  {
   "cell_type": "markdown",
   "id": "7c6f93a5-b828-4c8f-afc7-91718e44ad76",
   "metadata": {},
   "source": [
    "Много пропусков в колонке `payment_form`, $64.9$%, когда-то раньше мы это отмечали.\n",
    "\n",
    "Вот список колонок, где есть пропуски."
   ]
  },
  {
   "cell_type": "code",
   "execution_count": 143,
   "id": "97f2b7ac-9c3d-4b86-a104-1afa72488bd7",
   "metadata": {},
   "outputs": [
    {
     "data": {
      "text/plain": [
       "Index(['manufacturing_year', 'fuel_type', 'engine_displacement_l',\n",
       "       'transmission_type', 'drive_type', 'customer_type', 'payment_form',\n",
       "       'quantity'],\n",
       "      dtype='object')"
      ]
     },
     "execution_count": 143,
     "metadata": {},
     "output_type": "execute_result"
    }
   ],
   "source": [
    "df.columns[df.isna().any()]"
   ]
  },
  {
   "cell_type": "markdown",
   "id": "9f470274-aaf7-48cd-9a6e-b51df6afbbab",
   "metadata": {},
   "source": [
    "<br>"
   ]
  },
  {
   "cell_type": "markdown",
   "id": "46f1923c-57eb-4873-acef-8f0c8c4d2f03",
   "metadata": {},
   "source": [
    "**Сделаем функцию, которая будет помогать анализировать пропуски.**"
   ]
  },
  {
   "cell_type": "code",
   "execution_count": 144,
   "id": "35d861e3-c31a-4039-8968-a72a3c3ee59a",
   "metadata": {},
   "outputs": [],
   "source": [
    "def null_analysis(df, column):\n",
    "    # копия главного датафрейма\n",
    "    nan_df = df.copy()\n",
    "    \n",
    "    # приведение к строковому типу данных, это нужно, чтобы пропуски записались как отдельное значение\n",
    "    nan_df[column] = nan_df[column].astype('str')\n",
    "\n",
    "    # сводная таблица\n",
    "    nan_df = nan_df.pivot_table(index=['brand', 'model'], columns=column, aggfunc='size', fill_value=0).reset_index()\n",
    "\n",
    "    # переименование колонки\n",
    "    try:\n",
    "        nan_df = nan_df.rename(columns={'nan': 'null_cnt'})\n",
    "    except:\n",
    "        pass\n",
    "    \n",
    "    try:\n",
    "        nan_df = nan_df.rename(columns={'<NA>': 'null_cnt'})\n",
    "    except:\n",
    "        pass\n",
    "    \n",
    "    # выбор строк, где есть пропуски; сортировка по колонкам\n",
    "    nan_df = nan_df[nan_df['null_cnt'] != 0].sort_values(by=['brand', 'null_cnt'], ascending=[True, False])\n",
    "    \n",
    "    # переместить 'null_cnt' в конец сводной таблицы: циклом берутся все колонки, кроме 'null_cnt', а затем к ним конкатенируется 'null_cnt'\n",
    "    nan_df = nan_df[[col for col in nan_df.columns if col != 'null_cnt'] + ['null_cnt']]\n",
    "\n",
    "    # переименование индекса\n",
    "    nan_df = nan_df.rename_axis(columns='index')\n",
    "\n",
    "    # преобразование числовых колонок в числовой тип\n",
    "    nan_df.iloc[:, 2:] = nan_df.iloc[:, 2:].astype('Int64')\n",
    "\n",
    "    # количество наблюдений по модели\n",
    "    nan_df['obs_cnt'] = nan_df.iloc[:, 2:].sum(axis=1).astype('Int64')\n",
    "\n",
    "    # процент пропусков по модели\n",
    "    nan_df['null_perc'] = nan_df['null_cnt'] / nan_df['obs_cnt'] * 100\n",
    "\n",
    "    # преобразование колонки с процентом\n",
    "    nan_df['null_perc'] = round(nan_df['null_perc'].astype(float), 1)\n",
    "\n",
    "    # какой процент занимает модальное значение от всех непропущенных значений; метод apply применяет lambda функцию к каждой строке (axis=1)\n",
    "    nan_df['mode_perc'] = nan_df.apply(lambda row: round(row.iloc[2:-3].max() / (row['obs_cnt'] - row['null_cnt']) * 100, 1) if (row['obs_cnt'] - row['null_cnt']) != 0 and row.iloc[2:-3].max() != 0 else 0, axis=1)\n",
    "\n",
    "    # сверка пропусков и наблюдений сводной таблицы с данными датафрейма\n",
    "    result_str = ''\n",
    "    if nan_df['null_cnt'].sum() == df[column].isna().sum():\n",
    "        result_str += f'Количество пропущенных значений в сводной таблице и основном датафрейме сходится.\\n'\n",
    "        result_str += f'В сводной: {nan_df[\"null_cnt\"].sum()} пропусков. В датафрейме: {df[column].isna().sum()} пропусков.\\n\\n'\n",
    "    else:\n",
    "        result_str += 'Количество пропущенных значений в сводной таблице и основном датафрейме не сходится.\\n'\n",
    "        result_str += f'В сводной: {nan_df[\"null_cnt\"].sum()} пропусков. В датафрейме: {df[column].isna().sum()} пропусков.\\n\\n'\n",
    "\n",
    "    if nan_df['obs_cnt'].sum() == len(df[df['model'].isin(df[df[column].isna()]['model'].unique())]):\n",
    "        result_str += 'Количество наблюдений в сводной таблице и основном датафрейме сходится.\\n'\n",
    "        result_str += f'В сводной: {nan_df[\"obs_cnt\"].sum()} наблюдений. В датафрейме: {len(df[df[\"model\"].isin(df[df[column].isna()][\"model\"].unique())])} наблюдений.\\n\\n'\n",
    "    else: \n",
    "        result_str += 'Количество наблюдений в сводной таблице и основном датафрейме не сходится.\\n'\n",
    "        result_str += f'В сводной: {nan_df[\"obs_cnt\"].sum()} наблюдений. В датафрейме: {len(df[df[\"model\"].isin(df[df[column].isna()][\"model\"].unique())])} наблюдений.\\n\\n'\n",
    "    \n",
    "    return nan_df, result_str"
   ]
  },
  {
   "cell_type": "markdown",
   "id": "256adf5d-c9a2-48a5-b746-7299d282b314",
   "metadata": {},
   "source": [
    "<br>"
   ]
  },
  {
   "cell_type": "markdown",
   "id": "faf2ee4d-3712-4c9a-b700-99f3bb71ef68",
   "metadata": {},
   "source": [
    "##### `Год производства`"
   ]
  },
  {
   "cell_type": "code",
   "execution_count": 145,
   "id": "620ab983-1cea-430f-ae4d-4474cad5acfe",
   "metadata": {},
   "outputs": [
    {
     "data": {
      "text/html": [
       "<div>\n",
       "<style scoped>\n",
       "    .dataframe tbody tr th:only-of-type {\n",
       "        vertical-align: middle;\n",
       "    }\n",
       "\n",
       "    .dataframe tbody tr th {\n",
       "        vertical-align: top;\n",
       "    }\n",
       "\n",
       "    .dataframe thead th {\n",
       "        text-align: right;\n",
       "    }\n",
       "</style>\n",
       "<table border=\"1\" class=\"dataframe\">\n",
       "  <thead>\n",
       "    <tr style=\"text-align: right;\">\n",
       "      <th></th>\n",
       "      <th>id</th>\n",
       "      <th>purchase_date</th>\n",
       "      <th>company</th>\n",
       "      <th>car_type</th>\n",
       "      <th>brand</th>\n",
       "      <th>model</th>\n",
       "      <th>car_classification</th>\n",
       "      <th>manufacturing_year</th>\n",
       "      <th>assembly_type</th>\n",
       "      <th>manufacturing_country</th>\n",
       "      <th>fuel_type</th>\n",
       "      <th>engine_displacement_l</th>\n",
       "      <th>transmission_type</th>\n",
       "      <th>drive_type</th>\n",
       "      <th>region</th>\n",
       "      <th>city</th>\n",
       "      <th>dealer_center_name</th>\n",
       "      <th>customer_type</th>\n",
       "      <th>payment_form</th>\n",
       "      <th>quantity</th>\n",
       "      <th>price_usd</th>\n",
       "      <th>sale_usd</th>\n",
       "    </tr>\n",
       "  </thead>\n",
       "  <tbody>\n",
       "    <tr>\n",
       "      <th>5048</th>\n",
       "      <td>5048</td>\n",
       "      <td>2019-02-01</td>\n",
       "      <td>Автомир-Центр</td>\n",
       "      <td>Легковые автомобили</td>\n",
       "      <td>Mazda</td>\n",
       "      <td>3</td>\n",
       "      <td>C класс</td>\n",
       "      <td>&lt;NA&gt;</td>\n",
       "      <td>Импорт</td>\n",
       "      <td>Россия</td>\n",
       "      <td>NaN</td>\n",
       "      <td>NaN</td>\n",
       "      <td>NaN</td>\n",
       "      <td>NaN</td>\n",
       "      <td>Карагандинская область</td>\n",
       "      <td>Караганда</td>\n",
       "      <td>Автомир-Центр Караганда</td>\n",
       "      <td>NaN</td>\n",
       "      <td>Наличный расчёт</td>\n",
       "      <td>1</td>\n",
       "      <td>21547</td>\n",
       "      <td>21547</td>\n",
       "    </tr>\n",
       "    <tr>\n",
       "      <th>5049</th>\n",
       "      <td>5049</td>\n",
       "      <td>2019-02-01</td>\n",
       "      <td>Автомир-Центр</td>\n",
       "      <td>Легковые автомобили</td>\n",
       "      <td>Mazda</td>\n",
       "      <td>3</td>\n",
       "      <td>C класс</td>\n",
       "      <td>&lt;NA&gt;</td>\n",
       "      <td>Импорт</td>\n",
       "      <td>Россия</td>\n",
       "      <td>NaN</td>\n",
       "      <td>NaN</td>\n",
       "      <td>NaN</td>\n",
       "      <td>NaN</td>\n",
       "      <td>г.Нур-Султан</td>\n",
       "      <td>Нур-Султан</td>\n",
       "      <td>Автомир-Центр Астана</td>\n",
       "      <td>NaN</td>\n",
       "      <td>Наличный расчёт</td>\n",
       "      <td>1</td>\n",
       "      <td>21547</td>\n",
       "      <td>21547</td>\n",
       "    </tr>\n",
       "    <tr>\n",
       "      <th>5050</th>\n",
       "      <td>5050</td>\n",
       "      <td>2019-02-01</td>\n",
       "      <td>Автомир-Центр</td>\n",
       "      <td>Легковые автомобили</td>\n",
       "      <td>Mazda</td>\n",
       "      <td>6</td>\n",
       "      <td>D класс</td>\n",
       "      <td>&lt;NA&gt;</td>\n",
       "      <td>Импорт</td>\n",
       "      <td>Россия</td>\n",
       "      <td>NaN</td>\n",
       "      <td>NaN</td>\n",
       "      <td>NaN</td>\n",
       "      <td>NaN</td>\n",
       "      <td>г.Нур-Султан</td>\n",
       "      <td>Нур-Султан</td>\n",
       "      <td>Автомир-Центр Астана</td>\n",
       "      <td>NaN</td>\n",
       "      <td>В кредит</td>\n",
       "      <td>1</td>\n",
       "      <td>24998</td>\n",
       "      <td>24998</td>\n",
       "    </tr>\n",
       "    <tr>\n",
       "      <th>5051</th>\n",
       "      <td>5051</td>\n",
       "      <td>2019-02-01</td>\n",
       "      <td>Автомир-Центр</td>\n",
       "      <td>Внедорожники</td>\n",
       "      <td>Mazda</td>\n",
       "      <td>CX-5</td>\n",
       "      <td>Компактные SUV</td>\n",
       "      <td>&lt;NA&gt;</td>\n",
       "      <td>Импорт</td>\n",
       "      <td>Россия</td>\n",
       "      <td>NaN</td>\n",
       "      <td>NaN</td>\n",
       "      <td>NaN</td>\n",
       "      <td>NaN</td>\n",
       "      <td>Карагандинская область</td>\n",
       "      <td>Караганда</td>\n",
       "      <td>Автомир-Центр Караганда</td>\n",
       "      <td>NaN</td>\n",
       "      <td>В кредит</td>\n",
       "      <td>3</td>\n",
       "      <td>26684</td>\n",
       "      <td>80053</td>\n",
       "    </tr>\n",
       "    <tr>\n",
       "      <th>5052</th>\n",
       "      <td>5052</td>\n",
       "      <td>2019-02-01</td>\n",
       "      <td>Автомир-Центр</td>\n",
       "      <td>Внедорожники</td>\n",
       "      <td>Mazda</td>\n",
       "      <td>CX-5</td>\n",
       "      <td>Компактные SUV</td>\n",
       "      <td>&lt;NA&gt;</td>\n",
       "      <td>Импорт</td>\n",
       "      <td>Россия</td>\n",
       "      <td>NaN</td>\n",
       "      <td>NaN</td>\n",
       "      <td>NaN</td>\n",
       "      <td>NaN</td>\n",
       "      <td>Карагандинская область</td>\n",
       "      <td>Караганда</td>\n",
       "      <td>Автомир-Центр Караганда</td>\n",
       "      <td>NaN</td>\n",
       "      <td>Наличный расчёт</td>\n",
       "      <td>3</td>\n",
       "      <td>26684</td>\n",
       "      <td>80053</td>\n",
       "    </tr>\n",
       "  </tbody>\n",
       "</table>\n",
       "</div>"
      ],
      "text/plain": [
       "        id purchase_date        company             car_type  brand model  \\\n",
       "5048  5048    2019-02-01  Автомир-Центр  Легковые автомобили  Mazda     3   \n",
       "5049  5049    2019-02-01  Автомир-Центр  Легковые автомобили  Mazda     3   \n",
       "5050  5050    2019-02-01  Автомир-Центр  Легковые автомобили  Mazda     6   \n",
       "5051  5051    2019-02-01  Автомир-Центр         Внедорожники  Mazda  CX-5   \n",
       "5052  5052    2019-02-01  Автомир-Центр         Внедорожники  Mazda  CX-5   \n",
       "\n",
       "     car_classification  manufacturing_year assembly_type  \\\n",
       "5048            C класс                <NA>        Импорт   \n",
       "5049            C класс                <NA>        Импорт   \n",
       "5050            D класс                <NA>        Импорт   \n",
       "5051     Компактные SUV                <NA>        Импорт   \n",
       "5052     Компактные SUV                <NA>        Импорт   \n",
       "\n",
       "     manufacturing_country fuel_type  engine_displacement_l transmission_type  \\\n",
       "5048                Россия       NaN                    NaN               NaN   \n",
       "5049                Россия       NaN                    NaN               NaN   \n",
       "5050                Россия       NaN                    NaN               NaN   \n",
       "5051                Россия       NaN                    NaN               NaN   \n",
       "5052                Россия       NaN                    NaN               NaN   \n",
       "\n",
       "     drive_type                  region        city       dealer_center_name  \\\n",
       "5048        NaN  Карагандинская область   Караганда  Автомир-Центр Караганда   \n",
       "5049        NaN            г.Нур-Султан  Нур-Султан     Автомир-Центр Астана   \n",
       "5050        NaN            г.Нур-Султан  Нур-Султан     Автомир-Центр Астана   \n",
       "5051        NaN  Карагандинская область   Караганда  Автомир-Центр Караганда   \n",
       "5052        NaN  Карагандинская область   Караганда  Автомир-Центр Караганда   \n",
       "\n",
       "     customer_type     payment_form  quantity  price_usd  sale_usd  \n",
       "5048           NaN  Наличный расчёт         1      21547     21547  \n",
       "5049           NaN  Наличный расчёт         1      21547     21547  \n",
       "5050           NaN         В кредит         1      24998     24998  \n",
       "5051           NaN         В кредит         3      26684     80053  \n",
       "5052           NaN  Наличный расчёт         3      26684     80053  "
      ]
     },
     "execution_count": 145,
     "metadata": {},
     "output_type": "execute_result"
    }
   ],
   "source": [
    "df[df['manufacturing_year'].isna()].head()"
   ]
  },
  {
   "cell_type": "code",
   "execution_count": 146,
   "id": "0d098da9-d757-4663-a406-44b30eea1311",
   "metadata": {},
   "outputs": [
    {
     "data": {
      "text/plain": [
       "2019    30026\n",
       "2018     9081\n",
       "NaN       501\n",
       "2017      324\n",
       "2016       30\n",
       "2014        2\n",
       "2011        1\n",
       "2013        1\n",
       "Name: manufacturing_year, dtype: Int64"
      ]
     },
     "execution_count": 146,
     "metadata": {},
     "output_type": "execute_result"
    }
   ],
   "source": [
    "df['manufacturing_year'].value_counts(dropna=False).head(10)"
   ]
  },
  {
   "cell_type": "markdown",
   "id": "a3d80d44-6541-4a31-8c5e-363d229c7367",
   "metadata": {},
   "source": [
    "Здесь пропуски — третье самое встречаемое значение."
   ]
  },
  {
   "cell_type": "markdown",
   "id": "8c546d03-d5c6-45bd-b59c-72c775d60c08",
   "metadata": {},
   "source": [
    "<br>"
   ]
  },
  {
   "cell_type": "markdown",
   "id": "5731023e-d81d-4960-915a-601414ef00d6",
   "metadata": {},
   "source": [
    "Применим функцию."
   ]
  },
  {
   "cell_type": "code",
   "execution_count": 147,
   "id": "4effcb62-ba8c-4edd-9b73-d8c41946a894",
   "metadata": {},
   "outputs": [],
   "source": [
    "pt_man, str_man = null_analysis(df, 'manufacturing_year')"
   ]
  },
  {
   "cell_type": "code",
   "execution_count": 148,
   "id": "ec2f3f93-cb69-4139-8834-62d2c4226a8e",
   "metadata": {},
   "outputs": [
    {
     "name": "stdout",
     "output_type": "stream",
     "text": [
      "Количество пропущенных значений в сводной таблице и основном датафрейме сходится.\n",
      "В сводной: 501 пропусков. В датафрейме: 501 пропусков.\n",
      "\n",
      "Количество наблюдений в сводной таблице и основном датафрейме сходится.\n",
      "В сводной: 4978 наблюдений. В датафрейме: 4978 наблюдений.\n",
      "\n",
      "\n"
     ]
    },
    {
     "data": {
      "text/html": [
       "<div>\n",
       "<style scoped>\n",
       "    .dataframe tbody tr th:only-of-type {\n",
       "        vertical-align: middle;\n",
       "    }\n",
       "\n",
       "    .dataframe tbody tr th {\n",
       "        vertical-align: top;\n",
       "    }\n",
       "\n",
       "    .dataframe thead th {\n",
       "        text-align: right;\n",
       "    }\n",
       "</style>\n",
       "<table border=\"1\" class=\"dataframe\">\n",
       "  <thead>\n",
       "    <tr style=\"text-align: right;\">\n",
       "      <th>index</th>\n",
       "      <th>brand</th>\n",
       "      <th>model</th>\n",
       "      <th>2011</th>\n",
       "      <th>2013</th>\n",
       "      <th>2014</th>\n",
       "      <th>2016</th>\n",
       "      <th>2017</th>\n",
       "      <th>2018</th>\n",
       "      <th>2019</th>\n",
       "      <th>null_cnt</th>\n",
       "      <th>obs_cnt</th>\n",
       "      <th>null_perc</th>\n",
       "      <th>mode_perc</th>\n",
       "    </tr>\n",
       "  </thead>\n",
       "  <tbody>\n",
       "    <tr>\n",
       "      <th>16</th>\n",
       "      <td>BMW</td>\n",
       "      <td>7 серия</td>\n",
       "      <td>0</td>\n",
       "      <td>0</td>\n",
       "      <td>0</td>\n",
       "      <td>0</td>\n",
       "      <td>0</td>\n",
       "      <td>1</td>\n",
       "      <td>5</td>\n",
       "      <td>1</td>\n",
       "      <td>7</td>\n",
       "      <td>14.3</td>\n",
       "      <td>83.3</td>\n",
       "    </tr>\n",
       "    <tr>\n",
       "      <th>65</th>\n",
       "      <td>Hyundai Truck &amp; Bus</td>\n",
       "      <td>H350</td>\n",
       "      <td>0</td>\n",
       "      <td>0</td>\n",
       "      <td>0</td>\n",
       "      <td>0</td>\n",
       "      <td>5</td>\n",
       "      <td>0</td>\n",
       "      <td>3</td>\n",
       "      <td>32</td>\n",
       "      <td>40</td>\n",
       "      <td>80.0</td>\n",
       "      <td>62.5</td>\n",
       "    </tr>\n",
       "    <tr>\n",
       "      <th>70</th>\n",
       "      <td>Hyundai Truck &amp; Bus</td>\n",
       "      <td>HD 78</td>\n",
       "      <td>0</td>\n",
       "      <td>0</td>\n",
       "      <td>0</td>\n",
       "      <td>0</td>\n",
       "      <td>1</td>\n",
       "      <td>0</td>\n",
       "      <td>11</td>\n",
       "      <td>30</td>\n",
       "      <td>42</td>\n",
       "      <td>71.4</td>\n",
       "      <td>91.7</td>\n",
       "    </tr>\n",
       "    <tr>\n",
       "      <th>68</th>\n",
       "      <td>Hyundai Truck &amp; Bus</td>\n",
       "      <td>HD 35</td>\n",
       "      <td>0</td>\n",
       "      <td>0</td>\n",
       "      <td>0</td>\n",
       "      <td>0</td>\n",
       "      <td>4</td>\n",
       "      <td>0</td>\n",
       "      <td>11</td>\n",
       "      <td>15</td>\n",
       "      <td>30</td>\n",
       "      <td>50.0</td>\n",
       "      <td>73.3</td>\n",
       "    </tr>\n",
       "    <tr>\n",
       "      <th>69</th>\n",
       "      <td>Hyundai Truck &amp; Bus</td>\n",
       "      <td>HD 65</td>\n",
       "      <td>0</td>\n",
       "      <td>0</td>\n",
       "      <td>0</td>\n",
       "      <td>0</td>\n",
       "      <td>4</td>\n",
       "      <td>5</td>\n",
       "      <td>7</td>\n",
       "      <td>8</td>\n",
       "      <td>24</td>\n",
       "      <td>33.3</td>\n",
       "      <td>43.8</td>\n",
       "    </tr>\n",
       "  </tbody>\n",
       "</table>\n",
       "</div>"
      ],
      "text/plain": [
       "index                brand    model  2011  2013  2014  2016  2017  2018  2019  \\\n",
       "16                     BMW  7 серия     0     0     0     0     0     1     5   \n",
       "65     Hyundai Truck & Bus     H350     0     0     0     0     5     0     3   \n",
       "70     Hyundai Truck & Bus    HD 78     0     0     0     0     1     0    11   \n",
       "68     Hyundai Truck & Bus    HD 35     0     0     0     0     4     0    11   \n",
       "69     Hyundai Truck & Bus    HD 65     0     0     0     0     4     5     7   \n",
       "\n",
       "index  null_cnt  obs_cnt  null_perc  mode_perc  \n",
       "16            1        7       14.3       83.3  \n",
       "65           32       40       80.0       62.5  \n",
       "70           30       42       71.4       91.7  \n",
       "68           15       30       50.0       73.3  \n",
       "69            8       24       33.3       43.8  "
      ]
     },
     "execution_count": 148,
     "metadata": {},
     "output_type": "execute_result"
    }
   ],
   "source": [
    "# вывод строк с пропусками и наблюдениями\n",
    "print(str_man)\n",
    "\n",
    "# компактная таблица\n",
    "pt_man.head()\n",
    "\n",
    "# раскомментируйте переменную, чтобы увидеть всю сводную таблицу\n",
    "# pt_man"
   ]
  },
  {
   "cell_type": "markdown",
   "id": "3fa20658-f1c9-467f-85ca-fed916ded6f4",
   "metadata": {},
   "source": [
    "**Итак, какую сводную таблицу создала функция:**\n",
    "1. В качестве индексов выступают марка и модель автомобиля.\n",
    "2. В качестве колонок выступают года, когда был произведён автомобиль.\n",
    "3. С помощью агрегирующей функции мы подсчитываем количество автомобилей, произведённых в определённый год.\n",
    "4. `null_cnt` значит количество пропусков у конкретной модели за все годы.\n",
    "5. `obs_cnt` значит количество наблюдений **(это включая пропуски)** у конкретной модели.\n",
    "6. `null_perc` какой процент от **всех наблюдений** занимают пропуски.\n",
    "7. `mode_perc` значит, какой процент составляет модальное (самое частотное) значение из всех **непропущенных значений**.\n",
    "\n",
    "Сводные таблицы по умолчанию **отсортированы по марке авто в лексикографическом порядке и по убыванию количества пропущенных значений.**"
   ]
  },
  {
   "cell_type": "markdown",
   "id": "65765c74-0ca5-4cbb-ad5b-0d0d44885b11",
   "metadata": {},
   "source": [
    "<br>"
   ]
  },
  {
   "cell_type": "markdown",
   "id": "55adc842-d9df-46b0-9683-0eb7bded7478",
   "metadata": {},
   "source": [
    "Заполнять пропуски будем модой.\\\n",
    "Я уверен, что это неточный способ, ведь чем ниже процент, который занимает модальное значение, тем выше вероятность неточности.\\\n",
    "Лучший способ мне пока неизвестен.\\\n",
    "**Применим правило: если модальное значение занимает процент, равный или больше $60$, то это модальное значение заменит пропуск в годе производства для этой модели.**"
   ]
  },
  {
   "cell_type": "code",
   "execution_count": 149,
   "id": "54bc7ce2-c138-4661-ba91-c5eb1bbef0cd",
   "metadata": {},
   "outputs": [],
   "source": [
    "# итерация по строкам таблицы pt_man с использованием метода iterrows(): index — строка, row — колонка\n",
    "for index, row in pt_man.iterrows():\n",
    "    # извлечение значения 'model' для текущей строки\n",
    "    model = row['model']\n",
    "    # извлечение значения 'mode_perc' для текущей строки\n",
    "    mode_perc = row['mode_perc']\n",
    "    \n",
    "    # если процент модального значения >= 60 для данной модели\n",
    "    if mode_perc >= 60:\n",
    "        # то находим модальное значение года производства для неё\n",
    "        mode_value = df[df['model'] == model]['manufacturing_year'].mode()\n",
    "        \n",
    "        # если mode_value не является пропуском\n",
    "        if pd.notna(mode_value.iloc[0]):\n",
    "            # то заполняем пропуски в годе производства модальным значением для данной модели\n",
    "            df.loc[(df['model'] == model) & (df['manufacturing_year'].isna()), 'manufacturing_year'] = mode_value.iloc[0]"
   ]
  },
  {
   "cell_type": "markdown",
   "id": "d310213c-6b24-4b83-b7d1-55929cbd236f",
   "metadata": {},
   "source": [
    "<br>"
   ]
  },
  {
   "cell_type": "markdown",
   "id": "13b90cae-4774-4428-88ce-43ca38a2271e",
   "metadata": {},
   "source": [
    "Проверим результат."
   ]
  },
  {
   "cell_type": "code",
   "execution_count": 150,
   "id": "90457ef4-218b-406f-a5d1-a28f522448cb",
   "metadata": {},
   "outputs": [
    {
     "name": "stdout",
     "output_type": "stream",
     "text": [
      "Количество пропущенных значений в сводной таблице и основном датафрейме сходится.\n",
      "В сводной: 27 пропусков. В датафрейме: 27 пропусков.\n",
      "\n",
      "Количество наблюдений в сводной таблице и основном датафрейме сходится.\n",
      "В сводной: 203 наблюдений. В датафрейме: 203 наблюдений.\n",
      "\n",
      "\n"
     ]
    },
    {
     "data": {
      "text/html": [
       "<div>\n",
       "<style scoped>\n",
       "    .dataframe tbody tr th:only-of-type {\n",
       "        vertical-align: middle;\n",
       "    }\n",
       "\n",
       "    .dataframe tbody tr th {\n",
       "        vertical-align: top;\n",
       "    }\n",
       "\n",
       "    .dataframe thead th {\n",
       "        text-align: right;\n",
       "    }\n",
       "</style>\n",
       "<table border=\"1\" class=\"dataframe\">\n",
       "  <thead>\n",
       "    <tr style=\"text-align: right;\">\n",
       "      <th>index</th>\n",
       "      <th>brand</th>\n",
       "      <th>model</th>\n",
       "      <th>2011</th>\n",
       "      <th>2013</th>\n",
       "      <th>2014</th>\n",
       "      <th>2016</th>\n",
       "      <th>2017</th>\n",
       "      <th>2018</th>\n",
       "      <th>2019</th>\n",
       "      <th>null_cnt</th>\n",
       "      <th>obs_cnt</th>\n",
       "      <th>null_perc</th>\n",
       "      <th>mode_perc</th>\n",
       "    </tr>\n",
       "  </thead>\n",
       "  <tbody>\n",
       "    <tr>\n",
       "      <th>69</th>\n",
       "      <td>Hyundai Truck &amp; Bus</td>\n",
       "      <td>HD 65</td>\n",
       "      <td>0</td>\n",
       "      <td>0</td>\n",
       "      <td>0</td>\n",
       "      <td>0</td>\n",
       "      <td>4</td>\n",
       "      <td>5</td>\n",
       "      <td>7</td>\n",
       "      <td>8</td>\n",
       "      <td>24</td>\n",
       "      <td>33.3</td>\n",
       "      <td>43.8</td>\n",
       "    </tr>\n",
       "    <tr>\n",
       "      <th>66</th>\n",
       "      <td>Hyundai Truck &amp; Bus</td>\n",
       "      <td>HD 160</td>\n",
       "      <td>0</td>\n",
       "      <td>0</td>\n",
       "      <td>0</td>\n",
       "      <td>0</td>\n",
       "      <td>0</td>\n",
       "      <td>0</td>\n",
       "      <td>0</td>\n",
       "      <td>1</td>\n",
       "      <td>1</td>\n",
       "      <td>100.0</td>\n",
       "      <td>0.0</td>\n",
       "    </tr>\n",
       "    <tr>\n",
       "      <th>146</th>\n",
       "      <td>Land Rover</td>\n",
       "      <td>Range Rover</td>\n",
       "      <td>0</td>\n",
       "      <td>0</td>\n",
       "      <td>0</td>\n",
       "      <td>0</td>\n",
       "      <td>2</td>\n",
       "      <td>41</td>\n",
       "      <td>41</td>\n",
       "      <td>1</td>\n",
       "      <td>85</td>\n",
       "      <td>1.2</td>\n",
       "      <td>48.8</td>\n",
       "    </tr>\n",
       "    <tr>\n",
       "      <th>165</th>\n",
       "      <td>Mazda</td>\n",
       "      <td>3</td>\n",
       "      <td>0</td>\n",
       "      <td>0</td>\n",
       "      <td>0</td>\n",
       "      <td>0</td>\n",
       "      <td>0</td>\n",
       "      <td>0</td>\n",
       "      <td>0</td>\n",
       "      <td>5</td>\n",
       "      <td>5</td>\n",
       "      <td>100.0</td>\n",
       "      <td>0.0</td>\n",
       "    </tr>\n",
       "    <tr>\n",
       "      <th>196</th>\n",
       "      <td>Mitsubishi</td>\n",
       "      <td>Pajero Sport</td>\n",
       "      <td>0</td>\n",
       "      <td>0</td>\n",
       "      <td>0</td>\n",
       "      <td>0</td>\n",
       "      <td>0</td>\n",
       "      <td>27</td>\n",
       "      <td>32</td>\n",
       "      <td>11</td>\n",
       "      <td>70</td>\n",
       "      <td>15.7</td>\n",
       "      <td>54.2</td>\n",
       "    </tr>\n",
       "    <tr>\n",
       "      <th>267</th>\n",
       "      <td>Volvo</td>\n",
       "      <td>XC60</td>\n",
       "      <td>0</td>\n",
       "      <td>0</td>\n",
       "      <td>0</td>\n",
       "      <td>0</td>\n",
       "      <td>0</td>\n",
       "      <td>8</td>\n",
       "      <td>9</td>\n",
       "      <td>1</td>\n",
       "      <td>18</td>\n",
       "      <td>5.6</td>\n",
       "      <td>52.9</td>\n",
       "    </tr>\n",
       "  </tbody>\n",
       "</table>\n",
       "</div>"
      ],
      "text/plain": [
       "index                brand         model  2011  2013  2014  2016  2017  2018  \\\n",
       "69     Hyundai Truck & Bus         HD 65     0     0     0     0     4     5   \n",
       "66     Hyundai Truck & Bus        HD 160     0     0     0     0     0     0   \n",
       "146             Land Rover   Range Rover     0     0     0     0     2    41   \n",
       "165                  Mazda             3     0     0     0     0     0     0   \n",
       "196             Mitsubishi  Pajero Sport     0     0     0     0     0    27   \n",
       "267                  Volvo          XC60     0     0     0     0     0     8   \n",
       "\n",
       "index  2019  null_cnt  obs_cnt  null_perc  mode_perc  \n",
       "69        7         8       24       33.3       43.8  \n",
       "66        0         1        1      100.0        0.0  \n",
       "146      41         1       85        1.2       48.8  \n",
       "165       0         5        5      100.0        0.0  \n",
       "196      32        11       70       15.7       54.2  \n",
       "267       9         1       18        5.6       52.9  "
      ]
     },
     "execution_count": 150,
     "metadata": {},
     "output_type": "execute_result"
    }
   ],
   "source": [
    "# запишем в иные переменные\n",
    "pt_man_fill, str_man_fill = null_analysis(df, 'manufacturing_year')\n",
    "\n",
    "print(str_man_fill)\n",
    "pt_man_fill"
   ]
  },
  {
   "cell_type": "markdown",
   "id": "388a0730-7fd0-4aa8-803c-492d43eb858d",
   "metadata": {},
   "source": [
    "Итак, остались пропуски по этим моделям. "
   ]
  },
  {
   "cell_type": "markdown",
   "id": "0dde2f05-d322-4400-b91d-e0c97353b7d9",
   "metadata": {},
   "source": [
    "<br>"
   ]
  },
  {
   "cell_type": "markdown",
   "id": "4835bc8b-bf8f-4014-88e0-241be7d293b5",
   "metadata": {},
   "source": [
    "##### `Тип топлива`"
   ]
  },
  {
   "cell_type": "code",
   "execution_count": 151,
   "id": "f8c51b7a-d66b-47bf-a036-19d1de1743c1",
   "metadata": {},
   "outputs": [
    {
     "data": {
      "text/html": [
       "<div>\n",
       "<style scoped>\n",
       "    .dataframe tbody tr th:only-of-type {\n",
       "        vertical-align: middle;\n",
       "    }\n",
       "\n",
       "    .dataframe tbody tr th {\n",
       "        vertical-align: top;\n",
       "    }\n",
       "\n",
       "    .dataframe thead th {\n",
       "        text-align: right;\n",
       "    }\n",
       "</style>\n",
       "<table border=\"1\" class=\"dataframe\">\n",
       "  <thead>\n",
       "    <tr style=\"text-align: right;\">\n",
       "      <th></th>\n",
       "      <th>id</th>\n",
       "      <th>purchase_date</th>\n",
       "      <th>company</th>\n",
       "      <th>car_type</th>\n",
       "      <th>brand</th>\n",
       "      <th>model</th>\n",
       "      <th>car_classification</th>\n",
       "      <th>manufacturing_year</th>\n",
       "      <th>assembly_type</th>\n",
       "      <th>manufacturing_country</th>\n",
       "      <th>fuel_type</th>\n",
       "      <th>engine_displacement_l</th>\n",
       "      <th>transmission_type</th>\n",
       "      <th>drive_type</th>\n",
       "      <th>region</th>\n",
       "      <th>city</th>\n",
       "      <th>dealer_center_name</th>\n",
       "      <th>customer_type</th>\n",
       "      <th>payment_form</th>\n",
       "      <th>quantity</th>\n",
       "      <th>price_usd</th>\n",
       "      <th>sale_usd</th>\n",
       "    </tr>\n",
       "  </thead>\n",
       "  <tbody>\n",
       "    <tr>\n",
       "      <th>97</th>\n",
       "      <td>97</td>\n",
       "      <td>2019-01-01</td>\n",
       "      <td>СемАЗ</td>\n",
       "      <td>Коммерческие автомобили</td>\n",
       "      <td>Dong Feng</td>\n",
       "      <td>BWC6665GA5</td>\n",
       "      <td>Средние автобусы</td>\n",
       "      <td>2019</td>\n",
       "      <td>Локальное производство</td>\n",
       "      <td>Казахстан</td>\n",
       "      <td>NaN</td>\n",
       "      <td>NaN</td>\n",
       "      <td>NaN</td>\n",
       "      <td>NaN</td>\n",
       "      <td>г.Нур-Султан</td>\n",
       "      <td>Нур-Султан</td>\n",
       "      <td>СемАЗ</td>\n",
       "      <td>NaN</td>\n",
       "      <td>NaN</td>\n",
       "      <td>29</td>\n",
       "      <td>26693</td>\n",
       "      <td>774091</td>\n",
       "    </tr>\n",
       "    <tr>\n",
       "      <th>99</th>\n",
       "      <td>99</td>\n",
       "      <td>2019-01-01</td>\n",
       "      <td>СемАЗ</td>\n",
       "      <td>Коммерческие автомобили</td>\n",
       "      <td>Foton</td>\n",
       "      <td>BJ1069VDJEA-F1</td>\n",
       "      <td>Малотоннажные грузовики</td>\n",
       "      <td>2018</td>\n",
       "      <td>Локальное производство</td>\n",
       "      <td>Казахстан</td>\n",
       "      <td>NaN</td>\n",
       "      <td>NaN</td>\n",
       "      <td>NaN</td>\n",
       "      <td>NaN</td>\n",
       "      <td>г.Алматы</td>\n",
       "      <td>Алматы</td>\n",
       "      <td>Меридиан АВТО Алматы</td>\n",
       "      <td>NaN</td>\n",
       "      <td>NaN</td>\n",
       "      <td>3</td>\n",
       "      <td>13619</td>\n",
       "      <td>40858</td>\n",
       "    </tr>\n",
       "    <tr>\n",
       "      <th>1056</th>\n",
       "      <td>1056</td>\n",
       "      <td>2019-01-01</td>\n",
       "      <td>Allur Auto</td>\n",
       "      <td>Коммерческие автомобили</td>\n",
       "      <td>Iveco</td>\n",
       "      <td>Daily</td>\n",
       "      <td>Малотоннажные грузовики</td>\n",
       "      <td>2017</td>\n",
       "      <td>Локальное производство</td>\n",
       "      <td>Казахстан</td>\n",
       "      <td>NaN</td>\n",
       "      <td>NaN</td>\n",
       "      <td>NaN</td>\n",
       "      <td>NaN</td>\n",
       "      <td>г.Алматы</td>\n",
       "      <td>Алматы</td>\n",
       "      <td>Allur Auto Almaty</td>\n",
       "      <td>Юридическое лицо</td>\n",
       "      <td>NaN</td>\n",
       "      <td>1</td>\n",
       "      <td>27750</td>\n",
       "      <td>27750</td>\n",
       "    </tr>\n",
       "    <tr>\n",
       "      <th>1068</th>\n",
       "      <td>1068</td>\n",
       "      <td>2019-01-01</td>\n",
       "      <td>Allur Auto</td>\n",
       "      <td>Внедорожники</td>\n",
       "      <td>Jac</td>\n",
       "      <td>S3</td>\n",
       "      <td>Субкомпактные SUV</td>\n",
       "      <td>2018</td>\n",
       "      <td>Локальное производство</td>\n",
       "      <td>Казахстан</td>\n",
       "      <td>NaN</td>\n",
       "      <td>NaN</td>\n",
       "      <td>NaN</td>\n",
       "      <td>2WD</td>\n",
       "      <td>Экспорт область</td>\n",
       "      <td>ЭКСПОРТ</td>\n",
       "      <td>Allur Auto Almaty</td>\n",
       "      <td>Юридическое лицо</td>\n",
       "      <td>NaN</td>\n",
       "      <td>1</td>\n",
       "      <td>12818</td>\n",
       "      <td>12818</td>\n",
       "    </tr>\n",
       "    <tr>\n",
       "      <th>1069</th>\n",
       "      <td>1069</td>\n",
       "      <td>2019-01-01</td>\n",
       "      <td>Allur Auto</td>\n",
       "      <td>Внедорожники</td>\n",
       "      <td>Jac</td>\n",
       "      <td>S3</td>\n",
       "      <td>Субкомпактные SUV</td>\n",
       "      <td>2018</td>\n",
       "      <td>Локальное производство</td>\n",
       "      <td>Казахстан</td>\n",
       "      <td>NaN</td>\n",
       "      <td>NaN</td>\n",
       "      <td>NaN</td>\n",
       "      <td>2WD</td>\n",
       "      <td>Экспорт область</td>\n",
       "      <td>ЭКСПОРТ</td>\n",
       "      <td>Allur Auto Almaty</td>\n",
       "      <td>Юридическое лицо</td>\n",
       "      <td>NaN</td>\n",
       "      <td>1</td>\n",
       "      <td>12818</td>\n",
       "      <td>12818</td>\n",
       "    </tr>\n",
       "  </tbody>\n",
       "</table>\n",
       "</div>"
      ],
      "text/plain": [
       "        id purchase_date     company                 car_type      brand  \\\n",
       "97      97    2019-01-01       СемАЗ  Коммерческие автомобили  Dong Feng   \n",
       "99      99    2019-01-01       СемАЗ  Коммерческие автомобили      Foton   \n",
       "1056  1056    2019-01-01  Allur Auto  Коммерческие автомобили      Iveco   \n",
       "1068  1068    2019-01-01  Allur Auto             Внедорожники        Jac   \n",
       "1069  1069    2019-01-01  Allur Auto             Внедорожники        Jac   \n",
       "\n",
       "               model       car_classification  manufacturing_year  \\\n",
       "97        BWC6665GA5         Средние автобусы                2019   \n",
       "99    BJ1069VDJEA-F1  Малотоннажные грузовики                2018   \n",
       "1056           Daily  Малотоннажные грузовики                2017   \n",
       "1068              S3        Субкомпактные SUV                2018   \n",
       "1069              S3        Субкомпактные SUV                2018   \n",
       "\n",
       "               assembly_type manufacturing_country fuel_type  \\\n",
       "97    Локальное производство             Казахстан       NaN   \n",
       "99    Локальное производство             Казахстан       NaN   \n",
       "1056  Локальное производство             Казахстан       NaN   \n",
       "1068  Локальное производство             Казахстан       NaN   \n",
       "1069  Локальное производство             Казахстан       NaN   \n",
       "\n",
       "      engine_displacement_l transmission_type drive_type           region  \\\n",
       "97                      NaN               NaN        NaN     г.Нур-Султан   \n",
       "99                      NaN               NaN        NaN         г.Алматы   \n",
       "1056                    NaN               NaN        NaN         г.Алматы   \n",
       "1068                    NaN               NaN        2WD  Экспорт область   \n",
       "1069                    NaN               NaN        2WD  Экспорт область   \n",
       "\n",
       "            city    dealer_center_name     customer_type payment_form  \\\n",
       "97    Нур-Султан                 СемАЗ               NaN          NaN   \n",
       "99        Алматы  Меридиан АВТО Алматы               NaN          NaN   \n",
       "1056      Алматы     Allur Auto Almaty  Юридическое лицо          NaN   \n",
       "1068     ЭКСПОРТ     Allur Auto Almaty  Юридическое лицо          NaN   \n",
       "1069     ЭКСПОРТ     Allur Auto Almaty  Юридическое лицо          NaN   \n",
       "\n",
       "      quantity  price_usd  sale_usd  \n",
       "97          29      26693    774091  \n",
       "99           3      13619     40858  \n",
       "1056         1      27750     27750  \n",
       "1068         1      12818     12818  \n",
       "1069         1      12818     12818  "
      ]
     },
     "execution_count": 151,
     "metadata": {},
     "output_type": "execute_result"
    }
   ],
   "source": [
    "df[df['fuel_type'].isna()].head()"
   ]
  },
  {
   "cell_type": "code",
   "execution_count": 152,
   "id": "e8326fd5-cdd6-4ec0-9814-382da102a50f",
   "metadata": {},
   "outputs": [
    {
     "data": {
      "text/plain": [
       "Бензин           35000\n",
       "NaN               3140\n",
       "Дизель            1803\n",
       "Электричество       13\n",
       "Гибрид              10\n",
       "Name: fuel_type, dtype: int64"
      ]
     },
     "execution_count": 152,
     "metadata": {},
     "output_type": "execute_result"
    }
   ],
   "source": [
    "df['fuel_type'].value_counts(dropna=False).head(10)"
   ]
  },
  {
   "cell_type": "markdown",
   "id": "87602e0e-27cb-44a2-868c-e11b106945e3",
   "metadata": {},
   "source": [
    "Здесь пропуски — второе самое встречаемое значение."
   ]
  },
  {
   "cell_type": "markdown",
   "id": "596866aa-15d3-4487-9d2f-dfb15d77f38e",
   "metadata": {},
   "source": [
    "<br>"
   ]
  },
  {
   "cell_type": "markdown",
   "id": "6aad9c61-7614-4f8c-8886-631c8ef47b8e",
   "metadata": {},
   "source": [
    "Применим функцию."
   ]
  },
  {
   "cell_type": "code",
   "execution_count": 153,
   "id": "601c4aa4-cb27-47d8-9d0f-445ca34333de",
   "metadata": {},
   "outputs": [],
   "source": [
    "pt_fuel, str_fuel = null_analysis(df, 'fuel_type')"
   ]
  },
  {
   "cell_type": "code",
   "execution_count": 154,
   "id": "65e92a48-598e-4db8-860c-16418f49f661",
   "metadata": {},
   "outputs": [
    {
     "name": "stdout",
     "output_type": "stream",
     "text": [
      "Количество пропущенных значений в сводной таблице и основном датафрейме сходится.\n",
      "В сводной: 3140 пропусков. В датафрейме: 3140 пропусков.\n",
      "\n",
      "Количество наблюдений в сводной таблице и основном датафрейме сходится.\n",
      "В сводной: 7373 наблюдений. В датафрейме: 7373 наблюдений.\n",
      "\n",
      "\n"
     ]
    },
    {
     "data": {
      "text/html": [
       "<div>\n",
       "<style scoped>\n",
       "    .dataframe tbody tr th:only-of-type {\n",
       "        vertical-align: middle;\n",
       "    }\n",
       "\n",
       "    .dataframe tbody tr th {\n",
       "        vertical-align: top;\n",
       "    }\n",
       "\n",
       "    .dataframe thead th {\n",
       "        text-align: right;\n",
       "    }\n",
       "</style>\n",
       "<table border=\"1\" class=\"dataframe\">\n",
       "  <thead>\n",
       "    <tr style=\"text-align: right;\">\n",
       "      <th>index</th>\n",
       "      <th>brand</th>\n",
       "      <th>model</th>\n",
       "      <th>Бензин</th>\n",
       "      <th>Гибрид</th>\n",
       "      <th>Дизель</th>\n",
       "      <th>Электричество</th>\n",
       "      <th>null_cnt</th>\n",
       "      <th>obs_cnt</th>\n",
       "      <th>null_perc</th>\n",
       "      <th>mode_perc</th>\n",
       "    </tr>\n",
       "  </thead>\n",
       "  <tbody>\n",
       "    <tr>\n",
       "      <th>3</th>\n",
       "      <td>ANKAI</td>\n",
       "      <td>HFF6850G</td>\n",
       "      <td>0</td>\n",
       "      <td>0</td>\n",
       "      <td>167</td>\n",
       "      <td>0</td>\n",
       "      <td>73</td>\n",
       "      <td>240</td>\n",
       "      <td>30.4</td>\n",
       "      <td>100.0</td>\n",
       "    </tr>\n",
       "    <tr>\n",
       "      <th>0</th>\n",
       "      <td>ANKAI</td>\n",
       "      <td>HF-D105</td>\n",
       "      <td>0</td>\n",
       "      <td>0</td>\n",
       "      <td>0</td>\n",
       "      <td>0</td>\n",
       "      <td>30</td>\n",
       "      <td>30</td>\n",
       "      <td>100.0</td>\n",
       "      <td>0.0</td>\n",
       "    </tr>\n",
       "    <tr>\n",
       "      <th>40</th>\n",
       "      <td>Dong Feng</td>\n",
       "      <td>BWC6665GA5</td>\n",
       "      <td>0</td>\n",
       "      <td>0</td>\n",
       "      <td>0</td>\n",
       "      <td>0</td>\n",
       "      <td>10</td>\n",
       "      <td>10</td>\n",
       "      <td>100.0</td>\n",
       "      <td>0.0</td>\n",
       "    </tr>\n",
       "    <tr>\n",
       "      <th>43</th>\n",
       "      <td>Foton</td>\n",
       "      <td>BJ1069VDJEA-F1</td>\n",
       "      <td>0</td>\n",
       "      <td>0</td>\n",
       "      <td>0</td>\n",
       "      <td>0</td>\n",
       "      <td>19</td>\n",
       "      <td>19</td>\n",
       "      <td>100.0</td>\n",
       "      <td>0.0</td>\n",
       "    </tr>\n",
       "    <tr>\n",
       "      <th>44</th>\n",
       "      <td>Foton</td>\n",
       "      <td>BJ3253DMPKB-AD</td>\n",
       "      <td>0</td>\n",
       "      <td>0</td>\n",
       "      <td>0</td>\n",
       "      <td>0</td>\n",
       "      <td>9</td>\n",
       "      <td>9</td>\n",
       "      <td>100.0</td>\n",
       "      <td>0.0</td>\n",
       "    </tr>\n",
       "    <tr>\n",
       "      <th>...</th>\n",
       "      <td>...</td>\n",
       "      <td>...</td>\n",
       "      <td>...</td>\n",
       "      <td>...</td>\n",
       "      <td>...</td>\n",
       "      <td>...</td>\n",
       "      <td>...</td>\n",
       "      <td>...</td>\n",
       "      <td>...</td>\n",
       "      <td>...</td>\n",
       "    </tr>\n",
       "    <tr>\n",
       "      <th>271</th>\n",
       "      <td>Урал</td>\n",
       "      <td>4320</td>\n",
       "      <td>0</td>\n",
       "      <td>0</td>\n",
       "      <td>0</td>\n",
       "      <td>0</td>\n",
       "      <td>7</td>\n",
       "      <td>7</td>\n",
       "      <td>100.0</td>\n",
       "      <td>0.0</td>\n",
       "    </tr>\n",
       "    <tr>\n",
       "      <th>274</th>\n",
       "      <td>Урал</td>\n",
       "      <td>5557</td>\n",
       "      <td>0</td>\n",
       "      <td>0</td>\n",
       "      <td>0</td>\n",
       "      <td>0</td>\n",
       "      <td>2</td>\n",
       "      <td>2</td>\n",
       "      <td>100.0</td>\n",
       "      <td>0.0</td>\n",
       "    </tr>\n",
       "    <tr>\n",
       "      <th>270</th>\n",
       "      <td>Урал</td>\n",
       "      <td>32551</td>\n",
       "      <td>0</td>\n",
       "      <td>0</td>\n",
       "      <td>0</td>\n",
       "      <td>0</td>\n",
       "      <td>1</td>\n",
       "      <td>1</td>\n",
       "      <td>100.0</td>\n",
       "      <td>0.0</td>\n",
       "    </tr>\n",
       "    <tr>\n",
       "      <th>272</th>\n",
       "      <td>Урал</td>\n",
       "      <td>4320-1951-40</td>\n",
       "      <td>0</td>\n",
       "      <td>0</td>\n",
       "      <td>0</td>\n",
       "      <td>0</td>\n",
       "      <td>1</td>\n",
       "      <td>1</td>\n",
       "      <td>100.0</td>\n",
       "      <td>0.0</td>\n",
       "    </tr>\n",
       "    <tr>\n",
       "      <th>273</th>\n",
       "      <td>Урал</td>\n",
       "      <td>4320-1951-60</td>\n",
       "      <td>0</td>\n",
       "      <td>0</td>\n",
       "      <td>0</td>\n",
       "      <td>0</td>\n",
       "      <td>1</td>\n",
       "      <td>1</td>\n",
       "      <td>100.0</td>\n",
       "      <td>0.0</td>\n",
       "    </tr>\n",
       "  </tbody>\n",
       "</table>\n",
       "<p>73 rows × 10 columns</p>\n",
       "</div>"
      ],
      "text/plain": [
       "index      brand           model  Бензин  Гибрид  Дизель  Электричество  \\\n",
       "3          ANKAI        HFF6850G       0       0     167              0   \n",
       "0          ANKAI         HF-D105       0       0       0              0   \n",
       "40     Dong Feng      BWC6665GA5       0       0       0              0   \n",
       "43         Foton  BJ1069VDJEA-F1       0       0       0              0   \n",
       "44         Foton  BJ3253DMPKB-AD       0       0       0              0   \n",
       "..           ...             ...     ...     ...     ...            ...   \n",
       "271         Урал            4320       0       0       0              0   \n",
       "274         Урал            5557       0       0       0              0   \n",
       "270         Урал           32551       0       0       0              0   \n",
       "272         Урал    4320-1951-40       0       0       0              0   \n",
       "273         Урал    4320-1951-60       0       0       0              0   \n",
       "\n",
       "index  null_cnt  obs_cnt  null_perc  mode_perc  \n",
       "3            73      240       30.4      100.0  \n",
       "0            30       30      100.0        0.0  \n",
       "40           10       10      100.0        0.0  \n",
       "43           19       19      100.0        0.0  \n",
       "44            9        9      100.0        0.0  \n",
       "..          ...      ...        ...        ...  \n",
       "271           7        7      100.0        0.0  \n",
       "274           2        2      100.0        0.0  \n",
       "270           1        1      100.0        0.0  \n",
       "272           1        1      100.0        0.0  \n",
       "273           1        1      100.0        0.0  \n",
       "\n",
       "[73 rows x 10 columns]"
      ]
     },
     "execution_count": 154,
     "metadata": {},
     "output_type": "execute_result"
    }
   ],
   "source": [
    "# вывод строк с пропусками и наблюдениями\n",
    "print(str_fuel)\n",
    "\n",
    "# раскомментируйте код, чтобы увидеть всю сводную таблицу\n",
    "# pd.set_option('display.max_rows', 100)\n",
    "pt_fuel\n",
    "\n",
    "# раскомментируйте код, чтобы снова сделать таблицу компактной\n",
    "# pd.reset_option('display.max_rows')\n",
    "pt_fuel"
   ]
  },
  {
   "cell_type": "markdown",
   "id": "163a92a3-a72c-4740-9836-f636c5a0d6b2",
   "metadata": {},
   "source": [
    "Проанализировав эту сводную таблицу, можно заполнить пропуски в типе топлива модальным значением.\\\n",
    "Только автомобили марки `Mazda` и `Renault` придётся заполнить вручную, там пропусков много. И ещё по некоторым грузовикам и автобусам то же самое нужно проделать."
   ]
  },
  {
   "cell_type": "markdown",
   "id": "a6d705c4-3ad2-4262-bfb0-71afba904769",
   "metadata": {},
   "source": [
    "**Применим правило: если модальное значение занимает процент, равный или больше  $60$, то это модальное значение заменит пропуск в виде топлива для этой модели.**"
   ]
  },
  {
   "cell_type": "code",
   "execution_count": 155,
   "id": "7ac1170f-9e8d-4a8f-8d69-d24e0499a419",
   "metadata": {},
   "outputs": [],
   "source": [
    "# итерация по строкам таблицы pt_fuel с использованием метода iterrows(): index — строка, row — колонка\n",
    "for index, row in pt_fuel.iterrows():\n",
    "    # извлечение значения 'model' для текущей строки\n",
    "    model = row['model']\n",
    "    # извлечение значения 'mode_perc' для текущей строки\n",
    "    mode_perc = row['mode_perc']\n",
    "    \n",
    "    # если процент модального значения >= 60 для данной модели\n",
    "    if mode_perc >= 60:\n",
    "        # то находим модальное значение вида топлива для неё\n",
    "        mode_value = df[df['model'] == model]['fuel_type'].mode()\n",
    "        \n",
    "        # если mode_value не является пропуском\n",
    "        if pd.notna(mode_value.iloc[0]):\n",
    "            # то заполняем пропуски в виде топлива модальным значением для данной модели\n",
    "            df.loc[(df['model'] == model) & df['fuel_type'].isna(), 'fuel_type'] = mode_value.iloc[0]"
   ]
  },
  {
   "cell_type": "markdown",
   "id": "b17d6841-db6b-4b8f-809f-cabe290cfd8e",
   "metadata": {},
   "source": [
    "<br>"
   ]
  },
  {
   "cell_type": "markdown",
   "id": "a08f093f-0f97-4007-8497-1a6488d24f65",
   "metadata": {},
   "source": [
    "Ручная замена."
   ]
  },
  {
   "cell_type": "code",
   "execution_count": 156,
   "id": "0ca08334-ce85-43f2-8160-5a1801774948",
   "metadata": {},
   "outputs": [],
   "source": [
    "diesel = ['Master', 'Dokker', 'SX3258DR384', 'HF-D105', 'BJ1069VDJEA-F1']\n",
    "petrol = ['Logan', 'Kaptur', 'Arkana', 'Koleos', '6', '3', 'CX-5', 'CX-9']"
   ]
  },
  {
   "cell_type": "code",
   "execution_count": 157,
   "id": "bbf18e93-19ad-452b-9fac-fd4624e0c786",
   "metadata": {},
   "outputs": [],
   "source": [
    "for model in diesel:\n",
    "    df.loc[(df['model'] == model) & (df['fuel_type'].isna()), 'fuel_type'] = 'Дизель'\n",
    "    \n",
    "for model in petrol:\n",
    "    df.loc[(df['model'] == model) & (df['fuel_type'].isna()), 'fuel_type'] = 'Бензин'"
   ]
  },
  {
   "cell_type": "markdown",
   "id": "3c6fc397-b624-4aec-8a88-45045e9823b6",
   "metadata": {},
   "source": [
    "<br>"
   ]
  },
  {
   "cell_type": "markdown",
   "id": "79040d41-e84c-4d96-bb31-6eaf103517e6",
   "metadata": {},
   "source": [
    "Проверим результат."
   ]
  },
  {
   "cell_type": "code",
   "execution_count": 158,
   "id": "63a74584-f39b-48a3-8b11-fadcf66632c5",
   "metadata": {},
   "outputs": [
    {
     "name": "stdout",
     "output_type": "stream",
     "text": [
      "Количество пропущенных значений в сводной таблице и основном датафрейме сходится.\n",
      "В сводной: 47 пропусков. В датафрейме: 47 пропусков.\n",
      "\n",
      "Количество наблюдений в сводной таблице и основном датафрейме сходится.\n",
      "В сводной: 47 наблюдений. В датафрейме: 47 наблюдений.\n",
      "\n",
      "\n"
     ]
    },
    {
     "data": {
      "text/html": [
       "<div>\n",
       "<style scoped>\n",
       "    .dataframe tbody tr th:only-of-type {\n",
       "        vertical-align: middle;\n",
       "    }\n",
       "\n",
       "    .dataframe tbody tr th {\n",
       "        vertical-align: top;\n",
       "    }\n",
       "\n",
       "    .dataframe thead th {\n",
       "        text-align: right;\n",
       "    }\n",
       "</style>\n",
       "<table border=\"1\" class=\"dataframe\">\n",
       "  <thead>\n",
       "    <tr style=\"text-align: right;\">\n",
       "      <th>index</th>\n",
       "      <th>brand</th>\n",
       "      <th>model</th>\n",
       "      <th>Бензин</th>\n",
       "      <th>Гибрид</th>\n",
       "      <th>Дизель</th>\n",
       "      <th>Электричество</th>\n",
       "      <th>null_cnt</th>\n",
       "      <th>obs_cnt</th>\n",
       "      <th>null_perc</th>\n",
       "      <th>mode_perc</th>\n",
       "    </tr>\n",
       "  </thead>\n",
       "  <tbody>\n",
       "    <tr>\n",
       "      <th>40</th>\n",
       "      <td>Dong Feng</td>\n",
       "      <td>BWC6665GA5</td>\n",
       "      <td>0</td>\n",
       "      <td>0</td>\n",
       "      <td>0</td>\n",
       "      <td>0</td>\n",
       "      <td>10</td>\n",
       "      <td>10</td>\n",
       "      <td>100.0</td>\n",
       "      <td>0</td>\n",
       "    </tr>\n",
       "    <tr>\n",
       "      <th>44</th>\n",
       "      <td>Foton</td>\n",
       "      <td>BJ3253DMPKB-AD</td>\n",
       "      <td>0</td>\n",
       "      <td>0</td>\n",
       "      <td>0</td>\n",
       "      <td>0</td>\n",
       "      <td>9</td>\n",
       "      <td>9</td>\n",
       "      <td>100.0</td>\n",
       "      <td>0</td>\n",
       "    </tr>\n",
       "    <tr>\n",
       "      <th>271</th>\n",
       "      <td>Урал</td>\n",
       "      <td>4320</td>\n",
       "      <td>0</td>\n",
       "      <td>0</td>\n",
       "      <td>0</td>\n",
       "      <td>0</td>\n",
       "      <td>7</td>\n",
       "      <td>7</td>\n",
       "      <td>100.0</td>\n",
       "      <td>0</td>\n",
       "    </tr>\n",
       "    <tr>\n",
       "      <th>64</th>\n",
       "      <td>Hyundai Truck &amp; Bus</td>\n",
       "      <td>EX8</td>\n",
       "      <td>0</td>\n",
       "      <td>0</td>\n",
       "      <td>0</td>\n",
       "      <td>0</td>\n",
       "      <td>6</td>\n",
       "      <td>6</td>\n",
       "      <td>100.0</td>\n",
       "      <td>0</td>\n",
       "    </tr>\n",
       "    <tr>\n",
       "      <th>87</th>\n",
       "      <td>Iveco</td>\n",
       "      <td>Tipper</td>\n",
       "      <td>0</td>\n",
       "      <td>0</td>\n",
       "      <td>0</td>\n",
       "      <td>0</td>\n",
       "      <td>4</td>\n",
       "      <td>4</td>\n",
       "      <td>100.0</td>\n",
       "      <td>0</td>\n",
       "    </tr>\n",
       "    <tr>\n",
       "      <th>84</th>\n",
       "      <td>Iveco</td>\n",
       "      <td>Daily A</td>\n",
       "      <td>0</td>\n",
       "      <td>0</td>\n",
       "      <td>0</td>\n",
       "      <td>0</td>\n",
       "      <td>2</td>\n",
       "      <td>2</td>\n",
       "      <td>100.0</td>\n",
       "      <td>0</td>\n",
       "    </tr>\n",
       "    <tr>\n",
       "      <th>86</th>\n",
       "      <td>Iveco</td>\n",
       "      <td>Stralis</td>\n",
       "      <td>0</td>\n",
       "      <td>0</td>\n",
       "      <td>0</td>\n",
       "      <td>0</td>\n",
       "      <td>2</td>\n",
       "      <td>2</td>\n",
       "      <td>100.0</td>\n",
       "      <td>0</td>\n",
       "    </tr>\n",
       "    <tr>\n",
       "      <th>274</th>\n",
       "      <td>Урал</td>\n",
       "      <td>5557</td>\n",
       "      <td>0</td>\n",
       "      <td>0</td>\n",
       "      <td>0</td>\n",
       "      <td>0</td>\n",
       "      <td>2</td>\n",
       "      <td>2</td>\n",
       "      <td>100.0</td>\n",
       "      <td>0</td>\n",
       "    </tr>\n",
       "    <tr>\n",
       "      <th>66</th>\n",
       "      <td>Hyundai Truck &amp; Bus</td>\n",
       "      <td>HD 160</td>\n",
       "      <td>0</td>\n",
       "      <td>0</td>\n",
       "      <td>0</td>\n",
       "      <td>0</td>\n",
       "      <td>1</td>\n",
       "      <td>1</td>\n",
       "      <td>100.0</td>\n",
       "      <td>0</td>\n",
       "    </tr>\n",
       "    <tr>\n",
       "      <th>85</th>\n",
       "      <td>Iveco</td>\n",
       "      <td>Daily V</td>\n",
       "      <td>0</td>\n",
       "      <td>0</td>\n",
       "      <td>0</td>\n",
       "      <td>0</td>\n",
       "      <td>1</td>\n",
       "      <td>1</td>\n",
       "      <td>100.0</td>\n",
       "      <td>0</td>\n",
       "    </tr>\n",
       "    <tr>\n",
       "      <th>270</th>\n",
       "      <td>Урал</td>\n",
       "      <td>32551</td>\n",
       "      <td>0</td>\n",
       "      <td>0</td>\n",
       "      <td>0</td>\n",
       "      <td>0</td>\n",
       "      <td>1</td>\n",
       "      <td>1</td>\n",
       "      <td>100.0</td>\n",
       "      <td>0</td>\n",
       "    </tr>\n",
       "    <tr>\n",
       "      <th>272</th>\n",
       "      <td>Урал</td>\n",
       "      <td>4320-1951-40</td>\n",
       "      <td>0</td>\n",
       "      <td>0</td>\n",
       "      <td>0</td>\n",
       "      <td>0</td>\n",
       "      <td>1</td>\n",
       "      <td>1</td>\n",
       "      <td>100.0</td>\n",
       "      <td>0</td>\n",
       "    </tr>\n",
       "    <tr>\n",
       "      <th>273</th>\n",
       "      <td>Урал</td>\n",
       "      <td>4320-1951-60</td>\n",
       "      <td>0</td>\n",
       "      <td>0</td>\n",
       "      <td>0</td>\n",
       "      <td>0</td>\n",
       "      <td>1</td>\n",
       "      <td>1</td>\n",
       "      <td>100.0</td>\n",
       "      <td>0</td>\n",
       "    </tr>\n",
       "  </tbody>\n",
       "</table>\n",
       "</div>"
      ],
      "text/plain": [
       "index                brand           model  Бензин  Гибрид  Дизель  \\\n",
       "40               Dong Feng      BWC6665GA5       0       0       0   \n",
       "44                   Foton  BJ3253DMPKB-AD       0       0       0   \n",
       "271                   Урал            4320       0       0       0   \n",
       "64     Hyundai Truck & Bus             EX8       0       0       0   \n",
       "87                   Iveco          Tipper       0       0       0   \n",
       "84                   Iveco         Daily A       0       0       0   \n",
       "86                   Iveco         Stralis       0       0       0   \n",
       "274                   Урал            5557       0       0       0   \n",
       "66     Hyundai Truck & Bus          HD 160       0       0       0   \n",
       "85                   Iveco         Daily V       0       0       0   \n",
       "270                   Урал           32551       0       0       0   \n",
       "272                   Урал    4320-1951-40       0       0       0   \n",
       "273                   Урал    4320-1951-60       0       0       0   \n",
       "\n",
       "index  Электричество  null_cnt  obs_cnt  null_perc  mode_perc  \n",
       "40                 0        10       10      100.0          0  \n",
       "44                 0         9        9      100.0          0  \n",
       "271                0         7        7      100.0          0  \n",
       "64                 0         6        6      100.0          0  \n",
       "87                 0         4        4      100.0          0  \n",
       "84                 0         2        2      100.0          0  \n",
       "86                 0         2        2      100.0          0  \n",
       "274                0         2        2      100.0          0  \n",
       "66                 0         1        1      100.0          0  \n",
       "85                 0         1        1      100.0          0  \n",
       "270                0         1        1      100.0          0  \n",
       "272                0         1        1      100.0          0  \n",
       "273                0         1        1      100.0          0  "
      ]
     },
     "execution_count": 158,
     "metadata": {},
     "output_type": "execute_result"
    }
   ],
   "source": [
    "# запишем в иные переменные\n",
    "pt_fuel_fill, str_fuel_fill = null_analysis(df, 'fuel_type')\n",
    "\n",
    "print(str_fuel_fill)\n",
    "pt_fuel_fill.sort_values(by='null_cnt', ascending=False)"
   ]
  },
  {
   "cell_type": "markdown",
   "id": "99dbe975-30d2-4730-8b97-8a16677da859",
   "metadata": {},
   "source": [
    "Что за транспортные средства остались?"
   ]
  },
  {
   "cell_type": "code",
   "execution_count": 159,
   "id": "63071e3f-fb93-4e71-98df-3ad2560215b0",
   "metadata": {},
   "outputs": [
    {
     "data": {
      "text/plain": [
       "array(['Средние автобусы', 'Малотоннажные грузовики',\n",
       "       'Крупнотоннажные грузовики', 'Микроавтобусы',\n",
       "       'Развозные автомобили', 'Среднетоннажные грузовики'], dtype=object)"
      ]
     },
     "execution_count": 159,
     "metadata": {},
     "output_type": "execute_result"
    }
   ],
   "source": [
    "df.loc[df['model'].isin(pt_fuel_fill['model'].unique())]['car_classification'].unique()"
   ]
  },
  {
   "cell_type": "markdown",
   "id": "ad6da3f5-7657-4fd5-a2e2-0f6fdbb3a527",
   "metadata": {},
   "source": [
    "Как видим, это грузовики и автобусы. Отнесём их к дизелю."
   ]
  },
  {
   "cell_type": "code",
   "execution_count": 160,
   "id": "11582d2a-15a3-4978-aa3f-c9a59defeb07",
   "metadata": {},
   "outputs": [],
   "source": [
    "df.loc[df['model'].isin(pt_fuel_fill['model'].unique()), 'fuel_type'] = 'Дизель'"
   ]
  },
  {
   "cell_type": "markdown",
   "id": "960e97e6-1314-4fac-82c8-40c49c3313d3",
   "metadata": {},
   "source": [
    "Проверим пропуски."
   ]
  },
  {
   "cell_type": "code",
   "execution_count": 161,
   "id": "fa3b1581-b4c7-4ce6-9864-f66b4dd0179f",
   "metadata": {},
   "outputs": [
    {
     "data": {
      "text/plain": [
       "0"
      ]
     },
     "execution_count": 161,
     "metadata": {},
     "output_type": "execute_result"
    }
   ],
   "source": [
    "df['fuel_type'].isna().sum()"
   ]
  },
  {
   "cell_type": "markdown",
   "id": "2dbd4aaa-5f7f-4bb5-a468-520e1f569f98",
   "metadata": {},
   "source": [
    "Пропусков здесь больше нет."
   ]
  },
  {
   "cell_type": "markdown",
   "id": "d390a4e1-3d0b-4ee9-be26-789c37e42915",
   "metadata": {},
   "source": [
    "<br>"
   ]
  },
  {
   "cell_type": "markdown",
   "id": "0efacd62-5b3c-467c-9848-525df0e50cec",
   "metadata": {},
   "source": [
    "<br>"
   ]
  },
  {
   "cell_type": "markdown",
   "id": "0da596c0-1f6f-438a-8367-d292591ca129",
   "metadata": {},
   "source": [
    "##### `Объём двигателя`"
   ]
  },
  {
   "cell_type": "code",
   "execution_count": 162,
   "id": "44c546ed-ec38-4282-8d6b-0b6b5eaf9328",
   "metadata": {},
   "outputs": [
    {
     "data": {
      "text/html": [
       "<div>\n",
       "<style scoped>\n",
       "    .dataframe tbody tr th:only-of-type {\n",
       "        vertical-align: middle;\n",
       "    }\n",
       "\n",
       "    .dataframe tbody tr th {\n",
       "        vertical-align: top;\n",
       "    }\n",
       "\n",
       "    .dataframe thead th {\n",
       "        text-align: right;\n",
       "    }\n",
       "</style>\n",
       "<table border=\"1\" class=\"dataframe\">\n",
       "  <thead>\n",
       "    <tr style=\"text-align: right;\">\n",
       "      <th></th>\n",
       "      <th>id</th>\n",
       "      <th>purchase_date</th>\n",
       "      <th>company</th>\n",
       "      <th>car_type</th>\n",
       "      <th>brand</th>\n",
       "      <th>model</th>\n",
       "      <th>car_classification</th>\n",
       "      <th>manufacturing_year</th>\n",
       "      <th>assembly_type</th>\n",
       "      <th>manufacturing_country</th>\n",
       "      <th>fuel_type</th>\n",
       "      <th>engine_displacement_l</th>\n",
       "      <th>transmission_type</th>\n",
       "      <th>drive_type</th>\n",
       "      <th>region</th>\n",
       "      <th>city</th>\n",
       "      <th>dealer_center_name</th>\n",
       "      <th>customer_type</th>\n",
       "      <th>payment_form</th>\n",
       "      <th>quantity</th>\n",
       "      <th>price_usd</th>\n",
       "      <th>sale_usd</th>\n",
       "    </tr>\n",
       "  </thead>\n",
       "  <tbody>\n",
       "    <tr>\n",
       "      <th>97</th>\n",
       "      <td>97</td>\n",
       "      <td>2019-01-01</td>\n",
       "      <td>СемАЗ</td>\n",
       "      <td>Коммерческие автомобили</td>\n",
       "      <td>Dong Feng</td>\n",
       "      <td>BWC6665GA5</td>\n",
       "      <td>Средние автобусы</td>\n",
       "      <td>2019</td>\n",
       "      <td>Локальное производство</td>\n",
       "      <td>Казахстан</td>\n",
       "      <td>Дизель</td>\n",
       "      <td>NaN</td>\n",
       "      <td>NaN</td>\n",
       "      <td>NaN</td>\n",
       "      <td>г.Нур-Султан</td>\n",
       "      <td>Нур-Султан</td>\n",
       "      <td>СемАЗ</td>\n",
       "      <td>NaN</td>\n",
       "      <td>NaN</td>\n",
       "      <td>29</td>\n",
       "      <td>26693</td>\n",
       "      <td>774091</td>\n",
       "    </tr>\n",
       "    <tr>\n",
       "      <th>99</th>\n",
       "      <td>99</td>\n",
       "      <td>2019-01-01</td>\n",
       "      <td>СемАЗ</td>\n",
       "      <td>Коммерческие автомобили</td>\n",
       "      <td>Foton</td>\n",
       "      <td>BJ1069VDJEA-F1</td>\n",
       "      <td>Малотоннажные грузовики</td>\n",
       "      <td>2018</td>\n",
       "      <td>Локальное производство</td>\n",
       "      <td>Казахстан</td>\n",
       "      <td>Дизель</td>\n",
       "      <td>NaN</td>\n",
       "      <td>NaN</td>\n",
       "      <td>NaN</td>\n",
       "      <td>г.Алматы</td>\n",
       "      <td>Алматы</td>\n",
       "      <td>Меридиан АВТО Алматы</td>\n",
       "      <td>NaN</td>\n",
       "      <td>NaN</td>\n",
       "      <td>3</td>\n",
       "      <td>13619</td>\n",
       "      <td>40858</td>\n",
       "    </tr>\n",
       "    <tr>\n",
       "      <th>1052</th>\n",
       "      <td>1052</td>\n",
       "      <td>2019-01-01</td>\n",
       "      <td>СВС-ТРАНС</td>\n",
       "      <td>Коммерческие автомобили</td>\n",
       "      <td>Isuzu</td>\n",
       "      <td>NMS85</td>\n",
       "      <td>Среднетоннажные грузовики</td>\n",
       "      <td>2018</td>\n",
       "      <td>Импорт</td>\n",
       "      <td>Россия</td>\n",
       "      <td>Дизель</td>\n",
       "      <td>NaN</td>\n",
       "      <td>NaN</td>\n",
       "      <td>4WD</td>\n",
       "      <td>г.Алматы</td>\n",
       "      <td>Алматы</td>\n",
       "      <td>CBC Алматы</td>\n",
       "      <td>NaN</td>\n",
       "      <td>NaN</td>\n",
       "      <td>1</td>\n",
       "      <td>44146</td>\n",
       "      <td>44146</td>\n",
       "    </tr>\n",
       "    <tr>\n",
       "      <th>1053</th>\n",
       "      <td>1053</td>\n",
       "      <td>2019-01-01</td>\n",
       "      <td>СВС-ТРАНС</td>\n",
       "      <td>Коммерческие автомобили</td>\n",
       "      <td>Isuzu</td>\n",
       "      <td>NPR</td>\n",
       "      <td>Малотоннажные грузовики</td>\n",
       "      <td>2018</td>\n",
       "      <td>Импорт</td>\n",
       "      <td>Россия</td>\n",
       "      <td>Дизель</td>\n",
       "      <td>NaN</td>\n",
       "      <td>NaN</td>\n",
       "      <td>2WD</td>\n",
       "      <td>г.Алматы</td>\n",
       "      <td>Алматы</td>\n",
       "      <td>CBC Алматы</td>\n",
       "      <td>NaN</td>\n",
       "      <td>NaN</td>\n",
       "      <td>1</td>\n",
       "      <td>37000</td>\n",
       "      <td>37000</td>\n",
       "    </tr>\n",
       "    <tr>\n",
       "      <th>1054</th>\n",
       "      <td>1054</td>\n",
       "      <td>2019-01-01</td>\n",
       "      <td>СВС-ТРАНС</td>\n",
       "      <td>Коммерческие автомобили</td>\n",
       "      <td>Isuzu</td>\n",
       "      <td>NPR</td>\n",
       "      <td>Малотоннажные грузовики</td>\n",
       "      <td>2018</td>\n",
       "      <td>Импорт</td>\n",
       "      <td>Россия</td>\n",
       "      <td>Дизель</td>\n",
       "      <td>NaN</td>\n",
       "      <td>NaN</td>\n",
       "      <td>2WD</td>\n",
       "      <td>г.Алматы</td>\n",
       "      <td>Алматы</td>\n",
       "      <td>CBC Алматы</td>\n",
       "      <td>NaN</td>\n",
       "      <td>NaN</td>\n",
       "      <td>1</td>\n",
       "      <td>37000</td>\n",
       "      <td>37000</td>\n",
       "    </tr>\n",
       "  </tbody>\n",
       "</table>\n",
       "</div>"
      ],
      "text/plain": [
       "        id purchase_date    company                 car_type      brand  \\\n",
       "97      97    2019-01-01      СемАЗ  Коммерческие автомобили  Dong Feng   \n",
       "99      99    2019-01-01      СемАЗ  Коммерческие автомобили      Foton   \n",
       "1052  1052    2019-01-01  СВС-ТРАНС  Коммерческие автомобили      Isuzu   \n",
       "1053  1053    2019-01-01  СВС-ТРАНС  Коммерческие автомобили      Isuzu   \n",
       "1054  1054    2019-01-01  СВС-ТРАНС  Коммерческие автомобили      Isuzu   \n",
       "\n",
       "               model         car_classification  manufacturing_year  \\\n",
       "97        BWC6665GA5           Средние автобусы                2019   \n",
       "99    BJ1069VDJEA-F1    Малотоннажные грузовики                2018   \n",
       "1052           NMS85  Среднетоннажные грузовики                2018   \n",
       "1053             NPR    Малотоннажные грузовики                2018   \n",
       "1054             NPR    Малотоннажные грузовики                2018   \n",
       "\n",
       "               assembly_type manufacturing_country fuel_type  \\\n",
       "97    Локальное производство             Казахстан    Дизель   \n",
       "99    Локальное производство             Казахстан    Дизель   \n",
       "1052                  Импорт                Россия    Дизель   \n",
       "1053                  Импорт                Россия    Дизель   \n",
       "1054                  Импорт                Россия    Дизель   \n",
       "\n",
       "      engine_displacement_l transmission_type drive_type        region  \\\n",
       "97                      NaN               NaN        NaN  г.Нур-Султан   \n",
       "99                      NaN               NaN        NaN      г.Алматы   \n",
       "1052                    NaN               NaN        4WD      г.Алматы   \n",
       "1053                    NaN               NaN        2WD      г.Алматы   \n",
       "1054                    NaN               NaN        2WD      г.Алматы   \n",
       "\n",
       "            city    dealer_center_name customer_type payment_form  quantity  \\\n",
       "97    Нур-Султан                 СемАЗ           NaN          NaN        29   \n",
       "99        Алматы  Меридиан АВТО Алматы           NaN          NaN         3   \n",
       "1052      Алматы            CBC Алматы           NaN          NaN         1   \n",
       "1053      Алматы            CBC Алматы           NaN          NaN         1   \n",
       "1054      Алматы            CBC Алматы           NaN          NaN         1   \n",
       "\n",
       "      price_usd  sale_usd  \n",
       "97        26693    774091  \n",
       "99        13619     40858  \n",
       "1052      44146     44146  \n",
       "1053      37000     37000  \n",
       "1054      37000     37000  "
      ]
     },
     "execution_count": 162,
     "metadata": {},
     "output_type": "execute_result"
    }
   ],
   "source": [
    "df[df['engine_displacement_l'].isna()].head()"
   ]
  },
  {
   "cell_type": "code",
   "execution_count": 163,
   "id": "7572ea36-c784-444b-a207-92e241548ba9",
   "metadata": {},
   "outputs": [
    {
     "data": {
      "text/plain": [
       "1.6    9075\n",
       "2.0    8133\n",
       "2.7    5074\n",
       "2.5    5034\n",
       "NaN    4275\n",
       "1.5    1559\n",
       "2.4    1247\n",
       "1.7     833\n",
       "3.5     788\n",
       "4.6     754\n",
       "Name: engine_displacement_l, dtype: int64"
      ]
     },
     "execution_count": 163,
     "metadata": {},
     "output_type": "execute_result"
    }
   ],
   "source": [
    "df['engine_displacement_l'].value_counts(dropna=False).head(10)"
   ]
  },
  {
   "cell_type": "markdown",
   "id": "655ff658-1b95-4480-ad09-d9b2cfa641e1",
   "metadata": {},
   "source": [
    "Здесь пропуски — пятое самое встречаемое значение."
   ]
  },
  {
   "cell_type": "markdown",
   "id": "5ae8ea4c-74dd-49a9-94c7-ac047b4a90de",
   "metadata": {},
   "source": [
    "<br>"
   ]
  },
  {
   "cell_type": "markdown",
   "id": "3664eae9-62b7-4f97-95b9-b6873e1104ff",
   "metadata": {},
   "source": [
    "Применим функцию."
   ]
  },
  {
   "cell_type": "code",
   "execution_count": 164,
   "id": "343decac-31b6-4f02-b5de-4b53874ee5e5",
   "metadata": {},
   "outputs": [],
   "source": [
    "pt_engine, str_engine = null_analysis(df, 'engine_displacement_l')"
   ]
  },
  {
   "cell_type": "code",
   "execution_count": 165,
   "id": "891a47f7-e692-4756-8b39-b6f3e81f4a3b",
   "metadata": {},
   "outputs": [
    {
     "name": "stdout",
     "output_type": "stream",
     "text": [
      "Количество пропущенных значений в сводной таблице и основном датафрейме сходится.\n",
      "В сводной: 4275 пропусков. В датафрейме: 4275 пропусков.\n",
      "\n",
      "Количество наблюдений в сводной таблице и основном датафрейме сходится.\n",
      "В сводной: 11975 наблюдений. В датафрейме: 11975 наблюдений.\n",
      "\n",
      "\n"
     ]
    },
    {
     "data": {
      "text/html": [
       "<div>\n",
       "<style scoped>\n",
       "    .dataframe tbody tr th:only-of-type {\n",
       "        vertical-align: middle;\n",
       "    }\n",
       "\n",
       "    .dataframe tbody tr th {\n",
       "        vertical-align: top;\n",
       "    }\n",
       "\n",
       "    .dataframe thead th {\n",
       "        text-align: right;\n",
       "    }\n",
       "</style>\n",
       "<table border=\"1\" class=\"dataframe\">\n",
       "  <thead>\n",
       "    <tr style=\"text-align: right;\">\n",
       "      <th>index</th>\n",
       "      <th>brand</th>\n",
       "      <th>model</th>\n",
       "      <th>1.2</th>\n",
       "      <th>1.3</th>\n",
       "      <th>1.4</th>\n",
       "      <th>1.5</th>\n",
       "      <th>1.6</th>\n",
       "      <th>1.7</th>\n",
       "      <th>1.8</th>\n",
       "      <th>10.5</th>\n",
       "      <th>11.0</th>\n",
       "      <th>12.0</th>\n",
       "      <th>12.3</th>\n",
       "      <th>12.8</th>\n",
       "      <th>13.0</th>\n",
       "      <th>2.0</th>\n",
       "      <th>2.2</th>\n",
       "      <th>2.4</th>\n",
       "      <th>2.5</th>\n",
       "      <th>2.7</th>\n",
       "      <th>2.8</th>\n",
       "      <th>2.9</th>\n",
       "      <th>3.0</th>\n",
       "      <th>3.3</th>\n",
       "      <th>3.5</th>\n",
       "      <th>3.6</th>\n",
       "      <th>3.8</th>\n",
       "      <th>3.9</th>\n",
       "      <th>4.0</th>\n",
       "      <th>4.3</th>\n",
       "      <th>4.4</th>\n",
       "      <th>4.6</th>\n",
       "      <th>4.9</th>\n",
       "      <th>5.0</th>\n",
       "      <th>5.2</th>\n",
       "      <th>5.5</th>\n",
       "      <th>5.6</th>\n",
       "      <th>5.7</th>\n",
       "      <th>6.2</th>\n",
       "      <th>6.5</th>\n",
       "      <th>6.6</th>\n",
       "      <th>6.7</th>\n",
       "      <th>7.5</th>\n",
       "      <th>7.6</th>\n",
       "      <th>8.4</th>\n",
       "      <th>8.7</th>\n",
       "      <th>null_cnt</th>\n",
       "      <th>obs_cnt</th>\n",
       "      <th>null_perc</th>\n",
       "      <th>mode_perc</th>\n",
       "    </tr>\n",
       "  </thead>\n",
       "  <tbody>\n",
       "    <tr>\n",
       "      <th>118</th>\n",
       "      <td>KAMAZ</td>\n",
       "      <td>58815Z</td>\n",
       "      <td>0</td>\n",
       "      <td>0</td>\n",
       "      <td>0</td>\n",
       "      <td>0</td>\n",
       "      <td>0</td>\n",
       "      <td>0</td>\n",
       "      <td>0</td>\n",
       "      <td>0</td>\n",
       "      <td>0</td>\n",
       "      <td>0</td>\n",
       "      <td>0</td>\n",
       "      <td>0</td>\n",
       "      <td>0</td>\n",
       "      <td>0</td>\n",
       "      <td>0</td>\n",
       "      <td>0</td>\n",
       "      <td>0</td>\n",
       "      <td>0</td>\n",
       "      <td>0</td>\n",
       "      <td>0</td>\n",
       "      <td>0</td>\n",
       "      <td>0</td>\n",
       "      <td>0</td>\n",
       "      <td>0</td>\n",
       "      <td>0</td>\n",
       "      <td>0</td>\n",
       "      <td>0</td>\n",
       "      <td>0</td>\n",
       "      <td>0</td>\n",
       "      <td>0</td>\n",
       "      <td>0</td>\n",
       "      <td>0</td>\n",
       "      <td>0</td>\n",
       "      <td>0</td>\n",
       "      <td>0</td>\n",
       "      <td>0</td>\n",
       "      <td>0</td>\n",
       "      <td>0</td>\n",
       "      <td>0</td>\n",
       "      <td>0</td>\n",
       "      <td>0</td>\n",
       "      <td>0</td>\n",
       "      <td>0</td>\n",
       "      <td>0</td>\n",
       "      <td>15</td>\n",
       "      <td>15</td>\n",
       "      <td>100.0</td>\n",
       "      <td>0.0</td>\n",
       "    </tr>\n",
       "    <tr>\n",
       "      <th>116</th>\n",
       "      <td>KAMAZ</td>\n",
       "      <td>54115</td>\n",
       "      <td>0</td>\n",
       "      <td>0</td>\n",
       "      <td>0</td>\n",
       "      <td>0</td>\n",
       "      <td>0</td>\n",
       "      <td>0</td>\n",
       "      <td>0</td>\n",
       "      <td>0</td>\n",
       "      <td>0</td>\n",
       "      <td>0</td>\n",
       "      <td>0</td>\n",
       "      <td>0</td>\n",
       "      <td>0</td>\n",
       "      <td>0</td>\n",
       "      <td>0</td>\n",
       "      <td>0</td>\n",
       "      <td>0</td>\n",
       "      <td>0</td>\n",
       "      <td>0</td>\n",
       "      <td>0</td>\n",
       "      <td>0</td>\n",
       "      <td>0</td>\n",
       "      <td>0</td>\n",
       "      <td>0</td>\n",
       "      <td>0</td>\n",
       "      <td>0</td>\n",
       "      <td>0</td>\n",
       "      <td>0</td>\n",
       "      <td>0</td>\n",
       "      <td>0</td>\n",
       "      <td>0</td>\n",
       "      <td>0</td>\n",
       "      <td>0</td>\n",
       "      <td>0</td>\n",
       "      <td>0</td>\n",
       "      <td>0</td>\n",
       "      <td>0</td>\n",
       "      <td>0</td>\n",
       "      <td>0</td>\n",
       "      <td>0</td>\n",
       "      <td>0</td>\n",
       "      <td>0</td>\n",
       "      <td>0</td>\n",
       "      <td>0</td>\n",
       "      <td>17</td>\n",
       "      <td>17</td>\n",
       "      <td>100.0</td>\n",
       "      <td>0.0</td>\n",
       "    </tr>\n",
       "    <tr>\n",
       "      <th>125</th>\n",
       "      <td>KAMAZ</td>\n",
       "      <td>65225</td>\n",
       "      <td>0</td>\n",
       "      <td>0</td>\n",
       "      <td>0</td>\n",
       "      <td>0</td>\n",
       "      <td>0</td>\n",
       "      <td>0</td>\n",
       "      <td>0</td>\n",
       "      <td>0</td>\n",
       "      <td>0</td>\n",
       "      <td>0</td>\n",
       "      <td>0</td>\n",
       "      <td>0</td>\n",
       "      <td>0</td>\n",
       "      <td>0</td>\n",
       "      <td>0</td>\n",
       "      <td>0</td>\n",
       "      <td>0</td>\n",
       "      <td>0</td>\n",
       "      <td>0</td>\n",
       "      <td>0</td>\n",
       "      <td>0</td>\n",
       "      <td>0</td>\n",
       "      <td>0</td>\n",
       "      <td>0</td>\n",
       "      <td>0</td>\n",
       "      <td>0</td>\n",
       "      <td>0</td>\n",
       "      <td>0</td>\n",
       "      <td>0</td>\n",
       "      <td>0</td>\n",
       "      <td>0</td>\n",
       "      <td>0</td>\n",
       "      <td>0</td>\n",
       "      <td>0</td>\n",
       "      <td>0</td>\n",
       "      <td>0</td>\n",
       "      <td>0</td>\n",
       "      <td>0</td>\n",
       "      <td>0</td>\n",
       "      <td>0</td>\n",
       "      <td>0</td>\n",
       "      <td>0</td>\n",
       "      <td>0</td>\n",
       "      <td>0</td>\n",
       "      <td>3</td>\n",
       "      <td>3</td>\n",
       "      <td>100.0</td>\n",
       "      <td>0.0</td>\n",
       "    </tr>\n",
       "    <tr>\n",
       "      <th>110</th>\n",
       "      <td>KAMAZ</td>\n",
       "      <td>45141</td>\n",
       "      <td>0</td>\n",
       "      <td>0</td>\n",
       "      <td>0</td>\n",
       "      <td>0</td>\n",
       "      <td>0</td>\n",
       "      <td>0</td>\n",
       "      <td>0</td>\n",
       "      <td>0</td>\n",
       "      <td>0</td>\n",
       "      <td>0</td>\n",
       "      <td>0</td>\n",
       "      <td>0</td>\n",
       "      <td>0</td>\n",
       "      <td>0</td>\n",
       "      <td>0</td>\n",
       "      <td>0</td>\n",
       "      <td>0</td>\n",
       "      <td>0</td>\n",
       "      <td>0</td>\n",
       "      <td>0</td>\n",
       "      <td>0</td>\n",
       "      <td>0</td>\n",
       "      <td>0</td>\n",
       "      <td>0</td>\n",
       "      <td>0</td>\n",
       "      <td>0</td>\n",
       "      <td>0</td>\n",
       "      <td>0</td>\n",
       "      <td>0</td>\n",
       "      <td>0</td>\n",
       "      <td>0</td>\n",
       "      <td>0</td>\n",
       "      <td>0</td>\n",
       "      <td>0</td>\n",
       "      <td>0</td>\n",
       "      <td>0</td>\n",
       "      <td>0</td>\n",
       "      <td>0</td>\n",
       "      <td>0</td>\n",
       "      <td>0</td>\n",
       "      <td>0</td>\n",
       "      <td>0</td>\n",
       "      <td>0</td>\n",
       "      <td>0</td>\n",
       "      <td>3</td>\n",
       "      <td>3</td>\n",
       "      <td>100.0</td>\n",
       "      <td>0.0</td>\n",
       "    </tr>\n",
       "    <tr>\n",
       "      <th>124</th>\n",
       "      <td>KAMAZ</td>\n",
       "      <td>65206</td>\n",
       "      <td>0</td>\n",
       "      <td>0</td>\n",
       "      <td>0</td>\n",
       "      <td>0</td>\n",
       "      <td>0</td>\n",
       "      <td>0</td>\n",
       "      <td>0</td>\n",
       "      <td>0</td>\n",
       "      <td>0</td>\n",
       "      <td>0</td>\n",
       "      <td>0</td>\n",
       "      <td>0</td>\n",
       "      <td>0</td>\n",
       "      <td>0</td>\n",
       "      <td>0</td>\n",
       "      <td>0</td>\n",
       "      <td>0</td>\n",
       "      <td>0</td>\n",
       "      <td>0</td>\n",
       "      <td>0</td>\n",
       "      <td>0</td>\n",
       "      <td>0</td>\n",
       "      <td>0</td>\n",
       "      <td>0</td>\n",
       "      <td>0</td>\n",
       "      <td>0</td>\n",
       "      <td>0</td>\n",
       "      <td>0</td>\n",
       "      <td>0</td>\n",
       "      <td>0</td>\n",
       "      <td>0</td>\n",
       "      <td>0</td>\n",
       "      <td>0</td>\n",
       "      <td>0</td>\n",
       "      <td>0</td>\n",
       "      <td>0</td>\n",
       "      <td>0</td>\n",
       "      <td>0</td>\n",
       "      <td>0</td>\n",
       "      <td>0</td>\n",
       "      <td>0</td>\n",
       "      <td>0</td>\n",
       "      <td>0</td>\n",
       "      <td>0</td>\n",
       "      <td>4</td>\n",
       "      <td>4</td>\n",
       "      <td>100.0</td>\n",
       "      <td>0.0</td>\n",
       "    </tr>\n",
       "    <tr>\n",
       "      <th>...</th>\n",
       "      <td>...</td>\n",
       "      <td>...</td>\n",
       "      <td>...</td>\n",
       "      <td>...</td>\n",
       "      <td>...</td>\n",
       "      <td>...</td>\n",
       "      <td>...</td>\n",
       "      <td>...</td>\n",
       "      <td>...</td>\n",
       "      <td>...</td>\n",
       "      <td>...</td>\n",
       "      <td>...</td>\n",
       "      <td>...</td>\n",
       "      <td>...</td>\n",
       "      <td>...</td>\n",
       "      <td>...</td>\n",
       "      <td>...</td>\n",
       "      <td>...</td>\n",
       "      <td>...</td>\n",
       "      <td>...</td>\n",
       "      <td>...</td>\n",
       "      <td>...</td>\n",
       "      <td>...</td>\n",
       "      <td>...</td>\n",
       "      <td>...</td>\n",
       "      <td>...</td>\n",
       "      <td>...</td>\n",
       "      <td>...</td>\n",
       "      <td>...</td>\n",
       "      <td>...</td>\n",
       "      <td>...</td>\n",
       "      <td>...</td>\n",
       "      <td>...</td>\n",
       "      <td>...</td>\n",
       "      <td>...</td>\n",
       "      <td>...</td>\n",
       "      <td>...</td>\n",
       "      <td>...</td>\n",
       "      <td>...</td>\n",
       "      <td>...</td>\n",
       "      <td>...</td>\n",
       "      <td>...</td>\n",
       "      <td>...</td>\n",
       "      <td>...</td>\n",
       "      <td>...</td>\n",
       "      <td>...</td>\n",
       "      <td>...</td>\n",
       "      <td>...</td>\n",
       "      <td>...</td>\n",
       "      <td>...</td>\n",
       "    </tr>\n",
       "    <tr>\n",
       "      <th>257</th>\n",
       "      <td>Volkswagen</td>\n",
       "      <td>Polo</td>\n",
       "      <td>0</td>\n",
       "      <td>0</td>\n",
       "      <td>0</td>\n",
       "      <td>0</td>\n",
       "      <td>512</td>\n",
       "      <td>0</td>\n",
       "      <td>0</td>\n",
       "      <td>0</td>\n",
       "      <td>0</td>\n",
       "      <td>0</td>\n",
       "      <td>0</td>\n",
       "      <td>0</td>\n",
       "      <td>0</td>\n",
       "      <td>3</td>\n",
       "      <td>0</td>\n",
       "      <td>0</td>\n",
       "      <td>0</td>\n",
       "      <td>0</td>\n",
       "      <td>0</td>\n",
       "      <td>0</td>\n",
       "      <td>0</td>\n",
       "      <td>0</td>\n",
       "      <td>0</td>\n",
       "      <td>0</td>\n",
       "      <td>0</td>\n",
       "      <td>0</td>\n",
       "      <td>0</td>\n",
       "      <td>0</td>\n",
       "      <td>0</td>\n",
       "      <td>0</td>\n",
       "      <td>0</td>\n",
       "      <td>0</td>\n",
       "      <td>0</td>\n",
       "      <td>0</td>\n",
       "      <td>0</td>\n",
       "      <td>0</td>\n",
       "      <td>0</td>\n",
       "      <td>0</td>\n",
       "      <td>0</td>\n",
       "      <td>0</td>\n",
       "      <td>0</td>\n",
       "      <td>0</td>\n",
       "      <td>0</td>\n",
       "      <td>1</td>\n",
       "      <td>28</td>\n",
       "      <td>544</td>\n",
       "      <td>5.1</td>\n",
       "      <td>99.2</td>\n",
       "    </tr>\n",
       "    <tr>\n",
       "      <th>51</th>\n",
       "      <td>GAZ</td>\n",
       "      <td>3308</td>\n",
       "      <td>0</td>\n",
       "      <td>0</td>\n",
       "      <td>0</td>\n",
       "      <td>0</td>\n",
       "      <td>0</td>\n",
       "      <td>0</td>\n",
       "      <td>0</td>\n",
       "      <td>0</td>\n",
       "      <td>0</td>\n",
       "      <td>0</td>\n",
       "      <td>0</td>\n",
       "      <td>0</td>\n",
       "      <td>0</td>\n",
       "      <td>0</td>\n",
       "      <td>0</td>\n",
       "      <td>0</td>\n",
       "      <td>0</td>\n",
       "      <td>1</td>\n",
       "      <td>0</td>\n",
       "      <td>0</td>\n",
       "      <td>0</td>\n",
       "      <td>0</td>\n",
       "      <td>0</td>\n",
       "      <td>0</td>\n",
       "      <td>0</td>\n",
       "      <td>0</td>\n",
       "      <td>0</td>\n",
       "      <td>53</td>\n",
       "      <td>0</td>\n",
       "      <td>0</td>\n",
       "      <td>0</td>\n",
       "      <td>0</td>\n",
       "      <td>0</td>\n",
       "      <td>0</td>\n",
       "      <td>0</td>\n",
       "      <td>0</td>\n",
       "      <td>0</td>\n",
       "      <td>0</td>\n",
       "      <td>0</td>\n",
       "      <td>0</td>\n",
       "      <td>0</td>\n",
       "      <td>0</td>\n",
       "      <td>0</td>\n",
       "      <td>0</td>\n",
       "      <td>1</td>\n",
       "      <td>55</td>\n",
       "      <td>1.8</td>\n",
       "      <td>98.1</td>\n",
       "    </tr>\n",
       "    <tr>\n",
       "      <th>146</th>\n",
       "      <td>Land Rover</td>\n",
       "      <td>Range Rover</td>\n",
       "      <td>0</td>\n",
       "      <td>0</td>\n",
       "      <td>0</td>\n",
       "      <td>0</td>\n",
       "      <td>0</td>\n",
       "      <td>0</td>\n",
       "      <td>0</td>\n",
       "      <td>0</td>\n",
       "      <td>0</td>\n",
       "      <td>0</td>\n",
       "      <td>0</td>\n",
       "      <td>0</td>\n",
       "      <td>0</td>\n",
       "      <td>16</td>\n",
       "      <td>0</td>\n",
       "      <td>0</td>\n",
       "      <td>0</td>\n",
       "      <td>0</td>\n",
       "      <td>0</td>\n",
       "      <td>0</td>\n",
       "      <td>29</td>\n",
       "      <td>0</td>\n",
       "      <td>0</td>\n",
       "      <td>0</td>\n",
       "      <td>0</td>\n",
       "      <td>0</td>\n",
       "      <td>0</td>\n",
       "      <td>0</td>\n",
       "      <td>0</td>\n",
       "      <td>0</td>\n",
       "      <td>0</td>\n",
       "      <td>39</td>\n",
       "      <td>0</td>\n",
       "      <td>0</td>\n",
       "      <td>0</td>\n",
       "      <td>0</td>\n",
       "      <td>0</td>\n",
       "      <td>0</td>\n",
       "      <td>0</td>\n",
       "      <td>0</td>\n",
       "      <td>0</td>\n",
       "      <td>0</td>\n",
       "      <td>0</td>\n",
       "      <td>0</td>\n",
       "      <td>1</td>\n",
       "      <td>85</td>\n",
       "      <td>1.2</td>\n",
       "      <td>46.4</td>\n",
       "    </tr>\n",
       "    <tr>\n",
       "      <th>237</th>\n",
       "      <td>Toyota</td>\n",
       "      <td>HILUX DC</td>\n",
       "      <td>0</td>\n",
       "      <td>0</td>\n",
       "      <td>0</td>\n",
       "      <td>0</td>\n",
       "      <td>0</td>\n",
       "      <td>0</td>\n",
       "      <td>0</td>\n",
       "      <td>0</td>\n",
       "      <td>0</td>\n",
       "      <td>0</td>\n",
       "      <td>0</td>\n",
       "      <td>0</td>\n",
       "      <td>0</td>\n",
       "      <td>0</td>\n",
       "      <td>0</td>\n",
       "      <td>298</td>\n",
       "      <td>0</td>\n",
       "      <td>502</td>\n",
       "      <td>25</td>\n",
       "      <td>0</td>\n",
       "      <td>0</td>\n",
       "      <td>0</td>\n",
       "      <td>0</td>\n",
       "      <td>0</td>\n",
       "      <td>0</td>\n",
       "      <td>0</td>\n",
       "      <td>0</td>\n",
       "      <td>0</td>\n",
       "      <td>0</td>\n",
       "      <td>0</td>\n",
       "      <td>0</td>\n",
       "      <td>0</td>\n",
       "      <td>0</td>\n",
       "      <td>0</td>\n",
       "      <td>0</td>\n",
       "      <td>0</td>\n",
       "      <td>0</td>\n",
       "      <td>0</td>\n",
       "      <td>0</td>\n",
       "      <td>0</td>\n",
       "      <td>0</td>\n",
       "      <td>0</td>\n",
       "      <td>0</td>\n",
       "      <td>0</td>\n",
       "      <td>2</td>\n",
       "      <td>827</td>\n",
       "      <td>0.2</td>\n",
       "      <td>60.8</td>\n",
       "    </tr>\n",
       "    <tr>\n",
       "      <th>235</th>\n",
       "      <td>Toyota</td>\n",
       "      <td>Corolla</td>\n",
       "      <td>0</td>\n",
       "      <td>7</td>\n",
       "      <td>0</td>\n",
       "      <td>0</td>\n",
       "      <td>190</td>\n",
       "      <td>0</td>\n",
       "      <td>0</td>\n",
       "      <td>0</td>\n",
       "      <td>0</td>\n",
       "      <td>0</td>\n",
       "      <td>0</td>\n",
       "      <td>0</td>\n",
       "      <td>0</td>\n",
       "      <td>0</td>\n",
       "      <td>0</td>\n",
       "      <td>0</td>\n",
       "      <td>0</td>\n",
       "      <td>759</td>\n",
       "      <td>0</td>\n",
       "      <td>0</td>\n",
       "      <td>0</td>\n",
       "      <td>0</td>\n",
       "      <td>0</td>\n",
       "      <td>0</td>\n",
       "      <td>0</td>\n",
       "      <td>0</td>\n",
       "      <td>131</td>\n",
       "      <td>0</td>\n",
       "      <td>0</td>\n",
       "      <td>0</td>\n",
       "      <td>0</td>\n",
       "      <td>0</td>\n",
       "      <td>0</td>\n",
       "      <td>0</td>\n",
       "      <td>0</td>\n",
       "      <td>0</td>\n",
       "      <td>0</td>\n",
       "      <td>0</td>\n",
       "      <td>0</td>\n",
       "      <td>0</td>\n",
       "      <td>0</td>\n",
       "      <td>0</td>\n",
       "      <td>0</td>\n",
       "      <td>0</td>\n",
       "      <td>2</td>\n",
       "      <td>1089</td>\n",
       "      <td>0.2</td>\n",
       "      <td>69.8</td>\n",
       "    </tr>\n",
       "  </tbody>\n",
       "</table>\n",
       "<p>108 rows × 50 columns</p>\n",
       "</div>"
      ],
      "text/plain": [
       "index       brand        model  1.2  1.3  1.4  1.5  1.6  1.7  1.8  10.5  11.0  \\\n",
       "118         KAMAZ       58815Z    0    0    0    0    0    0    0     0     0   \n",
       "116         KAMAZ        54115    0    0    0    0    0    0    0     0     0   \n",
       "125         KAMAZ        65225    0    0    0    0    0    0    0     0     0   \n",
       "110         KAMAZ        45141    0    0    0    0    0    0    0     0     0   \n",
       "124         KAMAZ        65206    0    0    0    0    0    0    0     0     0   \n",
       "..            ...          ...  ...  ...  ...  ...  ...  ...  ...   ...   ...   \n",
       "257    Volkswagen         Polo    0    0    0    0  512    0    0     0     0   \n",
       "51            GAZ         3308    0    0    0    0    0    0    0     0     0   \n",
       "146    Land Rover  Range Rover    0    0    0    0    0    0    0     0     0   \n",
       "237        Toyota     HILUX DC    0    0    0    0    0    0    0     0     0   \n",
       "235        Toyota      Corolla    0    7    0    0  190    0    0     0     0   \n",
       "\n",
       "index  12.0  12.3  12.8  13.0  2.0  2.2  2.4  2.5  2.7  2.8  2.9  3.0  3.3  \\\n",
       "118       0     0     0     0    0    0    0    0    0    0    0    0    0   \n",
       "116       0     0     0     0    0    0    0    0    0    0    0    0    0   \n",
       "125       0     0     0     0    0    0    0    0    0    0    0    0    0   \n",
       "110       0     0     0     0    0    0    0    0    0    0    0    0    0   \n",
       "124       0     0     0     0    0    0    0    0    0    0    0    0    0   \n",
       "..      ...   ...   ...   ...  ...  ...  ...  ...  ...  ...  ...  ...  ...   \n",
       "257       0     0     0     0    3    0    0    0    0    0    0    0    0   \n",
       "51        0     0     0     0    0    0    0    0    1    0    0    0    0   \n",
       "146       0     0     0     0   16    0    0    0    0    0    0   29    0   \n",
       "237       0     0     0     0    0    0  298    0  502   25    0    0    0   \n",
       "235       0     0     0     0    0    0    0    0  759    0    0    0    0   \n",
       "\n",
       "index  3.5  3.6  3.8  3.9  4.0  4.3  4.4  4.6  4.9  5.0  5.2  5.5  5.6  5.7  \\\n",
       "118      0    0    0    0    0    0    0    0    0    0    0    0    0    0   \n",
       "116      0    0    0    0    0    0    0    0    0    0    0    0    0    0   \n",
       "125      0    0    0    0    0    0    0    0    0    0    0    0    0    0   \n",
       "110      0    0    0    0    0    0    0    0    0    0    0    0    0    0   \n",
       "124      0    0    0    0    0    0    0    0    0    0    0    0    0    0   \n",
       "..     ...  ...  ...  ...  ...  ...  ...  ...  ...  ...  ...  ...  ...  ...   \n",
       "257      0    0    0    0    0    0    0    0    0    0    0    0    0    0   \n",
       "51       0    0    0    0    0   53    0    0    0    0    0    0    0    0   \n",
       "146      0    0    0    0    0    0    0    0    0   39    0    0    0    0   \n",
       "237      0    0    0    0    0    0    0    0    0    0    0    0    0    0   \n",
       "235      0    0    0    0  131    0    0    0    0    0    0    0    0    0   \n",
       "\n",
       "index  6.2  6.5  6.6  6.7  7.5  7.6  8.4  8.7  null_cnt  obs_cnt  null_perc  \\\n",
       "118      0    0    0    0    0    0    0    0        15       15      100.0   \n",
       "116      0    0    0    0    0    0    0    0        17       17      100.0   \n",
       "125      0    0    0    0    0    0    0    0         3        3      100.0   \n",
       "110      0    0    0    0    0    0    0    0         3        3      100.0   \n",
       "124      0    0    0    0    0    0    0    0         4        4      100.0   \n",
       "..     ...  ...  ...  ...  ...  ...  ...  ...       ...      ...        ...   \n",
       "257      0    0    0    0    0    0    0    1        28      544        5.1   \n",
       "51       0    0    0    0    0    0    0    0         1       55        1.8   \n",
       "146      0    0    0    0    0    0    0    0         1       85        1.2   \n",
       "237      0    0    0    0    0    0    0    0         2      827        0.2   \n",
       "235      0    0    0    0    0    0    0    0         2     1089        0.2   \n",
       "\n",
       "index  mode_perc  \n",
       "118          0.0  \n",
       "116          0.0  \n",
       "125          0.0  \n",
       "110          0.0  \n",
       "124          0.0  \n",
       "..           ...  \n",
       "257         99.2  \n",
       "51          98.1  \n",
       "146         46.4  \n",
       "237         60.8  \n",
       "235         69.8  \n",
       "\n",
       "[108 rows x 50 columns]"
      ]
     },
     "execution_count": 165,
     "metadata": {},
     "output_type": "execute_result"
    }
   ],
   "source": [
    "# вывод строк с пропусками и наблюдениями\n",
    "print(str_engine)\n",
    "\n",
    "# раскомментируйте код, чтобы увидеть всю сводную таблицу\n",
    "# pd.set_option('display.max_rows', 110)\n",
    "pt_engine\n",
    "\n",
    "# раскомментируйте код, чтобы снова сделать таблицу компактной\n",
    "# pd.reset_option('display.max_rows')\n",
    "pt_engine.sort_values(by='null_perc', ascending=False)"
   ]
  },
  {
   "cell_type": "markdown",
   "id": "fcc95708-2555-4de5-bd32-e279159924db",
   "metadata": {},
   "source": [
    "Здесь ситуация сложнее."
   ]
  },
  {
   "cell_type": "markdown",
   "id": "145626c9-4eff-487e-a34a-7d0528e11fac",
   "metadata": {},
   "source": [
    "<br>"
   ]
  },
  {
   "cell_type": "markdown",
   "id": "5ef44002-c6ad-41c3-aaf4-875fe8a375db",
   "metadata": {},
   "source": [
    "**Применим правило: если модальное значение занимает процент, равный или больше  $60$, и процент пропусков не превышает $90$, то это модальное значение заменит пропуск в виде топлива для этой модели.**"
   ]
  },
  {
   "cell_type": "code",
   "execution_count": 166,
   "id": "6eee1cd8-a87c-4216-94d1-18ae3a50cce1",
   "metadata": {},
   "outputs": [],
   "source": [
    "# итерация по строкам таблицы pt_fuel с использованием метода iterrows(): index — строка, row — колонка\n",
    "for index, row in pt_engine.iterrows():\n",
    "    # извлечение значения 'model' для текущей строки\n",
    "    model = row['model']\n",
    "    # извлечение значения 'mode_perc' для текущей строки\n",
    "    mode_perc = row['mode_perc']\n",
    "    # извлечение значения 'null_perc' для текущей строки\n",
    "    null_perc = row['null_perc']\n",
    "    \n",
    "    # если процент модального значения >= 60 для данной модели и процент пропусков не больше 90\n",
    "    if mode_perc >= 60 and null_perc <= 90:\n",
    "        # то находим модальное значение вида топлива для неё\n",
    "        mode_value = df[df['model'] == model]['engine_displacement_l'].mode()\n",
    "        \n",
    "        # если mode_value не является пустотой из-за того, что все значения у модели уникальны, and если mode_value не является пропуском\n",
    "        if not mode_value.empty and pd.notna(mode_value.iloc[0]):\n",
    "            # то заполняем пропуски в виде топлива модальным значением для данной модели\n",
    "            df.loc[(df['model'] == model) & df['engine_displacement_l'].isna(), 'engine_displacement_l'] = mode_value.iloc[0]"
   ]
  },
  {
   "cell_type": "markdown",
   "id": "d70c392b-e6e2-4b98-a7e9-a77c3f27fb14",
   "metadata": {},
   "source": [
    "<br>"
   ]
  },
  {
   "cell_type": "markdown",
   "id": "9e975a6b-5897-4e4d-aab8-d1752373d4d4",
   "metadata": {},
   "source": [
    "По моделям, у которых вообще не указан объём двигателя, одни пропуски:\\\n",
    "`Logan` и `Sandero` есть только в одном виде — $1.6$ литра.\\\n",
    "Вообще, где буду указывать объём двигателя вручную, там я руководствовался информацией из одного автомобильного портала, где продаются машины.\n",
    "\n",
    "По другим автомобилям `Renault` есть `2` мотора разных объёмов. Мы не можем здесь угадывать.\\\n",
    "По автомобилям `Mazda` та же картина. Тут не угадаешь.\\\n",
    "Единственное, что логически можно рассудить, так это `Duster`. Есть $2$ модели: стоимостью за $12$К, и за $15$К. Так и распределим объём."
   ]
  },
  {
   "cell_type": "markdown",
   "id": "6b500357-1607-4543-ad28-56cbef2beb0e",
   "metadata": {},
   "source": [
    "<br>"
   ]
  },
  {
   "cell_type": "markdown",
   "id": "1d139bb3-57cf-44ed-a297-eb9fc9d2cda0",
   "metadata": {},
   "source": [
    "Заполним двигатели транспорта, в которых я уверен."
   ]
  },
  {
   "cell_type": "code",
   "execution_count": 167,
   "id": "0a084f97-9062-46bb-88a1-5162b2aa9064",
   "metadata": {},
   "outputs": [],
   "source": [
    "# Renault\n",
    "df.loc[(df['model'] == 'Logan') | (df['model'] == 'Sandero'), 'engine_displacement_l'] = 1.6\n",
    "df.loc[(df['model'] == 'Duster') & (df['engine_displacement_l'].isna()) & (df['price_usd'] > 15000), 'engine_displacement_l'] = 2.0\n",
    "df.loc[(df['model'] == 'Duster') & (df['engine_displacement_l'].isna()) & (df['price_usd'] < 13000), 'engine_displacement_l'] = 1.6\n",
    "\n",
    "# КамАЗы\n",
    "df.loc[df['model'].isin(['65115', '45143', '65116', '65117', '43253', '58815Z', '53605']), 'engine_displacement_l'] = 6.7\n",
    "df.loc[df['model'].isin(['43118', '6520', '44108', '53215', '45142', '54115', '53504']), 'engine_displacement_l'] = 10.8\n",
    "df.loc[df['model'].isin(['65111', '43502']), 'engine_displacement_l'] = 11.8\n",
    "df.loc[df['model'].isin(['5490', '65206']), 'engine_displacement_l'] = 12\n",
    "\n",
    "# другой транспорт\n",
    "df.loc[df['model'] == 'HD 78', 'engine_displacement_l'] = 3.9\n",
    "df.loc[df['model'] == 'SX3258DR384', 'engine_displacement_l'] = 9.7"
   ]
  },
  {
   "cell_type": "markdown",
   "id": "0ac5be0d-9191-453e-bfca-5d5553a716ca",
   "metadata": {},
   "source": [
    "<br>"
   ]
  },
  {
   "cell_type": "markdown",
   "id": "9934e11b-a59b-4dcc-a7eb-8a1f75ba48b8",
   "metadata": {},
   "source": [
    "Проверим результат."
   ]
  },
  {
   "cell_type": "code",
   "execution_count": 168,
   "id": "acec2043-47f0-46dc-9830-c3d98ba615fd",
   "metadata": {},
   "outputs": [
    {
     "name": "stdout",
     "output_type": "stream",
     "text": [
      "Количество пропущенных значений в сводной таблице и основном датафрейме сходится.\n",
      "В сводной: 594 пропусков. В датафрейме: 594 пропусков.\n",
      "\n",
      "Количество наблюдений в сводной таблице и основном датафрейме сходится.\n",
      "В сводной: 679 наблюдений. В датафрейме: 679 наблюдений.\n",
      "\n",
      "\n"
     ]
    },
    {
     "data": {
      "text/html": [
       "<div>\n",
       "<style scoped>\n",
       "    .dataframe tbody tr th:only-of-type {\n",
       "        vertical-align: middle;\n",
       "    }\n",
       "\n",
       "    .dataframe tbody tr th {\n",
       "        vertical-align: top;\n",
       "    }\n",
       "\n",
       "    .dataframe thead th {\n",
       "        text-align: right;\n",
       "    }\n",
       "</style>\n",
       "<table border=\"1\" class=\"dataframe\">\n",
       "  <thead>\n",
       "    <tr style=\"text-align: right;\">\n",
       "      <th>index</th>\n",
       "      <th>brand</th>\n",
       "      <th>model</th>\n",
       "      <th>1.2</th>\n",
       "      <th>1.3</th>\n",
       "      <th>1.4</th>\n",
       "      <th>1.5</th>\n",
       "      <th>1.6</th>\n",
       "      <th>1.7</th>\n",
       "      <th>1.8</th>\n",
       "      <th>10.5</th>\n",
       "      <th>10.8</th>\n",
       "      <th>11.0</th>\n",
       "      <th>11.8</th>\n",
       "      <th>12.0</th>\n",
       "      <th>12.3</th>\n",
       "      <th>12.8</th>\n",
       "      <th>13.0</th>\n",
       "      <th>2.0</th>\n",
       "      <th>2.2</th>\n",
       "      <th>2.4</th>\n",
       "      <th>2.5</th>\n",
       "      <th>2.7</th>\n",
       "      <th>2.8</th>\n",
       "      <th>2.9</th>\n",
       "      <th>3.0</th>\n",
       "      <th>3.3</th>\n",
       "      <th>3.5</th>\n",
       "      <th>3.6</th>\n",
       "      <th>3.8</th>\n",
       "      <th>3.9</th>\n",
       "      <th>4.0</th>\n",
       "      <th>4.3</th>\n",
       "      <th>4.4</th>\n",
       "      <th>4.6</th>\n",
       "      <th>4.9</th>\n",
       "      <th>5.0</th>\n",
       "      <th>5.2</th>\n",
       "      <th>5.5</th>\n",
       "      <th>5.6</th>\n",
       "      <th>5.7</th>\n",
       "      <th>6.2</th>\n",
       "      <th>6.5</th>\n",
       "      <th>6.6</th>\n",
       "      <th>6.7</th>\n",
       "      <th>7.5</th>\n",
       "      <th>7.6</th>\n",
       "      <th>8.4</th>\n",
       "      <th>8.7</th>\n",
       "      <th>9.7</th>\n",
       "      <th>null_cnt</th>\n",
       "      <th>obs_cnt</th>\n",
       "      <th>null_perc</th>\n",
       "      <th>mode_perc</th>\n",
       "    </tr>\n",
       "  </thead>\n",
       "  <tbody>\n",
       "    <tr>\n",
       "      <th>215</th>\n",
       "      <td>Renault</td>\n",
       "      <td>Kaptur</td>\n",
       "      <td>0</td>\n",
       "      <td>0</td>\n",
       "      <td>0</td>\n",
       "      <td>0</td>\n",
       "      <td>0</td>\n",
       "      <td>0</td>\n",
       "      <td>0</td>\n",
       "      <td>0</td>\n",
       "      <td>0</td>\n",
       "      <td>0</td>\n",
       "      <td>0</td>\n",
       "      <td>0</td>\n",
       "      <td>0</td>\n",
       "      <td>0</td>\n",
       "      <td>0</td>\n",
       "      <td>0</td>\n",
       "      <td>0</td>\n",
       "      <td>0</td>\n",
       "      <td>0</td>\n",
       "      <td>0</td>\n",
       "      <td>0</td>\n",
       "      <td>0</td>\n",
       "      <td>0</td>\n",
       "      <td>0</td>\n",
       "      <td>0</td>\n",
       "      <td>0</td>\n",
       "      <td>0</td>\n",
       "      <td>0</td>\n",
       "      <td>0</td>\n",
       "      <td>0</td>\n",
       "      <td>0</td>\n",
       "      <td>0</td>\n",
       "      <td>0</td>\n",
       "      <td>0</td>\n",
       "      <td>0</td>\n",
       "      <td>0</td>\n",
       "      <td>0</td>\n",
       "      <td>0</td>\n",
       "      <td>0</td>\n",
       "      <td>0</td>\n",
       "      <td>0</td>\n",
       "      <td>0</td>\n",
       "      <td>0</td>\n",
       "      <td>0</td>\n",
       "      <td>0</td>\n",
       "      <td>0</td>\n",
       "      <td>0</td>\n",
       "      <td>230</td>\n",
       "      <td>230</td>\n",
       "      <td>100.0</td>\n",
       "      <td>0.0</td>\n",
       "    </tr>\n",
       "    <tr>\n",
       "      <th>212</th>\n",
       "      <td>Renault</td>\n",
       "      <td>Arkana</td>\n",
       "      <td>0</td>\n",
       "      <td>0</td>\n",
       "      <td>0</td>\n",
       "      <td>0</td>\n",
       "      <td>0</td>\n",
       "      <td>0</td>\n",
       "      <td>0</td>\n",
       "      <td>0</td>\n",
       "      <td>0</td>\n",
       "      <td>0</td>\n",
       "      <td>0</td>\n",
       "      <td>0</td>\n",
       "      <td>0</td>\n",
       "      <td>0</td>\n",
       "      <td>0</td>\n",
       "      <td>0</td>\n",
       "      <td>0</td>\n",
       "      <td>0</td>\n",
       "      <td>0</td>\n",
       "      <td>0</td>\n",
       "      <td>0</td>\n",
       "      <td>0</td>\n",
       "      <td>0</td>\n",
       "      <td>0</td>\n",
       "      <td>0</td>\n",
       "      <td>0</td>\n",
       "      <td>0</td>\n",
       "      <td>0</td>\n",
       "      <td>0</td>\n",
       "      <td>0</td>\n",
       "      <td>0</td>\n",
       "      <td>0</td>\n",
       "      <td>0</td>\n",
       "      <td>0</td>\n",
       "      <td>0</td>\n",
       "      <td>0</td>\n",
       "      <td>0</td>\n",
       "      <td>0</td>\n",
       "      <td>0</td>\n",
       "      <td>0</td>\n",
       "      <td>0</td>\n",
       "      <td>0</td>\n",
       "      <td>0</td>\n",
       "      <td>0</td>\n",
       "      <td>0</td>\n",
       "      <td>0</td>\n",
       "      <td>0</td>\n",
       "      <td>55</td>\n",
       "      <td>55</td>\n",
       "      <td>100.0</td>\n",
       "      <td>0.0</td>\n",
       "    </tr>\n",
       "    <tr>\n",
       "      <th>167</th>\n",
       "      <td>Mazda</td>\n",
       "      <td>CX-5</td>\n",
       "      <td>0</td>\n",
       "      <td>0</td>\n",
       "      <td>0</td>\n",
       "      <td>0</td>\n",
       "      <td>0</td>\n",
       "      <td>0</td>\n",
       "      <td>0</td>\n",
       "      <td>0</td>\n",
       "      <td>0</td>\n",
       "      <td>0</td>\n",
       "      <td>0</td>\n",
       "      <td>0</td>\n",
       "      <td>0</td>\n",
       "      <td>0</td>\n",
       "      <td>0</td>\n",
       "      <td>0</td>\n",
       "      <td>0</td>\n",
       "      <td>0</td>\n",
       "      <td>0</td>\n",
       "      <td>0</td>\n",
       "      <td>0</td>\n",
       "      <td>0</td>\n",
       "      <td>0</td>\n",
       "      <td>0</td>\n",
       "      <td>0</td>\n",
       "      <td>0</td>\n",
       "      <td>0</td>\n",
       "      <td>0</td>\n",
       "      <td>0</td>\n",
       "      <td>0</td>\n",
       "      <td>0</td>\n",
       "      <td>0</td>\n",
       "      <td>0</td>\n",
       "      <td>0</td>\n",
       "      <td>0</td>\n",
       "      <td>0</td>\n",
       "      <td>0</td>\n",
       "      <td>0</td>\n",
       "      <td>0</td>\n",
       "      <td>0</td>\n",
       "      <td>0</td>\n",
       "      <td>0</td>\n",
       "      <td>0</td>\n",
       "      <td>0</td>\n",
       "      <td>0</td>\n",
       "      <td>0</td>\n",
       "      <td>0</td>\n",
       "      <td>51</td>\n",
       "      <td>51</td>\n",
       "      <td>100.0</td>\n",
       "      <td>0.0</td>\n",
       "    </tr>\n",
       "    <tr>\n",
       "      <th>213</th>\n",
       "      <td>Renault</td>\n",
       "      <td>Dokker</td>\n",
       "      <td>0</td>\n",
       "      <td>0</td>\n",
       "      <td>0</td>\n",
       "      <td>0</td>\n",
       "      <td>0</td>\n",
       "      <td>0</td>\n",
       "      <td>0</td>\n",
       "      <td>0</td>\n",
       "      <td>0</td>\n",
       "      <td>0</td>\n",
       "      <td>0</td>\n",
       "      <td>0</td>\n",
       "      <td>0</td>\n",
       "      <td>0</td>\n",
       "      <td>0</td>\n",
       "      <td>0</td>\n",
       "      <td>0</td>\n",
       "      <td>0</td>\n",
       "      <td>0</td>\n",
       "      <td>0</td>\n",
       "      <td>0</td>\n",
       "      <td>0</td>\n",
       "      <td>0</td>\n",
       "      <td>0</td>\n",
       "      <td>0</td>\n",
       "      <td>0</td>\n",
       "      <td>0</td>\n",
       "      <td>0</td>\n",
       "      <td>0</td>\n",
       "      <td>0</td>\n",
       "      <td>0</td>\n",
       "      <td>0</td>\n",
       "      <td>0</td>\n",
       "      <td>0</td>\n",
       "      <td>0</td>\n",
       "      <td>0</td>\n",
       "      <td>0</td>\n",
       "      <td>0</td>\n",
       "      <td>0</td>\n",
       "      <td>0</td>\n",
       "      <td>0</td>\n",
       "      <td>0</td>\n",
       "      <td>0</td>\n",
       "      <td>0</td>\n",
       "      <td>0</td>\n",
       "      <td>0</td>\n",
       "      <td>0</td>\n",
       "      <td>34</td>\n",
       "      <td>34</td>\n",
       "      <td>100.0</td>\n",
       "      <td>0.0</td>\n",
       "    </tr>\n",
       "    <tr>\n",
       "      <th>0</th>\n",
       "      <td>ANKAI</td>\n",
       "      <td>HF-D105</td>\n",
       "      <td>0</td>\n",
       "      <td>0</td>\n",
       "      <td>0</td>\n",
       "      <td>0</td>\n",
       "      <td>0</td>\n",
       "      <td>0</td>\n",
       "      <td>0</td>\n",
       "      <td>0</td>\n",
       "      <td>0</td>\n",
       "      <td>0</td>\n",
       "      <td>0</td>\n",
       "      <td>0</td>\n",
       "      <td>0</td>\n",
       "      <td>0</td>\n",
       "      <td>0</td>\n",
       "      <td>0</td>\n",
       "      <td>0</td>\n",
       "      <td>0</td>\n",
       "      <td>0</td>\n",
       "      <td>0</td>\n",
       "      <td>0</td>\n",
       "      <td>0</td>\n",
       "      <td>0</td>\n",
       "      <td>0</td>\n",
       "      <td>0</td>\n",
       "      <td>0</td>\n",
       "      <td>0</td>\n",
       "      <td>0</td>\n",
       "      <td>0</td>\n",
       "      <td>0</td>\n",
       "      <td>0</td>\n",
       "      <td>0</td>\n",
       "      <td>0</td>\n",
       "      <td>0</td>\n",
       "      <td>0</td>\n",
       "      <td>0</td>\n",
       "      <td>0</td>\n",
       "      <td>0</td>\n",
       "      <td>0</td>\n",
       "      <td>0</td>\n",
       "      <td>0</td>\n",
       "      <td>0</td>\n",
       "      <td>0</td>\n",
       "      <td>0</td>\n",
       "      <td>0</td>\n",
       "      <td>0</td>\n",
       "      <td>0</td>\n",
       "      <td>30</td>\n",
       "      <td>30</td>\n",
       "      <td>100.0</td>\n",
       "      <td>0.0</td>\n",
       "    </tr>\n",
       "  </tbody>\n",
       "</table>\n",
       "</div>"
      ],
      "text/plain": [
       "index    brand    model  1.2  1.3  1.4  1.5  1.6  1.7  1.8  10.5  10.8  11.0  \\\n",
       "215    Renault   Kaptur    0    0    0    0    0    0    0     0     0     0   \n",
       "212    Renault   Arkana    0    0    0    0    0    0    0     0     0     0   \n",
       "167      Mazda     CX-5    0    0    0    0    0    0    0     0     0     0   \n",
       "213    Renault   Dokker    0    0    0    0    0    0    0     0     0     0   \n",
       "0        ANKAI  HF-D105    0    0    0    0    0    0    0     0     0     0   \n",
       "\n",
       "index  11.8  12.0  12.3  12.8  13.0  2.0  2.2  2.4  2.5  2.7  2.8  2.9  3.0  \\\n",
       "215       0     0     0     0     0    0    0    0    0    0    0    0    0   \n",
       "212       0     0     0     0     0    0    0    0    0    0    0    0    0   \n",
       "167       0     0     0     0     0    0    0    0    0    0    0    0    0   \n",
       "213       0     0     0     0     0    0    0    0    0    0    0    0    0   \n",
       "0         0     0     0     0     0    0    0    0    0    0    0    0    0   \n",
       "\n",
       "index  3.3  3.5  3.6  3.8  3.9  4.0  4.3  4.4  4.6  4.9  5.0  5.2  5.5  5.6  \\\n",
       "215      0    0    0    0    0    0    0    0    0    0    0    0    0    0   \n",
       "212      0    0    0    0    0    0    0    0    0    0    0    0    0    0   \n",
       "167      0    0    0    0    0    0    0    0    0    0    0    0    0    0   \n",
       "213      0    0    0    0    0    0    0    0    0    0    0    0    0    0   \n",
       "0        0    0    0    0    0    0    0    0    0    0    0    0    0    0   \n",
       "\n",
       "index  5.7  6.2  6.5  6.6  6.7  7.5  7.6  8.4  8.7  9.7  null_cnt  obs_cnt  \\\n",
       "215      0    0    0    0    0    0    0    0    0    0       230      230   \n",
       "212      0    0    0    0    0    0    0    0    0    0        55       55   \n",
       "167      0    0    0    0    0    0    0    0    0    0        51       51   \n",
       "213      0    0    0    0    0    0    0    0    0    0        34       34   \n",
       "0        0    0    0    0    0    0    0    0    0    0        30       30   \n",
       "\n",
       "index  null_perc  mode_perc  \n",
       "215        100.0        0.0  \n",
       "212        100.0        0.0  \n",
       "167        100.0        0.0  \n",
       "213        100.0        0.0  \n",
       "0          100.0        0.0  "
      ]
     },
     "execution_count": 168,
     "metadata": {},
     "output_type": "execute_result"
    }
   ],
   "source": [
    "# запишем в иные переменные\n",
    "pt_engine_fill, str_engine_fill = null_analysis(df, 'engine_displacement_l')\n",
    "\n",
    "print(str_engine_fill)\n",
    "pt_engine_fill.sort_values(by='null_cnt', ascending=False).head()"
   ]
  },
  {
   "cell_type": "markdown",
   "id": "58c56581-d6f4-4125-968c-8c00e0fd3e14",
   "metadata": {},
   "source": [
    "Остальные пропуски оставим в покое. Овчинка выделки не стоит."
   ]
  },
  {
   "cell_type": "markdown",
   "id": "a59fa046-b71c-4e2e-b47c-cd4c6bca122a",
   "metadata": {},
   "source": [
    "<br>"
   ]
  },
  {
   "cell_type": "markdown",
   "id": "af8dbb3e-567f-41fc-b76f-088b7aec5fb0",
   "metadata": {},
   "source": [
    "##### `Коробка передач`"
   ]
  },
  {
   "cell_type": "code",
   "execution_count": 169,
   "id": "0892145d-0a99-408c-952c-42068df294ad",
   "metadata": {},
   "outputs": [
    {
     "data": {
      "text/html": [
       "<div>\n",
       "<style scoped>\n",
       "    .dataframe tbody tr th:only-of-type {\n",
       "        vertical-align: middle;\n",
       "    }\n",
       "\n",
       "    .dataframe tbody tr th {\n",
       "        vertical-align: top;\n",
       "    }\n",
       "\n",
       "    .dataframe thead th {\n",
       "        text-align: right;\n",
       "    }\n",
       "</style>\n",
       "<table border=\"1\" class=\"dataframe\">\n",
       "  <thead>\n",
       "    <tr style=\"text-align: right;\">\n",
       "      <th></th>\n",
       "      <th>id</th>\n",
       "      <th>purchase_date</th>\n",
       "      <th>company</th>\n",
       "      <th>car_type</th>\n",
       "      <th>brand</th>\n",
       "      <th>model</th>\n",
       "      <th>car_classification</th>\n",
       "      <th>manufacturing_year</th>\n",
       "      <th>assembly_type</th>\n",
       "      <th>manufacturing_country</th>\n",
       "      <th>fuel_type</th>\n",
       "      <th>engine_displacement_l</th>\n",
       "      <th>transmission_type</th>\n",
       "      <th>drive_type</th>\n",
       "      <th>region</th>\n",
       "      <th>city</th>\n",
       "      <th>dealer_center_name</th>\n",
       "      <th>customer_type</th>\n",
       "      <th>payment_form</th>\n",
       "      <th>quantity</th>\n",
       "      <th>price_usd</th>\n",
       "      <th>sale_usd</th>\n",
       "    </tr>\n",
       "  </thead>\n",
       "  <tbody>\n",
       "    <tr>\n",
       "      <th>97</th>\n",
       "      <td>97</td>\n",
       "      <td>2019-01-01</td>\n",
       "      <td>СемАЗ</td>\n",
       "      <td>Коммерческие автомобили</td>\n",
       "      <td>Dong Feng</td>\n",
       "      <td>BWC6665GA5</td>\n",
       "      <td>Средние автобусы</td>\n",
       "      <td>2019</td>\n",
       "      <td>Локальное производство</td>\n",
       "      <td>Казахстан</td>\n",
       "      <td>Дизель</td>\n",
       "      <td>NaN</td>\n",
       "      <td>NaN</td>\n",
       "      <td>NaN</td>\n",
       "      <td>г.Нур-Султан</td>\n",
       "      <td>Нур-Султан</td>\n",
       "      <td>СемАЗ</td>\n",
       "      <td>NaN</td>\n",
       "      <td>NaN</td>\n",
       "      <td>29</td>\n",
       "      <td>26693</td>\n",
       "      <td>774091</td>\n",
       "    </tr>\n",
       "    <tr>\n",
       "      <th>99</th>\n",
       "      <td>99</td>\n",
       "      <td>2019-01-01</td>\n",
       "      <td>СемАЗ</td>\n",
       "      <td>Коммерческие автомобили</td>\n",
       "      <td>Foton</td>\n",
       "      <td>BJ1069VDJEA-F1</td>\n",
       "      <td>Малотоннажные грузовики</td>\n",
       "      <td>2018</td>\n",
       "      <td>Локальное производство</td>\n",
       "      <td>Казахстан</td>\n",
       "      <td>Дизель</td>\n",
       "      <td>NaN</td>\n",
       "      <td>NaN</td>\n",
       "      <td>NaN</td>\n",
       "      <td>г.Алматы</td>\n",
       "      <td>Алматы</td>\n",
       "      <td>Меридиан АВТО Алматы</td>\n",
       "      <td>NaN</td>\n",
       "      <td>NaN</td>\n",
       "      <td>3</td>\n",
       "      <td>13619</td>\n",
       "      <td>40858</td>\n",
       "    </tr>\n",
       "    <tr>\n",
       "      <th>1052</th>\n",
       "      <td>1052</td>\n",
       "      <td>2019-01-01</td>\n",
       "      <td>СВС-ТРАНС</td>\n",
       "      <td>Коммерческие автомобили</td>\n",
       "      <td>Isuzu</td>\n",
       "      <td>NMS85</td>\n",
       "      <td>Среднетоннажные грузовики</td>\n",
       "      <td>2018</td>\n",
       "      <td>Импорт</td>\n",
       "      <td>Россия</td>\n",
       "      <td>Дизель</td>\n",
       "      <td>NaN</td>\n",
       "      <td>NaN</td>\n",
       "      <td>4WD</td>\n",
       "      <td>г.Алматы</td>\n",
       "      <td>Алматы</td>\n",
       "      <td>CBC Алматы</td>\n",
       "      <td>NaN</td>\n",
       "      <td>NaN</td>\n",
       "      <td>1</td>\n",
       "      <td>44146</td>\n",
       "      <td>44146</td>\n",
       "    </tr>\n",
       "    <tr>\n",
       "      <th>1053</th>\n",
       "      <td>1053</td>\n",
       "      <td>2019-01-01</td>\n",
       "      <td>СВС-ТРАНС</td>\n",
       "      <td>Коммерческие автомобили</td>\n",
       "      <td>Isuzu</td>\n",
       "      <td>NPR</td>\n",
       "      <td>Малотоннажные грузовики</td>\n",
       "      <td>2018</td>\n",
       "      <td>Импорт</td>\n",
       "      <td>Россия</td>\n",
       "      <td>Дизель</td>\n",
       "      <td>5.2</td>\n",
       "      <td>NaN</td>\n",
       "      <td>2WD</td>\n",
       "      <td>г.Алматы</td>\n",
       "      <td>Алматы</td>\n",
       "      <td>CBC Алматы</td>\n",
       "      <td>NaN</td>\n",
       "      <td>NaN</td>\n",
       "      <td>1</td>\n",
       "      <td>37000</td>\n",
       "      <td>37000</td>\n",
       "    </tr>\n",
       "    <tr>\n",
       "      <th>1054</th>\n",
       "      <td>1054</td>\n",
       "      <td>2019-01-01</td>\n",
       "      <td>СВС-ТРАНС</td>\n",
       "      <td>Коммерческие автомобили</td>\n",
       "      <td>Isuzu</td>\n",
       "      <td>NPR</td>\n",
       "      <td>Малотоннажные грузовики</td>\n",
       "      <td>2018</td>\n",
       "      <td>Импорт</td>\n",
       "      <td>Россия</td>\n",
       "      <td>Дизель</td>\n",
       "      <td>5.2</td>\n",
       "      <td>NaN</td>\n",
       "      <td>2WD</td>\n",
       "      <td>г.Алматы</td>\n",
       "      <td>Алматы</td>\n",
       "      <td>CBC Алматы</td>\n",
       "      <td>NaN</td>\n",
       "      <td>NaN</td>\n",
       "      <td>1</td>\n",
       "      <td>37000</td>\n",
       "      <td>37000</td>\n",
       "    </tr>\n",
       "  </tbody>\n",
       "</table>\n",
       "</div>"
      ],
      "text/plain": [
       "        id purchase_date    company                 car_type      brand  \\\n",
       "97      97    2019-01-01      СемАЗ  Коммерческие автомобили  Dong Feng   \n",
       "99      99    2019-01-01      СемАЗ  Коммерческие автомобили      Foton   \n",
       "1052  1052    2019-01-01  СВС-ТРАНС  Коммерческие автомобили      Isuzu   \n",
       "1053  1053    2019-01-01  СВС-ТРАНС  Коммерческие автомобили      Isuzu   \n",
       "1054  1054    2019-01-01  СВС-ТРАНС  Коммерческие автомобили      Isuzu   \n",
       "\n",
       "               model         car_classification  manufacturing_year  \\\n",
       "97        BWC6665GA5           Средние автобусы                2019   \n",
       "99    BJ1069VDJEA-F1    Малотоннажные грузовики                2018   \n",
       "1052           NMS85  Среднетоннажные грузовики                2018   \n",
       "1053             NPR    Малотоннажные грузовики                2018   \n",
       "1054             NPR    Малотоннажные грузовики                2018   \n",
       "\n",
       "               assembly_type manufacturing_country fuel_type  \\\n",
       "97    Локальное производство             Казахстан    Дизель   \n",
       "99    Локальное производство             Казахстан    Дизель   \n",
       "1052                  Импорт                Россия    Дизель   \n",
       "1053                  Импорт                Россия    Дизель   \n",
       "1054                  Импорт                Россия    Дизель   \n",
       "\n",
       "      engine_displacement_l transmission_type drive_type        region  \\\n",
       "97                      NaN               NaN        NaN  г.Нур-Султан   \n",
       "99                      NaN               NaN        NaN      г.Алматы   \n",
       "1052                    NaN               NaN        4WD      г.Алматы   \n",
       "1053                    5.2               NaN        2WD      г.Алматы   \n",
       "1054                    5.2               NaN        2WD      г.Алматы   \n",
       "\n",
       "            city    dealer_center_name customer_type payment_form  quantity  \\\n",
       "97    Нур-Султан                 СемАЗ           NaN          NaN        29   \n",
       "99        Алматы  Меридиан АВТО Алматы           NaN          NaN         3   \n",
       "1052      Алматы            CBC Алматы           NaN          NaN         1   \n",
       "1053      Алматы            CBC Алматы           NaN          NaN         1   \n",
       "1054      Алматы            CBC Алматы           NaN          NaN         1   \n",
       "\n",
       "      price_usd  sale_usd  \n",
       "97        26693    774091  \n",
       "99        13619     40858  \n",
       "1052      44146     44146  \n",
       "1053      37000     37000  \n",
       "1054      37000     37000  "
      ]
     },
     "execution_count": 169,
     "metadata": {},
     "output_type": "execute_result"
    }
   ],
   "source": [
    "df[df['transmission_type'].isna()].head()"
   ]
  },
  {
   "cell_type": "code",
   "execution_count": 170,
   "id": "66e45d15-1f77-411a-b91b-64db29e1b9ad",
   "metadata": {},
   "outputs": [
    {
     "data": {
      "text/plain": [
       "AT          23637\n",
       "MT           8409\n",
       "CVT          3857\n",
       "NaN          3305\n",
       "AMT           745\n",
       "Редуктор       13\n",
       "Name: transmission_type, dtype: int64"
      ]
     },
     "execution_count": 170,
     "metadata": {},
     "output_type": "execute_result"
    }
   ],
   "source": [
    "df['transmission_type'].value_counts(dropna=False).head(10)"
   ]
  },
  {
   "cell_type": "markdown",
   "id": "1a009301-615d-4fbb-9455-7e524f607b63",
   "metadata": {},
   "source": [
    "Здесь пропуски — четвёртое самое встречаемое значение."
   ]
  },
  {
   "cell_type": "markdown",
   "id": "8499c2a0-35fe-4590-b22c-2650130f8949",
   "metadata": {},
   "source": [
    "<br>"
   ]
  },
  {
   "cell_type": "markdown",
   "id": "ef887283-3e44-4ba6-9373-d3526517c829",
   "metadata": {},
   "source": [
    "Применим функцию."
   ]
  },
  {
   "cell_type": "code",
   "execution_count": 171,
   "id": "16db9876-731b-425d-8c5c-bb4d7ed1824e",
   "metadata": {},
   "outputs": [],
   "source": [
    "pt_transm, str_transm = null_analysis(df, 'transmission_type')"
   ]
  },
  {
   "cell_type": "code",
   "execution_count": 172,
   "id": "77be51b7-2abb-4959-8a94-063aff649981",
   "metadata": {},
   "outputs": [
    {
     "name": "stdout",
     "output_type": "stream",
     "text": [
      "Количество пропущенных значений в сводной таблице и основном датафрейме сходится.\n",
      "В сводной: 3305 пропусков. В датафрейме: 3305 пропусков.\n",
      "\n",
      "Количество наблюдений в сводной таблице и основном датафрейме не сходится.\n",
      "В сводной: 9307 наблюдений. В датафрейме: 9308 наблюдений.\n",
      "\n",
      "\n"
     ]
    },
    {
     "data": {
      "text/html": [
       "<div>\n",
       "<style scoped>\n",
       "    .dataframe tbody tr th:only-of-type {\n",
       "        vertical-align: middle;\n",
       "    }\n",
       "\n",
       "    .dataframe tbody tr th {\n",
       "        vertical-align: top;\n",
       "    }\n",
       "\n",
       "    .dataframe thead th {\n",
       "        text-align: right;\n",
       "    }\n",
       "</style>\n",
       "<table border=\"1\" class=\"dataframe\">\n",
       "  <thead>\n",
       "    <tr style=\"text-align: right;\">\n",
       "      <th>index</th>\n",
       "      <th>brand</th>\n",
       "      <th>model</th>\n",
       "      <th>AMT</th>\n",
       "      <th>AT</th>\n",
       "      <th>CVT</th>\n",
       "      <th>MT</th>\n",
       "      <th>Редуктор</th>\n",
       "      <th>null_cnt</th>\n",
       "      <th>obs_cnt</th>\n",
       "      <th>null_perc</th>\n",
       "      <th>mode_perc</th>\n",
       "    </tr>\n",
       "  </thead>\n",
       "  <tbody>\n",
       "    <tr>\n",
       "      <th>146</th>\n",
       "      <td>Land Rover</td>\n",
       "      <td>Range Rover</td>\n",
       "      <td>0</td>\n",
       "      <td>84</td>\n",
       "      <td>0</td>\n",
       "      <td>0</td>\n",
       "      <td>0</td>\n",
       "      <td>1</td>\n",
       "      <td>85</td>\n",
       "      <td>1.2</td>\n",
       "      <td>100.0</td>\n",
       "    </tr>\n",
       "    <tr>\n",
       "      <th>267</th>\n",
       "      <td>Volvo</td>\n",
       "      <td>XC60</td>\n",
       "      <td>0</td>\n",
       "      <td>17</td>\n",
       "      <td>0</td>\n",
       "      <td>0</td>\n",
       "      <td>0</td>\n",
       "      <td>1</td>\n",
       "      <td>18</td>\n",
       "      <td>5.6</td>\n",
       "      <td>100.0</td>\n",
       "    </tr>\n",
       "    <tr>\n",
       "      <th>149</th>\n",
       "      <td>Land Rover</td>\n",
       "      <td>Range Rover Velar</td>\n",
       "      <td>0</td>\n",
       "      <td>15</td>\n",
       "      <td>0</td>\n",
       "      <td>0</td>\n",
       "      <td>0</td>\n",
       "      <td>1</td>\n",
       "      <td>16</td>\n",
       "      <td>6.2</td>\n",
       "      <td>100.0</td>\n",
       "    </tr>\n",
       "    <tr>\n",
       "      <th>148</th>\n",
       "      <td>Land Rover</td>\n",
       "      <td>Range Rover Sport</td>\n",
       "      <td>0</td>\n",
       "      <td>14</td>\n",
       "      <td>0</td>\n",
       "      <td>0</td>\n",
       "      <td>0</td>\n",
       "      <td>1</td>\n",
       "      <td>15</td>\n",
       "      <td>6.7</td>\n",
       "      <td>100.0</td>\n",
       "    </tr>\n",
       "    <tr>\n",
       "      <th>268</th>\n",
       "      <td>Volvo</td>\n",
       "      <td>XC90</td>\n",
       "      <td>0</td>\n",
       "      <td>13</td>\n",
       "      <td>0</td>\n",
       "      <td>0</td>\n",
       "      <td>0</td>\n",
       "      <td>1</td>\n",
       "      <td>14</td>\n",
       "      <td>7.1</td>\n",
       "      <td>100.0</td>\n",
       "    </tr>\n",
       "    <tr>\n",
       "      <th>...</th>\n",
       "      <td>...</td>\n",
       "      <td>...</td>\n",
       "      <td>...</td>\n",
       "      <td>...</td>\n",
       "      <td>...</td>\n",
       "      <td>...</td>\n",
       "      <td>...</td>\n",
       "      <td>...</td>\n",
       "      <td>...</td>\n",
       "      <td>...</td>\n",
       "      <td>...</td>\n",
       "    </tr>\n",
       "    <tr>\n",
       "      <th>271</th>\n",
       "      <td>Урал</td>\n",
       "      <td>4320</td>\n",
       "      <td>0</td>\n",
       "      <td>0</td>\n",
       "      <td>0</td>\n",
       "      <td>0</td>\n",
       "      <td>0</td>\n",
       "      <td>7</td>\n",
       "      <td>7</td>\n",
       "      <td>100.0</td>\n",
       "      <td>0.0</td>\n",
       "    </tr>\n",
       "    <tr>\n",
       "      <th>274</th>\n",
       "      <td>Урал</td>\n",
       "      <td>5557</td>\n",
       "      <td>0</td>\n",
       "      <td>0</td>\n",
       "      <td>0</td>\n",
       "      <td>0</td>\n",
       "      <td>0</td>\n",
       "      <td>2</td>\n",
       "      <td>2</td>\n",
       "      <td>100.0</td>\n",
       "      <td>0.0</td>\n",
       "    </tr>\n",
       "    <tr>\n",
       "      <th>270</th>\n",
       "      <td>Урал</td>\n",
       "      <td>32551</td>\n",
       "      <td>0</td>\n",
       "      <td>0</td>\n",
       "      <td>0</td>\n",
       "      <td>0</td>\n",
       "      <td>0</td>\n",
       "      <td>1</td>\n",
       "      <td>1</td>\n",
       "      <td>100.0</td>\n",
       "      <td>0.0</td>\n",
       "    </tr>\n",
       "    <tr>\n",
       "      <th>272</th>\n",
       "      <td>Урал</td>\n",
       "      <td>4320-1951-40</td>\n",
       "      <td>0</td>\n",
       "      <td>0</td>\n",
       "      <td>0</td>\n",
       "      <td>0</td>\n",
       "      <td>0</td>\n",
       "      <td>1</td>\n",
       "      <td>1</td>\n",
       "      <td>100.0</td>\n",
       "      <td>0.0</td>\n",
       "    </tr>\n",
       "    <tr>\n",
       "      <th>273</th>\n",
       "      <td>Урал</td>\n",
       "      <td>4320-1951-60</td>\n",
       "      <td>0</td>\n",
       "      <td>0</td>\n",
       "      <td>0</td>\n",
       "      <td>0</td>\n",
       "      <td>0</td>\n",
       "      <td>1</td>\n",
       "      <td>1</td>\n",
       "      <td>100.0</td>\n",
       "      <td>0.0</td>\n",
       "    </tr>\n",
       "  </tbody>\n",
       "</table>\n",
       "<p>78 rows × 11 columns</p>\n",
       "</div>"
      ],
      "text/plain": [
       "index       brand              model  AMT  AT  CVT  MT  Редуктор  null_cnt  \\\n",
       "146    Land Rover        Range Rover    0  84    0   0         0         1   \n",
       "267         Volvo               XC60    0  17    0   0         0         1   \n",
       "149    Land Rover  Range Rover Velar    0  15    0   0         0         1   \n",
       "148    Land Rover  Range Rover Sport    0  14    0   0         0         1   \n",
       "268         Volvo               XC90    0  13    0   0         0         1   \n",
       "..            ...                ...  ...  ..  ...  ..       ...       ...   \n",
       "271          Урал               4320    0   0    0   0         0         7   \n",
       "274          Урал               5557    0   0    0   0         0         2   \n",
       "270          Урал              32551    0   0    0   0         0         1   \n",
       "272          Урал       4320-1951-40    0   0    0   0         0         1   \n",
       "273          Урал       4320-1951-60    0   0    0   0         0         1   \n",
       "\n",
       "index  obs_cnt  null_perc  mode_perc  \n",
       "146         85        1.2      100.0  \n",
       "267         18        5.6      100.0  \n",
       "149         16        6.2      100.0  \n",
       "148         15        6.7      100.0  \n",
       "268         14        7.1      100.0  \n",
       "..         ...        ...        ...  \n",
       "271          7      100.0        0.0  \n",
       "274          2      100.0        0.0  \n",
       "270          1      100.0        0.0  \n",
       "272          1      100.0        0.0  \n",
       "273          1      100.0        0.0  \n",
       "\n",
       "[78 rows x 11 columns]"
      ]
     },
     "execution_count": 172,
     "metadata": {},
     "output_type": "execute_result"
    }
   ],
   "source": [
    "# вывод строк с пропусками и наблюдениями\n",
    "print(str_transm)\n",
    "\n",
    "# раскомментируйте код, чтобы увидеть всю сводную таблицу\n",
    "# pd.set_option('display.max_rows', 80)\n",
    "pt_transm\n",
    "\n",
    "# раскомментируйте код, чтобы снова сделать таблицу компактной\n",
    "# pd.reset_option('display.max_rows')\n",
    "pt_transm.sort_values(by=['mode_perc', 'null_perc'], ascending=[False, True])"
   ]
  },
  {
   "cell_type": "markdown",
   "id": "6ee50a91-d687-4143-b726-6d0df4d03b74",
   "metadata": {},
   "source": [
    "<br>"
   ]
  },
  {
   "cell_type": "markdown",
   "id": "8d99fd3f-2f6f-4cee-ba5b-8a3e729c917a",
   "metadata": {},
   "source": [
    "**Применим правило: если модальное значение занимает процент, равный $100$, и процент пропусков не превышает $90$, то это модальное значение заменит пропуск в типе трансмиссии для этой модели.**"
   ]
  },
  {
   "cell_type": "code",
   "execution_count": 173,
   "id": "e283fd75-9817-4b26-8a18-d252e3b18412",
   "metadata": {},
   "outputs": [],
   "source": [
    "# итерация по строкам таблицы pt_transm с использованием метода iterrows(): index — строка, row — колонка\n",
    "for index, row in pt_transm.iterrows():\n",
    "    # извлечение значения 'model' для текущей строки\n",
    "    model = row['model']\n",
    "    # извлечение значения 'mode_perc' для текущей строки\n",
    "    mode_perc = row['mode_perc']\n",
    "    # извлечение значения 'null_perc' для текущей строки\n",
    "    null_perc = row['null_perc']\n",
    "    \n",
    "    # если процент модального значения >= 100 для данной модели и процент пропусков не больше 90\n",
    "    if mode_perc == 100 and null_perc <= 90:\n",
    "        # то находим модальное значение вида топлива для неё\n",
    "        mode_value = df[df['model'] == model]['transmission_type'].mode()\n",
    "        \n",
    "        # если mode_value не является пустотой из-за того, что все значения у модели уникальны, and если mode_value не является пропуском\n",
    "        if not mode_value.empty and pd.notna(mode_value.iloc[0]):\n",
    "            # то заполняем пропуски в виде топлива модальным значением для данной модели\n",
    "            df.loc[(df['model'] == model) & df['transmission_type'].isna(), 'transmission_type'] = mode_value.iloc[0]"
   ]
  },
  {
   "cell_type": "markdown",
   "id": "6880daf2-f2cf-49f5-898f-0ba4a35db842",
   "metadata": {},
   "source": [
    "Проанализировав сводную таблицу, решил, что применённое правило неплохо ляжет на пропущенные значения."
   ]
  },
  {
   "cell_type": "markdown",
   "id": "4f262e3a-86cf-462a-b0fe-22ac8a1879f3",
   "metadata": {},
   "source": [
    "<br>"
   ]
  },
  {
   "cell_type": "markdown",
   "id": "63d1f2d6-c79b-4057-8ebd-578faa6fea92",
   "metadata": {},
   "source": [
    "Заполним типы трансмиссий транспорта, в которых я уверен."
   ]
  },
  {
   "cell_type": "code",
   "execution_count": 174,
   "id": "98b7a761-24b5-41f2-83ad-5ee7f982a37e",
   "metadata": {},
   "outputs": [],
   "source": [
    "# у Nexia R3 пропуски там, где самые дорогие комплектации, это АКПП\n",
    "df.loc[(df['model'] == 'Nexia R3') & (df['transmission_type'].isna()), 'transmission_type'] = 'AT'"
   ]
  },
  {
   "cell_type": "markdown",
   "id": "2ccd66ac-57e4-47ef-8b99-c7343d697ca6",
   "metadata": {},
   "source": [
    "Дальнейшая замена пропусков кажется почти нереальной."
   ]
  },
  {
   "cell_type": "markdown",
   "id": "6724da50-5773-40c7-af41-db99cb3dcec1",
   "metadata": {},
   "source": [
    "<br>"
   ]
  },
  {
   "cell_type": "markdown",
   "id": "1153be7a-70d1-4409-94aa-46661481865c",
   "metadata": {},
   "source": [
    "Проверим результат."
   ]
  },
  {
   "cell_type": "code",
   "execution_count": 175,
   "id": "93d20cc9-c5e0-4f2e-a5e8-5a26d3728e0f",
   "metadata": {},
   "outputs": [
    {
     "name": "stdout",
     "output_type": "stream",
     "text": [
      "Количество пропущенных значений в сводной таблице и основном датафрейме сходится.\n",
      "В сводной: 2724 пропусков. В датафрейме: 2724 пропусков.\n",
      "\n",
      "Количество наблюдений в сводной таблице и основном датафрейме сходится.\n",
      "В сводной: 6822 наблюдений. В датафрейме: 6822 наблюдений.\n",
      "\n",
      "\n"
     ]
    },
    {
     "data": {
      "text/html": [
       "<div>\n",
       "<style scoped>\n",
       "    .dataframe tbody tr th:only-of-type {\n",
       "        vertical-align: middle;\n",
       "    }\n",
       "\n",
       "    .dataframe tbody tr th {\n",
       "        vertical-align: top;\n",
       "    }\n",
       "\n",
       "    .dataframe thead th {\n",
       "        text-align: right;\n",
       "    }\n",
       "</style>\n",
       "<table border=\"1\" class=\"dataframe\">\n",
       "  <thead>\n",
       "    <tr style=\"text-align: right;\">\n",
       "      <th>index</th>\n",
       "      <th>brand</th>\n",
       "      <th>model</th>\n",
       "      <th>AMT</th>\n",
       "      <th>AT</th>\n",
       "      <th>CVT</th>\n",
       "      <th>MT</th>\n",
       "      <th>Редуктор</th>\n",
       "      <th>null_cnt</th>\n",
       "      <th>obs_cnt</th>\n",
       "      <th>null_perc</th>\n",
       "      <th>mode_perc</th>\n",
       "    </tr>\n",
       "  </thead>\n",
       "  <tbody>\n",
       "    <tr>\n",
       "      <th>214</th>\n",
       "      <td>Renault</td>\n",
       "      <td>Duster</td>\n",
       "      <td>0</td>\n",
       "      <td>13</td>\n",
       "      <td>0</td>\n",
       "      <td>12</td>\n",
       "      <td>0</td>\n",
       "      <td>682</td>\n",
       "      <td>707</td>\n",
       "      <td>96.5</td>\n",
       "      <td>52.0</td>\n",
       "    </tr>\n",
       "    <tr>\n",
       "      <th>219</th>\n",
       "      <td>Renault</td>\n",
       "      <td>Sandero</td>\n",
       "      <td>0</td>\n",
       "      <td>0</td>\n",
       "      <td>0</td>\n",
       "      <td>1</td>\n",
       "      <td>0</td>\n",
       "      <td>440</td>\n",
       "      <td>441</td>\n",
       "      <td>99.8</td>\n",
       "      <td>100.0</td>\n",
       "    </tr>\n",
       "    <tr>\n",
       "      <th>217</th>\n",
       "      <td>Renault</td>\n",
       "      <td>Logan</td>\n",
       "      <td>0</td>\n",
       "      <td>0</td>\n",
       "      <td>0</td>\n",
       "      <td>0</td>\n",
       "      <td>0</td>\n",
       "      <td>320</td>\n",
       "      <td>320</td>\n",
       "      <td>100.0</td>\n",
       "      <td>0.0</td>\n",
       "    </tr>\n",
       "    <tr>\n",
       "      <th>215</th>\n",
       "      <td>Renault</td>\n",
       "      <td>Kaptur</td>\n",
       "      <td>0</td>\n",
       "      <td>0</td>\n",
       "      <td>0</td>\n",
       "      <td>0</td>\n",
       "      <td>0</td>\n",
       "      <td>230</td>\n",
       "      <td>230</td>\n",
       "      <td>100.0</td>\n",
       "      <td>0.0</td>\n",
       "    </tr>\n",
       "    <tr>\n",
       "      <th>91</th>\n",
       "      <td>Jac</td>\n",
       "      <td>S3</td>\n",
       "      <td>0</td>\n",
       "      <td>0</td>\n",
       "      <td>821</td>\n",
       "      <td>290</td>\n",
       "      <td>0</td>\n",
       "      <td>175</td>\n",
       "      <td>1286</td>\n",
       "      <td>13.6</td>\n",
       "      <td>73.9</td>\n",
       "    </tr>\n",
       "  </tbody>\n",
       "</table>\n",
       "</div>"
      ],
      "text/plain": [
       "index    brand    model  AMT  AT  CVT   MT  Редуктор  null_cnt  obs_cnt  \\\n",
       "214    Renault   Duster    0  13    0   12         0       682      707   \n",
       "219    Renault  Sandero    0   0    0    1         0       440      441   \n",
       "217    Renault    Logan    0   0    0    0         0       320      320   \n",
       "215    Renault   Kaptur    0   0    0    0         0       230      230   \n",
       "91         Jac       S3    0   0  821  290         0       175     1286   \n",
       "\n",
       "index  null_perc  mode_perc  \n",
       "214         96.5       52.0  \n",
       "219         99.8      100.0  \n",
       "217        100.0        0.0  \n",
       "215        100.0        0.0  \n",
       "91          13.6       73.9  "
      ]
     },
     "execution_count": 175,
     "metadata": {},
     "output_type": "execute_result"
    }
   ],
   "source": [
    "# запишем в иные переменные\n",
    "pt_transm_fill, str_transm_fill = null_analysis(df, 'transmission_type')\n",
    "\n",
    "print(str_transm_fill)\n",
    "pt_transm_fill.sort_values(by=['null_cnt'], ascending=[False]).head()\n",
    "\n",
    "# раскомментируйте код, чтобы увидеть весь результат\n",
    "# pt_transm_fill.sort_values(by=['null_cnt'], ascending=[False])"
   ]
  },
  {
   "cell_type": "markdown",
   "id": "9dd73209-8242-4b52-bf9d-86f5b3a97870",
   "metadata": {},
   "source": [
    "Это всё. Дальнейшая замена пропусков кажется почти нереальной."
   ]
  },
  {
   "cell_type": "markdown",
   "id": "bd8293a9-da6f-461d-b2cc-4f884029bf45",
   "metadata": {},
   "source": [
    "<br>"
   ]
  },
  {
   "cell_type": "markdown",
   "id": "5b1549e3-8975-441d-9ea3-436f32cbd8cf",
   "metadata": {},
   "source": [
    "##### `Тип привода`"
   ]
  },
  {
   "cell_type": "code",
   "execution_count": 176,
   "id": "8acf0589-2a46-4905-a0d3-faf7925b892b",
   "metadata": {},
   "outputs": [
    {
     "data": {
      "text/html": [
       "<div>\n",
       "<style scoped>\n",
       "    .dataframe tbody tr th:only-of-type {\n",
       "        vertical-align: middle;\n",
       "    }\n",
       "\n",
       "    .dataframe tbody tr th {\n",
       "        vertical-align: top;\n",
       "    }\n",
       "\n",
       "    .dataframe thead th {\n",
       "        text-align: right;\n",
       "    }\n",
       "</style>\n",
       "<table border=\"1\" class=\"dataframe\">\n",
       "  <thead>\n",
       "    <tr style=\"text-align: right;\">\n",
       "      <th></th>\n",
       "      <th>id</th>\n",
       "      <th>purchase_date</th>\n",
       "      <th>company</th>\n",
       "      <th>car_type</th>\n",
       "      <th>brand</th>\n",
       "      <th>model</th>\n",
       "      <th>car_classification</th>\n",
       "      <th>manufacturing_year</th>\n",
       "      <th>assembly_type</th>\n",
       "      <th>manufacturing_country</th>\n",
       "      <th>fuel_type</th>\n",
       "      <th>engine_displacement_l</th>\n",
       "      <th>transmission_type</th>\n",
       "      <th>drive_type</th>\n",
       "      <th>region</th>\n",
       "      <th>city</th>\n",
       "      <th>dealer_center_name</th>\n",
       "      <th>customer_type</th>\n",
       "      <th>payment_form</th>\n",
       "      <th>quantity</th>\n",
       "      <th>price_usd</th>\n",
       "      <th>sale_usd</th>\n",
       "    </tr>\n",
       "  </thead>\n",
       "  <tbody>\n",
       "    <tr>\n",
       "      <th>97</th>\n",
       "      <td>97</td>\n",
       "      <td>2019-01-01</td>\n",
       "      <td>СемАЗ</td>\n",
       "      <td>Коммерческие автомобили</td>\n",
       "      <td>Dong Feng</td>\n",
       "      <td>BWC6665GA5</td>\n",
       "      <td>Средние автобусы</td>\n",
       "      <td>2019</td>\n",
       "      <td>Локальное производство</td>\n",
       "      <td>Казахстан</td>\n",
       "      <td>Дизель</td>\n",
       "      <td>NaN</td>\n",
       "      <td>NaN</td>\n",
       "      <td>NaN</td>\n",
       "      <td>г.Нур-Султан</td>\n",
       "      <td>Нур-Султан</td>\n",
       "      <td>СемАЗ</td>\n",
       "      <td>NaN</td>\n",
       "      <td>NaN</td>\n",
       "      <td>29</td>\n",
       "      <td>26693</td>\n",
       "      <td>774091</td>\n",
       "    </tr>\n",
       "    <tr>\n",
       "      <th>99</th>\n",
       "      <td>99</td>\n",
       "      <td>2019-01-01</td>\n",
       "      <td>СемАЗ</td>\n",
       "      <td>Коммерческие автомобили</td>\n",
       "      <td>Foton</td>\n",
       "      <td>BJ1069VDJEA-F1</td>\n",
       "      <td>Малотоннажные грузовики</td>\n",
       "      <td>2018</td>\n",
       "      <td>Локальное производство</td>\n",
       "      <td>Казахстан</td>\n",
       "      <td>Дизель</td>\n",
       "      <td>NaN</td>\n",
       "      <td>NaN</td>\n",
       "      <td>NaN</td>\n",
       "      <td>г.Алматы</td>\n",
       "      <td>Алматы</td>\n",
       "      <td>Меридиан АВТО Алматы</td>\n",
       "      <td>NaN</td>\n",
       "      <td>NaN</td>\n",
       "      <td>3</td>\n",
       "      <td>13619</td>\n",
       "      <td>40858</td>\n",
       "    </tr>\n",
       "    <tr>\n",
       "      <th>1056</th>\n",
       "      <td>1056</td>\n",
       "      <td>2019-01-01</td>\n",
       "      <td>Allur Auto</td>\n",
       "      <td>Коммерческие автомобили</td>\n",
       "      <td>Iveco</td>\n",
       "      <td>Daily</td>\n",
       "      <td>Малотоннажные грузовики</td>\n",
       "      <td>2017</td>\n",
       "      <td>Локальное производство</td>\n",
       "      <td>Казахстан</td>\n",
       "      <td>Дизель</td>\n",
       "      <td>NaN</td>\n",
       "      <td>MT</td>\n",
       "      <td>NaN</td>\n",
       "      <td>г.Алматы</td>\n",
       "      <td>Алматы</td>\n",
       "      <td>Allur Auto Almaty</td>\n",
       "      <td>Юридическое лицо</td>\n",
       "      <td>NaN</td>\n",
       "      <td>1</td>\n",
       "      <td>27750</td>\n",
       "      <td>27750</td>\n",
       "    </tr>\n",
       "    <tr>\n",
       "      <th>1129</th>\n",
       "      <td>1129</td>\n",
       "      <td>2019-01-01</td>\n",
       "      <td>ТК КАМАЗ</td>\n",
       "      <td>Коммерческие автомобили</td>\n",
       "      <td>KAMAZ</td>\n",
       "      <td>43118</td>\n",
       "      <td>Крупнотоннажные грузовики</td>\n",
       "      <td>2018</td>\n",
       "      <td>Локальное производство</td>\n",
       "      <td>Казахстан</td>\n",
       "      <td>Дизель</td>\n",
       "      <td>10.8</td>\n",
       "      <td>MT</td>\n",
       "      <td>NaN</td>\n",
       "      <td>г.Нур-Султан</td>\n",
       "      <td>Нур-Султан</td>\n",
       "      <td>Российские Грузовики Астана</td>\n",
       "      <td>Юридическое лицо</td>\n",
       "      <td>NaN</td>\n",
       "      <td>1</td>\n",
       "      <td>49950</td>\n",
       "      <td>49950</td>\n",
       "    </tr>\n",
       "    <tr>\n",
       "      <th>1130</th>\n",
       "      <td>1130</td>\n",
       "      <td>2019-01-01</td>\n",
       "      <td>ТК КАМАЗ</td>\n",
       "      <td>Коммерческие автомобили</td>\n",
       "      <td>KAMAZ</td>\n",
       "      <td>43118</td>\n",
       "      <td>Крупнотоннажные грузовики</td>\n",
       "      <td>2018</td>\n",
       "      <td>Локальное производство</td>\n",
       "      <td>Казахстан</td>\n",
       "      <td>Дизель</td>\n",
       "      <td>10.8</td>\n",
       "      <td>MT</td>\n",
       "      <td>NaN</td>\n",
       "      <td>Актюбинская область</td>\n",
       "      <td>Актобе</td>\n",
       "      <td>ЗапКазКАМАЗ -Актобе</td>\n",
       "      <td>Юридическое лицо</td>\n",
       "      <td>NaN</td>\n",
       "      <td>1</td>\n",
       "      <td>49950</td>\n",
       "      <td>49950</td>\n",
       "    </tr>\n",
       "  </tbody>\n",
       "</table>\n",
       "</div>"
      ],
      "text/plain": [
       "        id purchase_date     company                 car_type      brand  \\\n",
       "97      97    2019-01-01       СемАЗ  Коммерческие автомобили  Dong Feng   \n",
       "99      99    2019-01-01       СемАЗ  Коммерческие автомобили      Foton   \n",
       "1056  1056    2019-01-01  Allur Auto  Коммерческие автомобили      Iveco   \n",
       "1129  1129    2019-01-01    ТК КАМАЗ  Коммерческие автомобили      KAMAZ   \n",
       "1130  1130    2019-01-01    ТК КАМАЗ  Коммерческие автомобили      KAMAZ   \n",
       "\n",
       "               model         car_classification  manufacturing_year  \\\n",
       "97        BWC6665GA5           Средние автобусы                2019   \n",
       "99    BJ1069VDJEA-F1    Малотоннажные грузовики                2018   \n",
       "1056           Daily    Малотоннажные грузовики                2017   \n",
       "1129           43118  Крупнотоннажные грузовики                2018   \n",
       "1130           43118  Крупнотоннажные грузовики                2018   \n",
       "\n",
       "               assembly_type manufacturing_country fuel_type  \\\n",
       "97    Локальное производство             Казахстан    Дизель   \n",
       "99    Локальное производство             Казахстан    Дизель   \n",
       "1056  Локальное производство             Казахстан    Дизель   \n",
       "1129  Локальное производство             Казахстан    Дизель   \n",
       "1130  Локальное производство             Казахстан    Дизель   \n",
       "\n",
       "      engine_displacement_l transmission_type drive_type               region  \\\n",
       "97                      NaN               NaN        NaN         г.Нур-Султан   \n",
       "99                      NaN               NaN        NaN             г.Алматы   \n",
       "1056                    NaN                MT        NaN             г.Алматы   \n",
       "1129                   10.8                MT        NaN         г.Нур-Султан   \n",
       "1130                   10.8                MT        NaN  Актюбинская область   \n",
       "\n",
       "            city           dealer_center_name     customer_type payment_form  \\\n",
       "97    Нур-Султан                        СемАЗ               NaN          NaN   \n",
       "99        Алматы         Меридиан АВТО Алматы               NaN          NaN   \n",
       "1056      Алматы            Allur Auto Almaty  Юридическое лицо          NaN   \n",
       "1129  Нур-Султан  Российские Грузовики Астана  Юридическое лицо          NaN   \n",
       "1130      Актобе          ЗапКазКАМАЗ -Актобе  Юридическое лицо          NaN   \n",
       "\n",
       "      quantity  price_usd  sale_usd  \n",
       "97          29      26693    774091  \n",
       "99           3      13619     40858  \n",
       "1056         1      27750     27750  \n",
       "1129         1      49950     49950  \n",
       "1130         1      49950     49950  "
      ]
     },
     "execution_count": 176,
     "metadata": {},
     "output_type": "execute_result"
    }
   ],
   "source": [
    "df[df['drive_type'].isna()].head()"
   ]
  },
  {
   "cell_type": "code",
   "execution_count": 177,
   "id": "ccebfd65-6266-4958-a7ab-761207e4541d",
   "metadata": {},
   "outputs": [
    {
     "data": {
      "text/plain": [
       "4WD    14060\n",
       "2WD     9824\n",
       "FWD     9035\n",
       "NaN     4411\n",
       "RWD     1674\n",
       "AWD      962\n",
       "Name: drive_type, dtype: int64"
      ]
     },
     "execution_count": 177,
     "metadata": {},
     "output_type": "execute_result"
    }
   ],
   "source": [
    "df['drive_type'].value_counts(dropna=False).head(10)"
   ]
  },
  {
   "cell_type": "markdown",
   "id": "4b32f837-d469-4877-9bb7-960a91939ba2",
   "metadata": {},
   "source": [
    "Здесь пропуски — четвёртое самое встречаемое значение."
   ]
  },
  {
   "cell_type": "markdown",
   "id": "96ab1f4b-0d7f-49fc-b615-798a6b224eec",
   "metadata": {},
   "source": [
    "<br>"
   ]
  },
  {
   "cell_type": "markdown",
   "id": "6a3e77ab-58f2-4514-8f45-447740477197",
   "metadata": {},
   "source": [
    "Применим функцию."
   ]
  },
  {
   "cell_type": "code",
   "execution_count": 178,
   "id": "407126c8-fd47-4324-9c3d-4292f0b8056d",
   "metadata": {},
   "outputs": [],
   "source": [
    "pt_drive, str_drive = null_analysis(df, 'drive_type')"
   ]
  },
  {
   "cell_type": "code",
   "execution_count": 179,
   "id": "7456514e-8f78-4899-8e5b-4995b35610f2",
   "metadata": {},
   "outputs": [
    {
     "name": "stdout",
     "output_type": "stream",
     "text": [
      "Количество пропущенных значений в сводной таблице и основном датафрейме сходится.\n",
      "В сводной: 4411 пропусков. В датафрейме: 4411 пропусков.\n",
      "\n",
      "Количество наблюдений в сводной таблице и основном датафрейме не сходится.\n",
      "В сводной: 10121 наблюдений. В датафрейме: 10122 наблюдений.\n",
      "\n",
      "\n"
     ]
    },
    {
     "data": {
      "text/html": [
       "<div>\n",
       "<style scoped>\n",
       "    .dataframe tbody tr th:only-of-type {\n",
       "        vertical-align: middle;\n",
       "    }\n",
       "\n",
       "    .dataframe tbody tr th {\n",
       "        vertical-align: top;\n",
       "    }\n",
       "\n",
       "    .dataframe thead th {\n",
       "        text-align: right;\n",
       "    }\n",
       "</style>\n",
       "<table border=\"1\" class=\"dataframe\">\n",
       "  <thead>\n",
       "    <tr style=\"text-align: right;\">\n",
       "      <th>index</th>\n",
       "      <th>brand</th>\n",
       "      <th>model</th>\n",
       "      <th>2WD</th>\n",
       "      <th>4WD</th>\n",
       "      <th>AWD</th>\n",
       "      <th>FWD</th>\n",
       "      <th>RWD</th>\n",
       "      <th>null_cnt</th>\n",
       "      <th>obs_cnt</th>\n",
       "      <th>null_perc</th>\n",
       "      <th>mode_perc</th>\n",
       "    </tr>\n",
       "  </thead>\n",
       "  <tbody>\n",
       "    <tr>\n",
       "      <th>214</th>\n",
       "      <td>Renault</td>\n",
       "      <td>Duster</td>\n",
       "      <td>0</td>\n",
       "      <td>51</td>\n",
       "      <td>0</td>\n",
       "      <td>6</td>\n",
       "      <td>0</td>\n",
       "      <td>650</td>\n",
       "      <td>707</td>\n",
       "      <td>91.9</td>\n",
       "      <td>89.5</td>\n",
       "    </tr>\n",
       "    <tr>\n",
       "      <th>219</th>\n",
       "      <td>Renault</td>\n",
       "      <td>Sandero</td>\n",
       "      <td>0</td>\n",
       "      <td>0</td>\n",
       "      <td>0</td>\n",
       "      <td>3</td>\n",
       "      <td>0</td>\n",
       "      <td>438</td>\n",
       "      <td>441</td>\n",
       "      <td>99.3</td>\n",
       "      <td>100.0</td>\n",
       "    </tr>\n",
       "    <tr>\n",
       "      <th>210</th>\n",
       "      <td>Ravon</td>\n",
       "      <td>Nexia R3</td>\n",
       "      <td>805</td>\n",
       "      <td>0</td>\n",
       "      <td>0</td>\n",
       "      <td>533</td>\n",
       "      <td>0</td>\n",
       "      <td>361</td>\n",
       "      <td>1699</td>\n",
       "      <td>21.2</td>\n",
       "      <td>60.2</td>\n",
       "    </tr>\n",
       "    <tr>\n",
       "      <th>257</th>\n",
       "      <td>Volkswagen</td>\n",
       "      <td>Polo</td>\n",
       "      <td>77</td>\n",
       "      <td>3</td>\n",
       "      <td>0</td>\n",
       "      <td>103</td>\n",
       "      <td>0</td>\n",
       "      <td>361</td>\n",
       "      <td>544</td>\n",
       "      <td>66.4</td>\n",
       "      <td>56.3</td>\n",
       "    </tr>\n",
       "    <tr>\n",
       "      <th>217</th>\n",
       "      <td>Renault</td>\n",
       "      <td>Logan</td>\n",
       "      <td>0</td>\n",
       "      <td>0</td>\n",
       "      <td>0</td>\n",
       "      <td>0</td>\n",
       "      <td>0</td>\n",
       "      <td>320</td>\n",
       "      <td>320</td>\n",
       "      <td>100.0</td>\n",
       "      <td>0.0</td>\n",
       "    </tr>\n",
       "    <tr>\n",
       "      <th>...</th>\n",
       "      <td>...</td>\n",
       "      <td>...</td>\n",
       "      <td>...</td>\n",
       "      <td>...</td>\n",
       "      <td>...</td>\n",
       "      <td>...</td>\n",
       "      <td>...</td>\n",
       "      <td>...</td>\n",
       "      <td>...</td>\n",
       "      <td>...</td>\n",
       "      <td>...</td>\n",
       "    </tr>\n",
       "    <tr>\n",
       "      <th>148</th>\n",
       "      <td>Land Rover</td>\n",
       "      <td>Range Rover Sport</td>\n",
       "      <td>0</td>\n",
       "      <td>0</td>\n",
       "      <td>14</td>\n",
       "      <td>0</td>\n",
       "      <td>0</td>\n",
       "      <td>1</td>\n",
       "      <td>15</td>\n",
       "      <td>6.7</td>\n",
       "      <td>100.0</td>\n",
       "    </tr>\n",
       "    <tr>\n",
       "      <th>149</th>\n",
       "      <td>Land Rover</td>\n",
       "      <td>Range Rover Velar</td>\n",
       "      <td>0</td>\n",
       "      <td>0</td>\n",
       "      <td>15</td>\n",
       "      <td>0</td>\n",
       "      <td>0</td>\n",
       "      <td>1</td>\n",
       "      <td>16</td>\n",
       "      <td>6.2</td>\n",
       "      <td>100.0</td>\n",
       "    </tr>\n",
       "    <tr>\n",
       "      <th>182</th>\n",
       "      <td>Mercedes-Benz</td>\n",
       "      <td>V-Class</td>\n",
       "      <td>0</td>\n",
       "      <td>0</td>\n",
       "      <td>0</td>\n",
       "      <td>0</td>\n",
       "      <td>4</td>\n",
       "      <td>1</td>\n",
       "      <td>5</td>\n",
       "      <td>20.0</td>\n",
       "      <td>100.0</td>\n",
       "    </tr>\n",
       "    <tr>\n",
       "      <th>184</th>\n",
       "      <td>Mercedes-Benz Trucks</td>\n",
       "      <td>Setra</td>\n",
       "      <td>0</td>\n",
       "      <td>0</td>\n",
       "      <td>0</td>\n",
       "      <td>0</td>\n",
       "      <td>0</td>\n",
       "      <td>1</td>\n",
       "      <td>1</td>\n",
       "      <td>100.0</td>\n",
       "      <td>0.0</td>\n",
       "    </tr>\n",
       "    <tr>\n",
       "      <th>273</th>\n",
       "      <td>Урал</td>\n",
       "      <td>4320-1951-60</td>\n",
       "      <td>0</td>\n",
       "      <td>0</td>\n",
       "      <td>0</td>\n",
       "      <td>0</td>\n",
       "      <td>0</td>\n",
       "      <td>1</td>\n",
       "      <td>1</td>\n",
       "      <td>100.0</td>\n",
       "      <td>0.0</td>\n",
       "    </tr>\n",
       "  </tbody>\n",
       "</table>\n",
       "<p>99 rows × 11 columns</p>\n",
       "</div>"
      ],
      "text/plain": [
       "index                 brand              model  2WD  4WD  AWD  FWD  RWD  \\\n",
       "214                 Renault             Duster    0   51    0    6    0   \n",
       "219                 Renault            Sandero    0    0    0    3    0   \n",
       "210                   Ravon           Nexia R3  805    0    0  533    0   \n",
       "257              Volkswagen               Polo   77    3    0  103    0   \n",
       "217                 Renault              Logan    0    0    0    0    0   \n",
       "..                      ...                ...  ...  ...  ...  ...  ...   \n",
       "148              Land Rover  Range Rover Sport    0    0   14    0    0   \n",
       "149              Land Rover  Range Rover Velar    0    0   15    0    0   \n",
       "182           Mercedes-Benz            V-Class    0    0    0    0    4   \n",
       "184    Mercedes-Benz Trucks              Setra    0    0    0    0    0   \n",
       "273                    Урал       4320-1951-60    0    0    0    0    0   \n",
       "\n",
       "index  null_cnt  obs_cnt  null_perc  mode_perc  \n",
       "214         650      707       91.9       89.5  \n",
       "219         438      441       99.3      100.0  \n",
       "210         361     1699       21.2       60.2  \n",
       "257         361      544       66.4       56.3  \n",
       "217         320      320      100.0        0.0  \n",
       "..          ...      ...        ...        ...  \n",
       "148           1       15        6.7      100.0  \n",
       "149           1       16        6.2      100.0  \n",
       "182           1        5       20.0      100.0  \n",
       "184           1        1      100.0        0.0  \n",
       "273           1        1      100.0        0.0  \n",
       "\n",
       "[99 rows x 11 columns]"
      ]
     },
     "execution_count": 179,
     "metadata": {},
     "output_type": "execute_result"
    }
   ],
   "source": [
    "# вывод строк с пропусками и наблюдениями\n",
    "print(str_drive)\n",
    "\n",
    "# раскомментируйте строчку ниже, чтобы увидеть всю сводную таблицу\n",
    "# pd.set_option('display.max_rows', 100)\n",
    "pt_drive.sort_values(by=['mode_perc', 'null_perc'], ascending=[False, True])\n",
    "\n",
    "# раскомментируйте строчку ниже, чтобы снова сделать таблицу компактной\n",
    "# pd.reset_option('display.max_rows')\n",
    "pt_drive.sort_values(by=['null_cnt'], ascending=[False])"
   ]
  },
  {
   "cell_type": "markdown",
   "id": "cd6d32da-5e8d-4f63-84b2-369c9c90fee7",
   "metadata": {},
   "source": [
    "Сводная таблица открыла некоторые секреты. Она подсвечивает не только пропуски, но и к какому двухколёсному приводу относится та или иная модель."
   ]
  },
  {
   "cell_type": "markdown",
   "id": "552ac106-20ad-4626-be34-b838afc54f23",
   "metadata": {},
   "source": [
    "Проверив эту информацию на сайте автомобильного портала, сделаем списки передних и задних приводов транспорта, которые в таблице значатся как двухколёсные."
   ]
  },
  {
   "cell_type": "code",
   "execution_count": 180,
   "id": "712656b7-effa-409e-bace-a061478d4939",
   "metadata": {},
   "outputs": [],
   "source": [
    "# двухколёсные переднеприводные\n",
    "fwd = ['S3', 'Nexia R3', 'S5', 'R4', 'Polo', '301', 'Partner Panel Van', 'Accent', 'Creta', 'Caddy Maxi Kombi', 'S90',\n",
    "       'Elantra', 'Sonata', 'Tucson', 'S7', 'ASX', 'Eclipse Cross', 'Outlander', 'Qashqai', 'X-Trail', 'Caddy Kasten']\n",
    "\n",
    "# двухколёсные заднеприводные\n",
    "rwd = ['HFF6850G', 'N120', 'NMR', 'N56', 'H350', 'Corolla', 'NPR', 'HD 65', 'T6', 'HD 78', 'Daily', 'HD 35', 'N75', 'Universe', 'Tiguan', 'Actros', 'X200', 'ZK6108HGH',\n",
    "       'HFF6124G03EV3', 'HFF6127GZ-4', 'BC 095', 'BC 211 MA', 'BS 106 A', 'BS 106 D', '300', '500', 'TQ-1/H-1', 'HD 170', 'HD 79', 'County', 'NQR', 'Stralis']\n",
    "\n",
    "# полноприводные модели, которые по ошибке считаются 2WD\n",
    "wd4 = ['Pajero IV', 'Cayenne', 'Macan', 'Panamera']"
   ]
  },
  {
   "cell_type": "markdown",
   "id": "c1b33272-429b-4b72-959d-cab4935afe7d",
   "metadata": {},
   "source": [
    "Произведём замену по условию."
   ]
  },
  {
   "cell_type": "code",
   "execution_count": 181,
   "id": "af9cdf3e-1751-4b87-9c5f-14e551cb6b57",
   "metadata": {},
   "outputs": [],
   "source": [
    "# замена 2WD на FWD\n",
    "df.loc[(df['model'].isin(fwd)) & (df['drive_type'] == '2WD'), 'drive_type'] = 'FWD'\n",
    "\n",
    "# замена 2WD на RWD\n",
    "df.loc[(df['model'].isin(rwd)) & (df['drive_type'] == '2WD'), 'drive_type'] = 'RWD'\n",
    "\n",
    "# замена 2WD на 4WD\n",
    "df.loc[(df['model'].isin(wd4)) & (df['drive_type'] == '2WD'), 'drive_type'] = '4WD'"
   ]
  },
  {
   "cell_type": "markdown",
   "id": "d8087b1d-c171-486c-b5d1-3e9890888e98",
   "metadata": {},
   "source": [
    "Проверим распределение значений, чтобы убедиться, что двухколёсных 2WD больше нет. "
   ]
  },
  {
   "cell_type": "code",
   "execution_count": 182,
   "id": "5f206000-bcee-48a6-aadd-7f702f337af8",
   "metadata": {},
   "outputs": [
    {
     "data": {
      "text/plain": [
       "FWD    18188\n",
       "4WD    14064\n",
       "NaN     4411\n",
       "RWD     2341\n",
       "AWD      962\n",
       "Name: drive_type, dtype: int64"
      ]
     },
     "execution_count": 182,
     "metadata": {},
     "output_type": "execute_result"
    }
   ],
   "source": [
    "df['drive_type'].value_counts(dropna=False)"
   ]
  },
  {
   "cell_type": "markdown",
   "id": "fab09e80-3f34-48d6-97c5-99404d8123bc",
   "metadata": {},
   "source": [
    "<br>"
   ]
  },
  {
   "cell_type": "markdown",
   "id": "a2a6a1f3-2c3b-48d3-8aa2-58214cec2d8b",
   "metadata": {},
   "source": [
    "Прошерстив сайт агрегатор автомобилей, создадим списки моделей, которым соответствуют их типы приводов."
   ]
  },
  {
   "cell_type": "code",
   "execution_count": 183,
   "id": "d4b8e829-c726-402f-be80-095abd70ff56",
   "metadata": {},
   "outputs": [],
   "source": [
    "# передний привод \n",
    "fwd_m = ['6', '3', 'Logan', 'Dokker',]\n",
    "\n",
    "# задний привод\n",
    "rwd_m = ['HFF6850G', 'Daily', 'Tipper', 'Daily A', 'Daily V', 'HF-D105', 'BWC6665GA5', 'BJ1069VDJEA-F1',\n",
    "         'BJ3253DMPKB-AD', 'iev', '65115', '6520', '45143', '65116', '5490', '65117', '43253', 'NMR',\n",
    "         'NPR', 'HD 78', 'HD 35', 'H350', 'HD 65', 'EX8', 'Universe', 'HD 160', '53215', '45142', '54115',\n",
    "         '53605', '65206', '4308', '66052', '6606', '5299', 'SX3258DR384']\n",
    "\n",
    "# полный привод\n",
    "wd4_m = ['CX-5', 'CX-9', '43118', '44108', '58815Z', '65111', '53504', '43502', '4311', '45141', '65225',\n",
    "         'Koleos', '4320', '5557', '32551', '4320-1951-40', '4320-1951-60']\n",
    "\n",
    "# заполним модой\n",
    "mode_m = ['S3', 'S5', 'N120', 'T6', 'N75', 'N56', 'E-PACE', 'I-Pace', 'XJ', 'Discovery Sport', '301',\n",
    "          'Range Rover', 'Range Rover Evoque', 'Range Rover Sport', 'Range Rover Velar', 'V-Class',\n",
    "          'Partner Panel Van', 'Nexia R3', 'R4', 'Sandero', 'HILUX DC', 'Polo', 'Teramont', 'Touareg',\n",
    "          'Caravelle', 'Amarok', 'Transporter Kasten', 'XC60', 'XC90']"
   ]
  },
  {
   "cell_type": "markdown",
   "id": "0003b1d1-45a7-44df-879d-5920f8b99050",
   "metadata": {},
   "source": [
    "Заполним пропуски для моделей из списков."
   ]
  },
  {
   "cell_type": "code",
   "execution_count": 184,
   "id": "67c070ff-fe98-4d36-a00b-af2113f113b9",
   "metadata": {},
   "outputs": [],
   "source": [
    "# заполним пропуски для заднего привода\n",
    "df.loc[(df['model'].isin(rwd_m)) & (df['drive_type'].isna()), 'drive_type'] = 'RWD'\n",
    "\n",
    "# заполним пропуски для полного привода\n",
    "df.loc[(df['model'].isin(wd4_m)) & (df['drive_type'].isna()), 'drive_type'] = '4WD'\n",
    "\n",
    "# заполним пропуски для переднего привода\n",
    "df.loc[(df['model'].isin(fwd_m)) & (df['drive_type'].isna()), 'drive_type'] = 'FWD'\n",
    "\n",
    "# заполним пропуски модой\n",
    "for model in mode_m:\n",
    "    df.loc[(df['model'] == model) & (df['drive_type'].isna()), 'drive_type'] = \\\n",
    "    df.loc[(df['model'] == model), 'drive_type'].mode().iloc[0]"
   ]
  },
  {
   "cell_type": "markdown",
   "id": "5d62463c-cb7a-4c17-a01f-4f733e1a428f",
   "metadata": {},
   "source": [
    "<br>"
   ]
  },
  {
   "cell_type": "markdown",
   "id": "e494b484-4ff0-4196-87fb-77f9956378bf",
   "metadata": {},
   "source": [
    "Проверим результат."
   ]
  },
  {
   "cell_type": "code",
   "execution_count": 185,
   "id": "c5c7e9e5-b4e4-4e4a-827c-5c2fad08ad92",
   "metadata": {},
   "outputs": [
    {
     "name": "stdout",
     "output_type": "stream",
     "text": [
      "Количество пропущенных значений в сводной таблице и основном датафрейме сходится.\n",
      "В сводной: 1042 пропусков. В датафрейме: 1042 пропусков.\n",
      "\n",
      "Количество наблюдений в сводной таблице и основном датафрейме сходится.\n",
      "В сводной: 2251 наблюдений. В датафрейме: 2251 наблюдений.\n",
      "\n",
      "\n"
     ]
    },
    {
     "data": {
      "text/html": [
       "<div>\n",
       "<style scoped>\n",
       "    .dataframe tbody tr th:only-of-type {\n",
       "        vertical-align: middle;\n",
       "    }\n",
       "\n",
       "    .dataframe tbody tr th {\n",
       "        vertical-align: top;\n",
       "    }\n",
       "\n",
       "    .dataframe thead th {\n",
       "        text-align: right;\n",
       "    }\n",
       "</style>\n",
       "<table border=\"1\" class=\"dataframe\">\n",
       "  <thead>\n",
       "    <tr style=\"text-align: right;\">\n",
       "      <th>index</th>\n",
       "      <th>brand</th>\n",
       "      <th>model</th>\n",
       "      <th>4WD</th>\n",
       "      <th>AWD</th>\n",
       "      <th>FWD</th>\n",
       "      <th>RWD</th>\n",
       "      <th>null_cnt</th>\n",
       "      <th>obs_cnt</th>\n",
       "      <th>null_perc</th>\n",
       "      <th>mode_perc</th>\n",
       "    </tr>\n",
       "  </thead>\n",
       "  <tbody>\n",
       "    <tr>\n",
       "      <th>164</th>\n",
       "      <td>MAN</td>\n",
       "      <td>TG</td>\n",
       "      <td>0</td>\n",
       "      <td>0</td>\n",
       "      <td>0</td>\n",
       "      <td>0</td>\n",
       "      <td>11</td>\n",
       "      <td>11</td>\n",
       "      <td>100.0</td>\n",
       "      <td>0.0</td>\n",
       "    </tr>\n",
       "    <tr>\n",
       "      <th>183</th>\n",
       "      <td>Mercedes-Benz Trucks</td>\n",
       "      <td>Actros</td>\n",
       "      <td>0</td>\n",
       "      <td>1</td>\n",
       "      <td>0</td>\n",
       "      <td>2</td>\n",
       "      <td>5</td>\n",
       "      <td>8</td>\n",
       "      <td>62.5</td>\n",
       "      <td>66.7</td>\n",
       "    </tr>\n",
       "    <tr>\n",
       "      <th>184</th>\n",
       "      <td>Mercedes-Benz Trucks</td>\n",
       "      <td>Setra</td>\n",
       "      <td>0</td>\n",
       "      <td>0</td>\n",
       "      <td>0</td>\n",
       "      <td>0</td>\n",
       "      <td>1</td>\n",
       "      <td>1</td>\n",
       "      <td>100.0</td>\n",
       "      <td>0.0</td>\n",
       "    </tr>\n",
       "    <tr>\n",
       "      <th>214</th>\n",
       "      <td>Renault</td>\n",
       "      <td>Duster</td>\n",
       "      <td>51</td>\n",
       "      <td>0</td>\n",
       "      <td>6</td>\n",
       "      <td>0</td>\n",
       "      <td>650</td>\n",
       "      <td>707</td>\n",
       "      <td>91.9</td>\n",
       "      <td>89.5</td>\n",
       "    </tr>\n",
       "    <tr>\n",
       "      <th>215</th>\n",
       "      <td>Renault</td>\n",
       "      <td>Kaptur</td>\n",
       "      <td>0</td>\n",
       "      <td>0</td>\n",
       "      <td>0</td>\n",
       "      <td>0</td>\n",
       "      <td>230</td>\n",
       "      <td>230</td>\n",
       "      <td>100.0</td>\n",
       "      <td>0.0</td>\n",
       "    </tr>\n",
       "    <tr>\n",
       "      <th>212</th>\n",
       "      <td>Renault</td>\n",
       "      <td>Arkana</td>\n",
       "      <td>0</td>\n",
       "      <td>0</td>\n",
       "      <td>0</td>\n",
       "      <td>0</td>\n",
       "      <td>55</td>\n",
       "      <td>55</td>\n",
       "      <td>100.0</td>\n",
       "      <td>0.0</td>\n",
       "    </tr>\n",
       "    <tr>\n",
       "      <th>218</th>\n",
       "      <td>Renault</td>\n",
       "      <td>Master</td>\n",
       "      <td>0</td>\n",
       "      <td>0</td>\n",
       "      <td>0</td>\n",
       "      <td>0</td>\n",
       "      <td>8</td>\n",
       "      <td>8</td>\n",
       "      <td>100.0</td>\n",
       "      <td>0.0</td>\n",
       "    </tr>\n",
       "    <tr>\n",
       "      <th>222</th>\n",
       "      <td>Scania</td>\n",
       "      <td>R-Series</td>\n",
       "      <td>0</td>\n",
       "      <td>0</td>\n",
       "      <td>0</td>\n",
       "      <td>0</td>\n",
       "      <td>7</td>\n",
       "      <td>7</td>\n",
       "      <td>100.0</td>\n",
       "      <td>0.0</td>\n",
       "    </tr>\n",
       "    <tr>\n",
       "      <th>221</th>\n",
       "      <td>Scania</td>\n",
       "      <td>P-Series</td>\n",
       "      <td>0</td>\n",
       "      <td>0</td>\n",
       "      <td>0</td>\n",
       "      <td>0</td>\n",
       "      <td>2</td>\n",
       "      <td>2</td>\n",
       "      <td>100.0</td>\n",
       "      <td>0.0</td>\n",
       "    </tr>\n",
       "    <tr>\n",
       "      <th>223</th>\n",
       "      <td>Scania</td>\n",
       "      <td>S-Series</td>\n",
       "      <td>0</td>\n",
       "      <td>0</td>\n",
       "      <td>0</td>\n",
       "      <td>0</td>\n",
       "      <td>2</td>\n",
       "      <td>2</td>\n",
       "      <td>100.0</td>\n",
       "      <td>0.0</td>\n",
       "    </tr>\n",
       "    <tr>\n",
       "      <th>220</th>\n",
       "      <td>Scania</td>\n",
       "      <td>G-Series</td>\n",
       "      <td>0</td>\n",
       "      <td>0</td>\n",
       "      <td>0</td>\n",
       "      <td>0</td>\n",
       "      <td>1</td>\n",
       "      <td>1</td>\n",
       "      <td>100.0</td>\n",
       "      <td>0.0</td>\n",
       "    </tr>\n",
       "    <tr>\n",
       "      <th>235</th>\n",
       "      <td>Toyota</td>\n",
       "      <td>Corolla</td>\n",
       "      <td>890</td>\n",
       "      <td>0</td>\n",
       "      <td>180</td>\n",
       "      <td>17</td>\n",
       "      <td>2</td>\n",
       "      <td>1089</td>\n",
       "      <td>0.2</td>\n",
       "      <td>81.9</td>\n",
       "    </tr>\n",
       "    <tr>\n",
       "      <th>259</th>\n",
       "      <td>Volkswagen</td>\n",
       "      <td>Tiguan</td>\n",
       "      <td>58</td>\n",
       "      <td>3</td>\n",
       "      <td>0</td>\n",
       "      <td>1</td>\n",
       "      <td>68</td>\n",
       "      <td>130</td>\n",
       "      <td>52.3</td>\n",
       "      <td>93.5</td>\n",
       "    </tr>\n",
       "  </tbody>\n",
       "</table>\n",
       "</div>"
      ],
      "text/plain": [
       "index                 brand     model  4WD  AWD  FWD  RWD  null_cnt  obs_cnt  \\\n",
       "164                     MAN        TG    0    0    0    0        11       11   \n",
       "183    Mercedes-Benz Trucks    Actros    0    1    0    2         5        8   \n",
       "184    Mercedes-Benz Trucks     Setra    0    0    0    0         1        1   \n",
       "214                 Renault    Duster   51    0    6    0       650      707   \n",
       "215                 Renault    Kaptur    0    0    0    0       230      230   \n",
       "212                 Renault    Arkana    0    0    0    0        55       55   \n",
       "218                 Renault    Master    0    0    0    0         8        8   \n",
       "222                  Scania  R-Series    0    0    0    0         7        7   \n",
       "221                  Scania  P-Series    0    0    0    0         2        2   \n",
       "223                  Scania  S-Series    0    0    0    0         2        2   \n",
       "220                  Scania  G-Series    0    0    0    0         1        1   \n",
       "235                  Toyota   Corolla  890    0  180   17         2     1089   \n",
       "259              Volkswagen    Tiguan   58    3    0    1        68      130   \n",
       "\n",
       "index  null_perc  mode_perc  \n",
       "164        100.0        0.0  \n",
       "183         62.5       66.7  \n",
       "184        100.0        0.0  \n",
       "214         91.9       89.5  \n",
       "215        100.0        0.0  \n",
       "212        100.0        0.0  \n",
       "218        100.0        0.0  \n",
       "222        100.0        0.0  \n",
       "221        100.0        0.0  \n",
       "223        100.0        0.0  \n",
       "220        100.0        0.0  \n",
       "235          0.2       81.9  \n",
       "259         52.3       93.5  "
      ]
     },
     "execution_count": 185,
     "metadata": {},
     "output_type": "execute_result"
    }
   ],
   "source": [
    "# запишем в иные переменные\n",
    "pt_drive_fill, str_drive_fill = null_analysis(df, 'drive_type')\n",
    "\n",
    "print(str_drive_fill)\n",
    "\n",
    "pt_drive_fill.sort_values(by=['brand', 'null_cnt'], ascending=[True, False])"
   ]
  },
  {
   "cell_type": "markdown",
   "id": "01dad787-f721-4a7f-87ea-f128ae9b3535",
   "metadata": {},
   "source": [
    "Остальные пропуски неизвестно как заполнять.\\\n",
    "Оставшиеся модели `Renault` есть как с передним приводов, так и с полным приводом.\\\n",
    "Это касается и других моделей в таблице выше."
   ]
  },
  {
   "cell_type": "markdown",
   "id": "b0e7a292-a20c-4a0a-abfd-2329a484932a",
   "metadata": {},
   "source": [
    "<br>"
   ]
  },
  {
   "cell_type": "markdown",
   "id": "74d4d00b-f050-4569-9afd-f6ee6e36804c",
   "metadata": {},
   "source": [
    "##### `Тип покупателя`"
   ]
  },
  {
   "cell_type": "code",
   "execution_count": 186,
   "id": "ee3af52f-abca-45f5-b211-a4ed643aff06",
   "metadata": {},
   "outputs": [
    {
     "data": {
      "text/html": [
       "<div>\n",
       "<style scoped>\n",
       "    .dataframe tbody tr th:only-of-type {\n",
       "        vertical-align: middle;\n",
       "    }\n",
       "\n",
       "    .dataframe tbody tr th {\n",
       "        vertical-align: top;\n",
       "    }\n",
       "\n",
       "    .dataframe thead th {\n",
       "        text-align: right;\n",
       "    }\n",
       "</style>\n",
       "<table border=\"1\" class=\"dataframe\">\n",
       "  <thead>\n",
       "    <tr style=\"text-align: right;\">\n",
       "      <th></th>\n",
       "      <th>id</th>\n",
       "      <th>purchase_date</th>\n",
       "      <th>company</th>\n",
       "      <th>car_type</th>\n",
       "      <th>brand</th>\n",
       "      <th>model</th>\n",
       "      <th>car_classification</th>\n",
       "      <th>manufacturing_year</th>\n",
       "      <th>assembly_type</th>\n",
       "      <th>manufacturing_country</th>\n",
       "      <th>fuel_type</th>\n",
       "      <th>engine_displacement_l</th>\n",
       "      <th>transmission_type</th>\n",
       "      <th>drive_type</th>\n",
       "      <th>region</th>\n",
       "      <th>city</th>\n",
       "      <th>dealer_center_name</th>\n",
       "      <th>customer_type</th>\n",
       "      <th>payment_form</th>\n",
       "      <th>quantity</th>\n",
       "      <th>price_usd</th>\n",
       "      <th>sale_usd</th>\n",
       "    </tr>\n",
       "  </thead>\n",
       "  <tbody>\n",
       "    <tr>\n",
       "      <th>2</th>\n",
       "      <td>2</td>\n",
       "      <td>2019-01-01</td>\n",
       "      <td>Автоцентр-Бавария</td>\n",
       "      <td>Легковые автомобили</td>\n",
       "      <td>BMW</td>\n",
       "      <td>5 серия</td>\n",
       "      <td>E класс</td>\n",
       "      <td>2018</td>\n",
       "      <td>Импорт</td>\n",
       "      <td>Германия</td>\n",
       "      <td>Бензин</td>\n",
       "      <td>2.0</td>\n",
       "      <td>AT</td>\n",
       "      <td>RWD</td>\n",
       "      <td>г.Нур-Султан</td>\n",
       "      <td>Нур-Султан</td>\n",
       "      <td>Автоцентр-Бавария Астана</td>\n",
       "      <td>NaN</td>\n",
       "      <td>NaN</td>\n",
       "      <td>1</td>\n",
       "      <td>45119</td>\n",
       "      <td>45119</td>\n",
       "    </tr>\n",
       "    <tr>\n",
       "      <th>3</th>\n",
       "      <td>3</td>\n",
       "      <td>2019-01-01</td>\n",
       "      <td>Автоцентр-Бавария</td>\n",
       "      <td>Легковые автомобили</td>\n",
       "      <td>BMW</td>\n",
       "      <td>5 серия</td>\n",
       "      <td>E класс</td>\n",
       "      <td>2018</td>\n",
       "      <td>Импорт</td>\n",
       "      <td>Германия</td>\n",
       "      <td>Бензин</td>\n",
       "      <td>2.0</td>\n",
       "      <td>AT</td>\n",
       "      <td>RWD</td>\n",
       "      <td>г.Алматы</td>\n",
       "      <td>Алматы</td>\n",
       "      <td>Автоцентр-Бавария Алматы</td>\n",
       "      <td>NaN</td>\n",
       "      <td>NaN</td>\n",
       "      <td>1</td>\n",
       "      <td>45119</td>\n",
       "      <td>45119</td>\n",
       "    </tr>\n",
       "    <tr>\n",
       "      <th>4</th>\n",
       "      <td>4</td>\n",
       "      <td>2019-01-01</td>\n",
       "      <td>Автоцентр-Бавария</td>\n",
       "      <td>Легковые автомобили</td>\n",
       "      <td>BMW</td>\n",
       "      <td>5 серия</td>\n",
       "      <td>E класс</td>\n",
       "      <td>2018</td>\n",
       "      <td>Импорт</td>\n",
       "      <td>Германия</td>\n",
       "      <td>Бензин</td>\n",
       "      <td>2.0</td>\n",
       "      <td>AT</td>\n",
       "      <td>RWD</td>\n",
       "      <td>г.Алматы</td>\n",
       "      <td>Алматы</td>\n",
       "      <td>Автоцентр-Бавария Алматы</td>\n",
       "      <td>NaN</td>\n",
       "      <td>NaN</td>\n",
       "      <td>1</td>\n",
       "      <td>37560</td>\n",
       "      <td>37560</td>\n",
       "    </tr>\n",
       "    <tr>\n",
       "      <th>5</th>\n",
       "      <td>5</td>\n",
       "      <td>2019-01-01</td>\n",
       "      <td>Автоцентр-Бавария</td>\n",
       "      <td>Легковые автомобили</td>\n",
       "      <td>BMW</td>\n",
       "      <td>6 серия</td>\n",
       "      <td>Спортивные автомобили</td>\n",
       "      <td>2018</td>\n",
       "      <td>Импорт</td>\n",
       "      <td>Германия</td>\n",
       "      <td>Бензин</td>\n",
       "      <td>2.0</td>\n",
       "      <td>AT</td>\n",
       "      <td>RWD</td>\n",
       "      <td>г.Алматы</td>\n",
       "      <td>Алматы</td>\n",
       "      <td>Автоцентр-Бавария Алматы</td>\n",
       "      <td>NaN</td>\n",
       "      <td>NaN</td>\n",
       "      <td>1</td>\n",
       "      <td>53491</td>\n",
       "      <td>53491</td>\n",
       "    </tr>\n",
       "    <tr>\n",
       "      <th>6</th>\n",
       "      <td>6</td>\n",
       "      <td>2019-01-01</td>\n",
       "      <td>Автоцентр-Бавария</td>\n",
       "      <td>Внедорожники</td>\n",
       "      <td>BMW</td>\n",
       "      <td>X1</td>\n",
       "      <td>Компактные SUV</td>\n",
       "      <td>2018</td>\n",
       "      <td>Импорт</td>\n",
       "      <td>Германия</td>\n",
       "      <td>Бензин</td>\n",
       "      <td>2.0</td>\n",
       "      <td>AT</td>\n",
       "      <td>4WD</td>\n",
       "      <td>г.Нур-Султан</td>\n",
       "      <td>Нур-Султан</td>\n",
       "      <td>Автоцентр-Бавария Астана</td>\n",
       "      <td>NaN</td>\n",
       "      <td>NaN</td>\n",
       "      <td>2</td>\n",
       "      <td>36397</td>\n",
       "      <td>72795</td>\n",
       "    </tr>\n",
       "  </tbody>\n",
       "</table>\n",
       "</div>"
      ],
      "text/plain": [
       "   id purchase_date            company             car_type brand    model  \\\n",
       "2   2    2019-01-01  Автоцентр-Бавария  Легковые автомобили   BMW  5 серия   \n",
       "3   3    2019-01-01  Автоцентр-Бавария  Легковые автомобили   BMW  5 серия   \n",
       "4   4    2019-01-01  Автоцентр-Бавария  Легковые автомобили   BMW  5 серия   \n",
       "5   5    2019-01-01  Автоцентр-Бавария  Легковые автомобили   BMW  6 серия   \n",
       "6   6    2019-01-01  Автоцентр-Бавария         Внедорожники   BMW       X1   \n",
       "\n",
       "      car_classification  manufacturing_year assembly_type  \\\n",
       "2                E класс                2018        Импорт   \n",
       "3                E класс                2018        Импорт   \n",
       "4                E класс                2018        Импорт   \n",
       "5  Спортивные автомобили                2018        Импорт   \n",
       "6         Компактные SUV                2018        Импорт   \n",
       "\n",
       "  manufacturing_country fuel_type  engine_displacement_l transmission_type  \\\n",
       "2              Германия    Бензин                    2.0                AT   \n",
       "3              Германия    Бензин                    2.0                AT   \n",
       "4              Германия    Бензин                    2.0                AT   \n",
       "5              Германия    Бензин                    2.0                AT   \n",
       "6              Германия    Бензин                    2.0                AT   \n",
       "\n",
       "  drive_type        region        city        dealer_center_name  \\\n",
       "2        RWD  г.Нур-Султан  Нур-Султан  Автоцентр-Бавария Астана   \n",
       "3        RWD      г.Алматы      Алматы  Автоцентр-Бавария Алматы   \n",
       "4        RWD      г.Алматы      Алматы  Автоцентр-Бавария Алматы   \n",
       "5        RWD      г.Алматы      Алматы  Автоцентр-Бавария Алматы   \n",
       "6        4WD  г.Нур-Султан  Нур-Султан  Автоцентр-Бавария Астана   \n",
       "\n",
       "  customer_type payment_form  quantity  price_usd  sale_usd  \n",
       "2           NaN          NaN         1      45119     45119  \n",
       "3           NaN          NaN         1      45119     45119  \n",
       "4           NaN          NaN         1      37560     37560  \n",
       "5           NaN          NaN         1      53491     53491  \n",
       "6           NaN          NaN         2      36397     72795  "
      ]
     },
     "execution_count": 186,
     "metadata": {},
     "output_type": "execute_result"
    }
   ],
   "source": [
    "df[df['customer_type'].isna()].head()"
   ]
  },
  {
   "cell_type": "code",
   "execution_count": 187,
   "id": "675d9aee-1532-426f-bfd1-b2c3b3d34f75",
   "metadata": {},
   "outputs": [
    {
     "data": {
      "text/plain": [
       "Физическое лицо     24733\n",
       "Юридическое лицо     8186\n",
       "NaN                  7047\n",
       "Name: customer_type, dtype: int64"
      ]
     },
     "execution_count": 187,
     "metadata": {},
     "output_type": "execute_result"
    }
   ],
   "source": [
    "df['customer_type'].value_counts(dropna=False).head(10)"
   ]
  },
  {
   "cell_type": "markdown",
   "id": "e75f5cc9-bc1c-452c-b5fc-2077c3a22853",
   "metadata": {},
   "source": [
    "Здесь пропуски — третье самое встречаемое значение.\\\n",
    "Можно предположить, что тип покупателя зависит от \"размера заказа\".\\\n",
    "Рядовой человек приходит в автосалон, чтобы купить себе один автомобиль.\\\n",
    "Но если в \"заказе\" у нас больше одного-двух автомобилей, то несложно догадаться, что они покупаются для коммерческих целей.\\\n",
    "Следовательно, это юридическое лицо."
   ]
  },
  {
   "cell_type": "markdown",
   "id": "2dafe64c-a35a-4aed-8436-80750ae3c9aa",
   "metadata": {},
   "source": [
    "<br>"
   ]
  },
  {
   "cell_type": "markdown",
   "id": "444dc0dd-f902-457a-9131-2c5282fb6f0d",
   "metadata": {},
   "source": [
    "Применим функцию."
   ]
  },
  {
   "cell_type": "code",
   "execution_count": 188,
   "id": "7e0e1568-2c78-4d61-90b1-de0f9330d9fe",
   "metadata": {
    "tags": []
   },
   "outputs": [],
   "source": [
    "# ф-ция пропусков customer_type\n",
    "def customer(df, column):\n",
    "    # копия главного датафрейма\n",
    "    nan_df = df.copy()\n",
    "    \n",
    "    # приведение к строковому типу данных\n",
    "    nan_df[column] = nan_df[column].astype('str')\n",
    "\n",
    "    # сводная таблица\n",
    "    nan_df = nan_df.pivot_table(index='quantity', columns=column, aggfunc='size', fill_value=0).reset_index()\n",
    "\n",
    "    # переименование колонки\n",
    "    try:\n",
    "        nan_df = nan_df.rename(columns={'nan': 'null_cnt'})\n",
    "    except:\n",
    "        pass\n",
    "    \n",
    "    try:\n",
    "        nan_df = nan_df.rename(columns={'<NA>': 'null_cnt'})\n",
    "    except:\n",
    "        pass\n",
    "    \n",
    "    # выбор строк, где есть пропуски\n",
    "    nan_df = nan_df[nan_df['null_cnt'] != 0]\n",
    "    \n",
    "    # переместить 'null_cnt' в конец сводной таблицы\n",
    "    nan_df = nan_df[[col for col in nan_df.columns if col != 'null_cnt'] + ['null_cnt']]\n",
    "\n",
    "    # переименование индекса\n",
    "    nan_df = nan_df.rename_axis(columns='index')\n",
    "\n",
    "    # преобразование числовых колонок в числовой тип\n",
    "    nan_df.iloc[:, 1:] = nan_df.iloc[:, 1:].astype('Int64')\n",
    "\n",
    "    # количество наблюдений по модели\n",
    "    nan_df['obs_cnt'] = nan_df.iloc[:, 1:].sum(axis=1).astype('Int64')\n",
    "\n",
    "    # процент пропусков по модели\n",
    "    nan_df['null_perc'] = nan_df['null_cnt'] / nan_df['obs_cnt'] * 100\n",
    "\n",
    "    # преобразование колонки с процентом\n",
    "    nan_df['null_perc'] = round(nan_df['null_perc'].astype(float), 1)\n",
    "\n",
    "    # какой процент занимает модальное значение от всех непропущенных значений\n",
    "    nan_df['mode_perc'] = nan_df.apply(lambda row: round(row.iloc[1:-3].max() / (row['obs_cnt'] - row['null_cnt']) * 100, 1) if (row['obs_cnt'] - row['null_cnt']) != 0 and row.iloc[1:-3].max() != 0 else 0, axis=1)\n",
    "    \n",
    "    # сверка пропусков и наблюдений сводной таблицы с данными датафрейма\n",
    "    result_str = ''\n",
    "    if nan_df['null_cnt'].sum() == df[column].isna().sum():\n",
    "        result_str += f'Количество пропущенных значений в сводной таблице и основном датафрейме сходится.\\n'\n",
    "        result_str += f'В сводной: {nan_df[\"null_cnt\"].sum()} пропусков. В датафрейме: {df[column].isna().sum()} пропусков.\\n\\n'\n",
    "    else:\n",
    "        result_str += 'Количество пропущенных значений в сводной таблице и основном датафрейме не сходится.\\n'\n",
    "        result_str += f'В сводной: {nan_df[\"null_cnt\"].sum()} пропусков. В датафрейме: {df[column].isna().sum()} пропусков.\\n\\n'\n",
    "\n",
    "    if nan_df['obs_cnt'].sum() == len(df[df['model'].isin(df[df[column].isna()]['model'].unique())]):\n",
    "        result_str += 'Количество наблюдений в сводной таблице и основном датафрейме сходится.\\n'\n",
    "        result_str += f'В сводной: {nan_df[\"obs_cnt\"].sum()} наблюдений. В датафрейме: {len(df[df[\"quantity\"].isin(df[df[column].isna()][\"quantity\"].unique())])} наблюдений.\\n\\n'\n",
    "    else: \n",
    "        result_str += 'Количество наблюдений в сводной таблице и основном датафрейме не сходится.\\n'\n",
    "        result_str += f'В сводной: {nan_df[\"obs_cnt\"].sum()} наблюдений. В датафрейме: {len(df[df[\"quantity\"].isin(df[df[column].isna()][\"quantity\"].unique())])} наблюдений.\\n\\n'\n",
    "    \n",
    "    return nan_df, result_str"
   ]
  },
  {
   "cell_type": "code",
   "execution_count": 189,
   "id": "3d81e96a-33bf-4e5f-990a-6750ed227ee7",
   "metadata": {
    "tags": []
   },
   "outputs": [],
   "source": [
    "pt_customer, str_customer = customer(df, 'customer_type')"
   ]
  },
  {
   "cell_type": "code",
   "execution_count": 190,
   "id": "8e141010-43df-48de-9668-ec92aad7daa1",
   "metadata": {},
   "outputs": [
    {
     "name": "stdout",
     "output_type": "stream",
     "text": [
      "Количество пропущенных значений в сводной таблице и основном датафрейме не сходится.\n",
      "В сводной: 7041 пропусков. В датафрейме: 7047 пропусков.\n",
      "\n",
      "Количество наблюдений в сводной таблице и основном датафрейме не сходится.\n",
      "В сводной: 39959 наблюдений. В датафрейме: 39965 наблюдений.\n",
      "\n",
      "\n"
     ]
    },
    {
     "data": {
      "text/html": [
       "<div>\n",
       "<style scoped>\n",
       "    .dataframe tbody tr th:only-of-type {\n",
       "        vertical-align: middle;\n",
       "    }\n",
       "\n",
       "    .dataframe tbody tr th {\n",
       "        vertical-align: top;\n",
       "    }\n",
       "\n",
       "    .dataframe thead th {\n",
       "        text-align: right;\n",
       "    }\n",
       "</style>\n",
       "<table border=\"1\" class=\"dataframe\">\n",
       "  <thead>\n",
       "    <tr style=\"text-align: right;\">\n",
       "      <th>index</th>\n",
       "      <th>quantity</th>\n",
       "      <th>Физическое лицо</th>\n",
       "      <th>Юридическое лицо</th>\n",
       "      <th>null_cnt</th>\n",
       "      <th>obs_cnt</th>\n",
       "      <th>null_perc</th>\n",
       "      <th>mode_perc</th>\n",
       "    </tr>\n",
       "  </thead>\n",
       "  <tbody>\n",
       "    <tr>\n",
       "      <th>0</th>\n",
       "      <td>1</td>\n",
       "      <td>24729</td>\n",
       "      <td>8148</td>\n",
       "      <td>4327</td>\n",
       "      <td>37204</td>\n",
       "      <td>11.6</td>\n",
       "      <td>75.2</td>\n",
       "    </tr>\n",
       "    <tr>\n",
       "      <th>1</th>\n",
       "      <td>2</td>\n",
       "      <td>3</td>\n",
       "      <td>11</td>\n",
       "      <td>1003</td>\n",
       "      <td>1017</td>\n",
       "      <td>98.6</td>\n",
       "      <td>78.6</td>\n",
       "    </tr>\n",
       "    <tr>\n",
       "      <th>2</th>\n",
       "      <td>3</td>\n",
       "      <td>0</td>\n",
       "      <td>9</td>\n",
       "      <td>443</td>\n",
       "      <td>452</td>\n",
       "      <td>98.0</td>\n",
       "      <td>100.0</td>\n",
       "    </tr>\n",
       "    <tr>\n",
       "      <th>3</th>\n",
       "      <td>4</td>\n",
       "      <td>0</td>\n",
       "      <td>0</td>\n",
       "      <td>282</td>\n",
       "      <td>282</td>\n",
       "      <td>100.0</td>\n",
       "      <td>0.0</td>\n",
       "    </tr>\n",
       "    <tr>\n",
       "      <th>4</th>\n",
       "      <td>5</td>\n",
       "      <td>0</td>\n",
       "      <td>4</td>\n",
       "      <td>181</td>\n",
       "      <td>185</td>\n",
       "      <td>97.8</td>\n",
       "      <td>100.0</td>\n",
       "    </tr>\n",
       "  </tbody>\n",
       "</table>\n",
       "</div>"
      ],
      "text/plain": [
       "index  quantity  Физическое лицо  Юридическое лицо  null_cnt  obs_cnt  \\\n",
       "0             1            24729              8148      4327    37204   \n",
       "1             2                3                11      1003     1017   \n",
       "2             3                0                 9       443      452   \n",
       "3             4                0                 0       282      282   \n",
       "4             5                0                 4       181      185   \n",
       "\n",
       "index  null_perc  mode_perc  \n",
       "0           11.6       75.2  \n",
       "1           98.6       78.6  \n",
       "2           98.0      100.0  \n",
       "3          100.0        0.0  \n",
       "4           97.8      100.0  "
      ]
     },
     "execution_count": 190,
     "metadata": {},
     "output_type": "execute_result"
    }
   ],
   "source": [
    "# вывод строк с пропусками и наблюдениями\n",
    "print(str_customer)\n",
    "\n",
    "pt_customer.sort_values(by=['quantity'], ascending=[True]).head()\n",
    "\n",
    "# раскомментируйте строчку ниже, чтобы увидеть всю сводную таблицу\n",
    "# pt_customer.sort_values(by=['quantity'], ascending=[True])"
   ]
  },
  {
   "cell_type": "markdown",
   "id": "44901262-e7ff-46f1-8e1f-3d42a4f6893f",
   "metadata": {},
   "source": [
    "Количество наблюдений и пропусков не сходится на $6$, потому что есть пропуски в `quantity`, их всего $6$."
   ]
  },
  {
   "cell_type": "markdown",
   "id": "6eb142bc-3eaa-45b1-9883-e89ecca8eecf",
   "metadata": {},
   "source": [
    "Сделаем просто:\\\n",
    "Если количество автомобилей в заказе больше одного, то это — юридическое лицо.\\\n",
    "Если всего $1$ автомобиль в заказе, значит — физическое лицо."
   ]
  },
  {
   "cell_type": "code",
   "execution_count": 191,
   "id": "1d8ee439-209a-4c13-8d11-c44884ed128e",
   "metadata": {},
   "outputs": [],
   "source": [
    "# одно ТС в заказе\n",
    "df.loc[(df['quantity'] == 1) & df['customer_type'].isna(), 'customer_type'] = 'Физическое лицо'\n",
    "\n",
    "# больше 1 ТС в заказе\n",
    "df.loc[(df['quantity'] > 1) & df['customer_type'].isna(), 'customer_type'] = 'Юридическое лицо'"
   ]
  },
  {
   "cell_type": "markdown",
   "id": "9fa2ab28-0ab1-4e5e-8bc1-9acd80c7bd0a",
   "metadata": {},
   "source": [
    "<br>"
   ]
  },
  {
   "cell_type": "markdown",
   "id": "c30cf061-fa19-44fb-9597-7130399f6783",
   "metadata": {},
   "source": [
    "Проверим результат."
   ]
  },
  {
   "cell_type": "code",
   "execution_count": 192,
   "id": "c2ca86ae-cd6b-49c2-b382-f03197c591a8",
   "metadata": {},
   "outputs": [
    {
     "data": {
      "text/plain": [
       "6"
      ]
     },
     "execution_count": 192,
     "metadata": {},
     "output_type": "execute_result"
    }
   ],
   "source": [
    "df['customer_type'].isna().sum()"
   ]
  },
  {
   "cell_type": "markdown",
   "id": "1ee9a0bd-b51c-467e-ac3d-2b504440bb93",
   "metadata": {},
   "source": [
    "Всего $6$ пропусков осталось. Это как раз там, где есть пропуски в `quantity`.\n",
    "\n",
    "Сделаем срез по этим пропускам."
   ]
  },
  {
   "cell_type": "code",
   "execution_count": 193,
   "id": "d4da638f-13b2-4233-92fe-84a330c236b4",
   "metadata": {},
   "outputs": [
    {
     "data": {
      "text/html": [
       "<div>\n",
       "<style scoped>\n",
       "    .dataframe tbody tr th:only-of-type {\n",
       "        vertical-align: middle;\n",
       "    }\n",
       "\n",
       "    .dataframe tbody tr th {\n",
       "        vertical-align: top;\n",
       "    }\n",
       "\n",
       "    .dataframe thead th {\n",
       "        text-align: right;\n",
       "    }\n",
       "</style>\n",
       "<table border=\"1\" class=\"dataframe\">\n",
       "  <thead>\n",
       "    <tr style=\"text-align: right;\">\n",
       "      <th></th>\n",
       "      <th>id</th>\n",
       "      <th>purchase_date</th>\n",
       "      <th>company</th>\n",
       "      <th>car_type</th>\n",
       "      <th>brand</th>\n",
       "      <th>model</th>\n",
       "      <th>car_classification</th>\n",
       "      <th>manufacturing_year</th>\n",
       "      <th>assembly_type</th>\n",
       "      <th>manufacturing_country</th>\n",
       "      <th>fuel_type</th>\n",
       "      <th>engine_displacement_l</th>\n",
       "      <th>transmission_type</th>\n",
       "      <th>drive_type</th>\n",
       "      <th>region</th>\n",
       "      <th>city</th>\n",
       "      <th>dealer_center_name</th>\n",
       "      <th>customer_type</th>\n",
       "      <th>payment_form</th>\n",
       "      <th>quantity</th>\n",
       "      <th>price_usd</th>\n",
       "      <th>sale_usd</th>\n",
       "    </tr>\n",
       "  </thead>\n",
       "  <tbody>\n",
       "    <tr>\n",
       "      <th>31874</th>\n",
       "      <td>31874</td>\n",
       "      <td>2019-08-01</td>\n",
       "      <td>БИПЭК АВТО</td>\n",
       "      <td>Внедорожники</td>\n",
       "      <td>Kia</td>\n",
       "      <td>Sportage</td>\n",
       "      <td>Компактные SUV</td>\n",
       "      <td>2019</td>\n",
       "      <td>Локальное производство</td>\n",
       "      <td>Казахстан</td>\n",
       "      <td>Бензин</td>\n",
       "      <td>2.0</td>\n",
       "      <td>AT</td>\n",
       "      <td>4WD</td>\n",
       "      <td>Карагандинская область</td>\n",
       "      <td>Караганда</td>\n",
       "      <td>БИПЭК АВТО Караганда</td>\n",
       "      <td>NaN</td>\n",
       "      <td>NaN</td>\n",
       "      <td>&lt;NA&gt;</td>\n",
       "      <td>20700</td>\n",
       "      <td>20700</td>\n",
       "    </tr>\n",
       "    <tr>\n",
       "      <th>31900</th>\n",
       "      <td>31900</td>\n",
       "      <td>2019-08-01</td>\n",
       "      <td>БИПЭК АВТО</td>\n",
       "      <td>Легковые автомобили</td>\n",
       "      <td>Lada</td>\n",
       "      <td>Granta</td>\n",
       "      <td>B класс</td>\n",
       "      <td>2019</td>\n",
       "      <td>Локальное производство</td>\n",
       "      <td>Казахстан</td>\n",
       "      <td>Бензин</td>\n",
       "      <td>1.6</td>\n",
       "      <td>AMT</td>\n",
       "      <td>FWD</td>\n",
       "      <td>г.Алматы</td>\n",
       "      <td>Алматы</td>\n",
       "      <td>БИПЭК АВТО Алматы</td>\n",
       "      <td>NaN</td>\n",
       "      <td>NaN</td>\n",
       "      <td>&lt;NA&gt;</td>\n",
       "      <td>7100</td>\n",
       "      <td>7100</td>\n",
       "    </tr>\n",
       "    <tr>\n",
       "      <th>32068</th>\n",
       "      <td>32068</td>\n",
       "      <td>2019-08-01</td>\n",
       "      <td>БИПЭК АВТО</td>\n",
       "      <td>Легковые автомобили</td>\n",
       "      <td>Lada</td>\n",
       "      <td>XRAY</td>\n",
       "      <td>B класс</td>\n",
       "      <td>2018</td>\n",
       "      <td>Локальное производство</td>\n",
       "      <td>Казахстан</td>\n",
       "      <td>Бензин</td>\n",
       "      <td>1.6</td>\n",
       "      <td>MT</td>\n",
       "      <td>FWD</td>\n",
       "      <td>Павлодарская область</td>\n",
       "      <td>Экибастуз</td>\n",
       "      <td>БИПЭК АВТО Экибастуз</td>\n",
       "      <td>NaN</td>\n",
       "      <td>NaN</td>\n",
       "      <td>&lt;NA&gt;</td>\n",
       "      <td>13800</td>\n",
       "      <td>13800</td>\n",
       "    </tr>\n",
       "    <tr>\n",
       "      <th>33150</th>\n",
       "      <td>33150</td>\n",
       "      <td>2019-08-01</td>\n",
       "      <td>БИПЭК АВТО</td>\n",
       "      <td>Внедорожники</td>\n",
       "      <td>Skoda</td>\n",
       "      <td>Kodiaq</td>\n",
       "      <td>Полноразмерные SUV</td>\n",
       "      <td>2019</td>\n",
       "      <td>Локальное производство</td>\n",
       "      <td>Казахстан</td>\n",
       "      <td>Бензин</td>\n",
       "      <td>2.0</td>\n",
       "      <td>AMT</td>\n",
       "      <td>4WD</td>\n",
       "      <td>г.Нур-Султан</td>\n",
       "      <td>Нур-Султан</td>\n",
       "      <td>БИПЭК АВТО Астана</td>\n",
       "      <td>NaN</td>\n",
       "      <td>NaN</td>\n",
       "      <td>&lt;NA&gt;</td>\n",
       "      <td>40000</td>\n",
       "      <td>40000</td>\n",
       "    </tr>\n",
       "    <tr>\n",
       "      <th>34568</th>\n",
       "      <td>34568</td>\n",
       "      <td>2019-08-01</td>\n",
       "      <td>БИПЭК АВТО</td>\n",
       "      <td>Коммерческие автомобили</td>\n",
       "      <td>UAZ</td>\n",
       "      <td>3909</td>\n",
       "      <td>Развозные автомобили</td>\n",
       "      <td>2018</td>\n",
       "      <td>Локальное производство</td>\n",
       "      <td>Казахстан</td>\n",
       "      <td>Бензин</td>\n",
       "      <td>2.7</td>\n",
       "      <td>MT</td>\n",
       "      <td>4WD</td>\n",
       "      <td>г.Алматы</td>\n",
       "      <td>Алматы</td>\n",
       "      <td>БИПЭК АВТО Алматы</td>\n",
       "      <td>NaN</td>\n",
       "      <td>NaN</td>\n",
       "      <td>&lt;NA&gt;</td>\n",
       "      <td>11200</td>\n",
       "      <td>11200</td>\n",
       "    </tr>\n",
       "    <tr>\n",
       "      <th>34593</th>\n",
       "      <td>34593</td>\n",
       "      <td>2019-08-01</td>\n",
       "      <td>БИПЭК АВТО</td>\n",
       "      <td>Внедорожники</td>\n",
       "      <td>UAZ</td>\n",
       "      <td>Patriot</td>\n",
       "      <td>Среднеразмерные SUV</td>\n",
       "      <td>2018</td>\n",
       "      <td>Локальное производство</td>\n",
       "      <td>Казахстан</td>\n",
       "      <td>Бензин</td>\n",
       "      <td>2.7</td>\n",
       "      <td>MT</td>\n",
       "      <td>4WD</td>\n",
       "      <td>Восточно-Казахстанская область</td>\n",
       "      <td>Семей</td>\n",
       "      <td>БИПЭК АВТО Семей</td>\n",
       "      <td>NaN</td>\n",
       "      <td>NaN</td>\n",
       "      <td>&lt;NA&gt;</td>\n",
       "      <td>13800</td>\n",
       "      <td>13800</td>\n",
       "    </tr>\n",
       "  </tbody>\n",
       "</table>\n",
       "</div>"
      ],
      "text/plain": [
       "          id purchase_date     company                 car_type  brand  \\\n",
       "31874  31874    2019-08-01  БИПЭК АВТО             Внедорожники    Kia   \n",
       "31900  31900    2019-08-01  БИПЭК АВТО      Легковые автомобили   Lada   \n",
       "32068  32068    2019-08-01  БИПЭК АВТО      Легковые автомобили   Lada   \n",
       "33150  33150    2019-08-01  БИПЭК АВТО             Внедорожники  Skoda   \n",
       "34568  34568    2019-08-01  БИПЭК АВТО  Коммерческие автомобили    UAZ   \n",
       "34593  34593    2019-08-01  БИПЭК АВТО             Внедорожники    UAZ   \n",
       "\n",
       "          model    car_classification  manufacturing_year  \\\n",
       "31874  Sportage        Компактные SUV                2019   \n",
       "31900    Granta               B класс                2019   \n",
       "32068      XRAY               B класс                2018   \n",
       "33150    Kodiaq    Полноразмерные SUV                2019   \n",
       "34568      3909  Развозные автомобили                2018   \n",
       "34593   Patriot   Среднеразмерные SUV                2018   \n",
       "\n",
       "                assembly_type manufacturing_country fuel_type  \\\n",
       "31874  Локальное производство             Казахстан    Бензин   \n",
       "31900  Локальное производство             Казахстан    Бензин   \n",
       "32068  Локальное производство             Казахстан    Бензин   \n",
       "33150  Локальное производство             Казахстан    Бензин   \n",
       "34568  Локальное производство             Казахстан    Бензин   \n",
       "34593  Локальное производство             Казахстан    Бензин   \n",
       "\n",
       "       engine_displacement_l transmission_type drive_type  \\\n",
       "31874                    2.0                AT        4WD   \n",
       "31900                    1.6               AMT        FWD   \n",
       "32068                    1.6                MT        FWD   \n",
       "33150                    2.0               AMT        4WD   \n",
       "34568                    2.7                MT        4WD   \n",
       "34593                    2.7                MT        4WD   \n",
       "\n",
       "                               region        city    dealer_center_name  \\\n",
       "31874          Карагандинская область   Караганда  БИПЭК АВТО Караганда   \n",
       "31900                        г.Алматы      Алматы     БИПЭК АВТО Алматы   \n",
       "32068            Павлодарская область   Экибастуз  БИПЭК АВТО Экибастуз   \n",
       "33150                    г.Нур-Султан  Нур-Султан     БИПЭК АВТО Астана   \n",
       "34568                        г.Алматы      Алматы     БИПЭК АВТО Алматы   \n",
       "34593  Восточно-Казахстанская область       Семей      БИПЭК АВТО Семей   \n",
       "\n",
       "      customer_type payment_form  quantity  price_usd  sale_usd  \n",
       "31874           NaN          NaN      <NA>      20700     20700  \n",
       "31900           NaN          NaN      <NA>       7100      7100  \n",
       "32068           NaN          NaN      <NA>      13800     13800  \n",
       "33150           NaN          NaN      <NA>      40000     40000  \n",
       "34568           NaN          NaN      <NA>      11200     11200  \n",
       "34593           NaN          NaN      <NA>      13800     13800  "
      ]
     },
     "execution_count": 193,
     "metadata": {},
     "output_type": "execute_result"
    }
   ],
   "source": [
    "df[df['quantity'].isna()]"
   ]
  },
  {
   "cell_type": "markdown",
   "id": "4ff07996-b9ab-4009-be85-cdbfb409857b",
   "metadata": {},
   "source": [
    "Думаю, здесь можно присвоить `количеству` цифру $1$, ведь факт продажи был.\\\n",
    "А `тип покупателя` в таком случае будет Физическое лицо."
   ]
  },
  {
   "cell_type": "code",
   "execution_count": 194,
   "id": "402e9cad-ded2-440c-840f-3fb4072d117b",
   "metadata": {},
   "outputs": [],
   "source": [
    "# \"проблемные\" индексы\n",
    "indx = df.loc[df['quantity'].isna()].index"
   ]
  },
  {
   "cell_type": "code",
   "execution_count": 195,
   "id": "1ad559c6-0999-4fe2-9d04-6e0fe24767b7",
   "metadata": {},
   "outputs": [],
   "source": [
    "# заменим пропуски\n",
    "df.loc[df['quantity'].isna(), 'customer_type'] = df.loc[df['quantity'].isna(), 'customer_type'] = 'Физическое лицо'\n",
    "df.loc[df['quantity'].isna(), 'quantity'] = df.loc[df['quantity'].isna(), 'quantity'] = 1"
   ]
  },
  {
   "cell_type": "markdown",
   "id": "0b7fc7b2-8e66-44ff-9cf5-c3a07a9153b6",
   "metadata": {},
   "source": [
    "Проверим, заменились ли пропуски."
   ]
  },
  {
   "cell_type": "code",
   "execution_count": 196,
   "id": "405a75c2-8a1a-415d-9a0c-f92efdac5678",
   "metadata": {},
   "outputs": [
    {
     "data": {
      "text/html": [
       "<div>\n",
       "<style scoped>\n",
       "    .dataframe tbody tr th:only-of-type {\n",
       "        vertical-align: middle;\n",
       "    }\n",
       "\n",
       "    .dataframe tbody tr th {\n",
       "        vertical-align: top;\n",
       "    }\n",
       "\n",
       "    .dataframe thead th {\n",
       "        text-align: right;\n",
       "    }\n",
       "</style>\n",
       "<table border=\"1\" class=\"dataframe\">\n",
       "  <thead>\n",
       "    <tr style=\"text-align: right;\">\n",
       "      <th></th>\n",
       "      <th>id</th>\n",
       "      <th>purchase_date</th>\n",
       "      <th>company</th>\n",
       "      <th>car_type</th>\n",
       "      <th>brand</th>\n",
       "      <th>model</th>\n",
       "      <th>car_classification</th>\n",
       "      <th>manufacturing_year</th>\n",
       "      <th>assembly_type</th>\n",
       "      <th>manufacturing_country</th>\n",
       "      <th>fuel_type</th>\n",
       "      <th>engine_displacement_l</th>\n",
       "      <th>transmission_type</th>\n",
       "      <th>drive_type</th>\n",
       "      <th>region</th>\n",
       "      <th>city</th>\n",
       "      <th>dealer_center_name</th>\n",
       "      <th>customer_type</th>\n",
       "      <th>payment_form</th>\n",
       "      <th>quantity</th>\n",
       "      <th>price_usd</th>\n",
       "      <th>sale_usd</th>\n",
       "    </tr>\n",
       "  </thead>\n",
       "  <tbody>\n",
       "    <tr>\n",
       "      <th>31874</th>\n",
       "      <td>31874</td>\n",
       "      <td>2019-08-01</td>\n",
       "      <td>БИПЭК АВТО</td>\n",
       "      <td>Внедорожники</td>\n",
       "      <td>Kia</td>\n",
       "      <td>Sportage</td>\n",
       "      <td>Компактные SUV</td>\n",
       "      <td>2019</td>\n",
       "      <td>Локальное производство</td>\n",
       "      <td>Казахстан</td>\n",
       "      <td>Бензин</td>\n",
       "      <td>2.0</td>\n",
       "      <td>AT</td>\n",
       "      <td>4WD</td>\n",
       "      <td>Карагандинская область</td>\n",
       "      <td>Караганда</td>\n",
       "      <td>БИПЭК АВТО Караганда</td>\n",
       "      <td>Физическое лицо</td>\n",
       "      <td>NaN</td>\n",
       "      <td>1</td>\n",
       "      <td>20700</td>\n",
       "      <td>20700</td>\n",
       "    </tr>\n",
       "    <tr>\n",
       "      <th>31900</th>\n",
       "      <td>31900</td>\n",
       "      <td>2019-08-01</td>\n",
       "      <td>БИПЭК АВТО</td>\n",
       "      <td>Легковые автомобили</td>\n",
       "      <td>Lada</td>\n",
       "      <td>Granta</td>\n",
       "      <td>B класс</td>\n",
       "      <td>2019</td>\n",
       "      <td>Локальное производство</td>\n",
       "      <td>Казахстан</td>\n",
       "      <td>Бензин</td>\n",
       "      <td>1.6</td>\n",
       "      <td>AMT</td>\n",
       "      <td>FWD</td>\n",
       "      <td>г.Алматы</td>\n",
       "      <td>Алматы</td>\n",
       "      <td>БИПЭК АВТО Алматы</td>\n",
       "      <td>Физическое лицо</td>\n",
       "      <td>NaN</td>\n",
       "      <td>1</td>\n",
       "      <td>7100</td>\n",
       "      <td>7100</td>\n",
       "    </tr>\n",
       "    <tr>\n",
       "      <th>32068</th>\n",
       "      <td>32068</td>\n",
       "      <td>2019-08-01</td>\n",
       "      <td>БИПЭК АВТО</td>\n",
       "      <td>Легковые автомобили</td>\n",
       "      <td>Lada</td>\n",
       "      <td>XRAY</td>\n",
       "      <td>B класс</td>\n",
       "      <td>2018</td>\n",
       "      <td>Локальное производство</td>\n",
       "      <td>Казахстан</td>\n",
       "      <td>Бензин</td>\n",
       "      <td>1.6</td>\n",
       "      <td>MT</td>\n",
       "      <td>FWD</td>\n",
       "      <td>Павлодарская область</td>\n",
       "      <td>Экибастуз</td>\n",
       "      <td>БИПЭК АВТО Экибастуз</td>\n",
       "      <td>Физическое лицо</td>\n",
       "      <td>NaN</td>\n",
       "      <td>1</td>\n",
       "      <td>13800</td>\n",
       "      <td>13800</td>\n",
       "    </tr>\n",
       "    <tr>\n",
       "      <th>33150</th>\n",
       "      <td>33150</td>\n",
       "      <td>2019-08-01</td>\n",
       "      <td>БИПЭК АВТО</td>\n",
       "      <td>Внедорожники</td>\n",
       "      <td>Skoda</td>\n",
       "      <td>Kodiaq</td>\n",
       "      <td>Полноразмерные SUV</td>\n",
       "      <td>2019</td>\n",
       "      <td>Локальное производство</td>\n",
       "      <td>Казахстан</td>\n",
       "      <td>Бензин</td>\n",
       "      <td>2.0</td>\n",
       "      <td>AMT</td>\n",
       "      <td>4WD</td>\n",
       "      <td>г.Нур-Султан</td>\n",
       "      <td>Нур-Султан</td>\n",
       "      <td>БИПЭК АВТО Астана</td>\n",
       "      <td>Физическое лицо</td>\n",
       "      <td>NaN</td>\n",
       "      <td>1</td>\n",
       "      <td>40000</td>\n",
       "      <td>40000</td>\n",
       "    </tr>\n",
       "    <tr>\n",
       "      <th>34568</th>\n",
       "      <td>34568</td>\n",
       "      <td>2019-08-01</td>\n",
       "      <td>БИПЭК АВТО</td>\n",
       "      <td>Коммерческие автомобили</td>\n",
       "      <td>UAZ</td>\n",
       "      <td>3909</td>\n",
       "      <td>Развозные автомобили</td>\n",
       "      <td>2018</td>\n",
       "      <td>Локальное производство</td>\n",
       "      <td>Казахстан</td>\n",
       "      <td>Бензин</td>\n",
       "      <td>2.7</td>\n",
       "      <td>MT</td>\n",
       "      <td>4WD</td>\n",
       "      <td>г.Алматы</td>\n",
       "      <td>Алматы</td>\n",
       "      <td>БИПЭК АВТО Алматы</td>\n",
       "      <td>Физическое лицо</td>\n",
       "      <td>NaN</td>\n",
       "      <td>1</td>\n",
       "      <td>11200</td>\n",
       "      <td>11200</td>\n",
       "    </tr>\n",
       "    <tr>\n",
       "      <th>34593</th>\n",
       "      <td>34593</td>\n",
       "      <td>2019-08-01</td>\n",
       "      <td>БИПЭК АВТО</td>\n",
       "      <td>Внедорожники</td>\n",
       "      <td>UAZ</td>\n",
       "      <td>Patriot</td>\n",
       "      <td>Среднеразмерные SUV</td>\n",
       "      <td>2018</td>\n",
       "      <td>Локальное производство</td>\n",
       "      <td>Казахстан</td>\n",
       "      <td>Бензин</td>\n",
       "      <td>2.7</td>\n",
       "      <td>MT</td>\n",
       "      <td>4WD</td>\n",
       "      <td>Восточно-Казахстанская область</td>\n",
       "      <td>Семей</td>\n",
       "      <td>БИПЭК АВТО Семей</td>\n",
       "      <td>Физическое лицо</td>\n",
       "      <td>NaN</td>\n",
       "      <td>1</td>\n",
       "      <td>13800</td>\n",
       "      <td>13800</td>\n",
       "    </tr>\n",
       "  </tbody>\n",
       "</table>\n",
       "</div>"
      ],
      "text/plain": [
       "          id purchase_date     company                 car_type  brand  \\\n",
       "31874  31874    2019-08-01  БИПЭК АВТО             Внедорожники    Kia   \n",
       "31900  31900    2019-08-01  БИПЭК АВТО      Легковые автомобили   Lada   \n",
       "32068  32068    2019-08-01  БИПЭК АВТО      Легковые автомобили   Lada   \n",
       "33150  33150    2019-08-01  БИПЭК АВТО             Внедорожники  Skoda   \n",
       "34568  34568    2019-08-01  БИПЭК АВТО  Коммерческие автомобили    UAZ   \n",
       "34593  34593    2019-08-01  БИПЭК АВТО             Внедорожники    UAZ   \n",
       "\n",
       "          model    car_classification  manufacturing_year  \\\n",
       "31874  Sportage        Компактные SUV                2019   \n",
       "31900    Granta               B класс                2019   \n",
       "32068      XRAY               B класс                2018   \n",
       "33150    Kodiaq    Полноразмерные SUV                2019   \n",
       "34568      3909  Развозные автомобили                2018   \n",
       "34593   Patriot   Среднеразмерные SUV                2018   \n",
       "\n",
       "                assembly_type manufacturing_country fuel_type  \\\n",
       "31874  Локальное производство             Казахстан    Бензин   \n",
       "31900  Локальное производство             Казахстан    Бензин   \n",
       "32068  Локальное производство             Казахстан    Бензин   \n",
       "33150  Локальное производство             Казахстан    Бензин   \n",
       "34568  Локальное производство             Казахстан    Бензин   \n",
       "34593  Локальное производство             Казахстан    Бензин   \n",
       "\n",
       "       engine_displacement_l transmission_type drive_type  \\\n",
       "31874                    2.0                AT        4WD   \n",
       "31900                    1.6               AMT        FWD   \n",
       "32068                    1.6                MT        FWD   \n",
       "33150                    2.0               AMT        4WD   \n",
       "34568                    2.7                MT        4WD   \n",
       "34593                    2.7                MT        4WD   \n",
       "\n",
       "                               region        city    dealer_center_name  \\\n",
       "31874          Карагандинская область   Караганда  БИПЭК АВТО Караганда   \n",
       "31900                        г.Алматы      Алматы     БИПЭК АВТО Алматы   \n",
       "32068            Павлодарская область   Экибастуз  БИПЭК АВТО Экибастуз   \n",
       "33150                    г.Нур-Султан  Нур-Султан     БИПЭК АВТО Астана   \n",
       "34568                        г.Алматы      Алматы     БИПЭК АВТО Алматы   \n",
       "34593  Восточно-Казахстанская область       Семей      БИПЭК АВТО Семей   \n",
       "\n",
       "         customer_type payment_form  quantity  price_usd  sale_usd  \n",
       "31874  Физическое лицо          NaN         1      20700     20700  \n",
       "31900  Физическое лицо          NaN         1       7100      7100  \n",
       "32068  Физическое лицо          NaN         1      13800     13800  \n",
       "33150  Физическое лицо          NaN         1      40000     40000  \n",
       "34568  Физическое лицо          NaN         1      11200     11200  \n",
       "34593  Физическое лицо          NaN         1      13800     13800  "
      ]
     },
     "execution_count": 196,
     "metadata": {},
     "output_type": "execute_result"
    }
   ],
   "source": [
    "df.loc[indx]"
   ]
  },
  {
   "cell_type": "markdown",
   "id": "759b0676-c81a-43d0-88da-e6162af91a2e",
   "metadata": {},
   "source": [
    "Да, теперь всё ок."
   ]
  },
  {
   "cell_type": "markdown",
   "id": "f55df03c-84f2-4721-b308-de16032c419a",
   "metadata": {},
   "source": [
    "<br>"
   ]
  },
  {
   "cell_type": "markdown",
   "id": "074c532b-30bd-4aa8-b867-c8fff4e2fe04",
   "metadata": {},
   "source": [
    "##### `Форма оплаты`"
   ]
  },
  {
   "cell_type": "code",
   "execution_count": 197,
   "id": "fc96fa3a-be50-4e24-9bd4-3a3769bc9eaf",
   "metadata": {},
   "outputs": [
    {
     "data": {
      "text/html": [
       "<div>\n",
       "<style scoped>\n",
       "    .dataframe tbody tr th:only-of-type {\n",
       "        vertical-align: middle;\n",
       "    }\n",
       "\n",
       "    .dataframe tbody tr th {\n",
       "        vertical-align: top;\n",
       "    }\n",
       "\n",
       "    .dataframe thead th {\n",
       "        text-align: right;\n",
       "    }\n",
       "</style>\n",
       "<table border=\"1\" class=\"dataframe\">\n",
       "  <thead>\n",
       "    <tr style=\"text-align: right;\">\n",
       "      <th></th>\n",
       "      <th>id</th>\n",
       "      <th>purchase_date</th>\n",
       "      <th>company</th>\n",
       "      <th>car_type</th>\n",
       "      <th>brand</th>\n",
       "      <th>model</th>\n",
       "      <th>car_classification</th>\n",
       "      <th>manufacturing_year</th>\n",
       "      <th>assembly_type</th>\n",
       "      <th>manufacturing_country</th>\n",
       "      <th>fuel_type</th>\n",
       "      <th>engine_displacement_l</th>\n",
       "      <th>transmission_type</th>\n",
       "      <th>drive_type</th>\n",
       "      <th>region</th>\n",
       "      <th>city</th>\n",
       "      <th>dealer_center_name</th>\n",
       "      <th>customer_type</th>\n",
       "      <th>payment_form</th>\n",
       "      <th>quantity</th>\n",
       "      <th>price_usd</th>\n",
       "      <th>sale_usd</th>\n",
       "    </tr>\n",
       "  </thead>\n",
       "  <tbody>\n",
       "    <tr>\n",
       "      <th>0</th>\n",
       "      <td>0</td>\n",
       "      <td>2019-01-01</td>\n",
       "      <td>Mercur Auto</td>\n",
       "      <td>Легковые автомобили</td>\n",
       "      <td>Audi</td>\n",
       "      <td>A8</td>\n",
       "      <td>F класс</td>\n",
       "      <td>2018</td>\n",
       "      <td>Импорт</td>\n",
       "      <td>Германия</td>\n",
       "      <td>Бензин</td>\n",
       "      <td>3.0</td>\n",
       "      <td>AT</td>\n",
       "      <td>4WD</td>\n",
       "      <td>г.Алматы</td>\n",
       "      <td>Алматы</td>\n",
       "      <td>Mercur Auto Алматы</td>\n",
       "      <td>Юридическое лицо</td>\n",
       "      <td>NaN</td>\n",
       "      <td>1</td>\n",
       "      <td>129935</td>\n",
       "      <td>129935</td>\n",
       "    </tr>\n",
       "    <tr>\n",
       "      <th>1</th>\n",
       "      <td>1</td>\n",
       "      <td>2019-01-01</td>\n",
       "      <td>Mercur Auto</td>\n",
       "      <td>Внедорожники</td>\n",
       "      <td>Audi</td>\n",
       "      <td>Q5</td>\n",
       "      <td>Среднеразмерные SUV</td>\n",
       "      <td>2017</td>\n",
       "      <td>Импорт</td>\n",
       "      <td>Германия</td>\n",
       "      <td>Бензин</td>\n",
       "      <td>2.0</td>\n",
       "      <td>AMT</td>\n",
       "      <td>4WD</td>\n",
       "      <td>г.Алматы</td>\n",
       "      <td>Алматы</td>\n",
       "      <td>Mercur Auto Алматы</td>\n",
       "      <td>Физическое лицо</td>\n",
       "      <td>NaN</td>\n",
       "      <td>1</td>\n",
       "      <td>47836</td>\n",
       "      <td>47836</td>\n",
       "    </tr>\n",
       "    <tr>\n",
       "      <th>2</th>\n",
       "      <td>2</td>\n",
       "      <td>2019-01-01</td>\n",
       "      <td>Автоцентр-Бавария</td>\n",
       "      <td>Легковые автомобили</td>\n",
       "      <td>BMW</td>\n",
       "      <td>5 серия</td>\n",
       "      <td>E класс</td>\n",
       "      <td>2018</td>\n",
       "      <td>Импорт</td>\n",
       "      <td>Германия</td>\n",
       "      <td>Бензин</td>\n",
       "      <td>2.0</td>\n",
       "      <td>AT</td>\n",
       "      <td>RWD</td>\n",
       "      <td>г.Нур-Султан</td>\n",
       "      <td>Нур-Султан</td>\n",
       "      <td>Автоцентр-Бавария Астана</td>\n",
       "      <td>Физическое лицо</td>\n",
       "      <td>NaN</td>\n",
       "      <td>1</td>\n",
       "      <td>45119</td>\n",
       "      <td>45119</td>\n",
       "    </tr>\n",
       "    <tr>\n",
       "      <th>3</th>\n",
       "      <td>3</td>\n",
       "      <td>2019-01-01</td>\n",
       "      <td>Автоцентр-Бавария</td>\n",
       "      <td>Легковые автомобили</td>\n",
       "      <td>BMW</td>\n",
       "      <td>5 серия</td>\n",
       "      <td>E класс</td>\n",
       "      <td>2018</td>\n",
       "      <td>Импорт</td>\n",
       "      <td>Германия</td>\n",
       "      <td>Бензин</td>\n",
       "      <td>2.0</td>\n",
       "      <td>AT</td>\n",
       "      <td>RWD</td>\n",
       "      <td>г.Алматы</td>\n",
       "      <td>Алматы</td>\n",
       "      <td>Автоцентр-Бавария Алматы</td>\n",
       "      <td>Физическое лицо</td>\n",
       "      <td>NaN</td>\n",
       "      <td>1</td>\n",
       "      <td>45119</td>\n",
       "      <td>45119</td>\n",
       "    </tr>\n",
       "    <tr>\n",
       "      <th>4</th>\n",
       "      <td>4</td>\n",
       "      <td>2019-01-01</td>\n",
       "      <td>Автоцентр-Бавария</td>\n",
       "      <td>Легковые автомобили</td>\n",
       "      <td>BMW</td>\n",
       "      <td>5 серия</td>\n",
       "      <td>E класс</td>\n",
       "      <td>2018</td>\n",
       "      <td>Импорт</td>\n",
       "      <td>Германия</td>\n",
       "      <td>Бензин</td>\n",
       "      <td>2.0</td>\n",
       "      <td>AT</td>\n",
       "      <td>RWD</td>\n",
       "      <td>г.Алматы</td>\n",
       "      <td>Алматы</td>\n",
       "      <td>Автоцентр-Бавария Алматы</td>\n",
       "      <td>Физическое лицо</td>\n",
       "      <td>NaN</td>\n",
       "      <td>1</td>\n",
       "      <td>37560</td>\n",
       "      <td>37560</td>\n",
       "    </tr>\n",
       "  </tbody>\n",
       "</table>\n",
       "</div>"
      ],
      "text/plain": [
       "   id purchase_date            company             car_type brand    model  \\\n",
       "0   0    2019-01-01        Mercur Auto  Легковые автомобили  Audi       A8   \n",
       "1   1    2019-01-01        Mercur Auto         Внедорожники  Audi       Q5   \n",
       "2   2    2019-01-01  Автоцентр-Бавария  Легковые автомобили   BMW  5 серия   \n",
       "3   3    2019-01-01  Автоцентр-Бавария  Легковые автомобили   BMW  5 серия   \n",
       "4   4    2019-01-01  Автоцентр-Бавария  Легковые автомобили   BMW  5 серия   \n",
       "\n",
       "    car_classification  manufacturing_year assembly_type  \\\n",
       "0              F класс                2018        Импорт   \n",
       "1  Среднеразмерные SUV                2017        Импорт   \n",
       "2              E класс                2018        Импорт   \n",
       "3              E класс                2018        Импорт   \n",
       "4              E класс                2018        Импорт   \n",
       "\n",
       "  manufacturing_country fuel_type  engine_displacement_l transmission_type  \\\n",
       "0              Германия    Бензин                    3.0                AT   \n",
       "1              Германия    Бензин                    2.0               AMT   \n",
       "2              Германия    Бензин                    2.0                AT   \n",
       "3              Германия    Бензин                    2.0                AT   \n",
       "4              Германия    Бензин                    2.0                AT   \n",
       "\n",
       "  drive_type        region        city        dealer_center_name  \\\n",
       "0        4WD      г.Алматы      Алматы        Mercur Auto Алматы   \n",
       "1        4WD      г.Алматы      Алматы        Mercur Auto Алматы   \n",
       "2        RWD  г.Нур-Султан  Нур-Султан  Автоцентр-Бавария Астана   \n",
       "3        RWD      г.Алматы      Алматы  Автоцентр-Бавария Алматы   \n",
       "4        RWD      г.Алматы      Алматы  Автоцентр-Бавария Алматы   \n",
       "\n",
       "      customer_type payment_form  quantity  price_usd  sale_usd  \n",
       "0  Юридическое лицо          NaN         1     129935    129935  \n",
       "1   Физическое лицо          NaN         1      47836     47836  \n",
       "2   Физическое лицо          NaN         1      45119     45119  \n",
       "3   Физическое лицо          NaN         1      45119     45119  \n",
       "4   Физическое лицо          NaN         1      37560     37560  "
      ]
     },
     "execution_count": 197,
     "metadata": {},
     "output_type": "execute_result"
    }
   ],
   "source": [
    "df[df['payment_form'].isna()].head()"
   ]
  },
  {
   "cell_type": "code",
   "execution_count": 198,
   "id": "b3a1277f-f0fb-4c6b-be74-5f2691fc55a7",
   "metadata": {},
   "outputs": [
    {
     "data": {
      "text/plain": [
       "NaN                25936\n",
       "Наличный расчёт     7796\n",
       "В кредит            6234\n",
       "Name: payment_form, dtype: int64"
      ]
     },
     "execution_count": 198,
     "metadata": {},
     "output_type": "execute_result"
    }
   ],
   "source": [
    "df['payment_form'].value_counts(dropna=False).head(10)"
   ]
  },
  {
   "cell_type": "markdown",
   "id": "d0ef50fb-0ba1-458c-821b-a5810e0e70cf",
   "metadata": {},
   "source": [
    "С пропусками в этой колонке ничего не поделаешь."
   ]
  },
  {
   "cell_type": "markdown",
   "id": "f612a0c9-cf66-47bd-a8ee-736c90e6ef1e",
   "metadata": {},
   "source": [
    "<br>"
   ]
  },
  {
   "cell_type": "markdown",
   "id": "743f0745-1b46-45f9-a656-118466b04cb6",
   "metadata": {},
   "source": [
    "**Пропущенные значения отработаны.**"
   ]
  },
  {
   "cell_type": "markdown",
   "id": "f0cdbc0d-5362-44fe-a9f8-6a62fbdec5b2",
   "metadata": {},
   "source": [
    "<br>"
   ]
  },
  {
   "cell_type": "markdown",
   "id": "cce7bd27-2b14-481b-9fde-c0cea885bc85",
   "metadata": {},
   "source": [
    "### Несуразица в значениях"
   ]
  },
  {
   "cell_type": "markdown",
   "id": "f1f6aa74-ff17-48c4-9414-772c9b742e03",
   "metadata": {},
   "source": [
    "Пишу из будущего: в процессе анализа были выявлены ещё аномальные и неправдивые значения. Помогало в этом критическое мышление.\\\n",
    "Некоторые грузовики были ошибочно записаны как малотоннажные, а другие ошибочно как крупнотоннажные.\\\n",
    "Ошибки в объёмах двигателей у некоторых авто.\\\n",
    "Ляпы в категоризации класса авто, к примеру, Nissan Terrano записан как полноразмерный внедорожник, хотя это маленький кроссовер (копия Renault Duster).\\\n",
    "Всё это может неприятно повлиять на статистику.\\\n",
    "Исправим это."
   ]
  },
  {
   "cell_type": "code",
   "execution_count": 199,
   "id": "3509bf27-a5df-4388-94b6-984f3f4ed160",
   "metadata": {},
   "outputs": [],
   "source": [
    "# устраняем сказочный объём двигателя\n",
    "df.loc[(df['model'] == 'R4') & (df['engine_displacement_l'] == 2.5), 'engine_displacement_l'] = 1.5\n",
    "df.loc[(df['model'] == 'Camry') & (df['engine_displacement_l'] == 4.6), 'engine_displacement_l'] = 2.5\n",
    "df.loc[(df['model'] == 'Corolla') & (df['engine_displacement_l'].isin([4.0, 2.7])), ['drive_type', 'engine_displacement_l']] = ['FWD', 1.6]\n",
    "df.loc[(df['model'] == 'Polo') & (df['engine_displacement_l'] == 8.7), 'engine_displacement_l'] = 1.6\n",
    "df.loc[(df['car_classification'] == 'Большие автобусы') & (df['engine_displacement_l'] == 2.5), 'engine_displacement_l'] = np.NaN\n",
    "\n",
    "# ошибки в классификации авто\n",
    "# эти модели имеют малый объём двигателя или у них неверно указан класс авто, поэтому меняем класс\n",
    "df.loc[df['model'].isin(['Master', 'H350', 'Cargo']), 'car_classification'] = 'Малотоннажные грузовики'\n",
    "# эти модели имеют большой объём двигателя для малотоннажных, поэтому меняем класс\n",
    "df.loc[(df['car_classification'] == 'Малотоннажные грузовики') & (df['engine_displacement_l'].isin([5.2, 7.6])), 'car_classification'] = 'Среднетоннажные грузовики'\n",
    "df.loc[(df['car_classification'] == 'Малотоннажные грузовики') & (df['engine_displacement_l'].isin([8.7, 11.8])), 'car_classification'] = 'Крупнотоннажные грузовики'"
   ]
  },
  {
   "cell_type": "markdown",
   "id": "ae160b50-d63e-458b-ada9-20796504d819",
   "metadata": {},
   "source": [
    "<br>"
   ]
  },
  {
   "cell_type": "markdown",
   "id": "c4f43d6b-b23b-414b-8a1f-7cc65243f253",
   "metadata": {},
   "source": [
    "### Несуразица в классификациях"
   ]
  },
  {
   "cell_type": "markdown",
   "id": "5bd36145-702f-4acd-b1c6-c75aa1bc1331",
   "metadata": {},
   "source": [
    "Классификация автомобилей обозначает их физические размеры.\\\n",
    "**Она не отражает их престижность и люксовость.**"
   ]
  },
  {
   "cell_type": "markdown",
   "id": "3bc48bd2-e8dc-46cf-b11b-2b2a1ca9a26e",
   "metadata": {},
   "source": [
    "Переделаем классификацию автомобилей.\n",
    "Для большей точности добавим кроссоверам ещё одну категорию, разделив полноразмерные SUV на $2$ части.\\\n",
    "Таким образом, их классификация будет:\n",
    "* B-SUV — субкомпактные\n",
    "* C-SUV — компактные\n",
    "* D-SUV — среднеразмерные\n",
    "* E-SUV — полноразмерные $1$\n",
    "* F-SUV — полноразмерные $2$\n",
    "\n",
    "Также поводом этому решению послужило и то, что некоторые автомобили, как легковые так и внедорожники, были ошибочно записаны не в их классы, например, Terrano в полноразмерные, а Mercedes C-Class в C класс, а не D. И таких немало. Проверять классы мне помогал сайт `auto.ru` + критическое мышление."
   ]
  },
  {
   "cell_type": "markdown",
   "id": "9405966e-e719-42fc-9707-e9a7de0153d8",
   "metadata": {},
   "source": [
    "Посмотрите, какие классы на данный момент есть в датафрейме."
   ]
  },
  {
   "cell_type": "code",
   "execution_count": 200,
   "id": "c972f550-1b53-428e-a081-cfe0a6a60735",
   "metadata": {},
   "outputs": [
    {
     "data": {
      "text/plain": [
       "array(['A класс', 'B класс', 'C класс', 'D класс', 'E класс', 'F класс',\n",
       "       'Pick-ups', 'Большие автобусы', 'Компактвэн', 'Компактные SUV',\n",
       "       'Крупнотоннажные грузовики', 'Малотоннажные грузовики',\n",
       "       'Микроавтобусы', 'Полноразмерные SUV', 'Полноразмерный Минивэн',\n",
       "       'Развозные автомобили', 'Спортивные автомобили',\n",
       "       'Среднеразмерные SUV', 'Среднетоннажные грузовики',\n",
       "       'Средние автобусы', 'Субкомпактные SUV'], dtype=object)"
      ]
     },
     "execution_count": 200,
     "metadata": {},
     "output_type": "execute_result"
    }
   ],
   "source": [
    "df['car_classification'].sort_values().unique()"
   ]
  },
  {
   "cell_type": "markdown",
   "id": "fec09111-40f6-4b09-817d-fac20f4e7ce9",
   "metadata": {},
   "source": [
    "Вперёд, исправим.\\\n",
    "В комментариях будут указаны классы, которые будем менять."
   ]
  },
  {
   "cell_type": "markdown",
   "id": "c59b21bb-e2a4-4664-9576-128d86e7d912",
   "metadata": {},
   "source": [
    "<br>"
   ]
  },
  {
   "cell_type": "markdown",
   "id": "39ea72dc-7b7d-4cc5-b073-41ad4b508c93",
   "metadata": {},
   "source": [
    "##### `A класс`"
   ]
  },
  {
   "cell_type": "code",
   "execution_count": 201,
   "id": "28863a3f-34d4-4ca3-8d82-834fa23df7c3",
   "metadata": {},
   "outputs": [],
   "source": [
    "# модели А класса\n",
    "a_class = ['Picanto']"
   ]
  },
  {
   "cell_type": "markdown",
   "id": "aa7ffdfb-4c26-4293-976d-2cd1cfcd8840",
   "metadata": {},
   "source": [
    "Проверка, не совершил ли я опечатку в списке."
   ]
  },
  {
   "cell_type": "code",
   "execution_count": 202,
   "id": "4dc7e95e-2909-4f69-a369-402ce1fde981",
   "metadata": {},
   "outputs": [
    {
     "name": "stdout",
     "output_type": "stream",
     "text": [
      "Опечаток нет, все модели из переменной a_class есть в колонке 'model'.\n"
     ]
    }
   ],
   "source": [
    "# флаг\n",
    "all_present = True\n",
    "\n",
    "for model in a_class:\n",
    "    if model not in df['model'].unique():\n",
    "        print(f\"Опечатка. Модель {model} отсутствует в колонке 'model'.\")\n",
    "        # если есть опечатка в списке, то флаг ставится в False\n",
    "        all_present = False\n",
    "\n",
    "if all_present == True:\n",
    "    print(f\"Опечаток нет, все модели из переменной a_class есть в колонке 'model'.\")"
   ]
  },
  {
   "cell_type": "markdown",
   "id": "076f26e0-17be-478c-aebe-688b56b3872c",
   "metadata": {},
   "source": [
    "Посмотрим, все ли модели из списка являются А классом в датасете."
   ]
  },
  {
   "cell_type": "code",
   "execution_count": 203,
   "id": "0c195d3e-f1b6-49d0-8971-592b44c93056",
   "metadata": {},
   "outputs": [
    {
     "data": {
      "text/html": [
       "<div>\n",
       "<style scoped>\n",
       "    .dataframe tbody tr th:only-of-type {\n",
       "        vertical-align: middle;\n",
       "    }\n",
       "\n",
       "    .dataframe tbody tr th {\n",
       "        vertical-align: top;\n",
       "    }\n",
       "\n",
       "    .dataframe thead th {\n",
       "        text-align: right;\n",
       "    }\n",
       "</style>\n",
       "<table border=\"1\" class=\"dataframe\">\n",
       "  <thead>\n",
       "    <tr style=\"text-align: right;\">\n",
       "      <th></th>\n",
       "      <th>class</th>\n",
       "      <th>cnt</th>\n",
       "    </tr>\n",
       "  </thead>\n",
       "  <tbody>\n",
       "    <tr>\n",
       "      <th>0</th>\n",
       "      <td>A класс</td>\n",
       "      <td>39</td>\n",
       "    </tr>\n",
       "  </tbody>\n",
       "</table>\n",
       "</div>"
      ],
      "text/plain": [
       "     class  cnt\n",
       "0  A класс   39"
      ]
     },
     "execution_count": 203,
     "metadata": {},
     "output_type": "execute_result"
    }
   ],
   "source": [
    "# распределение значений классификаций авто, по моделям из списка \n",
    "df.loc[df['model'].isin(a_class), 'car_classification'].value_counts()\\\n",
    "                                                       .reset_index()\\\n",
    "                                                       .rename(columns={'index': 'class',\n",
    "                                                                        'car_classification': 'cnt'})"
   ]
  },
  {
   "cell_type": "markdown",
   "id": "fb0a03f9-fd6d-48c0-bf86-e5364e67aaa7",
   "metadata": {},
   "source": [
    "Все модели из списка — А класс."
   ]
  },
  {
   "cell_type": "markdown",
   "id": "1f2d6d6e-4382-4921-abfc-2eb3c2bf08e7",
   "metadata": {},
   "source": [
    "Посмотрим, есть ли модели, которые по ошибке назвали А классом."
   ]
  },
  {
   "cell_type": "code",
   "execution_count": 204,
   "id": "dc719bfa-c3fb-463b-80be-3ce64362eec5",
   "metadata": {},
   "outputs": [
    {
     "data": {
      "text/html": [
       "<div>\n",
       "<style scoped>\n",
       "    .dataframe tbody tr th:only-of-type {\n",
       "        vertical-align: middle;\n",
       "    }\n",
       "\n",
       "    .dataframe tbody tr th {\n",
       "        vertical-align: top;\n",
       "    }\n",
       "\n",
       "    .dataframe thead th {\n",
       "        text-align: right;\n",
       "    }\n",
       "</style>\n",
       "<table border=\"1\" class=\"dataframe\">\n",
       "  <thead>\n",
       "    <tr style=\"text-align: right;\">\n",
       "      <th></th>\n",
       "      <th>brand</th>\n",
       "      <th>model</th>\n",
       "      <th>cnt</th>\n",
       "    </tr>\n",
       "  </thead>\n",
       "  <tbody>\n",
       "    <tr>\n",
       "      <th>0</th>\n",
       "      <td>Mercedes-Benz</td>\n",
       "      <td>A-Class</td>\n",
       "      <td>3</td>\n",
       "    </tr>\n",
       "  </tbody>\n",
       "</table>\n",
       "</div>"
      ],
      "text/plain": [
       "           brand    model  cnt\n",
       "0  Mercedes-Benz  A-Class    3"
      ]
     },
     "execution_count": 204,
     "metadata": {},
     "output_type": "execute_result"
    }
   ],
   "source": [
    "df.loc[(df['car_classification'] == 'A класс') & (~df['model'].isin(a_class)), ['brand', 'model']].value_counts().reset_index().rename(columns={0: 'cnt'})"
   ]
  },
  {
   "cell_type": "markdown",
   "id": "270dc2de-1c79-4b69-afbd-3cc6c658d62c",
   "metadata": {},
   "source": [
    "Mercedes A-Class сделался A классом.\\\n",
    "Немного каламбура: ведь логично же, раз буква А есть в названии модели, значит и класс авто такой же.\\\n",
    "Но нет, на самом деле это C класс."
   ]
  },
  {
   "cell_type": "markdown",
   "id": "76903eee-48a2-4b97-a83b-a9239f34141c",
   "metadata": {},
   "source": [
    "Переименуем название класса.\\\n",
    "Зафиксируем название до и после переименования."
   ]
  },
  {
   "cell_type": "code",
   "execution_count": 205,
   "id": "ea02abf3-8edd-49d8-bdff-3a317c208cd0",
   "metadata": {},
   "outputs": [
    {
     "name": "stdout",
     "output_type": "stream",
     "text": [
      "Было: A класс\n"
     ]
    }
   ],
   "source": [
    "print(f\"Было: {df.loc[df['model'].isin(a_class), 'car_classification'].unique()[0]}\")"
   ]
  },
  {
   "cell_type": "code",
   "execution_count": 206,
   "id": "4c1e3fdd-6a86-42d6-b99e-0aecb2c0a0a9",
   "metadata": {},
   "outputs": [],
   "source": [
    "# A класс > A\n",
    "df.loc[df['model'].isin(a_class), 'car_classification'] = 'A'"
   ]
  },
  {
   "cell_type": "code",
   "execution_count": 207,
   "id": "2d827597-5258-48c7-a083-8cf3c1629d1f",
   "metadata": {},
   "outputs": [
    {
     "name": "stdout",
     "output_type": "stream",
     "text": [
      "Стало: A\n"
     ]
    }
   ],
   "source": [
    "print(f\"Стало: {df.loc[df['model'].isin(a_class), 'car_classification'].unique()[0]}\")"
   ]
  },
  {
   "cell_type": "markdown",
   "id": "66412159-38d3-4a53-b1bb-e15b690cadb8",
   "metadata": {},
   "source": [
    "<br>"
   ]
  },
  {
   "cell_type": "markdown",
   "id": "61a2493c-87d7-4f27-96db-7d7b604e8896",
   "metadata": {},
   "source": [
    "##### `B класс`"
   ]
  },
  {
   "cell_type": "code",
   "execution_count": 208,
   "id": "06026f87-3870-4a35-92c2-84db0059a44d",
   "metadata": {},
   "outputs": [],
   "source": [
    "# B класс\n",
    "b_class = ['Aveo', 'Fiesta', 'Accent', 'Rio', 'Granta', 'Kalina', 'Vesta', 'XRAY', 'Cabrio',\n",
    "           'Hatch', 'Almera', '301', 'Nexia R3', 'R4', 'Logan', 'Sandero', 'Rapid', 'Polo']"
   ]
  },
  {
   "cell_type": "markdown",
   "id": "5a0bc9f6-8849-4ba2-bcc4-30e7eb9f0810",
   "metadata": {},
   "source": [
    "Проверка, не совершил ли я опечатку в списке."
   ]
  },
  {
   "cell_type": "code",
   "execution_count": 209,
   "id": "1100f503-47ce-4eb3-82b4-a70e2340ea4d",
   "metadata": {},
   "outputs": [
    {
     "name": "stdout",
     "output_type": "stream",
     "text": [
      "Опечаток нет, все модели из переменной b_class есть в колонке 'model'.\n"
     ]
    }
   ],
   "source": [
    "# флаг\n",
    "all_present = True\n",
    "\n",
    "for model in b_class:\n",
    "    if model not in df['model'].unique():\n",
    "        print(f\"Опечатка. Модель {model} отсутствует в колонке 'model'.\")\n",
    "        # если есть опечатка в списке, то флаг ставится в False\n",
    "        all_present = False\n",
    "\n",
    "if all_present == True:\n",
    "    print(f\"Опечаток нет, все модели из переменной b_class есть в колонке 'model'.\")"
   ]
  },
  {
   "cell_type": "markdown",
   "id": "b7651e97-9f6f-4bbc-be4d-31f7b1b20be0",
   "metadata": {},
   "source": [
    "Посмотрим, все ли модели из списка являются B классом в датасете."
   ]
  },
  {
   "cell_type": "code",
   "execution_count": 210,
   "id": "06ae8c2f-e8a1-44e8-9f72-d46eae368269",
   "metadata": {},
   "outputs": [
    {
     "data": {
      "text/html": [
       "<div>\n",
       "<style scoped>\n",
       "    .dataframe tbody tr th:only-of-type {\n",
       "        vertical-align: middle;\n",
       "    }\n",
       "\n",
       "    .dataframe tbody tr th {\n",
       "        vertical-align: top;\n",
       "    }\n",
       "\n",
       "    .dataframe thead th {\n",
       "        text-align: right;\n",
       "    }\n",
       "</style>\n",
       "<table border=\"1\" class=\"dataframe\">\n",
       "  <thead>\n",
       "    <tr style=\"text-align: right;\">\n",
       "      <th></th>\n",
       "      <th>class</th>\n",
       "      <th>cnt</th>\n",
       "    </tr>\n",
       "  </thead>\n",
       "  <tbody>\n",
       "    <tr>\n",
       "      <th>0</th>\n",
       "      <td>B класс</td>\n",
       "      <td>7028</td>\n",
       "    </tr>\n",
       "    <tr>\n",
       "      <th>1</th>\n",
       "      <td>C класс</td>\n",
       "      <td>20</td>\n",
       "    </tr>\n",
       "  </tbody>\n",
       "</table>\n",
       "</div>"
      ],
      "text/plain": [
       "     class   cnt\n",
       "0  B класс  7028\n",
       "1  C класс    20"
      ]
     },
     "execution_count": 210,
     "metadata": {},
     "output_type": "execute_result"
    }
   ],
   "source": [
    "# распределение значений классификаций авто, по моделям из списка \n",
    "df.loc[df['model'].isin(b_class), 'car_classification'].value_counts()\\\n",
    "                                                       .reset_index()\\\n",
    "                                                       .rename(columns={'index': 'class',\n",
    "                                                                        'car_classification': 'cnt'})"
   ]
  },
  {
   "cell_type": "markdown",
   "id": "94db6aed-3e52-4f14-846a-3910d66ab1b4",
   "metadata": {},
   "source": [
    "$20$ автомобилей находятся в C классе, а им следует быть в B классе."
   ]
  },
  {
   "cell_type": "code",
   "execution_count": 211,
   "id": "4cb02b30-f33d-4304-abde-cb27adbbd1ee",
   "metadata": {},
   "outputs": [
    {
     "data": {
      "text/html": [
       "<div>\n",
       "<style scoped>\n",
       "    .dataframe tbody tr th:only-of-type {\n",
       "        vertical-align: middle;\n",
       "    }\n",
       "\n",
       "    .dataframe tbody tr th {\n",
       "        vertical-align: top;\n",
       "    }\n",
       "\n",
       "    .dataframe thead th {\n",
       "        text-align: right;\n",
       "    }\n",
       "</style>\n",
       "<table border=\"1\" class=\"dataframe\">\n",
       "  <thead>\n",
       "    <tr style=\"text-align: right;\">\n",
       "      <th></th>\n",
       "      <th>brand</th>\n",
       "      <th>model</th>\n",
       "      <th>cnt</th>\n",
       "    </tr>\n",
       "  </thead>\n",
       "  <tbody>\n",
       "    <tr>\n",
       "      <th>0</th>\n",
       "      <td>Nissan</td>\n",
       "      <td>Almera</td>\n",
       "      <td>20</td>\n",
       "    </tr>\n",
       "  </tbody>\n",
       "</table>\n",
       "</div>"
      ],
      "text/plain": [
       "    brand   model  cnt\n",
       "0  Nissan  Almera   20"
      ]
     },
     "execution_count": 211,
     "metadata": {},
     "output_type": "execute_result"
    }
   ],
   "source": [
    "df.loc[(df['model'].isin(b_class)) & ~(df['car_classification'] == 'B класс'), ['brand', 'model']].value_counts().reset_index().rename(columns={0: 'cnt'})"
   ]
  },
  {
   "cell_type": "markdown",
   "id": "fb969b4f-8d6b-43f2-a485-4fa888334f79",
   "metadata": {},
   "source": [
    "Эти $20$ авто — Nissan Almera. Последнее поколение официально относится к B классу."
   ]
  },
  {
   "cell_type": "markdown",
   "id": "c463c730-8944-4f3f-9a5a-f68b0c2c930b",
   "metadata": {},
   "source": [
    "Посмотрим, есть ли модели, которые по ошибке назвали B классом."
   ]
  },
  {
   "cell_type": "code",
   "execution_count": 212,
   "id": "d70d2ec3-b03c-4cd9-9e1a-44b90c865ae7",
   "metadata": {},
   "outputs": [
    {
     "data": {
      "text/html": [
       "<div>\n",
       "<style scoped>\n",
       "    .dataframe tbody tr th:only-of-type {\n",
       "        vertical-align: middle;\n",
       "    }\n",
       "\n",
       "    .dataframe tbody tr th {\n",
       "        vertical-align: top;\n",
       "    }\n",
       "\n",
       "    .dataframe thead th {\n",
       "        text-align: right;\n",
       "    }\n",
       "</style>\n",
       "<table border=\"1\" class=\"dataframe\">\n",
       "  <thead>\n",
       "    <tr style=\"text-align: right;\">\n",
       "      <th></th>\n",
       "      <th>brand</th>\n",
       "      <th>model</th>\n",
       "      <th>cnt</th>\n",
       "    </tr>\n",
       "  </thead>\n",
       "  <tbody>\n",
       "  </tbody>\n",
       "</table>\n",
       "</div>"
      ],
      "text/plain": [
       "Empty DataFrame\n",
       "Columns: [brand, model, cnt]\n",
       "Index: []"
      ]
     },
     "execution_count": 212,
     "metadata": {},
     "output_type": "execute_result"
    }
   ],
   "source": [
    "df.loc[(df['car_classification'] == 'B класс') & ~(df['model'].isin(b_class)), ['brand', 'model']].value_counts().reset_index().rename(columns={0: 'cnt'})"
   ]
  },
  {
   "cell_type": "markdown",
   "id": "fc1beff6-98b6-4a7d-9986-6f12d21e3963",
   "metadata": {},
   "source": [
    "Таких моделей нет."
   ]
  },
  {
   "cell_type": "markdown",
   "id": "bc4949d2-acbc-4b70-b75d-0baff6254931",
   "metadata": {},
   "source": [
    "Переименуем название класса.\\\n",
    "Зафиксируем название до и после переименования."
   ]
  },
  {
   "cell_type": "code",
   "execution_count": 213,
   "id": "a93626ac-e70f-4ff9-81e2-9518b33b7b5c",
   "metadata": {},
   "outputs": [
    {
     "name": "stdout",
     "output_type": "stream",
     "text": [
      "Было: B класс\n"
     ]
    }
   ],
   "source": [
    "print(f\"Было: {df.loc[df['model'].isin(b_class), 'car_classification'].unique()[0]}\")"
   ]
  },
  {
   "cell_type": "code",
   "execution_count": 214,
   "id": "ef8f2377-de63-4de5-ad00-e78fe4e7aeee",
   "metadata": {},
   "outputs": [],
   "source": [
    "# B класс > B\n",
    "df.loc[df['model'].isin(b_class), 'car_classification'] = 'B'"
   ]
  },
  {
   "cell_type": "code",
   "execution_count": 215,
   "id": "ae7244b0-b451-4bd1-9aff-701c906f528e",
   "metadata": {},
   "outputs": [
    {
     "name": "stdout",
     "output_type": "stream",
     "text": [
      "Стало: B\n"
     ]
    }
   ],
   "source": [
    "print(f\"Стало: {df.loc[df['model'].isin(b_class), 'car_classification'].unique()[0]}\")"
   ]
  },
  {
   "cell_type": "markdown",
   "id": "67fdf0b0-d3fb-403e-94f1-84b72bc2b531",
   "metadata": {},
   "source": [
    "<br>"
   ]
  },
  {
   "cell_type": "markdown",
   "id": "cf24a359-a1bb-4c11-a1ba-c870ec117308",
   "metadata": {},
   "source": [
    "##### `C класс`"
   ]
  },
  {
   "cell_type": "code",
   "execution_count": 216,
   "id": "bac648bf-1796-47da-8088-9ff6e756898a",
   "metadata": {},
   "outputs": [],
   "source": [
    "# C класс\n",
    "c_class = ['A3', 'Elantra', 'iev', 'Cerato', 'Solano', '3',\n",
    "           'A-Class', 'CLA-Class', 'Octavia', 'Corolla', 'Jetta']"
   ]
  },
  {
   "cell_type": "markdown",
   "id": "e63f7b1a-e258-46d3-8195-ab4e0fbe5f4b",
   "metadata": {},
   "source": [
    "Проверка, не совершил ли я опечатку в списке."
   ]
  },
  {
   "cell_type": "code",
   "execution_count": 217,
   "id": "af4b3161-3a08-4095-b196-8c9fb756f793",
   "metadata": {},
   "outputs": [
    {
     "name": "stdout",
     "output_type": "stream",
     "text": [
      "Опечаток нет, все модели из переменной c_class есть в колонке 'model'.\n"
     ]
    }
   ],
   "source": [
    "# флаг\n",
    "all_present = True\n",
    "\n",
    "for model in c_class:\n",
    "    if model not in df['model'].unique():\n",
    "        print(f\"Опечатка. Модель {model} отсутствует в колонке 'model'.\")\n",
    "        all_present = False\n",
    "        \n",
    "if all_present == True:\n",
    "    print(f\"Опечаток нет, все модели из переменной c_class есть в колонке 'model'.\")"
   ]
  },
  {
   "cell_type": "markdown",
   "id": "35ce93da-434d-4228-85d4-b3f47f72b677",
   "metadata": {},
   "source": [
    "Посмотрим, все ли модели из списка являются C классом в датасете."
   ]
  },
  {
   "cell_type": "code",
   "execution_count": 218,
   "id": "356966e6-0bf9-4a9d-9f69-0e649a427f63",
   "metadata": {},
   "outputs": [
    {
     "data": {
      "text/html": [
       "<div>\n",
       "<style scoped>\n",
       "    .dataframe tbody tr th:only-of-type {\n",
       "        vertical-align: middle;\n",
       "    }\n",
       "\n",
       "    .dataframe tbody tr th {\n",
       "        vertical-align: top;\n",
       "    }\n",
       "\n",
       "    .dataframe thead th {\n",
       "        text-align: right;\n",
       "    }\n",
       "</style>\n",
       "<table border=\"1\" class=\"dataframe\">\n",
       "  <thead>\n",
       "    <tr style=\"text-align: right;\">\n",
       "      <th></th>\n",
       "      <th>class</th>\n",
       "      <th>cnt</th>\n",
       "    </tr>\n",
       "  </thead>\n",
       "  <tbody>\n",
       "    <tr>\n",
       "      <th>0</th>\n",
       "      <td>C класс</td>\n",
       "      <td>3553</td>\n",
       "    </tr>\n",
       "    <tr>\n",
       "      <th>1</th>\n",
       "      <td>A класс</td>\n",
       "      <td>3</td>\n",
       "    </tr>\n",
       "  </tbody>\n",
       "</table>\n",
       "</div>"
      ],
      "text/plain": [
       "     class   cnt\n",
       "0  C класс  3553\n",
       "1  A класс     3"
      ]
     },
     "execution_count": 218,
     "metadata": {},
     "output_type": "execute_result"
    }
   ],
   "source": [
    "# распределение значений классификаций авто, по моделям из списка \n",
    "df.loc[df['model'].isin(c_class), 'car_classification'].value_counts()\\\n",
    "                                                       .reset_index()\\\n",
    "                                                       .rename(columns={'index': 'class',\n",
    "                                                                        'car_classification': 'cnt'})"
   ]
  },
  {
   "cell_type": "markdown",
   "id": "31850505-25a5-4aee-8ff9-d6f21ff7331d",
   "metadata": {},
   "source": [
    "$3$ автомобиля находятся в A классе, а им следует быть в C классе."
   ]
  },
  {
   "cell_type": "code",
   "execution_count": 219,
   "id": "e200d2d7-6828-4b8c-8fac-2a2a326c05d1",
   "metadata": {},
   "outputs": [
    {
     "data": {
      "text/html": [
       "<div>\n",
       "<style scoped>\n",
       "    .dataframe tbody tr th:only-of-type {\n",
       "        vertical-align: middle;\n",
       "    }\n",
       "\n",
       "    .dataframe tbody tr th {\n",
       "        vertical-align: top;\n",
       "    }\n",
       "\n",
       "    .dataframe thead th {\n",
       "        text-align: right;\n",
       "    }\n",
       "</style>\n",
       "<table border=\"1\" class=\"dataframe\">\n",
       "  <thead>\n",
       "    <tr style=\"text-align: right;\">\n",
       "      <th></th>\n",
       "      <th>brand</th>\n",
       "      <th>model</th>\n",
       "      <th>cnt</th>\n",
       "    </tr>\n",
       "  </thead>\n",
       "  <tbody>\n",
       "    <tr>\n",
       "      <th>0</th>\n",
       "      <td>Mercedes-Benz</td>\n",
       "      <td>A-Class</td>\n",
       "      <td>3</td>\n",
       "    </tr>\n",
       "  </tbody>\n",
       "</table>\n",
       "</div>"
      ],
      "text/plain": [
       "           brand    model  cnt\n",
       "0  Mercedes-Benz  A-Class    3"
      ]
     },
     "execution_count": 219,
     "metadata": {},
     "output_type": "execute_result"
    }
   ],
   "source": [
    "df.loc[(df['model'].isin(c_class)) & ~(df['car_classification'] == 'C класс'), ['brand', 'model']].value_counts().reset_index().rename(columns={0: 'cnt'})"
   ]
  },
  {
   "cell_type": "markdown",
   "id": "c7fc4b10-80c0-40c9-a879-b8ab8efcae4b",
   "metadata": {},
   "source": [
    "Эти $3$ автомобиля и есть те Mercedes A-Class, которые мы упомянули, когда разбирались с A классом."
   ]
  },
  {
   "cell_type": "markdown",
   "id": "b05e852d-7e29-4b86-98d3-c2d5e27f6076",
   "metadata": {},
   "source": [
    "Посмотрим, есть ли модели, которые по ошибке назвали C классом."
   ]
  },
  {
   "cell_type": "code",
   "execution_count": 220,
   "id": "624b3da4-2760-4851-a58e-da55c23f0276",
   "metadata": {},
   "outputs": [
    {
     "data": {
      "text/html": [
       "<div>\n",
       "<style scoped>\n",
       "    .dataframe tbody tr th:only-of-type {\n",
       "        vertical-align: middle;\n",
       "    }\n",
       "\n",
       "    .dataframe tbody tr th {\n",
       "        vertical-align: top;\n",
       "    }\n",
       "\n",
       "    .dataframe thead th {\n",
       "        text-align: right;\n",
       "    }\n",
       "</style>\n",
       "<table border=\"1\" class=\"dataframe\">\n",
       "  <thead>\n",
       "    <tr style=\"text-align: right;\">\n",
       "      <th></th>\n",
       "      <th>brand</th>\n",
       "      <th>model</th>\n",
       "      <th>cnt</th>\n",
       "    </tr>\n",
       "  </thead>\n",
       "  <tbody>\n",
       "    <tr>\n",
       "      <th>0</th>\n",
       "      <td>Mercedes-Benz</td>\n",
       "      <td>C-Class</td>\n",
       "      <td>2</td>\n",
       "    </tr>\n",
       "    <tr>\n",
       "      <th>1</th>\n",
       "      <td>Jaguar</td>\n",
       "      <td>XE</td>\n",
       "      <td>1</td>\n",
       "    </tr>\n",
       "  </tbody>\n",
       "</table>\n",
       "</div>"
      ],
      "text/plain": [
       "           brand    model  cnt\n",
       "0  Mercedes-Benz  C-Class    2\n",
       "1         Jaguar       XE    1"
      ]
     },
     "execution_count": 220,
     "metadata": {},
     "output_type": "execute_result"
    }
   ],
   "source": [
    "df.loc[(df['car_classification'] == 'C класс') & ~(df['model'].isin(c_class)), ['brand', 'model']].value_counts().reset_index().rename(columns={0: 'cnt'})"
   ]
  },
  {
   "cell_type": "markdown",
   "id": "d4fdd314-3307-41af-ad25-4e1940f8c67d",
   "metadata": {},
   "source": [
    "Это Mercedes C-Class и Jaguar XE."
   ]
  },
  {
   "cell_type": "markdown",
   "id": "5d12c130-12a1-4bcc-88ac-fea7e69b50d2",
   "metadata": {},
   "source": [
    "Переименуем название класса.\\\n",
    "Зафиксируем название до и после переименования."
   ]
  },
  {
   "cell_type": "code",
   "execution_count": 221,
   "id": "2aacde05-fd9b-49a7-bd76-97070f24e747",
   "metadata": {},
   "outputs": [
    {
     "name": "stdout",
     "output_type": "stream",
     "text": [
      "Было: C класс\n"
     ]
    }
   ],
   "source": [
    "print(f\"Было: {df.loc[df['model'].isin(c_class), 'car_classification'].unique()[0]}\")"
   ]
  },
  {
   "cell_type": "code",
   "execution_count": 222,
   "id": "a8174dcf-4f05-4bf0-9aaf-6f0b36f4a20f",
   "metadata": {},
   "outputs": [],
   "source": [
    "# C класс > C\n",
    "df.loc[df['model'].isin(c_class), 'car_classification'] = 'C'"
   ]
  },
  {
   "cell_type": "code",
   "execution_count": 223,
   "id": "c577b601-7540-4a01-a96b-096d19085519",
   "metadata": {},
   "outputs": [
    {
     "name": "stdout",
     "output_type": "stream",
     "text": [
      "Стало: C\n"
     ]
    }
   ],
   "source": [
    "print(f\"Стало: {df.loc[df['model'].isin(c_class), 'car_classification'].unique()[0]}\")"
   ]
  },
  {
   "cell_type": "markdown",
   "id": "91bfd15e-4465-4116-843b-36a7697a2267",
   "metadata": {},
   "source": [
    "<br>"
   ]
  },
  {
   "cell_type": "markdown",
   "id": "88a6c47a-7eae-4caf-b155-c5a97b9f2c54",
   "metadata": {},
   "source": [
    "##### `D класс`"
   ]
  },
  {
   "cell_type": "code",
   "execution_count": 224,
   "id": "278d79dd-5f10-4773-ae14-39a907b501d8",
   "metadata": {},
   "outputs": [],
   "source": [
    "# D класс\n",
    "d_class = ['A4', '3 серия', 'Mondeo', 'Sonata', 'Q50', 'XE', 'Optima', 'Stinger',\n",
    "           'Murman', '6', 'C-Class', 'Superb', 'Legacy', 'Outback', 'Camry']"
   ]
  },
  {
   "cell_type": "markdown",
   "id": "b1262135-8292-4160-bb76-f40b0c0d0c45",
   "metadata": {},
   "source": [
    "Проверка, не совершил ли я опечатку в списке."
   ]
  },
  {
   "cell_type": "code",
   "execution_count": 225,
   "id": "d3ddc396-bbb9-412a-a88b-79b34fdaf055",
   "metadata": {},
   "outputs": [
    {
     "name": "stdout",
     "output_type": "stream",
     "text": [
      "Опечаток нет, все модели из переменной d_class есть в колонке 'model'.\n"
     ]
    }
   ],
   "source": [
    "# флаг\n",
    "all_present = True\n",
    "\n",
    "for model in d_class:\n",
    "    if model not in df['model'].unique():\n",
    "        print(f\"Опечатка. Модель {model} отсутствует в колонке 'model'.\")\n",
    "        all_present = False\n",
    "\n",
    "if all_present == True:\n",
    "    print(f\"Опечаток нет, все модели из переменной d_class есть в колонке 'model'.\")"
   ]
  },
  {
   "cell_type": "markdown",
   "id": "f01f9503-f6a1-46b8-94bf-ccbe29d5c1b1",
   "metadata": {},
   "source": [
    "Посмотрим, все ли модели из списка являются D классом в датасете."
   ]
  },
  {
   "cell_type": "code",
   "execution_count": 226,
   "id": "76b04d61-0a29-458f-870a-a6027eeb3731",
   "metadata": {},
   "outputs": [
    {
     "data": {
      "text/html": [
       "<div>\n",
       "<style scoped>\n",
       "    .dataframe tbody tr th:only-of-type {\n",
       "        vertical-align: middle;\n",
       "    }\n",
       "\n",
       "    .dataframe tbody tr th {\n",
       "        vertical-align: top;\n",
       "    }\n",
       "\n",
       "    .dataframe thead th {\n",
       "        text-align: right;\n",
       "    }\n",
       "</style>\n",
       "<table border=\"1\" class=\"dataframe\">\n",
       "  <thead>\n",
       "    <tr style=\"text-align: right;\">\n",
       "      <th></th>\n",
       "      <th>class</th>\n",
       "      <th>cnt</th>\n",
       "    </tr>\n",
       "  </thead>\n",
       "  <tbody>\n",
       "    <tr>\n",
       "      <th>0</th>\n",
       "      <td>D класс</td>\n",
       "      <td>5385</td>\n",
       "    </tr>\n",
       "    <tr>\n",
       "      <th>1</th>\n",
       "      <td>C класс</td>\n",
       "      <td>3</td>\n",
       "    </tr>\n",
       "  </tbody>\n",
       "</table>\n",
       "</div>"
      ],
      "text/plain": [
       "     class   cnt\n",
       "0  D класс  5385\n",
       "1  C класс     3"
      ]
     },
     "execution_count": 226,
     "metadata": {},
     "output_type": "execute_result"
    }
   ],
   "source": [
    "# распределение значений классификаций авто, по моделям из списка \n",
    "df.loc[df['model'].isin(d_class), 'car_classification'].value_counts()\\\n",
    "                                                       .reset_index()\\\n",
    "                                                       .rename(columns={'index': 'class',\n",
    "                                                                        'car_classification': 'cnt'})"
   ]
  },
  {
   "cell_type": "markdown",
   "id": "3f8a077a-f293-4572-a719-791bec2e5451",
   "metadata": {},
   "source": [
    "$3$ автомобиля находятся в C классе, а им следует быть в D классе."
   ]
  },
  {
   "cell_type": "code",
   "execution_count": 227,
   "id": "b5734b95-c4b0-4cfc-9022-69fad572ddb8",
   "metadata": {},
   "outputs": [
    {
     "data": {
      "text/html": [
       "<div>\n",
       "<style scoped>\n",
       "    .dataframe tbody tr th:only-of-type {\n",
       "        vertical-align: middle;\n",
       "    }\n",
       "\n",
       "    .dataframe tbody tr th {\n",
       "        vertical-align: top;\n",
       "    }\n",
       "\n",
       "    .dataframe thead th {\n",
       "        text-align: right;\n",
       "    }\n",
       "</style>\n",
       "<table border=\"1\" class=\"dataframe\">\n",
       "  <thead>\n",
       "    <tr style=\"text-align: right;\">\n",
       "      <th></th>\n",
       "      <th>brand</th>\n",
       "      <th>model</th>\n",
       "      <th>cnt</th>\n",
       "    </tr>\n",
       "  </thead>\n",
       "  <tbody>\n",
       "    <tr>\n",
       "      <th>0</th>\n",
       "      <td>Mercedes-Benz</td>\n",
       "      <td>C-Class</td>\n",
       "      <td>2</td>\n",
       "    </tr>\n",
       "    <tr>\n",
       "      <th>1</th>\n",
       "      <td>Jaguar</td>\n",
       "      <td>XE</td>\n",
       "      <td>1</td>\n",
       "    </tr>\n",
       "  </tbody>\n",
       "</table>\n",
       "</div>"
      ],
      "text/plain": [
       "           brand    model  cnt\n",
       "0  Mercedes-Benz  C-Class    2\n",
       "1         Jaguar       XE    1"
      ]
     },
     "execution_count": 227,
     "metadata": {},
     "output_type": "execute_result"
    }
   ],
   "source": [
    "df.loc[(df['model'].isin(d_class)) & ~(df['car_classification'] == 'D класс'), ['brand', 'model']].value_counts()\\\n",
    "                                                                                                  .reset_index()\\\n",
    "                                                                                                  .rename(columns={0: 'cnt'})"
   ]
  },
  {
   "cell_type": "markdown",
   "id": "f04ca20b-2c3e-4b9b-81a6-2bb2f347b8f4",
   "metadata": {},
   "source": [
    "Эти $3$ автомобиля и есть те Mercedes C-Class и Jaguar XE, которые мы упомянули, когда разбирались с C классом."
   ]
  },
  {
   "cell_type": "markdown",
   "id": "094eb7b5-3782-4255-b9cf-cf7cec8512df",
   "metadata": {},
   "source": [
    "Посмотрим, есть ли модели, которые по ошибке назвали D классом."
   ]
  },
  {
   "cell_type": "code",
   "execution_count": 228,
   "id": "a6bab30e-4075-4bfe-b44d-f05668867c23",
   "metadata": {},
   "outputs": [
    {
     "data": {
      "text/html": [
       "<div>\n",
       "<style scoped>\n",
       "    .dataframe tbody tr th:only-of-type {\n",
       "        vertical-align: middle;\n",
       "    }\n",
       "\n",
       "    .dataframe tbody tr th {\n",
       "        vertical-align: top;\n",
       "    }\n",
       "\n",
       "    .dataframe thead th {\n",
       "        text-align: right;\n",
       "    }\n",
       "</style>\n",
       "<table border=\"1\" class=\"dataframe\">\n",
       "  <thead>\n",
       "    <tr style=\"text-align: right;\">\n",
       "      <th></th>\n",
       "      <th>brand</th>\n",
       "      <th>model</th>\n",
       "      <th>cnt</th>\n",
       "    </tr>\n",
       "  </thead>\n",
       "  <tbody>\n",
       "  </tbody>\n",
       "</table>\n",
       "</div>"
      ],
      "text/plain": [
       "Empty DataFrame\n",
       "Columns: [brand, model, cnt]\n",
       "Index: []"
      ]
     },
     "execution_count": 228,
     "metadata": {},
     "output_type": "execute_result"
    }
   ],
   "source": [
    "df.loc[(df['car_classification'] == 'D класс') & ~(df['model'].isin(d_class)), ['brand', 'model']].value_counts()\\\n",
    "                                                                                                  .reset_index()\\\n",
    "                                                                                                  .rename(columns={0: 'cnt'})"
   ]
  },
  {
   "cell_type": "markdown",
   "id": "bdbed077-800f-431e-b85e-1f07d999aa3a",
   "metadata": {},
   "source": [
    "Таких моделей нет."
   ]
  },
  {
   "cell_type": "markdown",
   "id": "14fca213-dbd1-4536-99f6-cc7cf3a11149",
   "metadata": {},
   "source": [
    "Переименуем название класса.\\\n",
    "Зафиксируем название до и после переименования."
   ]
  },
  {
   "cell_type": "code",
   "execution_count": 229,
   "id": "b77375c9-3260-4aae-ac22-f3b4304ae4d7",
   "metadata": {},
   "outputs": [
    {
     "name": "stdout",
     "output_type": "stream",
     "text": [
      "Было: D класс\n"
     ]
    }
   ],
   "source": [
    "print(f\"Было: {df.loc[df['model'].isin(d_class), 'car_classification'].unique()[0]}\")"
   ]
  },
  {
   "cell_type": "code",
   "execution_count": 230,
   "id": "62232c58-66b5-4e88-b9c7-9ac6d20f0f31",
   "metadata": {},
   "outputs": [],
   "source": [
    "# D класс > D\n",
    "df.loc[df['model'].isin(d_class), 'car_classification'] = 'D'"
   ]
  },
  {
   "cell_type": "code",
   "execution_count": 231,
   "id": "cc4c4ad9-741a-4376-aaa4-3aeeac7457ad",
   "metadata": {},
   "outputs": [
    {
     "name": "stdout",
     "output_type": "stream",
     "text": [
      "Стало: D\n"
     ]
    }
   ],
   "source": [
    "print(f\"Стало: {df.loc[df['model'].isin(d_class), 'car_classification'].unique()[0]}\")"
   ]
  },
  {
   "cell_type": "markdown",
   "id": "c22fd4bf-2de2-4a1c-872d-a44788a67645",
   "metadata": {},
   "source": [
    "<br>"
   ]
  },
  {
   "cell_type": "markdown",
   "id": "1b5c3cd1-9d02-45ed-9212-4df07e0f3b2b",
   "metadata": {},
   "source": [
    "##### `E класс`"
   ]
  },
  {
   "cell_type": "code",
   "execution_count": 232,
   "id": "a645777a-edfe-43ab-918b-9e3e62f09d76",
   "metadata": {},
   "outputs": [],
   "source": [
    "# E класс\n",
    "e_class = ['A6', 'A7', '5 серия', 'XF', 'ES', 'E-Class', 'CLS-Class', 'S90', 'V90']"
   ]
  },
  {
   "cell_type": "markdown",
   "id": "b5a703c2-34f4-4511-9475-59a483661439",
   "metadata": {},
   "source": [
    "Проверка, не совершил ли я опечатку в списке."
   ]
  },
  {
   "cell_type": "code",
   "execution_count": 233,
   "id": "153a8b29-ab19-4d0f-8462-83f8395e0707",
   "metadata": {},
   "outputs": [
    {
     "name": "stdout",
     "output_type": "stream",
     "text": [
      "Опечаток нет, все модели из переменной e_class есть в колонке 'model'.\n"
     ]
    }
   ],
   "source": [
    "# флаг\n",
    "all_present = True\n",
    "\n",
    "for model in e_class:\n",
    "    if model not in df['model'].unique():\n",
    "        print(f\"Опечатка. Модель {model} отсутствует в колонке 'model'.\")\n",
    "        all_present = False\n",
    "\n",
    "if all_present == True:\n",
    "    print(f\"Опечаток нет, все модели из переменной e_class есть в колонке 'model'.\")"
   ]
  },
  {
   "cell_type": "markdown",
   "id": "5971ca1b-8a8f-4d17-97eb-ed05b4f2b885",
   "metadata": {},
   "source": [
    "Посмотрим, все ли модели из списка являются E классом в датасете."
   ]
  },
  {
   "cell_type": "code",
   "execution_count": 234,
   "id": "9833528f-35ac-497a-bd9e-c09ff68889ec",
   "metadata": {},
   "outputs": [
    {
     "data": {
      "text/html": [
       "<div>\n",
       "<style scoped>\n",
       "    .dataframe tbody tr th:only-of-type {\n",
       "        vertical-align: middle;\n",
       "    }\n",
       "\n",
       "    .dataframe tbody tr th {\n",
       "        vertical-align: top;\n",
       "    }\n",
       "\n",
       "    .dataframe thead th {\n",
       "        text-align: right;\n",
       "    }\n",
       "</style>\n",
       "<table border=\"1\" class=\"dataframe\">\n",
       "  <thead>\n",
       "    <tr style=\"text-align: right;\">\n",
       "      <th></th>\n",
       "      <th>class</th>\n",
       "      <th>cnt</th>\n",
       "    </tr>\n",
       "  </thead>\n",
       "  <tbody>\n",
       "    <tr>\n",
       "      <th>0</th>\n",
       "      <td>E класс</td>\n",
       "      <td>244</td>\n",
       "    </tr>\n",
       "  </tbody>\n",
       "</table>\n",
       "</div>"
      ],
      "text/plain": [
       "     class  cnt\n",
       "0  E класс  244"
      ]
     },
     "execution_count": 234,
     "metadata": {},
     "output_type": "execute_result"
    }
   ],
   "source": [
    "# распределение значений классификаций авто, по моделям из списка \n",
    "df.loc[df['model'].isin(e_class), 'car_classification'].value_counts()\\\n",
    "                                                       .reset_index()\\\n",
    "                                                       .rename(columns={'index': 'class',\n",
    "                                                                        'car_classification': 'cnt'})"
   ]
  },
  {
   "cell_type": "markdown",
   "id": "d605a845-efae-4d9c-8b14-073f233f1d38",
   "metadata": {},
   "source": [
    "Все автомобили — E класса."
   ]
  },
  {
   "cell_type": "markdown",
   "id": "48b3fbbe-44e7-4dc1-8140-6bc7bd68825e",
   "metadata": {},
   "source": [
    "Посмотрим, есть ли модели, которые по ошибке назвали E классом."
   ]
  },
  {
   "cell_type": "code",
   "execution_count": 235,
   "id": "8f038591-035c-488d-af68-77cd03cdb61b",
   "metadata": {},
   "outputs": [
    {
     "data": {
      "text/html": [
       "<div>\n",
       "<style scoped>\n",
       "    .dataframe tbody tr th:only-of-type {\n",
       "        vertical-align: middle;\n",
       "    }\n",
       "\n",
       "    .dataframe tbody tr th {\n",
       "        vertical-align: top;\n",
       "    }\n",
       "\n",
       "    .dataframe thead th {\n",
       "        text-align: right;\n",
       "    }\n",
       "</style>\n",
       "<table border=\"1\" class=\"dataframe\">\n",
       "  <thead>\n",
       "    <tr style=\"text-align: right;\">\n",
       "      <th></th>\n",
       "      <th>brand</th>\n",
       "      <th>model</th>\n",
       "      <th>cnt</th>\n",
       "    </tr>\n",
       "  </thead>\n",
       "  <tbody>\n",
       "  </tbody>\n",
       "</table>\n",
       "</div>"
      ],
      "text/plain": [
       "Empty DataFrame\n",
       "Columns: [brand, model, cnt]\n",
       "Index: []"
      ]
     },
     "execution_count": 235,
     "metadata": {},
     "output_type": "execute_result"
    }
   ],
   "source": [
    "df.loc[(df['car_classification'] == 'E класс') & ~(df['model'].isin(e_class)), ['brand', 'model']].value_counts()\\\n",
    "                                                                                                  .reset_index()\\\n",
    "                                                                                                  .rename(columns={0: 'cnt'})"
   ]
  },
  {
   "cell_type": "markdown",
   "id": "72b9ea05-9d17-45a7-a94d-5649dc0728f5",
   "metadata": {},
   "source": [
    "Таких моделей нет."
   ]
  },
  {
   "cell_type": "markdown",
   "id": "233a561c-5e21-4e76-85ea-deff4d6ba7d0",
   "metadata": {},
   "source": [
    "Переименуем название класса.\\\n",
    "Зафиксируем название до и после переименования."
   ]
  },
  {
   "cell_type": "code",
   "execution_count": 236,
   "id": "f16b9978-7303-4003-9028-9a594a81440c",
   "metadata": {},
   "outputs": [
    {
     "name": "stdout",
     "output_type": "stream",
     "text": [
      "Было: E класс\n"
     ]
    }
   ],
   "source": [
    "print(f\"Было: {df.loc[df['model'].isin(e_class), 'car_classification'].unique()[0]}\")"
   ]
  },
  {
   "cell_type": "code",
   "execution_count": 237,
   "id": "86a4fc62-7f6f-4744-a6ea-4a849c024ed6",
   "metadata": {},
   "outputs": [],
   "source": [
    "# E класс > E\n",
    "df.loc[df['model'].isin(e_class), 'car_classification'] = 'E'"
   ]
  },
  {
   "cell_type": "code",
   "execution_count": 238,
   "id": "95f72f8e-f3c9-45eb-bf90-7bac86d30362",
   "metadata": {},
   "outputs": [
    {
     "name": "stdout",
     "output_type": "stream",
     "text": [
      "Стало: E\n"
     ]
    }
   ],
   "source": [
    "print(f\"Стало: {df.loc[df['model'].isin(e_class), 'car_classification'].unique()[0]}\")"
   ]
  },
  {
   "cell_type": "markdown",
   "id": "d99f518b-8e9f-4ac2-b43e-377e368c862d",
   "metadata": {},
   "source": [
    "<br>"
   ]
  },
  {
   "cell_type": "markdown",
   "id": "79e8834c-b09b-4bde-a0fb-385f1c9d12bd",
   "metadata": {},
   "source": [
    "##### `F класс`"
   ]
  },
  {
   "cell_type": "code",
   "execution_count": 239,
   "id": "ec82881d-8e7d-4086-9c77-4f9072f4ea50",
   "metadata": {},
   "outputs": [],
   "source": [
    "# F класс\n",
    "f_class = ['A8', '7 серия', 'XJ', 'Quoris', 'LS', 'S-Class', 'Panamera']"
   ]
  },
  {
   "cell_type": "markdown",
   "id": "062e710d-58fc-4ca6-887a-ae8a8c7edd8a",
   "metadata": {},
   "source": [
    "Проверка, не совершил ли я опечатку в списке."
   ]
  },
  {
   "cell_type": "code",
   "execution_count": 240,
   "id": "f394f616-e8dc-47d7-aa2e-291b74d594cd",
   "metadata": {},
   "outputs": [
    {
     "name": "stdout",
     "output_type": "stream",
     "text": [
      "Опечаток нет, все модели из переменной f_class есть в колонке 'model'.\n"
     ]
    }
   ],
   "source": [
    "# флаг\n",
    "all_present = True\n",
    "\n",
    "for model in f_class:\n",
    "    if model not in df['model'].unique():\n",
    "        print(f\"Опечатка. Модель {model} отсутствует в колонке 'model'.\")\n",
    "        all_present = False\n",
    "\n",
    "if all_present == True:\n",
    "    print(f\"Опечаток нет, все модели из переменной f_class есть в колонке 'model'.\")"
   ]
  },
  {
   "cell_type": "markdown",
   "id": "52f493c6-106e-4523-84fa-101bb41cc1f1",
   "metadata": {},
   "source": [
    "Посмотрим, все ли модели из списка являются F классом в датасете."
   ]
  },
  {
   "cell_type": "code",
   "execution_count": 241,
   "id": "eb16c4c4-f923-46f2-a0dc-57831b2cb3e8",
   "metadata": {},
   "outputs": [
    {
     "data": {
      "text/html": [
       "<div>\n",
       "<style scoped>\n",
       "    .dataframe tbody tr th:only-of-type {\n",
       "        vertical-align: middle;\n",
       "    }\n",
       "\n",
       "    .dataframe tbody tr th {\n",
       "        vertical-align: top;\n",
       "    }\n",
       "\n",
       "    .dataframe thead th {\n",
       "        text-align: right;\n",
       "    }\n",
       "</style>\n",
       "<table border=\"1\" class=\"dataframe\">\n",
       "  <thead>\n",
       "    <tr style=\"text-align: right;\">\n",
       "      <th></th>\n",
       "      <th>class</th>\n",
       "      <th>cnt</th>\n",
       "    </tr>\n",
       "  </thead>\n",
       "  <tbody>\n",
       "    <tr>\n",
       "      <th>0</th>\n",
       "      <td>F класс</td>\n",
       "      <td>40</td>\n",
       "    </tr>\n",
       "  </tbody>\n",
       "</table>\n",
       "</div>"
      ],
      "text/plain": [
       "     class  cnt\n",
       "0  F класс   40"
      ]
     },
     "execution_count": 241,
     "metadata": {},
     "output_type": "execute_result"
    }
   ],
   "source": [
    "# распределение значений классификаций авто, по моделям из списка \n",
    "df.loc[df['model'].isin(f_class), 'car_classification'].value_counts()\\\n",
    "                                                       .reset_index()\\\n",
    "                                                       .rename(columns={'index': 'class',\n",
    "                                                                        'car_classification': 'cnt'})"
   ]
  },
  {
   "cell_type": "markdown",
   "id": "3ef7daf7-d337-47fe-87ab-3ec76ce436f9",
   "metadata": {},
   "source": [
    "Все автомобили — F класса."
   ]
  },
  {
   "cell_type": "markdown",
   "id": "c1575d9c-ca47-4d45-bbaf-53f25f9b68bb",
   "metadata": {},
   "source": [
    "Посмотрим, есть ли модели, которые по ошибке назвали F классом."
   ]
  },
  {
   "cell_type": "code",
   "execution_count": 242,
   "id": "eea7e6bc-dc0f-4da4-b4b0-287ca3337f5f",
   "metadata": {},
   "outputs": [
    {
     "data": {
      "text/html": [
       "<div>\n",
       "<style scoped>\n",
       "    .dataframe tbody tr th:only-of-type {\n",
       "        vertical-align: middle;\n",
       "    }\n",
       "\n",
       "    .dataframe tbody tr th {\n",
       "        vertical-align: top;\n",
       "    }\n",
       "\n",
       "    .dataframe thead th {\n",
       "        text-align: right;\n",
       "    }\n",
       "</style>\n",
       "<table border=\"1\" class=\"dataframe\">\n",
       "  <thead>\n",
       "    <tr style=\"text-align: right;\">\n",
       "      <th></th>\n",
       "      <th>brand</th>\n",
       "      <th>model</th>\n",
       "      <th>cnt</th>\n",
       "    </tr>\n",
       "  </thead>\n",
       "  <tbody>\n",
       "  </tbody>\n",
       "</table>\n",
       "</div>"
      ],
      "text/plain": [
       "Empty DataFrame\n",
       "Columns: [brand, model, cnt]\n",
       "Index: []"
      ]
     },
     "execution_count": 242,
     "metadata": {},
     "output_type": "execute_result"
    }
   ],
   "source": [
    "df.loc[(df['car_classification'] == 'F класс') & ~(df['model'].isin(f_class)), ['brand', 'model']].value_counts()\\\n",
    "                                                                                                  .reset_index()\\\n",
    "                                                                                                  .rename(columns={0: 'cnt'})"
   ]
  },
  {
   "cell_type": "markdown",
   "id": "89b2acac-44e0-4517-8ee8-a75136b96c66",
   "metadata": {},
   "source": [
    "Таких моделей нет."
   ]
  },
  {
   "cell_type": "markdown",
   "id": "3471c2f7-07ce-424f-9591-eaa77aab72b8",
   "metadata": {},
   "source": [
    "Переименуем название класса.\\\n",
    "Зафиксируем название до и после переименования."
   ]
  },
  {
   "cell_type": "code",
   "execution_count": 243,
   "id": "c2c614ec-e2bd-4687-82fd-c557702c991d",
   "metadata": {},
   "outputs": [
    {
     "name": "stdout",
     "output_type": "stream",
     "text": [
      "Было: F класс\n"
     ]
    }
   ],
   "source": [
    "print(f\"Было: {df.loc[df['model'].isin(f_class), 'car_classification'].unique()[0]}\")"
   ]
  },
  {
   "cell_type": "code",
   "execution_count": 244,
   "id": "e357718a-6073-4bb9-8902-a9304338e4cf",
   "metadata": {},
   "outputs": [],
   "source": [
    "# F класс > F\n",
    "df.loc[df['model'].isin(f_class), 'car_classification'] = 'F'"
   ]
  },
  {
   "cell_type": "code",
   "execution_count": 245,
   "id": "b49dcd37-cafc-4db5-8529-406a5fa2464a",
   "metadata": {},
   "outputs": [
    {
     "name": "stdout",
     "output_type": "stream",
     "text": [
      "Стало: F\n"
     ]
    }
   ],
   "source": [
    "print(f\"Стало: {df.loc[df['model'].isin(f_class), 'car_classification'].unique()[0]}\")"
   ]
  },
  {
   "cell_type": "markdown",
   "id": "bc67ac8a-5d82-4d73-86d2-0888e814372d",
   "metadata": {},
   "source": [
    "<br>"
   ]
  },
  {
   "cell_type": "markdown",
   "id": "2f06f8fc-b1e0-4b39-9fd7-582ae83c80c5",
   "metadata": {},
   "source": [
    "##### `S класс`"
   ]
  },
  {
   "cell_type": "markdown",
   "id": "dad59596-5edc-49ff-be00-56ba3a7455a3",
   "metadata": {},
   "source": [
    "S класс — в колонке `car_classification` это `спортивные автомобили`.\\\n",
    "Это действительно спортивные автомобили: купе, кабриолеты."
   ]
  },
  {
   "cell_type": "code",
   "execution_count": 246,
   "id": "d1b9f22f-06a4-4d91-a69f-99f166185151",
   "metadata": {},
   "outputs": [],
   "source": [
    "# S класс\n",
    "s_class = ['RS5', '6 серия', '8 серия', 'i8', 'Z4', 'Camaro', 'F-Type', '911 Carrera S']"
   ]
  },
  {
   "cell_type": "markdown",
   "id": "37505d4b-8ead-428e-a05c-bc013f3f5555",
   "metadata": {},
   "source": [
    "Проверка, не совершил ли я опечатку в списке."
   ]
  },
  {
   "cell_type": "code",
   "execution_count": 247,
   "id": "521e0409-1fbb-4220-9981-9461e6bc7d89",
   "metadata": {},
   "outputs": [
    {
     "name": "stdout",
     "output_type": "stream",
     "text": [
      "Опечаток нет, все модели из переменной s_class есть в колонке 'model'.\n"
     ]
    }
   ],
   "source": [
    "# флаг\n",
    "all_present = True\n",
    "\n",
    "for model in s_class:\n",
    "    if model not in df['model'].unique():\n",
    "        print(f\"Опечатка. Модель {model} отсутствует в колонке 'model'.\")\n",
    "        all_present = False\n",
    "\n",
    "if all_present == True:\n",
    "    print(f\"Опечаток нет, все модели из переменной s_class есть в колонке 'model'.\")"
   ]
  },
  {
   "cell_type": "markdown",
   "id": "39ca8440-abce-4a5e-a6f2-245b21731894",
   "metadata": {},
   "source": [
    "Посмотрим, все ли модели из списка являются S классом в датасете."
   ]
  },
  {
   "cell_type": "code",
   "execution_count": 248,
   "id": "1c8e2d50-15a5-4ace-ad53-08704e7a6256",
   "metadata": {},
   "outputs": [
    {
     "data": {
      "text/html": [
       "<div>\n",
       "<style scoped>\n",
       "    .dataframe tbody tr th:only-of-type {\n",
       "        vertical-align: middle;\n",
       "    }\n",
       "\n",
       "    .dataframe tbody tr th {\n",
       "        vertical-align: top;\n",
       "    }\n",
       "\n",
       "    .dataframe thead th {\n",
       "        text-align: right;\n",
       "    }\n",
       "</style>\n",
       "<table border=\"1\" class=\"dataframe\">\n",
       "  <thead>\n",
       "    <tr style=\"text-align: right;\">\n",
       "      <th></th>\n",
       "      <th>class</th>\n",
       "      <th>cnt</th>\n",
       "    </tr>\n",
       "  </thead>\n",
       "  <tbody>\n",
       "    <tr>\n",
       "      <th>0</th>\n",
       "      <td>Спортивные автомобили</td>\n",
       "      <td>10</td>\n",
       "    </tr>\n",
       "  </tbody>\n",
       "</table>\n",
       "</div>"
      ],
      "text/plain": [
       "                   class  cnt\n",
       "0  Спортивные автомобили   10"
      ]
     },
     "execution_count": 248,
     "metadata": {},
     "output_type": "execute_result"
    }
   ],
   "source": [
    "# распределение значений классификаций авто, по моделям из списка \n",
    "df.loc[df['model'].isin(s_class), 'car_classification'].value_counts()\\\n",
    "                                                       .reset_index()\\\n",
    "                                                       .rename(columns={'index': 'class',\n",
    "                                                                        'car_classification': 'cnt'})"
   ]
  },
  {
   "cell_type": "markdown",
   "id": "ec2c4b5f-ccb4-4b29-99e5-ccdd4b178ef9",
   "metadata": {},
   "source": [
    "Все автомобили — S класса."
   ]
  },
  {
   "cell_type": "markdown",
   "id": "1244eb63-4cea-47b7-9fa7-82dc30c20ced",
   "metadata": {},
   "source": [
    "Посмотрим, есть ли модели, которые по ошибке назвали S классом."
   ]
  },
  {
   "cell_type": "code",
   "execution_count": 249,
   "id": "0282d617-31bf-4aa0-abbd-324e8ec77d19",
   "metadata": {},
   "outputs": [
    {
     "data": {
      "text/html": [
       "<div>\n",
       "<style scoped>\n",
       "    .dataframe tbody tr th:only-of-type {\n",
       "        vertical-align: middle;\n",
       "    }\n",
       "\n",
       "    .dataframe tbody tr th {\n",
       "        vertical-align: top;\n",
       "    }\n",
       "\n",
       "    .dataframe thead th {\n",
       "        text-align: right;\n",
       "    }\n",
       "</style>\n",
       "<table border=\"1\" class=\"dataframe\">\n",
       "  <thead>\n",
       "    <tr style=\"text-align: right;\">\n",
       "      <th></th>\n",
       "      <th>brand</th>\n",
       "      <th>model</th>\n",
       "      <th>cnt</th>\n",
       "    </tr>\n",
       "  </thead>\n",
       "  <tbody>\n",
       "  </tbody>\n",
       "</table>\n",
       "</div>"
      ],
      "text/plain": [
       "Empty DataFrame\n",
       "Columns: [brand, model, cnt]\n",
       "Index: []"
      ]
     },
     "execution_count": 249,
     "metadata": {},
     "output_type": "execute_result"
    }
   ],
   "source": [
    "df.loc[(df['car_classification'] == 'Спортивные автомобили') & ~(df['model'].isin(s_class)), ['brand', 'model']].value_counts()\\\n",
    "                                                                                                  .reset_index()\\\n",
    "                                                                                                  .rename(columns={0: 'cnt'})"
   ]
  },
  {
   "cell_type": "markdown",
   "id": "ad71e604-6c36-4ae0-b897-309d225fcb17",
   "metadata": {},
   "source": [
    "Таких моделей нет."
   ]
  },
  {
   "cell_type": "markdown",
   "id": "d572ad5a-529b-499f-9078-3867820cb3d0",
   "metadata": {},
   "source": [
    "Переименуем название класса.\\\n",
    "Зафиксируем название до и после переименования."
   ]
  },
  {
   "cell_type": "code",
   "execution_count": 250,
   "id": "e51df68a-da21-40cc-a689-2c9898b1ba6d",
   "metadata": {},
   "outputs": [
    {
     "name": "stdout",
     "output_type": "stream",
     "text": [
      "Было: Спортивные автомобили\n"
     ]
    }
   ],
   "source": [
    "print(f\"Было: {df.loc[df['model'].isin(s_class), 'car_classification'].unique()[0]}\")"
   ]
  },
  {
   "cell_type": "code",
   "execution_count": 251,
   "id": "fc6e033d-7d0a-4bb3-816a-39c3a3bdbc27",
   "metadata": {},
   "outputs": [],
   "source": [
    "# S класс > S\n",
    "df.loc[df['model'].isin(s_class), 'car_classification'] = 'S'"
   ]
  },
  {
   "cell_type": "code",
   "execution_count": 252,
   "id": "cfd81206-7f6d-43c1-9a4a-20eb3fb7255c",
   "metadata": {},
   "outputs": [
    {
     "name": "stdout",
     "output_type": "stream",
     "text": [
      "Стало: S\n"
     ]
    }
   ],
   "source": [
    "print(f\"Стало: {df.loc[df['model'].isin(s_class), 'car_classification'].unique()[0]}\")"
   ]
  },
  {
   "cell_type": "markdown",
   "id": "fcdb1b67-457e-46d9-8273-1db41a00f0d7",
   "metadata": {},
   "source": [
    "<br>"
   ]
  },
  {
   "cell_type": "markdown",
   "id": "a0527050-3673-4eaf-b39f-92193895091c",
   "metadata": {},
   "source": [
    "##### `B-SUV класс`"
   ]
  },
  {
   "cell_type": "markdown",
   "id": "81812134-8792-489c-bbd3-868a780a0908",
   "metadata": {},
   "source": [
    "B-SUV класс — это субкомпактные кроссоверы и внедорожники."
   ]
  },
  {
   "cell_type": "code",
   "execution_count": 253,
   "id": "66c59465-a022-477b-aa8c-8a413d8338ba",
   "metadata": {},
   "outputs": [],
   "source": [
    "# B-SUV класс\n",
    "b_suv_class = ['Tracker', 'Niva', 'Creta', 'Soul', '4x4', 'X50', '3151', 'S3',\n",
    "               'Countryman', 'Juke', 'Terrano', 'Duster', 'Kaptur', 'C-HR']"
   ]
  },
  {
   "cell_type": "markdown",
   "id": "8b89e535-4d63-4901-8221-503e7cd49521",
   "metadata": {},
   "source": [
    "Проверка, не совершил ли я опечатку в списке."
   ]
  },
  {
   "cell_type": "code",
   "execution_count": 254,
   "id": "f8dc969e-a556-4236-8f58-40d87d176849",
   "metadata": {},
   "outputs": [
    {
     "name": "stdout",
     "output_type": "stream",
     "text": [
      "Опечаток нет, все модели из переменной b_suv_class есть в колонке 'model'.\n"
     ]
    }
   ],
   "source": [
    "# флаг\n",
    "all_present = True\n",
    "\n",
    "for model in b_suv_class:\n",
    "    if model not in df['model'].unique():\n",
    "        print(f\"Опечатка. Модель {model} отсутствует в колонке 'model'.\")\n",
    "        all_correct = False\n",
    "\n",
    "if all_present == True:\n",
    "    print(f\"Опечаток нет, все модели из переменной b_suv_class есть в колонке 'model'.\")"
   ]
  },
  {
   "cell_type": "markdown",
   "id": "e996de53-f4cc-4a30-af84-24e6cd431111",
   "metadata": {},
   "source": [
    "Посмотрим, все ли модели из списка являются B-SUV классом в датасете."
   ]
  },
  {
   "cell_type": "code",
   "execution_count": 255,
   "id": "cfcb5c8d-74d4-46aa-bad6-95653421e6f0",
   "metadata": {},
   "outputs": [
    {
     "data": {
      "text/html": [
       "<div>\n",
       "<style scoped>\n",
       "    .dataframe tbody tr th:only-of-type {\n",
       "        vertical-align: middle;\n",
       "    }\n",
       "\n",
       "    .dataframe tbody tr th {\n",
       "        vertical-align: top;\n",
       "    }\n",
       "\n",
       "    .dataframe thead th {\n",
       "        text-align: right;\n",
       "    }\n",
       "</style>\n",
       "<table border=\"1\" class=\"dataframe\">\n",
       "  <thead>\n",
       "    <tr style=\"text-align: right;\">\n",
       "      <th></th>\n",
       "      <th>class</th>\n",
       "      <th>cnt</th>\n",
       "    </tr>\n",
       "  </thead>\n",
       "  <tbody>\n",
       "    <tr>\n",
       "      <th>0</th>\n",
       "      <td>Субкомпактные SUV</td>\n",
       "      <td>4888</td>\n",
       "    </tr>\n",
       "    <tr>\n",
       "      <th>1</th>\n",
       "      <td>Полноразмерные SUV</td>\n",
       "      <td>327</td>\n",
       "    </tr>\n",
       "    <tr>\n",
       "      <th>2</th>\n",
       "      <td>Компактные SUV</td>\n",
       "      <td>85</td>\n",
       "    </tr>\n",
       "    <tr>\n",
       "      <th>3</th>\n",
       "      <td>Среднеразмерные SUV</td>\n",
       "      <td>46</td>\n",
       "    </tr>\n",
       "  </tbody>\n",
       "</table>\n",
       "</div>"
      ],
      "text/plain": [
       "                 class   cnt\n",
       "0    Субкомпактные SUV  4888\n",
       "1   Полноразмерные SUV   327\n",
       "2       Компактные SUV    85\n",
       "3  Среднеразмерные SUV    46"
      ]
     },
     "execution_count": 255,
     "metadata": {},
     "output_type": "execute_result"
    }
   ],
   "source": [
    "# распределение значений классификаций авто, по моделям из списка \n",
    "df.loc[df['model'].isin(b_suv_class), 'car_classification'].value_counts()\\\n",
    "                                                           .reset_index()\\\n",
    "                                                           .rename(columns={'index': 'class',\n",
    "                                                                            'car_classification': 'cnt'})"
   ]
  },
  {
   "cell_type": "markdown",
   "id": "e77c4a3f-623e-4542-a005-34ee20ad559b",
   "metadata": {},
   "source": [
    "Видим полный ассортимент различных типов.\\\n",
    "Посмотрим модели, которые не являются Субкомпактными SUV в датасете."
   ]
  },
  {
   "cell_type": "code",
   "execution_count": 256,
   "id": "6c534d37-1a55-4385-bd2f-ae8e975c21a6",
   "metadata": {},
   "outputs": [
    {
     "data": {
      "text/html": [
       "<div>\n",
       "<style scoped>\n",
       "    .dataframe tbody tr th:only-of-type {\n",
       "        vertical-align: middle;\n",
       "    }\n",
       "\n",
       "    .dataframe tbody tr th {\n",
       "        vertical-align: top;\n",
       "    }\n",
       "\n",
       "    .dataframe thead th {\n",
       "        text-align: right;\n",
       "    }\n",
       "</style>\n",
       "<table border=\"1\" class=\"dataframe\">\n",
       "  <thead>\n",
       "    <tr style=\"text-align: right;\">\n",
       "      <th></th>\n",
       "      <th>brand</th>\n",
       "      <th>model</th>\n",
       "      <th>cnt</th>\n",
       "    </tr>\n",
       "  </thead>\n",
       "  <tbody>\n",
       "    <tr>\n",
       "      <th>0</th>\n",
       "      <td>Nissan</td>\n",
       "      <td>Terrano</td>\n",
       "      <td>327</td>\n",
       "    </tr>\n",
       "    <tr>\n",
       "      <th>1</th>\n",
       "      <td>Toyota</td>\n",
       "      <td>C-HR</td>\n",
       "      <td>76</td>\n",
       "    </tr>\n",
       "    <tr>\n",
       "      <th>2</th>\n",
       "      <td>UAZ</td>\n",
       "      <td>3151</td>\n",
       "      <td>46</td>\n",
       "    </tr>\n",
       "    <tr>\n",
       "      <th>3</th>\n",
       "      <td>Mini</td>\n",
       "      <td>Countryman</td>\n",
       "      <td>9</td>\n",
       "    </tr>\n",
       "  </tbody>\n",
       "</table>\n",
       "</div>"
      ],
      "text/plain": [
       "    brand       model  cnt\n",
       "0  Nissan     Terrano  327\n",
       "1  Toyota        C-HR   76\n",
       "2     UAZ        3151   46\n",
       "3    Mini  Countryman    9"
      ]
     },
     "execution_count": 256,
     "metadata": {},
     "output_type": "execute_result"
    }
   ],
   "source": [
    "df.loc[(df['model'].isin(b_suv_class)) & ~(df['car_classification'] == 'Субкомпактные SUV'), ['brand', 'model']].value_counts()\\\n",
    "                                                                                                                .reset_index()\\\n",
    "                                                                                                                .rename(columns={0: 'cnt'})"
   ]
  },
  {
   "cell_type": "markdown",
   "id": "677ca327-e78e-4d62-a4c0-c6ef831ee912",
   "metadata": {},
   "source": [
    "Nissan Terrano здесь представлен как товарищ Cadillac Escalade, хотя это копия Renault Duster, который совсем небольшой.\\\n",
    "Toyota C-HR и Mini Countryman нужно опустить на класс ниже. Напомню, что классы обозначают размеры авто, а не их статус престижа.\\\n",
    "Уазик — это маленький внедорожник."
   ]
  },
  {
   "cell_type": "markdown",
   "id": "df078bb5-cc07-4c5f-ba09-72956ba3c9d2",
   "metadata": {},
   "source": [
    "Посмотрим, есть ли модели, которые по ошибке посчитали Субкомпактными SUV."
   ]
  },
  {
   "cell_type": "code",
   "execution_count": 257,
   "id": "694e4d69-6dbe-4f44-915d-ecddcaa22cb5",
   "metadata": {},
   "outputs": [
    {
     "data": {
      "text/html": [
       "<div>\n",
       "<style scoped>\n",
       "    .dataframe tbody tr th:only-of-type {\n",
       "        vertical-align: middle;\n",
       "    }\n",
       "\n",
       "    .dataframe tbody tr th {\n",
       "        vertical-align: top;\n",
       "    }\n",
       "\n",
       "    .dataframe thead th {\n",
       "        text-align: right;\n",
       "    }\n",
       "</style>\n",
       "<table border=\"1\" class=\"dataframe\">\n",
       "  <thead>\n",
       "    <tr style=\"text-align: right;\">\n",
       "      <th></th>\n",
       "      <th>brand</th>\n",
       "      <th>model</th>\n",
       "      <th>cnt</th>\n",
       "    </tr>\n",
       "  </thead>\n",
       "  <tbody>\n",
       "    <tr>\n",
       "      <th>0</th>\n",
       "      <td>Jac</td>\n",
       "      <td>S5</td>\n",
       "      <td>447</td>\n",
       "    </tr>\n",
       "    <tr>\n",
       "      <th>1</th>\n",
       "      <td>Lifan</td>\n",
       "      <td>X70</td>\n",
       "      <td>4</td>\n",
       "    </tr>\n",
       "  </tbody>\n",
       "</table>\n",
       "</div>"
      ],
      "text/plain": [
       "   brand model  cnt\n",
       "0    Jac    S5  447\n",
       "1  Lifan   X70    4"
      ]
     },
     "execution_count": 257,
     "metadata": {},
     "output_type": "execute_result"
    }
   ],
   "source": [
    "df.loc[(df['car_classification'] == 'Субкомпактные SUV') & ~(df['model'].isin(b_suv_class)), ['brand', 'model']].value_counts()\\\n",
    "                                                                                                                .reset_index()\\\n",
    "                                                                                                                .rename(columns={0: 'cnt'})"
   ]
  },
  {
   "cell_type": "markdown",
   "id": "6c0dbf19-c44e-43a6-a4ad-71fa73ae752a",
   "metadata": {},
   "source": [
    "Отряд китайцев тут затесался."
   ]
  },
  {
   "cell_type": "markdown",
   "id": "0e7898a7-a95b-46af-bd7e-ad790ccb7a40",
   "metadata": {},
   "source": [
    "Переименуем название класса.\\\n",
    "Зафиксируем название до и после переименования."
   ]
  },
  {
   "cell_type": "code",
   "execution_count": 258,
   "id": "5b2ec194-7c8e-46b8-929e-f2422f969aa0",
   "metadata": {},
   "outputs": [
    {
     "name": "stdout",
     "output_type": "stream",
     "text": [
      "Было: Субкомпактные SUV\n"
     ]
    }
   ],
   "source": [
    "print(f\"Было: {df.loc[df['model'].isin(b_suv_class), 'car_classification'].unique()[0]}\")"
   ]
  },
  {
   "cell_type": "code",
   "execution_count": 259,
   "id": "59fdee89-7144-45cb-ae31-881fc651a886",
   "metadata": {},
   "outputs": [],
   "source": [
    "# Субкомпактные SUV > B-SUV\n",
    "df.loc[df['model'].isin(b_suv_class), 'car_classification'] = 'B-SUV'"
   ]
  },
  {
   "cell_type": "code",
   "execution_count": 260,
   "id": "32e83e8c-8f93-4bf2-a072-f6a60604f717",
   "metadata": {},
   "outputs": [
    {
     "name": "stdout",
     "output_type": "stream",
     "text": [
      "Стало: B-SUV\n"
     ]
    }
   ],
   "source": [
    "print(f\"Стало: {df.loc[df['model'].isin(b_suv_class), 'car_classification'].unique()[0]}\")"
   ]
  },
  {
   "cell_type": "markdown",
   "id": "5df01283-f506-48b6-a2d5-89ebe7f701c1",
   "metadata": {},
   "source": [
    "<br>"
   ]
  },
  {
   "cell_type": "markdown",
   "id": "2820c1d4-4535-4861-bc6b-dd174812503d",
   "metadata": {},
   "source": [
    "##### `C-SUV класс`"
   ]
  },
  {
   "cell_type": "markdown",
   "id": "cd76d3d2-089b-42e2-a566-5124f8ec0712",
   "metadata": {},
   "source": [
    "C-SUV класс — это компактные кроссоверы и внедорожники."
   ]
  },
  {
   "cell_type": "code",
   "execution_count": 261,
   "id": "b0cb0e77-1c22-48d9-a1c5-471567a03faf",
   "metadata": {},
   "outputs": [],
   "source": [
    "# C-SUV класс\n",
    "c_suv_class = ['X1', 'X2', 'Tucson', 'S5', 'E-PACE', 'Sportage', 'Range Rover Evoque', 'UX', 'X60', 'XC40',\n",
    "               'X70', 'CX-5', 'GLA-Class', 'ASX', 'Eclipse Cross', 'Qashqai', 'Arkana', 'XV', 'RAV4', 'Tiguan']"
   ]
  },
  {
   "cell_type": "markdown",
   "id": "82688c12-6c2c-49f4-91ce-5b0f087d84de",
   "metadata": {},
   "source": [
    "Проверка, не совершил ли я опечатку в списке."
   ]
  },
  {
   "cell_type": "code",
   "execution_count": 262,
   "id": "4a922e79-bbd4-4564-9b36-e69a17ee7f6f",
   "metadata": {},
   "outputs": [
    {
     "name": "stdout",
     "output_type": "stream",
     "text": [
      "Опечаток нет, все модели из переменной c_suv_class есть в колонке 'model'.\n"
     ]
    }
   ],
   "source": [
    "# флаг\n",
    "all_present = True\n",
    "\n",
    "for model in c_suv_class:\n",
    "    if model not in df['model'].unique():\n",
    "        print(f\"Опечатка. Модель {model} отсутствует в колонке 'model'.\")\n",
    "        all_correct = False\n",
    "\n",
    "if all_present == True:\n",
    "    print(f\"Опечаток нет, все модели из переменной c_suv_class есть в колонке 'model'.\")"
   ]
  },
  {
   "cell_type": "markdown",
   "id": "ce1539f1-cb93-460b-a126-1b8aa0434904",
   "metadata": {},
   "source": [
    "Посмотрим, все ли модели из списка являются C-SUV классом в датасете."
   ]
  },
  {
   "cell_type": "code",
   "execution_count": 263,
   "id": "fd0b9e22-9c57-4fd3-a3d9-a8722c205b70",
   "metadata": {},
   "outputs": [
    {
     "data": {
      "text/html": [
       "<div>\n",
       "<style scoped>\n",
       "    .dataframe tbody tr th:only-of-type {\n",
       "        vertical-align: middle;\n",
       "    }\n",
       "\n",
       "    .dataframe tbody tr th {\n",
       "        vertical-align: top;\n",
       "    }\n",
       "\n",
       "    .dataframe thead th {\n",
       "        text-align: right;\n",
       "    }\n",
       "</style>\n",
       "<table border=\"1\" class=\"dataframe\">\n",
       "  <thead>\n",
       "    <tr style=\"text-align: right;\">\n",
       "      <th></th>\n",
       "      <th>class</th>\n",
       "      <th>cnt</th>\n",
       "    </tr>\n",
       "  </thead>\n",
       "  <tbody>\n",
       "    <tr>\n",
       "      <th>0</th>\n",
       "      <td>Компактные SUV</td>\n",
       "      <td>5572</td>\n",
       "    </tr>\n",
       "    <tr>\n",
       "      <th>1</th>\n",
       "      <td>Субкомпактные SUV</td>\n",
       "      <td>451</td>\n",
       "    </tr>\n",
       "    <tr>\n",
       "      <th>2</th>\n",
       "      <td>Среднеразмерные SUV</td>\n",
       "      <td>25</td>\n",
       "    </tr>\n",
       "  </tbody>\n",
       "</table>\n",
       "</div>"
      ],
      "text/plain": [
       "                 class   cnt\n",
       "0       Компактные SUV  5572\n",
       "1    Субкомпактные SUV   451\n",
       "2  Среднеразмерные SUV    25"
      ]
     },
     "execution_count": 263,
     "metadata": {},
     "output_type": "execute_result"
    }
   ],
   "source": [
    "# распределение значений классификаций авто, по моделям из списка \n",
    "df.loc[df['model'].isin(c_suv_class), 'car_classification'].value_counts()\\\n",
    "                                                           .reset_index()\\\n",
    "                                                           .rename(columns={'index': 'class',\n",
    "                                                                            'car_classification': 'cnt'})"
   ]
  },
  {
   "cell_type": "markdown",
   "id": "fcb34a1e-aeb2-485f-9702-081a4a7ca68f",
   "metadata": {},
   "source": [
    "Здесь есть как B-SUV, так и D-SUV.\\\n",
    "Посмотрим модели, которые не являются Компактными SUV в датасете."
   ]
  },
  {
   "cell_type": "code",
   "execution_count": 264,
   "id": "2cd31b37-fa9f-4cc2-826a-56a82266a47d",
   "metadata": {},
   "outputs": [
    {
     "data": {
      "text/html": [
       "<div>\n",
       "<style scoped>\n",
       "    .dataframe tbody tr th:only-of-type {\n",
       "        vertical-align: middle;\n",
       "    }\n",
       "\n",
       "    .dataframe tbody tr th {\n",
       "        vertical-align: top;\n",
       "    }\n",
       "\n",
       "    .dataframe thead th {\n",
       "        text-align: right;\n",
       "    }\n",
       "</style>\n",
       "<table border=\"1\" class=\"dataframe\">\n",
       "  <thead>\n",
       "    <tr style=\"text-align: right;\">\n",
       "      <th></th>\n",
       "      <th>brand</th>\n",
       "      <th>model</th>\n",
       "      <th>cnt</th>\n",
       "    </tr>\n",
       "  </thead>\n",
       "  <tbody>\n",
       "    <tr>\n",
       "      <th>0</th>\n",
       "      <td>Jac</td>\n",
       "      <td>S5</td>\n",
       "      <td>447</td>\n",
       "    </tr>\n",
       "    <tr>\n",
       "      <th>1</th>\n",
       "      <td>Lexus</td>\n",
       "      <td>UX</td>\n",
       "      <td>25</td>\n",
       "    </tr>\n",
       "    <tr>\n",
       "      <th>2</th>\n",
       "      <td>Lifan</td>\n",
       "      <td>X70</td>\n",
       "      <td>4</td>\n",
       "    </tr>\n",
       "  </tbody>\n",
       "</table>\n",
       "</div>"
      ],
      "text/plain": [
       "   brand model  cnt\n",
       "0    Jac    S5  447\n",
       "1  Lexus    UX   25\n",
       "2  Lifan   X70    4"
      ]
     },
     "execution_count": 264,
     "metadata": {},
     "output_type": "execute_result"
    }
   ],
   "source": [
    "df.loc[(df['model'].isin(c_suv_class)) & ~(df['car_classification'] == 'Компактные SUV'), ['brand', 'model']].value_counts()\\\n",
    "                                                                                                             .reset_index()\\\n",
    "                                                                                                             .rename(columns={0: 'cnt'})"
   ]
  },
  {
   "cell_type": "markdown",
   "id": "915e2bb4-3c06-46e7-872e-266e1bee927e",
   "metadata": {},
   "source": [
    "2 китайца и 1 японец."
   ]
  },
  {
   "cell_type": "markdown",
   "id": "d337935e-f569-4ea2-ad93-39ad6215abea",
   "metadata": {},
   "source": [
    "Посмотрим, есть ли модели, которые по ошибке посчитали компактными SUV."
   ]
  },
  {
   "cell_type": "code",
   "execution_count": 265,
   "id": "e8284a2a-07df-4477-b43d-0e8083d7b57f",
   "metadata": {},
   "outputs": [
    {
     "data": {
      "text/html": [
       "<div>\n",
       "<style scoped>\n",
       "    .dataframe tbody tr th:only-of-type {\n",
       "        vertical-align: middle;\n",
       "    }\n",
       "\n",
       "    .dataframe tbody tr th {\n",
       "        vertical-align: top;\n",
       "    }\n",
       "\n",
       "    .dataframe thead th {\n",
       "        text-align: right;\n",
       "    }\n",
       "</style>\n",
       "<table border=\"1\" class=\"dataframe\">\n",
       "  <thead>\n",
       "    <tr style=\"text-align: right;\">\n",
       "      <th></th>\n",
       "      <th>brand</th>\n",
       "      <th>model</th>\n",
       "      <th>cnt</th>\n",
       "    </tr>\n",
       "  </thead>\n",
       "  <tbody>\n",
       "    <tr>\n",
       "      <th>0</th>\n",
       "      <td>Subaru</td>\n",
       "      <td>Forester</td>\n",
       "      <td>291</td>\n",
       "    </tr>\n",
       "    <tr>\n",
       "      <th>1</th>\n",
       "      <td>Nissan</td>\n",
       "      <td>X-Trail</td>\n",
       "      <td>280</td>\n",
       "    </tr>\n",
       "    <tr>\n",
       "      <th>2</th>\n",
       "      <td>Mitsubishi</td>\n",
       "      <td>Outlander</td>\n",
       "      <td>265</td>\n",
       "    </tr>\n",
       "    <tr>\n",
       "      <th>3</th>\n",
       "      <td>Jac</td>\n",
       "      <td>T6</td>\n",
       "      <td>64</td>\n",
       "    </tr>\n",
       "    <tr>\n",
       "      <th>4</th>\n",
       "      <td>Chevrolet</td>\n",
       "      <td>Captiva</td>\n",
       "      <td>30</td>\n",
       "    </tr>\n",
       "    <tr>\n",
       "      <th>5</th>\n",
       "      <td>Jaguar</td>\n",
       "      <td>I-Pace</td>\n",
       "      <td>4</td>\n",
       "    </tr>\n",
       "    <tr>\n",
       "      <th>6</th>\n",
       "      <td>Jac</td>\n",
       "      <td>S7</td>\n",
       "      <td>1</td>\n",
       "    </tr>\n",
       "    <tr>\n",
       "      <th>7</th>\n",
       "      <td>Renault</td>\n",
       "      <td>Koleos</td>\n",
       "      <td>1</td>\n",
       "    </tr>\n",
       "  </tbody>\n",
       "</table>\n",
       "</div>"
      ],
      "text/plain": [
       "        brand      model  cnt\n",
       "0      Subaru   Forester  291\n",
       "1      Nissan    X-Trail  280\n",
       "2  Mitsubishi  Outlander  265\n",
       "3         Jac         T6   64\n",
       "4   Chevrolet    Captiva   30\n",
       "5      Jaguar     I-Pace    4\n",
       "6         Jac         S7    1\n",
       "7     Renault     Koleos    1"
      ]
     },
     "execution_count": 265,
     "metadata": {},
     "output_type": "execute_result"
    }
   ],
   "source": [
    "df.loc[(df['car_classification'] == 'Компактные SUV') & ~(df['model'].isin(c_suv_class)), ['brand', 'model']].value_counts()\\\n",
    "                                                                                                             .reset_index()\\\n",
    "                                                                                                             .rename(columns={0: 'cnt'})"
   ]
  },
  {
   "cell_type": "markdown",
   "id": "f6279c00-8e07-46d6-bae3-2af93d10b9af",
   "metadata": {},
   "source": [
    "Здесь все представители D-SUV класса, подсказывает `auto.ru`"
   ]
  },
  {
   "cell_type": "markdown",
   "id": "ecbef657-ec3d-4460-af1f-5529ee1d23ce",
   "metadata": {},
   "source": [
    "Переименуем название класса.\\\n",
    "Зафиксируем название до и после переименования."
   ]
  },
  {
   "cell_type": "code",
   "execution_count": 266,
   "id": "1841468e-8621-49b1-af01-0ffa630341bb",
   "metadata": {},
   "outputs": [
    {
     "name": "stdout",
     "output_type": "stream",
     "text": [
      "Было: Компактные SUV\n"
     ]
    }
   ],
   "source": [
    "print(f\"Было: {df.loc[df['model'].isin(c_suv_class), 'car_classification'].unique()[0]}\")"
   ]
  },
  {
   "cell_type": "code",
   "execution_count": 267,
   "id": "eaf0a7b0-721a-4550-9674-a7e35f9d561e",
   "metadata": {},
   "outputs": [],
   "source": [
    "# Компактные SUV > C-SUV\n",
    "df.loc[df['model'].isin(c_suv_class), 'car_classification'] = 'C-SUV'"
   ]
  },
  {
   "cell_type": "code",
   "execution_count": 268,
   "id": "6301db8a-9c05-4bbd-ba52-7ec5f399d929",
   "metadata": {},
   "outputs": [
    {
     "name": "stdout",
     "output_type": "stream",
     "text": [
      "Стало: C-SUV\n"
     ]
    }
   ],
   "source": [
    "print(f\"Стало: {df.loc[df['model'].isin(c_suv_class), 'car_classification'].unique()[0]}\")"
   ]
  },
  {
   "cell_type": "markdown",
   "id": "b4cdd377-94f9-46d5-b86a-d8ded886c080",
   "metadata": {},
   "source": [
    "<br>"
   ]
  },
  {
   "cell_type": "markdown",
   "id": "3a928cec-41ac-446c-96bd-29d90b8477ea",
   "metadata": {},
   "source": [
    "##### `D-SUV класс`"
   ]
  },
  {
   "cell_type": "markdown",
   "id": "a1564791-9e10-411e-b8f7-0a57afd30007",
   "metadata": {},
   "source": [
    "D-SUV класс — это среднеразмерные кроссоверы и внедорожники."
   ]
  },
  {
   "cell_type": "code",
   "execution_count": 269,
   "id": "7f5cca74-2237-4a8d-b652-577499d16469",
   "metadata": {},
   "outputs": [],
   "source": [
    "# D-SUV класс\n",
    "d_suv_class = ['Q5', 'X3', 'X4', 'XT5', 'Captiva', 'Santa Fe', 'QX50', 'S7', 'F-Pace', 'I-Pace', 'Sorento', \n",
    "               'Discovery Sport', 'Koleos', 'Kodiaq', 'Forester', 'Range Rover Velar', 'Range Rover Sport',\n",
    "               'NX', 'GLC-Class', 'GLC Coupe', 'Outlander', 'Pajero Sport', 'X-Trail', 'Macan', 'Patriot', 'XC60']"
   ]
  },
  {
   "cell_type": "markdown",
   "id": "3867691a-3ea8-4109-a920-8dd12ba1e9b1",
   "metadata": {},
   "source": [
    "Проверка, не совершил ли я опечатку в списке."
   ]
  },
  {
   "cell_type": "code",
   "execution_count": 270,
   "id": "2635c1da-0afa-40d5-b32f-e77a524a4c67",
   "metadata": {},
   "outputs": [
    {
     "name": "stdout",
     "output_type": "stream",
     "text": [
      "Опечаток нет, все модели из переменной d_suv_class есть в колонке 'model'.\n"
     ]
    }
   ],
   "source": [
    "# флаг\n",
    "all_present = True\n",
    "\n",
    "for model in d_suv_class:\n",
    "    if model not in df['model'].unique():\n",
    "        print(f\"Опечатка. Модель {model} отсутствует в колонке 'model'.\")\n",
    "        all_correct = False\n",
    "\n",
    "if all_present == True:\n",
    "    print(f\"Опечаток нет, все модели из переменной d_suv_class есть в колонке 'model'.\")"
   ]
  },
  {
   "cell_type": "markdown",
   "id": "433084c1-b4cc-4449-b1cd-9fea26e04413",
   "metadata": {},
   "source": [
    "Посмотрим, все ли модели из списка являются D-SUV классом в датасете."
   ]
  },
  {
   "cell_type": "code",
   "execution_count": 271,
   "id": "be19d203-2b29-45a0-aa52-92df678d9e24",
   "metadata": {},
   "outputs": [
    {
     "data": {
      "text/html": [
       "<div>\n",
       "<style scoped>\n",
       "    .dataframe tbody tr th:only-of-type {\n",
       "        vertical-align: middle;\n",
       "    }\n",
       "\n",
       "    .dataframe tbody tr th {\n",
       "        vertical-align: top;\n",
       "    }\n",
       "\n",
       "    .dataframe thead th {\n",
       "        text-align: right;\n",
       "    }\n",
       "</style>\n",
       "<table border=\"1\" class=\"dataframe\">\n",
       "  <thead>\n",
       "    <tr style=\"text-align: right;\">\n",
       "      <th></th>\n",
       "      <th>class</th>\n",
       "      <th>cnt</th>\n",
       "    </tr>\n",
       "  </thead>\n",
       "  <tbody>\n",
       "    <tr>\n",
       "      <th>0</th>\n",
       "      <td>Среднеразмерные SUV</td>\n",
       "      <td>1493</td>\n",
       "    </tr>\n",
       "    <tr>\n",
       "      <th>1</th>\n",
       "      <td>Компактные SUV</td>\n",
       "      <td>872</td>\n",
       "    </tr>\n",
       "    <tr>\n",
       "      <th>2</th>\n",
       "      <td>Полноразмерные SUV</td>\n",
       "      <td>87</td>\n",
       "    </tr>\n",
       "  </tbody>\n",
       "</table>\n",
       "</div>"
      ],
      "text/plain": [
       "                 class   cnt\n",
       "0  Среднеразмерные SUV  1493\n",
       "1       Компактные SUV   872\n",
       "2   Полноразмерные SUV    87"
      ]
     },
     "execution_count": 271,
     "metadata": {},
     "output_type": "execute_result"
    }
   ],
   "source": [
    "# распределение значений классификаций авто, по моделям из списка \n",
    "df.loc[df['model'].isin(d_suv_class), 'car_classification'].value_counts()\\\n",
    "                                                           .reset_index()\\\n",
    "                                                           .rename(columns={'index': 'class',\n",
    "                                                                            'car_classification': 'cnt'})"
   ]
  },
  {
   "cell_type": "markdown",
   "id": "fe766002-347f-4581-8749-13baa7ffb3db",
   "metadata": {},
   "source": [
    "Здесь есть как C-SUV, так и E/F-SUV.\n",
    "\n",
    "Посмотрим модели, которые не являются среднеразмерными SUV в датасете, а должны являться таковыми."
   ]
  },
  {
   "cell_type": "code",
   "execution_count": 272,
   "id": "ef19348f-6a92-4b8a-9987-6301a217f67e",
   "metadata": {},
   "outputs": [
    {
     "data": {
      "text/html": [
       "<div>\n",
       "<style scoped>\n",
       "    .dataframe tbody tr th:only-of-type {\n",
       "        vertical-align: middle;\n",
       "    }\n",
       "\n",
       "    .dataframe tbody tr th {\n",
       "        vertical-align: top;\n",
       "    }\n",
       "\n",
       "    .dataframe thead th {\n",
       "        text-align: right;\n",
       "    }\n",
       "</style>\n",
       "<table border=\"1\" class=\"dataframe\">\n",
       "  <thead>\n",
       "    <tr style=\"text-align: right;\">\n",
       "      <th></th>\n",
       "      <th>brand</th>\n",
       "      <th>model</th>\n",
       "      <th>cnt</th>\n",
       "    </tr>\n",
       "  </thead>\n",
       "  <tbody>\n",
       "    <tr>\n",
       "      <th>0</th>\n",
       "      <td>Subaru</td>\n",
       "      <td>Forester</td>\n",
       "      <td>291</td>\n",
       "    </tr>\n",
       "    <tr>\n",
       "      <th>1</th>\n",
       "      <td>Nissan</td>\n",
       "      <td>X-Trail</td>\n",
       "      <td>280</td>\n",
       "    </tr>\n",
       "    <tr>\n",
       "      <th>2</th>\n",
       "      <td>Mitsubishi</td>\n",
       "      <td>Outlander</td>\n",
       "      <td>265</td>\n",
       "    </tr>\n",
       "    <tr>\n",
       "      <th>3</th>\n",
       "      <td>Skoda</td>\n",
       "      <td>Kodiaq</td>\n",
       "      <td>72</td>\n",
       "    </tr>\n",
       "    <tr>\n",
       "      <th>4</th>\n",
       "      <td>Chevrolet</td>\n",
       "      <td>Captiva</td>\n",
       "      <td>30</td>\n",
       "    </tr>\n",
       "    <tr>\n",
       "      <th>5</th>\n",
       "      <td>Porsche</td>\n",
       "      <td>Macan</td>\n",
       "      <td>15</td>\n",
       "    </tr>\n",
       "    <tr>\n",
       "      <th>6</th>\n",
       "      <td>Jaguar</td>\n",
       "      <td>I-Pace</td>\n",
       "      <td>4</td>\n",
       "    </tr>\n",
       "    <tr>\n",
       "      <th>7</th>\n",
       "      <td>Jac</td>\n",
       "      <td>S7</td>\n",
       "      <td>1</td>\n",
       "    </tr>\n",
       "    <tr>\n",
       "      <th>8</th>\n",
       "      <td>Renault</td>\n",
       "      <td>Koleos</td>\n",
       "      <td>1</td>\n",
       "    </tr>\n",
       "  </tbody>\n",
       "</table>\n",
       "</div>"
      ],
      "text/plain": [
       "        brand      model  cnt\n",
       "0      Subaru   Forester  291\n",
       "1      Nissan    X-Trail  280\n",
       "2  Mitsubishi  Outlander  265\n",
       "3       Skoda     Kodiaq   72\n",
       "4   Chevrolet    Captiva   30\n",
       "5     Porsche      Macan   15\n",
       "6      Jaguar     I-Pace    4\n",
       "7         Jac         S7    1\n",
       "8     Renault     Koleos    1"
      ]
     },
     "execution_count": 272,
     "metadata": {},
     "output_type": "execute_result"
    }
   ],
   "source": [
    "df.loc[(df['model'].isin(d_suv_class)) & ~(df['car_classification'] == 'Среднеразмерные SUV'), ['brand', 'model']].value_counts()\\\n",
    "                                                                                                                  .reset_index()\\\n",
    "                                                                                                                  .rename(columns={0: 'cnt'})"
   ]
  },
  {
   "cell_type": "markdown",
   "id": "3f0e2ac9-c2a6-4d88-b327-f13b6162d7b1",
   "metadata": {},
   "source": [
    "Целая вереница несостыковок."
   ]
  },
  {
   "cell_type": "markdown",
   "id": "2097d608-9a53-4f2e-84a7-40040afb229c",
   "metadata": {},
   "source": [
    "Посмотрим, есть ли модели, которые по ошибке посчитали среднеразмерными SUV."
   ]
  },
  {
   "cell_type": "code",
   "execution_count": 273,
   "id": "feacdd7d-1099-409e-9a3d-10c7523386b5",
   "metadata": {},
   "outputs": [
    {
     "data": {
      "text/html": [
       "<div>\n",
       "<style scoped>\n",
       "    .dataframe tbody tr th:only-of-type {\n",
       "        vertical-align: middle;\n",
       "    }\n",
       "\n",
       "    .dataframe tbody tr th {\n",
       "        vertical-align: top;\n",
       "    }\n",
       "\n",
       "    .dataframe thead th {\n",
       "        text-align: right;\n",
       "    }\n",
       "</style>\n",
       "<table border=\"1\" class=\"dataframe\">\n",
       "  <thead>\n",
       "    <tr style=\"text-align: right;\">\n",
       "      <th></th>\n",
       "      <th>brand</th>\n",
       "      <th>model</th>\n",
       "      <th>cnt</th>\n",
       "    </tr>\n",
       "  </thead>\n",
       "  <tbody>\n",
       "    <tr>\n",
       "      <th>0</th>\n",
       "      <td>Toyota</td>\n",
       "      <td>LC Prado</td>\n",
       "      <td>1711</td>\n",
       "    </tr>\n",
       "    <tr>\n",
       "      <th>1</th>\n",
       "      <td>Lexus</td>\n",
       "      <td>RX</td>\n",
       "      <td>442</td>\n",
       "    </tr>\n",
       "    <tr>\n",
       "      <th>2</th>\n",
       "      <td>Toyota</td>\n",
       "      <td>HIGHLANDER</td>\n",
       "      <td>197</td>\n",
       "    </tr>\n",
       "    <tr>\n",
       "      <th>3</th>\n",
       "      <td>Nissan</td>\n",
       "      <td>Murano</td>\n",
       "      <td>23</td>\n",
       "    </tr>\n",
       "    <tr>\n",
       "      <th>4</th>\n",
       "      <td>Chevrolet</td>\n",
       "      <td>Tahoe</td>\n",
       "      <td>20</td>\n",
       "    </tr>\n",
       "    <tr>\n",
       "      <th>5</th>\n",
       "      <td>Infiniti</td>\n",
       "      <td>QX60</td>\n",
       "      <td>14</td>\n",
       "    </tr>\n",
       "    <tr>\n",
       "      <th>6</th>\n",
       "      <td>Land Rover</td>\n",
       "      <td>Discovery</td>\n",
       "      <td>7</td>\n",
       "    </tr>\n",
       "    <tr>\n",
       "      <th>7</th>\n",
       "      <td>Mitsubishi</td>\n",
       "      <td>Pajero IV</td>\n",
       "      <td>7</td>\n",
       "    </tr>\n",
       "    <tr>\n",
       "      <th>8</th>\n",
       "      <td>Volkswagen</td>\n",
       "      <td>Touareg</td>\n",
       "      <td>7</td>\n",
       "    </tr>\n",
       "    <tr>\n",
       "      <th>9</th>\n",
       "      <td>Lexus</td>\n",
       "      <td>RXH</td>\n",
       "      <td>2</td>\n",
       "    </tr>\n",
       "  </tbody>\n",
       "</table>\n",
       "</div>"
      ],
      "text/plain": [
       "        brand       model   cnt\n",
       "0      Toyota    LC Prado  1711\n",
       "1       Lexus          RX   442\n",
       "2      Toyota  HIGHLANDER   197\n",
       "3      Nissan      Murano    23\n",
       "4   Chevrolet       Tahoe    20\n",
       "5    Infiniti        QX60    14\n",
       "6  Land Rover   Discovery     7\n",
       "7  Mitsubishi   Pajero IV     7\n",
       "8  Volkswagen     Touareg     7\n",
       "9       Lexus         RXH     2"
      ]
     },
     "execution_count": 273,
     "metadata": {},
     "output_type": "execute_result"
    }
   ],
   "source": [
    "df.loc[(df['car_classification'] == 'Среднеразмерные SUV') & ~(df['model'].isin(d_suv_class)), ['brand', 'model']].value_counts()\\\n",
    "                                                                                                                  .reset_index()\\\n",
    "                                                                                                                  .rename(columns={0: 'cnt'})"
   ]
  },
  {
   "cell_type": "markdown",
   "id": "135c880c-b1e6-4672-8b89-46b296aaa4ae",
   "metadata": {},
   "source": [
    "Ошибок много."
   ]
  },
  {
   "cell_type": "markdown",
   "id": "8c3caf47-88c9-424f-b865-453a4a898432",
   "metadata": {},
   "source": [
    "Переименуем название класса.\\\n",
    "Зафиксируем название до и после переименования."
   ]
  },
  {
   "cell_type": "code",
   "execution_count": 274,
   "id": "0ef1f1a2-30a7-47de-a184-807e4f3d0645",
   "metadata": {},
   "outputs": [
    {
     "name": "stdout",
     "output_type": "stream",
     "text": [
      "Было: Среднеразмерные SUV\n"
     ]
    }
   ],
   "source": [
    "print(f\"Было: {df.loc[df['model'].isin(d_suv_class), 'car_classification'].unique()[0]}\")"
   ]
  },
  {
   "cell_type": "code",
   "execution_count": 275,
   "id": "3e3e5881-a417-43cf-b70c-55e1401889b1",
   "metadata": {},
   "outputs": [],
   "source": [
    "# Среднеразмерные SUV > D-SUV\n",
    "df.loc[df['model'].isin(d_suv_class), 'car_classification'] = 'D-SUV'"
   ]
  },
  {
   "cell_type": "code",
   "execution_count": 276,
   "id": "72ebd82f-458d-4ef0-ba60-be4916109bb5",
   "metadata": {},
   "outputs": [
    {
     "name": "stdout",
     "output_type": "stream",
     "text": [
      "Стало: D-SUV\n"
     ]
    }
   ],
   "source": [
    "print(f\"Стало: {df.loc[df['model'].isin(d_suv_class), 'car_classification'].unique()[0]}\")"
   ]
  },
  {
   "cell_type": "markdown",
   "id": "7f94ecab-ed0a-40f2-bc09-7970388929fb",
   "metadata": {},
   "source": [
    "<br>"
   ]
  },
  {
   "cell_type": "markdown",
   "id": "031cdec0-0a15-4318-a0fe-5cde24102570",
   "metadata": {},
   "source": [
    "##### `E-SUV класс`"
   ]
  },
  {
   "cell_type": "markdown",
   "id": "76f5efb9-2923-4f4a-9124-1130980cbf9e",
   "metadata": {},
   "source": [
    "E-SUV класс — это полноразмерные кроссоверы и внедорожники."
   ]
  },
  {
   "cell_type": "code",
   "execution_count": 277,
   "id": "3316f8fa-9a6f-4b5d-be66-6f582c7bfbeb",
   "metadata": {},
   "outputs": [],
   "source": [
    "# E-SUV класс\n",
    "e_suv_class = ['Q7', 'Q8', 'X5', 'X6', 'QX60', 'Discovery', 'GX', 'RX', 'RXH', 'CX-9', 'GLE-Class', 'G-Class',\n",
    "               'GLE Coupe', 'Pajero IV', 'Murano', 'Cayenne', 'HIGHLANDER', 'LC Prado', 'Touareg', 'Teramont', 'XC90']"
   ]
  },
  {
   "cell_type": "markdown",
   "id": "1d3176fc-78f9-48e2-986c-f14ecb7312a0",
   "metadata": {},
   "source": [
    "Проверка, не совершил ли я опечатку в списке."
   ]
  },
  {
   "cell_type": "code",
   "execution_count": 278,
   "id": "a60c49ce-6669-40bf-a82d-0471c522cb6b",
   "metadata": {},
   "outputs": [
    {
     "name": "stdout",
     "output_type": "stream",
     "text": [
      "Опечаток нет, все модели из переменной e_suv_class есть в колонке 'model'.\n"
     ]
    }
   ],
   "source": [
    "# флаг\n",
    "all_present = True\n",
    "\n",
    "for model in e_suv_class:\n",
    "    if model not in df['model'].unique():\n",
    "        print(f\"Опечатка. Модель {model} отсутствует в колонке 'model'.\")\n",
    "        all_correct = False\n",
    "\n",
    "if all_present == True:\n",
    "    print(f\"Опечаток нет, все модели из переменной e_suv_class есть в колонке 'model'.\")"
   ]
  },
  {
   "cell_type": "markdown",
   "id": "4c198e2d-5a59-4787-a5ef-1e604d4df188",
   "metadata": {},
   "source": [
    "Посмотрим, все ли модели из списка являются E-SUV классом в датасете."
   ]
  },
  {
   "cell_type": "code",
   "execution_count": 279,
   "id": "e0225865-5d4a-4c12-bac9-9f896d4ea92b",
   "metadata": {},
   "outputs": [
    {
     "data": {
      "text/html": [
       "<div>\n",
       "<style scoped>\n",
       "    .dataframe tbody tr th:only-of-type {\n",
       "        vertical-align: middle;\n",
       "    }\n",
       "\n",
       "    .dataframe tbody tr th {\n",
       "        vertical-align: top;\n",
       "    }\n",
       "\n",
       "    .dataframe thead th {\n",
       "        text-align: right;\n",
       "    }\n",
       "</style>\n",
       "<table border=\"1\" class=\"dataframe\">\n",
       "  <thead>\n",
       "    <tr style=\"text-align: right;\">\n",
       "      <th></th>\n",
       "      <th>class</th>\n",
       "      <th>cnt</th>\n",
       "    </tr>\n",
       "  </thead>\n",
       "  <tbody>\n",
       "    <tr>\n",
       "      <th>0</th>\n",
       "      <td>Среднеразмерные SUV</td>\n",
       "      <td>2410</td>\n",
       "    </tr>\n",
       "    <tr>\n",
       "      <th>1</th>\n",
       "      <td>Полноразмерные SUV</td>\n",
       "      <td>234</td>\n",
       "    </tr>\n",
       "  </tbody>\n",
       "</table>\n",
       "</div>"
      ],
      "text/plain": [
       "                 class   cnt\n",
       "0  Среднеразмерные SUV  2410\n",
       "1   Полноразмерные SUV   234"
      ]
     },
     "execution_count": 279,
     "metadata": {},
     "output_type": "execute_result"
    }
   ],
   "source": [
    "# распределение значений классификаций авто, по моделям из списка \n",
    "df.loc[df['model'].isin(e_suv_class), 'car_classification'].value_counts()\\\n",
    "                                                           .reset_index()\\\n",
    "                                                           .rename(columns={'index': 'class',\n",
    "                                                                            'car_classification': 'cnt'})"
   ]
  },
  {
   "cell_type": "markdown",
   "id": "ffbb319a-c4d7-47d5-abc0-b8945ed407fb",
   "metadata": {},
   "source": [
    "Видим много D-SUV.\n",
    "\n",
    "Посмотрим модели, которые не являются полноразмерными E-SUV в датасете, а должны являться таковыми."
   ]
  },
  {
   "cell_type": "code",
   "execution_count": 280,
   "id": "428ab2ff-67f5-4c2c-bf6b-c172d9687e1c",
   "metadata": {},
   "outputs": [
    {
     "data": {
      "text/html": [
       "<div>\n",
       "<style scoped>\n",
       "    .dataframe tbody tr th:only-of-type {\n",
       "        vertical-align: middle;\n",
       "    }\n",
       "\n",
       "    .dataframe tbody tr th {\n",
       "        vertical-align: top;\n",
       "    }\n",
       "\n",
       "    .dataframe thead th {\n",
       "        text-align: right;\n",
       "    }\n",
       "</style>\n",
       "<table border=\"1\" class=\"dataframe\">\n",
       "  <thead>\n",
       "    <tr style=\"text-align: right;\">\n",
       "      <th></th>\n",
       "      <th>brand</th>\n",
       "      <th>model</th>\n",
       "      <th>cnt</th>\n",
       "    </tr>\n",
       "  </thead>\n",
       "  <tbody>\n",
       "    <tr>\n",
       "      <th>0</th>\n",
       "      <td>Toyota</td>\n",
       "      <td>LC Prado</td>\n",
       "      <td>1711</td>\n",
       "    </tr>\n",
       "    <tr>\n",
       "      <th>1</th>\n",
       "      <td>Lexus</td>\n",
       "      <td>RX</td>\n",
       "      <td>442</td>\n",
       "    </tr>\n",
       "    <tr>\n",
       "      <th>2</th>\n",
       "      <td>Toyota</td>\n",
       "      <td>HIGHLANDER</td>\n",
       "      <td>197</td>\n",
       "    </tr>\n",
       "    <tr>\n",
       "      <th>3</th>\n",
       "      <td>Nissan</td>\n",
       "      <td>Murano</td>\n",
       "      <td>23</td>\n",
       "    </tr>\n",
       "    <tr>\n",
       "      <th>4</th>\n",
       "      <td>Infiniti</td>\n",
       "      <td>QX60</td>\n",
       "      <td>14</td>\n",
       "    </tr>\n",
       "    <tr>\n",
       "      <th>5</th>\n",
       "      <td>Land Rover</td>\n",
       "      <td>Discovery</td>\n",
       "      <td>7</td>\n",
       "    </tr>\n",
       "    <tr>\n",
       "      <th>6</th>\n",
       "      <td>Mitsubishi</td>\n",
       "      <td>Pajero IV</td>\n",
       "      <td>7</td>\n",
       "    </tr>\n",
       "    <tr>\n",
       "      <th>7</th>\n",
       "      <td>Volkswagen</td>\n",
       "      <td>Touareg</td>\n",
       "      <td>7</td>\n",
       "    </tr>\n",
       "    <tr>\n",
       "      <th>8</th>\n",
       "      <td>Lexus</td>\n",
       "      <td>RXH</td>\n",
       "      <td>2</td>\n",
       "    </tr>\n",
       "  </tbody>\n",
       "</table>\n",
       "</div>"
      ],
      "text/plain": [
       "        brand       model   cnt\n",
       "0      Toyota    LC Prado  1711\n",
       "1       Lexus          RX   442\n",
       "2      Toyota  HIGHLANDER   197\n",
       "3      Nissan      Murano    23\n",
       "4    Infiniti        QX60    14\n",
       "5  Land Rover   Discovery     7\n",
       "6  Mitsubishi   Pajero IV     7\n",
       "7  Volkswagen     Touareg     7\n",
       "8       Lexus         RXH     2"
      ]
     },
     "execution_count": 280,
     "metadata": {},
     "output_type": "execute_result"
    }
   ],
   "source": [
    "df.loc[(df['model'].isin(e_suv_class)) & ~(df['car_classification'] == 'Полноразмерные SUV'), ['brand', 'model']].value_counts()\\\n",
    "                                                                                                                  .reset_index()\\\n",
    "                                                                                                                  .rename(columns={0: 'cnt'})"
   ]
  },
  {
   "cell_type": "markdown",
   "id": "8d5253a8-e5e7-4241-be30-6627c30f9695",
   "metadata": {},
   "source": [
    "Много чего не сходится."
   ]
  },
  {
   "cell_type": "markdown",
   "id": "8f171cf6-fd93-4606-b968-5aa708575cc9",
   "metadata": {},
   "source": [
    "Посмотрим, есть ли модели, которые по ошибке посчитали E-SUV."
   ]
  },
  {
   "cell_type": "code",
   "execution_count": 281,
   "id": "31641c78-26a8-4678-ae7f-e73dc394b27b",
   "metadata": {},
   "outputs": [
    {
     "data": {
      "text/html": [
       "<div>\n",
       "<style scoped>\n",
       "    .dataframe tbody tr th:only-of-type {\n",
       "        vertical-align: middle;\n",
       "    }\n",
       "\n",
       "    .dataframe tbody tr th {\n",
       "        vertical-align: top;\n",
       "    }\n",
       "\n",
       "    .dataframe thead th {\n",
       "        text-align: right;\n",
       "    }\n",
       "</style>\n",
       "<table border=\"1\" class=\"dataframe\">\n",
       "  <thead>\n",
       "    <tr style=\"text-align: right;\">\n",
       "      <th></th>\n",
       "      <th>brand</th>\n",
       "      <th>model</th>\n",
       "      <th>cnt</th>\n",
       "    </tr>\n",
       "  </thead>\n",
       "  <tbody>\n",
       "    <tr>\n",
       "      <th>0</th>\n",
       "      <td>Toyota</td>\n",
       "      <td>LC200</td>\n",
       "      <td>779</td>\n",
       "    </tr>\n",
       "    <tr>\n",
       "      <th>1</th>\n",
       "      <td>Lexus</td>\n",
       "      <td>LX</td>\n",
       "      <td>332</td>\n",
       "    </tr>\n",
       "    <tr>\n",
       "      <th>2</th>\n",
       "      <td>Land Rover</td>\n",
       "      <td>Range Rover</td>\n",
       "      <td>85</td>\n",
       "    </tr>\n",
       "    <tr>\n",
       "      <th>3</th>\n",
       "      <td>Cadillac</td>\n",
       "      <td>Escalade</td>\n",
       "      <td>70</td>\n",
       "    </tr>\n",
       "    <tr>\n",
       "      <th>4</th>\n",
       "      <td>Infiniti</td>\n",
       "      <td>QX80</td>\n",
       "      <td>42</td>\n",
       "    </tr>\n",
       "    <tr>\n",
       "      <th>5</th>\n",
       "      <td>BMW</td>\n",
       "      <td>X7</td>\n",
       "      <td>30</td>\n",
       "    </tr>\n",
       "    <tr>\n",
       "      <th>6</th>\n",
       "      <td>Mercedes-Benz</td>\n",
       "      <td>GLS-Class</td>\n",
       "      <td>9</td>\n",
       "    </tr>\n",
       "    <tr>\n",
       "      <th>7</th>\n",
       "      <td>Chevrolet</td>\n",
       "      <td>Traverse</td>\n",
       "      <td>7</td>\n",
       "    </tr>\n",
       "  </tbody>\n",
       "</table>\n",
       "</div>"
      ],
      "text/plain": [
       "           brand        model  cnt\n",
       "0         Toyota        LC200  779\n",
       "1          Lexus           LX  332\n",
       "2     Land Rover  Range Rover   85\n",
       "3       Cadillac     Escalade   70\n",
       "4       Infiniti         QX80   42\n",
       "5            BMW           X7   30\n",
       "6  Mercedes-Benz    GLS-Class    9\n",
       "7      Chevrolet     Traverse    7"
      ]
     },
     "execution_count": 281,
     "metadata": {},
     "output_type": "execute_result"
    }
   ],
   "source": [
    "df.loc[(df['car_classification'] == 'Полноразмерные SUV') & ~(df['model'].isin(e_suv_class)), ['brand', 'model']].value_counts()\\\n",
    "                                                                                                                 .reset_index()\\\n",
    "                                                                                                                 .rename(columns={0: 'cnt'})"
   ]
  },
  {
   "cell_type": "markdown",
   "id": "777efeea-6ad5-4bdb-8b90-51e49a200307",
   "metadata": {},
   "source": [
    "По большому счёту, это не ошибки. Просто они не в своей корзине (F-SUV) полноразмерных внедорожников."
   ]
  },
  {
   "cell_type": "markdown",
   "id": "fc23645e-a1a3-4626-97fd-f98a2f2b046a",
   "metadata": {},
   "source": [
    "Переименуем название класса.\\\n",
    "Зафиксируем название до и после переименования."
   ]
  },
  {
   "cell_type": "code",
   "execution_count": 282,
   "id": "38c5cfc4-f845-48bc-a6a7-26c62422f770",
   "metadata": {},
   "outputs": [
    {
     "name": "stdout",
     "output_type": "stream",
     "text": [
      "Было: Полноразмерные SUV\n"
     ]
    }
   ],
   "source": [
    "print(f\"Было: {df.loc[df['model'].isin(e_suv_class), 'car_classification'].unique()[0]}\")"
   ]
  },
  {
   "cell_type": "code",
   "execution_count": 283,
   "id": "c8f3f700-b405-4aa5-80fd-127dc7f4a224",
   "metadata": {},
   "outputs": [],
   "source": [
    "# Полноразмерные SUV > E-SUV\n",
    "df.loc[df['model'].isin(e_suv_class), 'car_classification'] = 'E-SUV'"
   ]
  },
  {
   "cell_type": "code",
   "execution_count": 284,
   "id": "8d7e3d0f-5260-4102-9e9d-3b7c9345ab02",
   "metadata": {},
   "outputs": [
    {
     "name": "stdout",
     "output_type": "stream",
     "text": [
      "Стало: E-SUV\n"
     ]
    }
   ],
   "source": [
    "print(f\"Стало: {df.loc[df['model'].isin(e_suv_class), 'car_classification'].unique()[0]}\")"
   ]
  },
  {
   "cell_type": "markdown",
   "id": "5f0c1b13-d2bf-43bb-b7eb-ed3d14f78d63",
   "metadata": {},
   "source": [
    "<br>"
   ]
  },
  {
   "cell_type": "markdown",
   "id": "667bc519-eedd-448b-b4e1-ada893af145b",
   "metadata": {},
   "source": [
    "##### `F-SUV класс`"
   ]
  },
  {
   "cell_type": "markdown",
   "id": "750549f4-063f-4fd0-b60e-5dba8de45228",
   "metadata": {},
   "source": [
    "F-SUV класс — это полноразмерные, гигантские кроссоверы и внедорожники."
   ]
  },
  {
   "cell_type": "code",
   "execution_count": 285,
   "id": "6d301099-2b83-4927-b4c4-3047428df0ed",
   "metadata": {},
   "outputs": [],
   "source": [
    "# F-SUV класс\n",
    "f_suv_class = ['X7', 'Escalade', 'Tahoe', 'Traverse', 'QX80', 'Range Rover', 'LX', 'GLS-Class', 'LC200']"
   ]
  },
  {
   "cell_type": "markdown",
   "id": "4e5b63de-94a3-4c5d-8fd7-03f78c39cdb9",
   "metadata": {},
   "source": [
    "Проверка, не совершил ли я опечатку в списке."
   ]
  },
  {
   "cell_type": "code",
   "execution_count": 286,
   "id": "a0f18464-369d-44f7-98a4-9c86e9aa8932",
   "metadata": {},
   "outputs": [
    {
     "name": "stdout",
     "output_type": "stream",
     "text": [
      "Опечаток нет, все модели из переменной f_suv_class есть в колонке 'model'.\n"
     ]
    }
   ],
   "source": [
    "# флаг\n",
    "all_present = True\n",
    "\n",
    "for model in f_suv_class:\n",
    "    if model not in df['model'].unique():\n",
    "        print(f\"Опечатка. Модель {model} отсутствует в колонке 'model'.\")\n",
    "        all_correct = False\n",
    "\n",
    "if all_present == True:\n",
    "    print(f\"Опечаток нет, все модели из переменной f_suv_class есть в колонке 'model'.\")"
   ]
  },
  {
   "cell_type": "markdown",
   "id": "97ea5e4e-d4bf-4b55-89a2-bade015f9c0b",
   "metadata": {},
   "source": [
    "Посмотрим, все ли модели из списка являются E-SUV классом в датасете."
   ]
  },
  {
   "cell_type": "code",
   "execution_count": 287,
   "id": "23001c85-ea2a-4d92-b704-4be8ffa0e801",
   "metadata": {},
   "outputs": [
    {
     "data": {
      "text/html": [
       "<div>\n",
       "<style scoped>\n",
       "    .dataframe tbody tr th:only-of-type {\n",
       "        vertical-align: middle;\n",
       "    }\n",
       "\n",
       "    .dataframe tbody tr th {\n",
       "        vertical-align: top;\n",
       "    }\n",
       "\n",
       "    .dataframe thead th {\n",
       "        text-align: right;\n",
       "    }\n",
       "</style>\n",
       "<table border=\"1\" class=\"dataframe\">\n",
       "  <thead>\n",
       "    <tr style=\"text-align: right;\">\n",
       "      <th></th>\n",
       "      <th>class</th>\n",
       "      <th>cnt</th>\n",
       "    </tr>\n",
       "  </thead>\n",
       "  <tbody>\n",
       "    <tr>\n",
       "      <th>0</th>\n",
       "      <td>Полноразмерные SUV</td>\n",
       "      <td>1354</td>\n",
       "    </tr>\n",
       "    <tr>\n",
       "      <th>1</th>\n",
       "      <td>Среднеразмерные SUV</td>\n",
       "      <td>20</td>\n",
       "    </tr>\n",
       "  </tbody>\n",
       "</table>\n",
       "</div>"
      ],
      "text/plain": [
       "                 class   cnt\n",
       "0   Полноразмерные SUV  1354\n",
       "1  Среднеразмерные SUV    20"
      ]
     },
     "execution_count": 287,
     "metadata": {},
     "output_type": "execute_result"
    }
   ],
   "source": [
    "# распределение значений классификаций авто, по моделям из списка \n",
    "df.loc[df['model'].isin(f_suv_class), 'car_classification'].value_counts()\\\n",
    "                                                           .reset_index()\\\n",
    "                                                           .rename(columns={'index': 'class',\n",
    "                                                                            'car_classification': 'cnt'})"
   ]
  },
  {
   "cell_type": "markdown",
   "id": "962af0a3-4ee2-4ce5-ba7c-f1758ecd05c9",
   "metadata": {},
   "source": [
    "Среди этих гигантов есть $20$ скромняг.\n",
    "\n",
    "Посмотрим модели, которые не являются полноразмерными (гигантскими) F-SUV в датасете, а должны являться таковыми."
   ]
  },
  {
   "cell_type": "code",
   "execution_count": 288,
   "id": "3ccd3ebe-0c4d-417e-adb0-be66c1028cab",
   "metadata": {},
   "outputs": [
    {
     "data": {
      "text/html": [
       "<div>\n",
       "<style scoped>\n",
       "    .dataframe tbody tr th:only-of-type {\n",
       "        vertical-align: middle;\n",
       "    }\n",
       "\n",
       "    .dataframe tbody tr th {\n",
       "        vertical-align: top;\n",
       "    }\n",
       "\n",
       "    .dataframe thead th {\n",
       "        text-align: right;\n",
       "    }\n",
       "</style>\n",
       "<table border=\"1\" class=\"dataframe\">\n",
       "  <thead>\n",
       "    <tr style=\"text-align: right;\">\n",
       "      <th></th>\n",
       "      <th>brand</th>\n",
       "      <th>model</th>\n",
       "      <th>cnt</th>\n",
       "    </tr>\n",
       "  </thead>\n",
       "  <tbody>\n",
       "    <tr>\n",
       "      <th>0</th>\n",
       "      <td>Chevrolet</td>\n",
       "      <td>Tahoe</td>\n",
       "      <td>20</td>\n",
       "    </tr>\n",
       "  </tbody>\n",
       "</table>\n",
       "</div>"
      ],
      "text/plain": [
       "       brand  model  cnt\n",
       "0  Chevrolet  Tahoe   20"
      ]
     },
     "execution_count": 288,
     "metadata": {},
     "output_type": "execute_result"
    }
   ],
   "source": [
    "df.loc[(df['model'].isin(f_suv_class)) & ~(df['car_classification'] == 'Полноразмерные SUV'), ['brand', 'model']].value_counts()\\\n",
    "                                                                                                                 .reset_index()\\\n",
    "                                                                                                                 .rename(columns={0: 'cnt'})"
   ]
  },
  {
   "cell_type": "markdown",
   "id": "8a686454-63cf-409b-9dd4-d321affb678e",
   "metadata": {},
   "source": [
    "Tahoe — очень большая машина."
   ]
  },
  {
   "cell_type": "markdown",
   "id": "d77e5f08-0867-40c5-8532-a8ba2cd524c8",
   "metadata": {},
   "source": [
    "Посмотрим, есть ли модели, которые по ошибке посчитали F-SUV."
   ]
  },
  {
   "cell_type": "code",
   "execution_count": 289,
   "id": "f97a68d1-2bb2-43c4-b45c-4bdad9d04f30",
   "metadata": {},
   "outputs": [
    {
     "data": {
      "text/html": [
       "<div>\n",
       "<style scoped>\n",
       "    .dataframe tbody tr th:only-of-type {\n",
       "        vertical-align: middle;\n",
       "    }\n",
       "\n",
       "    .dataframe tbody tr th {\n",
       "        vertical-align: top;\n",
       "    }\n",
       "\n",
       "    .dataframe thead th {\n",
       "        text-align: right;\n",
       "    }\n",
       "</style>\n",
       "<table border=\"1\" class=\"dataframe\">\n",
       "  <thead>\n",
       "    <tr style=\"text-align: right;\">\n",
       "      <th></th>\n",
       "      <th>brand</th>\n",
       "      <th>model</th>\n",
       "      <th>cnt</th>\n",
       "    </tr>\n",
       "  </thead>\n",
       "  <tbody>\n",
       "  </tbody>\n",
       "</table>\n",
       "</div>"
      ],
      "text/plain": [
       "Empty DataFrame\n",
       "Columns: [brand, model, cnt]\n",
       "Index: []"
      ]
     },
     "execution_count": 289,
     "metadata": {},
     "output_type": "execute_result"
    }
   ],
   "source": [
    "df.loc[(df['car_classification'] == 'Полноразмерные SUV') & ~(df['model'].isin(f_suv_class)), ['brand', 'model']].value_counts()\\\n",
    "                                                                                                                 .reset_index()\\\n",
    "                                                                                                                 .rename(columns={0: 'cnt'})"
   ]
  },
  {
   "cell_type": "markdown",
   "id": "8ae59e95-dade-47fc-81c2-f56aaee9102d",
   "metadata": {},
   "source": [
    "Таких нет."
   ]
  },
  {
   "cell_type": "markdown",
   "id": "18121fdc-f265-40c6-8b8c-2c1413d506af",
   "metadata": {},
   "source": [
    "Переименуем название класса.\\\n",
    "Зафиксируем название до и после переименования."
   ]
  },
  {
   "cell_type": "code",
   "execution_count": 290,
   "id": "259263a9-d25b-4337-aa2c-572df7763f56",
   "metadata": {},
   "outputs": [
    {
     "name": "stdout",
     "output_type": "stream",
     "text": [
      "Было: Полноразмерные SUV\n"
     ]
    }
   ],
   "source": [
    "print(f\"Было: {df.loc[df['model'].isin(f_suv_class), 'car_classification'].unique()[0]}\")"
   ]
  },
  {
   "cell_type": "code",
   "execution_count": 291,
   "id": "e874e869-5510-40bf-b761-024de1a06cb7",
   "metadata": {},
   "outputs": [],
   "source": [
    "# Полноразмерные SUV > F-SUV\n",
    "df.loc[df['model'].isin(f_suv_class), 'car_classification'] = 'F-SUV'"
   ]
  },
  {
   "cell_type": "code",
   "execution_count": 292,
   "id": "ec2e2d9d-35f2-47d1-a2a6-b502fcbde135",
   "metadata": {},
   "outputs": [
    {
     "name": "stdout",
     "output_type": "stream",
     "text": [
      "Стало: F-SUV\n"
     ]
    }
   ],
   "source": [
    "print(f\"Стало: {df.loc[df['model'].isin(f_suv_class), 'car_classification'].unique()[0]}\")"
   ]
  },
  {
   "cell_type": "markdown",
   "id": "db08ef6e-b6d8-4258-a6ca-999ba51fd430",
   "metadata": {},
   "source": [
    "<br>"
   ]
  },
  {
   "cell_type": "markdown",
   "id": "638a313b-d6cd-4f60-81d2-5c89e6daa39e",
   "metadata": {},
   "source": [
    "Осталась нетронутой только одна модель, которая причислена к Компактным SUV, а она должна быть причислена к пикапам — это Jac T6."
   ]
  },
  {
   "cell_type": "code",
   "execution_count": 293,
   "id": "32303a97-d0b2-40a3-ae1b-f820c2711cab",
   "metadata": {},
   "outputs": [
    {
     "data": {
      "text/plain": [
       "'Компактные SUV'"
      ]
     },
     "execution_count": 293,
     "metadata": {},
     "output_type": "execute_result"
    }
   ],
   "source": [
    "df[df['model'] == 'T6']['car_classification'].unique()[0]"
   ]
  },
  {
   "cell_type": "markdown",
   "id": "6bd81341-e148-4c9a-ba77-2812bc39ad86",
   "metadata": {},
   "source": [
    "Поменяем тип."
   ]
  },
  {
   "cell_type": "code",
   "execution_count": 294,
   "id": "c1b37442-43a8-44af-8958-953ffd4fb85f",
   "metadata": {},
   "outputs": [],
   "source": [
    "df.loc[df['model'] == 'T6', 'car_classification'] = 'Pick-ups'"
   ]
  },
  {
   "cell_type": "markdown",
   "id": "d4c2a2c1-c007-4e3a-8ed7-265d885f16b5",
   "metadata": {},
   "source": [
    "Проверим смену."
   ]
  },
  {
   "cell_type": "code",
   "execution_count": 295,
   "id": "29d880b5-cefd-4b47-8a99-ae288024b24d",
   "metadata": {},
   "outputs": [
    {
     "data": {
      "text/plain": [
       "'Pick-ups'"
      ]
     },
     "execution_count": 295,
     "metadata": {},
     "output_type": "execute_result"
    }
   ],
   "source": [
    "df[df['model'] == 'T6']['car_classification'].unique()[0]"
   ]
  },
  {
   "cell_type": "markdown",
   "id": "19dcb310-92a3-4f90-bf9a-502daee533d8",
   "metadata": {},
   "source": [
    "Проверим, как теперь выглядят уникальные типы классов авто."
   ]
  },
  {
   "cell_type": "code",
   "execution_count": 296,
   "id": "17dd55d8-d0ee-4542-8349-d6ad26bdd672",
   "metadata": {},
   "outputs": [
    {
     "data": {
      "text/plain": [
       "array(['A', 'B', 'B-SUV', 'C', 'C-SUV', 'D', 'D-SUV', 'E', 'E-SUV', 'F',\n",
       "       'F-SUV', 'Pick-ups', 'S', 'Большие автобусы', 'Компактвэн',\n",
       "       'Крупнотоннажные грузовики', 'Малотоннажные грузовики',\n",
       "       'Микроавтобусы', 'Полноразмерный Минивэн', 'Развозные автомобили',\n",
       "       'Среднетоннажные грузовики', 'Средние автобусы'], dtype=object)"
      ]
     },
     "execution_count": 296,
     "metadata": {},
     "output_type": "execute_result"
    }
   ],
   "source": [
    "df['car_classification'].sort_values().unique()"
   ]
  },
  {
   "cell_type": "markdown",
   "id": "d995b5f8-810a-4253-8b6b-a20dd6f44689",
   "metadata": {},
   "source": [
    "Теперь порядок. Теперь можно приступить к анализу данных."
   ]
  },
  {
   "cell_type": "markdown",
   "id": "6d54855e-309c-4874-bacd-e2236473a38a",
   "metadata": {},
   "source": [
    "<br>"
   ]
  },
  {
   "cell_type": "markdown",
   "id": "8e90bb3f-013e-4475-a23c-0873ff951244",
   "metadata": {},
   "source": [
    "### Итоги предобработки данных"
   ]
  },
  {
   "cell_type": "markdown",
   "id": "fe94efd2-e793-420a-8d2b-8924ff4d0ab5",
   "metadata": {},
   "source": [
    "Посмотрим размер таблицы до и после обработки."
   ]
  },
  {
   "cell_type": "code",
   "execution_count": 297,
   "id": "2e937b74-d68a-427b-8715-611f46640e21",
   "metadata": {},
   "outputs": [
    {
     "name": "stdout",
     "output_type": "stream",
     "text": [
      "Размер датафрейма до обработки: 39966 строк, 25 колонки.\n",
      "Размер датафрейма после обработки: 39966 строк, 22 колонки.\n"
     ]
    }
   ],
   "source": [
    "# таблица после предобработки\n",
    "dry_shape = df.shape\n",
    "\n",
    "print(f'Размер датафрейма до обработки: {raw_shape[0]} строк, {raw_shape[1]} колонки.')\n",
    "print(f'Размер датафрейма после обработки: {dry_shape[0]} строк, {dry_shape[1]} колонки.')"
   ]
  },
  {
   "cell_type": "markdown",
   "id": "77b3b5f5-c74c-433b-bf52-5234f979f3b9",
   "metadata": {},
   "source": [
    "<br>"
   ]
  },
  {
   "cell_type": "markdown",
   "id": "02061567-2f2d-45b4-a148-477debb42387",
   "metadata": {},
   "source": [
    "**Была проделана следующая работа:**\n",
    "1. Удалили ненужные колонки.\n",
    "2. Переименовали колонки и создали новую.\n",
    "3. Заменили типы данных в колонках.\n",
    "4. Каждой строке дали по первичному ключу.\n",
    "5. Устранили неявные дубликаты.\n",
    "6. Устранили аномальные значения.\n",
    "7. Разобрались с пропущенными значениями.\n",
    "8. Устранена несуразица в значениях и классификациях.\n",
    "\n",
    "Таким образом, датасет готов к анализу."
   ]
  }
 ],
 "metadata": {
  "kernelspec": {
   "display_name": "Python 3 (ipykernel)",
   "language": "python",
   "name": "python3"
  },
  "language_info": {
   "codemirror_mode": {
    "name": "ipython",
    "version": 3
   },
   "file_extension": ".py",
   "mimetype": "text/x-python",
   "name": "python",
   "nbconvert_exporter": "python",
   "pygments_lexer": "ipython3",
   "version": "3.9.5"
  }
 },
 "nbformat": 4,
 "nbformat_minor": 5
}
